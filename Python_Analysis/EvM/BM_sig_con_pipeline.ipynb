{
 "cells": [
  {
   "cell_type": "markdown",
   "id": "sunrise-description",
   "metadata": {},
   "source": [
    "significant trials, significant GT \\n\n",
    "plot trials based on significance or sleep state"
   ]
  },
  {
   "cell_type": "code",
   "execution_count": 1,
   "id": "induced-yemen",
   "metadata": {},
   "outputs": [],
   "source": [
    "import os\n",
    "import numpy as np\n",
    "import mne\n",
    "import imageio\n",
    "import h5py\n",
    "# import scipy.fftpack\n",
    "import matplotlib\n",
    "import pywt\n",
    "from matplotlib.ticker import ScalarFormatter\n",
    "import matplotlib.gridspec as gridspec\n",
    "import matplotlib.pyplot as plt\n",
    "# from scipy import signal\n",
    "from matplotlib.colors import ListedColormap\n",
    "import time\n",
    "import seaborn as sns\n",
    "\n",
    "# import scipy.io as sio\n",
    "# from scipy.integrate import simps\n",
    "import pandas as pd\n",
    "# from scipy import fft\n",
    "import matplotlib.mlab as mlab\n",
    "import sys\n",
    "import matplotlib as mpl\n",
    "sys.path.append('T:\\EL_experiment\\Codes\\CCEP_human\\Python_Analysis\\py_functions')\n",
    "import NMF_funcs as NMFf\n",
    "import significant_connections as SCF\n",
    "from scipy.stats import norm\n",
    "import LL_funcs\n",
    "from scipy.stats import norm\n",
    "from tkinter import filedialog\n",
    "from tkinter import *\n",
    "import ntpath\n",
    "\n",
    "root = Tk()\n",
    "root.withdraw()\n",
    "import math\n",
    "import scipy\n",
    "from scipy import signal\n",
    "import pylab\n",
    "import scipy.cluster.hierarchy as sch\n",
    "from scipy.spatial.distance import squareform\n",
    "import platform\n",
    "from glob import glob\n",
    "from scipy.io import savemat\n",
    "import scipy.cluster.hierarchy as spc\n",
    "from scipy.spatial import distance\n",
    "from sklearn.cluster import KMeans\n",
    "import h5py\n",
    "import basic_func as bf\n",
    "from scipy.integrate import simps\n",
    "from numpy import trapz\n",
    "#import IO_func as IOF\n",
    "#import BM_func as BMf\n",
    "import tqdm\n",
    "from matplotlib.patches import Rectangle\n",
    "from pathlib import Path\n",
    "sub_path  ='X:\\\\4 e-Lab\\\\' # y:\\\\eLab\n",
    "import BM_plots as BMp\n",
    "import freq_funcs as ff\n",
    "import CCEP_plot\n",
    "import supp_CCEP_figures as CCEP_supp\n",
    "import random\n",
    "import math\n",
    "dist_groups = np.array([[0, 30], [30, 60], [60, 120]])\n",
    "dist_labels = ['local (<30 mm)', 'short (<60mm)', 'long']\n",
    "Fs = 500\n",
    "dur = np.zeros((1, 2), dtype=np.int32)\n",
    "t0 = 1\n",
    "dur[0, 0] = -t0\n",
    "dur[0, 1] = 3\n",
    "\n",
    "folder = 'BrainMapping'\n",
    "# dur[0,:]       = np.int32(np.sum(abs(dur)))\n",
    "x_ax = np.arange(dur[0, 0], dur[0, 1], (1 / Fs))\n",
    "color_elab = np.zeros((3, 3))\n",
    "color_elab[0, :] = np.array([31, 78, 121]) / 255\n",
    "color_elab[1, :] = np.array([189, 215, 238]) / 255\n",
    "color_elab[2, :] = np.array([0.256, 0.574, 0.431])\n",
    "cwd = os.getcwd()\n",
    "color_sleep = ['#808080', '#145da0', '#ff1919']\n",
    "label_sleep = ['Wake', 'NREM', 'REM']\n",
    "color_dist = ['0000FF','#0076C4','#00DD91']"
   ]
  },
  {
   "cell_type": "code",
   "execution_count": 2,
   "id": "local-thought",
   "metadata": {},
   "outputs": [],
   "source": [
    "cond_folder = 'CR'\n",
    "path_gen_base = sub_path + '\\Patients'"
   ]
  },
  {
   "cell_type": "code",
   "execution_count": 3,
   "id": "0eab169b",
   "metadata": {},
   "outputs": [],
   "source": [
    "plt.rcParams.update({\n",
    "            'font.family': 'arial',\n",
    "            'font.size': 12,\n",
    "            'xtick.labelsize': 8,\n",
    "            'ytick.labelsize': 8,\n",
    "            'legend.fontsize': 9,\n",
    "            'svg.fonttype': 'none',\n",
    "            'font.size': 10,\n",
    "            'axes.titlesize': 10,\n",
    "            'axes.labelsize': 8,\n",
    "            'xtick.labelsize': 8,\n",
    "            'ytick.labelsize': 8,\n",
    "            'legend.fontsize': 9,\n",
    "            'figure.titlesize': 10\n",
    "        })"
   ]
  },
  {
   "cell_type": "code",
   "execution_count": 4,
   "id": "uniform-zambia",
   "metadata": {},
   "outputs": [],
   "source": [
    "subj = \"EL011\"\n",
    "path_patient_analysis = os.path.join(sub_path, 'EvM', 'Projects', 'EL_experiment', 'Analysis', 'Patients', subj)\n",
    "\n",
    "path_gen = os.path.join(sub_path+'\\Patients\\\\' + subj)\n",
    "if not os.path.exists(path_gen):\n",
    "    path_gen = 'T:\\\\EL_experiment\\\\Patients\\\\' + subj\n",
    "path_patient = path_gen + '\\Data\\EL_experiment'  # os.path.dirname(os.path.dirname(cwd))+'/Patients/'+subj\n",
    "path_infos = os.path.join(path_gen, 'Electrodes')\n",
    "# labels\n",
    "files_list = glob(path_patient_analysis + '\\\\' + folder + '/data/Stim_list_*')\n",
    "i = 0\n",
    "stimlist_file = path_patient_analysis + '\\\\' + folder + '\\\\' + cond_folder + '\\\\data\\\\stimlist_' + cond_folder + '.csv'\n",
    "stimlist = pd.read_csv(stimlist_file)\n",
    "lbls = pd.read_excel(os.path.join(path_infos, subj + \"_labels.xlsx\"), header=0, sheet_name='BP')\n",
    "if \"type\" in lbls.columns:\n",
    "    lbls = lbls[lbls.type=='SEEG']\n",
    "    lbls = lbls.reset_index(drop=True)\n",
    "labels_all, labels_region, labels_clinic, coord_all, StimChans, StimChanSM, StimChansC, StimChanIx, stimlist = bf.get_Stim_chans(\n",
    "    stimlist,\n",
    "    lbls)\n",
    "stimlist_sleep = pd.read_csv(os.path.join(path_patient_analysis, 'stimlist_hypnogram.csv'))\n",
    "file_con = path_patient_analysis + '\\\\' + folder + '/' + cond_folder + '/data/con_trial_all.csv'\n",
    "con_trial = pd.read_csv(file_con)\n",
    "badchans = pd.read_csv(path_patient_analysis + '/BrainMapping/data/badchan.csv')\n",
    "bad_chans = np.unique(np.array(np.where(badchans.values[:, 1:] == 1))[0, :])"
   ]
  },
  {
   "cell_type": "code",
   "execution_count": 5,
   "id": "enormous-principal",
   "metadata": {},
   "outputs": [
    {
     "name": "stdout",
     "output_type": "stream",
     "text": [
      "loading h5\n",
      "(87, 10344, 2000)\n",
      "10344\n",
      "10344\n"
     ]
    }
   ],
   "source": [
    "h5_file = path_patient_analysis + '\\\\' + folder + '\\\\' + cond_folder + '\\\\data\\\\EEG_' + cond_folder + '.h5'\n",
    "if os.path.isfile(h5_file):\n",
    "    print('loading h5')\n",
    "    EEG_resp = h5py.File(h5_file)\n",
    "    EEG_resp = EEG_resp['EEG_resp']\n",
    "print(EEG_resp.shape)\n",
    "print(len(stimlist))\n",
    "print(np.max(con_trial.Num)+1)"
   ]
  },
  {
   "cell_type": "code",
   "execution_count": 6,
   "id": "c508c874",
   "metadata": {},
   "outputs": [
    {
     "name": "stdout",
     "output_type": "stream",
     "text": [
      "loading h5\n"
     ]
    }
   ],
   "source": [
    "h5_file = path_patient_analysis + '\\\\' + folder + '\\\\data\\\\M_CC_similarity.h5'\n",
    "if os.path.isfile(h5_file):\n",
    "    print('loading h5')\n",
    "    CC = h5py.File(h5_file)\n",
    "    CC = CC['M_GT_all']"
   ]
  },
  {
   "cell_type": "code",
   "execution_count": 7,
   "id": "31b772c3",
   "metadata": {},
   "outputs": [
    {
     "name": "stdout",
     "output_type": "stream",
     "text": [
      "loading h5\n"
     ]
    }
   ],
   "source": [
    "h5_file = path_patient_analysis + '\\\\' + folder + '\\\\data\\\\LL_CC_surr_similarity.h5'\n",
    "if os.path.isfile(h5_file):\n",
    "    print('loading h5')\n",
    "    CC_surr = h5py.File(h5_file)\n",
    "    CC_WOI = CC_surr['CC_WOI']\n",
    "    CC_surr = CC_surr['CC_LL_surr']"
   ]
  },
  {
   "cell_type": "code",
   "execution_count": 8,
   "id": "58752588",
   "metadata": {},
   "outputs": [],
   "source": [
    "rc = 19 \n",
    "# LL_surr, _, _, _ = SCF.get_CC_surr(rc, con_trial, EEG_resp, 100)"
   ]
  },
  {
   "cell_type": "markdown",
   "id": "7bdf5357",
   "metadata": {},
   "source": [
    "### CCEP and LL"
   ]
  },
  {
   "cell_type": "code",
   "execution_count": 9,
   "id": "da404e59",
   "metadata": {},
   "outputs": [
    {
     "name": "stdout",
     "output_type": "stream",
     "text": [
      "0.12\n",
      "0.218\n",
      "0.116\n",
      "0.12\n"
     ]
    },
    {
     "data": {
      "image/png": "[encoded data removed]",
      "text/plain": [
       "<Figure size 720x288 with 8 Axes>"
      ]
     },
     "metadata": {},
     "output_type": "display_data"
    }
   ],
   "source": [
    "CCEP_supp.plot_CCEP_LL(EEG_resp, con_trial, labels_all, [38,19,3,14], [6, 65, 15,16], w_LL = 0.25, Fs = 500, t0 = 1)\n",
    "plt.savefig('X:\\\\4 e-Lab\\EvM\\Projects\\EL_experiment\\Analysis\\Supp_figures\\CCEP\\CCEP_LL_examples.svg')\n",
    "plt.show()"
   ]
  },
  {
   "cell_type": "code",
   "execution_count": 10,
   "id": "04506f27",
   "metadata": {},
   "outputs": [],
   "source": [
    "cluster_method = 'similarity'\n",
    "file_CC_summ = path_patient_analysis + '\\\\' + folder + '\\\\data\\\\CC_summ_' + cluster_method + '.csv'\n",
    "file_CC_summ = path_patient_analysis + '\\\\' + folder + '\\\\data\\\\CC_summ_' + cluster_method + '.csv'\n",
    "CC_summ = pd.read_csv(file_CC_summ)"
   ]
  },
  {
   "cell_type": "code",
   "execution_count": 11,
   "id": "7733bfb3",
   "metadata": {},
   "outputs": [
    {
     "data": {
      "text/html": [
       "<div>\n",
       "<style scoped>\n",
       "    .dataframe tbody tr th:only-of-type {\n",
       "        vertical-align: middle;\n",
       "    }\n",
       "\n",
       "    .dataframe tbody tr th {\n",
       "        vertical-align: top;\n",
       "    }\n",
       "\n",
       "    .dataframe thead th {\n",
       "        text-align: right;\n",
       "    }\n",
       "</style>\n",
       "<table border=\"1\" class=\"dataframe\">\n",
       "  <thead>\n",
       "    <tr style=\"text-align: right;\">\n",
       "      <th></th>\n",
       "      <th>Subj</th>\n",
       "      <th>Stim</th>\n",
       "      <th>Chan</th>\n",
       "      <th>CC</th>\n",
       "      <th>LL_WOI</th>\n",
       "      <th>t_WOI</th>\n",
       "      <th>LL_pk</th>\n",
       "      <th>sig</th>\n",
       "      <th>sig_w</th>\n",
       "      <th>art</th>\n",
       "      <th>d</th>\n",
       "    </tr>\n",
       "  </thead>\n",
       "  <tbody>\n",
       "    <tr>\n",
       "      <th>0</th>\n",
       "      <td>EL011</td>\n",
       "      <td>0.0</td>\n",
       "      <td>2.0</td>\n",
       "      <td>1.0</td>\n",
       "      <td>2.318737</td>\n",
       "      <td>0.0</td>\n",
       "      <td>2.318737</td>\n",
       "      <td>1.5</td>\n",
       "      <td>1.0</td>\n",
       "      <td>0.0</td>\n",
       "      <td>7.0</td>\n",
       "    </tr>\n",
       "    <tr>\n",
       "      <th>1</th>\n",
       "      <td>EL011</td>\n",
       "      <td>0.0</td>\n",
       "      <td>2.0</td>\n",
       "      <td>2.0</td>\n",
       "      <td>2.277909</td>\n",
       "      <td>0.0</td>\n",
       "      <td>2.278988</td>\n",
       "      <td>1.5</td>\n",
       "      <td>1.0</td>\n",
       "      <td>0.0</td>\n",
       "      <td>7.0</td>\n",
       "    </tr>\n",
       "    <tr>\n",
       "      <th>2</th>\n",
       "      <td>EL011</td>\n",
       "      <td>0.0</td>\n",
       "      <td>3.0</td>\n",
       "      <td>1.0</td>\n",
       "      <td>1.722823</td>\n",
       "      <td>0.0</td>\n",
       "      <td>1.722823</td>\n",
       "      <td>1.5</td>\n",
       "      <td>1.0</td>\n",
       "      <td>0.0</td>\n",
       "      <td>10.5</td>\n",
       "    </tr>\n",
       "    <tr>\n",
       "      <th>3</th>\n",
       "      <td>EL011</td>\n",
       "      <td>0.0</td>\n",
       "      <td>3.0</td>\n",
       "      <td>2.0</td>\n",
       "      <td>1.382296</td>\n",
       "      <td>0.0</td>\n",
       "      <td>1.382296</td>\n",
       "      <td>1.5</td>\n",
       "      <td>1.0</td>\n",
       "      <td>0.0</td>\n",
       "      <td>10.5</td>\n",
       "    </tr>\n",
       "    <tr>\n",
       "      <th>4</th>\n",
       "      <td>EL011</td>\n",
       "      <td>0.0</td>\n",
       "      <td>4.0</td>\n",
       "      <td>1.0</td>\n",
       "      <td>1.129677</td>\n",
       "      <td>0.0</td>\n",
       "      <td>1.129677</td>\n",
       "      <td>1.5</td>\n",
       "      <td>1.0</td>\n",
       "      <td>0.0</td>\n",
       "      <td>14.0</td>\n",
       "    </tr>\n",
       "    <tr>\n",
       "      <th>...</th>\n",
       "      <td>...</td>\n",
       "      <td>...</td>\n",
       "      <td>...</td>\n",
       "      <td>...</td>\n",
       "      <td>...</td>\n",
       "      <td>...</td>\n",
       "      <td>...</td>\n",
       "      <td>...</td>\n",
       "      <td>...</td>\n",
       "      <td>...</td>\n",
       "      <td>...</td>\n",
       "    </tr>\n",
       "    <tr>\n",
       "      <th>4909</th>\n",
       "      <td>EL011</td>\n",
       "      <td>86.0</td>\n",
       "      <td>74.0</td>\n",
       "      <td>2.0</td>\n",
       "      <td>0.981254</td>\n",
       "      <td>0.0</td>\n",
       "      <td>0.986290</td>\n",
       "      <td>1.5</td>\n",
       "      <td>1.0</td>\n",
       "      <td>0.0</td>\n",
       "      <td>42.0</td>\n",
       "    </tr>\n",
       "    <tr>\n",
       "      <th>4910</th>\n",
       "      <td>EL011</td>\n",
       "      <td>86.0</td>\n",
       "      <td>75.0</td>\n",
       "      <td>1.0</td>\n",
       "      <td>1.741097</td>\n",
       "      <td>0.0</td>\n",
       "      <td>1.741097</td>\n",
       "      <td>1.5</td>\n",
       "      <td>1.0</td>\n",
       "      <td>0.0</td>\n",
       "      <td>38.5</td>\n",
       "    </tr>\n",
       "    <tr>\n",
       "      <th>4911</th>\n",
       "      <td>EL011</td>\n",
       "      <td>86.0</td>\n",
       "      <td>75.0</td>\n",
       "      <td>2.0</td>\n",
       "      <td>1.971886</td>\n",
       "      <td>0.0</td>\n",
       "      <td>1.971886</td>\n",
       "      <td>1.5</td>\n",
       "      <td>1.0</td>\n",
       "      <td>0.0</td>\n",
       "      <td>38.5</td>\n",
       "    </tr>\n",
       "    <tr>\n",
       "      <th>4912</th>\n",
       "      <td>EL011</td>\n",
       "      <td>86.0</td>\n",
       "      <td>76.0</td>\n",
       "      <td>1.0</td>\n",
       "      <td>2.241590</td>\n",
       "      <td>0.0</td>\n",
       "      <td>2.241590</td>\n",
       "      <td>1.5</td>\n",
       "      <td>1.0</td>\n",
       "      <td>0.0</td>\n",
       "      <td>35.0</td>\n",
       "    </tr>\n",
       "    <tr>\n",
       "      <th>4913</th>\n",
       "      <td>EL011</td>\n",
       "      <td>86.0</td>\n",
       "      <td>76.0</td>\n",
       "      <td>2.0</td>\n",
       "      <td>2.584382</td>\n",
       "      <td>0.0</td>\n",
       "      <td>2.584382</td>\n",
       "      <td>1.5</td>\n",
       "      <td>1.0</td>\n",
       "      <td>0.0</td>\n",
       "      <td>35.0</td>\n",
       "    </tr>\n",
       "  </tbody>\n",
       "</table>\n",
       "<p>4914 rows × 11 columns</p>\n",
       "</div>"
      ],
      "text/plain": [
       "       Subj  Stim  Chan   CC    LL_WOI  t_WOI     LL_pk  sig  sig_w  art     d\n",
       "0     EL011   0.0   2.0  1.0  2.318737    0.0  2.318737  1.5    1.0  0.0   7.0\n",
       "1     EL011   0.0   2.0  2.0  2.277909    0.0  2.278988  1.5    1.0  0.0   7.0\n",
       "2     EL011   0.0   3.0  1.0  1.722823    0.0  1.722823  1.5    1.0  0.0  10.5\n",
       "3     EL011   0.0   3.0  2.0  1.382296    0.0  1.382296  1.5    1.0  0.0  10.5\n",
       "4     EL011   0.0   4.0  1.0  1.129677    0.0  1.129677  1.5    1.0  0.0  14.0\n",
       "...     ...   ...   ...  ...       ...    ...       ...  ...    ...  ...   ...\n",
       "4909  EL011  86.0  74.0  2.0  0.981254    0.0  0.986290  1.5    1.0  0.0  42.0\n",
       "4910  EL011  86.0  75.0  1.0  1.741097    0.0  1.741097  1.5    1.0  0.0  38.5\n",
       "4911  EL011  86.0  75.0  2.0  1.971886    0.0  1.971886  1.5    1.0  0.0  38.5\n",
       "4912  EL011  86.0  76.0  1.0  2.241590    0.0  2.241590  1.5    1.0  0.0  35.0\n",
       "4913  EL011  86.0  76.0  2.0  2.584382    0.0  2.584382  1.5    1.0  0.0  35.0\n",
       "\n",
       "[4914 rows x 11 columns]"
      ]
     },
     "execution_count": 11,
     "metadata": {},
     "output_type": "execute_result"
    }
   ],
   "source": [
    "CC_summ"
   ]
  },
  {
   "cell_type": "code",
   "execution_count": 15,
   "id": "402f5d70",
   "metadata": {},
   "outputs": [
    {
     "name": "stdout",
     "output_type": "stream",
     "text": [
      "46.0 5.0\n"
     ]
    }
   ],
   "source": [
    "k = 700\n",
    "stim = CC_summ.loc[(CC_summ.sig ==1.5)&(CC_summ.t_WOI>0.01), 'Stim'].values[k]\n",
    "chan =CC_summ.loc[(CC_summ.sig ==1.5)&(CC_summ.t_WOI>0.01), 'Chan'].values[k]\n",
    "print(stim, chan)"
   ]
  },
  {
   "cell_type": "code",
   "execution_count": 16,
   "id": "d945ff2c",
   "metadata": {},
   "outputs": [
    {
     "data": {
      "image/png": "[encoded data removed]",
      "text/plain": [
       "<Figure size 720x432 with 12 Axes>"
      ]
     },
     "metadata": {},
     "output_type": "display_data"
    }
   ],
   "source": [
    "fig, ax = CCEP_supp.plot_CCEP_onset(EEG_resp, con_trial, labels_all, [76,19,0,46], [36, 65, 26,5],CC_summ,  w_LL = 0.05, Fs = 500)\n",
    "plt.savefig('X:\\\\4 e-Lab\\EvM\\Projects\\EL_experiment\\Analysis\\Supp_figures\\CCEP\\CCEP_onset_examples2.svg')\n",
    "plt.show()"
   ]
  },
  {
   "cell_type": "code",
   "execution_count": 13,
   "id": "4419b86e",
   "metadata": {
    "scrolled": false
   },
   "outputs": [
    {
     "data": {
      "image/png": "[encoded data removed]",
      "text/plain": [
       "<Figure size 720x432 with 12 Axes>"
      ]
     },
     "metadata": {},
     "output_type": "display_data"
    }
   ],
   "source": [
    "fig, ax = CCEP_supp.plot_CCEP_onset(EEG_resp, con_trial, labels_all, [76,19,0,28], [36, 65, 26,49],CC_summ,  w_LL = 0.05, Fs = 500)\n",
    "plt.savefig('X:\\\\4 e-Lab\\EvM\\Projects\\EL_experiment\\Analysis\\Supp_figures\\CCEP\\CCEP_onset_examples.svg')\n",
    "plt.show()"
   ]
  },
  {
   "cell_type": "code",
   "execution_count": 14,
   "id": "7fe0446f",
   "metadata": {},
   "outputs": [
    {
     "ename": "NameError",
     "evalue": "name 'stop' is not defined",
     "output_type": "error",
     "traceback": [
      "\u001b[1;31m---------------------------------------------------------------------------\u001b[0m",
      "\u001b[1;31mNameError\u001b[0m                                 Traceback (most recent call last)",
      "\u001b[1;32m<ipython-input-14-4f76a9dad686>\u001b[0m in \u001b[0;36m<module>\u001b[1;34m\u001b[0m\n\u001b[1;32m----> 1\u001b[1;33m \u001b[0mstop\u001b[0m\u001b[1;33m\u001b[0m\u001b[1;33m\u001b[0m\u001b[0m\n\u001b[0m",
      "\u001b[1;31mNameError\u001b[0m: name 'stop' is not defined"
     ]
    }
   ],
   "source": [
    "stop"
   ]
  },
  {
   "cell_type": "markdown",
   "id": "b9c0313e",
   "metadata": {},
   "source": [
    "### Cluster Centers"
   ]
  },
  {
   "cell_type": "code",
   "execution_count": null,
   "id": "0b8ed69d",
   "metadata": {
    "scrolled": false
   },
   "outputs": [],
   "source": [
    "rerun = 0\n",
    "if rerun:\n",
    "    CCEP_supp.plot_CCEP_CC(EEG_resp, CC, con_trial, labels_all, [38,19,3, 45], [6, 65, 15, 85], w_LL = 0.25, Fs = 500, t0 = 1)\n",
    "    plt.savefig('X:\\\\4 e-Lab\\EvM\\Projects\\EL_experiment\\Analysis\\Supp_figures\\CCEP\\CCEP_CC_examples.svg')\n",
    "    plt.show()"
   ]
  },
  {
   "cell_type": "markdown",
   "id": "9df893a2",
   "metadata": {},
   "source": [
    "### Single trial labeling"
   ]
  },
  {
   "cell_type": "code",
   "execution_count": null,
   "id": "d54282ac",
   "metadata": {},
   "outputs": [],
   "source": [
    "import significant_connections as SCF\n",
    "import significance_funcs as sig_funcs"
   ]
  },
  {
   "cell_type": "code",
   "execution_count": null,
   "id": "b355d3e8",
   "metadata": {},
   "outputs": [],
   "source": []
  },
  {
   "cell_type": "code",
   "execution_count": null,
   "id": "1a6d4cfe",
   "metadata": {},
   "outputs": [],
   "source": [
    "CC_summ = pd.read_csv(file_CC_summ)"
   ]
  },
  {
   "cell_type": "code",
   "execution_count": null,
   "id": "8ca47fb1",
   "metadata": {},
   "outputs": [],
   "source": [
    "sc = 19\n",
    "rc = 65\n",
    "t_WOI = CC_summ.loc[(CC_summ.Stim == sc) & (CC_summ.Chan == rc) & (CC_summ.sig > 0.5) & (\n",
    "                            CC_summ.art == 0), 't_WOI'].values[0]"
   ]
  },
  {
   "cell_type": "code",
   "execution_count": null,
   "id": "9fbc711b",
   "metadata": {},
   "outputs": [],
   "source": [
    "surr = SCF.get_sig_trial_surr(sc, rc, con_trial, CC[sc, rc], t_WOI, EEG_resp, exp=2, w_cluster=0.25, t_0=1,\n",
    "                  Fs=500)\n",
    "plt.hist(surr)"
   ]
  },
  {
   "cell_type": "code",
   "execution_count": null,
   "id": "d14e6cdf",
   "metadata": {},
   "outputs": [],
   "source": [
    "trials = con_trial.loc[(con_trial.Stim==sc)&(con_trial.Sig==0)&(con_trial.Chan==rc)&(con_trial.Artefact<2), 'Num'].values\n",
    "trials_sel = np.random.choice(trials,4)\n",
    "trials_sel"
   ]
  },
  {
   "cell_type": "code",
   "execution_count": null,
   "id": "d8b3fb2f",
   "metadata": {},
   "outputs": [],
   "source": [
    "trials_sel 8870, 7334 6094"
   ]
  },
  {
   "cell_type": "code",
   "execution_count": null,
   "id": "9bfcccc8",
   "metadata": {},
   "outputs": [],
   "source": [
    "trials"
   ]
  },
  {
   "cell_type": "code",
   "execution_count": null,
   "id": "19728c86",
   "metadata": {},
   "outputs": [],
   "source": [
    "trials_sel"
   ]
  },
  {
   "cell_type": "code",
   "execution_count": null,
   "id": "7958a7d3",
   "metadata": {},
   "outputs": [],
   "source": [
    "sc = 38\n",
    "rc = 19\n",
    "t_WOI = CC_summ.loc[(CC_summ.Stim == sc) & (CC_summ.Chan == rc) & (CC_summ.sig > 0.5) & (\n",
    "                            CC_summ.art == 0), 't_WOI'].values[0]\n",
    "trials = con_trial.loc[(con_trial.Stim==sc)&(con_trial.Sig==1)&(con_trial.Chan==rc)&(con_trial.Artefact<2), 'Num'].values\n",
    "trials_sel = np.random.choice(trials,4)\n",
    "surr = SCF.get_sig_trial_surr(sc, rc, con_trial, CC[sc, rc], t_WOI, EEG_resp, exp=2, w_cluster=0.25, t_0=1,\n",
    "                  Fs=500)"
   ]
  },
  {
   "cell_type": "code",
   "execution_count": null,
   "id": "51a4a3dd",
   "metadata": {},
   "outputs": [],
   "source": [
    "trials = con_trial.loc[(con_trial.Stim==sc)&(con_trial.Sig==1)&(con_trial.Chan==rc)&(con_trial.Artefact<2), 'Num'].values\n",
    "trials_sel = np.random.choice(trials,4)"
   ]
  },
  {
   "cell_type": "code",
   "execution_count": null,
   "id": "7717417c",
   "metadata": {},
   "outputs": [],
   "source": [
    "trials_sel"
   ]
  },
  {
   "cell_type": "code",
   "execution_count": null,
   "id": "cae91235",
   "metadata": {},
   "outputs": [],
   "source": [
    "\n",
    "trials_sel = [939, 9653, 3603, 4889]\n",
    "fig, axs = CCEP_supp.plot_trial_test(EEG_resp, CC, surr, trials_sel, sc, rc,t_WOI, w_LL = 0.25, Fs = 500, t0 = 1)\n",
    "for i in range(4):\n",
    "    ax = axs[1,i]\n",
    "    ax.set_ylim([-800,800])\n",
    "for i in range(4):\n",
    "    ax = axs[2,i]\n",
    "    ax.set_ylim([0,8])\n",
    "for i in range(4):\n",
    "    ax = axs[4,i]\n",
    "    ax.set_ylim([0,6])\n",
    "plt.savefig('X:\\\\4 e-Lab\\EvM\\Projects\\EL_experiment\\Analysis\\Supp_figures\\CCEP\\CCEP_sig_trials_'+labels_all[sc]+'_'+labels_all[rc]+'.svg')\n",
    "plt.show()"
   ]
  },
  {
   "cell_type": "code",
   "execution_count": null,
   "id": "a34eb9d5",
   "metadata": {},
   "outputs": [],
   "source": [
    "trials_sel =[8945, 1042, 8488, 2018]\n",
    "fig, axs = CCEP_supp.plot_trial_test(EEG_resp, CC, surr, trials_sel, sc, rc,t_WOI, w_LL = 0.25, Fs = 500, t0 = 1)\n",
    "for i in range(4):\n",
    "    ax = axs[1,i]\n",
    "    ax.set_ylim([-1000,1100])\n",
    "for i in range(4):\n",
    "    ax = axs[2,i]\n",
    "    ax.set_ylim([0,15])\n",
    "for i in range(4):\n",
    "    ax = axs[4,i]\n",
    "    ax.set_ylim([0,12])\n",
    "plt.savefig('X:\\\\4 e-Lab\\EvM\\Projects\\EL_experiment\\Analysis\\Supp_figures\\CCEP\\CCEP_sig_trials_'+labels_all[sc]+'_'+labels_all[rc]+'.svg')\n",
    "plt.show()"
   ]
  },
  {
   "cell_type": "code",
   "execution_count": null,
   "id": "04acdef0",
   "metadata": {},
   "outputs": [],
   "source": [
    "stop"
   ]
  },
  {
   "cell_type": "code",
   "execution_count": null,
   "id": "b7f99f07",
   "metadata": {
    "scrolled": true
   },
   "outputs": [],
   "source": [
    "trials = con_trial.loc[(con_trial.Stim==sc)&(con_trial.Chan==rc)&(con_trial.Sig==1)&(con_trial.Artefact<2), 'Num'].values\n",
    "trials = EEG_resp[rc, trials,:]\n",
    "corr_all = sig_funcs.get_pearson2mean_windowed( CC[sc, rc,1], trials, t0+t_WOI, 0.25, 500 )"
   ]
  },
  {
   "cell_type": "code",
   "execution_count": null,
   "id": "87451960",
   "metadata": {},
   "outputs": [],
   "source": [
    "plt.plot(x_ax, corr_all[0])"
   ]
  },
  {
   "cell_type": "code",
   "execution_count": null,
   "id": "2f3910e3",
   "metadata": {},
   "outputs": [],
   "source": [
    "stop"
   ]
  },
  {
   "cell_type": "code",
   "execution_count": null,
   "id": "59883987",
   "metadata": {
    "scrolled": true
   },
   "outputs": [],
   "source": []
  },
  {
   "cell_type": "code",
   "execution_count": null,
   "id": "014749b2",
   "metadata": {},
   "outputs": [],
   "source": [
    "0.25*Fs"
   ]
  },
  {
   "cell_type": "code",
   "execution_count": null,
   "id": "bf515146",
   "metadata": {},
   "outputs": [],
   "source": [
    "stop"
   ]
  },
  {
   "cell_type": "code",
   "execution_count": null,
   "id": "68ffd26f",
   "metadata": {},
   "outputs": [],
   "source": [
    "\n",
    "t_WOI = CC_summ.loc[(CC_summ.Stim == sc) & (CC_summ.Chan == rc) & (CC_summ.sig > 0.5) & (\n",
    "                            CC_summ.art == 0), 't_WOI'].values[0]\n",
    "\n",
    "trials = con_trial.loc[(con_trial.Stim==sc)&(con_trial.Chan==rc)&(con_trial.Sig==1)&(con_trial.Artefact<2), 'Num'].values\n",
    "mn = np.mean(EEG_resp[rc, trials,:],0)\n",
    "plt.plot(x_ax, mn)\n",
    "plt.axvspan(t_WOI, t_WOI +0.25, alpha =0.1)\n",
    "plt.axvline(0,color= [1,0,0])\n",
    "plt.xlim([-0.25, 0.5])"
   ]
  },
  {
   "cell_type": "code",
   "execution_count": null,
   "id": "c95c992e",
   "metadata": {},
   "outputs": [],
   "source": []
  },
  {
   "cell_type": "markdown",
   "id": "cd52a4d6",
   "metadata": {},
   "source": [
    "### Single trial examples"
   ]
  },
  {
   "cell_type": "code",
   "execution_count": null,
   "id": "afc849dd",
   "metadata": {},
   "outputs": [],
   "source": []
  },
  {
   "cell_type": "markdown",
   "id": "e83cde20",
   "metadata": {},
   "source": [
    "### Response Onset"
   ]
  },
  {
   "cell_type": "code",
   "execution_count": null,
   "id": "ff3469ad",
   "metadata": {},
   "outputs": [],
   "source": []
  },
  {
   "cell_type": "code",
   "execution_count": null,
   "id": "cbdb5e45",
   "metadata": {},
   "outputs": [],
   "source": [
    "stop"
   ]
  }
 ],
 "metadata": {
  "kernelspec": {
   "display_name": "PyCharm (Python_Analysis)",
   "language": "python",
   "name": "pycharm-303d2e35"
  },
  "language_info": {
   "codemirror_mode": {
    "name": "ipython",
    "version": 3
   },
   "file_extension": ".py",
   "mimetype": "text/x-python",
   "name": "python",
   "nbconvert_exporter": "python",
   "pygments_lexer": "ipython3",
   "version": "3.7.9"
  }
 },
 "nbformat": 4,
 "nbformat_minor": 5
}
