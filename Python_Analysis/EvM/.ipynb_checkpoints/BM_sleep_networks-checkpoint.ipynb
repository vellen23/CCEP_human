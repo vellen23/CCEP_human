{
 "cells": [
  {
   "cell_type": "code",
   "execution_count": 1,
   "id": "missing-insertion",
   "metadata": {},
   "outputs": [],
   "source": [
    "import os\n",
    "import numpy as np\n",
    "import matplotlib.pyplot as plt\n",
    "from matplotlib.colors import ListedColormap\n",
    "import seaborn as sns\n",
    "import pandas as pd\n",
    "import networkx as nx\n",
    "import scipy\n",
    "import re\n",
    "import pathpy as pp\n",
    "from glob import glob\n",
    "#import nxviz\n",
    "#from nxviz.plots_cust import CircosPlot, MatrixPlot, ArcPlot, BasePlot\n",
    "sub_path  ='X:\\\\4 e-Lab\\\\' # y:\\\\eLab\n",
    "\n",
    "# Importing libraries \n",
    "import statsmodels.api as sm \n",
    "from statsmodels.formula.api import ols \n",
    "import os\n",
    "import numpy as np\n",
    "import matplotlib.pyplot as plt\n",
    "from matplotlib.colors import ListedColormap\n",
    "import seaborn as sns\n",
    "import pandas as pd\n",
    "\n",
    "import sys\n",
    "\n",
    "sys.path.append('T:\\EL_experiment\\Codes\\CCEP_human\\Python_Analysis/py_functions')\n",
    "import basic_func as bf\n",
    "import load_summary as ls\n",
    "sys.path.append('T:\\\\EL_experiment\\Codes\\CCEP_human\\Python_Analysis\\py_functions')\n",
    "sys.path.append('X:\\\\4 e-Lab\\e-Lab shared code\\Softwares\\Connectogram')\n",
    "sys.path.append('T:\\\\EL_experiment\\Codes\\\\UBELIX_EvM\\\\NMF\\\\functions')\n",
    "path_connectogram = 'X:\\\\4 e-Lab\\e-Lab shared code\\Softwares\\Connectogram'\n",
    "from main_script import ConnectogramPlotter\n",
    "\n",
    "cwd = os.getcwd()\n",
    "\n",
    "##all\n",
    "cond_vals = np.arange(4)\n",
    "cond_labels = ['BM', 'BL', 'Fuma', 'Benzo']\n",
    "cond_colors = ['#494159', '#594157', \"#F1BF98\", \"#8FB996\"]\n",
    "dist_groups = np.array([[0, 15], [15, 30], [30, 5000]])\n",
    "dist_labels = ['local (<15 mm)', 'short (<30mm)', 'long']\n",
    "sub_path = 'X:\\\\4 e-Lab\\\\'  # y:\\\\eLab\n",
    "group_labels = ['local direct', 'long direct', 'indirect']\n",
    "\n",
    "##\n",
    "# only sleep subjs\n",
    "subjs = [\"EL010\", \"EL011\", \"EL014\", \"EL015\", \"EL016\", \"EL017\", \"EL019\", \"EL020\", \"EL021\",\n",
    "         \"EL022\", \"EL025\", \"EL026\", \"EL027\"]\n",
    "data_con_file = sub_path+'\\EvM\\Projects\\EL_experiment\\Analysis\\Patients\\Across\\BrainMapping\\Sleep\\connectogram\\\\data_con_stat.csv'\n"
   ]
  },
  {
   "cell_type": "code",
   "execution_count": 2,
   "id": "unavailable-african",
   "metadata": {},
   "outputs": [],
   "source": [
    "folder = 'BrainMapping'\n",
    "cond_folder = 'CR'  # Condition = 'Hour', 'Condition', 'Ph'\n",
    "Fs = 500\n",
    "dur = np.zeros((1, 2), dtype=np.int32)\n",
    "t0 = 1\n",
    "dur[0, 0] = -t0\n",
    "dur[0, 1] = 3\n",
    "\n",
    "#dur[0,:]       = np.int32(np.sum(abs(dur)))\n",
    "x_ax = np.arange(dur[0, 0], dur[0, 1], (1 / Fs))\n",
    "color_d, color_dist, color_group, color_elab = ls.get_color()"
   ]
  },
  {
   "cell_type": "code",
   "execution_count": 3,
   "id": "12852ea3",
   "metadata": {},
   "outputs": [],
   "source": [
    "cwp = os.getcwd()"
   ]
  },
  {
   "cell_type": "code",
   "execution_count": 4,
   "id": "58b68271",
   "metadata": {},
   "outputs": [
    {
     "ename": "NameError",
     "evalue": "name 'stop' is not defined",
     "output_type": "error",
     "traceback": [
      "\u001b[1;31m---------------------------------------------------------------------------\u001b[0m",
      "\u001b[1;31mNameError\u001b[0m                                 Traceback (most recent call last)",
      "\u001b[1;32m<ipython-input-4-4f76a9dad686>\u001b[0m in \u001b[0;36m<module>\u001b[1;34m\u001b[0m\n\u001b[1;32m----> 1\u001b[1;33m \u001b[0mstop\u001b[0m\u001b[1;33m\u001b[0m\u001b[1;33m\u001b[0m\u001b[0m\n\u001b[0m",
      "\u001b[1;31mNameError\u001b[0m: name 'stop' is not defined"
     ]
    }
   ],
   "source": [
    "stop"
   ]
  },
  {
   "cell_type": "code",
   "execution_count": 116,
   "id": "5f4339b0",
   "metadata": {},
   "outputs": [],
   "source": [
    "CIRC_AREAS_FILEPATH = 'X:\\\\4 e-Lab\\e-Lab shared code\\Softwares\\Connectogram\\circ_areas.xlsx'\n",
    "tab_region = pd.read_excel(CIRC_AREAS_FILEPATH, sheet_name='plot')\n",
    "tab_region = tab_region.sort_values('Order').reset_index(drop=True)\n",
    "regions_all = tab_region.Area.values\n",
    "region_col = tab_region.color.values\n",
    "\n",
    "CIRC_AREAS_FILEPATH = 'X:\\\\4 e-Lab\\e-Lab shared code\\Softwares\\Connectogram\\circ_areas.xlsx'\n",
    "all_region = pd.read_excel(CIRC_AREAS_FILEPATH, sheet_name='atlas')"
   ]
  },
  {
   "cell_type": "code",
   "execution_count": 117,
   "id": "ea863701",
   "metadata": {},
   "outputs": [
    {
     "data": {
      "text/plain": [
       "array(['Dorsofrontal', 'Orbitofrontal', 'Insula', 'Basotemporal',\n",
       "       'Hippocampus', 'Amygdala', 'Laterotemporal', 'Cingular',\n",
       "       'Parietal', 'Occipital'], dtype=object)"
      ]
     },
     "execution_count": 117,
     "metadata": {},
     "output_type": "execute_result"
    }
   ],
   "source": [
    "regions_all"
   ]
  },
  {
   "cell_type": "markdown",
   "id": "basic-kernel",
   "metadata": {},
   "source": [
    "## 1.Node"
   ]
  },
  {
   "cell_type": "code",
   "execution_count": 129,
   "id": "9a3a51a3",
   "metadata": {},
   "outputs": [
    {
     "name": "stdout",
     "output_type": "stream",
     "text": [
      "EL010\n",
      "EL011\n",
      "EL014\n",
      "EL015\n",
      "EL016\n",
      "EL017\n",
      "EL019\n",
      "EL020\n",
      "EL021\n",
      "EL022\n",
      "EL025\n",
      "EL026\n",
      "EL027\n"
     ]
    }
   ],
   "source": [
    "node_all_dfs = []  # A list to hold DataFrames\n",
    "\n",
    "for subj in subjs:\n",
    "    print(subj)\n",
    "    path_patient_analysis = os.path.join(sub_path, 'EvM', 'Projects', 'EL_experiment', 'Analysis', 'Patients', subj)\n",
    "    exp_dir = os.path.join(path_patient_analysis, 'BrainMapping', 'CR', 'Graph', 'Node')\n",
    "    file = os.path.join(exp_dir, 'node_features_sleep.csv')\n",
    "    \n",
    "    if os.path.isfile(file):\n",
    "        df = pd.read_csv(file)\n",
    "        node_all_dfs.append(df)  # Add DataFrame to the list\n",
    "\n",
    "# Concatenate all DataFrames in the list\n",
    "node_all = pd.concat(node_all_dfs, ignore_index=True)\n",
    "node_all = node_all[np.isin(node_all.ChanR, regions_all)].reset_index(drop=True)\n",
    "node_all.insert(0,'Node_ID',node_all.groupby(['Subj', 'Chan']).ngroup())"
   ]
  },
  {
   "cell_type": "code",
   "execution_count": 130,
   "id": "7ce8d5b9",
   "metadata": {},
   "outputs": [],
   "source": [
    "# Calculate the maximum \"Cb\" value for each subject\n",
    "#node_all['Max_Cc'] = node_all.groupby('Subj')['Cc'].transform('max')\n",
    "\n",
    "# Normalize the \"Cb\" values by dividing by the maximum \"Cb\" value for the corresponding subject\n",
    "#node_all['Normalized_Cc'] = node_all['Cc'] / node_all['Max_Cc']\n",
    "\n",
    "node_all['Normalized_Cc'] = (node_all['Cc'] -node_all.groupby('Subj')['Cc'].transform('mean')) / node_all.groupby('Subj')['Cc'].transform('std')\n",
    "node_all['Normalized_Cb'] = (node_all['Cb'] -node_all.groupby('Subj')['Cb'].transform('mean')) / node_all.groupby('Subj')['Cb'].transform('std')\n"
   ]
  },
  {
   "cell_type": "code",
   "execution_count": 131,
   "id": "78ef9678",
   "metadata": {},
   "outputs": [],
   "source": [
    "node_all['Normalized_Cc'] = (node_all['Cc'] /node_all.groupby('Subj')['Cc'].transform('median')) # / node_all.groupby('Subj')['Cc'].transform('std')\n",
    "node_all['Normalized_Cb'] = (node_all['Cb'] /node_all.groupby('Subj')['Cb'].transform('median')) # / node_all.groupby('Subj')['Cb'].transform('std')\n"
   ]
  },
  {
   "cell_type": "code",
   "execution_count": 132,
   "id": "153b8d09",
   "metadata": {},
   "outputs": [
    {
     "ename": "NameError",
     "evalue": "name 'feature_selected' is not defined",
     "output_type": "error",
     "traceback": [
      "\u001b[1;31m---------------------------------------------------------------------------\u001b[0m",
      "\u001b[1;31mNameError\u001b[0m                                 Traceback (most recent call last)",
      "\u001b[1;32m<ipython-input-132-df424d1d412f>\u001b[0m in \u001b[0;36m<module>\u001b[1;34m\u001b[0m\n\u001b[0;32m      1\u001b[0m \u001b[1;31m# Performing two-way ANOVA\u001b[0m\u001b[1;33m\u001b[0m\u001b[1;33m\u001b[0m\u001b[1;33m\u001b[0m\u001b[0m\n\u001b[1;32m----> 2\u001b[1;33m \u001b[0mmodel\u001b[0m \u001b[1;33m=\u001b[0m \u001b[0mols\u001b[0m\u001b[1;33m(\u001b[0m\u001b[1;34m'Normalized_'\u001b[0m \u001b[1;33m+\u001b[0m \u001b[0mfeature_selected\u001b[0m\u001b[1;33m+\u001b[0m\u001b[1;34m' ~ C(ChanR) + C(SleepState) + C(ChanR):C(SleepState)'\u001b[0m\u001b[1;33m,\u001b[0m\u001b[0mdata\u001b[0m\u001b[1;33m=\u001b[0m\u001b[0mdf\u001b[0m\u001b[1;33m[\u001b[0m\u001b[0mdf\u001b[0m\u001b[1;33m.\u001b[0m\u001b[0mSleepState\u001b[0m \u001b[1;33m!=\u001b[0m \u001b[1;34m'Wake'\u001b[0m\u001b[1;33m]\u001b[0m\u001b[1;33m)\u001b[0m\u001b[1;33m.\u001b[0m\u001b[0mfit\u001b[0m\u001b[1;33m(\u001b[0m\u001b[1;33m)\u001b[0m\u001b[1;33m\u001b[0m\u001b[1;33m\u001b[0m\u001b[0m\n\u001b[0m\u001b[0;32m      3\u001b[0m \u001b[0mresult\u001b[0m \u001b[1;33m=\u001b[0m \u001b[0msm\u001b[0m\u001b[1;33m.\u001b[0m\u001b[0mstats\u001b[0m\u001b[1;33m.\u001b[0m\u001b[0manova_lm\u001b[0m\u001b[1;33m(\u001b[0m\u001b[0mmodel\u001b[0m\u001b[1;33m,\u001b[0m \u001b[0mtype\u001b[0m\u001b[1;33m=\u001b[0m\u001b[1;36m2\u001b[0m\u001b[1;33m)\u001b[0m\u001b[1;33m\u001b[0m\u001b[1;33m\u001b[0m\u001b[0m\n\u001b[0;32m      4\u001b[0m \u001b[1;33m\u001b[0m\u001b[0m\n\u001b[0;32m      5\u001b[0m \u001b[1;31m# Print the result\u001b[0m\u001b[1;33m\u001b[0m\u001b[1;33m\u001b[0m\u001b[1;33m\u001b[0m\u001b[0m\n",
      "\u001b[1;31mNameError\u001b[0m: name 'feature_selected' is not defined"
     ]
    }
   ],
   "source": [
    "# Performing two-way ANOVA \n",
    "model = ols('Normalized_' + feature_selected+' ~ C(ChanR) + C(SleepState) + C(ChanR):C(SleepState)',data=df[df.SleepState != 'Wake']).fit() \n",
    "result = sm.stats.anova_lm(model, type=2) \n",
    "  \n",
    "# Print the result \n",
    "print(result) "
   ]
  },
  {
   "cell_type": "code",
   "execution_count": 134,
   "id": "24d34fa1",
   "metadata": {},
   "outputs": [],
   "source": [
    "df = node_all.copy()"
   ]
  },
  {
   "cell_type": "code",
   "execution_count": 138,
   "id": "bff7f483",
   "metadata": {},
   "outputs": [
    {
     "data": {
      "image/png": "[encoded data removed]",
      "text/plain": [
       "<Figure size 720x576 with 1 Axes>"
      ]
     },
     "metadata": {
      "needs_background": "light"
     },
     "output_type": "display_data"
    }
   ],
   "source": [
    "\n",
    "feature_selected = 'Din_w'\n",
    "# Extract metric values during 'Wake' state\n",
    "wake_values = df[df['SleepState'] == 'Wake'].set_index('Node_ID').to_dict()\n",
    "\n",
    "# Normalize 'Dout' metric for plotting\n",
    "df['Normalized_' + feature_selected] = df.apply(lambda row: row[feature_selected] / wake_values[feature_selected][row['Node_ID']] if wake_values[feature_selected][row['Node_ID']] != 0 else 2 if row[feature_selected] !=0 else np.nan , axis=1)\n",
    "\n",
    "\n",
    "plt.figure(figsize=(10,8))\n",
    "sns.stripplot(x='ChanR', y='Normalized_' + feature_selected, hue = 'SleepState', data=df, jitter=True, palette=\"Set2\", dodge=True, linewidth=1, edgecolor='gray', order = regions_all)\n",
    "\n",
    "# Get the ax object to use later.\n",
    "ax = sns.boxplot(x='ChanR', y='Normalized_' + feature_selected, hue = 'SleepState', data=df, palette=\"Set2\", fliersize=0, order = regions_all)\n",
    "\n",
    "# Get the handles and labels. For this example it'll be 2 tuples\n",
    "# of length 4 each.\n",
    "handles, labels = ax.get_legend_handles_labels()\n",
    "\n",
    "# When creating the legend, only use the first two elements\n",
    "# to effectively remove the last two.\n",
    "l = plt.legend(handles[1:3], labels[1:3], bbox_to_anchor=(1.05, 1), loc=2, borderaxespad=0.)\n",
    "plt.ylim([0.6, 1.6])\n",
    "plt.yticks([0.7, 1, 1.3],['70%', '100%', '130%'])\n",
    "plt.xticks(rotation=90)\n",
    "plt.title(feature_selected+ ' -- Across all patients n='+str(len(np.unique(df.Subj))))\n",
    "path_save = 'X:\\\\4 e-Lab\\EvM\\Projects\\EL_experiment\\Analysis\\Patients\\Across\\BrainMapping\\Sleep\\degree\\\\'+feature_selected+'.svg'\n",
    "plt.savefig(path_save)\n",
    "plt.show()"
   ]
  },
  {
   "cell_type": "code",
   "execution_count": 79,
   "id": "341f1408",
   "metadata": {},
   "outputs": [],
   "source": [
    "\n",
    "import matplotlib as mpl\n",
    "cmap = mpl.cm.seismic\n",
    "for ss in ['NREM', 'REM']:\n",
    "    for feature_selected in ['Dout_w', 'Din_w']:\n",
    "        for area in regions_all:\n",
    "            values_plot = df.loc[(df.SleepState == ss)&(df.ChanR == area), 'Normalized_' + feature_selected].values\n",
    "            fig=plt.figure(figsize=(0.5,3))\n",
    "            plt.title('Normalized_'+feature_selected+' Across Nodes in '+area)\n",
    "            ax=fig.add_subplot(111)\n",
    "            ax.axis([0,1,0.6,1.666])\n",
    "            norm = mpl.colors.Normalize(vmin=0.6, vmax=1.6)\n",
    "            cb1 = mpl.colorbar.ColorbarBase(ax, cmap=cmap,\n",
    "                                            orientation='vertical',\n",
    "                                            ticks=[0.7,1,1.3], norm=norm,\n",
    "                                            )\n",
    "            ax.axhline(np.percentile(values_plot, 25), color = 'k', ls = '--')\n",
    "            ax.axhline(np.percentile(values_plot, 75), color = 'k', ls = '--')\n",
    "            ax.axhline(np.nanmedian(values_plot), color = 'k', ls = '-')\n",
    "            ax.axhspan(np.percentile(values_plot, 25), np.percentile(values_plot, 75), facecolor='papayawhip', alpha = 0.5)\n",
    "            path_save ='X:\\\\4 e-Lab\\\\EvM\\\\Projects\\\\EL_experiment\\\\Analysis\\\\Patients\\\\Across\\\\BrainMapping\\\\Sleep\\\\degree\\\\'+feature_selected+'_bar_'+area+'_'+ss+'.svg'\n",
    "            plt.savefig(path_save)\n",
    "            plt.close()"
   ]
  },
  {
   "cell_type": "markdown",
   "id": "f9f30f77",
   "metadata": {},
   "source": [
    "## P and DI"
   ]
  },
  {
   "cell_type": "code",
   "execution_count": 122,
   "id": "d9a7373b",
   "metadata": {},
   "outputs": [],
   "source": [
    "node_all_dfs = []  # A list to hold DataFrames\n",
    "\n",
    "for subj in subjs:\n",
    "    path_patient_analysis = os.path.join(sub_path, 'EvM', 'Projects', 'EL_experiment', 'Analysis', 'Patients', subj)\n",
    "    exp_dir = os.path.join(path_patient_analysis, 'BrainMapping', 'CR', 'data')\n",
    "    summary_gen_path = path_patient_analysis + '\\\\' + folder + '\\\\' + cond_folder + '\\\\data\\\\summ_general.csv'  # summary_general\n",
    "\n",
    "    con_summary = pd.read_csv(summary_gen_path)\n",
    "    con_summary = con_summary[(con_summary.Sig > 0)].reset_index(drop=True)\n",
    "            \n",
    "    for ss in ['Wake', 'NREM', 'REM']:\n",
    "        file = os.path.join(exp_dir, 'summ_' + ss + '.csv')\n",
    "\n",
    "        if os.path.isfile(file):\n",
    "            df = pd.read_csv(file)\n",
    "            df = df.merge(con_summary[['Stim', 'Chan', 'delay']], on = ['Stim', 'Chan'], how ='right').reset_index(drop=True)\n",
    "            node_all_dfs.append(df)  # Add DataFrame to the list\n",
    "    # Concatenate all DataFrames in the list\n",
    "con_all = pd.concat(node_all_dfs, ignore_index=True)\n"
   ]
  },
  {
   "cell_type": "code",
   "execution_count": 123,
   "id": "cbec400c",
   "metadata": {},
   "outputs": [],
   "source": [
    "con_all.insert(6, 'Group', 'local')\n",
    "con_all.loc[(con_all.d>20)&(con_all.delay>0.02), 'Group'] = 'indirect'\n",
    "con_all.loc[(con_all.d>20)&(con_all.delay<=0.02), 'Group'] = 'direct'\n",
    "con_all.loc[(con_all.Sig==0), 'Group'] = 'None'"
   ]
  },
  {
   "cell_type": "code",
   "execution_count": 124,
   "id": "b092ed13",
   "metadata": {},
   "outputs": [],
   "source": [
    "con_all['DI_abs'] = abs(con_all.DI)"
   ]
  },
  {
   "cell_type": "code",
   "execution_count": 57,
   "id": "ff68820e",
   "metadata": {},
   "outputs": [
    {
     "data": {
      "image/png": "[encoded data removed]",
      "text/plain": [
       "<Figure size 576x432 with 2 Axes>"
      ]
     },
     "metadata": {
      "needs_background": "light"
     },
     "output_type": "display_data"
    },
    {
     "data": {
      "image/png": "[encoded data removed]",
      "text/plain": [
       "<Figure size 576x432 with 2 Axes>"
      ]
     },
     "metadata": {
      "needs_background": "light"
     },
     "output_type": "display_data"
    },
    {
     "data": {
      "image/png": "[encoded data removed]",
      "text/plain": [
       "<Figure size 576x432 with 2 Axes>"
      ]
     },
     "metadata": {
      "needs_background": "light"
     },
     "output_type": "display_data"
    }
   ],
   "source": [
    "for ss in ['Wake', 'NREM', 'REM']:\n",
    "    df = con_all[(con_all.SleepState == ss)&(con_all.Group != 'None')].reset_index(drop=True)\n",
    "    # Create a figure with two y-axes\n",
    "    fig, ax1 = plt.subplots(figsize=(8, 6))\n",
    "    plt.suptitle(ss)\n",
    "    ax2 = ax1.twinx()\n",
    "    c_P = color_elab[0]\n",
    "    c_DI = color_elab[2]\n",
    "\n",
    "    sns.violinplot(x='Group', y = 'Sig', data = df, hue=True,\n",
    "        hue_order=[True, False], split=True, ax=ax1, inner=\"quart\", palette=[c_P, 'white'], legend=False)\n",
    "    sns.violinplot(x='Group', y = 'DI_abs', data = df, hue=True,\n",
    "        hue_order=[False, True], split=True, ax=ax2, inner=\"quart\", color=c_DI, legend=False)\n",
    "    ax2.invert_yaxis()\n",
    "    ax1.legend([])\n",
    "    ax2.legend([])\n",
    "    # Set y-axis labels and titles\n",
    "    ax1.set_ylabel(\"Sig\", color=c_P)\n",
    "    ax2.set_ylabel(\"DI\", color=c_DI)\n",
    "    ax1.set_ylim([0,1])\n",
    "    ax2.set_ylim([1,0])\n",
    "    ccc\n",
    "    plt.show()"
   ]
  },
  {
   "cell_type": "markdown",
   "id": "bf19668d",
   "metadata": {},
   "source": [
    "## 2. Connections"
   ]
  },
  {
   "cell_type": "code",
   "execution_count": 125,
   "id": "4f885835",
   "metadata": {},
   "outputs": [],
   "source": [
    "node_all_dfs = []  # A list to hold DataFrames\n",
    "\n",
    "for subj in subjs:\n",
    "    path_patient_analysis = os.path.join(sub_path, 'EvM', 'Projects', 'EL_experiment', 'Analysis', 'Patients', subj)\n",
    "    exp_dir = os.path.join(path_patient_analysis, 'BrainMapping', 'CR', 'Graph', 'Connection')\n",
    "    file = os.path.join(exp_dir, 'con_sleep_stats.csv')\n",
    "    \n",
    "    if os.path.isfile(file):\n",
    "        df = pd.read_csv(file)\n",
    "        summary_gen_path = path_patient_analysis + '\\\\' + folder + '\\\\' + cond_folder + '\\\\data\\\\summ_general.csv'  # summary_general\n",
    "    \n",
    "        con_summary = pd.read_csv(summary_gen_path)\n",
    "        con_summary = con_summary[(con_summary.Sig > 0)].reset_index(drop=True)\n",
    "        df = df.merge(con_summary[['Stim', 'Chan', 'd', 'delay']], on = ['Stim', 'Chan'], how ='right').reset_index(drop=True)\n",
    "        node_all_dfs.append(df)  # Add DataFrame to the list\n",
    "# Concatenate all DataFrames in the list\n",
    "con_all = pd.concat(node_all_dfs, ignore_index=True)\n"
   ]
  },
  {
   "cell_type": "code",
   "execution_count": 59,
   "id": "94cf23e6",
   "metadata": {},
   "outputs": [],
   "source": [
    "from matplotlib.lines import Line2Da"
   ]
  },
  {
   "cell_type": "code",
   "execution_count": 94,
   "id": "f7b5e133",
   "metadata": {},
   "outputs": [
    {
     "data": {
      "image/png": "[encoded data removed]",
      "text/plain": [
       "<Figure size 432x360 with 1 Axes>"
      ]
     },
     "metadata": {
      "needs_background": "light"
     },
     "output_type": "display_data"
    }
   ],
   "source": [
    "df = con_all[(con_all.p_C>0)&(con_all.p_MW >0)&(con_all.SleepState =='NREM')].reset_index(drop=True)\n",
    "p = 0.01\n",
    "# Define colors based on conditions\n",
    "svg = 0\n",
    "colors = []\n",
    "for _, row in df.iterrows():\n",
    "    if row['p_MW'] <= p and row['p_C'] <= p:\n",
    "        colors.append('gray')\n",
    "    elif row['p_MW'] > p and row['p_C'] > p:\n",
    "        colors.append('white')\n",
    "    elif row['p_MW'] <= p:\n",
    "        colors.append('lightblue')\n",
    "    else: #  row['p_C'] <= p:\n",
    "        colors.append('lightgreen')\n",
    "\n",
    "# Create the scatter plot\n",
    "fig = plt.figure(figsize=(6, 5))  # Set the figure size\n",
    "if svg:\n",
    "    plt.scatter(0,0, edgecolor='black', alpha=0.5)\n",
    "else:\n",
    "    plt.scatter(df['effect_size'], df['effect_size_C'], c=colors, edgecolor='black', alpha=0.5)\n",
    "plt.xlabel('Effect Size (Mann-Whitney U)')\n",
    "plt.ylabel(\"Effect Size (Cohen's D)\")\n",
    "plt.title('Scatter Plot of Effect Sizes')\n",
    "\n",
    "# Create custom legend elements and labels\n",
    "legend_elements = [\n",
    "    Line2D([0], [0], marker='o', color='black', markerfacecolor='gray', markersize=10, label='< ' + str(p)),\n",
    "    Line2D([0], [0], marker='o', color='black', markerfacecolor='white', markersize=10, label='> ' + str(p)),\n",
    "    Line2D([0], [0], marker='o', color='black', markerfacecolor='lightblue', markersize=10, label='p_MW < ' + str(p)),\n",
    "    Line2D([0], [0], marker='o', color='black', markerfacecolor='lightgreen', markersize=10, label='p_C < ' + str(p)),\n",
    "]\n",
    "\n",
    "# get y-axis limits of the plot\n",
    "low, high = plt.ylim()a\n",
    "# find the new limits\n",
    "bound = max(abs(low), abs(high))\n",
    "# set new limits\n",
    "plt.ylim(-bound, bound)\n",
    "# Add the legend\n",
    "if svg:\n",
    "    plt.legend(handles=legend_elements, loc='upper left')\n",
    "\n",
    "# Set equal aspect ratio to make the plot a square\n",
    "# plt.axis('equal')\n",
    "ax = plt.gca()\n",
    "ax.set_box_aspect(1)\n",
    "if svg:\n",
    "    path_save ='X:\\\\4 e-Lab\\\\EvM\\\\Projects\\\\EL_experiment\\\\Analysis\\\\Patients\\\\Across\\\\BrainMapping\\\\Sleep\\\\connection\\\\MWU_CD_01.svg'\n",
    "else:\n",
    "    path_save ='X:\\\\4 e-Lab\\\\EvM\\\\Projects\\\\EL_experiment\\\\Analysis\\\\Patients\\\\Across\\\\BrainMapping\\\\Sleep\\\\connection\\\\MWU_CD_01.jpg'\n",
    "plt.savefig(path_save, dpi = 300)\n",
    "plt.grid(True)\n",
    "plt.show()"
   ]
  },
  {
   "cell_type": "code",
   "execution_count": 126,
   "id": "0ae96108",
   "metadata": {},
   "outputs": [],
   "source": [
    "con_all.insert(4, 'Sig', con_all.p_MW<=0.01)"
   ]
  },
  {
   "cell_type": "code",
   "execution_count": 127,
   "id": "6ec86d86",
   "metadata": {},
   "outputs": [
    {
     "data": {
      "text/plain": [
       "<seaborn.axisgrid.FacetGrid at 0x19794480908>"
      ]
     },
     "execution_count": 127,
     "metadata": {},
     "output_type": "execute_result"
    },
    {
     "data": {
      "image/png": "[encoded data removed]",
      "text/plain": [
       "<Figure size 774.775x3240 with 18 Axes>"
      ]
     },
     "metadata": {
      "needs_background": "light"
     },
     "output_type": "display_data"
    }
   ],
   "source": [
    "# Create a custom color palette for the plot\n",
    "custom_palette = {1: 'black', 0: 'white'}  # Black for Sig == 1, White for Sig == 0\n",
    "\n",
    "# Create the catplot with custom settings\n",
    "g = sns.catplot(\n",
    "    x='SleepState',\n",
    "    y='effect_size',\n",
    "    hue='Sig',\n",
    "    col='StimR',\n",
    "    row='ChanR',\n",
    "    data=con_all,\n",
    "    palette=custom_palette,  # Use the defined color palette\n",
    "    hue_kws={'marker': 'o', 'markeredgecolor': 'black', 'markersize': 5},  # Customize marker properties\n",
    "    row_order=order,  # Use the defined order for rows\n",
    "    col_order=x_order,  # Use the defined order for columns\n",
    ")\n",
    "\n",
    "# Additional customization if needed\n",
    "g.set_axis_labels('Sleep State', 'Effect Size')"
   ]
  },
  {
   "cell_type": "code",
   "execution_count": 128,
   "id": "c79b1ed5",
   "metadata": {
    "scrolled": false
   },
   "outputs": [
    {
     "data": {
      "image/png": "[encoded data removed]",
      "text/plain": [
       "<Figure size 720x720 with 110 Axes>"
      ]
     },
     "metadata": {},
     "output_type": "display_data"
    }
   ],
   "source": [
    "# Define the desired order for rows and columns\n",
    "order = regions_all  # Used for row and column order\n",
    "x_order = ['NREM', 'REM']\n",
    "\n",
    "# Set the color palette for Sig values (1 as black, 0 as white with a black edge)\n",
    "custom_palette = {1: 'black', 0: 'snow'}  # Black for Sig == 1, White for Sig == 0\n",
    "\n",
    "# Create the catplot with custom settings\n",
    "g = sns.catplot(\n",
    "    x='SleepState',\n",
    "    y='effect_size',\n",
    "    hue='Sig',\n",
    "    col='StimR',\n",
    "    row='ChanR',\n",
    "    data=con_all[con_all.d>20],\n",
    "    palette=custom_palette,  # Use the defined color palette\n",
    "    row_order=order,  # Use the defined order for rows\n",
    "    col_order=order, \n",
    "    order = x_order, s=2, edgecolor='black', linewidth=0.25,  # Customize marker properties\n",
    ")\n",
    "\n",
    "# Remove x-axis tick labels for all rows except the last one\n",
    "for ax in g.axes[:-1, :].flatten():\n",
    "    ax.set_xticklabels([])\n",
    "\n",
    "    \n",
    "# Remove small titles of each subplot\n",
    "g.set_titles('')\n",
    "\n",
    "# Customize x-axis labels for the first column\n",
    "for ax, x_label in zip(g.axes[0, :], order):\n",
    "    ax.set_title(x_label)\n",
    "\n",
    "# Customize y-axis labels for the first row\n",
    "for ax, y_label in zip(g.axes[:,-1], order):\n",
    "    # ax.set_ylabel(y_label)\n",
    "    axes2 = ax.twinx()   # mirror them\n",
    "    axes2.set_ylabel(y_label)\n",
    "    axes2.set_yticks([])\n",
    "# Additional customization if needed\n",
    "g.set_axis_labels('Sleep State', 'Effect Size')\n",
    "# Set the figure size to 9x9 inches and the background color to white\n",
    "g.fig.set_size_inches(10,10)\n",
    "g.fig.patch.set_facecolor('xkcd:white')\n",
    "\n",
    "path_save ='X:\\\\4 e-Lab\\\\EvM\\\\Projects\\\\EL_experiment\\\\Analysis\\\\Patients\\\\Across\\\\BrainMapping\\\\Sleep\\\\connection\\\\All_swarm.svg'\n",
    "#plt.savefig(path_save)\n",
    "# Show the plot\n",
    "plt.show()\n"
   ]
  },
  {
   "cell_type": "code",
   "execution_count": 59,
   "id": "76e63b7d",
   "metadata": {},
   "outputs": [],
   "source": [
    "features = ['effect_size', 'p_MW', 'p_perm', 'd','delay'] # ['DI', 'd', 'delay']\n",
    "\n",
    "data_mean = con_all.groupby(['Subj', 'SleepState', 'ChanSR', 'StimSR','StimR', 'ChanR'], as_index=False)[features].mean()\n",
    "data_mean.insert(1,'Chan',data_mean.groupby(['Subj', 'ChanSR']).ngroup())\n",
    "for c in np.unique(data_mean.Chan):\n",
    "    area = data_mean.loc[data_mean.Chan == c, 'ChanSR'].values[0]\n",
    "    data_mean.loc[data_mean.StimSR == area, 'Stim'] = int(c)\n",
    "data_mean.Stim = data_mean.Stim.astype('int')"
   ]
  },
  {
   "cell_type": "code",
   "execution_count": 63,
   "id": "42909980",
   "metadata": {},
   "outputs": [],
   "source": [
    "data_plot_all = data_mean[(data_mean.SleepState == ss)&(data_mean.d > 20)].reset_index(drop=True)\n",
    "data_plot_all = data_plot_all.rename(columns={\"ChanSR\": \"ChanA\", \"StimSR\": \"StimA\"}, errors=\"raise\")\n",
    "data_plot_all['show'] = np.ones((len(data_plot_all,)))\n",
    "data_plot_all['lw'] = data_plot_all['effect_size']"
   ]
  },
  {
   "cell_type": "code",
   "execution_count": 61,
   "id": "dd8a8d7d",
   "metadata": {},
   "outputs": [],
   "source": [
    "data_plot_all = con_all[(con_all.SleepState == 'NREM')&(con_all.d > 20)].reset_index(drop=True)\n",
    "data_plot_all = data_plot_all.drop(columns = ['StimA', 'ChanA'])\n",
    "data_plot_all = data_plot_all.rename(columns={\"ChanSR\": \"ChanA\", \"StimSR\": \"StimA\"}, errors=\"raise\")\n",
    "data_plot_all['show'] = np.ones((len(data_plot_all,)))\n",
    "data_plot_all['lw'] = abs(data_plot_all['effect_size'])"
   ]
  },
  {
   "cell_type": "markdown",
   "id": "b07a2310",
   "metadata": {},
   "source": [
    "## Stats"
   ]
  },
  {
   "cell_type": "code",
   "execution_count": null,
   "id": "5504b950",
   "metadata": {},
   "outputs": [],
   "source": [
    "import pandas as pd\n",
    "from sklearn.ensemble import RandomForestClassifier\n",
    "from sklearn.model_selection import train_test_split\n",
    "from sklearn.metrics import classification_report\n",
    "import statsmodels"
   ]
  },
  {
   "cell_type": "code",
   "execution_count": null,
   "id": "a9581b51",
   "metadata": {},
   "outputs": [],
   "source": [
    "import statsmodels.api as sm \n",
    "from statsmodels.regression.mixed_linear_model import MixedLM"
   ]
  },
  {
   "cell_type": "code",
   "execution_count": null,
   "id": "bbf9f60e",
   "metadata": {},
   "outputs": [],
   "source": [
    "df = data_plot_all[(data_plot_all.SleepState == 'NREM')].reset_index(drop=True)\n",
    "df = df[['Subj', 'effect_size', 'p_MW', 'StimR', 'ChanR', 'd', 'delay']]\n",
    "df['condition_effect'] = 0\n",
    "# df.loc[(df.p_MW<0.05)&(df.effect_size<0), 'condition_effect'] =-1\n",
    "# df.loc[(df.p_MW<0.05)&(df.effect_size>0), 'condition_effect'] = 1\n",
    "df.loc[(df.p_MW<0.05), 'condition_effect'] = df.loc[(df.p_MW<0.05), 'effect_size']\n",
    "df['intercept'] = 1\n",
    "indep_var = ['intercept', 'StimR', 'ChanR', 'd', 'delay']\n",
    "# Convert categorical variables 'A' and 'B' to numerical codes for simplicity\n",
    "df['Subj'] = df['Subj'].astype('category').cat.codes\n",
    "df['StimR'] = df['StimR'].astype('category').cat.codes\n",
    "df['ChanR'] = df['ChanR'].astype('category').cat.codes\n",
    "#df = pd.get_dummies(df, columns=['StimR', 'ChanR'])\n",
    "df = df.drop(['p_MW', 'effect_size'], axis=1)\n",
    "# Fit a linear mixed-effects model\n",
    "model = MixedLM(df['condition_effect'], df[indep_var], groups = df['Subj'])\n",
    "#model = MixedLM(\"condition_effect ~ StimR + ChanR + d + delay\", df, groups=df[\"Subj\"])\n",
    "result = model.fit()\n",
    "\n",
    "# Print the summary\n",
    "print(result.summary())"
   ]
  },
  {
   "cell_type": "code",
   "execution_count": null,
   "id": "7d47ac7d",
   "metadata": {},
   "outputs": [],
   "source": [
    "df = data_plot_all[(data_plot_all.SleepState == 'NREM')].reset_index(drop=True)\n",
    "df = df[['Subj', 'effect_size', 'p_MW', 'StimR', 'ChanR', 'd', 'delay']]\n",
    "df['condition_effect'] = 0\n",
    "df.loc[(df.p_MW<0.05)&(df.effect_size<0), 'condition_effect'] =-1\n",
    "df.loc[(df.p_MW<0.05)&(df.effect_size>0), 'condition_effect'] = 1\n",
    "\n",
    "# Convert categorical variables to dummies\n",
    "df = pd.get_dummies(df, columns=[\"Subj\", \"StimR\", \"ChanR\"], drop_first=True)\n",
    "\n",
    "X = df.drop(['condition_effect', 'p_MW', 'effect_size'], axis=1)\n",
    "y = df['condition_effect']\n",
    "X_train, X_test, y_train, y_test = train_test_split(X, y, test_size=0.2, random_state=42)\n",
    "\n",
    "# Train a Random Forest Classifier\n",
    "clf = RandomForestClassifier(n_estimators=100, random_state=42)\n",
    "clf.fit(X_train, y_train)\n",
    "\n",
    "# Predict on test set\n",
    "y_pred = clf.predict(X_test)\n",
    "\n",
    "# Print classification report\n",
    "print(classification_report(y_test, y_pred))\n",
    "\n",
    "# Feature importance\n",
    "feature_importances = pd.DataFrame({\n",
    "    'feature': X.columns,\n",
    "    'importance': clf.feature_importances_\n",
    "}).sort_values(by='importance', ascending=False)\n",
    "print(feature_importances)"
   ]
  },
  {
   "cell_type": "markdown",
   "id": "aa1f5954",
   "metadata": {},
   "source": [
    "## Connectogram"
   ]
  },
  {
   "cell_type": "code",
   "execution_count": 68,
   "id": "3c3057e0",
   "metadata": {},
   "outputs": [
    {
     "name": "stdout",
     "output_type": "stream",
     "text": [
      "781.0\n"
     ]
    },
    {
     "data": {
      "text/plain": [
       "<Figure size 1440x1440 with 0 Axes>"
      ]
     },
     "metadata": {},
     "output_type": "display_data"
    },
    {
     "name": "stdout",
     "output_type": "stream",
     "text": [
      "962.0\n"
     ]
    },
    {
     "data": {
      "text/plain": [
       "<Figure size 1440x1440 with 0 Axes>"
      ]
     },
     "metadata": {},
     "output_type": "display_data"
    },
    {
     "name": "stdout",
     "output_type": "stream",
     "text": [
      "107.0\n"
     ]
    },
    {
     "data": {
      "text/plain": [
       "<Figure size 1440x1440 with 0 Axes>"
      ]
     },
     "metadata": {},
     "output_type": "display_data"
    },
    {
     "name": "stdout",
     "output_type": "stream",
     "text": [
      "66.0\n"
     ]
    },
    {
     "data": {
      "text/plain": [
       "<Figure size 1440x1440 with 0 Axes>"
      ]
     },
     "metadata": {},
     "output_type": "display_data"
    },
    {
     "name": "stdout",
     "output_type": "stream",
     "text": [
      "1075.0\n"
     ]
    },
    {
     "data": {
      "text/plain": [
       "<Figure size 1440x1440 with 0 Axes>"
      ]
     },
     "metadata": {},
     "output_type": "display_data"
    },
    {
     "name": "stdout",
     "output_type": "stream",
     "text": [
      "852.0\n"
     ]
    },
    {
     "data": {
      "text/plain": [
       "<Figure size 1440x1440 with 0 Axes>"
      ]
     },
     "metadata": {},
     "output_type": "display_data"
    },
    {
     "name": "stdout",
     "output_type": "stream",
     "text": [
      "1304.0\n"
     ]
    },
    {
     "data": {
      "text/plain": [
       "<Figure size 1440x1440 with 0 Axes>"
      ]
     },
     "metadata": {},
     "output_type": "display_data"
    },
    {
     "name": "stdout",
     "output_type": "stream",
     "text": [
      "1321.0\n"
     ]
    },
    {
     "data": {
      "text/plain": [
       "<Figure size 1440x1440 with 0 Axes>"
      ]
     },
     "metadata": {},
     "output_type": "display_data"
    },
    {
     "name": "stdout",
     "output_type": "stream",
     "text": [
      "1490.0\n"
     ]
    },
    {
     "data": {
      "text/plain": [
       "<Figure size 1440x1440 with 0 Axes>"
      ]
     },
     "metadata": {},
     "output_type": "display_data"
    },
    {
     "name": "stdout",
     "output_type": "stream",
     "text": [
      "1084.0\n"
     ]
    },
    {
     "data": {
      "text/plain": [
       "<Figure size 1440x1440 with 0 Axes>"
      ]
     },
     "metadata": {},
     "output_type": "display_data"
    },
    {
     "name": "stdout",
     "output_type": "stream",
     "text": [
      "613.0\n"
     ]
    },
    {
     "data": {
      "text/plain": [
       "<Figure size 1440x1440 with 0 Axes>"
      ]
     },
     "metadata": {},
     "output_type": "display_data"
    },
    {
     "name": "stdout",
     "output_type": "stream",
     "text": [
      "1364.0\n"
     ]
    },
    {
     "data": {
      "text/plain": [
       "<Figure size 1440x1440 with 0 Axes>"
      ]
     },
     "metadata": {},
     "output_type": "display_data"
    },
    {
     "name": "stdout",
     "output_type": "stream",
     "text": [
      "102.0\n"
     ]
    },
    {
     "data": {
      "text/plain": [
       "<Figure size 1440x1440 with 0 Axes>"
      ]
     },
     "metadata": {},
     "output_type": "display_data"
    },
    {
     "name": "stdout",
     "output_type": "stream",
     "text": [
      "83.0\n"
     ]
    },
    {
     "data": {
      "text/plain": [
       "<Figure size 1440x1440 with 0 Axes>"
      ]
     },
     "metadata": {},
     "output_type": "display_data"
    },
    {
     "name": "stdout",
     "output_type": "stream",
     "text": [
      "893.0\n"
     ]
    },
    {
     "data": {
      "text/plain": [
       "<Figure size 1440x1440 with 0 Axes>"
      ]
     },
     "metadata": {},
     "output_type": "display_data"
    },
    {
     "name": "stdout",
     "output_type": "stream",
     "text": [
      "581.0\n"
     ]
    },
    {
     "data": {
      "text/plain": [
       "<Figure size 1440x1440 with 0 Axes>"
      ]
     },
     "metadata": {},
     "output_type": "display_data"
    },
    {
     "name": "stdout",
     "output_type": "stream",
     "text": [
      "153.0\n"
     ]
    },
    {
     "data": {
      "text/plain": [
       "<Figure size 1440x1440 with 0 Axes>"
      ]
     },
     "metadata": {},
     "output_type": "display_data"
    },
    {
     "name": "stdout",
     "output_type": "stream",
     "text": [
      "265.0\n"
     ]
    },
    {
     "data": {
      "text/plain": [
       "<Figure size 1440x1440 with 0 Axes>"
      ]
     },
     "metadata": {},
     "output_type": "display_data"
    },
    {
     "name": "stdout",
     "output_type": "stream",
     "text": [
      "37.0\n"
     ]
    },
    {
     "data": {
      "text/plain": [
       "<Figure size 1440x1440 with 0 Axes>"
      ]
     },
     "metadata": {},
     "output_type": "display_data"
    },
    {
     "name": "stdout",
     "output_type": "stream",
     "text": [
      "25.0\n"
     ]
    },
    {
     "data": {
      "text/plain": [
       "<Figure size 1440x1440 with 0 Axes>"
      ]
     },
     "metadata": {},
     "output_type": "display_data"
    },
    {
     "name": "stdout",
     "output_type": "stream",
     "text": [
      "310.0\n"
     ]
    },
    {
     "data": {
      "text/plain": [
       "<Figure size 1440x1440 with 0 Axes>"
      ]
     },
     "metadata": {},
     "output_type": "display_data"
    },
    {
     "name": "stdout",
     "output_type": "stream",
     "text": [
      "338.0\n"
     ]
    },
    {
     "data": {
      "text/plain": [
       "<Figure size 1440x1440 with 0 Axes>"
      ]
     },
     "metadata": {},
     "output_type": "display_data"
    },
    {
     "name": "stdout",
     "output_type": "stream",
     "text": [
      "24.0\n"
     ]
    },
    {
     "data": {
      "text/plain": [
       "<Figure size 1440x1440 with 0 Axes>"
      ]
     },
     "metadata": {},
     "output_type": "display_data"
    },
    {
     "name": "stdout",
     "output_type": "stream",
     "text": [
      "7.0\n"
     ]
    },
    {
     "data": {
      "text/plain": [
       "<Figure size 1440x1440 with 0 Axes>"
      ]
     },
     "metadata": {},
     "output_type": "display_data"
    },
    {
     "name": "stdout",
     "output_type": "stream",
     "text": [
      "220.0\n"
     ]
    },
    {
     "data": {
      "text/plain": [
       "<Figure size 1440x1440 with 0 Axes>"
      ]
     },
     "metadata": {},
     "output_type": "display_data"
    },
    {
     "name": "stdout",
     "output_type": "stream",
     "text": [
      "112.0\n"
     ]
    },
    {
     "data": {
      "text/plain": [
       "<Figure size 1440x1440 with 0 Axes>"
      ]
     },
     "metadata": {},
     "output_type": "display_data"
    },
    {
     "name": "stdout",
     "output_type": "stream",
     "text": [
      "208.0\n"
     ]
    },
    {
     "data": {
      "text/plain": [
       "<Figure size 1440x1440 with 0 Axes>"
      ]
     },
     "metadata": {},
     "output_type": "display_data"
    },
    {
     "name": "stdout",
     "output_type": "stream",
     "text": [
      "187.0\n"
     ]
    },
    {
     "data": {
      "text/plain": [
       "<Figure size 1440x1440 with 0 Axes>"
      ]
     },
     "metadata": {},
     "output_type": "display_data"
    },
    {
     "name": "stdout",
     "output_type": "stream",
     "text": [
      "610.0\n"
     ]
    },
    {
     "data": {
      "text/plain": [
       "<Figure size 1440x1440 with 0 Axes>"
      ]
     },
     "metadata": {},
     "output_type": "display_data"
    },
    {
     "name": "stdout",
     "output_type": "stream",
     "text": [
      "355.0\n"
     ]
    },
    {
     "data": {
      "text/plain": [
       "<Figure size 1440x1440 with 0 Axes>"
      ]
     },
     "metadata": {},
     "output_type": "display_data"
    },
    {
     "name": "stdout",
     "output_type": "stream",
     "text": [
      "189.0\n"
     ]
    },
    {
     "data": {
      "text/plain": [
       "<Figure size 1440x1440 with 0 Axes>"
      ]
     },
     "metadata": {},
     "output_type": "display_data"
    },
    {
     "name": "stdout",
     "output_type": "stream",
     "text": [
      "645.0\n"
     ]
    },
    {
     "data": {
      "text/plain": [
       "<Figure size 1440x1440 with 0 Axes>"
      ]
     },
     "metadata": {},
     "output_type": "display_data"
    },
    {
     "name": "stdout",
     "output_type": "stream",
     "text": [
      "38.0\n"
     ]
    },
    {
     "data": {
      "text/plain": [
       "<Figure size 1440x1440 with 0 Axes>"
      ]
     },
     "metadata": {},
     "output_type": "display_data"
    },
    {
     "name": "stdout",
     "output_type": "stream",
     "text": [
      "27.0\n"
     ]
    },
    {
     "data": {
      "text/plain": [
       "<Figure size 1440x1440 with 0 Axes>"
      ]
     },
     "metadata": {},
     "output_type": "display_data"
    },
    {
     "name": "stdout",
     "output_type": "stream",
     "text": [
      "206.0\n"
     ]
    },
    {
     "data": {
      "text/plain": [
       "<Figure size 1440x1440 with 0 Axes>"
      ]
     },
     "metadata": {},
     "output_type": "display_data"
    },
    {
     "name": "stdout",
     "output_type": "stream",
     "text": [
      "98.0\n"
     ]
    },
    {
     "data": {
      "text/plain": [
       "<Figure size 1440x1440 with 0 Axes>"
      ]
     },
     "metadata": {},
     "output_type": "display_data"
    },
    {
     "name": "stdout",
     "output_type": "stream",
     "text": [
      "67.0\n"
     ]
    },
    {
     "data": {
      "text/plain": [
       "<Figure size 1440x1440 with 0 Axes>"
      ]
     },
     "metadata": {},
     "output_type": "display_data"
    },
    {
     "name": "stdout",
     "output_type": "stream",
     "text": [
      "151.0\n"
     ]
    },
    {
     "data": {
      "text/plain": [
       "<Figure size 1440x1440 with 0 Axes>"
      ]
     },
     "metadata": {},
     "output_type": "display_data"
    },
    {
     "name": "stdout",
     "output_type": "stream",
     "text": [
      "7.0\n"
     ]
    },
    {
     "data": {
      "text/plain": [
       "<Figure size 1440x1440 with 0 Axes>"
      ]
     },
     "metadata": {},
     "output_type": "display_data"
    },
    {
     "name": "stdout",
     "output_type": "stream",
     "text": [
      "5.0\n"
     ]
    },
    {
     "data": {
      "text/plain": [
       "<Figure size 1440x1440 with 0 Axes>"
      ]
     },
     "metadata": {},
     "output_type": "display_data"
    }
   ],
   "source": [
    "for ss in ['NREM', 'REM']:\n",
    "    data_plot_all = con_all[(con_all.SleepState == ss)&(con_all.d > 20)].reset_index(drop=True)\n",
    "    data_plot_all = data_plot_all.drop(columns = ['StimA', 'ChanA'])\n",
    "    data_plot_all = data_plot_all.rename(columns={\"ChanSR\": \"ChanA\", \"StimSR\": \"StimA\"}, errors=\"raise\")\n",
    "    data_plot_all['show'] = np.ones((len(data_plot_all,)))\n",
    "    data_plot_all['lw'] = abs(data_plot_all['effect_size'])\n",
    "    for area in np.unique(data_mean.StimR):\n",
    "        for dir_label, R in zip(['incoming', 'outgoing'],['ChanR', 'StimR']):\n",
    "            data_plot_all['show'] = np.zeros((len(data_plot_all,)))\n",
    "            data_plot_all['effect'] = np.zeros((len(data_plot_all,)))\n",
    "            data_plot_all.loc[(data_plot_all.p_MW <0.01)&(np.isin(data_plot_all[R], area)), 'show'] =1\n",
    "            data_plot_all.loc[(data_plot_all.effect_size>0), 'effect'] = 1\n",
    "            data_plot_all.loc[(data_plot_all.effect_size<0), 'effect'] = -1\n",
    "\n",
    "            data_plot_all['sort'] = 0\n",
    "            data_plot_all.loc[(np.isin(data_plot_all.ChanR, area)), 'sort'] =1\n",
    "            data_plot_all = data_plot_all.sort_values(by=['sort']).reset_index(drop=True)\n",
    "            if np.sum(data_plot_all.show)>0:\n",
    "                print(np.sum(data_plot_all.show))\n",
    "                path_save ='X:\\\\4 e-Lab\\\\EvM\\\\Projects\\\\EL_experiment\\\\Analysis\\\\Patients\\\\Across\\\\BrainMapping\\\\Sleep\\\\connection\\\\'+ss+'_effect_'+area+'_'+dir_label+'.svg'\n",
    "                plotter = ConnectogramPlotter()\n",
    "                os.chdir(path_connectogram)\n",
    "                plotter.load_data(data_plot_all, path_save)\n",
    "                plotter.show_plot(area +' -- '+dir_label+' Connections (B-R)', 'effect')\n",
    "                plt.close()\n",
    "                os.chdir(cwp)"
   ]
  },
  {
   "cell_type": "code",
   "execution_count": null,
   "id": "14a55510",
   "metadata": {},
   "outputs": [],
   "source": [
    "for area in np.unique(data_mean.StimR):\n",
    "    for di, delays in zip(['direct', 'indirect'], [[0,0.02],[0.02, 0.4]]):\n",
    "        for h in ['increased', 'decreased']:\n",
    "            data_plot_all['show'] = np.zeros((len(data_plot_all,)))\n",
    "            if label == 'increase':\n",
    "                data_plot_all.loc[(data_plot_all.delay>= delays[0])&(data_plot_all.delay< delays[1])&(data_plot_all.p_MW <0.01)& (data_plot_all.effect_size>0)&((np.isin(data_plot_all.StimR, area))|(np.isin(data_plot_all.ChanR, area))), 'show'] =1\n",
    "            else:\n",
    "                data_plot_all.loc[(data_plot_all.delay>= delays[0])&(data_plot_all.delay< delays[1])&(data_plot_all.p_MW <0.01)& (data_plot_all.effect_size<0)&((np.isin(data_plot_all.StimR, area))|(np.isin(data_plot_all.ChanR, area))), 'show'] =1\n",
    "            \n",
    "            data_plot_all['sort'] = 0\n",
    "            data_plot_all.loc[(np.isin(data_plot_all.ChanR, area)), 'sort'] =1\n",
    "            data_plot_all = data_plot_all.sort_values(by=['sort']).reset_index(drop=True)\n",
    "            if np.sum(data_plot_all.show)>0:\n",
    "                print(np.sum(data_plot_all.show))\n",
    "                path_save ='X:\\\\4 e-Lab\\\\EvM\\\\Projects\\\\EL_experiment\\\\Analysis\\\\Patients\\\\Across\\\\BrainMapping\\\\Sleep\\\\connection\\\\Mean_DI_'+area+'_'+label+'_'+di+'.svg'\n",
    "                plotter = ConnectogramPlotter()\n",
    "                os.chdir(path_connectogram)\n",
    "                plotter.load_data(data_plot_all, path_save)\n",
    "                plotter.show_plot(area +' -- '+label+' '+di+' Connections (B-R)', 'area')\n",
    "                plt.close()\n",
    "                os.chdir(cwp)"
   ]
  },
  {
   "cell_type": "code",
   "execution_count": null,
   "id": "17ee6f25",
   "metadata": {},
   "outputs": [],
   "source": [
    "node_area = node_all.groupby(['Subj', 'Stim', 'Chan', 'StimA', 'ChanA', 'SleepState'], as_index=False)[['stat','biserial', 'd', 'delay']].mean()"
   ]
  },
  {
   "cell_type": "code",
   "execution_count": null,
   "id": "9b80c166",
   "metadata": {},
   "outputs": [],
   "source": [
    "node_area_mean = node_area.groupby(['Subj', 'StimA', 'ChanA', 'SleepState'], as_index=False)[['stat','biserial', 'd', 'delay']].mean()\n",
    "node_area_mean.insert(1,'Chan',node_area_mean.groupby(['Subj', 'ChanA']).ngroup())\n",
    "for c in np.unique(node_area_mean.Chan):\n",
    "    area = node_area_mean.loc[node_area_mean.Chan == c, 'ChanA'].values[0]\n",
    "    subj = node_area_mean.loc[node_area_mean.Chan == c, 'Subj'].values[0]\n",
    "    node_area_mean.loc[(node_area_mean.Subj == subj)&(node_area_mean.StimA == area), 'Stim'] = int(c)"
   ]
  },
  {
   "cell_type": "code",
   "execution_count": null,
   "id": "3330f854",
   "metadata": {},
   "outputs": [],
   "source": [
    "import statsmodels.api as sm\n",
    "import statsmodels.formula.api as smf"
   ]
  },
  {
   "cell_type": "code",
   "execution_count": null,
   "id": "68609c22",
   "metadata": {
    "scrolled": false
   },
   "outputs": [],
   "source": [
    "# Define the mixed-effects linear regression model formula\n",
    "data = node_all[~np.isnan(node_all.biserial)&(node_all.SleepState == 'NREM')].reset_index(drop=True)\n",
    "data = data[['biserial', 'Subj', 'StimR', 'ChanR', 'd', 'delay']]\n",
    "data.reset_index(drop=False, inplace=False) \n",
    "\n",
    "data['Subj'] = data['Subj'].astype('category')\n",
    "data['StimR'] = data['StimR'].astype('category')\n",
    "data['ChanR'] = data['ChanR'].astype('category')\n",
    "\n",
    "formula = 'biserial ~ C(StimR) + C(ChanR) + d + delay'\n",
    "\n",
    "import statsmodels.api as sm\n",
    "\n",
    "model = sm.OLS.from_formula(formula, data=data, groups=data['Subj']).fit()\n",
    "print(model.summary())"
   ]
  },
  {
   "cell_type": "code",
   "execution_count": null,
   "id": "e8fb6c3f",
   "metadata": {},
   "outputs": [],
   "source": [
    "# Define the mixed-effects linear regression model formula\n",
    "data = node_all[~np.isnan(node_all.biserial)&(node_all.SleepState == 'NREM')].reset_index(drop=True)\n",
    "data = data[['biserial', 'Subj', 'StimR', 'ChanR', 'd', 'delay']]\n",
    "data.reset_index(drop=False, inplace=False)\n",
    "# formula = 'Sig ~ d + delay'\n",
    "#data['StimR'] = data['StimR'].astype('category')\n",
    "data['ChanR'] = data['ChanR'].astype('category')\n",
    "data['Subj'] = data['Subj'].astype('category')\n",
    "\n",
    "formula = 'biserial ~ d + delay'\n",
    "\n",
    "# Specify the grouping variable for the random effect (Subj)\n",
    "groups = data['Subj']\n",
    "\n",
    "# Fit the mixed-effects linear regression model\n",
    "#mixed_lm = sm.MixedLM.from_formula(formula, data=data, groups=groups).fit()\n",
    "mixed_lm = sm.MixedLM.from_formula(formula, data=data, groups=data['Subj'] ).fit()\n",
    "\n",
    "# Print the model summary to examine the results\n",
    "print(mixed_lm.summary())"
   ]
  },
  {
   "cell_type": "code",
   "execution_count": null,
   "id": "e20bbf51",
   "metadata": {},
   "outputs": [],
   "source": [
    "plot_connect = node_area_mean.copy()"
   ]
  },
  {
   "cell_type": "code",
   "execution_count": null,
   "id": "d16471eb",
   "metadata": {},
   "outputs": [],
   "source": [
    "plot_connect[plot_connect.ChanA == 'Test']"
   ]
  },
  {
   "cell_type": "code",
   "execution_count": null,
   "id": "eb2d24ea",
   "metadata": {},
   "outputs": [],
   "source": [
    "#area = 'Insula'\n",
    "for subj in np.unique(plot_connect.Subj):\n",
    "    plot_connect['show'] = np.zeros((len(plot_connect,)))\n",
    "    plot_connect.loc[np.isin(plot_connect.Subj, subj), 'show'] =1\n",
    "    if np.sum(plot_connect.show)>0:\n",
    "        path_save ='X:\\\\4 e-Lab\\\\EvM\\\\Projects\\\\EL_experiment\\\\Analysis\\\\Patients\\\\Across\\\\BrainMapping\\\\Sleep\\\\Connections\\\\Biserial\\\\'+subj+'_NREM_increase.svg'\n",
    "        plotter = ConnectogramPlotter()\n",
    "        os.chdir(path_connectogram)\n",
    "        plotter.load_data(plot_connect, path_save)\n",
    "        plotter.show_plot(subj +' -- Unidirectional Connections', 'area')\n",
    "        plt.close()\n",
    "        os.chdir(cwp)"
   ]
  },
  {
   "cell_type": "code",
   "execution_count": null,
   "id": "1144e697",
   "metadata": {},
   "outputs": [],
   "source": [
    "thr = 0.4\n",
    "ss = 'NREM'\n",
    "data_plot = plot_connect[(plot_connect.SleepState== ss)&(plot_connect.stat>thr)]\n",
    "path_save ='X:\\\\4 e-Lab\\\\EvM\\\\Projects\\\\EL_experiment\\\\Analysis\\\\Patients\\\\Across\\\\BrainMapping\\\\Sleep\\\\Connections\\\\Biserial\\\\'+ss+'_increase.svg'\n",
    "plotter = ConnectogramPlotter()\n",
    "os.chdir(path_connectogram)\n",
    "plotter.load_data(data_plot, path_save)\n",
    "plotter.show_plot(ss+' increased', 'area')\n",
    "os.chdir(cwd)"
   ]
  },
  {
   "cell_type": "code",
   "execution_count": null,
   "id": "14092c2c",
   "metadata": {},
   "outputs": [],
   "source": [
    "thr = -0.5\n",
    "ss = 'NREM'\n",
    "data_plot = plot_connect[(plot_connect.SleepState== ss)&(plot_connect.stat<thr)]\n",
    "path_save ='X:\\\\4 e-Lab\\\\EvM\\\\Projects\\\\EL_experiment\\\\Analysis\\\\Patients\\\\Across\\\\BrainMapping\\\\Sleep\\\\Connections\\\\Biserial\\\\'+ss+'_decrease.svg'\n",
    "plotter = ConnectogramPlotter()\n",
    "os.chdir(path_connectogram)\n",
    "plotter.load_data(data_plot, path_save)\n",
    "plotter.show_plot(ss+' decreased', 'area')\n",
    "os.chdir(cwd)"
   ]
  },
  {
   "cell_type": "code",
   "execution_count": null,
   "id": "ba64dd1a",
   "metadata": {},
   "outputs": [],
   "source": []
  },
  {
   "cell_type": "markdown",
   "id": "acf2e2aa",
   "metadata": {},
   "source": [
    "# Load DATA"
   ]
  },
  {
   "cell_type": "code",
   "execution_count": null,
   "id": "61eff13d",
   "metadata": {},
   "outputs": [],
   "source": [
    "arr = []\n",
    "subj = \"EL027\"\n",
    "for subj in subjs:\n",
    "    print(subj)\n",
    "    path_patient_analysis = os.path.join(sub_path, 'EvM', 'Projects', 'EL_experiment', 'Analysis', 'Patients', subj)\n",
    "\n",
    "    path_gen = os.path.join(sub_path+'\\Patients\\\\' + subj)\n",
    "    if not os.path.exists(path_gen):\n",
    "        path_gen = 'T:\\\\EL_experiment\\\\Patients\\\\' + subj\n",
    "    path_patient = path_gen + '\\Data\\EL_experiment'  # os.path.dirname(os.path.dirname(cwd))+'/Patients/'+subj\n",
    "    path_infos = os.path.join(path_gen, 'Electrodes')\n",
    "    # labels\n",
    "    files_list = glob(path_patient_analysis + '\\\\' + folder + '/data/Stim_list_*')\n",
    "    i = 0\n",
    "    stimlist_file = path_patient_analysis + '\\\\' + folder + '\\\\' + cond_folder + '\\\\data\\\\stimlist_' + cond_folder + '.csv'\n",
    "    stimlist = pd.read_csv(stimlist_file)\n",
    "    lbls = pd.read_excel(os.path.join(path_infos, subj + \"_labels.xlsx\"), header=0, sheet_name='BP')\n",
    "    if \"type\" in lbls.columns:\n",
    "        lbls = lbls[lbls.type=='SEEG']\n",
    "        lbls = lbls.reset_index(drop=True)\n",
    "    labels_all, labels_region, labels_clinic, coord_all, StimChans, StimChanSM, StimChansC, StimChanIx, stimlist = bf.get_Stim_chans(\n",
    "        stimlist,\n",
    "        lbls)\n",
    "    stimlist_sleep = pd.read_csv(os.path.join(path_patient_analysis, 'stimlist_hypnogram.csv'))\n",
    "    file_con = path_patient_analysis + '\\\\' + folder + '/' + cond_folder + '/data/con_trial_all.csv'\n",
    "    con_trial = pd.read_csv(file_con)\n",
    "    badchans = pd.read_csv(path_patient_analysis + '/BrainMapping/data/badchan.csv')\n",
    "    bad_chans = np.unique(np.array(np.where(badchans.values[:, 1:] == 1))[0, :])\n",
    "    con_trial = bf.add_sleepstate(con_trial)\n",
    "    con_trial.insert(0,'Con_ID',con_trial.groupby(['Stim', 'Chan']).ngroup())\n",
    "    con_trial['LL_sig'] = con_trial['LL']*con_trial['Sig']\n",
    "    ##real\n",
    "    con_trial = con_trial[(con_trial.Sig>-1)&(con_trial.Artefact<1)].reset_index(drop=True)\n",
    "    con_trial_sleep = con_trial.groupby(['Stim', 'Chan', 'SleepState'], as_index=False)[['Sig','LL_sig']].mean()\n",
    "    con_trial_sleep = con_trial_sleep[np.isin(con_trial_sleep.SleepState, ['Wake', 'NREM', 'REM'])].reset_index(drop=True)\n",
    "    con_trial_sleep.insert(0,'Node_ID',con_trial_sleep.groupby(['Stim', 'Chan']).ngroup())\n",
    "    nodes = np.unique(con_trial_sleep.Node_ID)\n",
    "    M = np.zeros((len(nodes), 3))\n",
    "    M[:,:] = np.nan\n",
    "\n",
    "    for ss_ix, ss in enumerate(['Wake', 'NREM', 'REM']):\n",
    "        con = con_trial_sleep.loc[con_trial_sleep.SleepState ==ss, 'Node_ID'].values\n",
    "        w = con_trial_sleep.loc[con_trial_sleep.SleepState ==ss, 'LL_sig'].values\n",
    "        M[con, ss_ix] = w\n",
    "    arr.append([subj, 'NREM', np.corrcoef(M[:,0], M[:,1])[0,1], 1])\n",
    "    arr.append([subj, 'REM', np.corrcoef(M[:,0], M[:,2])[0,1], 1])\n",
    "    for n in range(20):\n",
    "        con_trial_sleep_surr = con_trial.copy()\n",
    "        # Shuffle the \"Sleep\" values within each \"Num\" group\n",
    "        unique_nums = con_trial_sleep_surr['Num'].unique()\n",
    "        ss_real = con_trial_sleep_surr.groupby(['Num'])['Sleep'].mean()\n",
    "        shuffled_sleep_values = np.random.permutation(ss_real)\n",
    "        con_trial_sleep_surr['Sleep'] = con_trial_sleep_surr['Num'].map(dict(zip(unique_nums, shuffled_sleep_values)))\n",
    "        con_trial_sleep_surr = con_trial_sleep_surr.drop(columns='SleepState')\n",
    "        con_trial_sleep_surr = bf.add_sleepstate(con_trial_sleep_surr)\n",
    "        con_trial_sleep_surr = con_trial_sleep_surr.groupby(['Stim', 'Chan', 'SleepState'], as_index=False)[['Sig','LL_sig']].mean()\n",
    "        con_trial_sleep_surr = con_trial_sleep_surr[np.isin(con_trial_sleep_surr.SleepState, ['Wake', 'NREM', 'REM'])].reset_index(drop=True)\n",
    "        con_trial_sleep_surr.insert(0,'Node_ID',con_trial_sleep_surr.groupby(['Stim', 'Chan']).ngroup())\n",
    "        for ss_ix, ss in enumerate(['Wake', 'NREM', 'REM']):\n",
    "            con = con_trial_sleep_surr.loc[con_trial_sleep_surr.SleepState ==ss, 'Node_ID'].values\n",
    "            w = con_trial_sleep_surr.loc[con_trial_sleep_surr.SleepState ==ss, 'LL_sig'].values\n",
    "            M[con, ss_ix] = w\n",
    "        np.corrcoef(M[:,0], M[:,1])[0,1]\n",
    "        arr.append([subj, 'NREM', np.corrcoef(M[:,0], M[:,1])[0,1], 0])\n",
    "        arr.append([subj, 'REM', np.corrcoef(M[:,0], M[:,2])[0,1], 0])"
   ]
  },
  {
   "cell_type": "code",
   "execution_count": null,
   "id": "0243965b",
   "metadata": {},
   "outputs": [],
   "source": [
    "plt.figure(figsize=(10,5))\n",
    "ax = sns.swarmplot(x='SleepState', y= 'P', data= df[df.Real == 1], hue = 'Subj')\n",
    "sns.boxplot(x='SleepState', y= 'P', data= df[df.Real == 1], ax = ax)\n",
    "plt.ylim([0.95, 1])\n",
    "plt.savefig('X:\\\\4 e-Lab\\EvM\\Projects\\EL_experiment\\Analysis\\Patients\\Across\\BrainMapping\\Sleep\\P_real.svg')"
   ]
  },
  {
   "cell_type": "code",
   "execution_count": null,
   "id": "97c4a680",
   "metadata": {},
   "outputs": [],
   "source": [
    "plt.figure(figsize=(10,5))\n",
    "sns.boxplot(x='SleepState', y= 'P', data= df[df.Real == 0])\n",
    "plt.ylim([0.95, 1])\n",
    "plt.savefig('X:\\\\4 e-Lab\\EvM\\Projects\\EL_experiment\\Analysis\\Patients\\Across\\BrainMapping\\Sleep\\P_surr.svg')"
   ]
  },
  {
   "cell_type": "code",
   "execution_count": null,
   "id": "fd5e0c32",
   "metadata": {},
   "outputs": [],
   "source": [
    "df = pd.DataFrame(arr, columns= ['Subj', 'SleepState', 'P', 'Real'])"
   ]
  },
  {
   "cell_type": "code",
   "execution_count": null,
   "id": "8a9837d8",
   "metadata": {},
   "outputs": [],
   "source": [
    "con_trial_sleep_surr = con_trial.copy()\n",
    "# Shuffle the \"Sleep\" values within each \"Num\" group\n",
    "unique_nums = con_trial_sleep_surr['Num'].unique()\n",
    "ss_real = con_trial_sleep_surr.groupby(['Num'])['Sleep'].mean()\n",
    "shuffled_sleep_values = np.random.permutation(ss_real)\n",
    "con_trial_sleep_surr['Sleep'] = con_trial_sleep_surr['Num'].map(dict(zip(unique_nums, shuffled_sleep_values)))\n",
    "con_trial_sleep_surr = con_trial_sleep_surr.drop(columns='SleepState')\n",
    "con_trial_sleep_surr = bf.add_sleepstate(con_trial_sleep_surr)\n",
    "con_trial_sleep_surr = con_trial_sleep_surr.groupby(['Stim', 'Chan', 'SleepState'], as_index=False)[['Sig','LL_sig']].mean()\n",
    "con_trial_sleep_surr = con_trial_sleep_surr[np.isin(con_trial_sleep_surr.SleepState, ['Wake', 'NREM', 'REM'])].reset_index(drop=True)\n",
    "con_trial_sleep_surr.insert(0,'Node_ID',con_trial_sleep_surr.groupby(['Stim', 'Chan']).ngroup())\n",
    "for ss_ix, ss in enumerate(['Wake', 'NREM', 'REM']):\n",
    "    con = con_trial_sleep_surr.loc[con_trial_sleep_surr.SleepState ==ss, 'Node_ID'].values\n",
    "    w = con_trial_sleep_surr.loc[con_trial_sleep_surr.SleepState ==ss, 'LL_sig'].values\n",
    "    M[con, ss_ix] = w\n",
    "np.corrcoef(M[:,0], M[:,1])[0,1]"
   ]
  },
  {
   "cell_type": "code",
   "execution_count": null,
   "id": "9a1ca585",
   "metadata": {},
   "outputs": [],
   "source": [
    "np.corrcoef(M[:,0], M[:,1])[0,1]"
   ]
  },
  {
   "cell_type": "code",
   "execution_count": null,
   "id": "53e86d0d",
   "metadata": {},
   "outputs": [],
   "source": [
    "exp_dir = os.path.join(path_patient_analysis, 'BrainMapping', 'CR', 'Graph','Node')\n",
    "os.makedirs(exp_dir, exist_ok=True) \n",
    "file = os.path.join(exp_dir, 'node_feature.csv')"
   ]
  },
  {
   "cell_type": "code",
   "execution_count": null,
   "id": "039d0bcc",
   "metadata": {},
   "outputs": [],
   "source": []
  },
  {
   "cell_type": "code",
   "execution_count": null,
   "id": "85e0ec34",
   "metadata": {},
   "outputs": [],
   "source": [
    "def"
   ]
  },
  {
   "cell_type": "code",
   "execution_count": null,
   "id": "b9e19017",
   "metadata": {
    "scrolled": true
   },
   "outputs": [],
   "source": [
    "if os.path.isfile(file):\n",
    "    df = pd.read_csv(file)\n",
    "else:\n",
    "    # Calculate metrics for each node\n",
    "    nodes = []\n",
    "    Dout = []\n",
    "    Din = []\n",
    "    Dout_w = []\n",
    "    Din_w = []\n",
    "    Cb = []\n",
    "    Cc = []\n",
    "    SS = []\n",
    "    # repeat for each condition\n",
    "    for ss in ['Wake', 'NREM', 'REM']:\n",
    "        df_sleep = con_trial_sleep[(con_trial_sleep.Sig >0)&(con_trial_sleep.SleepState == ss)].reset_index(drop=True)\n",
    "        # Create a directed network from the DataFrame\n",
    "        n = pp.Network(directed=True)\n",
    "        for index, row in df_sleep.iterrows():\n",
    "            n.add_edge(str(row['Stim']), str(row['Chan']), weight=row['LL_sig'])\n",
    "\n",
    "        for node in n.nodes:\n",
    "            nodes.append(node)\n",
    "            Dout.append(n.nodes[node]['outdegree'])\n",
    "            Din.append(n.nodes[node]['indegree'])\n",
    "            Dout_w.append(n.nodes[node]['outweight'])\n",
    "            Din_w.append(n.nodes[node]['inweight'])\n",
    "            Cb.append(pp.algorithms.centralities.betweenness(n)[node])\n",
    "            Cc.append(pp.algorithms.centralities.closeness(n)[node])\n",
    "            SS.append(ss)\n",
    "\n",
    "    # Create DataFrame\n",
    "    df = pd.DataFrame({\n",
    "        'Chan': nodes,\n",
    "        'Dout': Dout,\n",
    "        'Din': Din,\n",
    "        'Dout_w': Dout_w,\n",
    "        'Din_w': Din_w,\n",
    "        'Cb': Cb,\n",
    "        'Cc': Cc,\n",
    "        'SleepState': SS\n",
    "    })\n",
    "    df.to_csv(file, header = True, index =False)"
   ]
  },
  {
   "cell_type": "code",
   "execution_count": null,
   "id": "bd1807c0",
   "metadata": {},
   "outputs": [],
   "source": [
    "df"
   ]
  },
  {
   "cell_type": "code",
   "execution_count": null,
   "id": "8001f804",
   "metadata": {},
   "outputs": [],
   "source": [
    "stop - --- plotting"
   ]
  },
  {
   "cell_type": "code",
   "execution_count": null,
   "id": "d7814557",
   "metadata": {},
   "outputs": [],
   "source": [
    "feature_selected = 'Din_w'\n",
    "# Extract metric values during 'Wake' state\n",
    "wake_values = df[df['SleepState'] == 'Wake'].set_index('Chan').to_dict()\n",
    "\n",
    "# Normalize 'Dout' metric for plotting\n",
    "df['Normalized_' + feature_selected] = df.apply(lambda row: row[feature_selected] / wake_values[feature_selected][row['Chan']] if wake_values[feature_selected][row['Chan']] != 0 else 2 if row[feature_selected] !=0 else np.nan , axis=1)\n",
    "\n",
    "# Plot\n",
    "sns.boxplot(x='ChanR', y='Normalized_' + feature_selected, hue = 'SleepState', data=df)\n",
    "plt.show()\n"
   ]
  },
  {
   "cell_type": "code",
   "execution_count": null,
   "id": "3dacf306",
   "metadata": {},
   "outputs": [],
   "source": [
    "feature_selected = 'Cc'\n",
    "# Extract metric values during 'Wake' state\n",
    "wake_values = df[df['SleepState'] == 'Wake'].set_index('Chan').to_dict()\n",
    "\n",
    "# Normalize 'Dout' metric for plotting\n",
    "df['Normalized_' + feature_selected] = df.apply(lambda row: row[feature_selected] / wake_values[feature_selected][row['Chan']] if wake_values[feature_selected][row['Chan']] != 0 else 2 if row[feature_selected] !=0 else np.nan , axis=1)\n",
    "\n",
    "# Plot\n",
    "sns.boxplot(x='ChanR', y='Normalized_' + feature_selected, hue = 'SleepState', data=df)\n",
    "plt.show()\n"
   ]
  },
  {
   "cell_type": "markdown",
   "id": "9d0fdd11",
   "metadata": {},
   "source": [
    "# Node level"
   ]
  },
  {
   "cell_type": "code",
   "execution_count": null,
   "id": "fcf1d07b",
   "metadata": {},
   "outputs": [],
   "source": [
    "# Create a directed network from the adjacency matrix\n",
    "n = pp.Network(directed=True)\n",
    "for i in range(M.shape[0]):\n",
    "    for j in range(M.shape[1]):\n",
    "        if M[i][j] > 0:\n",
    "            n.add_edge(str(i), str(j), weight=M[i][j])\n",
    "\n",
    "# Calculate metrics for each node\n",
    "nodes = []\n",
    "Dout = []\n",
    "Din = []\n",
    "Cb = []\n",
    "Cc = []\n",
    "\n",
    "for node in n.nodes:\n",
    "    nodes.append(node)\n",
    "    Dout.append(n.degrees()[0][node])\n",
    "    Din.append(n.degrees()[1][node])\n",
    "    Cb.append(pp.algorithms.centralities.betweenness(n)[node])\n",
    "    Cc.append(pp.algorithms.centralities.closeness(n)[node])\n",
    "\n",
    "# Create DataFrame\n",
    "df = pd.DataFrame({\n",
    "    'chan': nodes,\n",
    "    'Dout': Dout,\n",
    "    'Din': Din,\n",
    "    'Cb': Cb,\n",
    "    'Cc': Cc\n",
    "})\n",
    "\n",
    "print(df)"
   ]
  },
  {
   "cell_type": "markdown",
   "id": "altered-atlanta",
   "metadata": {},
   "source": [
    "### Surrogate"
   ]
  },
  {
   "cell_type": "markdown",
   "id": "fallen-stadium",
   "metadata": {},
   "source": [
    "g = sns.catplot(x ='Lobe', y='LLs_n', hue='SS', data= G_deg_surr[(G_deg_surr.Lobe != 'Unknown')&(G_deg_surr.Lobe != 'out')&(G_deg.SleepState != 'Wake')], row = 'Deg', kind='violin',s=5,height=8,aspect= 4)\n",
    "ax = g.axes  # access a grid of 'axes' objects\n",
    "plt.ylim([0.5,2])\n",
    "ax[0,0].axhline(1, color='k', linewidth=2)\n",
    "ax[1,0].axhline(1, color='k', linewidth=2)\n",
    "plt.savefig('Y:\\eLab\\EvM\\Projects\\EL_experiment\\Analysis\\Patients\\Across\\BrainMapping\\Sleep\\degree\\\\Deg_Lobe_surr.svg')"
   ]
  },
  {
   "cell_type": "markdown",
   "id": "informational-congo",
   "metadata": {},
   "source": [
    "### Real"
   ]
  },
  {
   "cell_type": "code",
   "execution_count": null,
   "id": "owned-certificate",
   "metadata": {},
   "outputs": [],
   "source": [
    "G = data_con_subj.groupby(['Subj','Stim','Chan','ChanR','StimR','SleepState'], as_index=False)[['Sig','LLs', 'd']].mean()"
   ]
  },
  {
   "cell_type": "code",
   "execution_count": null,
   "id": "aging-adrian",
   "metadata": {},
   "outputs": [],
   "source": [
    "import tqdm"
   ]
  },
  {
   "cell_type": "code",
   "execution_count": null,
   "id": "controlling-scholarship",
   "metadata": {},
   "outputs": [],
   "source": [
    "M.shape"
   ]
  },
  {
   "cell_type": "code",
   "execution_count": null,
   "id": "essential-determination",
   "metadata": {},
   "outputs": [],
   "source": [
    "start = 0\n",
    "for subj in tqdm.tqdm(subjs):\n",
    "    chans =np.unique(G.loc[G.Subj==subj, ['Stim','Chan']].astype('int'))\n",
    "    M = np.zeros((np.max(chans)+1, np.max(chans)+1,3,2))-1\n",
    "    for sc in chans:\n",
    "        for ss,ss_ix in zip(['Wake', 'NREM', 'REM'], np.arange(3)):\n",
    "            dat = G.loc[(G.SleepState==ss)&(G.Stim==sc)&(G.Subj==subj), ['Chan', 'Sig', 'LLs']].values\n",
    "            dat[np.isnan(dat)] = 0\n",
    "            M[sc, dat[:,0].astype('int'),ss_ix,0] = dat[:,1]\n",
    "            M[sc, dat[:,0].astype('int'),ss_ix,1] = dat[:,2]\n",
    "    for ss,ss_ix in zip(['Wake', 'REM'], np.arange(1,3)):\n",
    "        for m, mix in zip(['Prob', 'LL'], np.arange(2)):\n",
    "            x = M[:,:,1,mix].flatten()\n",
    "            y = M[:,:,ss_ix,mix].flatten()\n",
    "            ix = (x>0)|(y>0)\n",
    "            y = y[ix]\n",
    "            x = x[ix]\n",
    "            p = np.corrcoef(x,y)[0,1]\n",
    "            arr = [[subj, ss, m, p]]\n",
    "            arr = pd.DataFrame(arr, columns=['Subj', 'SleepState', 'weight', 'P'])\n",
    "            if start==0:\n",
    "                arr_subj_2 = arr\n",
    "                start =1\n",
    "            else:\n",
    "                arr_subj_2 = pd.concat([arr_subj_2, arr])  \n",
    "arr_subj_2 = arr_subj_2.reset_index(drop=True)"
   ]
  },
  {
   "cell_type": "code",
   "execution_count": null,
   "id": "vocational-prescription",
   "metadata": {},
   "outputs": [],
   "source": [
    "start = 0\n",
    "for subj in tqdm.tqdm(subjs):\n",
    "    chans =np.unique(G.loc[G.Subj==subj, ['Stim','Chan']].astype('int'))\n",
    "    M = np.zeros((np.max(chans)+1, np.max(chans)+1,3,2))-1\n",
    "    for sc in chans:\n",
    "        for ss,ss_ix in zip(['Wake', 'NREM', 'REM'], np.arange(3)):\n",
    "            dat = G.loc[(G.SleepState==ss)&(G.Stim==sc)&(G.Subj==subj), ['Chan', 'Sig', 'LLs']].values\n",
    "            dat[np.isnan(dat)] = 0\n",
    "            M[sc, dat[:,0].astype('int'),ss_ix,0] = dat[:,1]\n",
    "            M[sc, dat[:,0].astype('int'),ss_ix,1] = dat[:,2]\n",
    "    for ss,ss_ix in zip(['NREM', 'REM'], np.arange(1,3)):\n",
    "        for m, mix in zip(['Prob', 'LL'], np.arange(2)):\n",
    "            x = M[:,:,0,mix].flatten()\n",
    "            y = M[:,:,ss_ix,mix].flatten()\n",
    "            ix = (x>0)|(y>0)\n",
    "            y = y[ix]\n",
    "            x = x[ix]\n",
    "            p = np.corrcoef(x,y)[0,1]\n",
    "            arr = [[subj, ss, m, p]]\n",
    "            arr = pd.DataFrame(arr, columns=['Subj', 'SleepState', 'weight', 'P'])\n",
    "            if start==0:\n",
    "                arr_subj = arr\n",
    "                start =1\n",
    "            else:\n",
    "                arr_subj = pd.concat([arr_subj, arr])  \n",
    "arr_subj = arr_subj.reset_index(drop=True)"
   ]
  },
  {
   "cell_type": "code",
   "execution_count": null,
   "id": "roman-marker",
   "metadata": {},
   "outputs": [],
   "source": [
    "def violin_groups(data_plot, xx, yy, cc, palette, labels):\n",
    "    sns.set_style('white')\n",
    "    f, ax = plt.subplots(figsize=(15, 10))\n",
    "    ax = sns.violinplot(x=xx, y=yy, data=data_plot, dodge=False,\n",
    "                        palette=palette,\n",
    "                        scale=\"width\", inner=None, alpha=.2)\n",
    "    xlim = ax.get_xlim()\n",
    "    ylim = ax.get_ylim()\n",
    "    for violin in ax.collections:\n",
    "        bbox = violin.get_paths()[0].get_extents()\n",
    "        x0, y0, width, height = bbox.bounds\n",
    "        violin.set_clip_path(plt.Rectangle((x0, y0), width / 2, height, transform=ax.transData))\n",
    "        violin.set_alpha(0.8)\n",
    "\n",
    "    sns.boxplot(x=xx, y=yy, data=data_plot, saturation=1, showfliers=False,\n",
    "                width=0.3, boxprops={'zorder': 3, 'facecolor': 'none'}, ax=ax, linewidth=3)\n",
    "    old_len_collections = len(ax.collections)\n",
    "    if cc:\n",
    "        sns.stripplot(x=xx, y=yy, c = data_plot[cc].values, data=data_plot, dodge=False, ax=ax, alpha=0.1, cmap='hot')\n",
    "    else:\n",
    "        sns.stripplot(x=xx, y=yy, data=data_plot, palette=palette, dodge=False, ax=ax, alpha=0.1)\n",
    "    for dots in ax.collections[old_len_collections:]:\n",
    "        dots.set_offsets(dots.get_offsets() + np.array([0.12, 0]))\n",
    "    ax.set_xlim(xlim)\n",
    "    ax.set_ylim(ylim)\n",
    "    plt.xticks(fontsize=20)\n",
    "    plt.yticks(fontsize=20)\n",
    "    plt.ylabel(labels[0], fontsize=24)\n",
    "    plt.xlabel(\"\", fontsize=24)\n",
    "    # ax.legend_.remove()\n",
    "    plt.savefig(\n",
    "        sub_path + 'EvM\\Projects\\EL_experiment\\Analysis\\Patients\\Across\\BrainMapping\\General\\DI\\\\violin_' + xx + '_' + yy + '.svg')\n",
    "    plt.savefig(\n",
    "        sub_path + 'EvM\\Projects\\EL_experiment\\Analysis\\Patients\\Across\\BrainMapping\\General\\DI\\\\violin_' + xx + '_' + yy + '.jpg')\n",
    "    plt.show()"
   ]
  },
  {
   "cell_type": "code",
   "execution_count": null,
   "id": "prescribed-girlfriend",
   "metadata": {},
   "outputs": [],
   "source": [
    "import BM_across_plots as BMp2"
   ]
  },
  {
   "cell_type": "code",
   "execution_count": null,
   "id": "raised-climb",
   "metadata": {},
   "outputs": [],
   "source": [
    "BMp2.violin_pearson(data_plot, 'Prob')"
   ]
  },
  {
   "cell_type": "code",
   "execution_count": null,
   "id": "complimentary-genre",
   "metadata": {},
   "outputs": [],
   "source": [
    "data_plot = arr_subj[arr_subj.weight=='LL']\n",
    "\n",
    "xx = 'SleepState'\n",
    "yy = 'P'\n",
    "sns.set_style('white')\n",
    "f, ax = plt.subplots(figsize=(15, 10))\n",
    "ax = sns.violinplot(x=xx, y=yy, data=data_plot, dodge=False,\n",
    "                    scale=\"width\", inner=None, alpha=.02)\n",
    "xlim = ax.get_xlim()\n",
    "ylim = ax.get_ylim()\n",
    "for violin in ax.collections:\n",
    "    bbox = violin.get_paths()[0].get_extents()\n",
    "    x0, y0, width, height = bbox.bounds\n",
    "    violin.set_clip_path(plt.Rectangle((x0, y0), width / 2, height, transform=ax.transData))\n",
    "    violin.set_alpha(0.5)\n",
    "\n",
    "sns.boxplot(x=xx, y=yy, data=data_plot, saturation=1, showfliers=False,\n",
    "            width=0.3, boxprops={'zorder': 3, 'facecolor': 'none'}, ax=ax, linewidth=3)\n",
    "old_len_collections = len(ax.collections)\n",
    "\n",
    "sns.swarmplot(x=xx, y=yy, data=data_plot, hue='Subj', dodge=False, ax=ax, alpha=0.8, s= 30)\n",
    "\n",
    "# sns.stripplot(x=xx, y=yy, data=data_plot, dodge=False, ax=ax, alpha=0.8, s= 10)\n",
    "for dots in ax.collections[old_len_collections:]:\n",
    "    dots.set_offsets(dots.get_offsets() + np.array([0.12, 0]))\n",
    "ax.set_xlim(xlim)\n",
    "ax.set_ylim(ylim)\n",
    "plt.xticks(fontsize=20)\n",
    "plt.yticks(fontsize=20)\n",
    "plt.title('Connectivity Weight: LL', fontsize=24)\n",
    "plt.ylabel('Pearson Correlation to Wake', fontsize=24)\n",
    "plt.xlabel(\"\", fontsize=24)\n",
    "#plt.savefig()"
   ]
  },
  {
   "cell_type": "code",
   "execution_count": null,
   "id": "lovely-treasure",
   "metadata": {},
   "outputs": [],
   "source": [
    "sns.catplot(x='SleepState', y='P', data= arr_subj, col='weight', s=20)\n",
    "plt.ylim([0.5,1.1])"
   ]
  },
  {
   "cell_type": "code",
   "execution_count": null,
   "id": "progressive-movie",
   "metadata": {},
   "outputs": [],
   "source": [
    "## SURROGATE\n",
    "M_surr = np.zeros((len(subjs), n_surr, 2,2))\n",
    "for subj, subj_ix in zip(subjs, np.arange(len(subjs))):\n",
    "    dat_sel = data_con_subj[data_con_subj.Subj==subj]\n",
    "    dat_sel = dat_sel.reset_index(drop=True)\n",
    "    for n in tqdm.tqdm(range(n_surr)):\n",
    "        dat_sel[\"SS\"] = dat_sel.groupby(['Stim','Chan'], as_index=False)[\"SS\"].transform(np.random.permutation)\n",
    "        G = dat_sel.groupby(['Stim','Chan','ChanR','StimR','SS'], as_index=False)[['Sig','LLs', 'd']].mean()\n",
    "        chans =np.unique(G[['Stim','Chan']].astype('int'))\n",
    "        M = np.zeros((np.max(chans)+1, np.max(chans)+1,3,2))-1\n",
    "        for sc in chans:\n",
    "            for ss,ss_ix in zip(['Wake', 'NREM', 'REM'], np.arange(3)):\n",
    "                dat = G.loc[(G.SS==ss)&(G.Stim==sc), ['Chan', 'Sig', 'LLs']].values\n",
    "                M[sc, dat[:,0].astype('int'),ss_ix,0] = dat[:,1]\n",
    "                M[sc, dat[:,0].astype('int'),ss_ix,1] = dat[:,2]\n",
    "        for ss,ss_ix in zip(['NREM', 'REM'], np.arange(1,3)):\n",
    "            for m, mix in zip(['Prob', 'LL'], np.arange(2)):\n",
    "                x = M[:,:,0,mix].flatten()\n",
    "                y = M[:,:,ss_ix,mix].flatten()\n",
    "                ix = (x>0)|(y>0)\n",
    "                y = y[ix]\n",
    "                x = x[ix]\n",
    "                M_surr[subj_ix, n,ss_ix-1, mix] = np.corrcoef(x,y)[0,1]"
   ]
  },
  {
   "cell_type": "code",
   "execution_count": null,
   "id": "backed-celebration",
   "metadata": {},
   "outputs": [],
   "source": [
    "#arr_subj.insert(4,'Sig',0)\n",
    "arr_subj.insert(4,'thr_L',0)\n",
    "arr_subj.insert(4,'thr_H',0)\n",
    "# arr_subj.insert(4,'weight',arr_subj.Weigth)\n",
    "arr_subj.Sig = 0\n",
    "for subj, subj_ix in zip(subjs, np.arange(len(subjs))):\n",
    "    for ss,ss_ix in zip(['NREM', 'REM'], np.arange(1,3)):\n",
    "            for m, mix in zip(['Prob', 'LL'], np.arange(2)):\n",
    "                thr_L = np.percentile(M_surr[subj_ix, :,ss_ix-1, mix],1)\n",
    "                thr_H = np.percentile(M_surr[subj_ix, :,ss_ix-1, mix],99)\n",
    "                arr_subj.loc[(arr_subj.Subj==subj)&(arr_subj.weight==m)&(arr_subj.SleepState==ss),'thr_L'] = thr_L\n",
    "                arr_subj.loc[(arr_subj.Subj==subj)&(arr_subj.weight==m)&(arr_subj.SleepState==ss),'thr_H'] = thr_H\n",
    "                arr_subj.loc[(arr_subj.Subj==subj)&(arr_subj.weight==m)&(arr_subj.P<thr_L)&(arr_subj.SleepState==ss),'Sig'] = 1\n",
    "                arr_subj.loc[(arr_subj.Subj==subj)&(arr_subj.weight==m)&(arr_subj.P>thr_H)&(arr_subj.SleepState==ss),'Sig'] = 1"
   ]
  },
  {
   "cell_type": "code",
   "execution_count": null,
   "id": "determined-patio",
   "metadata": {},
   "outputs": [],
   "source": [
    "sns.catplot(x='SleepState', y='P', hue='Sig', data= arr_subj, col='weight', s=20)\n",
    "plt.ylim([0.5,1.1])"
   ]
  },
  {
   "cell_type": "code",
   "execution_count": null,
   "id": "juvenile-stability",
   "metadata": {},
   "outputs": [],
   "source": [
    "sns.catplot(x='SleepState', y='P', hue='Subj', data= arr_subj, col='Weigth', s=20)\n",
    "plt.ylim([0.5,1.1])"
   ]
  },
  {
   "cell_type": "markdown",
   "id": "historic-watson",
   "metadata": {},
   "source": [
    "## Nodes"
   ]
  },
  {
   "cell_type": "code",
   "execution_count": null,
   "id": "preceding-supplier",
   "metadata": {},
   "outputs": [],
   "source": [
    "G_count = data_con_subj.groupby(['Subj','Stim','Chan','ChanR','StimR','SleepState'], as_index=False)[['d']].count()\n",
    "G_count = G_count[(G_count.SleepState!='NREM1')&(G_count.d<3)]\n",
    "G_count = G_count.reset_index(drop=True)"
   ]
  },
  {
   "cell_type": "code",
   "execution_count": null,
   "id": "solar-reaction",
   "metadata": {},
   "outputs": [],
   "source": [
    "data_con_subj.loc[data_con_subj.Sig ==0, \"LLs\"] = np.nan"
   ]
  },
  {
   "cell_type": "code",
   "execution_count": null,
   "id": "agricultural-alcohol",
   "metadata": {},
   "outputs": [],
   "source": [
    "G[(G.Subj=='EL011')&(G.Stim==0)&(G.Chan==2)]"
   ]
  },
  {
   "cell_type": "code",
   "execution_count": null,
   "id": "basic-glenn",
   "metadata": {},
   "outputs": [],
   "source": [
    "G[(G.Subj=='EL011')&(G.Stim==19)&(G.Chan==85)]"
   ]
  },
  {
   "cell_type": "code",
   "execution_count": null,
   "id": "worst-garage",
   "metadata": {},
   "outputs": [],
   "source": [
    "G = data_con_subj.groupby(['Subj','Stim','Chan','ChanR','StimR','SleepState'], as_index=False)[['Sig','LLs', 'd']].mean()\n",
    "G = G[(G.SleepState!='NREM1')]\n",
    "G_count = G_count.reset_index(drop=True)\n",
    "for ss in ['Wake', 'NREM', 'REM']:\n",
    "    G_count.SleepState = ss\n",
    "    G = pd.concat([G, G_count]).drop_duplicates(['Subj','Stim','Chan','SleepState'],keep=False)\n",
    "    G = G.reset_index(drop=True)\n",
    "metrics = ['Sig','LLs']"
   ]
  },
  {
   "cell_type": "code",
   "execution_count": null,
   "id": "musical-desktop",
   "metadata": {},
   "outputs": [],
   "source": [
    "degree_file = sub_path+'\\EvM\\Projects\\EL_experiment\\Analysis\\Patients\\Across\\BrainMapping\\Sleep\\\\G_deg.csv'\n",
    "\n",
    "G_deg.to_csv(degree_file,\n",
    "        header=True, index=False)\n"
   ]
  },
  {
   "cell_type": "code",
   "execution_count": null,
   "id": "successful-latest",
   "metadata": {},
   "outputs": [],
   "source": [
    "G_deg"
   ]
  },
  {
   "cell_type": "code",
   "execution_count": null,
   "id": "finished-arcade",
   "metadata": {},
   "outputs": [],
   "source": []
  },
  {
   "cell_type": "code",
   "execution_count": null,
   "id": "maritime-navigator",
   "metadata": {},
   "outputs": [],
   "source": [
    "metrics = ['Sig','LLs']\n",
    "# degrees: sum up all CCEP magnitudes with specific channel being reponse or stimulation channel\n",
    "G_in = G.groupby(['Subj','Chan','ChanR','SleepState'], as_index=False)[metrics].sum()\n",
    "G_in.insert(3,'Deg', 'in')\n",
    "G_out = G.groupby(['Subj','Stim','StimR','SleepState'], as_index=False)[metrics].sum()\n",
    "G_out.insert(3,'Deg', 'out')\n",
    "G_out.insert(0,'Chan', G_out.Stim)\n",
    "G_out.insert(0,'ChanR', G_out.StimR)\n",
    "G_deg = pd.concat([G_in,G_out])\n",
    "G_deg = G_deg.reset_index(drop=True)\n",
    "G_deg = G_deg.drop(columns=['Stim'])\n",
    "G_deg = G_deg.drop(columns=['StimR'])\n",
    "for m in metrics:\n",
    "    means_stds = G_deg.groupby(['Subj','Chan','Deg','SleepState'])[m].agg(['mean','std']).reset_index()\n",
    "    means_stds = means_stds[means_stds.SleepState=='Wake']\n",
    "    means_stds = means_stds.drop(columns=['SleepState'])\n",
    "    G_deg = G_deg.merge(means_stds,on=['Subj','Chan','Deg'])\n",
    "    G_deg[m+'_n'] = (G_deg[m] / G_deg['mean']) \n",
    "    G_deg = G_deg.drop(columns=['mean', 'std'])\n",
    "    \n",
    "# G_deg.insert(1, 'Lobe', G_deg.ChanR)\n",
    "# for region in np.unique(G_deg[['ChanR']]):\n",
    "#     if len(regions.Lobe[regions.label==region].values)>0:\n",
    "#         lobe = regions.Lobe[regions.label==region].values[0]\n",
    "#     else:\n",
    "#         lobe = 'out'\n",
    "#     G_deg.loc[G_deg.ChanR==region, 'Lobe'] = lobe\n",
    "\n",
    "deg_summary = G_deg[(G_deg.ChanR != 'Unknown')&(G_deg.ChanR != 'out')&(G_deg.SleepState != 'Wake')]\n",
    "deg_summary = deg_summary.reset_index(drop=True)\n",
    "deg_summary = deg_summary.groupby(['ChanR', 'Deg','SleepState'], as_index=False)[['Sig_n','LLs_n']].mean()\n"
   ]
  },
  {
   "cell_type": "code",
   "execution_count": null,
   "id": "dedicated-rebound",
   "metadata": {},
   "outputs": [],
   "source": [
    "G = data_con_subj_clean.groupby(['Subj','Stim','Chan','ChanR','StimR','SleepState'], as_index=False)[['Sig','LLs', 'd']].mean()\n",
    "G = G[(G.SleepState!='NREM1')]\n",
    "G_count = G_count.reset_index(drop=True)\n",
    "for ss in ['Wake', 'NREM', 'REM']:\n",
    "    G_count.SleepState = ss\n",
    "    G = pd.concat([G, G_count]).drop_duplicates(['Subj','Stim','Chan','SleepState'],keep=False)\n",
    "    G = G.reset_index(drop=True)\n",
    "metrics = ['Sig','LLs']\n",
    "# degrees: sum up all CCEP magnitudes with specific channel being reponse or stimulation channel\n",
    "G_in = G.groupby(['Subj','Chan','ChanR','SleepState'], as_index=False)[metrics].sum()\n",
    "G_in.insert(3,'Deg', 'in')\n",
    "G_out = G.groupby(['Subj','Stim','StimR','SleepState'], as_index=False)[metrics].sum()\n",
    "G_out.insert(3,'Deg', 'out')\n",
    "G_out.insert(0,'Chan', G_out.Stim)\n",
    "G_out.insert(0,'ChanR', G_out.StimR)\n",
    "G_deg = pd.concat([G_in,G_out])\n",
    "G_deg = G_deg.reset_index(drop=True)\n",
    "G_deg = G_deg.drop(columns=['Stim'])\n",
    "G_deg = G_deg.drop(columns=['StimR'])\n",
    "for m in metrics:\n",
    "    means_stds = G_deg.groupby(['Subj','Chan','Deg','SleepState'])[m].agg(['mean','std']).reset_index()\n",
    "    means_stds = means_stds[means_stds.SleepState=='Wake']\n",
    "    means_stds = means_stds.drop(columns=['SleepState'])\n",
    "    G_deg = G_deg.merge(means_stds,on=['Subj','Chan','Deg'])\n",
    "    G_deg[m+'_n'] = (G_deg[m] / G_deg['mean']) \n",
    "    G_deg = G_deg.drop(columns=['mean', 'std'])\n",
    "    \n",
    "G_deg.insert(1, 'Lobe', G_deg.ChanR)\n",
    "for region in np.unique(G_deg[['ChanR']]):\n",
    "    if len(regions.Lobe[regions.label==region].values)>0:\n",
    "        lobe = regions.Lobe[regions.label==region].values[0]\n",
    "    else:\n",
    "        lobe = 'out'\n",
    "    G_deg.loc[G_deg.ChanR==region, 'Lobe'] = lobe\n",
    "\n",
    "deg_summary = G_deg[(G_deg.Lobe != 'Unknown')&(G_deg.Lobe != 'out')&(G_deg.SleepState != 'Wake')]\n",
    "deg_summary = deg_summary.reset_index(drop=True)\n",
    "deg_summary = deg_summary.groupby(['Lobe', 'Deg','SleepState'], as_index=False)[['Sig_n','LLs_n']].mean()\n"
   ]
  },
  {
   "cell_type": "code",
   "execution_count": null,
   "id": "attended-discussion",
   "metadata": {},
   "outputs": [],
   "source": [
    "G_deg.to_csv"
   ]
  },
  {
   "cell_type": "code",
   "execution_count": null,
   "id": "blocked-australia",
   "metadata": {},
   "outputs": [],
   "source": [
    "deg_summary.insert(5,'N',i)"
   ]
  },
  {
   "cell_type": "markdown",
   "id": "afraid-brisbane",
   "metadata": {},
   "source": [
    "### surrogate"
   ]
  },
  {
   "cell_type": "code",
   "execution_count": null,
   "id": "aggregate-variety",
   "metadata": {},
   "outputs": [],
   "source": [
    "n = 200\n",
    "surr_data = np.zeros((len(G_deg),n))\n",
    "for i in range(0,n):\n",
    "    print('loading -- ' + str(i+1)+'/'+str(n), end='\\r')\n",
    "    data_con_subj[\"SS\"] = data_con_subj.groupby(['Subj','Stim','Chan'], as_index=False)[\"SS\"].transform(np.random.permutation)\n",
    "    G = data_con_subj.groupby(['Subj','Stim','Chan','ChanR','StimR','SS'], as_index=False)[['Sig','LLs', 'd']].mean()\n",
    "    metrics = ['Sig', 'LLs']\n",
    "    # degrees: sum up all CCEP magnitudes with specific channel being reponse or stimulation channel\n",
    "    G_in = G.groupby(['Subj','Chan','ChanR','SS'], as_index=False)[metrics].sum()\n",
    "    G_in.insert(3,'Deg', 'in')\n",
    "    G_out = G.groupby(['Subj','Stim','StimR','SS'], as_index=False)[metrics].sum()\n",
    "    G_out.insert(3,'Deg', 'out')\n",
    "    G_out.insert(0,'Chan', G_out.Stim)\n",
    "    G_out.insert(0,'ChanR', G_out.StimR)\n",
    "    G_deg_surr = pd.concat([G_in,G_out])\n",
    "    G_deg_surr = G_deg_surr.reset_index(drop=True)\n",
    "    G_deg_surr = G_deg_surr.drop(columns=['Stim'])\n",
    "    G_deg_surr = G_deg_surr.drop(columns=['StimR'])\n",
    "    for m in metrics:\n",
    "        means_stds = G_deg_surr.groupby(['Subj','Chan','Deg','SS'])[m].agg(['mean','std']).reset_index()\n",
    "        means_stds = means_stds[means_stds.SS=='Wake']\n",
    "        means_stds = means_stds.drop(columns=['SS'])\n",
    "        G_deg_surr = G_deg_surr.merge(means_stds,on=['Subj','Chan','Deg'])\n",
    "        G_deg_surr[m+'_n'] = (G_deg_surr[m] / G_deg_surr['mean']) \n",
    "        G_deg_surr = G_deg_surr.drop(columns=['mean', 'std'])\n",
    "    #surr_data[:,i] =G_deg_surr.values[:,-1]\n",
    "    G_deg_surr.insert(1, 'Lobe', G_deg_surr.ChanR)\n",
    "    for region in np.unique(G_deg_surr[['ChanR']]):\n",
    "        if len(regions.Lobe[regions.label==region].values)>0:\n",
    "            lobe = regions.Lobe[regions.label==region].values[0]\n",
    "        else:\n",
    "            lobe = 'out'\n",
    "        G_deg_surr.loc[G_deg_surr.ChanR==region, 'Lobe'] = lobe\n",
    "\n",
    "    deg_summary = G_deg_surr[(G_deg_surr.Lobe != 'Unknown')&(G_deg_surr.Lobe != 'out')&(G_deg_surr.SS != 'Wake')]\n",
    "    deg_summary = deg_summary.reset_index(drop=True)\n",
    "    deg_summary = deg_summary.groupby(['Lobe', 'Deg', 'SS'], as_index=False)[['Sig_n','LLs_n']].mean()\n",
    "    deg_summary.insert(5,'N',i)\n",
    "    if i == 0:\n",
    "        deg_surr = deg_summary\n",
    "    else:\n",
    "        deg_surr = pd.concat([deg_surr, deg_summary])\n",
    "deg_surr.to_csv(data_con_surr,\n",
    "            header=True, index=False)"
   ]
  },
  {
   "cell_type": "code",
   "execution_count": null,
   "id": "twelve-apollo",
   "metadata": {},
   "outputs": [],
   "source": [
    "deg_summary"
   ]
  },
  {
   "cell_type": "code",
   "execution_count": null,
   "id": "nominated-index",
   "metadata": {},
   "outputs": [],
   "source": [
    "deg_summary.insert(3,'thr_H', np.percentile(deg_surr.values[:,3:],99,1))\n",
    "deg_summary.insert(3,'thr_L', np.percentile(deg_surr.values[:,3:],1,1))\n",
    "deg_summary.insert(3,'Sig', (deg_summary.LLs_n<deg_summary.thr_L)|(deg_summary.LLs_n>deg_summary.thr_H))"
   ]
  },
  {
   "cell_type": "code",
   "execution_count": null,
   "id": "distant-reward",
   "metadata": {},
   "outputs": [],
   "source": [
    "G_deg_sum = G_deg.groupby(['Subj','Chan','Lobe','SleepState'], as_index=False)[['Sig','LLs', 'Sig_n', 'LLs_n']].sum()"
   ]
  },
  {
   "cell_type": "code",
   "execution_count": null,
   "id": "tracked-wound",
   "metadata": {},
   "outputs": [],
   "source": [
    "G_deg_in = G_deg[G_deg.Deg=='in']\n",
    "G_deg_out = G_deg[G_deg.Deg=='out']"
   ]
  },
  {
   "cell_type": "markdown",
   "id": "continued-lobby",
   "metadata": {},
   "source": [
    "##### Ratio"
   ]
  },
  {
   "cell_type": "code",
   "execution_count": null,
   "id": "statutory-encyclopedia",
   "metadata": {},
   "outputs": [],
   "source": [
    "G_deg_r = G_deg_in.merge(G_deg_out, on=['Subj','Chan','Lobe','SleepState'])\n",
    "for m in ['Sig', 'LLs', 'Sig_n', 'LLs_n']:\n",
    "    G_deg_r.insert(0, m+'_R', G_deg_r[m+'_x']/G_deg_r[m+'_y'])\n",
    "y= 15\n",
    "for m in ['Sig', 'LLs', 'Sig_n', 'LLs_n']:\n",
    "    if m =='Sig_n':\n",
    "        y= 3\n",
    "    g = sns.catplot(x ='Lobe', y=m+'_R', hue='SleepState', data= G_deg_r[(G_deg_r.Lobe != 'Central')&(G_deg_r.Lobe != 'Unknown')&(G_deg_r.Lobe != 'out')&(G_deg_r.SleepState != 'Wake')], kind='strip',height=8,aspect= 3, s=10, palette=['#27348B','#FF8007'])\n",
    "    ax = g.axes  # access a grid of 'axes' objects\n",
    "    plt.ylim([0,y])\n",
    "    ax[0,0].axhline(1, color='k', linewidth=2)\n",
    "    plt.xticks(fontsize=20)\n",
    "    ax[0,0].tick_params(labelsize=20)\n",
    "    ax[0,0].set_title('Ratio-Degree', fontsize=25)\n",
    "    ax[0,0].set_ylabel('Ratio Degree '+m, fontsize=25)\n",
    "    plt.savefig(sub_path+'\\EvM\\Projects\\EL_experiment\\Analysis\\Patients\\Across\\BrainMapping\\Sleep\\degree\\\\Deg_Ratio_'+m+'.svg')"
   ]
  },
  {
   "cell_type": "markdown",
   "id": "offshore-toner",
   "metadata": {},
   "source": [
    "###### Sum"
   ]
  },
  {
   "cell_type": "code",
   "execution_count": null,
   "id": "natural-array",
   "metadata": {},
   "outputs": [],
   "source": [
    "m = 'LLs'\n",
    "g = sns.catplot(x ='Lobe', y=m, hue='SleepState', data= G_deg_sum[(G_deg_sum.Lobe != 'Central')&(G_deg_sum.Lobe != 'Unknown')&(G_deg_sum.Lobe != 'out')], kind='strip',height=8,aspect= 3, s=10)\n",
    "ax = g.axes  # access a grid of 'axes' objects\n",
    "plt.ylim([0.2,500])\n",
    "ax[0,0].axhline(2, color='k', linewidth=2)\n",
    "plt.xticks(fontsize=20)\n",
    "ax[0,0].tick_params(labelsize=20)\n",
    "ax[0,0].set_title('sum-Degree', fontsize=25)\n",
    "ax[0,0].set_ylabel('Sum Degree '+m, fontsize=25)\n",
    "plt.savefig(sub_path+'\\EvM\\Projects\\EL_experiment\\Analysis\\Patients\\Across\\BrainMapping\\Sleep\\degree\\\\Deg_Sum_'+m+'.svg')"
   ]
  },
  {
   "cell_type": "code",
   "execution_count": null,
   "id": "indoor-count",
   "metadata": {},
   "outputs": [],
   "source": [
    "m = 'LLs_n'\n",
    "g = sns.catplot(x ='Lobe', y=m, hue='SleepState', data= G_deg_sum[(G_deg_sum.Lobe != 'Central')&(G_deg_sum.Lobe != 'Unknown')&(G_deg_sum.Lobe != 'out')&(G_deg_sum.SleepState != 'Wake')], kind='swarm',height=8,aspect= 3, s=10, palette=['#27348B','#FF8007'])\n",
    "ax = g.axes  # access a grid of 'axes' objects\n",
    "plt.ylim([1.2,3])\n",
    "ax[0,0].axhline(2, color='k', linewidth=2)\n",
    "plt.xticks(fontsize=20)\n",
    "ax[0,0].tick_params(labelsize=20)\n",
    "ax[0,0].set_title('sum-Degree', fontsize=25)\n",
    "ax[0,0].set_ylabel('Sum Degree '+m, fontsize=25)\n",
    "#plt.savefig(sub_path+'\\EvM\\Projects\\EL_experiment\\Analysis\\Patients\\Across\\BrainMapping\\Sleep\\degree\\\\Deg_Sum_'+m+'.svg')"
   ]
  },
  {
   "cell_type": "markdown",
   "id": "constitutional-means",
   "metadata": {},
   "source": [
    "#### single"
   ]
  },
  {
   "cell_type": "code",
   "execution_count": null,
   "id": "auburn-sullivan",
   "metadata": {},
   "outputs": [],
   "source": [
    "G_deg"
   ]
  },
  {
   "cell_type": "code",
   "execution_count": null,
   "id": "frozen-trademark",
   "metadata": {},
   "outputs": [],
   "source": [
    "g = sns.catplot(x ='ChanR', y='Sig_n', hue='SleepState', data= G_deg[(G_deg.ChanR != 'Unknown')&(G_deg.ChanR != 'Necrosis')&(G_deg.SleepState != 'Wake')], row = 'Deg',dodge = True,  kind='swarm',height=8,aspect= 3, palette=['#27348B','#FF8007'])\n",
    "ax = g.axes  # access a grid of 'axes' objects\n",
    "plt.ylim([0.5,1.5])\n",
    "ax[0,0].axhline(1, color='k', linewidth=2)\n",
    "ax[1,0].axhline(1, color='k', linewidth=2)\n",
    "plt.xticks(fontsize=20)\n",
    "ax[1,0].tick_params(labelsize=20)\n",
    "ax[0,0].tick_params(labelsize=20)\n",
    "ax[0,0].set_title('In-Degree: Probability', fontsize=25)\n",
    "ax[1,0].set_title('Out-Degree: Probability', fontsize=25)\n",
    "ax[0,0].set_ylabel('Degree normalized to Wake', fontsize=25)\n",
    "ax[1,0].set_ylabel('Degree normalized to Wake', fontsize=25)\n",
    "# plt.savefig(sub_path+'\\EvM\\Projects\\EL_experiment\\Analysis\\Patients\\Across\\BrainMapping\\Sleep\\degree\\\\Deg_P_nn_v.svg')\n",
    "# plt.savefig(sub_path+'\\EvM\\Projects\\EL_experiment\\Analysis\\Patients\\Across\\BrainMapping\\Sleep\\degree\\\\Deg_P_nn_v.jpg')"
   ]
  },
  {
   "cell_type": "code",
   "execution_count": null,
   "id": "bridal-basket",
   "metadata": {},
   "outputs": [],
   "source": [
    "G_deg"
   ]
  },
  {
   "cell_type": "code",
   "execution_count": null,
   "id": "brazilian-calculation",
   "metadata": {},
   "outputs": [],
   "source": [
    "g = sns.catplot(x ='ChanR', y='LLs_n', hue='SleepState', data= G_deg[(G_deg.ChanR != 'Unknown')&(G_deg.ChanR != 'Necrosis')&(G_deg.SleepState != 'Wake')], row = 'Deg',dodge = True,  kind='strip',height=8,aspect= 3.5, order = regions_all, palette=['#27348B','#D22B2B'])\n",
    "ax = g.axes  # access a grid of 'axes' objects\n",
    "plt.ylim([0.3,1.6])\n",
    "ax[0,0].axhline(1, color='k', linewidth=2)\n",
    "ax[1,0].axhline(1, color='k', linewidth=2)\n",
    "plt.xticks(fontsize=20)\n",
    "plt.legend(fontsize=30)\n",
    "ax[1,0].set_yticks([0.5, 1, 1.5], [50, 100, 150])\n",
    "ax[0,0].set_yticks([0.5, 1, 1.5], [50, 100, 150])\n",
    "ax[1,0].tick_params(labelsize=20)\n",
    "ax[0,0].tick_params(labelsize=20)\n",
    "ax[0,0].set_title('In-Degree: connection strength (LL)', fontsize=25)\n",
    "ax[1,0].set_title('Out-Degree: connection strength (LL)', fontsize=25)\n",
    "ax[0,0].set_ylabel('Degree normalized to Wake [%]', fontsize=25)\n",
    "ax[1,0].set_ylabel('Degree normalized to Wake [%]', fontsize=25)\n",
    "plt.savefig(sub_path+'\\EvM\\Projects\\EL_experiment\\Analysis\\Patients\\Across\\BrainMapping\\Sleep\\degree\\\\Deg_LL.svg')\n",
    "plt.savefig(sub_path+'\\EvM\\Projects\\EL_experiment\\Analysis\\Patients\\Across\\BrainMapping\\Sleep\\degree\\\\Deg_LL.jpg')"
   ]
  },
  {
   "cell_type": "code",
   "execution_count": null,
   "id": "artificial-hamilton",
   "metadata": {},
   "outputs": [],
   "source": [
    "G_deg"
   ]
  },
  {
   "cell_type": "code",
   "execution_count": null,
   "id": "charged-definition",
   "metadata": {},
   "outputs": [],
   "source": [
    "g = sns.catplot(x ='Lobe', y='Sig_n', hue='SleepState', data= G_deg[(G_deg.Lobe != 'Central')&(G_deg.Lobe != 'Unknown')&(G_deg.Lobe != 'out')&(G_deg.SleepState != 'Wake')], row = 'Deg', kind='violin',height=8,aspect= 3, palette=['#27348B','#FF8007'])\n",
    "ax = g.axes  # access a grid of 'axes' objects\n",
    "plt.ylim([0.5,1.5])\n",
    "ax[0,0].axhline(1, color='k', linewidth=2)\n",
    "ax[1,0].axhline(1, color='k', linewidth=2)\n",
    "plt.xticks(fontsize=20)\n",
    "ax[1,0].tick_params(labelsize=20)\n",
    "ax[0,0].tick_params(labelsize=20)\n",
    "ax[0,0].set_title('In-Degree: Probability', fontsize=25)\n",
    "ax[1,0].set_title('Out-Degree: Probability', fontsize=25)\n",
    "ax[0,0].set_ylabel('Degree normalized to Wake', fontsize=25)\n",
    "ax[1,0].set_ylabel('Degree normalized to Wake', fontsize=25)\n",
    "plt.savefig(sub_path+'\\EvM\\Projects\\EL_experiment\\Analysis\\Patients\\Across\\BrainMapping\\Sleep\\degree\\\\Deg_P_nn_v.svg')\n",
    "plt.savefig(sub_path+'\\EvM\\Projects\\EL_experiment\\Analysis\\Patients\\Across\\BrainMapping\\Sleep\\degree\\\\Deg_P_nn_v.jpg')"
   ]
  },
  {
   "cell_type": "code",
   "execution_count": null,
   "id": "apparent-opposition",
   "metadata": {},
   "outputs": [],
   "source": [
    "g = sns.catplot(x ='Lobe', y='Sig_n', hue='SleepState', data= G_deg[(G_deg.Lobe != 'Central')&(G_deg.Lobe != 'Unknown')&(G_deg.Lobe != 'out')&(G_deg.SleepState != 'Wake')], row = 'Deg', kind='swarm',height=8,aspect= 3, s=2, palette=['#27348B','#FF8007'])\n",
    "ax = g.axes  # access a grid of 'axes' objects\n",
    "plt.ylim([0.6,1.32])\n",
    "ax[0,0].axhline(1, color='k', linewidth=2)\n",
    "ax[1,0].axhline(1, color='k', linewidth=2)\n",
    "plt.xticks(fontsize=20)\n",
    "ax[1,0].tick_params(labelsize=20)\n",
    "ax[0,0].tick_params(labelsize=20)\n",
    "ax[0,0].set_title('In-Degree: Probability', fontsize=25)\n",
    "ax[1,0].set_title('Out-Degree: Probability', fontsize=25)\n",
    "ax[0,0].set_ylabel('Degree normalized to Wake', fontsize=25)\n",
    "ax[1,0].set_ylabel('Degree normalized to Wake', fontsize=25)\n",
    "plt.savefig(sub_path+'\\EvM\\Projects\\EL_experiment\\Analysis\\Patients\\Across\\BrainMapping\\Sleep\\degree\\\\Deg_P_nn.svg')\n",
    "plt.savefig(sub_path+'\\EvM\\Projects\\EL_experiment\\Analysis\\Patients\\Across\\BrainMapping\\Sleep\\degree\\\\Deg_P_nn.jpg')"
   ]
  },
  {
   "cell_type": "code",
   "execution_count": null,
   "id": "superb-robinson",
   "metadata": {},
   "outputs": [],
   "source": [
    "g = sns.catplot(x ='Lobe', y='LLs_n', hue='SleepState', data= G_deg[(G_deg.Lobe != 'Central')&(G_deg.Lobe != 'Unknown')&(G_deg.Lobe != 'out')&(G_deg.SleepState != 'Wake')], row = 'Deg', kind='swarm',height=8,aspect= 3, s=10, palette=['#27348B','#FF8007'])\n",
    "ax = g.axes  # access a grid of 'axes' objects\n",
    "#plt.ylim([0.2,2])\n",
    "ax[0,0].axhline(1, color='k', linewidth=2)\n",
    "ax[1,0].axhline(1, color='k', linewidth=2)\n",
    "plt.xticks(fontsize=20)\n",
    "ax[1,0].tick_params(labelsize=20)\n",
    "ax[0,0].tick_params(labelsize=20)\n",
    "ax[0,0].set_title('In-Degree: LL', fontsize=25)\n",
    "ax[1,0].set_title('Out-Degree: LL', fontsize=25)\n",
    "ax[0,0].set_ylabel('Degree normalized to Wake', fontsize=25)\n",
    "ax[1,0].set_ylabel('Degree normalized to Wake', fontsize=25)\n",
    "plt.savefig(sub_path+'\\EvM\\Projects\\EL_experiment\\Analysis\\Patients\\Across\\BrainMapping\\Sleep\\degree\\\\Deg_LLs_nn.svg')\n",
    "plt.savefig(sub_path+'\\EvM\\Projects\\EL_experiment\\Analysis\\Patients\\Across\\BrainMapping\\Sleep\\degree\\\\Deg_LLs_nn.jpg')"
   ]
  },
  {
   "cell_type": "code",
   "execution_count": null,
   "id": "ongoing-madrid",
   "metadata": {},
   "outputs": [],
   "source": [
    "g = sns.catplot(x ='Lobe', y='LLs_n', hue='SleepState', data= G_deg[(G_deg.Lobe != 'Central')&(G_deg.Lobe != 'Unknown')&(G_deg.Lobe != 'out')&(G_deg.SleepState != 'Wake')], row = 'Deg', kind='swarm',height=8,aspect= 3, s=3, palette=['#27348B','#FF8007'])\n",
    "ax = g.axes  # access a grid of 'axes' objects\n",
    "#plt.ylim([0.2,2])\n",
    "ax[0,0].axhline(1, color='k', linewidth=2)\n",
    "ax[1,0].axhline(1, color='k', linewidth=2)\n",
    "plt.xticks(fontsize=20)\n",
    "ax[1,0].tick_params(labelsize=20)\n",
    "ax[0,0].tick_params(labelsize=20)\n",
    "ax[0,0].set_title('In-Degree: LL', fontsize=25)\n",
    "ax[1,0].set_title('Out-Degree: LL', fontsize=25)\n",
    "ax[0,0].set_ylabel('Degree normalized to Wake', fontsize=25)\n",
    "ax[1,0].set_ylabel('Degree normalized to Wake', fontsize=25)\n",
    "plt.savefig(sub_path+'\\EvM\\Projects\\EL_experiment\\Analysis\\Patients\\Across\\BrainMapping\\Sleep\\degree\\\\Deg_LLs_nn.svg')\n",
    "plt.savefig(sub_path+'\\EvM\\Projects\\EL_experiment\\Analysis\\Patients\\Across\\BrainMapping\\Sleep\\degree\\\\Deg_LLs_nn.jpg')"
   ]
  },
  {
   "cell_type": "code",
   "execution_count": null,
   "id": "soviet-advertiser",
   "metadata": {},
   "outputs": [],
   "source": [
    "G = data_con_subj.groupby(['Subj','Stim','Chan','ChanR','StimR','SleepState'], as_index=False)[['Sig','LLs', 'd']].mean()\n",
    "metrics = ['Sig','LLs']\n",
    "# degrees: sum up all CCEP magnitudes with specific channel being reponse or stimulation channel\n",
    "G_in = G.groupby(['Subj','Chan','ChanR','SleepState'], as_index=False)[metrics].sum()\n",
    "G_in.insert(3,'Deg', 'in')\n",
    "G_out = G.groupby(['Subj','Stim','StimR','SleepState'], as_index=False)[metrics].sum()\n",
    "G_out.insert(3,'Deg', 'out')\n",
    "G_out.insert(0,'Chan', G_out.Stim)\n",
    "G_out.insert(0,'ChanR', G_out.StimR)\n",
    "G_deg = pd.concat([G_in,G_out])\n",
    "G_deg = G_deg.reset_index(drop=True)\n",
    "G_deg = G_deg.drop(columns=['Stim'])\n",
    "G_deg = G_deg.drop(columns=['StimR'])\n",
    "for m in metrics:\n",
    "    means_stds = G_deg.groupby(['Subj','Chan','Deg','SleepState'])[m].agg(['mean','std']).reset_index()\n",
    "    means_stds = means_stds[means_stds.SleepState=='Wake']\n",
    "    means_stds = means_stds.drop(columns=['SleepState'])\n",
    "    G_deg = G_deg.merge(means_stds,on=['Subj','Chan','Deg'])\n",
    "    G_deg[m+'_n'] = (G_deg[m] / G_deg['mean']) \n",
    "    G_deg = G_deg.drop(columns=['mean', 'std'])\n",
    "    \n",
    "G_deg.insert(1, 'Lobe', G_deg.ChanR)\n",
    "for region in np.unique(G_deg[['ChanR']]):\n",
    "    if len(regions.Lobe[regions.label==region].values)>0:\n",
    "        lobe = regions.Lobe[regions.label==region].values[0]\n",
    "    else:\n",
    "        lobe = 'out'\n",
    "    G_deg.loc[G_deg.ChanR==region, 'Lobe'] = lobe\n",
    "\n",
    "deg_summary = G_deg[(G_deg.Lobe != 'Unknown')&(G_deg.Lobe != 'out')&(G_deg.SleepState != 'Wake')]\n",
    "deg_summary = deg_summary.reset_index(drop=True)\n",
    "deg_summary = deg_summary.groupby(['Lobe', 'Deg','SleepState'], as_index=False)['LLs_n'].mean()\n",
    "\n",
    "deg_summary.insert(3,'thr_H', np.percentile(deg_surr.values[:,3:],99,1))\n",
    "deg_summary.insert(3,'thr_L', np.percentile(deg_surr.values[:,3:],1,1))\n",
    "deg_summary.insert(3,'Sig', (deg_summary.LLs_n<deg_summary.thr_L)|(deg_summary.LLs_n>deg_summary.thr_H))"
   ]
  },
  {
   "cell_type": "code",
   "execution_count": null,
   "id": "expected-broadcasting",
   "metadata": {},
   "outputs": [],
   "source": [
    "g = sns.catplot(x ='Lobe', y='LLs_n', hue='SleepState', data= G_deg[(G_deg.Lobe != 'Central')&(G_deg.Lobe != 'Unknown')&(G_deg.Lobe != 'out')&(G_deg.SleepState != 'Wake')], row = 'Deg', kind='swarm',height=8,aspect= 3, s=10, palette=['#27348B','#FF8007'])\n",
    "ax = g.axes  # access a grid of 'axes' objects\n",
    "plt.ylim([0.5,2])\n",
    "ax[0,0].axhline(1, color='k', linewidth=2)\n",
    "ax[1,0].axhline(1, color='k', linewidth=2)\n",
    "plt.xticks(fontsize=20)\n",
    "ax[1,0].tick_params(labelsize=20)\n",
    "ax[0,0].tick_params(labelsize=20)\n",
    "ax[0,0].set_title('In-Degree', fontsize=25)\n",
    "ax[1,0].set_title('Out-Degree', fontsize=25)\n",
    "ax[0,0].set_ylabel('Degree normalized to Wake', fontsize=25)\n",
    "ax[1,0].set_ylabel('Degree normalized to Wake', fontsize=25)\n",
    "plt.savefig('Y:\\eLab\\EvM\\Projects\\EL_experiment\\Analysis\\Patients\\Across\\BrainMapping\\Sleep\\degree\\\\Deg_Lobe2.svg')"
   ]
  },
  {
   "cell_type": "code",
   "execution_count": null,
   "id": "british-river",
   "metadata": {
    "scrolled": true
   },
   "outputs": [],
   "source": [
    "g = sns.catplot(x ='Lobe', y='LLs_n', hue='SleepState', data= G_deg[(G_deg.Lobe != 'Unknown')&(G_deg.Lobe != 'out')&(G_deg.SleepState != 'Wake')], row = 'Deg', kind='swarm',s=5,height=8,aspect= 4)\n",
    "ax = g.axes  # access a grid of 'axes' objects\n",
    "plt.ylim([0.5,2])\n",
    "ax[0,0].axhline(1, color='k', linewidth=2)\n",
    "ax[1,0].axhline(1, color='k', linewidth=2)\n",
    "plt.savefig('Y:\\eLab\\EvM\\Projects\\EL_experiment\\Analysis\\Patients\\Across\\BrainMapping\\Sleep\\degree\\\\Deg_Lobe.svg')"
   ]
  },
  {
   "cell_type": "code",
   "execution_count": null,
   "id": "municipal-venue",
   "metadata": {},
   "outputs": [],
   "source": [
    "data_con_file = 'Y:\\eLab\\EvM\\Projects\\EL_experiment\\Analysis\\Patients\\Across\\BrainMapping\\Sleep\\degree\\\\data_con.csv'\n",
    "if os.path.exists(data_con_file)*0:\n",
    "    data_deg = pd.read_csv(data_con_file)\n",
    "else:\n",
    "    for i in range(len(subjs)):\n",
    "        print('loading -- ' + subjs[i], end='\\r')\n",
    "        subj = subjs[i]\n",
    "        path_gen = os.path.join('y:\\\\eLab\\Patients\\\\' + subj)\n",
    "        if not os.path.exists(path_gen):\n",
    "            path_gen = 'T:\\\\EL_experiment\\\\Patients\\\\' + subj\n",
    "        path_patient = path_gen + '\\Data\\EL_experiment'\n",
    "        path_infos = os.path.join(path_patient, 'infos')\n",
    "        if not os.path.exists(path_infos):\n",
    "            path_infos = path_gen + '\\\\infos'\n",
    "        path_patient_analysis = 'y:\\eLab\\EvM\\Projects\\EL_experiment\\Analysis\\Patients\\\\' + subj\n",
    "\n",
    "        file_con = path_patient_analysis + '\\\\' + folder + '/' + cond_folder + '/data/con_trial_all.csv'\n",
    "        con_trial = pd.read_csv(file_con)\n",
    "\n",
    "        lbls = pd.read_excel(os.path.join(path_infos, subj + \"_labels.xlsx\"), header=0, sheet_name='BP')\n",
    "        labels_all = lbls.label.values\n",
    "        labels_clinic = lbls.Clinic.values\n",
    "        labels_region = lbls.Region.values\n",
    "        labels_region[labels_region == 'HIPP'] = 'Mesiotemporal'\n",
    "        labels_region[labels_region == 'HIPP '] = 'Mesiotemporal'\n",
    "        labels_region[labels_region == 'ENT'] = 'Basotemporal'\n",
    "        bad_region = np.where((labels_region == 'WM') | (labels_region == 'OUT') | (labels_region == 'Putamen'))[0]\n",
    "\n",
    "        # data_A = data_A[~np.isin(data_A.Chan,bad_all)&~np.isin(data_A.Stim,bad_all)]\n",
    "        \n",
    "        con_trial = con_trial[con_trial.Sig>=0]\n",
    "        con_trial.loc[con_trial.SleepState=='W','SleepState'] = 'Wake'\n",
    "        con_trial.insert(3,'LLs', con_trial.LL*con_trial.Sig)\n",
    "        con_trial.insert(3,'LLz', con_trial.LL*con_trial.Sig)\n",
    "        con_trial['LLz'] = con_trial.groupby(['Stim','Chan'])['LLs'].transform(lambda x: (x / x.max()))\n",
    "        # mean CCEP magnitude for each conenction at each sleep state\n",
    "        G = con_trial.groupby(['Stim','Chan','SleepState'], as_index=False)[['Sig','LLz','LLs', 'd']].mean()\n",
    "        metrics = ['Sig','LLz','LLs']\n",
    "        # degrees: sum up all CCEP magnitudes with specific channel being reponse or stimulation channel\n",
    "        G_in = G.groupby(['Chan','SleepState'], as_index=False)[metrics].sum()\n",
    "        G_in.insert(3,'Deg', 'in')\n",
    "        G_out = G.groupby(['Stim','SleepState'], as_index=False)[metrics].sum()\n",
    "        G_out.insert(3,'Deg', 'out')\n",
    "        G_out.insert(0,'Chan', G_out.Stim)\n",
    "        G_deg = pd.concat([G_in,G_out])\n",
    "        G_deg = G_deg.reset_index(drop=True)\n",
    "        G_deg = G_deg.drop(columns=['Stim'])\n",
    "        \n",
    "        for m in metrics:\n",
    "            means_stds = G_deg.groupby(['Chan','Deg','SleepState'])[m].agg(['mean','std']).reset_index()\n",
    "            means_stds = means_stds[means_stds.SleepState=='Wake']\n",
    "            means_stds = means_stds.drop(columns=['SleepState'])\n",
    "            G_deg = G_deg.merge(means_stds,on=['Chan','Deg'])\n",
    "            G_deg[m+'_n'] = (G_deg[m] / G_deg['mean']) \n",
    "            G_deg = G_deg.drop(columns=['mean', 'std'])\n",
    "        \n",
    "        G_deg.insert(0,'Area','Test')\n",
    "        for c in np.unique(G_deg.Chan.values.astype('int')):\n",
    "            G_deg.loc[G_deg.Chan==c,'Area']= labels_region[c]\n",
    "        G_deg.insert(0,'Subj', subj)\n",
    "        if i == 0:\n",
    "            data_deg = G_deg\n",
    "        else:\n",
    "            data_deg = pd.concat([data_deg, G_deg])\n",
    "            data_deg = data_deg.reset_index(drop=True)\n",
    "        \n",
    "    data_deg.to_csv(data_con_file,\n",
    "        header=True, index=False)"
   ]
  },
  {
   "cell_type": "code",
   "execution_count": null,
   "id": "secret-sudan",
   "metadata": {},
   "outputs": [],
   "source": [
    "deg_summary.insert(3,'thr_high',thr[:,1])\n",
    "deg_summary.insert(3,'thr_low',thr[:,0])"
   ]
  },
  {
   "cell_type": "code",
   "execution_count": null,
   "id": "metric-analysis",
   "metadata": {},
   "outputs": [],
   "source": [
    "deg_summary = data_deg[(data_deg.Lobe != 'Unknown')&(data_deg.Lobe != 'out')&(data_deg.SleepState != 'Wake')]\n",
    "deg_summary = deg_summary.reset_index(drop=True)\n",
    "deg_summary = deg_summary.groupby(['Lobe', 'SleepState'], as_index=False)['LLs_n'].mean()\n",
    "deg_summary.insert(deg_summary.shape[1], str(n+1), deg_summary.LLs_n)\n",
    "deg_summary = deg_summary.drop(columns='LLs_n')"
   ]
  },
  {
   "cell_type": "code",
   "execution_count": null,
   "id": "centered-wages",
   "metadata": {},
   "outputs": [],
   "source": [
    "deg_summary.insert(deg_summary.shape[1], str(n+1), deg_summary.LLs_n)"
   ]
  },
  {
   "cell_type": "code",
   "execution_count": null,
   "id": "attempted-strategy",
   "metadata": {},
   "outputs": [],
   "source": [
    "deg_summary = deg_summary.drop(columns='LLs_n')"
   ]
  },
  {
   "cell_type": "code",
   "execution_count": null,
   "id": "domestic-senior",
   "metadata": {},
   "outputs": [],
   "source": [
    "deg_summary = data_deg[(data_deg.Lobe != 'Unknown')&(data_deg.Lobe != 'out')&(data_deg.SleepState != 'Wake')]\n",
    "deg_summary = deg_summary.reset_index(drop=True)\n",
    "deg_summary = deg_summary.groupby(['Lobe', 'SleepState'], as_index=False)['LLs_n'].mean()"
   ]
  },
  {
   "cell_type": "code",
   "execution_count": null,
   "id": "normal-triangle",
   "metadata": {},
   "outputs": [],
   "source": [
    "g = sns.catplot(x ='Lobe', y='LLs_n', hue='SleepState', data= data_deg[(data_deg.Lobe != 'out')&(data_deg.SleepState != 'Wake')], row = 'Deg', kind='swarm',s=5,height=8,aspect= 4)\n",
    "ax = g.axes  # access a grid of 'axes' objects\n",
    "plt.ylim([0.5,2])\n",
    "ax[0,0].axhline(1, color='k', linewidth=2)\n",
    "ax[1,0].axhline(1, color='k', linewidth=2)"
   ]
  },
  {
   "cell_type": "code",
   "execution_count": null,
   "id": "affected-membrane",
   "metadata": {},
   "outputs": [],
   "source": [
    "# data_deg.insert(1, 'Lobe', data_con.StimR)\n",
    "for region in np.unique(data_deg[['Area']]):\n",
    "    if len(regions.Lobe[regions.label==region].values)>0:\n",
    "        lobe = regions.Lobe[regions.label==region].values[0]\n",
    "    else:\n",
    "        lobe = 'out'\n",
    "    data_deg.loc[data_deg.Area==region, 'Lobe'] = lobe"
   ]
  },
  {
   "cell_type": "code",
   "execution_count": null,
   "id": "round-museum",
   "metadata": {},
   "outputs": [],
   "source": [
    "g = sns.catplot(x ='Area', y='LLs_n', hue='SleepState', data= data_deg_surr[data_deg_surr.SleepState != 'Wake'], row = 'Deg', kind='swarm',s=5,height=8,aspect= 4)\n",
    "ax = g.axes  # access a grid of 'axes' objects\n",
    "plt.ylim([0.5,2])\n",
    "ax[0,0].axhline(1, color='k', linewidth=2)\n",
    "ax[1,0].axhline(1, color='k', linewidth=2)"
   ]
  },
  {
   "cell_type": "code",
   "execution_count": null,
   "id": "veterinary-antigua",
   "metadata": {
    "scrolled": true
   },
   "outputs": [],
   "source": [
    "g = sns.catplot(x ='Area', y='LLs_n', hue='SleepState', data= data_deg[data_deg.SleepState != 'Wake'], row = 'Deg', kind='swarm',s=5,height=8,aspect= 4)\n",
    "ax = g.axes  # access a grid of 'axes' objects\n",
    "plt.ylim([0.5,2])\n",
    "ax[0,0].axhline(1, color='k', linewidth=2)\n",
    "ax[1,0].axhline(1, color='k', linewidth=2)"
   ]
  },
  {
   "cell_type": "markdown",
   "id": "sustainable-injection",
   "metadata": {},
   "source": [
    "## Connection-wise"
   ]
  },
  {
   "cell_type": "code",
   "execution_count": null,
   "id": "square-popularity",
   "metadata": {},
   "outputs": [],
   "source": [
    "data_con_sleep"
   ]
  },
  {
   "cell_type": "code",
   "execution_count": null,
   "id": "worldwide-verification",
   "metadata": {},
   "outputs": [],
   "source": [
    "data_test = data_con_sleep[data_con_sleep.SleepState=='NREM']\n",
    "data_test = data_test.reset_index(drop=True)"
   ]
  },
  {
   "cell_type": "code",
   "execution_count": null,
   "id": "conscious-reaction",
   "metadata": {},
   "outputs": [],
   "source": [
    "data_test"
   ]
  },
  {
   "cell_type": "code",
   "execution_count": null,
   "id": "medical-complement",
   "metadata": {},
   "outputs": [],
   "source": [
    "data_test.groupby(['SleepState', 'Group', 'P_ratio_sig'])['LL_cd'].count()"
   ]
  },
  {
   "cell_type": "code",
   "execution_count": null,
   "id": "chronic-saying",
   "metadata": {},
   "outputs": [],
   "source": [
    "sns.color_palette(\"Paired\")[:2]"
   ]
  },
  {
   "cell_type": "code",
   "execution_count": null,
   "id": "complete-purpose",
   "metadata": {},
   "outputs": [],
   "source": [
    "plt.figure(figsize=(20,15))\n",
    "sns.histplot(x='Group', hue='LL_cd_sig',data=data_con_sleep[data_con_sleep.SleepState=='REM'], multiple='stack', legend=False, palette= sns.color_palette(\"Paired\")[:2])\n",
    "plt.ylabel('Count', fontsize=30)\n",
    "plt.xlabel(' ', fontsize=30)\n",
    "plt.legend(['Sig','Non-sig'],fontsize=25)\n",
    "plt.xticks(fontsize=30)\n",
    "plt.title(\"Number of connections modulated by REM, metric: LL\", fontsize=30)\n",
    "plt.yticks(fontsize=25)\n",
    "plt.savefig('X:\\\\4 e-Lab\\\\EvM\\Projects\\\\EL_experiment\\\\Analysis\\\\Patients\\\\Across\\\\BrainMapping\\\\Sleep\\\\connectogram\\\\figures\\\\REM_LL_sig_counts.png', dpi=300)"
   ]
  },
  {
   "cell_type": "code",
   "execution_count": null,
   "id": "dirty-williams",
   "metadata": {},
   "outputs": [],
   "source": [
    "plt.figure(figsize=(20,15))\n",
    "sns.histplot(x='Group', hue='LL_cd_sig',data=data_con_sleep[data_con_sleep.SleepState=='NREM'], multiple='stack', legend=False, palette= sns.color_palette(\"Paired\")[:2])\n",
    "plt.ylabel('Count', fontsize=30)\n",
    "plt.xlabel(' ', fontsize=30)\n",
    "plt.legend(['Sig','Non-sig'],fontsize=25)\n",
    "plt.xticks(fontsize=30)\n",
    "plt.title(\"Number of connections modulated by NREM, metric: LL\", fontsize=30)\n",
    "plt.yticks(fontsize=25)\n",
    "plt.savefig('X:\\\\4 e-Lab\\\\EvM\\Projects\\\\EL_experiment\\\\Analysis\\\\Patients\\\\Across\\\\BrainMapping\\\\Sleep\\\\connectogram\\\\figures\\\\NREM_LL_sig_counts.png', dpi=300)"
   ]
  },
  {
   "cell_type": "code",
   "execution_count": null,
   "id": "tired-republic",
   "metadata": {},
   "outputs": [],
   "source": [
    "\n",
    "sys.path.append('T:\\EL_experiment\\Codes\\Connectogram')\n",
    "import read_data as rd\n",
    "import plot_funcs as pf\n",
    "\n",
    "\n",
    "import numpy as np\n",
    "import pandas as pd\n",
    "import read_data as rd\n",
    "\n",
    "from os import path\n",
    "import matplotlib.pyplot as plt\n",
    "\n",
    "from globals import DATA_CON_FILEPATH\n",
    "from ui_connectogram import Ui_MainWindow as mainWindow\n",
    "from connectogram import Connectrogram"
   ]
  },
  {
   "cell_type": "code",
   "execution_count": null,
   "id": "waiting-likelihood",
   "metadata": {},
   "outputs": [],
   "source": [
    "data_con_file = sub_path+'\\EvM\\Projects\\EL_experiment\\Analysis\\Patients\\Across\\BrainMapping\\Sleep\\\\data_con_sleep.csv'\n",
    "\n",
    "data_con_sleep.to_csv(data_con_file,\n",
    "        header=True, index=False)\n"
   ]
  },
  {
   "cell_type": "code",
   "execution_count": null,
   "id": "prime-column",
   "metadata": {},
   "outputs": [],
   "source": [
    "data_con_cone = pd.read_csv('T:\\EL_experiment\\Codes\\Connectogram\\data_con.csv')"
   ]
  },
  {
   "cell_type": "code",
   "execution_count": null,
   "id": "focal-diary",
   "metadata": {},
   "outputs": [],
   "source": [
    "data_con_cone = data_con_cone[data_con_cone.Sig>0]\n",
    "data_con_cone = data_con_cone.reset_index(drop=True)\n",
    "data_con_cone.to_csv('T:\\EL_experiment\\Codes\\Connectogram\\data_con_sleep.csv',\n",
    "        header=True, index=False)"
   ]
  },
  {
   "cell_type": "code",
   "execution_count": null,
   "id": "completed-stroke",
   "metadata": {},
   "outputs": [],
   "source": [
    "data_con_cone2 = data_con_cone[data_con_cone.NREM_LL==1]\n",
    "data_con_cone2 = data_con_cone2.reset_index(drop=True)\n",
    "data_con_cone2.to_csv('T:\\EL_experiment\\Codes\\Connectogram\\data_con_sleep.csv',\n",
    "        header=True, index=False)"
   ]
  },
  {
   "cell_type": "code",
   "execution_count": null,
   "id": "smaller-bankruptcy",
   "metadata": {},
   "outputs": [],
   "source": [
    "data_con_cone.insert(5, 'REM_P', np.nan)\n",
    "data_con_cone.insert(5, 'NREM_P', np.nan)\n",
    "data_con_cone.insert(5, 'REM_LL', np.nan)\n",
    "data_con_cone.insert(5, 'NREM_LL', np.nan)"
   ]
  },
  {
   "cell_type": "code",
   "execution_count": null,
   "id": "united-receipt",
   "metadata": {},
   "outputs": [],
   "source": [
    "data_con_cone = rd.get_Region_data_con(data_con_cone)\n",
    "for subj in np.unique(data_con_cone.Subj):\n",
    "    data_con_cone.loc[data_con_cone.Subj == subj, 'Stim'] = data_con_cone.loc[data_con_cone.Subj == subj, 'Stim'] + chan0\n",
    "    data_con_cone.loc[data_con_cone.Subj == subj, 'Chan'] = data_con_cone.loc[data_con_cone.Subj == subj, 'Chan'] + chan0\n",
    "    chan0 = np.max(data_con.loc[data_con.Subj == subj, ['Stim', 'Chan']].values) + 1\n",
    "\n",
    "chan_ID = np.unique(np.concatenate([data_con_cone.Stim, data_con_cone.Chan])).astype('int')\n",
    "\n",
    "data_nodes = rd.get_nodes(chan_ID, data_con_cone)\n"
   ]
  },
  {
   "cell_type": "markdown",
   "id": "intimate-steering",
   "metadata": {},
   "source": [
    "##  P"
   ]
  },
  {
   "cell_type": "code",
   "execution_count": null,
   "id": "literary-nowhere",
   "metadata": {},
   "outputs": [],
   "source": [
    "for i in range(len(data_NREM_neg)):\n",
    "    subj = data_NREM_neg.Subj.values[i]\n",
    "    sc = data_NREM_neg.Stim.values[i].astype('int')\n",
    "    rc = data_NREM_neg.Chan.values[i].astype('int')\n",
    "    data_con_cone.loc[(data_con_cone.Subj==subj)&(data_con_cone.Stim==sc)&(data_con_cone.Chan==rc), 'NREM_LL'] = -1\n",
    "for i in range(len(data_NREM_pos)):\n",
    "    subj = data_NREM_pos.Subj.values[i]\n",
    "    sc = data_NREM_pos.Stim.values[i].astype('int')\n",
    "    rc = data_NREM_pos.Chan.values[i].astype('int')\n",
    "    data_con_cone.loc[(data_con_cone.Subj==subj)&(data_con_cone.Stim==sc)&(data_con_cone.Chan==rc), 'NREM_LL'] = 1\n",
    "for i in range(len(data_REM_pos)):\n",
    "    subj = data_REM_pos.Subj.values[i]\n",
    "    sc = data_REM_pos.Stim.values[i].astype('int')\n",
    "    rc = data_REM_pos.Chan.values[i].astype('int')\n",
    "    data_con_cone.loc[(data_con_cone.Subj==subj)&(data_con_cone.Stim==sc)&(data_con_cone.Chan==rc), 'REM_LL'] =1\n",
    "for i in range(len(data_REM_neg)):\n",
    "    subj = data_REM_neg.Subj.values[i]\n",
    "    sc = data_REM_neg.Stim.values[i].astype('int')\n",
    "    rc = data_REM_neg.Chan.values[i].astype('int')\n",
    "    data_con_cone.loc[(data_con_cone.Subj==subj)&(data_con_cone.Stim==sc)&(data_con_cone.Chan==rc), 'REM_LL'] =-1\n",
    "##\n",
    "for i in range(len(data_NREM_pos_p)):\n",
    "    subj = data_NREM_pos_p.Subj.values[i]\n",
    "    sc = data_NREM_pos_p.Stim.values[i].astype('int')\n",
    "    rc = data_NREM_pos_p.Chan.values[i].astype('int')\n",
    "    data_con_cone.loc[(data_con_cone.Subj==subj)&(data_con_cone.Stim==sc)&(data_con_cone.Chan==rc), 'NREM_P'] = 1\n",
    "for i in range(len(data_NREM_neg_p)):\n",
    "    subj = data_NREM_neg_p.Subj.values[i]\n",
    "    sc = data_NREM_neg_p.Stim.values[i].astype('int')\n",
    "    rc = data_NREM_neg_p.Chan.values[i].astype('int')\n",
    "    data_con_cone.loc[(data_con_cone.Subj==subj)&(data_con_cone.Stim==sc)&(data_con_cone.Chan==rc), 'NREM_P'] = -1\n",
    "for i in range(len(data_REM_pos_p)):\n",
    "    subj = data_REM_pos_p.Subj.values[i]\n",
    "    sc = data_REM_pos_p.Stim.values[i].astype('int')\n",
    "    rc = data_REM_pos_p.Chan.values[i].astype('int')\n",
    "    data_con_cone.loc[(data_con_cone.Subj==subj)&(data_con_cone.Stim==sc)&(data_con_cone.Chan==rc), 'REM_P'] = 1\n",
    "for i in range(len(data_REM_neg_p)):\n",
    "    subj = data_REM_neg_p.Subj.values[i]\n",
    "    sc = data_REM_neg_p.Stim.values[i].astype('int')\n",
    "    rc = data_REM_neg_p.Chan.values[i].astype('int')\n",
    "    data_con_cone.loc[(data_con_cone.Subj==subj)&(data_con_cone.Stim==sc)&(data_con_cone.Chan==rc), 'REM_P'] = -1\n",
    "    "
   ]
  },
  {
   "cell_type": "code",
   "execution_count": null,
   "id": "wooden-repeat",
   "metadata": {},
   "outputs": [],
   "source": [
    "data_NREM_neg = data_con_sleep2[(data_con_sleep2.LL_cd<0)&(data_con_sleep2.SleepState=='NREM')]\n",
    "data_NREM_pos = data_con_sleep2[(data_con_sleep2.LL_cd>0)&(data_con_sleep2.SleepState=='NREM')]\n",
    "data_REM_neg = data_con_sleep2[(data_con_sleep2.LL_cd<0)&(data_con_sleep2.SleepState=='REM')]\n",
    "data_REM_pos = data_con_sleep2[(data_con_sleep2.LL_cd>0)&(data_con_sleep2.SleepState=='REM')]\n",
    "\n",
    "data_NREM_neg_p = data_con_sleep2[(data_con_sleep2.P_ratio<0)&(data_con_sleep2.SleepState=='NREM')]\n",
    "data_NREM_pos_p = data_con_sleep2[(data_con_sleep2.P_ratio>0)&(data_con_sleep2.SleepState=='NREM')]\n",
    "data_REM_neg_p = data_con_sleep2[(data_con_sleep2.P_ratio<0)&(data_con_sleep2.SleepState=='REM')]\n",
    "data_REM_pos_p = data_con_sleep2[(data_con_sleep2.P_ratio>0)&(data_con_sleep2.SleepState=='REM')]"
   ]
  },
  {
   "cell_type": "code",
   "execution_count": null,
   "id": "expected-guess",
   "metadata": {},
   "outputs": [],
   "source": [
    "data_con_sleep2.groupby(['Subj', 'Stim', 'Chan', 'SleepState'], as_index=False)[['P_ratio']].mean()"
   ]
  },
  {
   "cell_type": "code",
   "execution_count": null,
   "id": "earlier-madison",
   "metadata": {},
   "outputs": [],
   "source": [
    "data_con_NREM   = data_con_sleep[data_con_sleep.SleepState == 'NREM']"
   ]
  },
  {
   "cell_type": "code",
   "execution_count": null,
   "id": "impossible-stick",
   "metadata": {},
   "outputs": [],
   "source": [
    "data_con_sleep.to_csv()"
   ]
  },
  {
   "cell_type": "code",
   "execution_count": null,
   "id": "critical-canal",
   "metadata": {},
   "outputs": [],
   "source": [
    "sns.histplot(x='Group', hue='LL_cd_sig',data=data_con_sleep[data_con_sleep.SleepState=='NREM'], multiple='stack', palette= color_group)"
   ]
  },
  {
   "cell_type": "code",
   "execution_count": null,
   "id": "primary-cancer",
   "metadata": {},
   "outputs": [],
   "source": [
    "color_d, color_dist, color_group, color_elab = ls.get_color()"
   ]
  },
  {
   "cell_type": "code",
   "execution_count": null,
   "id": "freelance-maintenance",
   "metadata": {},
   "outputs": [],
   "source": [
    "data_plot = data_con_sleep[(data_con_sleep.P_ratio_sig==1)& (data_con_sleep.SleepState=='NREM')]\n",
    "sns.catplot(x='Group', y= abs(data_plot.P_ratio),data=data_plot,  kind='box',order= group_labels, height=10, palette= color_group)\n",
    "plt.ylabel(\"Probability Ratio\", fontsize=30)\n",
    "plt.yticks(fontsize=25)\n",
    "plt.xticks(fontsize=25)\n",
    "plt.xlabel(\"\", fontsize=30)"
   ]
  },
  {
   "cell_type": "code",
   "execution_count": null,
   "id": "declared-testament",
   "metadata": {},
   "outputs": [],
   "source": [
    "data_plot = data_con_sleep[(data_con_sleep.LL_cd_sig==1)& (data_con_sleep.SleepState=='NREM')]\n",
    "sns.catplot(x='Group', y= abs(data_plot.LL_cd),data=data_plot,  kind='box',order= group_labels, height=10, palette= color_group)\n",
    "plt.ylabel(\"LL Cohen's D\", fontsize=30)\n",
    "plt.yticks(fontsize=25)\n",
    "plt.xticks(fontsize=25)\n",
    "plt.xlabel(\"\", fontsize=30)"
   ]
  },
  {
   "cell_type": "code",
   "execution_count": null,
   "id": "cross-pursuit",
   "metadata": {},
   "outputs": [],
   "source": [
    "data_plot = data_con_sleep[(data_con_sleep.SleepState=='NREM')]\n",
    "sns.catplot(x='Group',y= abs(data_plot.LL_cd),data=data_plot,  kind='box', palette= color_group)\n",
    "plt.ylim([0,1])"
   ]
  },
  {
   "cell_type": "code",
   "execution_count": null,
   "id": "cathedral-welding",
   "metadata": {},
   "outputs": [],
   "source": [
    "group_labels = np.unique(data_con_sleep.Group)\n",
    "group_labels = ['local direct',  'long direct','indirect']"
   ]
  },
  {
   "cell_type": "code",
   "execution_count": null,
   "id": "incorrect-theater",
   "metadata": {},
   "outputs": [],
   "source": [
    "group_labels = ['local direct',  'long direct','indirect']"
   ]
  },
  {
   "cell_type": "code",
   "execution_count": null,
   "id": "supreme-instrumentation",
   "metadata": {},
   "outputs": [],
   "source": []
  },
  {
   "cell_type": "code",
   "execution_count": null,
   "id": "vanilla-battle",
   "metadata": {},
   "outputs": [],
   "source": [
    "sns.catplot(x='Group', y= 'LL_cd', hue='LL_cd_sig',data=data_con_sleep[data_con_sleep.SleepState=='NREM'], kind='hist', dodge=True)\n"
   ]
  },
  {
   "cell_type": "code",
   "execution_count": null,
   "id": "sacred-theater",
   "metadata": {},
   "outputs": [],
   "source": [
    "sns.catplot(x='SleepState', y= 'P_ratio', hue='P_ratio_sig',data=data_con[data_con.SleepState!='Wake'], row='StimL', col = 'ChanL')\n",
    "plt.savefig('X:\\\\4 e-Lab\\EvM\\Projects\\EL_experiment\\Analysis\\Patients\\Across\\CR\\sleep_connections\\con_sig_P.jpg')"
   ]
  },
  {
   "cell_type": "code",
   "execution_count": null,
   "id": "surprising-madrid",
   "metadata": {},
   "outputs": [],
   "source": [
    "sns.catplot(x='SleepState', y= 'LL_cd', hue='LL_cd_sig',data=data_con[data_con.SleepState!='Wake'], row='StimL', col = 'ChanL')\n",
    "plt.savefig('X:\\\\4 e-Lab\\EvM\\Projects\\EL_experiment\\Analysis\\Patients\\Across\\CR\\sleep_connections\\con_sig_LL.jpg')"
   ]
  },
  {
   "cell_type": "code",
   "execution_count": null,
   "id": "infrared-nowhere",
   "metadata": {},
   "outputs": [],
   "source": [
    "data_con"
   ]
  },
  {
   "cell_type": "code",
   "execution_count": null,
   "id": "handmade-footage",
   "metadata": {},
   "outputs": [],
   "source": [
    "data_stats = data_con[~np.isnan(data_con.P_ratio)&(data_con.ChanL!='Unknown')&(data_con.StimL!='Unknown')&(data_con.SleepState=='NREM')&(data_con.H==0)&(data_con.P_ratio_sig==True)]\n",
    "data_stats = data_stats.reset_index(drop=True)"
   ]
  },
  {
   "cell_type": "code",
   "execution_count": null,
   "id": "blind-responsibility",
   "metadata": {},
   "outputs": [],
   "source": [
    "data_stats = data_stats.sort_values('StimL')\n",
    "data_stats = data_stats.reset_index(drop=True)"
   ]
  },
  {
   "cell_type": "code",
   "execution_count": null,
   "id": "major-hostel",
   "metadata": {},
   "outputs": [],
   "source": [
    "data_stats.StimL+'-'+data_stats.StimL "
   ]
  },
  {
   "cell_type": "code",
   "execution_count": null,
   "id": "dependent-detector",
   "metadata": {},
   "outputs": [],
   "source": [
    "data_stats.insert(0,'ConL',data_stats.StimL+'-'+data_stats.ChanL )"
   ]
  },
  {
   "cell_type": "code",
   "execution_count": null,
   "id": "cloudy-midwest",
   "metadata": {},
   "outputs": [],
   "source": [
    "data_stats.insert(0,'Increase',1)\n",
    "data_stats.loc[data_stats.P_ratio<0,'Increase'] = 0"
   ]
  },
  {
   "cell_type": "code",
   "execution_count": null,
   "id": "breeding-requirement",
   "metadata": {},
   "outputs": [],
   "source": [
    "contigency= pd.crosstab(data_stats['ConL'], data_stats['Increase'])\n",
    "c, p, dof, expected = scipy.stats.chi2_contingency(contigency)"
   ]
  },
  {
   "cell_type": "code",
   "execution_count": null,
   "id": "eastern-warner",
   "metadata": {},
   "outputs": [],
   "source": [
    "p"
   ]
  },
  {
   "cell_type": "code",
   "execution_count": null,
   "id": "living-shaft",
   "metadata": {},
   "outputs": [],
   "source": [
    "sns.regplot(x=data_stats.d, y=abs(data_stats.P_ratio))"
   ]
  },
  {
   "cell_type": "code",
   "execution_count": null,
   "id": "muslim-honduras",
   "metadata": {},
   "outputs": [],
   "source": [
    "subjs = ['EL003','EL004','EL005','EL010', 'EL011', 'EL012', 'EL013', 'EL014', 'EL015', 'EL016', 'EL017', 'EL019', 'EL020']"
   ]
  },
  {
   "cell_type": "code",
   "execution_count": null,
   "id": "exceptional-violin",
   "metadata": {},
   "outputs": [],
   "source": [
    "bad_all"
   ]
  },
  {
   "cell_type": "code",
   "execution_count": null,
   "id": "domestic-winner",
   "metadata": {},
   "outputs": [],
   "source": [
    "len(labels_all)-len(bad_all)"
   ]
  },
  {
   "cell_type": "code",
   "execution_count": null,
   "id": "trying-attitude",
   "metadata": {},
   "outputs": [],
   "source": [
    "subj='EL003'\n",
    "path_gen = os.path.join(sub_path+'\\Patients\\\\' + subj)\n",
    "if not os.path.exists(path_gen):\n",
    "    path_gen = 'T:\\\\EL_experiment\\\\Patients\\\\' + subj\n",
    "path_patient = path_gen + '\\Data\\EL_experiment'\n",
    "path_infos = os.path.join(path_patient, 'infos')\n",
    "if not os.path.exists(path_infos):\n",
    "    path_infos = path_gen + '\\\\infos'\n",
    "path_patient_analysis = sub_path+'\\EvM\\Projects\\EL_experiment\\Analysis\\Patients\\\\' + subj\n",
    "\n",
    "lbls = pd.read_excel(os.path.join(path_infos, subj + \"_labels.xlsx\"), header=0, sheet_name='BP')\n",
    "labels_all = lbls.label.values\n",
    "labels_clinic = lbls.Clinic.values\n",
    "labels_region = lbls.Region.values\n",
    "labels_region[labels_region == 'HIPP'] = 'Mesiotemporal'\n",
    "labels_region[labels_region == 'HIPP '] = 'Mesiotemporal'\n",
    "labels_region[labels_region == 'ENT'] = 'Basotemporal'\n",
    "bad_region = np.where((labels_region == 'WM') | (labels_region == 'OUT') | (labels_region == 'Putamen'))[0]\n",
    "\n",
    "bad_chans = pd.read_csv(path_patient_analysis + '/BrainMapping/data/badchan.csv')\n",
    "bad_chans = np.unique(np.array(np.where(bad_chans.values[:, 1:] == 1))[0, :])\n",
    "\n",
    "WM_chans = np.where(labels_region == 'WM')[0]\n",
    "bad_all = np.unique(np.concatenate([WM_chans, bad_region, bad_chans])).astype('int')\n",
    "len(labels_all)-len(bad_all)"
   ]
  },
  {
   "cell_type": "code",
   "execution_count": null,
   "id": "valid-graphic",
   "metadata": {},
   "outputs": [],
   "source": [
    "s = 0\n",
    "for subj in subjs:\n",
    "    hyp = pd.read_csv('X:\\\\4 e-Lab\\EvM\\Projects\\EL_experiment\\Analysis\\Patients\\\\'+subj+'\\\\stimlist_hypnogram.csv')\n",
    "    \n",
    "    \n",
    "    df = pd.DataFrame([[subj,len(np.unique(hyp.stim_block)),len(hyp[(hyp.sleep==0)])/len(hyp),len(hyp[(hyp.sleep>1)&(hyp.sleep<4)])/len(hyp),len(hyp[(hyp.sleep==4)])/len(hyp)]], columns=['Subj','Block','W','NREM','REM'])\n",
    "    if s ==0:\n",
    "        sleep_overview = df\n",
    "        s = 1\n",
    "    else:\n",
    "        sleep_overview = pd.concat([sleep_overview,df])\n",
    "sleep_overview = sleep_overview.reset_index(drop=True)"
   ]
  },
  {
   "cell_type": "code",
   "execution_count": null,
   "id": "acknowledged-salad",
   "metadata": {},
   "outputs": [],
   "source": [
    "s = 0\n",
    "for subj in subjs:\n",
    "    path_gen = os.path.join(sub_path+'\\Patients\\\\' + subj)\n",
    "    if not os.path.exists(path_gen):\n",
    "        path_gen = 'T:\\\\EL_experiment\\\\Patients\\\\' + subj\n",
    "    path_patient = path_gen + '\\Data\\EL_experiment'\n",
    "    path_infos = os.path.join(path_patient, 'infos')\n",
    "    if not os.path.exists(path_infos):\n",
    "        path_infos = path_gen + '\\\\infos'\n",
    "    path_patient_analysis = sub_path+'\\EvM\\Projects\\EL_experiment\\Analysis\\Patients\\\\' + subj\n",
    "\n",
    "    lbls = pd.read_excel(os.path.join(path_infos, subj + \"_labels.xlsx\"), header=0, sheet_name='BP')\n",
    "    labels_all = lbls.label.values\n",
    "    labels_clinic = lbls.Clinic.values\n",
    "    labels_region = lbls.Region.values\n",
    "    labels_region[labels_region == 'HIPP'] = 'Mesiotemporal'\n",
    "    labels_region[labels_region == 'HIPP '] = 'Mesiotemporal'\n",
    "    labels_region[labels_region == 'ENT'] = 'Basotemporal'\n",
    "    bad_region = np.where((labels_region == 'WM') | (labels_region == 'OUT') | (labels_region == 'Putamen'))[0]\n",
    "\n",
    "    bad_chans = pd.read_csv(path_patient_analysis + '/BrainMapping/data/badchan.csv')\n",
    "    bad_chans = np.unique(np.array(np.where(bad_chans.values[:, 1:] == 1))[0, :])\n",
    "\n",
    "    WM_chans = np.where(labels_region == 'WM')[0]\n",
    "    bad_all = np.unique(np.concatenate([WM_chans, bad_region, bad_chans])).astype('int')\n",
    "    n_chan =  len(labels_all)-len(bad_all)\n",
    "\n",
    "    \n",
    "    hyp = pd.read_csv('X:\\\\4 e-Lab\\EvM\\Projects\\EL_experiment\\Analysis\\Patients\\\\'+subj+'\\\\stimlist_hypnogram.csv')\n",
    "    df = pd.DataFrame([[subj,n_chan, len(np.unique(hyp.stim_block)),len(hyp[(hyp.sleep==0)])/len(hyp),len(hyp[(hyp.sleep>1)&(hyp.sleep<4)])/len(hyp),len(hyp[(hyp.sleep==4)])/len(hyp)]], columns=['Subj','Chan','Block','W','NREM','REM'])\n",
    "    if s ==0:\n",
    "        sleep_overview = df\n",
    "        s = 1\n",
    "    else:\n",
    "        sleep_overview = pd.concat([sleep_overview,df])\n",
    "sleep_overview = sleep_overview.reset_index(drop=True)"
   ]
  },
  {
   "cell_type": "code",
   "execution_count": null,
   "id": "committed-agenda",
   "metadata": {},
   "outputs": [],
   "source": [
    "sleep_overview"
   ]
  },
  {
   "cell_type": "code",
   "execution_count": null,
   "id": "checked-shopper",
   "metadata": {},
   "outputs": [],
   "source": [
    "sleep_overview.to_excel('X:\\\\4 e-Lab\\\\EvM\\Projects\\EL_experiment\\Analysis\\Patients\\Across\\CR\\\\sleep_analysis_raw.xlsx', index=False, header=True)"
   ]
  },
  {
   "cell_type": "code",
   "execution_count": null,
   "id": "durable-track",
   "metadata": {},
   "outputs": [],
   "source": [
    "pd.DataFrame([[subj,len(np.unique(hyp.stim_block)),len(hyp[(hyp.sleep==0)])/len(hyp),len(hyp[(hyp.sleep>1)&(hyp.sleep<4)])/len(hyp),len(hyp[(hyp.sleep==4)])/len(hyp)]], columns=['Subj','Block','W','NREM','REM'])"
   ]
  },
  {
   "cell_type": "code",
   "execution_count": null,
   "id": "presidential-heater",
   "metadata": {
    "scrolled": false
   },
   "outputs": [],
   "source": [
    "sns.catplot(x='SleepState', y= 'P_ratio',hue  ='P_ratio_sig', data=data_con[~np.isnan(data_con.P_ratio)&(data_con.SleepState!='NREM1')&(data_con.SleepState!='Wake')], row='StimL', col = 'ChanL', kind='strip')"
   ]
  },
  {
   "cell_type": "code",
   "execution_count": null,
   "id": "another-jerusalem",
   "metadata": {},
   "outputs": [],
   "source": [
    "start"
   ]
  },
  {
   "cell_type": "markdown",
   "id": "supported-solomon",
   "metadata": {},
   "source": [
    "### NETWORK SLEEP"
   ]
  },
  {
   "cell_type": "code",
   "execution_count": null,
   "id": "inside-douglas",
   "metadata": {},
   "outputs": [],
   "source": [
    "sleepstate_labels = ['NREM', 'REM']\n",
    "r_order = [\"Orbitofrontal\", \"Dorsofrontal\", \"Central\", ' Cingular', 'Insula', 'Superotemporal', 'Laterotemporal',\n",
    "           'Basotemporal', 'Mesiotemporal', 'Sylvian', 'Parietal', 'Occipital']"
   ]
  },
  {
   "cell_type": "code",
   "execution_count": null,
   "id": "mexican-ratio",
   "metadata": {},
   "outputs": [],
   "source": [
    "data_con"
   ]
  },
  {
   "cell_type": "code",
   "execution_count": null,
   "id": "employed-objective",
   "metadata": {},
   "outputs": [],
   "source": [
    "data_plot  = data_con[data_con.H ==0]\n",
    "chan_ID = np.unique(np.concatenate([data_plot.Stim, data_plot.Chan])).astype('int')"
   ]
  },
  {
   "cell_type": "code",
   "execution_count": null,
   "id": "intelligent-theater",
   "metadata": {},
   "outputs": [],
   "source": [
    "##NODES\n",
    "G = nx.empty_graph(len(chan_ID))\n",
    "for i in range(len(chan_ID)):\n",
    "    if len(data_plot.loc[data_plot.Stim == chan_ID[i], 'Subj'].values) > 0:\n",
    "        G.nodes[i][\"subj\"] = data_plot.loc[data_plot.Stim == chan_ID[i], 'Subj'].values[0]\n",
    "        G.nodes[i][\"area\"] = data_plot.loc[data_plot.Stim == chan_ID[i], 'StimA'].values[0]\n",
    "        G.nodes[i][\"region\"] = data_plot.loc[data_plot.Stim == chan_ID[i], 'StimR'].values[0]\n",
    "        G.nodes[i][\"label\"] = data_plot.loc[data_plot.Stim == chan_ID[i], 'StimA'].values[0]+'_'+str(i)\n",
    "        G.nodes[i][\"lobe\"] = data_plot.loc[data_plot.Stim == chan_ID[i], 'StimL'].values[0]\n",
    "    else:\n",
    "        G.nodes[i][\"subj\"] = data_plot.loc[data_plot.Chan == chan_ID[i], 'Subj'].values[0]\n",
    "        G.nodes[i][\"area\"] = data_plot.loc[data_plot.Chan == chan_ID[i], 'ChanA'].values[0]\n",
    "        G.nodes[i][\"region\"] = data_plot.loc[data_plot.Chan == chan_ID[i], 'ChanR'].values[0]\n",
    "        G.nodes[i][\"label\"] = data_plot.loc[data_plot.Chan == chan_ID[i], 'ChanA'].values[0]+'_'+str(i)\n",
    "        G.nodes[i][\"lobe\"] = data_plot.loc[data_plot.Chan == chan_ID[i], 'ChanL'].values[0]\n",
    "\n"
   ]
  },
  {
   "cell_type": "code",
   "execution_count": null,
   "id": "satisfactory-springer",
   "metadata": {},
   "outputs": [],
   "source": [
    "change_labels =['non', 'stable', 'decrease', 'increase']"
   ]
  },
  {
   "cell_type": "code",
   "execution_count": null,
   "id": "angry-houston",
   "metadata": {
    "scrolled": true
   },
   "outputs": [],
   "source": [
    "for test_label, test_label2 in zip(['prob_wake', 'ttest_wake'],['Prob', 'LL']): \n",
    "    for ss in ['NREM','REM']:\n",
    "        plt.figure(figsize=(20, 15))\n",
    "        plt.title('Across Patients: ' +ss + ' Sleep Effect on ' + test_label2, fontsize=25)\n",
    "        sns.countplot(x='Dist', hue=test_label, data=data_con[data_con.SleepState == ss])\n",
    "        plt.legend(['stable', 'decrease', 'increase'], fontsize=20)\n",
    "        plt.ylabel('Number of Connections', fontsize=25)\n",
    "        plt.xlabel('')\n",
    "        plt.xticks(fontsize=20)\n",
    "        plt.yticks(fontsize=20)\n",
    "        plt.show()"
   ]
  },
  {
   "cell_type": "code",
   "execution_count": null,
   "id": "victorian-luxembourg",
   "metadata": {},
   "outputs": [],
   "source": [
    "G.remove_edges_from(G.edges())\n",
    "df_2_edges = data_plot[(data_plot.SleepState == ss)&(data_plot.SleepState == ss)&(data_plot['LL_cd_sig'] == 1)&(data_plot.LL_cd<0)&(data_plot.d>30)]\n",
    "df_2_edges = df_2_edges.reset_index(drop=True)\n",
    "for i in range(len(df_2_edges)): # \n",
    "    c = 'b'\n",
    "    di = np.random.choice([0,1])\n",
    "    G.add_edge(np.where(chan_ID == df_2_edges.Stim.values[i].astype('int'))[0][0],\n",
    "               np.where(chan_ID == df_2_edges.Chan.values[i].astype('int'))[0][0], color=c, direction = di)\n",
    "\n",
    "c = CircosPlot(\n",
    "    G,\n",
    "    node_grouping=\"lobe\",\n",
    "    node_subgrouping=[\"region\", \"area\",\"subj\"],\n",
    "    node_color=\"subj\",\n",
    "    node_labels= True,\n",
    "    node_label= 'label',\n",
    "    group_label_position=\"middle\",\n",
    "    group_label_color=True,\n",
    "    group_label_offset=65,\n",
    "    figsize=(25,25), \n",
    "    fontsize=15\n",
    ")\n",
    "c.draw()\n",
    "plt.title(ss+ ' -- decrease')"
   ]
  },
  {
   "cell_type": "code",
   "execution_count": null,
   "id": "governmental-guidance",
   "metadata": {},
   "outputs": [],
   "source": [
    "ss = 'NREM'\n",
    "\n",
    "G.remove_edges_from(G.edges())\n",
    "df_2_edges = data_plot[(data_plot.SleepState == ss)&(data_plot['LL_cd_sig'] == 1)&(data_plot.LL_cd>0)&(data_plot.d>30)]\n",
    "df_2_edges = df_2_edges.reset_index(drop=True)\n",
    "for i in range(len(df_2_edges)): # \n",
    "    c = 'b'\n",
    "    di = np.random.choice([0,1])\n",
    "    G.add_edge(np.where(chan_ID == df_2_edges.Stim.values[i].astype('int'))[0][0],\n",
    "               np.where(chan_ID == df_2_edges.Chan.values[i].astype('int'))[0][0], color=c, direction = di)\n",
    "\n",
    "c = CircosPlot(\n",
    "    G,\n",
    "    node_grouping=\"lobe\",\n",
    "    node_subgrouping=[\"region\",\"area\",\"subj\"],\n",
    "    node_color=\"subj\",\n",
    "    node_labels= True,\n",
    "    node_label= 'label',\n",
    "    group_label_position=\"middle\",\n",
    "    group_label_color=True,\n",
    "    group_label_offset=65,\n",
    "    figsize=(25,25), \n",
    "    fontsize=15\n",
    ")\n",
    "c.draw()\n",
    "plt.title(ss+ ' -- increase')"
   ]
  },
  {
   "cell_type": "code",
   "execution_count": null,
   "id": "copyrighted-interview",
   "metadata": {},
   "outputs": [],
   "source": [
    "## edges\n",
    "for test_label, test_label2 in zip(['prob_wake', 'ttest_wake'],['Prob', 'LL']): \n",
    "    for ss in ['NREM','REM']:\n",
    "        for change in [2,3]:\n",
    "\n",
    "            G.remove_edges_from(G.edges())\n",
    "            df_2_edges = data_plot[(data_plot.SleepState == ss)&(data_plot[test_label] == change)&(data_plot.d < 30)]\n",
    "            df_2_edges = df_2_edges.reset_index(drop=True)\n",
    "            for i in range(len(df_2_edges)): # \n",
    "                c = 'b'\n",
    "                di = np.random.choice([0,1])\n",
    "                G.add_edge(np.where(chan_ID == df_2_edges.Stim.values[i].astype('int'))[0][0],\n",
    "                           np.where(chan_ID == df_2_edges.Chan.values[i].astype('int'))[0][0], color=c, direction = di)\n",
    "                \n",
    "            c = CircosPlot(\n",
    "                G,\n",
    "                node_grouping=\"region\",\n",
    "                node_subgrouping=[\"area\",\"subj\"],\n",
    "                node_color=\"subj\",\n",
    "                node_labels= True,\n",
    "                node_label= 'label',\n",
    "                group_label_position=\"middle\",\n",
    "                group_label_color=True,\n",
    "                group_label_offset=65,\n",
    "                figsize=(25,25), \n",
    "                fontsize=15\n",
    "            )\n",
    "            c.draw()\n",
    "            plt.title(test_label2+' '+change_labels[change]+' in '+ss+', short connections')\n",
    "            plt.savefig('Y:\\eLab\\EvM\\Projects\\EL_experiment\\Analysis\\Patients\\Across\\BrainMapping\\Sleep\\connectogram\\\\figures\\\\'+test_label2+'_'+change_labels[change]+'_'+ss+'_short.svg')\n",
    "            plt.savefig('Y:\\eLab\\EvM\\Projects\\EL_experiment\\Analysis\\Patients\\Across\\BrainMapping\\Sleep\\connectogram\\\\figures\\\\'+test_label2+'_'+change_labels[change]+'_'+ss+'_short.jpg')\n",
    "            plt.close()\n",
    "## edges\n",
    "for test_label, test_label2 in zip(['prob_wake', 'ttest_wake'],['Prob', 'LL']):\n",
    "    \n",
    "    for ss in ['NREM','REM']:\n",
    "        for change in [2,3]:\n",
    "\n",
    "            G.remove_edges_from(G.edges())\n",
    "            df_2_edges = data_plot[(data_plot.SleepState == ss)&(data_plot[test_label] == change)&(data_plot.d > 30)]\n",
    "            df_2_edges = df_2_edges.reset_index(drop=True)\n",
    "            for i in range(len(df_2_edges)): # \n",
    "                c = 'b'\n",
    "                di = np.random.choice([0,1])\n",
    "                G.add_edge(np.where(chan_ID == df_2_edges.Stim.values[i].astype('int'))[0][0],\n",
    "                           np.where(chan_ID == df_2_edges.Chan.values[i].astype('int'))[0][0], color=c, direction = di)\n",
    "                \n",
    "            c = CircosPlot(\n",
    "                G,\n",
    "                node_grouping=\"region\",\n",
    "                node_subgrouping=[\"area\",\"subj\"],\n",
    "                node_color=\"subj\",\n",
    "                node_labels= True,\n",
    "                node_label= 'label',\n",
    "                group_label_position=\"middle\",\n",
    "                group_label_color=True,\n",
    "                group_label_offset=65,\n",
    "                figsize=(25,25), \n",
    "                fontsize=15\n",
    "            )\n",
    "            c.draw()\n",
    "            plt.title(test_label2+' '+change_labels[change]+' in '+ss+', long connections')\n",
    "            \n",
    "            plt.savefig('Y:\\eLab\\EvM\\Projects\\EL_experiment\\Analysis\\Patients\\Across\\BrainMapping\\Sleep\\connectogram\\\\figures\\\\'+test_label2+'_'+change_labels[change]+'_'+ss+'_long.svg')\n",
    "            plt.savefig('Y:\\eLab\\EvM\\Projects\\EL_experiment\\Analysis\\Patients\\Across\\BrainMapping\\Sleep\\connectogram\\\\figures\\\\'+test_label2+'_'+change_labels[change]+'_'+ss+'_long.jpg')\n",
    "            plt.close()"
   ]
  },
  {
   "cell_type": "code",
   "execution_count": null,
   "id": "aging-identifier",
   "metadata": {},
   "outputs": [],
   "source": [
    "stop"
   ]
  },
  {
   "cell_type": "code",
   "execution_count": null,
   "id": "passive-detective",
   "metadata": {},
   "outputs": [],
   "source": [
    "sns.scatterplot(x='d', y='Prob', hue='ttest_wake', data= data_plot_P[data_plot_P.SleepState=='NREM'])"
   ]
  },
  {
   "cell_type": "code",
   "execution_count": null,
   "id": "generous-hotel",
   "metadata": {},
   "outputs": [],
   "source": [
    "sns.scatterplot(x='d', y='Prob', hue='Subj', data= data_plot_P[data_plot_P.SleepState=='NREM'])"
   ]
  },
  {
   "cell_type": "code",
   "execution_count": null,
   "id": "solid-intellectual",
   "metadata": {
    "scrolled": true
   },
   "outputs": [],
   "source": [
    "sns.scatterplot(x='d', y='Prob', hue='Subj', data= data_plot_P[data_plot_P.SleepState=='NREM'])"
   ]
  },
  {
   "cell_type": "code",
   "execution_count": null,
   "id": "expanded-shannon",
   "metadata": {},
   "outputs": [],
   "source": [
    "sns.catplot( x= 'Dist', hue='prob_wake', data= data_plot_P, kind='count', row='ChanR')"
   ]
  },
  {
   "cell_type": "code",
   "execution_count": null,
   "id": "velvet-fabric",
   "metadata": {
    "scrolled": false
   },
   "outputs": [],
   "source": [
    "sns.catplot( x= 'Dist', hue='prob_wake', data= data_plot_P, kind='count', row='ChanR')"
   ]
  },
  {
   "cell_type": "markdown",
   "id": "interested-reminder",
   "metadata": {},
   "source": [
    "## CIRCOS"
   ]
  },
  {
   "cell_type": "code",
   "execution_count": null,
   "id": "painful-focus",
   "metadata": {},
   "outputs": [],
   "source": [
    "t_show = 0\n",
    "test = 'Prob'\n",
    "tt = 'prob_wake'\n",
    "\n",
    "if t_show == 1:\n",
    "    test = 'LL'\n",
    "    tt = 'ttest_wake'"
   ]
  },
  {
   "cell_type": "code",
   "execution_count": null,
   "id": "emerging-start",
   "metadata": {},
   "outputs": [],
   "source": [
    "ss = 0\n",
    "df_2 = data_con[data_con.SleepState == sleepstate_labels[ss]]\n",
    "chan_ID = np.unique(np.concatenate([df_2.Stim, df_2.Chan])).astype('int')"
   ]
  },
  {
   "cell_type": "code",
   "execution_count": null,
   "id": "practical-attack",
   "metadata": {},
   "outputs": [],
   "source": [
    "i = 0\n",
    "lobe = df_2.loc[df_2.Stim == chan_ID[i], 'StimR'].values[0]\n",
    "par = df_2.loc[df_2.Stim == chan_ID[i], 'StimA'].values[0] + '_' + str(chan_ID[i])\n",
    "z1 = str(float(df_2.loc[df_2.Stim == chan_ID[i], 'Subj'].values[0][-2:]) / 100)\n",
    "Map = pd.DataFrame([[lobe, par, '0', '0', '0', z1, z1, z1, z1]],\n",
    "                   columns=['region', 'parcelation', 'r', 'g', 'b', 'z1', 'z2', 'z3', 'z4'])"
   ]
  },
  {
   "cell_type": "code",
   "execution_count": null,
   "id": "hollywood-passport",
   "metadata": {},
   "outputs": [],
   "source": [
    "for i in range(1, len(chan_ID)):\n",
    "    if len(df_2.loc[df_2.Stim == chan_ID[i], 'Subj'].values) > 0:\n",
    "        lobe = df_2.loc[df_2.Stim == chan_ID[i], 'StimR'].values[0]\n",
    "        par = df_2.loc[df_2.Stim == chan_ID[i], 'StimA'].values[0] + '_' + str(chan_ID[i])\n",
    "        z1 = float(df_2.loc[df_2.Stim == chan_ID[i], 'Subj'].values[0][-2:]) / 100\n",
    "    else:\n",
    "        lobe = df_2.loc[df_2.Chan == chan_ID[i], 'ChanR'].values[0]\n",
    "        par = df_2.loc[df_2.Chan == chan_ID[i], 'ChanA'].values[0] + '_' + str(chan_ID[i])\n",
    "        z1 = str(float(df_2.loc[df_2.Chan == chan_ID[i], 'Subj'].values[0][-2:]) / 100)\n",
    "    Map_row = pd.DataFrame([[lobe, par, '0', '0', '0', z1, z1, z1, z1]],\n",
    "                           columns=['region', 'parcelation', 'r', 'g', 'b', 'z1', 'z2', 'z3', 'z4'])\n",
    "\n",
    "    Map = pd.concat([Map, Map_row])\n",
    "Map = Map.reset_index(drop=True)\n",
    "Map = Map.sort_values(by=\"parcelation\")\n",
    "Map = Map.reset_index(drop=True)\n",
    "Map['region'] = pd.Categorical(Map['region'], r_order)\n",
    "Map = Map.sort_values(by=\"region\")\n",
    "Map = Map.reset_index(drop=True)\n",
    "lobes = np.unique(Map.region)"
   ]
  },
  {
   "cell_type": "code",
   "execution_count": null,
   "id": "independent-fitting",
   "metadata": {},
   "outputs": [],
   "source": [
    "path_map = 'Y:\\eLab\\EvM\\Projects\\EL_experiment\\Analysis\\Patients\\Across\\BrainMapping\\Sleep\\connectogram\\\\' +sleepstate_labels[ss] + '\\\\' + test + '\\\\raw/map.txt'\n",
    "with open(path_map, 'a') as f:\n",
    "    dfAsString = Map.to_string(header=False, index=False)\n",
    "    f.write(dfAsString)"
   ]
  },
  {
   "cell_type": "markdown",
   "id": "duplicate-investigator",
   "metadata": {},
   "source": [
    "##### Edges"
   ]
  },
  {
   "cell_type": "code",
   "execution_count": null,
   "id": "formed-cover",
   "metadata": {},
   "outputs": [],
   "source": [
    "path_links = 'Y:\\eLab\\EvM\\Projects\\EL_experiment\\Analysis\\Patients\\Across\\BrainMapping\\Sleep\\connectogram\\\\' +sleepstate_labels[ss] + '\\\\' + test + '\\\\raw/map.links.txt'"
   ]
  },
  {
   "cell_type": "code",
   "execution_count": null,
   "id": "critical-pillow",
   "metadata": {},
   "outputs": [],
   "source": [
    "i = 0\n",
    "df_2 = df_2[df_2[tt] > 1]\n",
    "p1 = df_2.StimA.values[i] + '_' + str(int(df_2.Stim.values[i]))\n",
    "p2 = df_2.ChanA.values[i] + '_' + str(int(df_2.Chan.values[i]))\n",
    "score = df_2[tt].values[i]\n",
    "t = 0\n",
    "h = 'l'\n",
    "if score == 3:\n",
    "    t = 1\n",
    "    h = 'r'\n",
    "\n",
    "M_links = pd.DataFrame([[h, p1, h, p2, str(t), str(score)]], columns=['h1', 'p1', 'h2', 'p2', 'type', 'score'])"
   ]
  },
  {
   "cell_type": "code",
   "execution_count": null,
   "id": "essential-irish",
   "metadata": {},
   "outputs": [],
   "source": [
    "for i in range(1, len(df_2)):\n",
    "    p1 = df_2.StimA.values[i] + '_' + str(int(df_2.Stim.values[i]))\n",
    "    p2 = df_2.ChanA.values[i] + '_' + str(int(df_2.Chan.values[i]))\n",
    "    score = df_2[tt].values[i]\n",
    "    t = 0\n",
    "    h = 'l'\n",
    "    if score == 3:\n",
    "        t = 1\n",
    "        h = 'r'\n",
    "    M_links_new = pd.DataFrame([[h, p1, h, p2, str(t), str(score)]], columns=['h1', 'p1', 'h2', 'p2', 'type', 'score'])\n",
    "    M_links = pd.concat([M_links, M_links_new])\n",
    "M_links = M_links.reset_index(drop=True)"
   ]
  },
  {
   "cell_type": "code",
   "execution_count": null,
   "id": "alpine-burst",
   "metadata": {},
   "outputs": [],
   "source": [
    "with open(path_links, 'a') as f:\n",
    "    dfAsString = M_links.to_string(header=False, index=False)\n",
    "    f.write(dfAsString)"
   ]
  },
  {
   "cell_type": "markdown",
   "id": "ahead-twelve",
   "metadata": {},
   "source": [
    "### heatmap"
   ]
  },
  {
   "cell_type": "code",
   "execution_count": null,
   "id": "forced-child",
   "metadata": {},
   "outputs": [],
   "source": [
    "t_show = 0\n",
    "test = 'Prob'\n",
    "tt = 'prob_wake'"
   ]
  },
  {
   "cell_type": "code",
   "execution_count": null,
   "id": "threatened-stationery",
   "metadata": {
    "scrolled": false
   },
   "outputs": [],
   "source": [
    "for t_show in range(2):\n",
    "    if t_show == 1:\n",
    "        test = 'LL'\n",
    "        tt = 'ttest_wake'\n",
    "    for ss in range(2):\n",
    "        plt.figure(figsize=(20, 15))\n",
    "        plt.title('Across Patients: ' + sleepstate_labels[ss] + ' Sleep Effect on ' + test, fontsize=25)\n",
    "        sns.countplot(x='Dist', hue=tt, data=data_con[data_con.SleepState == sleepstate_labels[ss]])\n",
    "        plt.legend(['stable', 'decrease', 'increase'], fontsize=20)\n",
    "        plt.ylabel('Number of Connections', fontsize=25)\n",
    "        plt.xlabel('')\n",
    "        plt.xticks(fontsize=20)\n",
    "        plt.yticks(fontsize=20)\n",
    "        plt.show()"
   ]
  },
  {
   "cell_type": "code",
   "execution_count": null,
   "id": "decreased-madagascar",
   "metadata": {},
   "outputs": [],
   "source": [
    "t_show = 0\n",
    "test = 'Prob'\n",
    "tt = 'prob_wake'\n",
    "\n",
    "if t_show == 1:\n",
    "    test = 'LL'\n",
    "    tt = 'ttest_wake'"
   ]
  },
  {
   "cell_type": "code",
   "execution_count": null,
   "id": "mexican-montgomery",
   "metadata": {},
   "outputs": [],
   "source": [
    "e_val = 3\n",
    "e = 'increase'\n",
    "if e_val == 2:\n",
    "    e = 'decrease'\n",
    "if e_val == 1:\n",
    "    e = 'no'"
   ]
  },
  {
   "cell_type": "code",
   "execution_count": null,
   "id": "starting-coach",
   "metadata": {},
   "outputs": [],
   "source": [
    "data_con_sig = data_con[(data_con[tt] == e_val) & (data_con.SleepState == sleepstate_labels[ss])]\n",
    "df = data_con_sig.groupby(['StimR', 'ChanR'], as_index=False)[[tt]].count()\n",
    "df[tt] = np.round(df[tt], 2)\n",
    "df_p = df.pivot(\"StimR\", \"ChanR\", tt)"
   ]
  },
  {
   "cell_type": "code",
   "execution_count": null,
   "id": "veterinary-repeat",
   "metadata": {},
   "outputs": [],
   "source": [
    "fig, ax = plt.subplots(figsize=(12, 10))  # mask\n",
    "\n",
    "fig.patch.set_facecolor('xkcd:black')\n",
    "plt.title(e + ' ' + sleepstate_labels[ss] + ' Sleep Effect on ' + test, fontsize=25, color=[1, 1, 1])\n",
    "g = sns.heatmap(df_p, annot=True, cmap='hot', vmin=0)\n",
    "g.set_facecolor('xkcd:black')\n",
    "\n",
    "plt.ylabel('A', fontsize=20, color=\"white\")\n",
    "plt.xlabel('B', fontsize=20, color=\"white\")\n",
    "plt.yticks(fontsize=15, color=\"white\")\n",
    "plt.xticks(fontsize=15, color=\"white\", rotation=90)\n",
    "plt.show()"
   ]
  },
  {
   "cell_type": "markdown",
   "id": "ranging-loading",
   "metadata": {},
   "source": [
    "## Networkx Visualization"
   ]
  },
  {
   "cell_type": "markdown",
   "id": "sunset-nebraska",
   "metadata": {},
   "source": [
    "#### DiGraph"
   ]
  },
  {
   "cell_type": "code",
   "execution_count": null,
   "id": "adult-gross",
   "metadata": {},
   "outputs": [],
   "source": [
    "G = nx.DiGraph()\n",
    "for i in range(len(chan_ID)):\n",
    "    if len(df_2.loc[df_2.Stim == chan_ID[i], 'Subj'].values) > 0:\n",
    "        G.add_node(chan_ID[i], subj=df_2.loc[df_2.Stim == chan_ID[i], 'Subj'].values[0],\n",
    "                   area=df_2.loc[df_2.Stim == chan_ID[i], 'StimA'].values[0],\n",
    "                   region=df_2.loc[df_2.Stim == chan_ID[i], 'StimR'].values[0])\n",
    "    else:\n",
    "        G.add_node(chan_ID[i], subj=df_2.loc[df_2.Chan == chan_ID[i], 'Subj'].values[0],\n",
    "                   area=df_2.loc[df_2.Chan == chan_ID[i], 'ChanA'].values[0],\n",
    "                   region=df_2.loc[df_2.Chan == chan_ID[i], 'StimA'].values[0])"
   ]
  },
  {
   "cell_type": "code",
   "execution_count": null,
   "id": "modified-converter",
   "metadata": {},
   "outputs": [],
   "source": [
    "for i in range(len(df_2)):\n",
    "    G.add_edge(df_2.Stim.values[i].astype('int'), df_2.Chan.values[i].astype('int'),\n",
    "               weight=df_2.Dir_index.values[i].astype('int'))"
   ]
  },
  {
   "cell_type": "markdown",
   "id": "twelve-flesh",
   "metadata": {},
   "source": [
    "#### complete GRaph"
   ]
  },
  {
   "cell_type": "code",
   "execution_count": null,
   "id": "sporting-financing",
   "metadata": {},
   "outputs": [],
   "source": [
    "ss = 0\n",
    "df_2 = data_con[data_con.SleepState == sleepstate_labels[ss]]\n",
    "chan_ID = np.unique(np.concatenate([df_2.Stim, df_2.Chan])).astype('int')\n",
    "df_2 = df_2.reset_index(drop=True)"
   ]
  },
  {
   "cell_type": "code",
   "execution_count": null,
   "id": "authorized-mustang",
   "metadata": {},
   "outputs": [],
   "source": [
    "G = nx.empty_graph(len(chan_ID))\n",
    "for i in range(len(chan_ID)):\n",
    "    if len(df_2.loc[df_2.Stim == chan_ID[i], 'Subj'].values) > 0:\n",
    "        G.nodes[i][\"subj\"] = df_2.loc[df_2.Stim == chan_ID[i], 'Subj'].values[0]\n",
    "        G.nodes[i][\"area\"] = df_2.loc[df_2.Stim == chan_ID[i], 'StimA'].values[0]\n",
    "        G.nodes[i][\"region\"] = df_2.loc[df_2.Stim == chan_ID[i], 'StimR'].values[0]\n",
    "    else:\n",
    "        G.nodes[i][\"subj\"] = df_2.loc[df_2.Chan == chan_ID[i], 'Subj'].values[0]\n",
    "        G.nodes[i][\"area\"] = df_2.loc[df_2.Chan == chan_ID[i], 'ChanA'].values[0]\n",
    "        G.nodes[i][\"region\"] = df_2.loc[df_2.Chan == chan_ID[i], 'ChanR'].values[0]"
   ]
  },
  {
   "cell_type": "code",
   "execution_count": null,
   "id": "visible-privilege",
   "metadata": {},
   "outputs": [],
   "source": [
    "df_2_edges = df_2[df_2.prob_wake>1]\n",
    "df_2_edges = df_2_edges.reset_index(drop=True)"
   ]
  },
  {
   "cell_type": "code",
   "execution_count": null,
   "id": "crazy-documentary",
   "metadata": {},
   "outputs": [],
   "source": [
    "for i in range(len(df_2_edges)):\n",
    "    c = 'b'\n",
    "    if df_2_edges.prob_wake.values[i].astype('int') ==3:\n",
    "        c = 'r'\n",
    "    G.add_edge(np.where(chan_ID == df_2_edges.Stim.values[i].astype('int'))[0][0],\n",
    "               np.where(chan_ID == df_2_edges.Chan.values[i].astype('int'))[0][0],\n",
    "               weight=df_2_edges.prob_wake.values[i].astype('int'), color=c)"
   ]
  },
  {
   "cell_type": "code",
   "execution_count": null,
   "id": "promotional-column",
   "metadata": {},
   "outputs": [],
   "source": [
    "import sys\n",
    "sys.path.append('T:\\EL_experiment\\Codes\\CCEP_human\\Python_Analysis\\visualization')"
   ]
  },
  {
   "cell_type": "code",
   "execution_count": null,
   "id": "tough-awareness",
   "metadata": {},
   "outputs": [],
   "source": [
    "### The required libraries and packages ###\n",
    "import networkx as nx\n",
    "import requests\n",
    "import pandas as pd\n",
    "import numpy as np\n",
    "import matplotlib.pyplot as plt\n",
    "\n",
    "import nxviz\n",
    "from nxviz.plots_cust import CircosPlot, MatrixPlot, ArcPlot, BasePlot"
   ]
  },
  {
   "cell_type": "code",
   "execution_count": null,
   "id": "muslim-turkey",
   "metadata": {},
   "outputs": [],
   "source": [
    "node_grouping = 'region'\n",
    "node_order = ['area', 'subj']\n",
    "grouping_all = node_order.copy()\n",
    "grouping_all.insert(0, node_grouping)\n",
    "\n",
    "nodes = [n for n, d in sorted(G.nodes(data=True), key =lambda x: [x[1] [grouping_all[n]] for n in range(len(grouping_all))])]"
   ]
  },
  {
   "cell_type": "code",
   "execution_count": null,
   "id": "immediate-maryland",
   "metadata": {},
   "outputs": [],
   "source": [
    "from collections import Counter"
   ]
  },
  {
   "cell_type": "code",
   "execution_count": null,
   "id": "stuffed-alpha",
   "metadata": {},
   "outputs": [],
   "source": [
    "data = [G.nodes[n]['region'] for n in G.nodes]\n",
    "node_length = len(data)\n",
    "groups = Counter(data)"
   ]
  },
  {
   "cell_type": "code",
   "execution_count": null,
   "id": "defined-productivity",
   "metadata": {},
   "outputs": [],
   "source": [
    "data = [G.nodes[n][grouping_all[1]] for n in nodes]"
   ]
  },
  {
   "cell_type": "code",
   "execution_count": null,
   "id": "revised-thriller",
   "metadata": {},
   "outputs": [],
   "source": [
    "data_unique= np.unique(data)"
   ]
  },
  {
   "cell_type": "code",
   "execution_count": null,
   "id": "smooth-norway",
   "metadata": {},
   "outputs": [],
   "source": [
    "vec = np.array(np.array(data) == data_unique[0])*1"
   ]
  },
  {
   "cell_type": "code",
   "execution_count": null,
   "id": "parliamentary-sheep",
   "metadata": {},
   "outputs": [],
   "source": [
    "import  itertools "
   ]
  },
  {
   "cell_type": "markdown",
   "id": "korean-chancellor",
   "metadata": {},
   "source": [
    "## plot subgroups"
   ]
  },
  {
   "cell_type": "code",
   "execution_count": null,
   "id": "greatest-retro",
   "metadata": {},
   "outputs": [],
   "source": [
    "self.grapj = G "
   ]
  },
  {
   "cell_type": "code",
   "execution_count": null,
   "id": "tired-battle",
   "metadata": {},
   "outputs": [],
   "source": [
    "node_grouping"
   ]
  },
  {
   "cell_type": "code",
   "execution_count": null,
   "id": "loved-heater",
   "metadata": {},
   "outputs": [],
   "source": [
    "nodes # sle.fnodes (nodes numbers order by correct order)\n",
    "grouping_all #['region', 'area', 'subj']\n",
    "regions = [G.nodes[n][node_grouping] for n in nodes]"
   ]
  },
  {
   "cell_type": "code",
   "execution_count": null,
   "id": "excited-ranch",
   "metadata": {},
   "outputs": [],
   "source": [
    "np.unique(regions)[5]"
   ]
  },
  {
   "cell_type": "code",
   "execution_count": null,
   "id": "unique-angle",
   "metadata": {},
   "outputs": [],
   "source": [
    "reg = 6 # first region\n",
    "group_type = 0 # first subgroup\n",
    "SG = G.subgraph([n for n, attrdict in G.nodes.items() if\n",
    "                                          attrdict[node_grouping] == np.unique(regions)[reg]])\n",
    "SG_nodes = [n for n, d in sorted(SG.nodes(data=True),\n",
    "                                              key=lambda x: [x[1][grouping_all[n]] for n in range(len(grouping_all))])]\n",
    "\n",
    "data = [SG.nodes[n][grouping_all[1]] for n in SG_nodes] #different subroup labels\n",
    "data_unique = np.unique(data) # subgroup labels, unique\n",
    "data_unique"
   ]
  },
  {
   "cell_type": "code",
   "execution_count": null,
   "id": "objective-portable",
   "metadata": {},
   "outputs": [],
   "source": []
  },
  {
   "cell_type": "code",
   "execution_count": null,
   "id": "peripheral-michigan",
   "metadata": {},
   "outputs": [],
   "source": [
    "nodes_arr = np.array(nodes)"
   ]
  },
  {
   "cell_type": "code",
   "execution_count": null,
   "id": "round-bulgaria",
   "metadata": {},
   "outputs": [],
   "source": [
    "nodes.shape"
   ]
  },
  {
   "cell_type": "code",
   "execution_count": null,
   "id": "characteristic-samoa",
   "metadata": {},
   "outputs": [],
   "source": [
    "np.isin(nodes,SG_nodes)"
   ]
  },
  {
   "cell_type": "code",
   "execution_count": null,
   "id": "fitting-stationery",
   "metadata": {},
   "outputs": [],
   "source": [
    "SG_nodes"
   ]
  },
  {
   "cell_type": "code",
   "execution_count": null,
   "id": "major-wrapping",
   "metadata": {},
   "outputs": [],
   "source": [
    "for sg in range(len(data_unique)):\n",
    "    vec = np.array(np.array(data) == data_unique[sg]) * 1\n",
    "    seqs = [(key, len(list(val))) for key, val in itertools.groupby(vec)]\n",
    "    # find start positions of sequences\n",
    "    # seqs = [(key, start, length), ...]\n",
    "    seqs = [(key, sum(s[1] for s in seqs[:i]), len) for i, (key, len) in enumerate(seqs)]\n",
    "    ix = np.array([[s[1], s[1] + s[2]] for s in seqs if s[0] == 1])\n",
    "    ix[ix >= len(SG_nodes)] = len(SG_nodes) - 1\n",
    "    for i in range(len(ix)):\n",
    "        node_start = SG_nodes[ix[i, 0]]\n",
    "        node_end = SG_nodes[ix[i, 1]]\n",
    "        print(node_start, node_end)"
   ]
  },
  {
   "cell_type": "code",
   "execution_count": null,
   "id": "fancy-beads",
   "metadata": {},
   "outputs": [],
   "source": [
    "SG_nodes"
   ]
  },
  {
   "cell_type": "code",
   "execution_count": null,
   "id": "conceptual-resource",
   "metadata": {},
   "outputs": [],
   "source": [
    "SG_nodes[ix[0,1]]"
   ]
  },
  {
   "cell_type": "code",
   "execution_count": null,
   "id": "adverse-frederick",
   "metadata": {},
   "outputs": [],
   "source": [
    "ix"
   ]
  },
  {
   "cell_type": "code",
   "execution_count": null,
   "id": "copyrighted-utilization",
   "metadata": {},
   "outputs": [],
   "source": [
    "sg = 4\n",
    "vec = np.array(np.array(data) == data_unique[sg]) * 1\n",
    "seqs = [(key, len(list(val))) for key, val in itertools.groupby(vec)]\n",
    "# find start positions of sequences\n",
    "# seqs = [(key, start, length), ...]\n",
    "seqs = [(key, sum(s[1] for s in seqs[:i]), len) for i, (key, len) in enumerate(seqs)]\n",
    "ix = np.array([[s[1], s[1] + s[2]] for s in seqs if s[0] == 1])\n",
    "ix"
   ]
  },
  {
   "cell_type": "code",
   "execution_count": null,
   "id": "developing-spain",
   "metadata": {},
   "outputs": [],
   "source": [
    "ix"
   ]
  },
  {
   "cell_type": "code",
   "execution_count": null,
   "id": "continental-logic",
   "metadata": {
    "scrolled": true
   },
   "outputs": [],
   "source": [
    "SG_nodes"
   ]
  },
  {
   "cell_type": "code",
   "execution_count": null,
   "id": "precious-tunisia",
   "metadata": {},
   "outputs": [],
   "source": [
    "seqs = [(key, len(list(val))) for key, val in itertools.groupby(vec)]\n",
    "# find start positions of sequences\n",
    "# seqs = [(key, start, length), ...]\n",
    "seqs = [(key, sum(s[1] for s in seqs[:i]), len) for i, (key, len) in enumerate(seqs)]\n",
    "ix = np.array([[s[1], s[1] + s[2] - 1] for s in seqs if s[0] == 1])"
   ]
  },
  {
   "cell_type": "code",
   "execution_count": null,
   "id": "generic-member",
   "metadata": {},
   "outputs": [],
   "source": [
    "ix = np.where(nodes_dummies == -1)[0]\n",
    "ix = np.insert(ix, 0, -1)\n",
    "ix = np.sort(np.insert(ix, -1, len(nodes_dummies)+1))\n",
    "ix = np.reshape(ix, (-1, 2))\n",
    "ix[:, 1] = ix[:, 1] -1\n",
    "ix[:,0] = ix[:, 0] +1"
   ]
  },
  {
   "cell_type": "code",
   "execution_count": null,
   "id": "extra-share",
   "metadata": {},
   "outputs": [],
   "source": [
    "for i in range(2):\n",
    "    c = 'b'\n",
    "    if df_2_edges.prob_wake.values[i].astype('int') ==3:\n",
    "        c = 'r'\n",
    "    G.add_edge(np.where(chan_ID == df_2_edges.Stim.values[i].astype('int'))[0][0],\n",
    "               np.where(chan_ID == df_2_edges.Chan.values[i].astype('int'))[0][0],\n",
    "               weight=df_2_edges.prob_wake.values[i].astype('int'), color=c)"
   ]
  },
  {
   "cell_type": "code",
   "execution_count": null,
   "id": "amended-easter",
   "metadata": {},
   "outputs": [],
   "source": [
    "for i, (start, end) in enumerate(G.edges()):\n",
    "    print(i, (start, end))"
   ]
  },
  {
   "cell_type": "code",
   "execution_count": null,
   "id": "adolescent-compact",
   "metadata": {},
   "outputs": [],
   "source": [
    "for i in range(len(ix)-1):\n",
    "    node_start = nodes_dummies[ix[i, 0]]\n",
    "    node_end =nodes_dummies[ix[i, 1]]\n",
    "    print(node_start)\n",
    "    print(node_end)"
   ]
  },
  {
   "cell_type": "code",
   "execution_count": null,
   "id": "bound-swing",
   "metadata": {},
   "outputs": [],
   "source": [
    "def hex_to_rgb(value):\n",
    "    value = value.lstrip('#')\n",
    "    lv = len(value)\n",
    "    return np.array(tuple(int(value[i:i + lv // 3], 16) for i in range(0, lv, lv // 3)))/256"
   ]
  },
  {
   "cell_type": "code",
   "execution_count": null,
   "id": "floppy-internet",
   "metadata": {},
   "outputs": [],
   "source": [
    "hex_to_rgb(sns.color_palette('Blues', 2).as_hex()[0])"
   ]
  },
  {
   "cell_type": "code",
   "execution_count": null,
   "id": "narrative-audio",
   "metadata": {},
   "outputs": [],
   "source": [
    "sns.color_palette('Blues', 2).as_hex()[:]"
   ]
  },
  {
   "cell_type": "code",
   "execution_count": null,
   "id": "chemical-antarctica",
   "metadata": {},
   "outputs": [],
   "source": [
    "G.nodes.items()"
   ]
  },
  {
   "cell_type": "code",
   "execution_count": null,
   "id": "pleasant-alignment",
   "metadata": {},
   "outputs": [],
   "source": [
    "SG = G.subgraph( [n for n,attrdict in G.nodes.items() if attrdict ['region'] == 'Mesiotemporal'])"
   ]
  },
  {
   "cell_type": "code",
   "execution_count": null,
   "id": "southwest-ethnic",
   "metadata": {},
   "outputs": [],
   "source": [
    "SG.nodes()"
   ]
  },
  {
   "cell_type": "code",
   "execution_count": null,
   "id": "fossil-lightweight",
   "metadata": {},
   "outputs": [],
   "source": [
    "SG.nodes()"
   ]
  },
  {
   "cell_type": "code",
   "execution_count": null,
   "id": "cognitive-satellite",
   "metadata": {},
   "outputs": [],
   "source": [
    "G.nodes(data=True)"
   ]
  },
  {
   "cell_type": "code",
   "execution_count": null,
   "id": "biblical-mercy",
   "metadata": {},
   "outputs": [],
   "source": [
    "\n",
    "c = CircosPlot(\n",
    "    G,\n",
    "    node_grouping=\"region\",\n",
    "    node_color=\"region\",\n",
    "    node_order=\"region\",\n",
    "    node_labels=True,\n",
    "    group_label_position=\"middle\",\n",
    "    group_label_color=True,\n",
    "    group_label_offset=6,\n",
    "    figsize=(20, 20)\n",
    ")\n",
    "c.draw()\n",
    "plt.show()"
   ]
  },
  {
   "cell_type": "code",
   "execution_count": null,
   "id": "charitable-preparation",
   "metadata": {},
   "outputs": [],
   "source": [
    "def make_graph(nodes_df, edges_df):\n",
    "    # make graph from nodes and edges\n",
    "    g = nx.DiGraph()\n",
    "    for i, row in nodes_df.iterrows():\n",
    "        keys = row.index.tolist()\n",
    "\n",
    "        values = row.values\n",
    "\n",
    "        # The dict contains all attributes\n",
    "\n",
    "        g.add_node(row['ID'], **dict(zip(keys, values)))\n",
    "\n",
    "    for i, row in edges_df.iterrows():\n",
    "        keys = row.index.tolist()\n",
    "\n",
    "        values = row.values\n",
    "\n",
    "        g.add_edge(row['source'], row['target'], weight=row['LL_peak'], **dict(zip(keys, values)))\n",
    "\n",
    "    return g"
   ]
  },
  {
   "cell_type": "code",
   "execution_count": null,
   "id": "sunrise-canvas",
   "metadata": {},
   "outputs": [],
   "source": []
  },
  {
   "cell_type": "markdown",
   "id": "painful-grill",
   "metadata": {},
   "source": [
    "###  testing functions for nxviz"
   ]
  },
  {
   "cell_type": "code",
   "execution_count": null,
   "id": "unique-leadership",
   "metadata": {},
   "outputs": [],
   "source": [
    "circos_radius(10, 20)"
   ]
  },
  {
   "cell_type": "code",
   "execution_count": null,
   "id": "french-theta",
   "metadata": {},
   "outputs": [],
   "source": [
    "def circos_radius(n_nodes, node_r):\n",
    "    \"\"\"\n",
    "    Automatically computes the origin-to-node centre radius of the Circos plot\n",
    "    using the triangle equality sine rule.\n",
    "\n",
    "    a / sin(A) = b / sin(B) = c / sin(C)\n",
    "\n",
    "    :param n_nodes: the number of nodes in the plot.\n",
    "    :type n_nodes: int\n",
    "    :param node_r: the radius of each node.\n",
    "    :type node_r: float\n",
    "    :returns: Origin-to-node centre radius.\n",
    "    \"\"\"\n",
    "    A = 2 * np.pi / n_nodes  # noqa\n",
    "    B = (np.pi - A) / 2  # noqa\n",
    "    a = 2 * node_r\n",
    "    return a * np.sin(B) / np.sin(A)"
   ]
  }
 ],
 "metadata": {
  "kernelspec": {
   "display_name": "PyCharm (Python_Analysis)",
   "language": "python",
   "name": "pycharm-303d2e35"
  },
  "language_info": {
   "codemirror_mode": {
    "name": "ipython",
    "version": 3
   },
   "file_extension": ".py",
   "mimetype": "text/x-python",
   "name": "python",
   "nbconvert_exporter": "python",
   "pygments_lexer": "ipython3",
   "version": "3.7.9"
  }
 },
 "nbformat": 4,
 "nbformat_minor": 5
}
