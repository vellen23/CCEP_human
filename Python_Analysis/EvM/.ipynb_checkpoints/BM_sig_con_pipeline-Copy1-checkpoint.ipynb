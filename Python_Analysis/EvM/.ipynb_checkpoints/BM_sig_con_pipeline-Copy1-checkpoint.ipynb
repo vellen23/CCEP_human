{
 "cells": [
  {
   "cell_type": "markdown",
   "id": "sunrise-description",
   "metadata": {},
   "source": [
    "significant trials, significant GT \\n\n",
    "plot trials based on significance or sleep state"
   ]
  },
  {
   "cell_type": "code",
   "execution_count": 1,
   "id": "induced-yemen",
   "metadata": {},
   "outputs": [],
   "source": [
    "import os\n",
    "import numpy as np\n",
    "import mne\n",
    "import imageio\n",
    "import h5py\n",
    "# import scipy.fftpack\n",
    "import matplotlib\n",
    "import pywt\n",
    "from matplotlib.ticker import ScalarFormatter\n",
    "import matplotlib.gridspec as gridspec\n",
    "import matplotlib.pyplot as plt\n",
    "# from scipy import signal\n",
    "from matplotlib.colors import ListedColormap\n",
    "import time\n",
    "import seaborn as sns\n",
    "# import scipy.io as sio\n",
    "# from scipy.integrate import simps\n",
    "import pandas as pd\n",
    "# from scipy import fft\n",
    "import matplotlib.mlab as mlab\n",
    "import sys\n",
    "import matplotlib as mpl\n",
    "sys.path.append('T:\\EL_experiment\\Codes\\CCEP_human\\Python_Analysis\\py_functions')\n",
    "import NMF_funcs as NMFf\n",
    "\n",
    "from scipy.stats import norm\n",
    "import LL_funcs\n",
    "from scipy.stats import norm\n",
    "from tkinter import filedialog\n",
    "from tkinter import *\n",
    "import ntpath\n",
    "\n",
    "root = Tk()\n",
    "root.withdraw()\n",
    "import math\n",
    "import scipy\n",
    "from scipy import signal\n",
    "import pylab\n",
    "import scipy.cluster.hierarchy as sch\n",
    "from scipy.spatial.distance import squareform\n",
    "import platform\n",
    "from glob import glob\n",
    "from scipy.io import savemat\n",
    "import scipy.cluster.hierarchy as spc\n",
    "from scipy.spatial import distance\n",
    "from sklearn.cluster import KMeans\n",
    "import h5py\n",
    "import basic_func as bf\n",
    "from scipy.integrate import simps\n",
    "from numpy import trapz\n",
    "#import IO_func as IOF\n",
    "#import BM_func as BMf\n",
    "import tqdm\n",
    "from matplotlib.patches import Rectangle\n",
    "from pathlib import Path\n",
    "sub_path  ='X:\\\\4 e-Lab\\\\' # y:\\\\eLab\n",
    "import BM_plots as BMp\n",
    "import freq_funcs as ff\n",
    "import CCEP_plot\n",
    "import random\n",
    "import math\n",
    "dist_groups = np.array([[0, 30], [30, 60], [60, 120]])\n",
    "dist_labels = ['local (<30 mm)', 'short (<60mm)', 'long']\n",
    "Fs = 500\n",
    "dur = np.zeros((1, 2), dtype=np.int32)\n",
    "t0 = 1\n",
    "dur[0, 0] = -t0\n",
    "dur[0, 1] = 3\n",
    "\n",
    "folder = 'BrainMapping'\n",
    "# dur[0,:]       = np.int32(np.sum(abs(dur)))\n",
    "x_ax = np.arange(dur[0, 0], dur[0, 1], (1 / Fs))\n",
    "color_elab = np.zeros((3, 3))\n",
    "color_elab[0, :] = np.array([31, 78, 121]) / 255\n",
    "color_elab[1, :] = np.array([189, 215, 238]) / 255\n",
    "color_elab[2, :] = np.array([0.256, 0.574, 0.431])\n",
    "cwd = os.getcwd()\n",
    "color_sleep = ['#808080', '#145da0', '#ff1919']\n",
    "label_sleep = ['Wake', 'NREM', 'REM']\n",
    "color_dist = ['0000FF','#0076C4','#00DD91']"
   ]
  },
  {
   "cell_type": "code",
   "execution_count": 2,
   "id": "local-thought",
   "metadata": {},
   "outputs": [],
   "source": [
    "cond_folder = 'CR'\n",
    "path_gen_base = sub_path + '\\Patients'"
   ]
  },
  {
   "cell_type": "code",
   "execution_count": 3,
   "id": "34a0baae",
   "metadata": {},
   "outputs": [],
   "source": [
    "plt.rcParams.update({\n",
    "            'font.family': 'arial',\n",
    "            'font.size': 12,\n",
    "            'xtick.labelsize': 8,\n",
    "            'ytick.labelsize': 8,\n",
    "            'legend.fontsize': 9,\n",
    "            'svg.fonttype': 'none',\n",
    "            'font.size': 10,\n",
    "            'axes.titlesize': 10,\n",
    "            'axes.labelsize': 8,\n",
    "            'xtick.labelsize': 8,\n",
    "            'ytick.labelsize': 8,\n",
    "            'legend.fontsize': 9,\n",
    "            'figure.titlesize': 10\n",
    "        })"
   ]
  },
  {
   "cell_type": "code",
   "execution_count": 4,
   "id": "uniform-zambia",
   "metadata": {},
   "outputs": [],
   "source": [
    "subj = \"EL011\"\n",
    "path_patient_analysis = os.path.join(sub_path, 'EvM', 'Projects', 'EL_experiment', 'Analysis', 'Patients', subj)\n",
    "\n",
    "path_gen = os.path.join(sub_path+'\\Patients\\\\' + subj)\n",
    "if not os.path.exists(path_gen):\n",
    "    path_gen = 'T:\\\\EL_experiment\\\\Patients\\\\' + subj\n",
    "path_patient = path_gen + '\\Data\\EL_experiment'  # os.path.dirname(os.path.dirname(cwd))+'/Patients/'+subj\n",
    "path_infos = os.path.join(path_gen, 'Electrodes')\n",
    "# labels\n",
    "files_list = glob(path_patient_analysis + '\\\\' + folder + '/data/Stim_list_*')\n",
    "i = 0\n",
    "stimlist_file = path_patient_analysis + '\\\\' + folder + '\\\\' + cond_folder + '\\\\data\\\\stimlist_' + cond_folder + '.csv'\n",
    "stimlist = pd.read_csv(stimlist_file)\n",
    "lbls = pd.read_excel(os.path.join(path_infos, subj + \"_labels.xlsx\"), header=0, sheet_name='BP')\n",
    "if \"type\" in lbls.columns:\n",
    "    lbls = lbls[lbls.type=='SEEG']\n",
    "    lbls = lbls.reset_index(drop=True)\n",
    "labels_all, labels_region, labels_clinic, coord_all, StimChans, StimChanSM, StimChansC, StimChanIx, stimlist = bf.get_Stim_chans(\n",
    "    stimlist,\n",
    "    lbls)\n",
    "stimlist_sleep = pd.read_csv(os.path.join(path_patient_analysis, 'stimlist_hypnogram.csv'))\n",
    "file_con = path_patient_analysis + '\\\\' + folder + '/' + cond_folder + '/data/con_trial_all.csv'\n",
    "con_trial = pd.read_csv(file_con)\n",
    "badchans = pd.read_csv(path_patient_analysis + '/BrainMapping/data/badchan.csv')\n",
    "bad_chans = np.unique(np.array(np.where(badchans.values[:, 1:] == 1))[0, :])"
   ]
  },
  {
   "cell_type": "code",
   "execution_count": 5,
   "id": "enormous-principal",
   "metadata": {},
   "outputs": [
    {
     "name": "stdout",
     "output_type": "stream",
     "text": [
      "loading h5\n",
      "(87, 10344, 2000)\n",
      "10344\n",
      "10344\n"
     ]
    }
   ],
   "source": [
    "h5_file = path_patient_analysis + '\\\\' + folder + '\\\\' + cond_folder + '\\\\data\\\\EEG_' + cond_folder + '.h5'\n",
    "if os.path.isfile(h5_file):\n",
    "    print('loading h5')\n",
    "    EEG_resp = h5py.File(h5_file)\n",
    "    EEG_resp = EEG_resp['EEG_resp']\n",
    "print(EEG_resp.shape)\n",
    "print(len(stimlist))\n",
    "print(np.max(con_trial.Num)+1)"
   ]
  },
  {
   "cell_type": "code",
   "execution_count": 13,
   "id": "6fb093f5",
   "metadata": {},
   "outputs": [
    {
     "data": {
      "text/plain": [
       "(<Figure size 750x400 with 6 Axes>,\n",
       " array([[<Axes: title={'center': 'HIPP39 - HIPP7'}, ylabel='[uV]'>,\n",
       "         <Axes: title={'center': 'Amy20 - SFS66'}, ylabel='[uV]'>,\n",
       "         <Axes: title={'center': 'ITS46 - PostCS86'}, ylabel='[uV]'>],\n",
       "        [<Axes: xlabel='time [s]', ylabel='[uV/ms]'>,\n",
       "         <Axes: xlabel='time [s]', ylabel='[uV/ms]'>,\n",
       "         <Axes: xlabel='time [s]', ylabel='[uV/ms]'>]], dtype=object))"
      ]
     },
     "execution_count": 13,
     "metadata": {},
     "output_type": "execute_result"
    },
    {
     "data": {
      "image/png": "[encoded data removed]",
      "text/plain": [
       "<Figure size 750x400 with 6 Axes>"
      ]
     },
     "metadata": {},
     "output_type": "display_data"
    }
   ],
   "source": [
    "CCEP_plot.plot_CCEP_LL(EEG_resp, con_trial, labels_all, [38,19,45], [6, 65, 85], w_LL = 0.25, Fs = 500, t0 = 1)"
   ]
  },
  {
   "cell_type": "code",
   "execution_count": 7,
   "id": "6695f1b8",
   "metadata": {},
   "outputs": [
    {
     "ename": "NameError",
     "evalue": "name 'stop' is not defined",
     "output_type": "error",
     "traceback": [
      "\u001b[1;31m---------------------------------------------------------------------------\u001b[0m",
      "\u001b[1;31mNameError\u001b[0m                                 Traceback (most recent call last)",
      "Cell \u001b[1;32mIn[7], line 1\u001b[0m\n\u001b[1;32m----> 1\u001b[0m stop\n",
      "\u001b[1;31mNameError\u001b[0m: name 'stop' is not defined"
     ]
    }
   ],
   "source": [
    "stop"
   ]
  },
  {
   "cell_type": "code",
   "execution_count": null,
   "id": "renewable-lunch",
   "metadata": {},
   "outputs": [],
   "source": [
    "sc = 19\n",
    "rc = 65\n",
    "stimnum  = np.random.choice(num_g, 1)[0]\n",
    "plt.figure(figsize=(12,10))\n",
    "plt.axvspan(-0.002, 0.01, color=[0,0,0], alpha=0.1)\n",
    "# plt.axvline(t_onset, color=[1,0,0], label='response onset')\n",
    "plt.plot(x_ax, EEG_CR[rc, stimnum], linewidth=5, color=color_elab[0])\n",
    "\n",
    "plt.ylim([-800,800])\n",
    "plt.xlim([-0.25, 0.5])\n",
    "plt.yticks([-500,0,500],fontsize=20)\n",
    "plt.xticks([-0.25, 0, 0.25, 0.5],fontsize=20)\n",
    "# plt.savefig(path_patient_analysis+'\\\\' + folder + '\\\\' + cond_folder +'\\\\BM_figures\\\\sig_trials\\\\CC2_'+str(sc)+'_'+str(rc)+'_'+str(stimnum)+'.svg')\n",
    "plt.show()"
   ]
  },
  {
   "cell_type": "code",
   "execution_count": null,
   "id": "alternative-formula",
   "metadata": {},
   "outputs": [],
   "source": [
    "plt.figure(figsize=(12,10))\n",
    "plt.axvspan(-0.002, 0.01, color=[0,0,0], alpha=0.1)\n",
    "# plt.axvline(t_onset, color=[1,0,0], label='response onset')\n",
    "plt.plot(x_ax, EEG_CR[rc, stimnum], linewidth=5, color=color_elab[0])\n",
    "\n",
    "plt.ylim([-800,800])\n",
    "plt.xlim([-0.25, 0.5])\n",
    "plt.yticks([-500,0,500],fontsize=20)\n",
    "plt.xticks([-0.25, 0, 0.25, 0.5],fontsize=20)\n",
    "plt.savefig(path_patient_analysis+'\\\\' + folder + '\\\\' + cond_folder +'\\\\BM_figures\\\\sig_trials\\\\CC2_'+str(sc)+'_'+str(rc)+'_'+str(stimnum)+'.svg')\n",
    "plt.close()"
   ]
  },
  {
   "cell_type": "code",
   "execution_count": null,
   "id": "distributed-teddy",
   "metadata": {},
   "outputs": [],
   "source": [
    "con_trial.loc[(con_trial.Chan==65)&(con_trial.Stim==19)&(con_trial.SleepState=='NREM')&(con_trial.Sig==1)&(con_trial.LL>12)&(con_trial.LL<16)]"
   ]
  },
  {
   "cell_type": "markdown",
   "id": "distinct-repair",
   "metadata": {},
   "source": [
    "###  NEW CLUSTERING, USING SURR"
   ]
  },
  {
   "cell_type": "code",
   "execution_count": null,
   "id": "jewish-harbor",
   "metadata": {},
   "outputs": [],
   "source": [
    "def get_GT_trials(trials, real=1, t_0=1, Fs=500, w=0.25, n_cluster=2):\n",
    "    # t_0 stimulation time in epoched data, changed in surrogate data\n",
    "    # trials = EEG_resp[rc, stimNum_all, :], shape (n,2000)\n",
    "    # 1. z-score trials and get LL for t_onset and t_max\n",
    "    EEG_trial = ff.bp_filter(trials, 1,40, Fs)\n",
    "    #EEG_trial = stats.zscore(EEG_trial, axis=1)\n",
    "    resp_mean = np.nanmean(EEG_trial, 0) ## ff.lp_filter(np.nanmean(bf.zscore_CCEP(trials), 0), 40, Fs)\n",
    "    # LL_mean = LLf.get_LL_all(np.expand_dims(trials, 0), Fs, w)\n",
    "    # LL_mean = np.expand_dims(np.mean(LL_mean,1),0)\n",
    "    LL_mean = LLf.get_LL_all(np.expand_dims(np.expand_dims(resp_mean, 0), 0), Fs, w)\n",
    "    # where LL is the highest\n",
    "    t_resp = np.argmax(LL_mean[0, 0, int((t_0 + w / 2) * Fs):int((t_0 + 0.5 - w / 2) * Fs)]) / Fs\n",
    "    if real:\n",
    "        thr = np.percentile(np.concatenate([LL_mean[0, 0, int((w / 2) * Fs):int((t_0 - w / 2) * Fs)],\n",
    "                                            LL_mean[0, 0, int((3) * Fs):int((4 - w / 2) * Fs)]]),\n",
    "                            99)  # LL_resp[0, 0, int((t_0+0.5) * Fs):] = 0 * Fs):] = 0\n",
    "        LL_t = np.array(LL_mean[0, 0, :int((t_0 + 0.5) * Fs)] > thr) * 1\n",
    "        t_resp_all = sf.search_sequence_numpy(LL_t, np.ones((int((w + 0.08) * Fs),)))\n",
    "        if len(t_resp_all) > 0:\n",
    "            t_onset = t_resp_all[0] / Fs - t_0 + w / 2\n",
    "            r = 1\n",
    "            if (t_onset < 0.001) | (t_onset > 0.5):\n",
    "                t_onset = 0\n",
    "        else:\n",
    "            r = 0\n",
    "            t_onset = 0\n",
    "    else:  # surr\n",
    "        r = 10\n",
    "        t_onset = 0\n",
    "        thr = 0\n",
    "    # cluster trials based on specific window (where highest LL is)\n",
    "    EEG_trial = stats.zscore(EEG_trial, axis=1)\n",
    "    cc, y = Cf.ts_cluster(\n",
    "        EEG_trial[:, int((t_0 + t_resp) * Fs):int((t_0 + t_resp + w) * Fs)], n=n_cluster,\n",
    "        method='euclidean')\n",
    "    # p_CC = np.corrcoef(cc[0], cc[1])[0, 1]  # pearson correlation of two clusters\n",
    "    M_GT = np.zeros((3, trials.shape[-1]))\n",
    "    M_GT[0, :] = ff.lp_filter(np.nanmean(EEG_trial, 0), 45, Fs)\n",
    "    for c in range(n_cluster):\n",
    "        M_GT[c + 1, :] = ff.lp_filter(np.nanmean(EEG_trial[y == c, :], 0), 45, Fs)\n",
    "    p_CC = np.corrcoef(M_GT[1, int((t_0 + t_resp) * Fs):int((t_0 + t_resp + 2 * w) * Fs)],\n",
    "                       M_GT[2, int((t_0 + t_resp) * Fs):int((t_0 + t_resp + 2 * w) * Fs)])[0, 1]\n",
    "    LL_CC = LLf.get_LL_all(np.expand_dims(M_GT[1:,int((t_0 + t_resp) * Fs):int((t_0 + t_resp + w) * Fs)], 0), Fs, w)\n",
    "    LL_CC = np.max(LL_CC[0,:,:],1)\n",
    "    return [r, t_onset, t_resp], LL_mean[0, 0], p_CC, M_GT, y, thr, LL_CC"
   ]
  },
  {
   "cell_type": "code",
   "execution_count": null,
   "id": "color-narrative",
   "metadata": {},
   "outputs": [],
   "source": [
    "def get_GT_trials(trials, real=1, t_0=1, Fs=500, w=0.25, n_cluster=2):\n",
    "    # t_0 stimulation time in epoched data, changed in surrogate data\n",
    "    # trials = EEG_resp[rc, stimNum_all, :], shape (n,2000)\n",
    "    # 1. z-score trials and get LL for t_onset and t_max\n",
    "    EEG_trial = ff.bp_filter(trials, 1,40, Fs)\n",
    "    #EEG_trial = stats.zscore(EEG_trial, axis=1)\n",
    "    resp_mean = ff.lp_filter(np.nanmean(EEG_trial, 0),40,Fs)  ## ff.lp_filter(np.nanmean(bf.zscore_CCEP(trials), 0), 40, Fs)\n",
    "    LL_mean = LLf.get_LL_all(np.expand_dims(np.expand_dims(resp_mean, 0), 0), Fs, w)\n",
    "    # where LL is the highest\n",
    "    t_resp = np.argmax(LL_mean[0, 0, int((t_0 + w / 2) * Fs):int((t_0 + 0.5 - w / 2) * Fs)]) / Fs\n",
    "    if real:\n",
    "        thr = np.percentile(np.concatenate([LL_mean[0, 0, int((w / 2) * Fs):int((t_0 - w / 2) * Fs)],\n",
    "                                            LL_mean[0, 0, int(3 * Fs):int((4 - w / 2) * Fs)]]),\n",
    "                            99)  # LL_resp[0, 0, int((t_0+0.5) * Fs):] = 0 * Fs):] = 0\n",
    "        LL_t = np.array(LL_mean[0, 0, :int((t_0 + 0.5) * Fs)] > thr) * 1\n",
    "        t_resp_all = sf.search_sequence_numpy(LL_t, np.ones((int((w + 0.08) * Fs),)))\n",
    "        if len(t_resp_all) > 0:\n",
    "            t_onset = t_resp_all[0] / Fs - t_0 + w / 2\n",
    "            r = 1\n",
    "            if (t_onset < 0.001) | (t_onset > 0.5):\n",
    "                t_onset = 0\n",
    "        else:\n",
    "            r = 0\n",
    "            t_onset = 0\n",
    "    else:  # surr\n",
    "        r = 10\n",
    "        t_onset = 0\n",
    "        thr = 0\n",
    "    # cluster trials based on specific window (where highest LL is)\n",
    "    EEG_trial = EEG_trial/np.repeat(np.expand_dims(np.max(trials,1),0),2000,0).T # tats.zscore(EEG_trial, axis=1)\n",
    "    cc, y = Cf.ts_cluster(\n",
    "        EEG_trial[:, int((t_0 + t_resp) * Fs):int((t_0 + t_resp + w) * Fs)], n=n_cluster,\n",
    "        method='euclidean')\n",
    "    # p_CC = np.corrcoef(cc[0], cc[1])[0, 1]  # pearson correlation of two clusters\n",
    "    M_GT = np.zeros((3, trials.shape[-1]))\n",
    "    M_GT[0, :] = ff.lp_filter(np.nanmean(trials, 0), 30, Fs)\n",
    "    for c in range(n_cluster):\n",
    "        M_GT[c + 1, :] = ff.lp_filter(np.nanmean(trials[y == c, :], 0), 30, Fs)\n",
    "    p_CC = np.corrcoef(M_GT[1, int((t_0 + t_resp) * Fs):int((t_0 + t_resp + 2 * w) * Fs)],\n",
    "                       M_GT[2, int((t_0 + t_resp) * Fs):int((t_0 + t_resp + 2 * w) * Fs)])[0, 1]\n",
    "    LL_CC = LLf.get_LL_all(np.expand_dims(M_GT[1:, int((t_0 + t_resp) * Fs):int((t_0 + t_resp + w) * Fs)], 0), Fs, w)\n",
    "    LL_CC = np.max(LL_CC[0, :, :], 1)\n",
    "    return [r, t_onset, t_resp], LL_mean[0, 0], p_CC, M_GT, y, thr, LL_CC\n"
   ]
  },
  {
   "cell_type": "code",
   "execution_count": null,
   "id": "approved-surveillance",
   "metadata": {},
   "outputs": [],
   "source": [
    "import significance_funcs as sf\n",
    "import Cluster_func as Cf"
   ]
  },
  {
   "cell_type": "code",
   "execution_count": null,
   "id": "executive-feelings",
   "metadata": {},
   "outputs": [],
   "source": [
    "t_0 = 1\n",
    "w = 0.25"
   ]
  },
  {
   "cell_type": "code",
   "execution_count": null,
   "id": "enormous-eleven",
   "metadata": {},
   "outputs": [],
   "source": [
    "colors_GT = np.zeros((3,3))\n",
    "colors_GT[1,:] = color_elab[0]\n",
    "colors_GT[2,:] = color_elab[2]"
   ]
  },
  {
   "cell_type": "code",
   "execution_count": null,
   "id": "sophisticated-intelligence",
   "metadata": {},
   "outputs": [],
   "source": [
    "def plot_CC_example():\n",
    "    fig = plt.figure(figsize=(30, 8))\n",
    "    fig.patch.set_facecolor('xkcd:white')\n",
    "    sns.set(style='white')\n",
    "    plt.suptitle(labels_all[sc] + ' -- ' + labels_all[rc]+', '+m, fontsize=30)\n",
    "    ylim = 300\n",
    "\n",
    "    gs = fig.add_gridspec(1,3, width_ratios=[2,2,2])  # GridSpec(4,1, height_ratios=[1,2,1,2])\n",
    "\n",
    "    ax_mean = fig.add_subplot(gs[0, 0])\n",
    "    plt.plot(x_ax, ff.lp_filter(np.mean(trials,0),45,Fs), color=[0,0,0], linewidth=5)\n",
    "    st= np.std(ff.lp_filter(trials,30,Fs),0)\n",
    "    plt.fill_between(x_ax,ff.lp_filter(np.mean(trials,0),45,Fs)-st, ff.lp_filter(np.mean(trials,0),45,Fs)+st, alpha=0.2 )\n",
    "    ylim = np.max([ylim,1.3*np.max(abs(ff.bp_filter(np.mean(trials,0),1,45,Fs)))])\n",
    "    plt.xticks([-1, 0, 1, 2, 3], fontsize=25)\n",
    "    plt.xlabel('time [s]', fontsize=25)\n",
    "    plt.axvline(0, color=[0,0,0], label='stim')\n",
    "    plt.title('Mean Across All Trials', fontsize=25)\n",
    "    plt.xlim([-0.5, 2])\n",
    "    plt.ylim([-ylim,ylim])\n",
    "    if r: plt.axvline(t_onset, color=[1,0,0], label='response onset')\n",
    "    plt.legend(fontsize=20)\n",
    "    plt.yticks(fontsize=20)\n",
    "\n",
    "\n",
    "    ax_LL =fig.add_subplot(gs[0, 1],sharex=ax_mean)\n",
    "    ylim = 1\n",
    "    plt.plot(x_ax, LL_mean, color=[0,0,0], linewidth=5)\n",
    "    plt.axhline(thr, color=[1,0,0], label='99th')\n",
    "    ylim = np.max([ylim, 3*thr, 1.3*LL_mean[int((t_0 +t_resp+ w / 2) * Fs)]])\n",
    "    plt.axvline(0, color=[0,0,0], label='stim')\n",
    "    # plt.axvline(t_onset, color=[1,0,0], label='response onset')\n",
    "    plt.plot(t_resp+w/2, LL_mean[int((t_0 +t_resp+ w / 2) * Fs)], 'ro', markersize=15,label='LL peak [0,0.5]s')\n",
    "\n",
    "    plt.xticks([-1, 0, 1, 2, 3], fontsize=25)\n",
    "    plt.xlabel('time [s]', fontsize=25)\n",
    "    plt.title('LL of Mean of z-scored trials', fontsize=25)\n",
    "    plt.legend(fontsize=20)\n",
    "    plt.ylim([0,ylim])\n",
    "    plt.xlim([-0.5, 2])\n",
    "    plt.yticks(fontsize=20)\n",
    "\n",
    "    ax_GT = fig.add_subplot(gs[0, 2])\n",
    "    ylim = 200\n",
    "    plt.title('2 Cluster Centers', fontsize=25)\n",
    "    for i in [1,2]:\n",
    "        plt.plot(x_ax, M_GT[i], color=colors_GT[i],linewidth=5, label = 'CC'+str(i)+', LL: '+str(np.round(LL_CC[i-1],2)))\n",
    "        ylim = np.max([ylim, 1.3*np.max(abs( M_GT[i]))])\n",
    "    plt.xlabel('time [s]', fontsize=25)\n",
    "    plt.axvspan(t_resp, t_resp+w, color=[0,0,0], alpha=0.2)\n",
    "    plt.axvspan(t_resp, t_resp+2*w, color=[0.5,0,0], alpha=0.1)\n",
    "\n",
    "    plt.axvline(0, color=[0,0,0])\n",
    "    plt.text(t_resp+0.03, -0.9*ylim, 'Cluster Area')\n",
    "    plt.text(t_resp+w+0.03, -0.9*ylim, 'Pearson Area')\n",
    "    plt.text(t_resp+2*w+0.03, -0.9*ylim, 'p = '+str(np.round(p_CC,2)), fontsize=25)\n",
    "    plt.legend(fontsize=20)\n",
    "    plt.xlim([-0.25, 1])\n",
    "    plt.ylim([-ylim,ylim])\n",
    "    plt.xticks([0, 1], fontsize=25)\n",
    "    plt.yticks(fontsize=20)\n",
    "    plt.savefig(path_patient_analysis + '\\\\' + folder + '\\\\'+cond_folder+'\\\\methods\\\\CC_surr_example\\\\'+subj+'_'+labels_all[sc]+'_'+labels_all[rc]+'_'+m+'.svg')\n",
    "    # plt.savefig(path_patient_analysis + '\\\\' + folder + '\\\\'+cond_folder+'\\\\methods\\\\CC_surr_example\\\\'+subj+'_'+labels_all[sc]+'_'+labels_all[rc]+'_'+m+'.jpg')\n",
    "\n",
    "    plt.show()"
   ]
  },
  {
   "cell_type": "code",
   "execution_count": null,
   "id": "disturbed-entrepreneur",
   "metadata": {},
   "outputs": [],
   "source": [
    "def plot_sig_trials():\n",
    "    fig = plt.figure(figsize=(15, 8))\n",
    "    fig.patch.set_facecolor('xkcd:white')\n",
    "    sns.set(style='white')\n",
    "    plt.suptitle(labels_all[sc] + ' -- ' + labels_all[rc], fontsize=30)\n",
    "    ylim = 800\n",
    "\n",
    "    gs = fig.add_gridspec(1,2)  # GridSpec(4,1, height_ratios=[1,2,1,2])\n",
    "    for sig in [0,1]:\n",
    "        stimnum = lists.loc[lists.Sig==sig,'Num'].values.astype('int')\n",
    "        fig.add_subplot(gs[0, sig])\n",
    "        # for i in range(len(stimnum)):\n",
    "        #    plt.plot(x_ax, EEG_CR[rc, stimnum[i],:], color=color_elab[0], alpha=0.5)\n",
    "        mn = np.mean(ff.lp_filter(EEG_CR[rc, stimnum,:],45,Fs),0)\n",
    "        st= np.std(ff.lp_filter(EEG_CR[rc, stimnum,:],45,Fs),0)\n",
    "        plt.plot(x_ax, mn, color=[0,0,0], linewidth=5)\n",
    "        # st= np.std(ff.lp_filter(trials,30,Fs),0)\n",
    "        plt.fill_between(x_ax,mn-st, mn+st, alpha=0.2 )\n",
    "        plt.xticks([-0.5, 0,0., 1], fontsize=20)\n",
    "        plt.yticks([-400, 0, 400], fontsize=20)\n",
    "        plt.xlabel('time [s]', fontsize=25)\n",
    "        plt.ylabel('[uV]', fontsize=25)\n",
    "        plt.axvline(0, color=[0,0,0], label='stim')\n",
    "        plt.text(-0.3, 500, 'n: '+str(len(stimnum)), fontsize=20)\n",
    "        #plt.title('Mean Across All Trials', fontsize=25)\n",
    "        plt.xlim([-0.5, 1])\n",
    "        plt.ylim([-ylim,ylim])\n",
    "    plt.tight_layout()\n",
    "    plt.savefig(path_patient_analysis + '\\\\' + folder + '\\\\'+cond_folder+'\\\\methods\\\\trial_sig_example\\\\'+subj+'_'+labels_all[sc]+'_'+labels_all[rc]+'_ov.svg')\n",
    "    # plt.savefig(path_patient_analysis + '\\\\' + folder + '\\\\'+cond_folder+'\\\\methods\\\\CC_surr_example\\\\'+subj+'_'+labels_all[sc]+'_'+labels_all[rc]+'_'+m+'.jpg')\n",
    "\n",
    "    plt.show()"
   ]
  },
  {
   "cell_type": "code",
   "execution_count": null,
   "id": "third-confidentiality",
   "metadata": {},
   "outputs": [],
   "source": [
    "def get_KMeans_label(data, CC,t):\n",
    "    ## label cluster based on smaller euclidean distance to both CC\n",
    "    n_clusters = CC.shape[0]\n",
    "    dist2CC = np.zeros((data.shape[0], n_clusters,2))\n",
    "    for i in range(n_clusters):\n",
    "        dist_euclidean = np.corrcoef(CC[i],data)[0,1:]\n",
    "        dist2CC[:, i,0 ] = np.sqrt(np.sum(np.subtract(data, CC[i]) ** 2, axis=1))\n",
    "        dist2CC[:, i,1] = np.corrcoef(CC[i],data)[0,1:]\n",
    "    # label based on smallest euclidean distance to different cluster centers\n",
    "    if t=='mean':\n",
    "        y = np.argmin(dist2CC[:,:,0], axis=1)\n",
    "    else:\n",
    "        y = np.argmax(dist2CC[:,:,1], axis=1)\n",
    "    return y\n",
    "\n",
    "\n",
    "def update_cluster(data, CC0,t):\n",
    "    ## input:\n",
    "    # CC0: current cluster centers (centroids)\n",
    "    # data: data to cluster\n",
    "\n",
    "    ## output\n",
    "    # CC: new cluster centers, y: labels, dist: total squared dist\n",
    "\n",
    "    ## 1. get current label\n",
    "    y = get_KMeans_label(data, CC0,t)\n",
    "    ## 2. calculate new cluster centers based on new labels (y)\n",
    "    # CC = np.zeros((CC0.shape[0], data.shape[1]))\n",
    "    CC = np.copy(CC0)\n",
    "    for i in np.unique(y):\n",
    "        CC[i] = np.mean(data[y == i], axis=0)  # Calculate centroids as mean of the cluster\n",
    "\n",
    "    ## 3. update label\n",
    "    y = get_KMeans_label(data, CC,t)\n",
    "    ## 4. sum of squared distances of each electrode from closest CC\n",
    "    dist = 0\n",
    "    for i in np.unique(y):\n",
    "        dist += np.sum(np.sum(np.subtract(data[y == i], CC[i]) ** 2, axis=1))\n",
    "\n",
    "    return CC, y, dist\n",
    "\n",
    "\n",
    "def KMeans_clustering(data, n_clusters, t = 'mean', max_it=50):\n",
    "    #data = data.T  # transpose data\n",
    "    idx = np.random.choice(data.shape[0], n_clusters)  # Step 2 => randomly select 2 points\n",
    "    CC_init = data[idx]\n",
    "\n",
    "    CC0, y, dist = update_cluster(data, CC_init, t)  # First loop started from random points\n",
    "    for i in range(max_it):\n",
    "        CC, y, dist = update_cluster(data, CC0,t)  # Then from centroids previous clustering\n",
    "        if np.array_equal(np.around(CC, 3), np.around(CC0, 3)):\n",
    "            break\n",
    "        else:\n",
    "            CC0 = CC\n",
    "    return dist, y, CC"
   ]
  },
  {
   "cell_type": "code",
   "execution_count": null,
   "id": "iraqi-affair",
   "metadata": {},
   "outputs": [],
   "source": [
    "EEG_trial = bf.zscore_CCEP(EEG_resp[rc, lists.Num.values.astype('int'),:], 0, Fs)\n",
    "clustering = sklearn.cluster.AgglomerativeClustering().fit(EEG_trial[:,t0:t1])\n",
    "y = clustering.labels_\n",
    "nums = lists.Num.values.astype('int')\n",
    "CC1 = np.nanmean(EEG_resp[rc, nums[y==0],:],0)\n",
    "CC2 = np.nanmean(EEG_resp[rc, nums[y==1],:],0)\n",
    "plt.plot(x_ax, CC2)\n",
    "plt.plot(x_ax, CC1)\n",
    "plt.axvline(0,color=[0,0,0])\n",
    "plt.xlim([-0.5,1])"
   ]
  },
  {
   "cell_type": "code",
   "execution_count": null,
   "id": "spare-alcohol",
   "metadata": {},
   "outputs": [],
   "source": [
    "import sklearn"
   ]
  },
  {
   "cell_type": "code",
   "execution_count": null,
   "id": "still-broadcasting",
   "metadata": {},
   "outputs": [],
   "source": [
    "sc = 19\n",
    "rc= 65\n",
    "lists = con_trial[(con_trial['Artefact'] <1) & (con_trial['Chan'] == rc) & (con_trial['Stim'] == sc)]"
   ]
  },
  {
   "cell_type": "code",
   "execution_count": null,
   "id": "vocational-trading",
   "metadata": {},
   "outputs": [],
   "source": [
    "t0 = int(Fs+0.1*Fs)\n",
    "t1 = t0+125"
   ]
  },
  {
   "cell_type": "code",
   "execution_count": null,
   "id": "exclusive-hunger",
   "metadata": {},
   "outputs": [],
   "source": [
    "EEG_trial = bf.zscore_CCEP(EEG_resp[rc, lists.Num.values.astype('int'),:], 0, Fs)\n",
    "dist, y, CC = KMeans_clustering(EEG_trial[:,t0:t1], 2, t= 'mean', max_it=50)\n",
    "nums = lists.Num.values.astype('int')\n",
    "CC1 = np.nanmean(EEG_resp[rc, nums[y==0],:],0)\n",
    "CC2 = np.nanmean(EEG_resp[rc, nums[y==1],:],0)\n",
    "plt.plot(x_ax, CC2)\n",
    "plt.plot(x_ax, CC1)\n",
    "plt.axvline(0,color=[0,0,0])\n",
    "plt.ylim([-300,300])\n",
    "plt.xlim([-0.5,1])"
   ]
  },
  {
   "cell_type": "code",
   "execution_count": null,
   "id": "educated-jewelry",
   "metadata": {},
   "outputs": [],
   "source": [
    "len(np.where(y==1)[0])"
   ]
  },
  {
   "cell_type": "code",
   "execution_count": null,
   "id": "generous-training",
   "metadata": {},
   "outputs": [],
   "source": [
    "len(np.where(y==0)[0])"
   ]
  },
  {
   "cell_type": "code",
   "execution_count": null,
   "id": "compatible-showcase",
   "metadata": {},
   "outputs": [],
   "source": [
    "len(y==0)"
   ]
  },
  {
   "cell_type": "code",
   "execution_count": null,
   "id": "exposed-rubber",
   "metadata": {},
   "outputs": [],
   "source": [
    "dist, y, CC = KMeans_clustering(EEG_resp[rc, lists.Num.values.astype('int'),t0:t1], 2, t= 'S', max_it=50)\n",
    "nums = lists.Num.values.astype('int')\n",
    "CC1 = np.nanmean(EEG_resp[rc, nums[y==0],:],0)\n",
    "CC2 = np.nanmean(EEG_resp[rc, nums[y==1],:],0)\n",
    "plt.plot(x_ax, CC2)\n",
    "plt.plot(x_ax, CC1)\n",
    "plt.axvline(0,color=[0,0,0])\n",
    "plt.ylim([-700,700])\n",
    "plt.xlim([-0.5,1])"
   ]
  },
  {
   "cell_type": "code",
   "execution_count": null,
   "id": "outdoor-companion",
   "metadata": {},
   "outputs": [],
   "source": [
    "cluster_method = 'similarity'\n",
    "file_CC_summ = path_patient_analysis + '\\\\' + folder + '\\\\data\\\\CC_summ_' + cluster_method + '.csv'\n",
    "CC_summ = pd.read_csv(file_CC_summ)\n",
    "summary_gen_path = path_patient_analysis + '\\\\' + folder + '\\\\' + cond_folder + '\\\\data\\\\summ_general.csv'  # summary_general\n",
    "summ = pd.read_csv(summary_gen_path)        "
   ]
  },
  {
   "cell_type": "code",
   "execution_count": null,
   "id": "built-grant",
   "metadata": {},
   "outputs": [],
   "source": [
    "CC_summ[(CC_summ.Stim==sc)&(CC_summ.Chan==rc)]"
   ]
  },
  {
   "cell_type": "code",
   "execution_count": null,
   "id": "personalized-payment",
   "metadata": {},
   "outputs": [],
   "source": [
    "os.mkdir(path_patient_analysis + '\\\\' + folder + '\\\\'+cond_folder+'\\\\methods\\\\CC_sig_trials\\\\')"
   ]
  },
  {
   "cell_type": "code",
   "execution_count": null,
   "id": "medium-visibility",
   "metadata": {},
   "outputs": [],
   "source": [
    "dat = summ[(summ.Sig>0.8)&(summ.Sig<0.9)]"
   ]
  },
  {
   "cell_type": "code",
   "execution_count": null,
   "id": "absolute-washington",
   "metadata": {},
   "outputs": [],
   "source": [
    "k = np.random.choice(len(dat))\n",
    "sc = dat.Stim.values[k].astype('int')\n",
    "rc=  dat.Chan.values[k].astype('int')\n",
    "lists = con_trial[(con_trial['Artefact'] <1) & (con_trial['Chan'] == rc) & (con_trial['Stim'] == sc)]\n",
    "plot_sig_trials()"
   ]
  },
  {
   "cell_type": "code",
   "execution_count": null,
   "id": "still-williams",
   "metadata": {},
   "outputs": [],
   "source": [
    "sc = dat.Stim.values[k].astype('int')\n",
    "rc=  dat.Chan.values[k].astype('int')\n",
    "lists = con_trial[(con_trial['Artefact'] <1) & (con_trial['Chan'] == rc) & (con_trial['Stim'] == sc)]\n",
    "plot_sig_trials(1)"
   ]
  },
  {
   "cell_type": "code",
   "execution_count": null,
   "id": "cultural-orleans",
   "metadata": {},
   "outputs": [],
   "source": [
    "def plot_sig_trials(save = 0):\n",
    "    fig = plt.figure(figsize=(15, 8))\n",
    "    fig.patch.set_facecolor('xkcd:white')\n",
    "    sns.set(style='white')\n",
    "    plt.suptitle(labels_all[sc] + ' -- ' + labels_all[rc], fontsize=30)\n",
    "    ylim = 800\n",
    "\n",
    "    gs = fig.add_gridspec(1,2)  # GridSpec(4,1, height_ratios=[1,2,1,2])\n",
    "    for sig in [0,1]:\n",
    "        stimnum = lists.loc[lists.Sig==sig,'Num'].values.astype('int')\n",
    "        fig.add_subplot(gs[0, sig])\n",
    "        plt.title('Sig: '+str(sig)+', n = '+str(len(stimnum)),  fontsize=25)\n",
    "        for i in range(len(stimnum)):\n",
    "            plt.plot(x_ax, EEG_resp[rc, stimnum[i],:], color=color_elab[0], alpha=0.5)\n",
    "        mn = np.mean(ff.lp_filter(EEG_resp[rc, stimnum,:],45,Fs),0)\n",
    "        st= np.std(ff.lp_filter(EEG_resp[rc, stimnum,:],45,Fs),0)\n",
    "        plt.plot(x_ax, mn, color=[0,0,0], linewidth=5)\n",
    "        # st= np.std(ff.lp_filter(trials,30,Fs),0)\n",
    "        #plt.fill_between(x_ax,ff.lp_filter(np.mean(trials,0),45,Fs)-st, ff.lp_filter(np.mean(trials,0),45,Fs)+st, alpha=0.2 )\n",
    "        plt.xticks([-0.5, 0,0., 1], fontsize=25)\n",
    "        plt.xlabel('time [s]', fontsize=25)\n",
    "        plt.axvline(0, color=[0,0,0], label='stim')\n",
    "        # plt.title('Mean Across All Trials', fontsize=25)\n",
    "        plt.xlim([-0.5, 1])\n",
    "        plt.ylim([-ylim,ylim])\n",
    "        plt.yticks(fontsize=25)\n",
    "    if save:\n",
    "        plt.savefig(path_patient_analysis + '\\\\' + folder + '\\\\'+cond_folder+'\\\\methods\\\\CC_sig_trials\\\\'+subj+'_'+labels_all[sc]+'_'+labels_all[rc]+'.svg')\n",
    "    # plt.savefig(path_patient_analysis + '\\\\' + folder + '\\\\'+cond_folder+'\\\\methods\\\\CC_surr_example\\\\'+subj+'_'+labels_all[sc]+'_'+labels_all[rc]+'_'+m+'.jpg')\n",
    "\n",
    "    plt.show()"
   ]
  },
  {
   "cell_type": "code",
   "execution_count": null,
   "id": "integrated-paris",
   "metadata": {},
   "outputs": [],
   "source": [
    "def plot_sig_trials():\n",
    "    fig = plt.figure(figsize=(8, 8))\n",
    "    fig.patch.set_facecolor('xkcd:white')\n",
    "    sns.set(style='white')\n",
    "    plt.title(labels_all[sc] + ' -- ' + labels_all[rc], fontsize=30)\n",
    "    ylim = 500\n",
    "\n",
    "        #fig.add_subplot(gs[0, sig])\n",
    "    #gs = fig.add_gridspec(1,2)  # GridSpec(4,1, height_ratios=[1,2,1,2])\n",
    "    for sig, sig_lab in zip([0,1],['non-sig', 'sig']):\n",
    "        stimnum = lists.loc[lists.Sig==sig,'Num'].values.astype('int')\n",
    "        #fig.add_subplot(gs[0, sig])\n",
    "        # for i in range(len(stimnum)):\n",
    "        #    plt.plot(x_ax, EEG_CR[rc, stimnum[i],:], color=color_elab[0], alpha=0.5)\n",
    "        mn = np.mean(ff.lp_filter(EEG_CR[rc, stimnum,:],45,Fs),0)\n",
    "        st= np.std(ff.lp_filter(EEG_CR[rc, stimnum,:],45,Fs),0)\n",
    "        plt.plot(x_ax, mn, color=color_elab[sig*2], linewidth=5, alpha=0.7, label=sig_lab+', n: '+str(len(stimnum)))\n",
    "        # st= np.std(ff.lp_filter(trials,30,Fs),0)\n",
    "        # plt.fill_between(x_ax,mn-st, mn+st,color=color_elab[sig*2], alpha=0.2 )\n",
    "    plt.xticks([-0.5, 0,0., 1], fontsize=20)\n",
    "    plt.yticks([-400, 0, 400], fontsize=20)\n",
    "    plt.xlabel('time [s]', fontsize=25)\n",
    "    plt.ylabel('[uV]', fontsize=25)\n",
    "    plt.legend( fontsize=20)\n",
    "    plt.axvline(0, color=[0,0,0], label='stim')\n",
    "        # plt.text(-0.3, 500, 'n: '+str(len(stimnum)), fontsize=20)\n",
    "        #plt.title('Mean Across All Trials', fontsize=25)\n",
    "    plt.xlim([-0.5, 1])\n",
    "    plt.ylim([-ylim,ylim])\n",
    "    plt.tight_layout()\n",
    "    plt.savefig(path_patient_analysis + '\\\\' + folder + '\\\\'+cond_folder+'\\\\methods\\\\trial_sig_example\\\\'+subj+'_'+labels_all[sc]+'_'+labels_all[rc]+'.svg')\n",
    "    # plt.savefig(path_patient_analysis + '\\\\' + folder + '\\\\'+cond_folder+'\\\\methods\\\\CC_surr_example\\\\'+subj+'_'+labels_all[sc]+'_'+labels_all[rc]+'_'+m+'.jpg')\n",
    "\n",
    "    plt.show()"
   ]
  },
  {
   "cell_type": "code",
   "execution_count": null,
   "id": "recovered-transsexual",
   "metadata": {},
   "outputs": [],
   "source": [
    "def plot_sig_trials():\n",
    "    fig = plt.figure(figsize=(8, 8))\n",
    "    fig.patch.set_facecolor('xkcd:white')\n",
    "    sns.set(style='white')\n",
    "    plt.title(labels_all[sc] + ' -- ' + labels_all[rc], fontsize=30)\n",
    "    ylim = 800\n",
    "\n",
    "        #fig.add_subplot(gs[0, sig])\n",
    "    #gs = fig.add_gridspec(1,2)  # GridSpec(4,1, height_ratios=[1,2,1,2])\n",
    "    for sig, sig_lab in zip([0,1,2],['Wake', 'NREM', 'REM']):\n",
    "        stimnum = lists.loc[(lists.Sig==1)&(lists.SleepState==sig_lab),'Num'].values.astype('int')\n",
    "        #fig.add_subplot(gs[0, sig])\n",
    "        # for i in range(len(stimnum)):\n",
    "        #    plt.plot(x_ax, EEG_CR[rc, stimnum[i],:], color=color_elab[0], alpha=0.5)\n",
    "        mn = np.mean(ff.lp_filter(EEG_CR[rc, stimnum,:],30,Fs),0)\n",
    "        st= np.std(ff.lp_filter(EEG_CR[rc, stimnum,:],30,Fs),0)\n",
    "        plt.plot(x_ax, mn, color=color_elab[sig], linewidth=5, alpha=0.7, label=sig_lab+', n: '+str(len(stimnum)))\n",
    "        # st= np.std(ff.lp_filter(trials,30,Fs),0)\n",
    "        # plt.fill_between(x_ax,mn-st, mn+st,color=color_elab[sig*2], alpha=0.2 )\n",
    "    plt.xticks([-0.5, 0,0., 1], fontsize=20)\n",
    "    plt.yticks([-400, 0, 400], fontsize=20)\n",
    "    plt.xlabel('time [s]', fontsize=25)\n",
    "    plt.ylabel('[uV]', fontsize=25)\n",
    "    plt.legend( fontsize=20)\n",
    "    plt.axvline(0, color=[0,0,0], label='stim')\n",
    "        # plt.text(-0.3, 500, 'n: '+str(len(stimnum)), fontsize=20)\n",
    "        #plt.title('Mean Across All Trials', fontsize=25)\n",
    "    plt.xlim([-0.5, 1])\n",
    "    plt.ylim([-ylim,ylim])\n",
    "    plt.tight_layout()\n",
    "    plt.savefig(path_patient_analysis + '\\\\' + folder + '\\\\'+cond_folder+'\\\\methods\\\\trial_sig_example\\\\'+subj+'_'+labels_all[sc]+'_'+labels_all[rc]+'_SS.svg')\n",
    "    # plt.savefig(path_patient_analysis + '\\\\' + folder + '\\\\'+cond_folder+'\\\\methods\\\\CC_surr_example\\\\'+subj+'_'+labels_all[sc]+'_'+labels_all[rc]+'_'+m+'.jpg')\n",
    "    plt.axvspan(0,0.25, alpha=0.1)\n",
    "    plt.show()"
   ]
  },
  {
   "cell_type": "code",
   "execution_count": null,
   "id": "appreciated-gibson",
   "metadata": {},
   "outputs": [],
   "source": [
    "con_trial"
   ]
  },
  {
   "cell_type": "code",
   "execution_count": null,
   "id": "neither-registration",
   "metadata": {},
   "outputs": [],
   "source": [
    "#k = np.random.choice(len(dat_plot),1)[0]\n",
    "sc = 19\n",
    "rc= 65\n",
    "lists = con_trial[(con_trial['Artefact'] <1) & (con_trial['Chan'] == rc) & (con_trial['Stim'] == sc)]\n",
    "plot_sig_trials()"
   ]
  },
  {
   "cell_type": "code",
   "execution_count": null,
   "id": "impressed-performance",
   "metadata": {},
   "outputs": [],
   "source": [
    "from pathlib import Path"
   ]
  },
  {
   "cell_type": "code",
   "execution_count": null,
   "id": "wrapped-romance",
   "metadata": {},
   "outputs": [],
   "source": [
    "#k = k+1\n",
    "sc = 54\n",
    "rc = 47\n",
    "#sc = 19 # dat_i.Stim.values[k].astype('int')\n",
    "#rc = 85 # dat_i.Chan.values[k].astype('int')\n",
    "for real in [0,1]:\n",
    "    if real:\n",
    "        m = 'real'\n",
    "        lists = con_trial[(con_trial['Artefact'] <1) & (con_trial['Chan'] == rc) & (con_trial['Stim'] == sc)]\n",
    "        stimNum_all = lists.Num.values.astype('int')\n",
    "        n_trials = len(stimNum_all)\n",
    "        if len(stimNum_all) > 0:\n",
    "            t_nan = np.where(np.isnan(np.mean(EEG_CR[rc, stimNum_all, :], 1)) * 1)  # [0][0]\n",
    "            if len(t_nan[0]) > 0:\n",
    "                stimNum_all = np.delete(stimNum_all, t_nan[0])\n",
    "            if len(stimNum_all) > 15:\n",
    "                trials = EEG_CR[rc, stimNum_all, :]\n",
    "        [r, t_onset, t_resp],LL_mean, p_CC, M_GT, y, thr,LL_CC = get_GT_trials(trials, real=1, t_0=1, Fs=500, w=0.25, n_cluster=2)\n",
    "    else:\n",
    "        m = 'surr'\n",
    "        stim_trials = np.unique(\n",
    "            con_trial.loc[(con_trial.Stim >= rc - 1) & (con_trial.Stim <= rc + 1), 'Num'].values.astype('int'))\n",
    "        StimNum = np.unique(con_trial.loc[(con_trial.d > 11) & (con_trial.Artefact == 0) & (\n",
    "                con_trial.Chan == rc), 'Num'])  # np.random.choice(np.unique(con_trial.Num), size=400)\n",
    "        StimNum = [i for i in StimNum if i not in stim_trials]\n",
    "        StimNum = [i for i in StimNum if i not in stim_trials + 1]\n",
    "        StimNum = [i for i in StimNum if i not in stim_trials - 1]\n",
    "        StimNum_surr = np.random.choice(StimNum, size=n_trials).astype('int')\n",
    "\n",
    "        if len(StimNum_surr) > 0:\n",
    "            t_nan = np.where(np.isnan(np.mean(EEG_CR[rc, StimNum_surr, :], 1)) * 1)  # [0][0]\n",
    "            if len(t_nan[0]) > 0:\n",
    "                StimNum_surr = np.delete(StimNum_surr, t_nan[0])\n",
    "            if len(stimNum_all) > 15:\n",
    "                trials = EEG_CR[rc, StimNum_surr, :]\n",
    "                trials[:,0:1000] = EEG_CR[rc, StimNum_surr, 1000:]\n",
    "                trials[:,1000:] = 0.9*np.flip(EEG_CR[rc, StimNum_surr, 1000:],1)#EEG_CR[rc, StimNum_surr+1, 1000:]\n",
    "        [r, t_onset, t_resp],LL_mean, p_CC, M_GT, y, thr,LL_CC = get_GT_trials(trials, real=1, t_0=1, Fs=500, w=0.25, n_cluster=2)\n",
    "    plot_CC_example()"
   ]
  },
  {
   "cell_type": "code",
   "execution_count": null,
   "id": "expressed-dispatch",
   "metadata": {},
   "outputs": [],
   "source": [
    "file_GT = path_patient_analysis + '\\\\' + folder + '\\\\data\\\\M_CC.npy'"
   ]
  },
  {
   "cell_type": "code",
   "execution_count": null,
   "id": "graduate-steps",
   "metadata": {},
   "outputs": [],
   "source": [
    "M_GT_all = np.load(file_GT)"
   ]
  },
  {
   "cell_type": "code",
   "execution_count": null,
   "id": "norman-flashing",
   "metadata": {},
   "outputs": [],
   "source": [
    "file_sig_con = path_patient_analysis + '\\\\' + folder + '\\\\' + cond_folder + '\\\\data\\\\sig_con.csv'\n",
    "file_CC_surr = path_patient_analysis + '\\\\' + folder + '\\\\data\\\\M_CC_surr.csv'\n",
    "\n",
    "sig_con = sig_con[sig_con.Sig_LL>-1]\n",
    "# sig_con.insert(3,'Sig_CC_LL', 0)\n"
   ]
  },
  {
   "cell_type": "code",
   "execution_count": null,
   "id": "prime-remainder",
   "metadata": {},
   "outputs": [],
   "source": [
    "sc = 7\n",
    "rc = 38\n",
    "sig_A = sig_con.loc[(sig_con.Chan == rc)&(sig_con.Stim == sc), 'Sig_CC_LL'].values[0]\n",
    "sig_B = sig_con.loc[(sig_con.Chan == sc) & (sig_con.Stim == rc), 'Sig_CC_LL'].values[0]\n",
    "np.min([sig_A, sig_B])\n",
    "dire = sig_A + sig_B\n",
    "dire"
   ]
  },
  {
   "cell_type": "code",
   "execution_count": null,
   "id": "liberal-telescope",
   "metadata": {},
   "outputs": [],
   "source": [
    "sig_con.Sig_CC_LL = 0\n",
    "for rc in range(len(labels_all)):\n",
    "    thr = 1.1*surr_thr.loc[surr_thr.Chan==rc,'CC_LL99'].values[0]\n",
    "    # thr = np.min([0.65, thr])\n",
    "    sig_con.loc[(sig_con.Chan==rc)&((sig_con.CC_LL1>=thr)|(sig_con.CC_LL2>=thr)), 'Sig_CC_LL'] = 1"
   ]
  },
  {
   "cell_type": "code",
   "execution_count": null,
   "id": "outdoor-seating",
   "metadata": {},
   "outputs": [],
   "source": [
    "def perf_measure(y_actual, y_hat):\n",
    "    TP = 0\n",
    "    FP = 0\n",
    "    TN = 0\n",
    "    FN = 0\n",
    "\n",
    "    for i in range(len(y_hat)): \n",
    "        if y_actual[i]==y_hat[i]==1:\n",
    "            TP += 1\n",
    "        if y_hat[i]==1 and y_actual[i]!=y_hat[i]:\n",
    "            FP += 1\n",
    "        if y_actual[i]==y_hat[i]==0:\n",
    "            TN += 1\n",
    "        if y_hat[i]==0 and y_actual[i]!=y_hat[i]:\n",
    "            FN += 1\n",
    "\n",
    "    return(TP, FP, TN, FN)"
   ]
  },
  {
   "cell_type": "code",
   "execution_count": null,
   "id": "durable-instruction",
   "metadata": {},
   "outputs": [],
   "source": [
    "TP, FP, TN, FN = perf_measure(sig_con.Sig_LL.values, sig_con.Sig_CC_LL.values)"
   ]
  },
  {
   "cell_type": "code",
   "execution_count": null,
   "id": "operating-washer",
   "metadata": {},
   "outputs": [],
   "source": [
    "\n",
    "cm = [[TP, FP], [TN, FN]] # TP, FP, FN, TN\n",
    "sns.set(font_scale=3)\n",
    "plt.figure(figsize=(7, 7))\n",
    "ax = sns.heatmap(data=[[1, 0], [0, 1]], cmap=sns.color_palette(['tomato', 'lightgreen'], as_cmap=True),\n",
    "                 annot=[[f\"TP={cm[0][0]:.0f}\", f\"FP={cm[0][1]:.0f}\"], [f\"FN={cm[1][0]:.0f}\", f\"TN={cm[1][1]:.0f}\"]],\n",
    "                 fmt='', annot_kws={'fontsize': 30}, cbar=False, square=True)\n",
    "\n",
    "ax.set_xlabel('LL Method')\n",
    "ax.set_ylabel('CC Pearson Method')\n",
    "ax.tick_params(length=0, labeltop=True, labelbottom=False)\n",
    "ax.xaxis.set_label_position('top')\n",
    "ax.set_xticklabels(['Positive', 'Negative'])\n",
    "ax.set_yticklabels(['Positive', 'Negative'], rotation=90, va='center')\n",
    "ax.add_patch(plt.Rectangle((0, 1), 1, 0.1, color='grey', clip_on=False, zorder=0, transform=ax.transAxes))\n",
    "ax.add_patch(plt.Rectangle((0, 0), -0.1, 1, color='grey', clip_on=False, zorder=0, transform=ax.transAxes))\n",
    "plt.tight_layout()\n",
    "plt.show()"
   ]
  },
  {
   "cell_type": "code",
   "execution_count": null,
   "id": "informational-lighting",
   "metadata": {},
   "outputs": [],
   "source": [
    "sns.catplot(x='Sig_LL', y='CCp', hue='Sig_CC_LL', data= sig_con, kind='swarm', height = 8)\n",
    "plt.xticks([0,1], ['Non-Sig', 'Sig'], fontsize=20)\n",
    "plt.xlabel('LL Method', fontsize=20)\n",
    "plt.yticks([-1,0,1],fontsize=20)\n",
    "plt.ylabel('Peasrson Correlation of Cluster Centers', fontsize=20)\n",
    "plt.axhspan(-0.8,-0.6, color=[0,0,0], alpha=0.2)\n",
    "#plt.legend(['Non-Sig', 'Sig'], fontsize=20)"
   ]
  },
  {
   "cell_type": "code",
   "execution_count": null,
   "id": "growing-atlantic",
   "metadata": {},
   "outputs": [],
   "source": [
    "STOP"
   ]
  },
  {
   "cell_type": "markdown",
   "id": "hollywood-deficit",
   "metadata": {},
   "source": [
    "## SLEEP TRIALS"
   ]
  },
  {
   "cell_type": "code",
   "execution_count": null,
   "id": "upper-electric",
   "metadata": {
    "scrolled": true
   },
   "outputs": [],
   "source": [
    "summ = con_trial.groupby(['Stim','Chan'], as_index=False)[['Sig', 'd']].mean()\n",
    "dat_plot = summ[(summ.Sig<0.3)&(summ.Sig>0)]"
   ]
  },
  {
   "cell_type": "code",
   "execution_count": null,
   "id": "passing-capitol",
   "metadata": {},
   "outputs": [],
   "source": [
    "k = np.random.choice(len(dat_plot),1)[0]\n",
    "sc = dat_plot.Stim.values[k].astype('int')\n",
    "rc=dat_plot.Chan.values[k].astype('int')\n",
    "sc = 2\n",
    "rc = 9\n",
    "ylim = 900\n",
    "## figure\n",
    "fig = plt.figure(figsize=(15, 15))\n",
    "fig.patch.set_facecolor('xkcd:white')\n",
    "k = 3\n",
    "d = np.round(distance.euclidean(coord_all[sc], coord_all[rc]), 1)\n",
    "plt.suptitle(labels_h[sc] + ' -- ' + labels_h[rc] + ', d=' + str(d) + 'mm', fontsize=30)\n",
    "gs = fig.add_gridspec(2, 3)  # GridSpec(4,1, height_ratios=[1,2,1,2])\n",
    "k = 0\n",
    "for ss in ['Wake', 'NREM', 'REM']:\n",
    "    fig.add_subplot(gs[np.floor(k / 3).astype('int'), np.mod(k, 3)])\n",
    "    plt.title(ss, fontsize=15)\n",
    "    summ = con_trial[(con_trial.Artefact ==0) & (con_trial.Stim == sc) & (con_trial.Chan == rc) & (\n",
    "                con_trial.SleepState == ss)]  # (con_trial.Sleep==s)&\n",
    "    sig = np.mean(summ.loc[summ.Sig > -1, 'Sig'])\n",
    "    plt.title(ss + ', Prob: ' + str(np.round(sig, 2)), fontsize=15)\n",
    "    for sig in [0, 1]:\n",
    "        StimNum = summ.loc[summ.Sig == sig, 'Num'].values.astype('int')\n",
    "        for i in range(len(StimNum)):\n",
    "            plt.plot(x_ax, ff.lp_filter(EEG_CR[rc, StimNum[i]], 45, Fs), color=color_elab[0], alpha=0.5 * sig + 0.5)\n",
    "    StimNum = summ.loc[summ.Sig > 0, 'Num'].values.astype('int')\n",
    "\n",
    "    plt.plot(x_ax, ff.lp_filter(np.mean(EEG_CR[rc, StimNum, :], 0), 45, Fs), color=[0, 0, 0], linewidth=3, alpha=1)\n",
    "    plt.xlim([-0.2, 0.5])\n",
    "    plt.ylim([-ylim, ylim])\n",
    "    plt.axvline(0, color=[0.8, 0.2, 0])\n",
    "    plt.axvline(t0 - 1, color=[0, 0, 0], alpha=0.2)\n",
    "    k = k + 1\n",
    "ax_sns = fig.add_subplot(gs[1, :])\n",
    "# summ = con_trial[(con_trial.Artefact <1) & (con_trial.Stim == sc) & (con_trial.Chan == rc)]\n",
    "# sns.swarmplot(x='SleepState', y='LL', data=summ, hue='Sig', ax=ax_sns, size=10)\n",
    "# plt.ylim([2, 8])\n",
    "# plt.tight_layout()\n",
    "data_con = con_trial[(con_trial.Stim==sc)&(con_trial.Chan==rc)&(con_trial.Artefact<1)]\n",
    "sns.swarmplot(x='SleepState', y='LL', hue='Sig', data = data_con, palette='Blues')\n",
    "s, t_p = scipy.stats.ttest_ind(data_con.loc[(data_con.Sig==1)&(data_con.SleepState=='Wake'),'LL'].values, data_con.loc[(data_con.Sig==1)&(data_con.SleepState=='NREM'),'LL'].values)\n",
    "if t_p<0.05:\n",
    "    plt.plot([0,1], [-1,-1], color=[0,0,0])\n",
    "    \n",
    "    plt.text(0.4, -0.7, '***', color=[0,0,0], fontsize=15)\n",
    "    \n",
    "s, t_p = scipy.stats.ttest_ind(data_con.loc[(data_con.Sig==1)&(data_con.SleepState=='Wake'),'LL'].values, data_con.loc[(data_con.Sig==1)&(data_con.SleepState=='REM'),'LL'].values)\n",
    "if t_p<0.05:\n",
    "    plt.plot([0,2], [-2,-2], color=[0,0,0])\n",
    "    plt.text(1, -1.7, '***', color=[0,0,0])\n",
    "\n",
    "plt.xticks(fontsize=20)\n",
    "plt.yticks(fontsize=20)\n",
    "plt.xlabel('')\n",
    "plt.ylabel('LL',fontsize=20)\n",
    "plt.savefig(path_patient_analysis+'\\\\' + folder + '\\\\' + cond_folder +'\\\\BM_figures\\\\sig_trials\\\\Sleep_'+str(sc)+'_'+str(rc)+'.svg')\n"
   ]
  },
  {
   "cell_type": "markdown",
   "id": "norman-kingston",
   "metadata": {},
   "source": [
    "## sig trials"
   ]
  },
  {
   "cell_type": "code",
   "execution_count": null,
   "id": "racial-sudan",
   "metadata": {},
   "outputs": [],
   "source": [
    "import significance_funcs as sigf"
   ]
  },
  {
   "cell_type": "code",
   "execution_count": null,
   "id": "given-honey",
   "metadata": {},
   "outputs": [],
   "source": [
    "if \"LL_onset\" not in con_trial:\n",
    "    con_trial.insert(4, 'LL_onset', 0)"
   ]
  },
  {
   "cell_type": "code",
   "execution_count": null,
   "id": "frozen-wildlife",
   "metadata": {},
   "outputs": [],
   "source": [
    "sc = 0\n",
    "rc = 3\n",
    "dat = sig_con.loc[(sig_con.Stim == sc) & (sig_con.Chan == rc)]\n",
    "if dat.Sig_CC_LL.values[0]:\n",
    "    thr = 1.1*surr_thr.loc[surr_thr.Chan==rc,'CC_LL99'].values[0]\n",
    "    M_GT = M_GT_all[sc, rc, :, :]\n",
    "    if len(np.where(dat[['CC_LL1','CC_LL2']].values[0][:]<thr)[0][:]+1)>0:\n",
    "        M_GT = np.delete(np.where(dat[['CC_LL1','CC_LL2']].values[0][:]<thr)[0][:]+1, 0)\n",
    "    # M_GT[np.where(dat[['CC_LL1','CC_LL2']].values[0][:]<thr)[0][:]+1,:] = np.nan\n",
    "    t_resp = dat.t_onset.values[0]"
   ]
  },
  {
   "cell_type": "code",
   "execution_count": null,
   "id": "brazilian-session",
   "metadata": {},
   "outputs": [],
   "source": [
    "con_trial = get_sig(sc, rc, con_trial, M_GT, t_resp, sig_mean, EEG_CR, p=95, exp=2,\n",
    "                                         w_cluster=0.25)"
   ]
  },
  {
   "cell_type": "code",
   "execution_count": null,
   "id": "apparent-picking",
   "metadata": {},
   "outputs": [],
   "source": [
    "# con_trial.insert(5,'Sig_CC',-1)"
   ]
  },
  {
   "cell_type": "code",
   "execution_count": null,
   "id": "permanent-brown",
   "metadata": {},
   "outputs": [],
   "source": [
    "con_trial_sig = con_trial[con_trial.d > -10]\n",
    "con_trial_sig.loc[con_trial_sig.Sig_CC == 1, 'Sig_CC'] = 0\n",
    "con_trial_sig.loc[con_trial_sig.Sig_CC == 2, 'Sig_CC'] = 1\n",
    "con_trial_sig.insert(4, 'LL_sig', np.nan)\n",
    "con_trial_sig.loc[con_trial_sig.Sig_CC == 1, 'LL_sig'] = con_trial_sig.loc[con_trial_sig.Sig_CC == 1, 'LL']\n",
    "summ = con_trial_sig[(con_trial_sig.Sig_CC > -1)]  # only possible connections\n",
    "summ = summ.groupby(['Stim', 'Chan', 'SleepState'], as_index=False)[['Sig_CC', 'LL_sig', 'd']].mean()"
   ]
  },
  {
   "cell_type": "code",
   "execution_count": null,
   "id": "cordless-sandwich",
   "metadata": {},
   "outputs": [],
   "source": [
    "M_DI = np.zeros((len(self.labels_all),5))"
   ]
  },
  {
   "cell_type": "code",
   "execution_count": null,
   "id": "joint-growing",
   "metadata": {},
   "outputs": [],
   "source": [
    "for sc in range(M_t_resp.shape[0]):\n",
    "    for rc in range(sc, M_t_resp.shape[0]):"
   ]
  },
  {
   "cell_type": "code",
   "execution_count": null,
   "id": "matched-oklahoma",
   "metadata": {},
   "outputs": [],
   "source": [
    "file_con"
   ]
  },
  {
   "cell_type": "code",
   "execution_count": null,
   "id": "featured-clone",
   "metadata": {},
   "outputs": [],
   "source": [
    "con_trial.to_csv(file_con,\n",
    "                         index=False,\n",
    "                         header=True)"
   ]
  },
  {
   "cell_type": "code",
   "execution_count": null,
   "id": "dominican-chosen",
   "metadata": {},
   "outputs": [],
   "source": [
    "con_trial.Sig_CC = -1\n",
    "for sc in tqdm(np.unique(con_trial.Stim), desc='Stimulation Channel'):\n",
    "    sc = int(sc)\n",
    "    resp_chans = np.unique(con_trial.loc[(con_trial.Artefact == 0) & (con_trial.Stim == sc), 'Chan']).astype(\n",
    "        'int')\n",
    "    for rc in resp_chans:\n",
    "        dat = sig_con.loc[(sig_con.Stim == sc) & (sig_con.Chan == rc)]\n",
    "        if dat.Sig_CC_LL.values[0]:\n",
    "            thr = 1.1*surr_thr.loc[surr_thr.Chan==rc,'CC_LL99'].values[0]\n",
    "            M_GT = M_GT_all[sc, rc, :, :]\n",
    "            if len(np.where(dat[['CC_LL1','CC_LL2']].values[0][:]<thr)[0][:]+1)>0:\n",
    "                M_GT = np.delete(M_GT,np.where(dat[['CC_LL1','CC_LL2']].values[0][:]<thr)[0][:]+1, 0)\n",
    "            # M_GT[np.where(dat[['CC_LL1','CC_LL2']].values[0][:]<thr)[0][:]+1,:] = np.nan\n",
    "            t_resp = dat.t_onset.values[0]\n",
    "            con_trial = get_sig(sc, rc, con_trial, M_GT, t_resp, sig_mean, EEG_CR, p=95, exp=2,\n",
    "                                         w_cluster=0.25)\n",
    "        else:\n",
    "            con_trial.loc[(con_trial.Chan == rc) & (con_trial.Stim == sc), 'Sig_CC'] =0"
   ]
  },
  {
   "cell_type": "code",
   "execution_count": null,
   "id": "continuous-kazakhstan",
   "metadata": {},
   "outputs": [],
   "source": [
    "def get_sig(sc, rc, con_trial, M_GT, t_resp, sig_mean, EEG_CR, p=95, exp=2, w_cluster=0.25, t_0=1):\n",
    "    # for each trial get significance level based on surrogate (Pearson^2 * LL)\n",
    "    dat = con_trial[(con_trial.Stim == sc) & (con_trial.Chan == rc) & (con_trial.Artefact < 1)]\n",
    "    EEG_trials = ff.lp_filter(EEG_CR[[[rc]], dat.Num.values.astype('int'), :], 45, Fs)\n",
    "    LL_trials = LLf.get_LL_all(EEG_trials, Fs, w_cluster)\n",
    "    # surr\n",
    "    pear_surr_all = []\n",
    "    f = 1\n",
    "    for t_test in [0.3, 0.7, 1.8, 2.2, 2.6]:  # surrogates times, todo: in future blockwise\n",
    "        s = (-1) ** f\n",
    "        pear = np.zeros((len(EEG_trials[0]),))-1\n",
    "        for n_c in range(len(M_GT)):\n",
    "            pear = np.max([pear, sigf.get_pearson2mean(M_GT[n_c, :], s * EEG_trials[0], tx=t_0 + t_resp, ty=t_test, win=w_cluster,\n",
    "                                     Fs=500)],0)\n",
    "\n",
    "        LL = LL_trials[0, :, int((t_test + w_cluster / 2) * Fs)]\n",
    "        # pear_surr = np.arctanh(np.max([pear,pear2],0))*LL\n",
    "        pear_surr = np.sign(pear) * abs(pear ** exp) * LL\n",
    "        pear_surr_all = np.concatenate([pear_surr_all, pear_surr])\n",
    "        f = f + 1\n",
    "    # other trials\n",
    "    real_trials = np.unique(\n",
    "        con_trial.loc[(con_trial.Stim == sc) & (con_trial.Chan == rc), 'Num'].values.astype('int'))\n",
    "    stim_trials = np.unique(\n",
    "        con_trial.loc[(con_trial.Stim >= rc - 1) & (con_trial.Stim <= rc + 1), 'Num'].values.astype('int'))\n",
    "    StimNum = np.random.choice(np.unique(con_trial.Num), size=400)\n",
    "    StimNum = [i for i in StimNum if i not in stim_trials]\n",
    "    StimNum = [i for i in StimNum if i not in stim_trials + 1]\n",
    "    StimNum = [i for i in StimNum if i not in real_trials]\n",
    "\n",
    "    StimNum = np.unique(StimNum).astype('int')\n",
    "    EEG_surr = ff.lp_filter(EEG_CR[[[rc]], StimNum, :], 45, Fs)\n",
    "    bad_StimNum = np.where(np.max(abs(EEG_surr[0]), 1) > 1000)\n",
    "    if (len(bad_StimNum[0]) > 0):\n",
    "        StimNum = np.delete(StimNum, bad_StimNum)\n",
    "        EEG_surr = ff.lp_filter(EEG_CR[[[rc]], StimNum, :], 45, Fs)\n",
    "    LL_surr = LLf.get_LL_all(EEG_surr, Fs, w_cluster)\n",
    "    for t_test in [0.3, 0.7, 1.8, 2.2, 2.6]:  # surrogates times, todo: in future blockwise\n",
    "        s = (-1) ** f\n",
    "\n",
    "        pear = np.zeros((len(EEG_surr[0]),)) - 1\n",
    "        for n_c in range(len(M_GT)):\n",
    "            pear = np.max([pear, sigf.get_pearson2mean(M_GT[n_c, :], s * EEG_surr[0], tx=t_0 + t_resp, ty=t_test,\n",
    "                                                       win=w_cluster,\n",
    "                                                       Fs=500)], 0)\n",
    "\n",
    "\n",
    "        LL = LL_surr[0, :, int((t_test + w_cluster / 2) * Fs)]\n",
    "        # pear_surr = np.arctanh(np.max([pear,pear2],0))*LL\n",
    "        pear_surr = np.sign(pear) * abs(pear ** exp) * LL\n",
    "        pear_surr_all = np.concatenate([pear_surr_all, pear_surr])\n",
    "        f = f + 1\n",
    "\n",
    "    # real\n",
    "    t_test = t_0 + t_resp\n",
    "\n",
    "    pear = np.zeros((len(EEG_trials[0]),)) - 1\n",
    "    for n_c in range(len(M_GT)):\n",
    "        pear = np.max(\n",
    "            [pear, sigf.get_pearson2mean(M_GT[n_c, :], s * EEG_trials[0], tx=t_0 + t_resp, ty=t_test, win=w_cluster,\n",
    "                                         Fs=500)], 0)\n",
    "\n",
    "    LL = LL_trials[0, :, int((t_test + w_cluster / 2) * Fs)]\n",
    "    pear = np.sign(pear) * abs(pear ** exp) * np.sqrt(LL)\n",
    "    sig = (pear > np.nanpercentile(pear_surr_all, p)) * 1\n",
    "    con_trial.loc[\n",
    "        (con_trial.Stim == sc) & (con_trial.Chan == rc) & (con_trial.Artefact < 1), 'Sig_CC'] = sig * sig_mean\n",
    "    con_trial.loc[\n",
    "        (con_trial.Stim == sc) & (con_trial.Chan == rc) & (con_trial.Artefact < 1), 'LL_onset'] = LL\n",
    "    return con_trial"
   ]
  },
  {
   "cell_type": "markdown",
   "id": "modified-denial",
   "metadata": {},
   "source": [
    "## AUC "
   ]
  },
  {
   "cell_type": "code",
   "execution_count": null,
   "id": "original-attraction",
   "metadata": {},
   "outputs": [],
   "source": [
    "con_trial_surr = con_trial.copy()"
   ]
  },
  {
   "cell_type": "code",
   "execution_count": null,
   "id": "coral-biology",
   "metadata": {},
   "outputs": [],
   "source": [
    "np.random.shuffle(con_trial_surr['Hour'].values)"
   ]
  },
  {
   "cell_type": "code",
   "execution_count": null,
   "id": "passive-account",
   "metadata": {},
   "outputs": [],
   "source": []
  },
  {
   "cell_type": "code",
   "execution_count": null,
   "id": "transsexual-terrorism",
   "metadata": {},
   "outputs": [],
   "source": [
    "con_trial_surr"
   ]
  },
  {
   "cell_type": "code",
   "execution_count": null,
   "id": "touched-bankruptcy",
   "metadata": {},
   "outputs": [],
   "source": [
    "# stims = np.zeros((len(labels_all), 1))\n",
    "# stims[:,0] = np.arange(len(labels_all))\n",
    "# M_CCp_surr = np.zeros((len(labels_all), 2))\n",
    "# M_CC_LL_surr = np.zeros((len(labels_all), 2))+2\n",
    "# np.concatenate([stims,M_CCp_surr,M_CC_LL_surr],1)"
   ]
  },
  {
   "cell_type": "code",
   "execution_count": null,
   "id": "formed-muslim",
   "metadata": {},
   "outputs": [],
   "source": [
    "file_auc= path_patient_analysis + '\\\\' + folder + '/' + cond_folder + '/data/AUC_connection.csv'"
   ]
  },
  {
   "cell_type": "code",
   "execution_count": null,
   "id": "narrow-allergy",
   "metadata": {},
   "outputs": [],
   "source": [
    "subj = 'EL011'\n",
    "file_AUC = path_patient_analysis + '\\\\InputOutput/' + cond_folder + '/data/AUC_connection.csv'\n",
    "AUC_all = pd.read_csv(file_AUC)"
   ]
  },
  {
   "cell_type": "code",
   "execution_count": null,
   "id": "continuing-works",
   "metadata": {},
   "outputs": [],
   "source": [
    "AUC_all  = AUC_all.drop(columns='d')"
   ]
  },
  {
   "cell_type": "code",
   "execution_count": null,
   "id": "aware-hopkins",
   "metadata": {},
   "outputs": [],
   "source": [
    "AUC_all"
   ]
  },
  {
   "cell_type": "code",
   "execution_count": null,
   "id": "local-surgery",
   "metadata": {
    "scrolled": true
   },
   "outputs": [],
   "source": [
    "BM_all"
   ]
  },
  {
   "cell_type": "code",
   "execution_count": null,
   "id": "statistical-ontario",
   "metadata": {},
   "outputs": [],
   "source": [
    "data_AUC_Prob = pd.merge(BM_all, AUC_all, on =['Stim', 'Chan', 'SleepState'])"
   ]
  },
  {
   "cell_type": "code",
   "execution_count": null,
   "id": "fancy-mystery",
   "metadata": {},
   "outputs": [],
   "source": [
    "con_trial_sig = con_trial[(con_trial.Sig >-1)& (con_trial.d > -10)]\n",
    "\n",
    "con_trial_sig.insert(4, 'LL_sig', np.nan)\n",
    "con_trial_sig.loc[con_trial_sig.Sig == 1, 'LL_sig'] = con_trial_sig.loc[con_trial_sig.Sig == 1, 'LL']\n",
    "summ = con_trial_sig[(con_trial_sig.Sig > -1)]  # only possible connections\n",
    "summ_AUC = summ.groupby(['Stim', 'Chan', 'SleepState'], as_index=False)[['Sig', 'LL_sig', 'd']].mean()\n",
    "#summ = summ.groupby(['Stim', 'Chan'], as_index=False)[['Sig', 'LL_sig', 'd']].mean()\n",
    "summ_all = summ_AUC[np.isin(summ_AUC.Stim, np.unique(AUC_all.Stim))]\n",
    "\n",
    "\n",
    "# \n",
    "summ_AUC = summ.groupby(['Stim', 'Chan'], as_index=False)[['Sig', 'LL_sig', 'd']].mean()\n",
    "summ_AUC.insert(4,'SleepState', 'All')\n",
    "summ_sleep = summ_AUC[np.isin(summ_AUC.Stim, np.unique(AUC_all.Stim))]\n",
    "BM_all = pd.concat([summ_sleep, summ_all])\n",
    "data_AUC_Prob = pd.merge(BM_all, AUC_all, on =['Stim', 'Chan', 'SleepState'])"
   ]
  },
  {
   "cell_type": "code",
   "execution_count": null,
   "id": "active-practice",
   "metadata": {},
   "outputs": [],
   "source": [
    "data_AUC_Prob"
   ]
  },
  {
   "cell_type": "code",
   "execution_count": null,
   "id": "assisted-europe",
   "metadata": {},
   "outputs": [],
   "source": [
    "stims = np.unique(data_AUC_Prob.Stim)"
   ]
  },
  {
   "cell_type": "code",
   "execution_count": null,
   "id": "phantom-nancy",
   "metadata": {},
   "outputs": [],
   "source": [
    "plt.figure(figsize=(20,10))\n",
    "sc = stims[3].astype('int')\n",
    "\n",
    "data_plot = data_AUC_Prob[(data_AUC_Prob.Stim==sc)&(data_AUC_Prob.SleepState=='Wake')&(data_AUC_Prob.Sig>0)]\n",
    "plt.title(labels_all[sc], fontsize=30)\n",
    "plt.scatter(data_plot.d, data_plot.AUC, label ='AUC', s= 100)\n",
    "plt.scatter(data_plot.d, data_plot.Sig, label ='Probability', s = 100)\n",
    "plt.legend(fontsize=20)\n",
    "# sns.scatterplot(x='d', y='AUC',data=, s= 100 )\n",
    "# sns.scatterplot(x='d', y='Sig',data=data_AUC_Prob[(data_AUC_Prob.Stim==sc)&(data_AUC_Prob.SleepState=='Wake')&(data_AUC_Prob.Sig>0)], s= 100 )\n",
    "\n",
    "plt.ylabel('AUC', fontsize=20)\n",
    "plt.xlabel('distance [mm]', fontsize=20)\n",
    "plt.xticks([0, 50, 100], fontsize=20)\n",
    "plt.yticks([0, 0.5, 1], fontsize=20)"
   ]
  },
  {
   "cell_type": "code",
   "execution_count": null,
   "id": "further-margin",
   "metadata": {},
   "outputs": [],
   "source": [
    "plt.figure(figsize=(20,10))\n",
    "sc = 7\n",
    "plt.title(labels_all[sc], fontsize=30)\n",
    "sns.scatterplot(x='d', y='AUC', hue='SleepState',data=data_AUC_Prob[(data_AUC_Prob.Stim==sc)&(data_AUC_Prob.SleepState=='Wake')&(data_AUC_Prob.Sig>0)], s= 100 )\n",
    "plt.ylabel('Probability', fontsize=20)\n",
    "plt.xlabel('AUC', fontsize=20)\n",
    "plt.xticks([0, 0.5, 1], fontsize=20)\n",
    "plt.yticks([0, 0.5, 1], fontsize=20)"
   ]
  },
  {
   "cell_type": "code",
   "execution_count": null,
   "id": "foreign-utility",
   "metadata": {},
   "outputs": [],
   "source": [
    "plt.figure(figsize=(20,10))\n",
    "sc = 7\n",
    "plt.title(labels_all[sc], fontsize=30)\n",
    "sns.scatterplot(x='AUC', y='Sig', hue='SleepState',data=data_AUC_Prob[(data_AUC_Prob.Stim==sc)&(data_AUC_Prob.Sig>0)], s= 100 )\n",
    "plt.ylabel('Probability', fontsize=20)\n",
    "plt.xlabel('AUC', fontsize=20)\n",
    "plt.xticks([0, 0.5, 1], fontsize=20)\n",
    "plt.yticks([0, 0.5, 1], fontsize=20)"
   ]
  },
  {
   "cell_type": "code",
   "execution_count": null,
   "id": "liquid-kitchen",
   "metadata": {},
   "outputs": [],
   "source": [
    "sig_labels = ['Non-Sig', 'Sig']"
   ]
  },
  {
   "cell_type": "code",
   "execution_count": null,
   "id": "racial-aurora",
   "metadata": {},
   "outputs": [],
   "source": [
    "dat = sig_con.loc[(sig_con.Stim == sc) & (sig_con.Chan == rc)]\n",
    "dat"
   ]
  },
  {
   "cell_type": "code",
   "execution_count": null,
   "id": "confused-introduction",
   "metadata": {},
   "outputs": [],
   "source": [
    "dat = sig_con.loc[(sig_con.Stim == sc) & (sig_con.Chan == rc)]\n",
    "if dat.Sig_CC_LL.values[0]:\n",
    "    thr = 1.1*surr_thr.loc[surr_thr.Chan==rc,'CC_LL99'].values[0]\n",
    "    M_GT = M_GT_all[sc, rc, :, :]\n",
    "    if len(np.where(dat[['CC_LL1','CC_LL2']].values[0][:]<thr)[0][:]+1)>0:\n",
    "        M_GT = np.delete(M_GT,np.where(dat[['CC_LL1','CC_LL2']].values[0][:]<thr)[0][:]+1, 0)\n",
    "\n",
    "    # M_GT[np.where(dat[['CC_LL1','CC_LL2']].values[0][:]<thr)[0][:]+1,:] = np.nan\n",
    "    t_resp = dat.t_onset.values[0]"
   ]
  },
  {
   "cell_type": "code",
   "execution_count": null,
   "id": "complex-commerce",
   "metadata": {
    "scrolled": true
   },
   "outputs": [],
   "source": [
    "for i in range(M_GT.shape[0]):\n",
    "    plt.plot(x_ax, M_GT[i])\n",
    "plt.axvline(0)\n",
    "plt.axvspan(t_resp, t_resp+0.25, alpha=0.1)\n",
    "plt.xlim([-0.5,1])"
   ]
  },
  {
   "cell_type": "code",
   "execution_count": null,
   "id": "suffering-sherman",
   "metadata": {},
   "outputs": [],
   "source": [
    "bad_trials = np.zeros((3,1))\n",
    "bad_trials[:,0] =[4419.,  7265., 10259.] "
   ]
  },
  {
   "cell_type": "code",
   "execution_count": null,
   "id": "floral-tutorial",
   "metadata": {},
   "outputs": [],
   "source": [
    "bad_trials =pd.DataFrame(bad_trials, columns=['Bad_trial'])"
   ]
  },
  {
   "cell_type": "code",
   "execution_count": null,
   "id": "infrared-austin",
   "metadata": {},
   "outputs": [],
   "source": [
    "bad_trials.insert(1,'Reason', 'TTL')"
   ]
  },
  {
   "cell_type": "code",
   "execution_count": null,
   "id": "ruled-vertex",
   "metadata": {},
   "outputs": [],
   "source": [
    "bad_trials.to_csv(path_patient_analysis + '\\\\' + folder + '/data/badtrial.csv', header=True, index=False)"
   ]
  },
  {
   "cell_type": "code",
   "execution_count": null,
   "id": "documented-worcester",
   "metadata": {},
   "outputs": [],
   "source": [
    "con_trial.loc[np.isin(con_trial.Num, bad_trials.Bad_trial.values), 'Artefact'] =1"
   ]
  },
  {
   "cell_type": "code",
   "execution_count": null,
   "id": "chronic-occurrence",
   "metadata": {},
   "outputs": [],
   "source": [
    "np.where(np.isin(con_trial.Num, bad_trials.Bad_trial.values))"
   ]
  },
  {
   "cell_type": "code",
   "execution_count": null,
   "id": "outside-crime",
   "metadata": {},
   "outputs": [],
   "source": [
    " bad_trials.Bad_trial.values"
   ]
  },
  {
   "cell_type": "code",
   "execution_count": null,
   "id": "recognized-syndication",
   "metadata": {},
   "outputs": [],
   "source": [
    "con_trial[(con_trial.Stim == sc) & (con_trial.Chan == rc) & (con_trial.Artefact <1)& (con_trial.Sig ==0)]"
   ]
  },
  {
   "cell_type": "code",
   "execution_count": null,
   "id": "removed-dragon",
   "metadata": {},
   "outputs": [],
   "source": [
    "dat"
   ]
  },
  {
   "cell_type": "code",
   "execution_count": null,
   "id": "figured-prefix",
   "metadata": {},
   "outputs": [],
   "source": [
    "channels = np.array([[49,38],[49,44],[19,16],[14,19],[14,0],[16,19],[3, 0],[16,14],[0,3],[65,85],[85,65],[38,49],[18,65],[18,85],[18,0],[29,9],[29,1],[19,85],[19,65]])\n",
    "\n",
    "channels = np.array([[49,38],[49,44],[19,16],[14,19],[14,0],[16,19],[3, 0],[16,14],[0,3],[65,85],[85,65],[38,49],[18,65],[18,85],[18,0],[29,9],[29,1],[19,85],[19,65]])\n",
    "for n_c in range(len(channels)):\n",
    "    sc = channels[n_c,0]\n",
    "    rc = channels[n_c,1]\n",
    "    dat = con_trial[(con_trial.Stim == sc) & (con_trial.Chan == rc) & (con_trial.Artefact == 0)]\n",
    "    if len(dat)>0:\n",
    "        dat_c = sig_con.loc[(sig_con.Stim == sc) & (sig_con.Chan == rc)]\n",
    "        t_resp = dat_c.t_onset.values[0]\n",
    "        fig = plt.figure(figsize=(8, 12))\n",
    "        fig.patch.set_facecolor('xkcd:white')\n",
    "        plt.suptitle(labels_all[sc] + ' -- ' + labels_all[rc]+', Prob: '+str(np.round(dat.Sig.mean()*100,1))+'%', fontsize=30)\n",
    "        stimNum_all = dat.Num.values.astype('int')\n",
    "        ylim = 1.6*np.percentile(abs(EEG_CR[rc, stimNum_all,500:750]), 99)\n",
    "        print(ylim)\n",
    "        gs = fig.add_gridspec(2,1)  # GridSpec(4,1, height_ratios=[1,2,1,2])\n",
    "        # ylim = 1000\n",
    "        for sig,ix in zip([0,1],[0,1]):\n",
    "            dat = con_trial[(con_trial.Stim == sc) & (con_trial.Chan == rc) & (con_trial.Artefact <1)& (con_trial.Sig ==sig)]\n",
    "            stimNum_all = dat.Num.values.astype('int')\n",
    "            fig.add_subplot(gs[ix,0])\n",
    "            plt.title(sig_labels[ix], fontsize=20)\n",
    "            if len(stimNum_all)>0:\n",
    "                mn = ff.lp_filter(np.nanmean(EEG_CR[rc, stimNum_all, :], 0),45,Fs)\n",
    "                for i in range(np.min([50, len(stimNum_all)])):\n",
    "                    # i = np.random.choice(stimNum_all,(1))\n",
    "                    plt.plot(x_ax, ff.lp_filter(EEG_CR[rc,stimNum_all[i],:],45,Fs), color=color_elab[0], alpha=0.9)\n",
    "                plt.plot(x_ax, mn, color= [0,0,0], linewidth= 5, label='n: '+str(len(stimNum_all)), alpha=0.5)\n",
    "\n",
    "            plt.xlim([-0.5,1])\n",
    "            plt.axvline(0,color= [1,0,0], linewidth=4)\n",
    "            plt.ylim([-ylim,ylim])\n",
    "            plt.xticks([])\n",
    "            plt.legend(fontsize=20)\n",
    "            plt.axvspan(t_resp, t_resp+0.25, alpha=0.1)\n",
    "            plt.yticks([-500,0,500],fontsize=20)\n",
    "            plt.ylabel('uV',fontsize=22)\n",
    "        plt.xticks([-0.5,0,0.5, 1], fontsize=20)\n",
    "        plt.xlabel('time [s]', fontsize=22)\n",
    "        plt.tight_layout()\n",
    "        plt.savefig(path_patient_analysis+'\\\\BrainMapping\\\\CR\\methods\\\\trial_sig_example\\\\'+labels_all[sc]+'_'+labels_all[rc]+'.svg')\n",
    "        plt.close()"
   ]
  },
  {
   "cell_type": "code",
   "execution_count": null,
   "id": "powered-theology",
   "metadata": {},
   "outputs": [],
   "source": [
    "channels = np.array([[49,38],[49,44],[19,16],[16,19],[3, 0],[16,14],[0,3],[65,85],[85,65],[38,49],[18,65],[18,85],[18,0],[29,9],[29,1],[19,65]])\n",
    "channels = np.array([[49,47]])\n",
    "for n_c in range(len(channels)):\n",
    "    sc = channels[n_c,0]\n",
    "    rc = channels[n_c,1]\n",
    "\n",
    "    t_resp = cc[sc, rc, 0]\n",
    "    w_cluster = 0.25\n",
    "    dat = con_trial[(con_trial.Stim == sc) & (con_trial.Chan == rc) & (con_trial.Artefact == 0)]\n",
    "    stimNum_all = dat.Num.values.astype('int')\n",
    "    fig = plt.figure(figsize=(30, len(methods)*5))\n",
    "    fig.patch.set_facecolor('xkcd:white')\n",
    "    plt.suptitle(labels_all[sc] + ' -- ' + labels_all[rc], fontsize=30)\n",
    "\n",
    "    gs = fig.add_gridspec(len(methods), 3, width_ratios=[1, 2, 2])  # GridSpec(4,1, height_ratios=[1,2,1,2])\n",
    "    M_GT = np.zeros((2,2000))\n",
    "    if len(stimNum_all) > 0:\n",
    "        # get overall mean and two clusters\n",
    "        EEG_trial = ff.lp_filter(EEG_CR[rc, stimNum_all, :], 45, Fs)\n",
    "        # EEG_trial = signal.resample(EEG_trial, int(num_rs), axis=1)\n",
    "        LL_trials = LLf.get_LL_all(np.expand_dims(EEG_trial,0), Fs, w_cluster)\n",
    "        ylim = np.max([np.min([800,1.1*np.max(abs(EEG_trial[:,500:1000]))]),200])\n",
    "        for m in range(len(methods)):\n",
    "            method = methods[m]\n",
    "            cc, y = dba_cluster(EEG_trial[:, int((t_0 + t_resp) * Fs):int((t_0 + t_resp + w_cluster) * Fs)], n_cluster, method)\n",
    "            M_GT[0,int((t_0 + t_resp) * Fs):int((t_0 + t_resp + w_cluster) * Fs)] =cc[0]\n",
    "            M_GT[1,int((t_0 + t_resp) * Fs):int((t_0 + t_resp + w_cluster) * Fs)] =cc[1]\n",
    "            pear_surr_all = []\n",
    "            pear_surr = np.zeros((len(EEG_trial)))-1\n",
    "            for t_test in [0, 0.1, 0.2, 0.5, 1.5, 2, 2.5]:\n",
    "                for i in range(len(M_GT)):\n",
    "                    pear_surr = np.max([pear_surr, sig_func.get_pearson2mean(M_GT[i, :], EEG_trial, tx=t_0 + t_resp, ty=t_test, win=w_cluster,\n",
    "                                                 Fs=500)],0)\n",
    "                LL = LL_trials[0, :, int((t_test + w_cluster / 2) * Fs)]\n",
    "                pear_surr_LL = np.sign(pear_surr) * abs(pear_surr ** 2) * LL  #*np.sqrt(LL)\n",
    "                pear_surr_all = np.concatenate([pear_surr_all, pear_surr_LL])\n",
    "            # real\n",
    "            t_test = t_0 + t_resp\n",
    "            pear = np.zeros((len(EEG_trial)))-1\n",
    "            for i in range(len(M_GT)):\n",
    "                    pear = np.max([pear, sig_func.get_pearson2mean(M_GT[i, :], EEG_trial, tx=t_0 + t_resp, ty=t_test, win=w_cluster,\n",
    "                                                 Fs=500)],0)\n",
    "            LL = np.max(LL_trials[0, :, int((t_test + w_cluster / 2) * Fs):int((t_test + w_cluster) * Fs)],1)\n",
    "            # pear = np.arctanh(np.max([pear,pear2],0))*LL#np.sign(np.max([pear,pear2],0))*abs(np.max([pear,pear2],0)**exp)*LL\n",
    "            pear_test = np.sign(pear) * abs(pear ** 2) * LL  #*np.sqrt(LL), np.arctanh(pear)*LL # \n",
    "            sig_vals = (pear_test >= np.nanpercentile(pear_surr_all, 95)) * 1\n",
    "\n",
    "            fig.add_subplot(gs[m, 0])\n",
    "            # plt.title('Surrogate Testing', fontsize=20)\n",
    "            plt.hist(pear_surr_all, label='surr', color=[0, 0, 0], alpha=0.3)\n",
    "            plt.axvline(np.nanpercentile(pear_surr_all, 95), color=[1, 0, 0], label='95th')\n",
    "            plt.hist(pear_test, label='trials', color=color_elab[0], alpha=0.8)\n",
    "            #plt.hist(pear[sig==0],color=color_elab[0], alpha= 0.8)\n",
    "\n",
    "            # plt.hist(pear[sig_vals == 1], color=color_elab[2], alpha=0.8)\n",
    "            plt.xticks(fontsize=15)\n",
    "            plt.yticks(fontsize=15)\n",
    "            if m ==1: plt.xlabel('Pearson Correlation  *  LL', fontsize=20)\n",
    "            plt.ylabel(method +' - clustering', fontsize=20)\n",
    "            plt.legend(fontsize=15)\n",
    "            for n_sig in range(2):\n",
    "                fig.add_subplot(gs[m, n_sig+1])\n",
    "                ix_sig = np.where([sig_vals == n_sig])[1] * 1\n",
    "                if len(ix_sig) > 0:\n",
    "                    mn = np.nanmean(EEG_trial[ix_sig, :], 0)\n",
    "                    for i in range(1, np.min([10, len(ix_sig)])):\n",
    "                        plt.plot(x_ax, EEG_trial[ix_sig[i]], color=color_elab[0], alpha=0.9)\n",
    "                    plt.plot(x_ax, mn, color= [0,0,0], linewidth= 5, label='n: '+str(np.sum(sig_vals==n_sig)))\n",
    "                    f = 100*m+1\n",
    "                    plt.plot(x_ax, M_GT[0, :]*f, color= [1,0,0], linewidth= 2, label='CC1')\n",
    "                    plt.plot(x_ax, M_GT[1, :]*f, color= [0.5,0.2,0], linewidth= 2, label='CC2')\n",
    "                    #plt.plot(x_ax, ff.lp_filter(np.nanmean(EEG_trials[0,ix_sig,:],0),45,Fs), color=[0,0,0] )\n",
    "                    plt.axvline(0, color=[1,0,0])\n",
    "                    plt.axvline(t_resp,color=[0,0,0])\n",
    "                    plt.legend()\n",
    "                    plt.xlim([-0.5,1.5])\n",
    "                    if m ==1: plt.xlabel('time [s]', fontsize=20)\n",
    "\n",
    "                    if m ==0: plt.title(sig_label[n_sig]+ ' Trials', fontsize=20)\n",
    "                    plt.ylim([-ylim, ylim])\n",
    "                    plt.axvline(t_resp,color=[0,0,0])\n",
    "\n",
    "\n",
    "    plt.savefig('Y:\\\\eLab\\\\EvM\\\\Projects\\\\EL_experiment\\\\Methods\\\\BrainMapping\\\\Significant_Connection\\\\Cluster_algorithm\\\\'+subj+'_'+labels_all[sc]+'_'+labels_all[rc]+'_surrTest.jpg')\n",
    "    plt.close()"
   ]
  },
  {
   "cell_type": "markdown",
   "id": "controlled-logic",
   "metadata": {},
   "source": [
    "## Cluster trials into 2-3 groups"
   ]
  },
  {
   "cell_type": "code",
   "execution_count": null,
   "id": "ordinary-franchise",
   "metadata": {},
   "outputs": [],
   "source": [
    "Fs_rs = 100\n",
    "num_rs = int(2000 / Fs * Fs_rs)\n",
    "n_cluster = 2\n",
    "t_0 = 1\n",
    "t_resp = 0\n",
    "w_cluster = 1\n",
    "method = 'euclidean'\n",
    "x_ax_C = np.linspace(0,1,Fs_rs)\n",
    "x_ax_rs = np.linspace(-1,3,4*Fs_rs)\n",
    "methods = ['dtw', 'euclidean', 'shape']"
   ]
  },
  {
   "cell_type": "code",
   "execution_count": null,
   "id": "difficult-formula",
   "metadata": {},
   "outputs": [],
   "source": [
    "from tslearn.clustering import TimeSeriesKMeans, KShape\n",
    "import Cluster_func as Cf"
   ]
  },
  {
   "cell_type": "code",
   "execution_count": null,
   "id": "aboriginal-melbourne",
   "metadata": {},
   "outputs": [],
   "source": [
    "def dba_cluster(X, n=2, method = 'euclidean'):\n",
    "    X = np.expand_dims(X,-1)\n",
    "    if method == 'shape':\n",
    "        ks = KShape(n_clusters=n, n_init=1, random_state=0).fit(X)\n",
    "    else:\n",
    "        ks  = TimeSeriesKMeans(n_clusters=n, metric=method, max_iter=10, max_iter_barycenter=10, random_state=0).fit(X)\n",
    "    cc      = ks.cluster_centers_\n",
    "    y       = ks.predict(X)\n",
    "    return cc[:, :, 0], y"
   ]
  },
  {
   "cell_type": "code",
   "execution_count": null,
   "id": "professional-survival",
   "metadata": {},
   "outputs": [],
   "source": [
    "sc = 3\n",
    "rc = 0\n",
    "\n",
    "dat = con_trial[(con_trial.Stim == sc) & (con_trial.Chan == rc) & (con_trial.Artefact == 0)]\n",
    "stimNum_all = dat.Num.values.astype('int')\n",
    "\n",
    "if len(stimNum_all) > 0:\n",
    "    # get overall mean and two clusters\n",
    "    EEG_trial = ff.lp_filter(EEG_CR[rc, stimNum_all, :], 45, Fs)\n",
    "    EEG_trial = signal.resample(EEG_trial, int(num_rs), axis=1)"
   ]
  },
  {
   "cell_type": "code",
   "execution_count": null,
   "id": "vietnamese-lodging",
   "metadata": {},
   "outputs": [],
   "source": [
    "colors_cluster = np.zeros((2,3))\n",
    "colors_cluster[0] =color_elab[0]\n",
    "colors_cluster[1] =color_elab[2]"
   ]
  },
  {
   "cell_type": "code",
   "execution_count": null,
   "id": "incomplete-league",
   "metadata": {},
   "outputs": [],
   "source": [
    "channels = np.array([[3, 0],[16,14],[0,3],[65,85],[85,65],[38,49],[18,65],[18,85],[18,0],[29,9],[29,1],[19,65]])\n",
    "for n_c in range(len(channels)):\n",
    "    sc = channels[n_c,0]\n",
    "    rc = channels[n_c,1]\n",
    "    dat = con_trial[(con_trial.Stim == sc) & (con_trial.Chan == rc) & (con_trial.Artefact == 0)]\n",
    "    stimNum_all = dat.Num.values.astype('int')\n",
    "\n",
    "    if len(stimNum_all) > 0:\n",
    "        # get overall mean and two clusters\n",
    "        EEG_trial = ff.lp_filter(EEG_CR[rc, stimNum_all, :], 45, Fs)\n",
    "        EEG_trial = signal.resample(EEG_trial, int(num_rs), axis=1)\n",
    "        \n",
    "        ### figure\n",
    "    fig = plt.figure(figsize=(25, 15))\n",
    "    fig.patch.set_facecolor('xkcd:white')\n",
    "    plt.suptitle(labels_all[sc] + ' -- ' + labels_all[rc], fontsize=30)\n",
    "    k = 3\n",
    "    gs = fig.add_gridspec(len(methods), 2, width_ratios=[1, 2])  # GridSpec(4,1, height_ratios=[1,2,1,2])\n",
    "    ylim = 200\n",
    "    for m in range(len(methods)):\n",
    "        method = methods[m]\n",
    "        cc, y = dba_cluster(\n",
    "            EEG_trial[:, int((t_0 + t_resp) * Fs_rs):int((t_0 + t_resp + w_cluster) * Fs_rs)], n_cluster, method)\n",
    "        ## hypnogram\n",
    "        fig.add_subplot(gs[m, 0])\n",
    "        if m ==0: plt.title('Cluster Centroids', fontsize = 20)\n",
    "        for i in range(len(cc)):\n",
    "            plt.plot(x_ax_C,cc[i], linewidth=4, color= colors_cluster[i])\n",
    "\n",
    "        if m ==len(methods)-1: \n",
    "            plt.xticks([0,0.5, 1], fontsize=15)\n",
    "            plt.xlabel('times [s]', fontsize = 20)\n",
    "        else:\n",
    "            plt.xticks([])\n",
    "        plt.ylabel(method, fontsize=20)\n",
    "\n",
    "        plt.axvline(0, linewidth=3, color=[0,0,0])\n",
    "        ## hypnogram\n",
    "        if m ==0: \n",
    "            ax_m = fig.add_subplot(gs[m, 1])\n",
    "            plt.title('Mean of trials within one cluster', fontsize = 20)\n",
    "        else:\n",
    "            fig.add_subplot(gs[m, 1], sharey = ax_m)\n",
    "        for i in range(len(cc)):\n",
    "            plt.plot(x_ax_rs,np.nanmean(EEG_trial[y == i, :], 0), linewidth=4, label = 'Cluster'+str(i+1)+', n: '+str(np.sum(y==i)), color= colors_cluster[i])\n",
    "            ylim = np.max([ylim, np.max(abs(np.nanmean(EEG_trial[y == i, :], 0)))])\n",
    "        plt.plot(x_ax_rs,np.nanmean(EEG_trial, 0), color=[0,0,0], linewidth=4, alpha=0.3, label = 'Mean')\n",
    "        plt.legend(loc = 'lower left', fontsize=15)\n",
    "        plt.axvspan(0,1,alpha=0.1)\n",
    "        plt.xlim([-0.5,1.5])\n",
    "        plt.axvline(0, linewidth=3, color=[0,0,0])\n",
    "        if m ==len(methods)-1: \n",
    "            plt.xticks([-0.5,0,0.5, 1,1.5], fontsize=15)\n",
    "            plt.xlabel('times [s]', fontsize = 20)\n",
    "        else:\n",
    "            plt.xticks([])\n",
    "    plt.savefig('Y:\\\\eLab\\\\EvM\\\\Projects\\\\EL_experiment\\\\Methods\\\\BrainMapping\\\\Significant_Connection\\\\Cluster_algorithm\\\\'+subj+'_'+labels_all[sc]+'_'+labels_all[rc]+'.jpg')\n",
    "    plt.close()"
   ]
  },
  {
   "cell_type": "code",
   "execution_count": null,
   "id": "focused-macro",
   "metadata": {},
   "outputs": [],
   "source": [
    "### figure\n",
    "fig = plt.figure(figsize=(25, 15))\n",
    "fig.patch.set_facecolor('xkcd:white')\n",
    "plt.suptitle(labels_all[sc] + ' -- ' + labels_all[rc], fontsize=30)\n",
    "k = 3\n",
    "gs = fig.add_gridspec(len(methods), 2, width_ratios=[1, 2])  # GridSpec(4,1, height_ratios=[1,2,1,2])\n",
    "ylim = 200\n",
    "for m in range(len(methods)):\n",
    "    method = methods[m]\n",
    "    cc, y = dba_cluster(\n",
    "        EEG_trial[:, int((t_0 + t_resp) * Fs_rs):int((t_0 + t_resp + w_cluster) * Fs_rs)], n_cluster, method)\n",
    "    ## hypnogram\n",
    "    fig.add_subplot(gs[m, 0])\n",
    "    if m ==0: plt.title('Cluster Centroids', fontsize = 20)\n",
    "    for i in range(len(cc)):\n",
    "        plt.plot(x_ax_C,cc[i], linewidth=4, color= colors_cluster[i])\n",
    "\n",
    "    if m ==len(methods)-1: \n",
    "        plt.xticks([0,0.5, 1], fontsize=15)\n",
    "        plt.xlabel('times [s]', fontsize = 20)\n",
    "    else:\n",
    "        plt.xticks([])\n",
    "    plt.ylabel(method, fontsize=20)\n",
    "        \n",
    "    plt.axvline(0, linewidth=3, color=[0,0,0])\n",
    "    ## hypnogram\n",
    "    if m ==0: \n",
    "        ax_m = fig.add_subplot(gs[m, 1])\n",
    "        plt.title('Mean of trials within one cluster', fontsize = 20)\n",
    "    else:\n",
    "        fig.add_subplot(gs[m, 1], sharey = ax_m)\n",
    "    for i in range(len(cc)):\n",
    "        plt.plot(x_ax_rs,np.nanmean(EEG_trial[y == i, :], 0), linewidth=4, label = 'Cluster'+str(i+1)+', n: '+str(len(y==i)), color= colors_cluster[i])\n",
    "        ylim = np.max([ylim, np.max(abs(np.nanmean(EEG_trial[y == i, :], 0)))])\n",
    "    plt.plot(x_ax_rs,np.nanmean(EEG_trial, 0), color=[0,0,0], linewidth=4, alpha=0.3, label = 'Mean')\n",
    "    plt.legend(loc = 'lower left', fontsize=15)\n",
    "    plt.axvspan(0,1,alpha=0.1)\n",
    "    plt.xlim([-0.5,1.5])\n",
    "    plt.axvline(0, linewidth=3, color=[0,0,0])\n",
    "    if m ==len(methods)-1: \n",
    "        plt.xticks([-0.5,0,0.5, 1,1.5], fontsize=15)\n",
    "        plt.xlabel('times [s]', fontsize = 20)\n",
    "    else:\n",
    "        plt.xticks([])\n",
    "plt.savefig('Y:\\\\eLab\\\\EvM\\\\Projects\\\\EL_experiment\\\\Methods\\\\BrainMapping\\\\Significant_Connection\\\\Cluster_algorithm\\\\'+subj+'_'+labels_all[sc]+'_'+labels_all[rc]+'.jpg')\n",
    "plt.close()"
   ]
  },
  {
   "cell_type": "markdown",
   "id": "acoustic-naples",
   "metadata": {},
   "source": [
    "### trial significance test with 2 methods"
   ]
  },
  {
   "cell_type": "code",
   "execution_count": null,
   "id": "ahead-clark",
   "metadata": {},
   "outputs": [],
   "source": [
    "M_t_resp[0,3]\n"
   ]
  },
  {
   "cell_type": "code",
   "execution_count": null,
   "id": "constitutional-procurement",
   "metadata": {},
   "outputs": [],
   "source": [
    "m = 1"
   ]
  },
  {
   "cell_type": "code",
   "execution_count": null,
   "id": "interior-volleyball",
   "metadata": {},
   "outputs": [],
   "source": [
    "EEG_trial.shape"
   ]
  },
  {
   "cell_type": "code",
   "execution_count": null,
   "id": "earlier-chapter",
   "metadata": {},
   "outputs": [],
   "source": [
    "EEG_trial = ff.lp_filter(EEG_CR[rc, stimNum_all, :], 45, Fs)\n",
    "# EEG_trial = signal.resample(EEG_trial, int(num_rs), axis=1)\n",
    "LL_trials = LLf.get_LL_all(np.expand_dims(EEG_trial,0), Fs, w_cluster)"
   ]
  },
  {
   "cell_type": "code",
   "execution_count": null,
   "id": "polar-account",
   "metadata": {},
   "outputs": [],
   "source": [
    "\n",
    "method = methods[m]\n",
    "cc, y = dba_cluster(\n",
    "    EEG_trial[:, int((t_0 + t_resp) * Fs):int((t_0 + t_resp + w_cluster) * Fs)], n_cluster, method)\n",
    "M_GT[0,int((t_0 + t_resp) * Fs):int((t_0 + t_resp + w_cluster) * Fs)] =cc[0]\n",
    "M_GT[1,int((t_0 + t_resp) * Fs):int((t_0 + t_resp + w_cluster) * Fs)] =cc[1]\n",
    "pear_surr_all = []\n",
    "pear = np.zeros((len(EEG_trial)))-1\n",
    "for t_test in [0, 0.1, 0.2, 0.5, 1.5, 2, 2.5]:\n",
    "    for i in range(len(M_GT)):\n",
    "        pear = np.max([pear, sig_func.get_pearson2mean(M_GT[i, :], EEG_trial, tx=t_0 + t_resp, ty=t_test, win=w_cluster,\n",
    "                                     Fs=500)],0)\n",
    "    LL = LL_trials[0, :, int(t_test + w_cluster / 2) * Fs]\n",
    "    pear_surr = np.sign(pear) * abs(pear ** 2) * LL  #*np.sqrt(LL)\n",
    "    pear_surr_all = np.concatenate([pear_surr_all, pear_surr])\n",
    "        "
   ]
  },
  {
   "cell_type": "code",
   "execution_count": null,
   "id": "silver-fighter",
   "metadata": {},
   "outputs": [],
   "source": [
    "methods = ['euclidean', 'shape']"
   ]
  },
  {
   "cell_type": "code",
   "execution_count": null,
   "id": "dynamic-behavior",
   "metadata": {},
   "outputs": [],
   "source": [
    "sig_label = ['Nonsig', 'Sig']"
   ]
  },
  {
   "cell_type": "code",
   "execution_count": null,
   "id": "underlying-jewelry",
   "metadata": {},
   "outputs": [],
   "source": [
    "pear_surr_all"
   ]
  },
  {
   "cell_type": "code",
   "execution_count": null,
   "id": "handmade-insert",
   "metadata": {},
   "outputs": [],
   "source": [
    "sig_vals"
   ]
  },
  {
   "cell_type": "code",
   "execution_count": null,
   "id": "virtual-pleasure",
   "metadata": {},
   "outputs": [],
   "source": [
    "pear"
   ]
  },
  {
   "cell_type": "code",
   "execution_count": null,
   "id": "yellow-deficit",
   "metadata": {},
   "outputs": [],
   "source": [
    "pear_surr"
   ]
  },
  {
   "cell_type": "code",
   "execution_count": null,
   "id": "authentic-meter",
   "metadata": {},
   "outputs": [],
   "source": [
    "np.max([pear_surr, sig_func.get_pearson2mean(M_GT[i, :], EEG_trial, tx=t_0 + t_resp, ty=t_test, win=w_cluster,\n",
    "                                             Fs=500)],0)"
   ]
  },
  {
   "cell_type": "code",
   "execution_count": null,
   "id": "extreme-dallas",
   "metadata": {},
   "outputs": [],
   "source": [
    "method = methods[m]\n",
    "cc, y = dba_cluster(EEG_trial[:, int((t_0 + t_resp) * Fs):int((t_0 + t_resp + w_cluster) * Fs)], n_cluster, method)\n",
    "M_GT[0,int((t_0 + t_resp) * Fs):int((t_0 + t_resp + w_cluster) * Fs)] =cc[0]\n",
    "M_GT[1,int((t_0 + t_resp) * Fs):int((t_0 + t_resp + w_cluster) * Fs)] =cc[1]\n",
    "pear_surr_all = []\n",
    "pear_surr = np.zeros((len(EEG_trial)))-1"
   ]
  },
  {
   "cell_type": "code",
   "execution_count": null,
   "id": "human-hands",
   "metadata": {},
   "outputs": [],
   "source": [
    "pear_surr = sig_func.get_pearson2mean(M_GT[0, :], EEG_trial, tx=t_0 + t_resp, ty=0, win=w_cluster,\n",
    "                                             Fs=500)"
   ]
  },
  {
   "cell_type": "code",
   "execution_count": null,
   "id": "amino-latvia",
   "metadata": {},
   "outputs": [],
   "source": [
    "pear_surr2 = sig_func.get_pearson2mean(M_GT[1, :], EEG_trial, tx=t_0 + t_resp, ty=0, win=w_cluster,\n",
    "                                             Fs=500)"
   ]
  },
  {
   "cell_type": "code",
   "execution_count": null,
   "id": "continuing-commonwealth",
   "metadata": {},
   "outputs": [],
   "source": [
    "pear_trial = sig_func.get_pearson2mean(M_GT[1, :], EEG_trial, tx=t_0 + t_resp, ty=t_0 + t_resp, win=w_cluster,\n",
    "                                             Fs=500)\n",
    "pear_trial2 = sig_func.get_pearson2mean(M_GT[0, :], EEG_trial, tx=t_0 + t_resp, ty=t_0 + t_resp, win=w_cluster,\n",
    "                                             Fs=500)"
   ]
  },
  {
   "cell_type": "code",
   "execution_count": null,
   "id": "opening-lotus",
   "metadata": {},
   "outputs": [],
   "source": [
    "\n",
    "plt.hist(np.max([pear_surr,pear_surr2],0))\n",
    "plt.hist(np.max([pear_trial,pear_trial2],0))"
   ]
  },
  {
   "cell_type": "code",
   "execution_count": null,
   "id": "suited-hindu",
   "metadata": {},
   "outputs": [],
   "source": [
    "t_test"
   ]
  },
  {
   "cell_type": "code",
   "execution_count": null,
   "id": "chronic-shopper",
   "metadata": {},
   "outputs": [],
   "source": [
    "plt.plot(LL_trials[0,0,:])\n",
    "plt.axvline(int((t_test + w_cluster / 2) * Fs))"
   ]
  },
  {
   "cell_type": "code",
   "execution_count": null,
   "id": "guilty-trailer",
   "metadata": {},
   "outputs": [],
   "source": [
    "EEG_trial"
   ]
  },
  {
   "cell_type": "code",
   "execution_count": null,
   "id": "extraordinary-license",
   "metadata": {},
   "outputs": [],
   "source": [
    "channels = np.array([[49,38],[49,44],[19,16],[16,19],[3, 0],[16,14],[0,3],[65,85],[85,65],[38,49],[18,65],[18,85],[18,0],[29,9],[29,1],[19,65]])\n",
    "channels = np.array([[49,47]])\n",
    "for n_c in range(len(channels)):\n",
    "    sc = channels[n_c,0]\n",
    "    rc = channels[n_c,1]\n",
    "\n",
    "    t_resp = M_t_resp[sc, rc, 0]\n",
    "    w_cluster = 0.25\n",
    "    dat = con_trial[(con_trial.Stim == sc) & (con_trial.Chan == rc) & (con_trial.Artefact == 0)]\n",
    "    stimNum_all = dat.Num.values.astype('int')\n",
    "    fig = plt.figure(figsize=(30, len(methods)*5))\n",
    "    fig.patch.set_facecolor('xkcd:white')\n",
    "    plt.suptitle(labels_all[sc] + ' -- ' + labels_all[rc], fontsize=30)\n",
    "\n",
    "    gs = fig.add_gridspec(len(methods), 3, width_ratios=[1, 2, 2])  # GridSpec(4,1, height_ratios=[1,2,1,2])\n",
    "    M_GT = np.zeros((2,2000))\n",
    "    if len(stimNum_all) > 0:\n",
    "        # get overall mean and two clusters\n",
    "        EEG_trial = ff.lp_filter(EEG_CR[rc, stimNum_all, :], 45, Fs)\n",
    "        # EEG_trial = signal.resample(EEG_trial, int(num_rs), axis=1)\n",
    "        LL_trials = LLf.get_LL_all(np.expand_dims(EEG_trial,0), Fs, w_cluster)\n",
    "        ylim = np.max([np.min([800,1.1*np.max(abs(EEG_trial[:,500:1000]))]),200])\n",
    "        for m in range(len(methods)):\n",
    "            method = methods[m]\n",
    "            cc, y = dba_cluster(EEG_trial[:, int((t_0 + t_resp) * Fs):int((t_0 + t_resp + w_cluster) * Fs)], n_cluster, method)\n",
    "            M_GT[0,int((t_0 + t_resp) * Fs):int((t_0 + t_resp + w_cluster) * Fs)] =cc[0]\n",
    "            M_GT[1,int((t_0 + t_resp) * Fs):int((t_0 + t_resp + w_cluster) * Fs)] =cc[1]\n",
    "            pear_surr_all = []\n",
    "            pear_surr = np.zeros((len(EEG_trial)))-1\n",
    "            for t_test in [0, 0.1, 0.2, 0.5, 1.5, 2, 2.5]:\n",
    "                for i in range(len(M_GT)):\n",
    "                    pear_surr = np.max([pear_surr, sig_func.get_pearson2mean(M_GT[i, :], EEG_trial, tx=t_0 + t_resp, ty=t_test, win=w_cluster,\n",
    "                                                 Fs=500)],0)\n",
    "                LL = LL_trials[0, :, int((t_test + w_cluster / 2) * Fs)]\n",
    "                pear_surr_LL = np.sign(pear_surr) * abs(pear_surr ** 2) * LL  #*np.sqrt(LL)\n",
    "                pear_surr_all = np.concatenate([pear_surr_all, pear_surr_LL])\n",
    "            # real\n",
    "            t_test = t_0 + t_resp\n",
    "            pear = np.zeros((len(EEG_trial)))-1\n",
    "            for i in range(len(M_GT)):\n",
    "                    pear = np.max([pear, sig_func.get_pearson2mean(M_GT[i, :], EEG_trial, tx=t_0 + t_resp, ty=t_test, win=w_cluster,\n",
    "                                                 Fs=500)],0)\n",
    "            LL = np.max(LL_trials[0, :, int((t_test + w_cluster / 2) * Fs):int((t_test + w_cluster) * Fs)],1)\n",
    "            # pear = np.arctanh(np.max([pear,pear2],0))*LL#np.sign(np.max([pear,pear2],0))*abs(np.max([pear,pear2],0)**exp)*LL\n",
    "            pear_test = np.sign(pear) * abs(pear ** 2) * LL  #*np.sqrt(LL), np.arctanh(pear)*LL # \n",
    "            sig_vals = (pear_test >= np.nanpercentile(pear_surr_all, 95)) * 1\n",
    "\n",
    "            fig.add_subplot(gs[m, 0])\n",
    "            # plt.title('Surrogate Testing', fontsize=20)\n",
    "            plt.hist(pear_surr_all, label='surr', color=[0, 0, 0], alpha=0.3)\n",
    "            plt.axvline(np.nanpercentile(pear_surr_all, 95), color=[1, 0, 0], label='95th')\n",
    "            plt.hist(pear_test, label='trials', color=color_elab[0], alpha=0.8)\n",
    "            #plt.hist(pear[sig==0],color=color_elab[0], alpha= 0.8)\n",
    "\n",
    "            # plt.hist(pear[sig_vals == 1], color=color_elab[2], alpha=0.8)\n",
    "            plt.xticks(fontsize=15)\n",
    "            plt.yticks(fontsize=15)\n",
    "            if m ==1: plt.xlabel('Pearson Correlation  *  LL', fontsize=20)\n",
    "            plt.ylabel(method +' - clustering', fontsize=20)\n",
    "            plt.legend(fontsize=15)\n",
    "            for n_sig in range(2):\n",
    "                fig.add_subplot(gs[m, n_sig+1])\n",
    "                ix_sig = np.where([sig_vals == n_sig])[1] * 1\n",
    "                if len(ix_sig) > 0:\n",
    "                    mn = np.nanmean(EEG_trial[ix_sig, :], 0)\n",
    "                    for i in range(1, np.min([10, len(ix_sig)])):\n",
    "                        plt.plot(x_ax, EEG_trial[ix_sig[i]], color=color_elab[0], alpha=0.9)\n",
    "                    plt.plot(x_ax, mn, color= [0,0,0], linewidth= 5, label='n: '+str(np.sum(sig_vals==n_sig)))\n",
    "                    f = 100*m+1\n",
    "                    plt.plot(x_ax, M_GT[0, :]*f, color= [1,0,0], linewidth= 2, label='CC1')\n",
    "                    plt.plot(x_ax, M_GT[1, :]*f, color= [0.5,0.2,0], linewidth= 2, label='CC2')\n",
    "                    #plt.plot(x_ax, ff.lp_filter(np.nanmean(EEG_trials[0,ix_sig,:],0),45,Fs), color=[0,0,0] )\n",
    "                    plt.axvline(0, color=[1,0,0])\n",
    "                    plt.axvline(t_resp,color=[0,0,0])\n",
    "                    plt.legend()\n",
    "                    plt.xlim([-0.5,1.5])\n",
    "                    if m ==1: plt.xlabel('time [s]', fontsize=20)\n",
    "\n",
    "                    if m ==0: plt.title(sig_label[n_sig]+ ' Trials', fontsize=20)\n",
    "                    plt.ylim([-ylim, ylim])\n",
    "                    plt.axvline(t_resp,color=[0,0,0])\n",
    "\n",
    "\n",
    "    plt.savefig('Y:\\\\eLab\\\\EvM\\\\Projects\\\\EL_experiment\\\\Methods\\\\BrainMapping\\\\Significant_Connection\\\\Cluster_algorithm\\\\'+subj+'_'+labels_all[sc]+'_'+labels_all[rc]+'_surrTest.jpg')\n",
    "    plt.close()"
   ]
  },
  {
   "cell_type": "code",
   "execution_count": null,
   "id": "nervous-brain",
   "metadata": {},
   "outputs": [],
   "source": [
    "##againt surrogate\n",
    "t_resp = M_t_resp[sc, rc, 0]\n",
    "# 1. get cluster centers\n",
    "dat = con_trial[(con_trial.Stim == sc) & (con_trial.Chan == rc) & (con_trial.Artefact < 1)]\n",
    "EEG_trials = ff.lp_filter(EEG_CR[[[rc]], dat.Num.values.astype('int'), :], 45, Fs)\n",
    "LL_trials = LLf.get_LL_all(EEG_trials, Fs, w_cluster)\n",
    "\n",
    "\n",
    "# surr\n",
    "exp = 2\n",
    "pear_surr_all = []\n",
    "for t_test in [0, 0.1, 0.2, 0.5, 1.5, 2, 2.5]:\n",
    "    pear = sig_func.get_pearson2mean(M_GT[1, :], EEG_trials[0], tx=t_0 + t_resp, ty=t_test, win=w_cluster,\n",
    "                                     Fs=500)  # Pearson# Pearson\n",
    "    pear2 = sig_func.get_pearson2mean(M_GT[2, :], EEG_trials[0], tx=t_0 + t_resp, ty=t_test, win=w_cluster,\n",
    "                                      Fs=500)  # Pearson# Pearson\n",
    "    LL = LL_trials[0, :, int(t_test + w_cluster / 2) * Fs]\n",
    "    #pear_surr = np.arctanh(np.max([pear,pear2],0))*LL\n",
    "    pear_surr = np.sign(np.max([pear, pear2], 0)) * abs(np.max([pear, pear2], 0) ** exp) * LL  #*np.sqrt(LL)\n",
    "    pear_surr_all = np.concatenate([pear_surr_all, pear_surr])\n",
    "\n",
    "# real\n",
    "t_test = t_0 + t_resp\n",
    "pear = sig_func.get_pearson2mean(M_GT[1, :], EEG_trials[0], tx=t_0 + t_resp, ty=t_test, win=w_cluster,\n",
    "                                 Fs=500)  # Pearson# Pearson\n",
    "pear2 = sig_func.get_pearson2mean(M_GT[2, :], EEG_trials[0], tx=t_0 + t_resp, ty=t_test, win=w_cluster,\n",
    "                                  Fs=500)  # Pearson# Pearson\n",
    "LL = LL_trials[0, :, int(t_test + w_cluster / 2) * Fs]\n",
    "# pear = np.arctanh(np.max([pear,pear2],0))*LL#np.sign(np.max([pear,pear2],0))*abs(np.max([pear,pear2],0)**exp)*LL\n",
    "pear = np.sign(np.max([pear, pear2], 0)) * abs(np.max([pear, pear2], 0) ** exp) * LL  #*np.sqrt(LL)\n",
    "sig = (pear > np.nanpercentile(pear_surr_all, 95)) * 1\n",
    "\n",
    "plt.figure(figsize=(20, 20))\n",
    "plt.title('Surrogate Testing', fontsize=40)\n",
    "plt.hist(pear_surr_all, label='surr', color=[0, 0, 0], alpha=0.3)\n",
    "plt.axvline(np.nanpercentile(pear_surr_all, 95), color=[1, 0, 0], label='95th')\n",
    "plt.hist(pear, label='trials', color=color_elab[0], alpha=0.6)\n",
    "#plt.hist(pear[sig==0],color=color_elab[0], alpha= 0.8)\n",
    "\n",
    "plt.hist(pear[sig == 1], color=color_elab[0], alpha=0.8)\n",
    "plt.xticks(fontsize=30)\n",
    "plt.yticks(fontsize=30)\n",
    "plt.xlabel('Pearson Correlation  *  LL', fontsize=35)\n",
    "plt.legend(fontsize=40)\n",
    "s, t_p = scipy.stats.ttest_ind(pear, pear_surr_all)\n",
    "plt.tight_layout()\n",
    "# plt.savefig(path_patient_analysis+'\\\\' + folder + '\\\\' + cond_folder +'\\\\BM_figures\\\\sig_trials\\\\hist_surr\\\\con_'+str(sc)+'_'+str(rc)+'.jpg')\n",
    "# plt.savefig(path_patient_analysis+'\\\\' + folder + '\\\\' + cond_folder +'\\\\BM_figures\\\\sig_trials\\\\hist_surr\\\\con_'+str(sc)+'_'+str(rc)+'.svg')"
   ]
  },
  {
   "cell_type": "code",
   "execution_count": null,
   "id": "closing-calvin",
   "metadata": {},
   "outputs": [],
   "source": []
  },
  {
   "cell_type": "code",
   "execution_count": null,
   "id": "guided-finder",
   "metadata": {},
   "outputs": [],
   "source": [
    "def search_sequence_numpy(arr, seq):\n",
    "    \"\"\" Find sequence in an array using NumPy only.\n",
    "\n",
    "    Parameters\n",
    "    ----------\n",
    "    arr    : input 1D array\n",
    "    seq    : input 1D array\n",
    "\n",
    "    Output\n",
    "    ------\n",
    "    Output : 1D Array of indices in the input array that satisfy the\n",
    "    matching of input sequence in the input array.\n",
    "    In case of no match, an empty list is returned.\n",
    "    \"\"\"\n",
    "\n",
    "    # Store sizes of input array and sequence\n",
    "    Na, Nseq = arr.size, seq.size\n",
    "\n",
    "    # Range of sequence\n",
    "    r_seq = np.arange(Nseq)\n",
    "\n",
    "    # Create a 2D array of sliding indices across the entire length of input array.\n",
    "    # Match up with the input sequence & get the matching starting indices.\n",
    "    M = (arr[np.arange(Na - Nseq + 1)[:, None] + r_seq] == seq).all(1)\n",
    "\n",
    "    # Get the range of those indices as final output\n",
    "    if M.any() > 0:\n",
    "        return np.where(np.convolve(M, np.ones((Nseq), dtype=int)) > 0)[0]\n",
    "    else:\n",
    "        return []  # No match found"
   ]
  },
  {
   "cell_type": "code",
   "execution_count": null,
   "id": "regulated-tactics",
   "metadata": {},
   "outputs": [],
   "source": [
    "stop"
   ]
  },
  {
   "cell_type": "markdown",
   "id": "opposite-trout",
   "metadata": {},
   "source": [
    "## load sleep data"
   ]
  },
  {
   "cell_type": "code",
   "execution_count": null,
   "id": "alike-process",
   "metadata": {},
   "outputs": [],
   "source": [
    "day = np.unique(con_trial.Date)\n",
    "t0 = np.min(con_trial.loc[(con_trial.Date == day[0]), 'Hour']).astype('int')\n",
    "t1 = np.max(con_trial.loc[(con_trial.Date == day[-1]), 'Hour']).astype('int')\n",
    "total_hour = (len(day) - 1) * 24 - (t0 - t1) + 1\n",
    "\n",
    "if os.path.isfile(path_patient_analysis + '/BrainMapping/CR/data/time_overview.csv'):\n",
    "    time_overview = pd.read_csv(path_patient_analysis + '/BrainMapping/CR/data/time_overview.csv')\n",
    "else:\n",
    "    time_overview = np.zeros((total_hour, 5))\n",
    "    b0 = np.min(con_trial.Block)\n",
    "    time_overview[:, :] = np.nan\n",
    "    time_overview[:, 0] = np.arange(total_hour)\n",
    "    i = 0\n",
    "    h0 = np.bincount(con_trial.loc[con_trial.Block == b0, 'Hour']).argmax()\n",
    "    for b in np.unique(con_trial.Block):\n",
    "        date = np.bincount(con_trial.loc[con_trial.Block == b, 'Date']).argmax()\n",
    "        d = np.where(day == date)[0]\n",
    "        i = np.bincount(con_trial.loc[con_trial.Block == b, 'Hour']).argmax() + d * 24 - h0\n",
    "        time_overview[i, 1] = d\n",
    "        time_overview[i, 2] = np.bincount(con_trial.loc[con_trial.Block == b, 'Hour']).argmax()\n",
    "        time_overview[i, 3] = b\n",
    "        time_overview[i, 4] = b\n",
    "    time_overview = pd.DataFrame(time_overview[:, :4], columns=['ix', 'Day', 'Hour', 'Block'])\n",
    "    time_overview.insert(3, 'Hour_label', 0)\n",
    "    for b in np.unique(time_overview.Block):\n",
    "        if b > 0:\n",
    "            time_overview.loc[time_overview.Block == b, 'Hour_label'] = str(\n",
    "                int(time_overview.loc[time_overview.Block == b, 'Hour'])).zfill(2) + ':00'\n",
    "\n",
    "    time_overview.to_csv(path_patient_analysis + '/BrainMapping/CR/data/time_overview.csv', index=False, header=True)\n",
    "\n",
    "# load hypnogram\n",
    "file_hypno = path_patient_analysis + '/stimlist_hypnogram.csv'\n",
    "if os.path.isfile(file_hypno):\n",
    "    stimlist_hypno = pd.read_csv(file_hypno)\n",
    "#stimlist_hypno.loc[(stimlist_hypno.ix_chron>30)&(stimlist_hypno.ix_chron<45), 'sleep'] = 0\n",
    "for d in range(len(np.unique(stimlist_hypno.date))):\n",
    "    stimlist_hypno.loc[stimlist_hypno.date == np.unique(stimlist_hypno.date)[d], 'ix_chron'] = stimlist_hypno.loc[\n",
    "                                                                                                   stimlist_hypno.date ==\n",
    "                                                                                                   np.unique(\n",
    "                                                                                                       stimlist_hypno.date)[\n",
    "                                                                                                       d], 'ix_h'] + d * 24\n",
    "time_overview.insert(5, 'Hour_chron', time_overview.Hour + time_overview.Day * 24)\n",
    "stimlist_hypno = stimlist_hypno[stimlist_hypno.stim_block > 0]\n",
    "for p in np.unique(stimlist_hypno.Prot):\n",
    "    stimlist_hypno.loc[stimlist_hypno.Prot == p, 'StimNum'] = stimlist_hypno.loc[\n",
    "                                                                  stimlist_hypno.Prot == p, 'StimNum'] - np.min(\n",
    "        stimlist_hypno.loc[stimlist_hypno.Prot == p, 'StimNum'])"
   ]
  },
  {
   "cell_type": "markdown",
   "id": "played-patient",
   "metadata": {},
   "source": [
    "### Blockwise"
   ]
  },
  {
   "cell_type": "code",
   "execution_count": null,
   "id": "large-calibration",
   "metadata": {},
   "outputs": [],
   "source": [
    "non_stim = np.arange(len(labels_all))\n",
    "non_stim = np.delete(non_stim, StimChanIx, 0)\n",
    "WM_chans = np.where(labels_region == 'WM')[0]\n",
    "bad_all = np.unique(np.concatenate([WM_chans, bad_region, bad_chans, non_stim])).astype('int')\n",
    "stim_chans = np.arange(len(labels_all))\n",
    "stim_chans = np.delete(stim_chans, bad_all, 0)"
   ]
  },
  {
   "cell_type": "code",
   "execution_count": null,
   "id": "czech-teddy",
   "metadata": {},
   "outputs": [],
   "source": [
    "con_trial = con_trial.loc[~(np.isin(con_trial.Chan, bad_chans)) & ~(np.isin(con_trial.Stim, bad_chans))]"
   ]
  },
  {
   "cell_type": "code",
   "execution_count": null,
   "id": "frank-franchise",
   "metadata": {},
   "outputs": [],
   "source": [
    "# BM plot\n",
    "labels_region_L = lbls.Hemisphere.values + '_' + labels_region\n",
    "sleep_states = ['W', 'N1', 'N2', 'N3', 'REM']\n",
    "labels_sel = np.delete(labels_all, bad_all, 0)\n",
    "areas_sel = np.delete(labels_region_L, bad_all, 0)\n",
    "# sort\n",
    "ind = np.argsort(areas_sel)\n",
    "areas_sel = np.delete(labels_region, bad_all, 0)\n",
    "labels_sel = labels_sel[ind]\n",
    "areas_sel = areas_sel[ind]"
   ]
  },
  {
   "cell_type": "code",
   "execution_count": null,
   "id": "german-fifth",
   "metadata": {},
   "outputs": [],
   "source": [
    "M_dir_path = path_patient_analysis + '\\\\' + folder + '\\\\' + cond_folder + '\\\\BM_figures\\\\Block\\\\BM_LL.npy'\n",
    "M_B_all = np.load(M_dir_path)"
   ]
  },
  {
   "cell_type": "code",
   "execution_count": null,
   "id": "tropical-shareware",
   "metadata": {},
   "outputs": [],
   "source": [
    "con_trial_sig = con_trial[con_trial.d > -10]\n",
    "con_trial_sig.loc[con_trial_sig.Sig == 1, 'Sig'] = 0\n",
    "con_trial_sig.loc[con_trial_sig.Sig == 2, 'Sig'] = 1\n",
    "con_trial_sig.loc[con_trial_sig.Sig < 0, 'Sig'] = np.nan\n",
    "con_trial_sig.insert(4, 'LL_sig', np.nan)\n",
    "con_trial_sig.loc[con_trial_sig.Sig == 1, 'LL_sig'] = con_trial_sig.loc[con_trial_sig.Sig == 1, 'LL']\n",
    "con_trial_sig = con_trial_sig.drop(columns='LL')\n",
    "con_trial_sig.insert(4, 'LL', con_trial_sig.LL_sig)\n",
    "con_trial_sig.insert(4, 'Prob', con_trial_sig.Sig)\n",
    "con_trial_sig = con_trial_sig.drop(columns='LL_sig')"
   ]
  },
  {
   "cell_type": "code",
   "execution_count": null,
   "id": "british-nevada",
   "metadata": {},
   "outputs": [],
   "source": [
    "np.min([y/x[i],x[i] /y],0)"
   ]
  },
  {
   "cell_type": "code",
   "execution_count": null,
   "id": "governing-magazine",
   "metadata": {},
   "outputs": [],
   "source": [
    "x = np.linspace(0, 100, 50)/100\n",
    "y = np.linspace(0, 100, 50)/100\n",
    "c = np.zeros((3, len(x), len(x)))\n",
    "for i in range(len(x)):\n",
    "    c[0,i,:]= x[i] -y\n",
    "    c[1,i,:]= (1-np.min([y/x[i],x[i] /y],0)) * np.sign(x[i] -y)\n",
    "    c[2,i,:]= (1-np.min([y/x[i],x[i] /y],0))* (x[i] -y)\n",
    "c[:,0,:] = -1\n",
    "c[:,:,0] = 1"
   ]
  },
  {
   "cell_type": "code",
   "execution_count": null,
   "id": "suitable-salvation",
   "metadata": {
    "scrolled": true
   },
   "outputs": [],
   "source": [
    "fig = plt.figure(figsize=(17,5))\n",
    "gs = fig.add_gridspec(1, 4, width_ratios=[10,10,10,1])\n",
    "for i in range(3):\n",
    "    ax = fig.add_subplot(gs[0, i])\n",
    "    plt.pcolormesh(x,y,-c[i], cmap='seismic',shading='nearest')\n",
    "    plt.xticks([0,1], ['0', '100'], fontsize=20)\n",
    "    \n",
    "    plt.xlabel('Probability A -> B', fontsize=25)\n",
    "    if i ==0:\n",
    "        plt.ylabel('Probability B -> A', fontsize=25)\n",
    "        plt.yticks([0,1], ['0', '100'], fontsize=20)\n",
    "    else:\n",
    "        plt.yticks([])\n",
    "    ax.set_aspect('equal', 'box')\n",
    "        \n",
    "cax = fig.add_subplot(gs[0, 3])\n",
    "cbar = plt.colorbar(cax=cax, ticks=[-1, 0, 1])\n",
    "plt.ylabel('Directionality Index', fontsize=25)\n",
    "cbar.ax.tick_params(labelsize=20)\n",
    "plt.tight_layout()\n",
    "# cbar.ax.set_xticklabels(['-1','0','1'],fontsize=25)  # horizontal colorbar\n",
    "plt.savefig('Y:\\eLab\\EvM\\Projects\\EL_experiment\\Methods\\BrainMapping\\Sig_Cons\\DI.svg')\n",
    "plt.savefig('Y:\\eLab\\EvM\\Projects\\EL_experiment\\Methods\\BrainMapping\\Sig_Cons\\DI.jpg')\n",
    "plt.show()"
   ]
  },
  {
   "cell_type": "code",
   "execution_count": null,
   "id": "based-glory",
   "metadata": {},
   "outputs": [],
   "source": [
    "x = np.linspace(-1,1)\n",
    "y1 = x\n",
    "y2 = np.sign(x)*x**2\n",
    "\n",
    "plt.figure(figsize=(10,10))\n",
    "plt.plot(x,y1, '--', color=[0,0,0], linewidth=4, label = 'y = x')\n",
    "plt.plot(x,y2, color=[0,0,0], linewidth=6, label = 'y = sign(x)*x^2')\n",
    "plt.ylim([-1.1, 1.1])\n",
    "plt.legend(fontsize=20)\n",
    "plt.xlim([-1.1, 1.1])\n",
    "plt.xticks([-1, -0.5, 0, 0.5, 1], fontsize=20)\n",
    "plt.yticks([-1, -0.5, 0, 0.5, 1], fontsize=20)\n",
    "plt.axvline(0, alpha=0.5)\n",
    "plt.axhline(0, alpha=0.5)\n",
    "plt.xlabel(\"Pearson's Correlation Coefficient\", fontsize=25)\n",
    "plt.ylabel(\"Transformed Pearson's Correlation Coefficient\", fontsize=25)\n",
    "plt.title(\"Visualization of Activation Function\", fontsize=28)\n",
    "plt.savefig('Y:\\eLab\\EvM\\Projects\\EL_experiment\\Methods\\BrainMapping\\Sig_trials\\Act_func.svg')\n",
    "plt.show()"
   ]
  },
  {
   "cell_type": "code",
   "execution_count": null,
   "id": "acoustic-boring",
   "metadata": {},
   "outputs": [],
   "source": [
    "M_dir_path = path_patient_analysis + '\\\\' + folder + '\\\\' + cond_folder + '\\\\BM_figures\\\\Block\\\\BM_LL.npy'\n",
    "if os.path.exists(M_dir_path):\n",
    "    M_B_all = np.load(M_dir_path)\n",
    "else:\n",
    "    print('cal')\n",
    "    M_B_all = np.zeros((int(np.max(con_trial.Block) + 1), len(labels_all), len(labels_all)))\n",
    "    for b in np.unique(con_trial.Block).astype('int'):\n",
    "        summ = con_trial[(con_trial.Sig == 2) & (con_trial.Block == b)]  # (con_trial.Sleep==s)&\n",
    "        summ = summ.groupby(['Stim', 'Chan'], as_index=False)[['LL', 'd']].mean()\n",
    "        # summ = summ[summ.Sig==1]\n",
    "        t = np.bincount(con_trial.loc[con_trial.Block == b, 'Hour']).argmax()\n",
    "        M = np.zeros((len(labels_all), len(labels_all)))\n",
    "        M[:, :] = np.nan\n",
    "        for sc in np.unique(summ.Stim).astype('int'):\n",
    "            chan = summ.loc[summ.Stim == sc, 'Chan'].values.astype('int')\n",
    "            LL = summ.loc[summ.Stim == sc, 'LL'].values\n",
    "            M[sc, chan] = LL\n",
    "\n",
    "        M_B_all[b, :, :] = M\n",
    "        #M_resp       = np.delete(np.delete(M, bad_all, 0), bad_all, 1)\n",
    "        #M_resp = M_resp[ind,:]\n",
    "        #M_resp = M_resp[:,ind]\n",
    "        #ll = 'BM'+str(int(b)).zfill(2)#+', '+sleep_states[s]\n",
    "\n",
    "        #plot_BM_CR_trial_sig(M_resp, labels_sel,areas_sel, ll, t, 'LL',save= 1, circ = 1, group='Block')\n",
    "\n",
    "        #plot_BM_CR_trial_sig(M_resp, labels_sel,areas_sel, ll, t, 'LL',save= 0, circ = 1,vm = np.array([0,np.nanpercentile(M_B_all[M_B_all>0],95)]), group='block')\n",
    "        # plot_BM_CR_trial_sig(M_resp, labels_sel,areas_sel, ll, t,'LL', 1)\n",
    "    np.save(M_dir_path, M_B_all)"
   ]
  },
  {
   "cell_type": "code",
   "execution_count": null,
   "id": "cheap-monaco",
   "metadata": {},
   "outputs": [],
   "source": [
    "M_pearson = np.zeros((1,9))\n",
    "M_B_all[np.isnan(M_B_all)] = 0\n",
    "M_B_pear = np.ones((int(np.max(con_trial.Block) + 1), int(np.max(con_trial.Block) + 1)))\n",
    "block_all = np.unique(con_trial.Block).astype('int')\n",
    "for b1 in block_all:\n",
    "    for b2 in block_all[block_all>b1]:\n",
    "        M_pearson_c = np.zeros((1,9))\n",
    "        \n",
    "        M_B_pear[b1, b2] = np.corrcoef(M_B_all[b1, :, :].flatten(), M_B_all[b2, :, :].flatten())[0, 1]\n",
    "        M_B_pear[b2, b1] = np.corrcoef(M_B_all[b1, :, :].flatten(), M_B_all[b2, :, :].flatten())[0, 1]\n",
    "        s1 = np.bincount(con_trial.loc[con_trial.Block==b1, 'Sleep']).argmax()\n",
    "        h1 = np.bincount(con_trial.loc[con_trial.Block==b1, 'Hour']).argmax()\n",
    "        m1 = len(np.unique(con_trial.loc[con_trial.Block==b1, 'SleepState']))\n",
    "        s2 = np.bincount(con_trial.loc[con_trial.Block==b2, 'Sleep']).argmax()\n",
    "        h2 = np.bincount(con_trial.loc[con_trial.Block==b2, 'Hour']).argmax()\n",
    "        m2 = len(np.unique(con_trial.loc[con_trial.Block==b2, 'SleepState']))\n",
    "\n",
    "        M_pearson_c[0] = [b1,b2,M_B_pear[b1, b2],s1,s2,h1,h2, m1, m2]\n",
    "        M_pearson = np.concatenate([M_pearson,M_pearson_c], 0)\n",
    "# plot\n",
    "plt.figure(figsize=(8, 8))\n",
    "plt.pcolor(M_B_pear[:, :], cmap='hot', vmin=0.7, vmax=np.percentile(M_B_pear[:, :], 95))"
   ]
  },
  {
   "cell_type": "code",
   "execution_count": null,
   "id": "understood-jerusalem",
   "metadata": {},
   "outputs": [],
   "source": [
    "M_pearson = M_pearson[1:,:]\n",
    "M_pear = pd.DataFrame(M_pearson, columns= ['A_Block', 'B_Block', 'Pearson', 'A_Sleep', 'B_Sleep', 'A_Hour', 'B_Hour', 'A_mix', 'B_mix'])"
   ]
  },
  {
   "cell_type": "code",
   "execution_count": null,
   "id": "invalid-rachel",
   "metadata": {},
   "outputs": [],
   "source": [
    "M_pear.loc[M_pear.A_Sleep==2, 'A_Sleep'] = 3\n",
    "M_pear.loc[M_pear.B_Sleep==2, 'B_Sleep'] = 3"
   ]
  },
  {
   "cell_type": "code",
   "execution_count": null,
   "id": "distant-eclipse",
   "metadata": {},
   "outputs": [],
   "source": [
    "M_pear.insert(0,'Comp_Type', 'W-W')\n",
    "M_pear.loc[(M_pear.B_Sleep==3)&(M_pear.A_Sleep==3), 'Comp_Type'] ='NREM-NREM'\n",
    "M_pear.loc[(M_pear.B_Sleep==4)&(M_pear.A_Sleep==4), 'Comp_Type'] ='REM-REM'\n",
    "\n",
    "M_pear.loc[(M_pear.B_Sleep==0)&(M_pear.A_Sleep==4), 'Comp_Type'] ='W-REM'\n",
    "M_pear.loc[(M_pear.B_Sleep==4)&(M_pear.A_Sleep==0), 'Comp_Type'] ='W-REM'\n",
    "\n",
    "M_pear.loc[(M_pear.B_Sleep==0)&(M_pear.A_Sleep==3), 'Comp_Type'] ='W-NREM'\n",
    "M_pear.loc[(M_pear.B_Sleep==3)&(M_pear.A_Sleep==0), 'Comp_Type'] ='W-NREM'\n",
    "\n",
    "M_pear.loc[(M_pear.B_Sleep==4)&(M_pear.A_Sleep==3), 'Comp_Type'] ='REM-NREM'\n",
    "M_pear.loc[(M_pear.B_Sleep==3)&(M_pear.A_Sleep==4), 'Comp_Type'] ='REM-NREM'"
   ]
  },
  {
   "cell_type": "code",
   "execution_count": null,
   "id": "geographic-learning",
   "metadata": {},
   "outputs": [],
   "source": [
    "sns.catplot(x='Comp_Type', y= 'Pearson', kind='swarm', data=M_pear[(M_pear.A_mix==1)&(M_pear.B_mix==1)], aspect = 3)"
   ]
  },
  {
   "cell_type": "code",
   "execution_count": null,
   "id": "sorted-setting",
   "metadata": {},
   "outputs": [],
   "source": [
    "sns.catplot(x='Comp_Type', y= 'Pearson', kind='box', data=M_pear,height = 8, aspect = 3)\n",
    "plt.title('Pearson of connectivity maps comparisons, main sleep state (mix possible)', fontsize=30)\n",
    "plt.ylabel('Pearson Correlation', fontsize=25)\n",
    "plt.xlabel('Comparison Type', fontsize=25)\n",
    "plt.xticks(fontsize=20)\n",
    "plt.yticks(fontsize=20)\n",
    "plt.ylim([0.7, 1])"
   ]
  },
  {
   "cell_type": "code",
   "execution_count": null,
   "id": "thrown-stockholm",
   "metadata": {},
   "outputs": [],
   "source": [
    "M_pear.loc[M_pear.A_Sleep==2, 'A_Sleep'] = 3\n",
    "M_pear.loc[M_pear.B_Sleep==2, 'B_Sleep'] = 3"
   ]
  },
  {
   "cell_type": "code",
   "execution_count": null,
   "id": "cleared-classic",
   "metadata": {},
   "outputs": [],
   "source": [
    "len(M_B_pear)\n",
    "blocks_all = np.unique(con_trial.Block)\n",
    "x_ax_block = np.zeros((len(M_B_pear),))\n",
    "x_ticks_h = np.zeros((int(len(M_B_pear) / 5),))\n",
    "labels_hour = []\n",
    "k = 0\n",
    "for i_b in range(len(M_B_pear)):\n",
    "    if i_b in blocks_all:\n",
    "        x_ax_block[i_b] = stimlist_hypno.loc[stimlist_hypno.stim_block == i_b, 'ix_chron'].values[0]\n",
    "        if (np.mod(i_b, 5) == 0):\n",
    "            x_ticks_h[k] = stimlist_hypno.loc[stimlist_hypno.stim_block == i_b, 'ix_chron'].values[0]\n",
    "            h = int(np.floor(stimlist_hypno.loc[stimlist_hypno.stim_block == i_b, 'ix_h'].values[0]))\n",
    "            labels_hour.append(str(h).zfill(2) + ':00')\n",
    "            k = k + 1\n",
    "    else:\n",
    "        x_ax_block[i_b] = stimlist_hypno.loc[stimlist_hypno.stim_block == i_b + 1, 'ix_chron'].values[0] - 1\n",
    "x_ticks_h = x_ticks_h[:len(labels_hour)]"
   ]
  },
  {
   "cell_type": "code",
   "execution_count": null,
   "id": "conventional-dutch",
   "metadata": {
    "scrolled": false
   },
   "outputs": [],
   "source": [
    "## figure\n",
    "fig = plt.figure(figsize=(17, 18))\n",
    "fig.patch.set_facecolor('xkcd:white')\n",
    "k = 3\n",
    "gs = fig.add_gridspec(2, 1, height_ratios=[1, 8])  # GridSpec(4,1, height_ratios=[1,2,1,2])\n",
    "## hypnogram\n",
    "ax_h = fig.add_subplot(gs[0, 0])\n",
    "plt.plot(stimlist_hypno.ix_chron, stimlist_hypno.sleep, c=[0, 0, 0], linewidth=2)\n",
    "plt.axhspan(-1, 0.2, color=color_elab[0, :])\n",
    "plt.fill_between(stimlist_hypno.ix_chron, stimlist_hypno.sleep, np.zeros((len(stimlist_hypno.ix_chron),)) - 1,\n",
    "                 color=color_elab[0, :])\n",
    "#plt.ylabel('score', fontsize=25)\n",
    "plt.yticks([0, 1, 2, 3, 4], ['Wake', 'N1', 'N2', 'N3', 'REM'])\n",
    "plt.ylim([-1, 5])\n",
    "plt.gca().invert_yaxis()\n",
    "#plt.xticks(x_tick1,x_ax_h )\n",
    "plt.xticks([])\n",
    "plt.axvspan(38.7, 40.7, color='black')\n",
    "plt.tick_params(axis=\"y\", labelsize=18)\n",
    "plt.xlim([np.min(np.floor(x_ax_block)) + 1.7, np.max(np.ceil(x_ax_block)) - 0.3])\n",
    "\n",
    "ax = fig.add_subplot(gs[1, 0])  #, sharex=ax_h\n",
    "cmap = plt.get_cmap('jet')\n",
    "cmap.set_under('black')\n",
    "plt.xlim([np.min(np.floor(x_ax_block)) + 1.7, np.max(np.ceil(x_ax_block)) - 0.3])\n",
    "plt.axvspan(38.7, 40.7, color='black')\n",
    "# cmap.set_bad('black')\n",
    "# M_B_pear = np.ma.masked_equal(M_B_pear, 0)\n",
    "plt.pcolor(x_ax_block, np.arange(len(M_B_pear)), M_B_pear, cmap=cmap, vmin=0.65, vmax=0.9)\n",
    "plt.ylim([1, 69])\n",
    "plt.yticks(fontsize=20)\n",
    "plt.ylabel('Block Number', fontsize=20)\n",
    "plt.xticks(x_ticks_h, labels_hour, fontsize=20)\n",
    "plt.tight_layout()\n"
   ]
  },
  {
   "cell_type": "markdown",
   "id": "surrounded-crisis",
   "metadata": {},
   "source": [
    "##  unsupervised clustering"
   ]
  },
  {
   "cell_type": "code",
   "execution_count": null,
   "id": "acute-analyst",
   "metadata": {},
   "outputs": [],
   "source": [
    "import NMF_funcs as NMFf\n",
    "from sklearn.decomposition import NMF"
   ]
  },
  {
   "cell_type": "code",
   "execution_count": null,
   "id": "colored-constraint",
   "metadata": {},
   "outputs": [],
   "source": [
    "metric = 'LL'\n",
    "M_dir_path = path_patient_analysis + '\\\\' + folder + '\\\\' + cond_folder + '\\\\BM_figures\\\\Block\\\\BM_' + metric + '.npy'\n",
    "M_Block = np.load(M_dir_path)\n"
   ]
  },
  {
   "cell_type": "code",
   "execution_count": null,
   "id": "affecting-warning",
   "metadata": {},
   "outputs": [],
   "source": [
    "# 1. vcotrize matrices\n",
    "## nnmf\n",
    "M_B_nmf = M_Block.reshape(len(M_Block), -1)\n",
    "M_B_nmf = M_B_nmf.T\n",
    "M_B_nmf[np.isnan(M_B_nmf)] = 0\n",
    "M_B_nmf[M_B_nmf < 0] = 0"
   ]
  },
  {
   "cell_type": "code",
   "execution_count": null,
   "id": "musical-moment",
   "metadata": {},
   "outputs": [],
   "source": [
    "M_B_nmf = M_B_nmf[:,1:]"
   ]
  },
  {
   "cell_type": "code",
   "execution_count": null,
   "id": "american-junior",
   "metadata": {
    "scrolled": true
   },
   "outputs": [],
   "source": [
    "fig = plt.figure(figsize=(10,15))\n",
    "plt.pcolor(M_B_nmf, vmin = 2, vmax= 10)"
   ]
  },
  {
   "cell_type": "code",
   "execution_count": null,
   "id": "arabic-sequence",
   "metadata": {},
   "outputs": [],
   "source": [
    "fig = plt.figure(figsize=(10,15))\n",
    "plt.pcolor(X, vmin = -2, vmax = 2)"
   ]
  },
  {
   "cell_type": "markdown",
   "id": "extreme-fourth",
   "metadata": {},
   "source": [
    "### 1. euclidean distance"
   ]
  },
  {
   "cell_type": "code",
   "execution_count": null,
   "id": "first-match",
   "metadata": {},
   "outputs": [],
   "source": [
    "import platform\n",
    "from tslearn.clustering import TimeSeriesKMeans, KShape,KernelKMeans,silhouette_score\n"
   ]
  },
  {
   "cell_type": "code",
   "execution_count": null,
   "id": "experimental-powder",
   "metadata": {},
   "outputs": [],
   "source": [
    "from sklearn.cluster import AgglomerativeClustering"
   ]
  },
  {
   "cell_type": "code",
   "execution_count": null,
   "id": "rising-street",
   "metadata": {},
   "outputs": [],
   "source": [
    "tslearn.clustering.KShape(n_clusters=3, max_iter=100, tol=1e-06, n_init=1, verbose=False, random_state=None, init='random')[source]"
   ]
  },
  {
   "cell_type": "code",
   "execution_count": null,
   "id": "acting-understanding",
   "metadata": {},
   "outputs": [],
   "source": [
    "silhouette_score(X, labels, metric=None, sample_size=None, metric_params=None, n_jobs=None, verbose=0, random_state=None, **kwds)"
   ]
  },
  {
   "cell_type": "code",
   "execution_count": null,
   "id": "placed-conservative",
   "metadata": {},
   "outputs": [],
   "source": [
    "def ks_cluster(X, n=2,cluster_type = 'dtw'):\n",
    "    X = np.expand_dims(X,-1)\n",
    "    km_dba  = KShape(n_clusters=n).fit(X)\n",
    "    # dtw\n",
    "    cc      = km_dba.cluster_centers_\n",
    "    y       = km_dba.predict(X)\n",
    "    \n",
    "    return cc[:, :, 0], y"
   ]
  },
  {
   "cell_type": "code",
   "execution_count": null,
   "id": "funny-merit",
   "metadata": {},
   "outputs": [],
   "source": [
    "def dba_cluster(X, n=2,cluster_type = 'dtw'):\n",
    "    X = np.expand_dims(X,-1)\n",
    "    km_dba  = TimeSeriesKMeans(n_clusters=n, metric=cluster_type, max_iter=10, max_iter_barycenter=10, random_state=0).fit(X)\n",
    "    # dtw\n",
    "    cc      = km_dba.cluster_centers_\n",
    "    y       = km_dba.predict(X)\n",
    "    dist    = km_dba.transform(X)\n",
    "    dist_cc = np.max(km_dba.transform(km_dba.cluster_centers_))\n",
    "    return cc[:, :, 0], y, dist, dist_cc"
   ]
  },
  {
   "cell_type": "code",
   "execution_count": null,
   "id": "closed-finance",
   "metadata": {},
   "outputs": [],
   "source": [
    "  W = np.zeros((X.shape[0], rank))\n",
    "    X0 = np.delete(X, np.where(np.mean(X, 1) == 0)[0], 0)\n",
    "    # run 5 it with mult\n",
    "    model = NMF(n_components=rank, init='nndsvda', max_iter=10)\n",
    "    W0 = model.fit_transform(X0)\n",
    "    H0 = model.components_\n",
    "    # run again with best solution of first model\n",
    "    model = NMF(n_components=rank, init='custom', max_iter=it, solver='mu')\n",
    "    W0 = model.fit_transform(X0, W=W0, H=H0)\n",
    "    H = model.components_\n",
    "    W[np.where(np.mean(X, 1) > 0)[0], :] = W0"
   ]
  },
  {
   "cell_type": "code",
   "execution_count": null,
   "id": "engaging-semiconductor",
   "metadata": {},
   "outputs": [],
   "source": [
    "rk_sel = 1\n",
    "score = 0\n",
    "for rk in range(2,6):\n",
    "    cc, y, dist, dist_cc = dba_cluster(X0, n=rk, cluster_type = cluster_type)\n",
    "    #silhouette_score(X0, y)\n",
    "    score_new = sklearn.metrics.calinski_harabasz_score(X0, y)\n",
    "    if score_new > score:\n",
    "        score = score_new\n",
    "        rk_sel = rk\n"
   ]
  },
  {
   "cell_type": "code",
   "execution_count": null,
   "id": "approximate-concept",
   "metadata": {},
   "outputs": [],
   "source": [
    "X = M_B_nmf\n",
    "X0 = np.delete(X, np.where(np.mean(X, 1) == 0)[0], 0)\n",
    "X0 = scipy.stats.zscore(X0, axis=1)"
   ]
  },
  {
   "cell_type": "code",
   "execution_count": null,
   "id": "diagnostic-toyota",
   "metadata": {},
   "outputs": [],
   "source": [
    "cluster_type = 'euclidean'"
   ]
  },
  {
   "cell_type": "code",
   "execution_count": null,
   "id": "frank-newport",
   "metadata": {},
   "outputs": [],
   "source": [
    "rk_sel = 3"
   ]
  },
  {
   "cell_type": "code",
   "execution_count": null,
   "id": "received-cleaning",
   "metadata": {},
   "outputs": [],
   "source": [
    "y_all = np.zeros((len(X),))-1\n",
    "cc, y, dist, dist_cc = dba_cluster(X0, n=rk_sel, cluster_type = cluster_type)\n",
    "cc_mean = np.zeros_like(cc)\n",
    "for i in range(rk_sel):\n",
    "    cc_mean[i,:] = np.mean(X0[y==i,:],0)\n",
    "y_all[np.where(np.mean(X, 1) > 0)[0]] = y"
   ]
  },
  {
   "cell_type": "code",
   "execution_count": null,
   "id": "allied-balloon",
   "metadata": {},
   "outputs": [],
   "source": [
    "y_all"
   ]
  },
  {
   "cell_type": "code",
   "execution_count": null,
   "id": "perfect-flesh",
   "metadata": {},
   "outputs": [],
   "source": [
    "M_sleep_nmf = np.zeros((len(labels_all), len(labels_all)))\n",
    "for val in range(rk_sel):\n",
    "    M_nmf = np.array((y_all == val)).reshape(len(labels_all), len(labels_all))\n",
    "    M_nmf = M_nmf * (val+1)\n",
    "    M_sleep_nmf = M_sleep_nmf + M_nmf\n",
    "#M_nmf = np.array(((W[:,0]/W[:,1])>3)).reshape(len(labels_all),len(labels_all))\n",
    "#M_nmf = np.array(((W[:,0]/W[:,1])<0.8)).reshape(len(labels_all),len(labels_all))\n",
    "M_sleep_nmf[M_t_resp[:, :, 1] == -1] = -1\n",
    "M_sleep_nmf[M_t_resp[:, :, 1] == 0] = 0\n",
    "M_resp = np.delete(np.delete(M_sleep_nmf, bad_all, 0), bad_all, 1)\n",
    "\n",
    "M_resp = M_resp[ind, :]\n",
    "M_resp = M_resp[:, ind]\n",
    "#(M, labels,areas, label, t, method,save= 1, circ = 1, cmap='hot', group='block')\n",
    "plot_BM(M_resp, labels_sel,areas_sel, 'NMF_sleep', 0,'change', 0, circ = 0, group='Sleep')\n",
    "#plot_BM_CR_trial_sig(M_resp, labels_sel,areas_sel, ll, t, 'sym',save= 1, circ = 0, group='General')"
   ]
  },
  {
   "cell_type": "code",
   "execution_count": null,
   "id": "arabic-convenience",
   "metadata": {},
   "outputs": [],
   "source": [
    "fig = plt.figure(figsize=(17, 7))\n",
    "fig.patch.set_facecolor('xkcd:white')\n",
    "plt.suptitle(cluster_type+ ' distance clustering: Mean of each connection within the cluster')\n",
    "k = 3\n",
    "gs = fig.add_gridspec(2, 1, height_ratios=[1, 2])  # GridSpec(4,1, height_ratios=[1,2,1,2])\n",
    "## hypnogram\n",
    "ax_h = fig.add_subplot(gs[0, 0])\n",
    "plt.plot(stimlist_hypno.ix_chron, stimlist_hypno.sleep, c=[0, 0, 0], linewidth=2)\n",
    "plt.axhspan(-1, 0.2, color=color_elab[0, :])\n",
    "plt.fill_between(stimlist_hypno.ix_chron, stimlist_hypno.sleep, np.zeros((len(stimlist_hypno.ix_chron),)) - 1,\n",
    "                 color=color_elab[0, :])\n",
    "#plt.ylabel('score', fontsize=25)\n",
    "plt.yticks([0, 1, 2, 3, 4], ['Wake', 'N1', 'N2', 'N3', 'REM'])\n",
    "plt.ylim([-1, 5])\n",
    "plt.gca().invert_yaxis()\n",
    "#plt.xticks(x_tick1,x_ax_h )\n",
    "plt.xticks([])\n",
    "plt.axvspan(38.7, 40.7, color='black')\n",
    "plt.tick_params(axis=\"y\", labelsize=18)\n",
    "plt.xlim([np.min(np.floor(x_ax_block)) + 1.7, np.max(np.ceil(x_ax_block)) - 0.3])\n",
    "\n",
    "ax = fig.add_subplot(gs[1, 0])  #, sharex=ax_h\n",
    "for i in range(rk_sel):\n",
    "    plt.plot(x_ax_block[1:], cc_mean[i], linewidth=4, label='Cluster ' + str(i + 1)+', n: '+str(np.sum(y==i)))\n",
    "plt.xticks(x_ticks_h, labels_hour, fontsize=20)\n",
    "plt.legend(fontsize=15)\n",
    "plt.ylabel('Mean connection activity', fontsize=20)\n",
    "plt.yticks(fontsize=15)\n",
    "plt.xlim([np.min(np.floor(x_ax_block)) + 1.7, np.max(np.ceil(x_ax_block)) - 0.3])\n",
    "plt.axvspan(38.7, 40.7, color='black')\n",
    "#plt.savefig(path_patient_analysis+'\\\\' + folder + '\\\\' + cond_folder +'\\\\BM_figures\\\\Block\\\\NMF_H.jpg')\n",
    "#plt.savefig(path_patient_analysis+'\\\\' + folder + '\\\\' + cond_folder +'\\\\BM_figures\\\\Block\\\\NMF_H.svg')\n",
    "plt.show()"
   ]
  },
  {
   "cell_type": "code",
   "execution_count": null,
   "id": "transsexual-forth",
   "metadata": {},
   "outputs": [],
   "source": [
    "fig = plt.figure(figsize=(17, 7))\n",
    "fig.patch.set_facecolor('xkcd:white')\n",
    "plt.suptitle(cluster_type+' distance clustering: Cluster Center')\n",
    "k = 3\n",
    "gs = fig.add_gridspec(2, 1, height_ratios=[1, 2])  # GridSpec(4,1, height_ratios=[1,2,1,2])\n",
    "## hypnogram\n",
    "ax_h = fig.add_subplot(gs[0, 0])\n",
    "plt.plot(stimlist_hypno.ix_chron, stimlist_hypno.sleep, c=[0, 0, 0], linewidth=2)\n",
    "plt.axhspan(-1, 0.2, color=color_elab[0, :])\n",
    "plt.fill_between(stimlist_hypno.ix_chron, stimlist_hypno.sleep, np.zeros((len(stimlist_hypno.ix_chron),)) - 1,\n",
    "                 color=color_elab[0, :])\n",
    "#plt.ylabel('score', fontsize=25)\n",
    "plt.yticks([0, 1, 2, 3, 4], ['Wake', 'N1', 'N2', 'N3', 'REM'])\n",
    "plt.ylim([-1, 5])\n",
    "plt.gca().invert_yaxis()\n",
    "#plt.xticks(x_tick1,x_ax_h )\n",
    "plt.xticks([])\n",
    "plt.axvspan(38.7, 40.7, color='black')\n",
    "plt.tick_params(axis=\"y\", labelsize=18)\n",
    "plt.xlim([np.min(np.floor(x_ax_block)) + 1.7, np.max(np.ceil(x_ax_block)) - 0.3])\n",
    "\n",
    "ax = fig.add_subplot(gs[1, 0])  #, sharex=ax_h\n",
    "for i in range(rk_sel):\n",
    "    plt.plot(x_ax_block[1:], cc[i], linewidth=4, label='Cluster ' + str(i + 1)+', n: '+str(np.sum(y==i)))\n",
    "plt.xticks(x_ticks_h, labels_hour, fontsize=20)\n",
    "plt.legend(fontsize=15)\n",
    "plt.ylabel(' Cluster Center', fontsize=20)\n",
    "plt.yticks(fontsize=15)\n",
    "plt.xlim([np.min(np.floor(x_ax_block)) + 1.7, np.max(np.ceil(x_ax_block)) - 0.3])\n",
    "plt.axvspan(38.7, 40.7, color='black')\n",
    "#plt.savefig(path_patient_analysis+'\\\\' + folder + '\\\\' + cond_folder +'\\\\BM_figures\\\\Block\\\\NMF_H.jpg')\n",
    "#plt.savefig(path_patient_analysis+'\\\\' + folder + '\\\\' + cond_folder +'\\\\BM_figures\\\\Block\\\\NMF_H.svg')\n",
    "plt.show()"
   ]
  },
  {
   "cell_type": "markdown",
   "id": "sunset-threat",
   "metadata": {},
   "source": [
    "### 3. NMF"
   ]
  },
  {
   "cell_type": "code",
   "execution_count": null,
   "id": "rapid-restaurant",
   "metadata": {},
   "outputs": [],
   "source": [
    "def get_nnmf_Epi(X, rank, it=2000):\n",
    "    # remove rows that are completly equal zero\n",
    "    # model = NMF(n_components=rank, init='random', random_state=50, max_iter=it)\n",
    "    # W = model.fit_transform(X)\n",
    "    # H = model.components_\n",
    "    W = np.zeros((X.shape[0], rank))\n",
    "    X0 = np.delete(X, np.where(np.mean(X, 1) == 0)[0], 0)\n",
    "    # run 5 it with mult\n",
    "    model = NMF(n_components=rank, init='nndsvda', max_iter=10)\n",
    "    W0 = model.fit_transform(X0)\n",
    "    H0 = model.components_\n",
    "    # run again with best solution of first model\n",
    "    model = NMF(n_components=rank, init='custom', max_iter=it, solver='mu')\n",
    "    W0 = model.fit_transform(X0, W=W0, H=H0)\n",
    "    H = model.components_\n",
    "    W[np.where(np.mean(X, 1) > 0)[0], :] = W0\n",
    "\n",
    "    return W, W0, H"
   ]
  },
  {
   "cell_type": "code",
   "execution_count": null,
   "id": "worthy-shirt",
   "metadata": {},
   "outputs": [],
   "source": [
    "## nnmf\n",
    "M_B_nmf = M_Block.reshape(len(M_Block), -1)\n",
    "M_B_nmf = M_B_nmf.T\n",
    "M_B_nmf[np.isnan(M_B_nmf)] = 0\n",
    "M_B_nmf[M_B_nmf < 0] = 0"
   ]
  },
  {
   "cell_type": "code",
   "execution_count": null,
   "id": "gentle-daily",
   "metadata": {},
   "outputs": [],
   "source": [
    "rk = 5\n",
    "[W, W0, H] = get_nnmf_Epi(M_B_nmf, rk, it=2000)"
   ]
  },
  {
   "cell_type": "code",
   "execution_count": null,
   "id": "saving-chaos",
   "metadata": {},
   "outputs": [],
   "source": [
    "# X = M_B_nmf\n",
    "# X0 = np.delete(X, np.where(np.mean(X, 1) == 0)[0], 0)\n",
    "\n",
    "# scipy.stats.pearsonr(np.repeat(np.expand_dims(H[0],0),len(X0),0), X0)"
   ]
  },
  {
   "cell_type": "code",
   "execution_count": null,
   "id": "photographic-tomorrow",
   "metadata": {},
   "outputs": [],
   "source": [
    "PC_mat = np.zeros((rk, len(M_B_nmf)))\n",
    "for r in range(rk):\n",
    "    for i in range(len(M_B_nmf)):\n",
    "        c,_  = scipy.stats.pearsonr(H[r], M_B_nmf[i])\n",
    "        PC_mat[r,i] = c\n",
    "y = np.argmax(PC_mat,0)"
   ]
  },
  {
   "cell_type": "code",
   "execution_count": null,
   "id": "insured-declaration",
   "metadata": {},
   "outputs": [],
   "source": [
    "fig = plt.figure(figsize=(17, 7))\n",
    "fig.patch.set_facecolor('xkcd:white')\n",
    "plt.suptitle('NMF activiation functions')\n",
    "k = 3\n",
    "gs = fig.add_gridspec(2, 1, height_ratios=[1, 2])  # GridSpec(4,1, height_ratios=[1,2,1,2])\n",
    "## hypnogram\n",
    "ax_h = fig.add_subplot(gs[0, 0])\n",
    "plt.plot(stimlist_hypno.ix_chron, stimlist_hypno.sleep, c=[0, 0, 0], linewidth=2)\n",
    "plt.axhspan(-1, 0.2, color=color_elab[0, :])\n",
    "plt.fill_between(stimlist_hypno.ix_chron, stimlist_hypno.sleep, np.zeros((len(stimlist_hypno.ix_chron),)) - 1,\n",
    "                 color=color_elab[0, :])\n",
    "#plt.ylabel('score', fontsize=25)\n",
    "plt.yticks([0, 1, 2, 3, 4], ['Wake', 'N1', 'N2', 'N3', 'REM'])\n",
    "plt.ylim([-1, 5])\n",
    "plt.gca().invert_yaxis()\n",
    "#plt.xticks(x_tick1,x_ax_h )\n",
    "plt.xticks([])\n",
    "plt.axvspan(38.7, 40.7, color='black')\n",
    "plt.tick_params(axis=\"y\", labelsize=18)\n",
    "plt.xlim([np.min(np.floor(x_ax_block)) + 1.7, np.max(np.ceil(x_ax_block)) - 0.3])\n",
    "\n",
    "ax = fig.add_subplot(gs[1, 0])  #, sharex=ax_h\n",
    "for i in range(rk):\n",
    "    plt.plot(x_ax_block, H[i], linewidth=4, label='H' + str(i + 1))\n",
    "plt.xticks(x_ticks_h, labels_hour, fontsize=20)\n",
    "plt.legend(fontsize=15)\n",
    "plt.ylabel('H coefficients', fontsize=20)\n",
    "plt.yticks(fontsize=15)\n",
    "plt.xlim([np.min(np.floor(x_ax_block)) + 1.7, np.max(np.ceil(x_ax_block)) - 0.3])\n",
    "plt.axvspan(38.7, 40.7, color='black')\n",
    "#plt.savefig(path_patient_analysis+'\\\\' + folder + '\\\\' + cond_folder +'\\\\BM_figures\\\\Block\\\\NMF_H.jpg')\n",
    "#plt.savefig(path_patient_analysis+'\\\\' + folder + '\\\\' + cond_folder +'\\\\BM_figures\\\\Block\\\\NMF_H.svg')\n",
    "plt.show()"
   ]
  },
  {
   "cell_type": "code",
   "execution_count": null,
   "id": "offensive-return",
   "metadata": {},
   "outputs": [],
   "source": [
    "start = 0\n",
    "for b in np.unique(con_trial.Block).astype('int'):\n",
    "    h = np.bincount(con_trial.loc[con_trial.Block == b, 'Hour']).argmax()\n",
    "    s = np.mean(con_trial.loc[\n",
    "                    con_trial.Block == b, 'Sleep'])  # np.bincount(con_trial.loc[con_trial.Block==b, 'Sleep']).argmax()\n",
    "    arr = np.zeros((1, rk + 3))\n",
    "    arr[0, 0] = b\n",
    "    arr[0, 1] = h\n",
    "    arr[0, 2] = s > 0\n",
    "    for i in range(rk):\n",
    "        arr[0, 3 + i] = H[i, b]\n",
    "    nmf_arr = pd.DataFrame(arr, columns=['Block', 'Hour', 'Sleep', 'H1', 'H2', 'H3', 'H4'])\n",
    "    if start == 0:\n",
    "        nmf_summary = nmf_arr\n",
    "        start = 1\n",
    "    else:\n",
    "        nmf_summary = pd.concat([nmf_summary, nmf_arr])\n"
   ]
  },
  {
   "cell_type": "code",
   "execution_count": null,
   "id": "guided-florist",
   "metadata": {
    "scrolled": true
   },
   "outputs": [],
   "source": [
    "H_sleep = np.zeros((rk, 3))\n",
    "for h, i in zip(['H1', 'H2', 'H3', 'H4'], np.arange(rk)):\n",
    "    sns.catplot('Sleep', h, data=nmf_summary)\n",
    "    d_NREM, p_NREM = scipy.stats.ttest_ind(nmf_summary.loc[(nmf_summary.Sleep == 0), h],\n",
    "                                           nmf_summary.loc[(nmf_summary.Sleep == 1), h])\n",
    "    H_sleep[i, 0] = i + 1\n",
    "    if p_NREM < 0.05:\n",
    "        H_sleep[i, 1] = -1 * np.sign(d_NREM)\n",
    "        H_sleep[i, 2] = p_NREM"
   ]
  },
  {
   "cell_type": "code",
   "execution_count": null,
   "id": "guilty-trading",
   "metadata": {},
   "outputs": [],
   "source": [
    "H_sleep"
   ]
  },
  {
   "cell_type": "code",
   "execution_count": null,
   "id": "acceptable-decision",
   "metadata": {},
   "outputs": [],
   "source": [
    "W_pref_z"
   ]
  },
  {
   "cell_type": "code",
   "execution_count": null,
   "id": "refined-questionnaire",
   "metadata": {},
   "outputs": [],
   "source": [
    "H_sleep = pd.DataFrame(H_sleep, columns=['H', 'Sleep_change', 'p'])\n",
    "if len(np.where(H_sleep.Sleep_change == 0)[0]) == 0:\n",
    "    val, n_sc = np.unique(H_sleep.Sleep_change, return_counts=True)\n",
    "    val = val[(n_sc >= 2)]\n",
    "    p = np.max(H_sleep.loc[(H_sleep.Sleep_change == val[0]), 'p'].values)\n",
    "    H_sleep.loc[(H_sleep.Sleep_change == val[0]) & (H_sleep.p == p), 'Sleep_change'] = 0\n",
    "# get connections assign to cluster\n",
    "# W_z = scipy.stats.zscore(W, 0)\n",
    "# W_pref_z = np.argmax(W_z, 1)\n",
    "# #W_pref_z[np.max(W_z, 1) < 1] = np.where(H_sleep.Sleep_change == 0)[0][0]\n",
    "# W_pref_z[np.max(W_z, 1) < 0] = -1\n",
    "PC_mat = np.zeros((rk, len(M_B_nmf)))\n",
    "for r in range(rk):\n",
    "    for i in range(len(M_B_nmf)):\n",
    "        c,_  = scipy.stats.pearsonr(H[r], M_B_nmf[i])\n",
    "        PC_mat[r,i] = c\n",
    "W_pref_z = np.argmax(PC_mat,0)\n",
    "W_pref_z[np.mean(M_B_nmf, 1) == 0] = -1\n",
    "H_sleep = pd.DataFrame(H_sleep, columns=['H', 'Sleep_change'])\n",
    "#np.savez(path_patient_analysis + '\\\\' + folder + '\\\\' + cond_folder + '\\\\NNMF\\\\nmf_rk3.npz', W, H, H_sleep, W_pref_z)"
   ]
  },
  {
   "cell_type": "markdown",
   "id": "based-style",
   "metadata": {},
   "source": [
    "-1: no connection infos '\n",
    "0: no connection\n",
    "1: no change / stable\n",
    "2: sleep decrease\n",
    "3: sleep increase"
   ]
  },
  {
   "cell_type": "code",
   "execution_count": null,
   "id": "musical-gateway",
   "metadata": {},
   "outputs": [],
   "source": [
    "sleep_con_labels = ['Decrease', 'Stable', 'Increase']\n",
    "sleep_con_val = np.arange(-1, 2)\n",
    "sleep_plot_val = np.array([2, 1, 3])  # n"
   ]
  },
  {
   "cell_type": "code",
   "execution_count": null,
   "id": "advised-layer",
   "metadata": {},
   "outputs": [],
   "source": [
    "y"
   ]
  },
  {
   "cell_type": "code",
   "execution_count": null,
   "id": "surprising-cardiff",
   "metadata": {},
   "outputs": [],
   "source": [
    "file_t_resp = path_patient_analysis + '\\\\' + folder + '\\\\data\\\\M_t_resp.npy'\n",
    "M_t_resp = np.load(file_t_resp)"
   ]
  },
  {
   "cell_type": "code",
   "execution_count": null,
   "id": "connected-result",
   "metadata": {},
   "outputs": [],
   "source": [
    "def plot_BM_CR_trial_sig(M, labels, areas, label, t, method, save=1):\n",
    "    time = str(t).zfill(2) + ':00'\n",
    "    fig = plt.figure(figsize=(15, 15))\n",
    "    vmin = 0\n",
    "    vmax = 1\n",
    "    if method == 'LL':\n",
    "        vmin = 1\n",
    "        vmax = np.min([15, np.percentile(M, 95)])\n",
    "    axmatrix = fig.add_axes([0.15, 0.15, 0.7, 0.7])  # x, y, (start posiion), lenx, leny\n",
    "    im = axmatrix.matshow(M, aspect='auto', origin='lower', cmap='hot', vmin=vmin, vmax=vmax)\n",
    "    plt.suptitle(label + ', ' + time + '-- ' + method)\n",
    "    plt.xlim([-1.5, len(labels) - 0.5])\n",
    "    plt.ylim([-0.5, len(labels) + 0.5])\n",
    "    plt.xticks(range(len(labels)), labels, rotation=90);\n",
    "    plt.yticks(range(len(labels)), labels);\n",
    "    for i in range(len(labels)):\n",
    "        r = areas[i]\n",
    "        axmatrix.add_patch(Rectangle((i - 0.5, len(labels) - 0.5), 1, 1, alpha=1,\n",
    "                                     facecolor=color_regions[np.where(regions == r)[0][0]]))\n",
    "        axmatrix.add_patch(\n",
    "            Rectangle((-1.5, i - 0.5), 1, 1, alpha=1, facecolor=color_regions[np.where(regions == r)[0][0]]))\n",
    "    # Plot colorbar.\n",
    "    axcolor = fig.add_axes([0.04, 0.85, 0.08, 0.08])  # x, y, x_len, y_len\n",
    "    circle1 = plt.Circle((0.5, 0.5), 0.4, color=CR_color.c[t], alpha=CR_color.a[t])\n",
    "    plt.text(0.3, 0.3, time)\n",
    "    plt.axis('off')\n",
    "    axcolor.add_patch(circle1)\n",
    "    axcolor = fig.add_axes([0.9, 0.15, 0.01, 0.7])  # x, y, x_len, y_len\n",
    "    plt.colorbar(im, cax=axcolor)\n",
    "\n",
    "    #plt.savefig(path_patient + '/Analysis/BrainMapping/CR/figures/BM_plot/BM_'+label+'.svg')\n",
    "\n",
    "    if save:\n",
    "        plt.savefig(\n",
    "            path_patient + '/Analysis/' + folder + '/' + cond_folder + '/figures/BM_' + method + '/BM_' + label + '.jpg')\n",
    "        plt.savefig(\n",
    "            path_patient + '/Analysis/' + folder + '/' + cond_folder + '/figures/BM_' + method + '/GIF/BM_' + label + '.jpg')\n",
    "        plt.close(fig)  #plt.show()#\n",
    "    else:\n",
    "        plt.show()"
   ]
  },
  {
   "cell_type": "code",
   "execution_count": null,
   "id": "dried-arnold",
   "metadata": {},
   "outputs": [],
   "source": [
    "def plot_BM(M, labels, areas, label, t, method, save=1, circ=1, cmap='hot', group='block'):\n",
    "    cmap_sym = ListedColormap([\"#2b2b2b\", \"black\", \"#c34f2f\", \"#1e4e79\"])\n",
    "    cmap_binary = ListedColormap([\"#2b2b2b\", \"black\", \"#bdd7ee\"])\n",
    "    cmap_LL = 'hot'\n",
    "    cmap_Prob = 'afmhot'\n",
    "    cmap_change = ListedColormap(\n",
    "        [\"#2b2b2b\", \"black\", \"white\", \"blue\", \"red\"])  # ListedColormap([\"blue\", \"white\", \"red\"])\n",
    "    cmap_Dir = 'bwr'\n",
    "\n",
    "    cmap = locals()[\"cmap_\" + method]\n",
    "\n",
    "    M[np.isnan(M)] = -1\n",
    "\n",
    "    fig = plt.figure(figsize=(15, 15))\n",
    "    fig.patch.set_facecolor('xkcd:white')\n",
    "    axmatrix = fig.add_axes([0.15, 0.15, 0.7, 0.7])  # x, y, (start posiion), lenx, leny\n",
    "    if method == 'LL':\n",
    "        cmap = copy.copy(plt.cm.get_cmap(cmap))  # cmap = copy.copy(mpl.cm.get_cmap(cmap))\n",
    "        cmap.set_under('#2b2b2b')\n",
    "        cmap.set_bad('black')\n",
    "        M = np.ma.masked_equal(M, 0)\n",
    "        im = axmatrix.matshow(M, aspect='auto', origin='lower', cmap=cmap, vmin=0, vmax=10)\n",
    "    elif method == 'Prob':\n",
    "        cmap = copy.copy(plt.cm.get_cmap(cmap))  # cmap = copy.copy(mpl.cm.get_cmap(cmap))\n",
    "        cmap.set_under('black')\n",
    "        cmap.set_bad('#2b2b2b')\n",
    "        M = np.ma.masked_equal(M, -1)\n",
    "        im = axmatrix.matshow(M, aspect='auto', origin='lower', cmap=cmap, vmin=0.1, vmax=0.95)\n",
    "    elif method == 'Dir':\n",
    "        cmap = copy.copy(plt.cm.get_cmap(cmap))  # cmap = copy.copy(mpl.cm.get_cmap(cmap))\n",
    "        cmap.set_under('black')\n",
    "        cmap.set_bad('white')\n",
    "        M = np.ma.masked_equal(M, -20)\n",
    "        mask = 1*(np.tri(M.shape[0],k=0)==0)\n",
    "        M = np.ma.array(M, mask = mask)\n",
    "        im = axmatrix.matshow(M, aspect='auto', origin='lower', cmap=cmap, vmin=-1, vmax=1)\n",
    "    else:\n",
    "        im = axmatrix.matshow(M, aspect='auto', origin='lower', cmap=cmap)\n",
    "    plt.suptitle(label + '-- ' + method)\n",
    "    plt.xlim([-1.5, len(labels) - 0.5])\n",
    "    plt.ylim([-0.5, len(labels) + 0.5])\n",
    "    plt.xticks(range(len(labels)), labels, rotation=90)\n",
    "    plt.yticks(range(len(labels)), labels)\n",
    "    for i in range(len(labels)):\n",
    "        r = areas[i]\n",
    "        axmatrix.add_patch(Rectangle((i - 0.5, len(labels) - 0.5), 1, 1, alpha=1,\n",
    "                                     facecolor=color_regions[np.where(regions == r)[0][0]]))\n",
    "        axmatrix.add_patch(\n",
    "            Rectangle((-1.5, i - 0.5), 1, 1, alpha=1,\n",
    "                      facecolor=color_regions[np.where(regions == r)[0][0]]))\n",
    "    # Plot colorbar.\n",
    "\n",
    "    if circ:\n",
    "        time = str(t).zfill(2) + ':00'\n",
    "        axcolor = fig.add_axes([0.04, 0.85, 0.08, 0.08])  # x, y, x_len, y_len\n",
    "        circle1 = plt.Circle((0.5, 0.5), 0.4, color=CR_color.c[t], alpha=CR_color.a[t])\n",
    "        plt.text(0.3, 0.3, time)\n",
    "        plt.axis('off')\n",
    "        axcolor.add_patch(circle1)\n",
    "    axcolor = fig.add_axes([0.9, 0.15, 0.01, 0.7])  # x, y, x_len, y_len\n",
    "    plt.colorbar(im, cax=axcolor)"
   ]
  },
  {
   "cell_type": "code",
   "execution_count": null,
   "id": "smart-premium",
   "metadata": {},
   "outputs": [],
   "source": [
    "plot_BM(M, labels, areas, label, t, method, save=1, circ=1, cmap='hot', group='block')"
   ]
  },
  {
   "cell_type": "code",
   "execution_count": null,
   "id": "athletic-penetration",
   "metadata": {},
   "outputs": [],
   "source": [
    "M_sleep_nmf = np.zeros((len(labels_all), len(labels_all)))\n",
    "for lab, val, plot_val in zip(sleep_con_labels, sleep_con_val, sleep_plot_val):\n",
    "    h = np.where(H_sleep.values[:, 1] == val)[0]\n",
    "\n",
    "    M_nmf = np.array((W_pref_z == h)).reshape(len(labels_all), len(labels_all))\n",
    "    M_nmf = M_nmf * plot_val\n",
    "    M_sleep_nmf = M_sleep_nmf + M_nmf\n",
    "#M_nmf = np.array(((W[:,0]/W[:,1])>3)).reshape(len(labels_all),len(labels_all))\n",
    "#M_nmf = np.array(((W[:,0]/W[:,1])<0.8)).reshape(len(labels_all),len(labels_all))\n",
    "M_sleep_nmf[M_t_resp[:, :, 1] == -1] = -1\n",
    "M_sleep_nmf[M_t_resp[:, :, 1] == 0] = 0\n",
    "M_resp = np.delete(np.delete(M_sleep_nmf, bad_all, 0), bad_all, 1)\n",
    "\n",
    "M_resp = M_resp[ind, :]\n",
    "M_resp = M_resp[:, ind]\n",
    "#(M, labels,areas, label, t, method,save= 1, circ = 1, cmap='hot', group='block')\n",
    "plot_BM(M_resp, labels_sel,areas_sel, 'NMF_sleep', 0,'change', 0, circ = 0, group='Sleep')\n",
    "#plot_BM_CR_trial_sig(M_resp, labels_sel,areas_sel, ll, t, 'sym',save= 1, circ = 0, group='General')"
   ]
  },
  {
   "cell_type": "code",
   "execution_count": null,
   "id": "vital-monthly",
   "metadata": {
    "scrolled": false
   },
   "outputs": [],
   "source": [
    "plot_BM(M_resp, labels_sel, areas_sel, 'NMF_change', 1, 'change', 1, circ=0, group='Sleep')"
   ]
  },
  {
   "cell_type": "code",
   "execution_count": null,
   "id": "female-lloyd",
   "metadata": {},
   "outputs": [],
   "source": [
    "def plot_BM(M, labels, areas, label, t, method, save=1, circ=1, cmap='hot', group='block'):\n",
    "    cmap_sym = ListedColormap([\"#2b2b2b\", \"black\", \"#c34f2f\", \"#1e4e79\"])\n",
    "    cmap_binary = ListedColormap([\"#2b2b2b\", \"black\", \"#bdd7ee\"])\n",
    "    cmap_LL = 'hot'\n",
    "    cmap_Prob = 'afmhot'\n",
    "    cmap_change = ListedColormap(\n",
    "        [\"#2b2b2b\", \"black\", \"green\", \"orange\", \"blue\"])  # ListedColormap([\"blue\", \"white\", \"red\"])\n",
    "\n",
    "    cmap = locals()[\"cmap_\" + method]\n",
    "\n",
    "    M[np.isnan(M)] = -1\n",
    "\n",
    "    fig = plt.figure(figsize=(20, 20))\n",
    "    fig.patch.set_facecolor('xkcd:white')\n",
    "    axmatrix = fig.add_axes([0.15, 0.15, 0.7, 0.7])  # x, y, (start posiion), lenx, leny\n",
    "    if method == 'LL':\n",
    "        cmap = copy.copy(plt.cm.get_cmap(cmap))  # cmap = copy.copy(mpl.cm.get_cmap(cmap))\n",
    "        cmap.set_under('#2b2b2b')\n",
    "        cmap.set_bad('black')\n",
    "        M = np.ma.masked_equal(M, 0)\n",
    "        im = axmatrix.matshow(M, aspect='auto', origin='lower', cmap=cmap, vmin=0, vmax=10)\n",
    "    elif method == 'Prob':\n",
    "        cmap = copy.copy(plt.cm.get_cmap(cmap))  # cmap = copy.copy(mpl.cm.get_cmap(cmap))\n",
    "        cmap.set_under('black')\n",
    "        cmap.set_bad('#2b2b2b')\n",
    "        M = np.ma.masked_equal(M, -1)\n",
    "        im = axmatrix.matshow(M, aspect='auto', origin='lower', cmap=cmap, vmin=0.1, vmax=0.95)\n",
    "    else:\n",
    "        im = axmatrix.matshow(M, aspect='auto', origin='lower', cmap=cmap)\n",
    "    plt.suptitle(label + '-- ' + method)\n",
    "    plt.xlim([-1.5, len(labels) - 0.5])\n",
    "    plt.ylim([-0.5, len(labels) + 0.5])\n",
    "    plt.xticks(range(len(labels)), labels, rotation=90);\n",
    "    plt.yticks(range(len(labels)), labels);\n",
    "    for i in range(len(labels)):\n",
    "        r = areas[i]\n",
    "        axmatrix.add_patch(Rectangle((i - 0.5, len(labels) - 0.5), 1, 1, alpha=1,\n",
    "                                     facecolor=color_regions[np.where(regions == r)[0][0]]))\n",
    "        axmatrix.add_patch(\n",
    "            Rectangle((-1.5, i - 0.5), 1, 1, alpha=1,\n",
    "                      facecolor=color_regions[np.where(regions == r)[0][0]]))\n",
    "    # Plot colorbar.\n",
    "\n",
    "    if circ:\n",
    "        time = str(t).zfill(2) + ':00'\n",
    "        axcolor = fig.add_axes([0.04, 0.85, 0.08, 0.08])  # x, y, x_len, y_len\n",
    "        circle1 = plt.Circle((0.5, 0.5), 0.4, color=self.CR_color.c[t], alpha=self.CR_color.a[t])\n",
    "        plt.text(0.3, 0.3, time)\n",
    "        plt.axis('off')\n",
    "        axcolor.add_patch(circle1)\n",
    "    axcolor = fig.add_axes([0.9, 0.15, 0.01, 0.7])  # x, y, x_len, y_len\n",
    "    plt.colorbar(im, cax=axcolor)\n",
    "\n",
    "    # plt.savefig(path_patient + '/Analysis/BrainMapping/CR/figures/BM_plot/BM_'+label+'.svg')\n",
    "\n",
    "    if save:\n",
    "        plt.savefig(\n",
    "            path_patient_analysis + '\\\\' + folder + '\\\\' + cond_folder + '\\\\BM_figures\\\\' + group + '\\\\BM_' + method + '\\\\BM_' + label + '.jpg')\n",
    "        # plt.savefig(path_patient_analysis+'\\\\' + folder + '\\\\' + cond_folder +'\\\\figures/BM_LL\\\\BM_'+label+'.jpg')\n",
    "        plt.close(fig)  # plt.show()#\n",
    "\n",
    "    else:\n",
    "        plt.show()"
   ]
  },
  {
   "cell_type": "code",
   "execution_count": null,
   "id": "sacred-identification",
   "metadata": {
    "scrolled": false
   },
   "outputs": [],
   "source": []
  },
  {
   "cell_type": "code",
   "execution_count": null,
   "id": "spoken-rabbit",
   "metadata": {
    "scrolled": false
   },
   "outputs": [],
   "source": [
    "for lab, val in zip(sleep_con_labels, sleep_con_val):\n",
    "    h = np.where(H_sleep.values[:, 1] == val)[0]\n",
    "\n",
    "    M_nmf = np.array((W_pref_z == h)).reshape(len(labels_all), len(labels_all))\n",
    "    #M_nmf = np.array(((W[:,0]/W[:,1])>3)).reshape(len(labels_all),len(labels_all))\n",
    "    #M_nmf = np.array(((W[:,0]/W[:,1])<0.8)).reshape(len(labels_all),len(labels_all))\n",
    "    M_resp = np.delete(np.delete(M_nmf * (M_B_all[1] > 0), bad_all, 0), bad_all, 1)\n",
    "    M_resp = M_resp * 1\n",
    "    M_resp = M_resp[ind, :]\n",
    "    M_resp = M_resp[:, ind]\n",
    "    #(M, labels,areas, label, t, method,save= 1, circ = 1, cmap='hot', group='block')\n",
    "    plot_BM_CR_trial_sig(M_resp, labels_sel, areas_sel, lab, t, 'binary', 1, circ=0, group='Sleep')\n",
    "    #plot_BM_CR_trial_sig(M_resp, labels_sel,areas_sel, ll, t, 'sym',save= 1, circ = 0, group='General')"
   ]
  },
  {
   "cell_type": "markdown",
   "id": "australian-developer",
   "metadata": {},
   "source": [
    "## Summary sleep\n"
   ]
  },
  {
   "cell_type": "code",
   "execution_count": null,
   "id": "utility-queen",
   "metadata": {},
   "outputs": [],
   "source": [
    "day = np.unique(con_trial.Date)\n",
    "t0 = np.min(con_trial.loc[(con_trial.Date == day[0]), 'Hour']).astype('int')\n",
    "t1 = np.max(con_trial.loc[(con_trial.Date == day[-1]), 'Hour']).astype('int')\n",
    "total_hour = (len(day) - 1) * 24 - (t0 - t1) + 1\n",
    "\n",
    "if os.path.isfile(path_patient_analysis + '/BrainMapping/CR/data/time_overview.csv'):\n",
    "    time_overview = pd.read_csv(path_patient_analysis + '/BrainMapping/CR/data/time_overview.csv')\n",
    "else:\n",
    "    time_overview = np.zeros((total_hour, 5))\n",
    "    b0 = np.min(con_trial.Block)\n",
    "    time_overview[:, :] = np.nan\n",
    "    time_overview[:, 0] = np.arange(total_hour)\n",
    "    i = 0\n",
    "    h0 = np.bincount(con_trial.loc[con_trial.Block == b0, 'Hour']).argmax()\n",
    "    for b in np.unique(con_trial.Block):\n",
    "        date = np.bincount(con_trial.loc[con_trial.Block == b, 'Date']).argmax()\n",
    "        d = np.where(day == date)[0]\n",
    "        i = np.bincount(con_trial.loc[con_trial.Block == b, 'Hour']).argmax() + d * 24 - h0\n",
    "        time_overview[i, 1] = d\n",
    "        time_overview[i, 2] = np.bincount(con_trial.loc[con_trial.Block == b, 'Hour']).argmax()\n",
    "        time_overview[i, 3] = b\n",
    "        time_overview[i, 4] = b\n",
    "    time_overview = pd.DataFrame(time_overview[:, :4], columns=['ix', 'Day', 'Hour', 'Block'])\n",
    "    time_overview.insert(3, 'Hour_label', 0)\n",
    "    for b in np.unique(time_overview.Block):\n",
    "        if b > 0:\n",
    "            time_overview.loc[time_overview.Block == b, 'Hour_label'] = str(\n",
    "                int(time_overview.loc[time_overview.Block == b, 'Hour'])).zfill(2) + ':00'\n",
    "\n",
    "    time_overview.to_csv(path_patient_analysis + '/BrainMapping/CR/data/time_overview.csv', index=False, header=True)\n",
    "\n",
    "# load hypnogram\n",
    "file_hypno = path_patient_analysis + '/stimlist_hypnogram.csv'\n",
    "if os.path.isfile(file_hypno):\n",
    "    stimlist_hypno = pd.read_csv(file_hypno)\n",
    "#stimlist_hypno.loc[(stimlist_hypno.ix_chron>30)&(stimlist_hypno.ix_chron<45), 'sleep'] = 0\n",
    "for d in range(len(np.unique(stimlist_hypno.date))):\n",
    "    stimlist_hypno.loc[stimlist_hypno.date == np.unique(stimlist_hypno.date)[d], 'ix_chron'] = stimlist_hypno.loc[\n",
    "                                                                                                   stimlist_hypno.date ==\n",
    "                                                                                                   np.unique(\n",
    "                                                                                                       stimlist_hypno.date)[\n",
    "                                                                                                       d], 'ix_h'] + d * 24\n",
    "time_overview.insert(5, 'Hour_chron', time_overview.Hour + time_overview.Day * 24)\n",
    "stimlist_hypno = stimlist_hypno[stimlist_hypno.stim_block > 0]\n",
    "for p in np.unique(stimlist_hypno.Prot):\n",
    "    stimlist_hypno.loc[stimlist_hypno.Prot == p, 'StimNum'] = stimlist_hypno.loc[\n",
    "                                                                  stimlist_hypno.Prot == p, 'StimNum'] - np.min(\n",
    "        stimlist_hypno.loc[stimlist_hypno.Prot == p, 'StimNum'])"
   ]
  },
  {
   "cell_type": "code",
   "execution_count": null,
   "id": "immune-birth",
   "metadata": {},
   "outputs": [],
   "source": [
    "change_labels = ['unknown', 'no', 'stable', 'decrease', 'increase']"
   ]
  },
  {
   "cell_type": "code",
   "execution_count": null,
   "id": "generous-episode",
   "metadata": {},
   "outputs": [],
   "source": [
    "change_labels = ['unknown', 'no', 'stable', 'decrease', 'increase']\n",
    "for i in range(0, len(change_labels)):\n",
    "    con_sleep.loc[con_sleep.prob_wake == i - 1, 'prob_wake'] = change_labels[i]\n",
    "    con_sleep.loc[con_sleep.ttest_wake == i - 1, 'ttest_wake'] = change_labels[i]\n",
    "color_sleep_change = dict(no=\"black\", stable=\"gainsboro\", decrease=\"blue\", increase=\"red\")"
   ]
  },
  {
   "cell_type": "code",
   "execution_count": null,
   "id": "minor-wrestling",
   "metadata": {},
   "outputs": [],
   "source": [
    "for i in range(0, len(change_labels)):\n",
    "    con_sleep.loc[con_sleep.prob_wake == i - 1, 'prob_wake'] = change_labels[i]\n",
    "    con_sleep.loc[con_sleep.ttest_wake == i - 1, 'ttest_wake'] = change_labels[i]"
   ]
  },
  {
   "cell_type": "code",
   "execution_count": null,
   "id": "qualified-registrar",
   "metadata": {},
   "outputs": [],
   "source": [
    "con_sleep"
   ]
  },
  {
   "cell_type": "code",
   "execution_count": null,
   "id": "floral-husband",
   "metadata": {},
   "outputs": [],
   "source": [
    "color_sleep_change = dict(no=\"black\", stable=\"gainsboro\", decrease=\"blue\", increase=\"red\")"
   ]
  },
  {
   "cell_type": "code",
   "execution_count": null,
   "id": "facial-toolbox",
   "metadata": {},
   "outputs": [],
   "source": [
    "# plt.figure(figsize=(10,5))\n",
    "#plt.title('REM Effect')\n",
    "for ss in ['NREM', 'REM']:\n",
    "    sns.catplot(x='Dist', hue='ttest_wake', kind='count',\n",
    "                data=con_sleep[(con_sleep.SleepState == ss) & (con_sleep.Sig == 1)], palette=color_sleep_change,\n",
    "                height=8, legend=False)\n",
    "    plt.legend(['Increase', 'Decrease', 'Stable'], fontsize=15)\n",
    "    plt.title('Connections during ' + ss, fontsize=20)\n",
    "    plt.xlabel('Connection Distance', fontsize=20)\n",
    "    plt.ylabel('Number of Connections', fontsize=20)\n",
    "    plt.yticks(fontsize=15)\n",
    "    plt.xticks(fontsize=15)\n",
    "    plt.tight_layout()\n",
    "    plt.savefig(\n",
    "        path_patient_analysis + '\\\\' + folder + '\\\\' + cond_folder + '\\\\BM_figures\\\\Sleep\\\\BM_change\\\\' + ss + '_bar.jpg')\n",
    "    plt.savefig(\n",
    "        path_patient_analysis + '\\\\' + folder + '\\\\' + cond_folder + '\\\\BM_figures\\\\Sleep\\\\BM_change\\\\' + ss + '_bar.svg')\n",
    "    plt.close()"
   ]
  },
  {
   "cell_type": "code",
   "execution_count": null,
   "id": "greek-transfer",
   "metadata": {},
   "outputs": [],
   "source": [
    "\n",
    "for ss in ['NREM', 'REM']:\n",
    "    fig = plt.figure(figsize=(10, 5))\n",
    "    sns.histplot(x='d', multiple='stack', hue='ttest_wake',\n",
    "                 data=con_sleep[(con_sleep.SleepState == ss) & (con_sleep.Sig == 1)],\n",
    "                 palette=dict(unknown=\"grey\", no=\"black\", stable=\"white\", decrease=\"blue\", increase=\"red\"))\n",
    "    plt.legend(['Increase', 'Decrease', 'Stable'], fontsize=15)\n",
    "    plt.title('Connections during ' + ss, fontsize=20)\n",
    "\n",
    "    plt.xlabel('Connection Distance [mm]', fontsize=20)\n",
    "    plt.ylabel('Number of Connections', fontsize=20)\n",
    "    plt.yticks(fontsize=15)\n",
    "    plt.xticks(fontsize=15)\n",
    "    plt.tight_layout()\n",
    "    plt.savefig(\n",
    "        path_patient_analysis + '\\\\' + folder + '\\\\' + cond_folder + '\\\\BM_figures\\\\Sleep\\\\BM_change\\\\' + ss + '_hist.jpg')\n",
    "    plt.savefig(\n",
    "        path_patient_analysis + '\\\\' + folder + '\\\\' + cond_folder + '\\\\BM_figures\\\\Sleep\\\\BM_change\\\\' + ss + '_hist.svg')\n",
    "    plt.close(fig)"
   ]
  },
  {
   "cell_type": "code",
   "execution_count": null,
   "id": "english-scheme",
   "metadata": {},
   "outputs": [],
   "source": [
    "sns.catplot(x='Stim_Area', y='Prob', hue='SleepState', kind='box', col='Dist', data=con_sleep[con_sleep.Sig == 1])"
   ]
  },
  {
   "cell_type": "code",
   "execution_count": null,
   "id": "thousand-center",
   "metadata": {},
   "outputs": [],
   "source": [
    "labels_region[sc]"
   ]
  },
  {
   "cell_type": "code",
   "execution_count": null,
   "id": "radical-drink",
   "metadata": {},
   "outputs": [],
   "source": [
    "ix_sleep = np.where(con_sleep.loc[(con_sleep.Stim == sc) & (con_sleep.Chan == rc), 'SleepState'] == 'Wake')[0]"
   ]
  },
  {
   "cell_type": "code",
   "execution_count": null,
   "id": "important-throw",
   "metadata": {},
   "outputs": [],
   "source": [
    "ix_sleep"
   ]
  },
  {
   "cell_type": "code",
   "execution_count": null,
   "id": "pleasant-peripheral",
   "metadata": {},
   "outputs": [],
   "source": [
    "con_sleep"
   ]
  },
  {
   "cell_type": "code",
   "execution_count": null,
   "id": "french-helicopter",
   "metadata": {},
   "outputs": [],
   "source": [
    "sns.histplot(x='Dist', hue='sig_wake', multiple=\"stack\",\n",
    "             data=pd_summary[(pd_summary.Stim_region == 'Insula') & (pd_summary.SleepState == 'NREM')])"
   ]
  },
  {
   "cell_type": "code",
   "execution_count": null,
   "id": "earlier-census",
   "metadata": {},
   "outputs": [],
   "source": [
    "sns.histplot(x='Dist', hue='sig_wake', multiple=\"stack\",\n",
    "             data=pd_summary[(pd_summary.Stim_region == 'Limbic') & (pd_summary.SleepState == 'NREM')])"
   ]
  }
 ],
 "metadata": {
  "kernelspec": {
   "display_name": "Python 3 (ipykernel)",
   "language": "python",
   "name": "python3"
  },
  "language_info": {
   "codemirror_mode": {
    "name": "ipython",
    "version": 3
   },
   "file_extension": ".py",
   "mimetype": "text/x-python",
   "name": "python",
   "nbconvert_exporter": "python",
   "pygments_lexer": "ipython3",
   "version": "3.11.3"
  }
 },
 "nbformat": 4,
 "nbformat_minor": 5
}
