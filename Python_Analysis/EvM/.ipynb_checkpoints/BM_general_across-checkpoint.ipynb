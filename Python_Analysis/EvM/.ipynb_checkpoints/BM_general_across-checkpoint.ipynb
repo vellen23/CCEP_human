{
 "cells": [
  {
   "cell_type": "markdown",
   "id": "mathematical-promotion",
   "metadata": {},
   "source": [
    "connectivity measruements across patients\n",
    "DI, probabilities etc"
   ]
  },
  {
   "cell_type": "code",
   "execution_count": 1,
   "id": "similar-subject",
   "metadata": {},
   "outputs": [],
   "source": [
    "import matplotlib.pyplot as plt\n",
    "from matplotlib.colors import ListedColormap"
   ]
  },
  {
   "cell_type": "code",
   "execution_count": 2,
   "id": "afraid-stack",
   "metadata": {},
   "outputs": [],
   "source": [
    "import os\n",
    "import numpy as np\n",
    "import matplotlib.pyplot as plt\n",
    "from matplotlib.colors import ListedColormap\n",
    "import seaborn as sns\n",
    "import pandas as pd\n",
    "\n",
    "import sys\n",
    "\n",
    "sys.path.append('T:\\EL_experiment\\Codes\\CCEP_human\\Python_Analysis/py_functions')\n",
    "\n",
    "from scipy.stats import norm\n",
    "from tkinter import *\n",
    "import scipy\n",
    "from scipy import signal\n",
    "\n",
    "import platform\n",
    "from glob import glob\n",
    "from scipy.spatial import distance\n",
    "import basic_func as bf\n",
    "from scipy.integrate import simps\n",
    "from numpy import trapz\n",
    "import tqdm\n",
    "from matplotlib.patches import Rectangle\n",
    "from pathlib import Path\n",
    "import statsmodels.api as sm\n",
    "import statsmodels.formula.api as smf\n",
    "\n",
    "#\n",
    "from scipy.signal import hilbert, butter, filtfilt\n",
    "import scipy.stats as stats\n",
    "from tqdm.notebook import trange, tqdm\n",
    "cwd             = os.getcwd()\n",
    "\n",
    "##all \n",
    "cond_vals   = np.arange(4)\n",
    "cond_labels = ['BM', 'BL', 'Fuma', 'Benzo']\n",
    "cond_colors = ['#494159','#594157', \"#F1BF98\",\"#8FB996\"]\n",
    "dist_groups = np.array([[0,15],[15,30],[30,5000]])\n",
    "dist_labels = ['local (<15 mm)', 'short (<30mm)', 'long']\n",
    "sub_path  ='X:\\\\4 e-Lab\\\\' # y:\\\\eLab\n",
    "\n",
    "sys.path.append('T:\\\\EL_experiment\\Codes\\CCEP_human\\Python_Analysis\\py_functions')\n",
    "sys.path.append('X:\\\\4 e-Lab\\e-Lab shared code\\Softwares\\Connectogram')\n",
    "sys.path.append('T:\\\\EL_experiment\\Codes\\\\UBELIX_EvM\\\\NMF\\\\functions')\n",
    "path_connectogram = 'X:\\\\4 e-Lab\\e-Lab shared code\\Softwares\\Connectogram'\n",
    "from main_script import ConnectogramPlotter\n",
    "cwp = os.getcwd()"
   ]
  },
  {
   "cell_type": "code",
   "execution_count": 15,
   "id": "65b542b7",
   "metadata": {},
   "outputs": [],
   "source": [
    "CIRC_AREAS_FILEPATH = 'X:\\\\4 e-Lab\\e-Lab shared code\\Softwares\\Connectogram\\circ_areas.xlsx'\n",
    "tab_region = pd.read_excel(CIRC_AREAS_FILEPATH, sheet_name='plot')\n",
    "tab_region = tab_region.sort_values('Order').reset_index(drop=True)\n",
    "regions_all = tab_region.Area.values\n",
    "region_col = tab_region.color.values\n",
    "\n",
    "CIRC_AREAS_FILEPATH = 'X:\\\\4 e-Lab\\e-Lab shared code\\Softwares\\Connectogram\\circ_areas.xlsx'\n",
    "all_region = pd.read_excel(CIRC_AREAS_FILEPATH, sheet_name='atlas')"
   ]
  },
  {
   "cell_type": "code",
   "execution_count": 3,
   "id": "002f10d7",
   "metadata": {},
   "outputs": [],
   "source": [
    "plt.rcParams.update({\n",
    "            'font.family': 'arial',\n",
    "            'font.size': 12,\n",
    "            'xtick.labelsize': 8,\n",
    "            'ytick.labelsize': 8,\n",
    "            'legend.fontsize': 9,\n",
    "            'svg.fonttype': 'none',\n",
    "            'font.size': 10,\n",
    "            'axes.titlesize': 10,\n",
    "            'axes.labelsize': 8,\n",
    "            'xtick.labelsize': 8,\n",
    "            'ytick.labelsize': 8,\n",
    "            'legend.fontsize': 9,\n",
    "            'figure.titlesize': 10\n",
    "        })"
   ]
  },
  {
   "cell_type": "code",
   "execution_count": 4,
   "id": "95fda523",
   "metadata": {},
   "outputs": [],
   "source": [
    "color_elab = np.zeros((3, 3))\n",
    "color_elab[0, :] = np.array([31, 78, 121]) / 255\n",
    "color_elab[1, :] = np.array([189, 215, 238]) / 255\n",
    "color_elab[2, :] = np.array([0.256, 0.574, 0.431])"
   ]
  },
  {
   "cell_type": "code",
   "execution_count": 57,
   "id": "broad-expression",
   "metadata": {
    "scrolled": false
   },
   "outputs": [],
   "source": [
    "import load_summary as ls\n",
    "#import BM_across_plots as plotting\n",
    "\n",
    "cwd = os.getcwd()\n",
    "\n",
    "##all\n",
    "cond_vals = np.arange(4)\n",
    "cond_labels = ['BM', 'BL', 'Fuma', 'Benzo']\n",
    "cond_colors = ['#494159', '#594157', \"#F1BF98\", \"#8FB996\"]\n",
    "dist_groups = np.array([[0, 15], [15, 30], [30, 5000]])\n",
    "dist_labels = ['local (<15 mm)', 'short (<30mm)', 'long']\n",
    "sub_path = 'X:\\\\4 e-Lab\\\\'  # y:\\\\eLab\n",
    "\n",
    "##\n",
    "subjs = [\"EL010\", \"EL011\", \"EL012\", \"EL013\", \"EL014\", \"EL015\", \"EL016\", \"EL017\", \"EL019\", \"EL020\", \"EL021\",\n",
    "         \"EL022\", \"EL024\", \"EL025\", \"EL026\", \"EL027\"]\n",
    "\n",
    "# subjs = [\"EL010\", \"EL011\", \"EL012\", \"EL013\"]\n",
    "DI_file = sub_path + 'EvM\\Projects\\EL_experiment\\Analysis\\Patients\\Across\\BrainMapping\\General\\data\\M_dir_all.csv'\n",
    "con_file = sub_path + 'EvM\\Projects\\EL_experiment\\Analysis\\Patients\\Across\\BrainMapping\\General\\data\\data_con.csv'\n",
    "path_export = os.path.join(sub_path, 'EvM\\\\Projects\\\\EL_experiment\\Analysis\\Patients\\Across\\BrainMapping\\General\\data\\\\')\n",
    "# summ_general.csv\n",
    "\n",
    "# summ_wake.csv\n",
    "file = 'summ_wake.csv'\n",
    "# only sleep subjs\n",
    "subjs = [\"EL010\", \"EL011\", \"EL014\", \"EL015\", \"EL016\", \"EL017\", \"EL019\", \"EL020\", \"EL021\",\n",
    "         \"EL022\", \"EL025\", \"EL026\", \"EL027\"]\n",
    "file = 'summ_general.csv'\n",
    "subjs = [\"EL010\", \"EL011\", \"EL012\", \"EL013\", \"EL014\", \"EL015\", \"EL016\", \"EL017\", \"EL019\", \"EL020\", \"EL021\",\n",
    "         \"EL022\", \"EL024\", \"EL025\", \"EL026\", \"EL027\"]\n",
    "\n",
    "file_path = os.path.join(path_export,file) \n",
    "###load data\n",
    "rerun = 0\n",
    "if not os.path.exists(file_path):\n",
    "    rerun = 1\n",
    "if rerun:\n",
    "    print('concetaneting files')\n",
    "    ls.get_connections(subjs, sub_path, file)\n",
    "    \n",
    "data_con = pd.read_csv(file_path)\n",
    "data_con.insert(6, 'Group', 'local')\n",
    "data_con.loc[(data_con.d>20)&(data_con.delay>0.02), 'Group'] = 'indirect'\n",
    "data_con.loc[(data_con.d>20)&(data_con.delay<=0.02), 'Group'] = 'direct'\n",
    "data_con.loc[(data_con.Sig==0), 'Group'] = 'None'\n",
    "data_con_clean = data_con[~np.isnan(data_con.DI)].reset_index(drop=True)\n",
    "data_con_clean['DI_abs'] = abs(data_con_clean.DI)"
   ]
  },
  {
   "cell_type": "markdown",
   "id": "52f37061",
   "metadata": {},
   "source": [
    "# Data"
   ]
  },
  {
   "cell_type": "code",
   "execution_count": 18,
   "id": "d3dff634",
   "metadata": {},
   "outputs": [],
   "source": [
    "features = ['Sig', 'DI', 'd', 'delay'] # ['DI', 'd', 'delay']\n",
    "\n",
    "data_mean = data_con_clean.groupby(['Subj', 'ChanSR', 'StimSR','StimR', 'ChanR'], as_index=False)[features].mean()\n",
    "data_mean.insert(1,'Chan',data_mean.groupby(['Subj', 'ChanSR']).ngroup())\n",
    "for c in np.unique(data_mean.Chan):\n",
    "    area = data_mean.loc[data_mean.Chan == c, 'ChanSR'].values[0]\n",
    "    data_mean.loc[data_mean.StimSR == area, 'Stim'] = int(c)\n",
    "data_mean.Stim = data_mean.Stim.astype('int')"
   ]
  },
  {
   "cell_type": "markdown",
   "id": "10c600e3",
   "metadata": {},
   "source": [
    "# Total Number of Connections"
   ]
  },
  {
   "cell_type": "code",
   "execution_count": 7,
   "id": "199e458a",
   "metadata": {},
   "outputs": [
    {
     "data": {
      "image/png": "[encoded data removed]",
      "text/plain": [
       "<Figure size 360x216 with 1 Axes>"
      ]
     },
     "metadata": {
      "needs_background": "light"
     },
     "output_type": "display_data"
    }
   ],
   "source": [
    "plt.figure(figsize=(5,3))\n",
    "sns.histplot(x= \"d\",\n",
    "             data=data_con[data_con.Sig>0],\n",
    "              bins=50,\n",
    "              hue=\"Group\",\n",
    "              kde=False, multiple=\"stack\")\n",
    "plt.title('Number of Connection across patients')\n",
    "plt.xlabel('Euclidean Distance')\n",
    "plt.ylabel('Connection Count')\n",
    "path_save ='X:\\\\4 e-Lab\\\\EvM\\\\Projects\\\\EL_experiment\\\\Analysis\\\\Patients\\\\Across\\\\BrainMapping\\\\General\\\\connection\\\\Count_hist_grouped.svg'\n",
    "plt.savefig(path_save)"
   ]
  },
  {
   "cell_type": "markdown",
   "id": "4118fb43",
   "metadata": {},
   "source": [
    "# Out- / In-Degree Ratio"
   ]
  },
  {
   "cell_type": "code",
   "execution_count": 42,
   "id": "3a2b0b4b",
   "metadata": {},
   "outputs": [],
   "source": [
    "def plot_degree(df, con_type = 'all'):\n",
    "    import matplotlib as mpl\n",
    "    #get Region information from original table\n",
    "    df = df.merge(data_con.groupby(['ChanC', 'Subj', 'ChanSR', 'ChanR'], as_index=False)['d'].mean(), on = 'ChanC', how = 'left')\n",
    "    df = df.drop(columns = 'd')\n",
    "    print('plotting colorbar')\n",
    "    data_plot = df.groupby(['Subj', 'ChanR', 'ChanSR'], as_index=False)['DR'].mean()\n",
    "    cmap = mpl.cm.seismic\n",
    "    for area in np.unique(data_plot.ChanR):\n",
    "        values_plot = data_plot.loc[data_plot.ChanR == area, 'DR'].values\n",
    "        fig=plt.figure(figsize=(0.5,3))\n",
    "        plt.title('Dout / Din Ratio Across Nodes in '+area)\n",
    "        ax=fig.add_subplot(111)\n",
    "        ax.axis([0,1,-0.5,0.5])\n",
    "        norm = plt.Normalize(-0.5, 0.5)\n",
    "        norm = mpl.colors.Normalize(vmin=-0.5, vmax=0.5)\n",
    "        cb1 = mpl.colorbar.ColorbarBase(ax, cmap=cmap,\n",
    "                                        orientation='vertical',\n",
    "                                        ticks=[-0.5,0,0.5], norm=norm,\n",
    "                                        )\n",
    "        ax.axhline(np.percentile(values_plot, 25), color = 'k', ls = '--')\n",
    "        ax.axhline(np.percentile(values_plot, 75), color = 'k', ls = '--')\n",
    "        ax.axhline(np.nanmedian(values_plot), color = 'k', ls = '-')\n",
    "        ax.axhspan(np.percentile(values_plot, 25), np.percentile(values_plot, 75), facecolor='papayawhip', alpha = 0.5)\n",
    "        path_save ='X:\\\\4 e-Lab\\\\EvM\\\\Projects\\\\EL_experiment\\\\Analysis\\\\Patients\\\\Across\\\\BrainMapping\\\\General\\\\Nodes\\\\D_ratio_bar_'+area+'_'+con_type+'.svg'\n",
    "        plt.savefig(path_save)\n",
    "        plt.close()\n",
    "    print('plotting boxplot overview')\n",
    "    fig = plt.figure(figsize=(5,3))\n",
    "    plt.subplots_adjust(bottom = 0.4, left= 0.1)\n",
    "    ax = sns.boxplot(x='ChanR', y= 'DR', data = data_plot, order = regions_all, palette = region_col)\n",
    "    plt.setp(ax.get_xticklabels(), rotation=90)\n",
    "    path_save ='X:\\\\4 e-Lab\\\\EvM\\\\Projects\\\\EL_experiment\\\\Analysis\\\\Patients\\\\Across\\\\BrainMapping\\\\General\\\\Nodes\\\\D_ratio_box_'+con_type+'.svg'\n",
    "    plt.title('Dout / Din Ratio Across Nodes ('+con_type+')')\n",
    "    plt.ylim([-1,1])\n",
    "    plt.yticks([-1,-0.5, 0,0.5, 1], ['receiving', '+100%', '0','+100%', 'sending'])\n",
    "    plt.axhline(0, color='k', alpha = 0.7)\n",
    "    plt.xlabel('')\n",
    "    plt.ylabel('Degree Ratio')\n",
    "    plt.savefig(path_save)\n",
    "    plt.show()"
   ]
  },
  {
   "cell_type": "code",
   "execution_count": 16,
   "id": "38968bad",
   "metadata": {},
   "outputs": [],
   "source": [
    "# add unique node numbers\n",
    "data_con['StimC'] = data_con.groupby(['Subj', 'Stim']).ngroup()\n",
    "for c_unique in np.unique(data_con['StimC']):\n",
    "    c = data_con.loc[data_con.StimC == c_unique, 'Stim'].values[0]\n",
    "    subj = data_con.loc[data_con.StimC == c_unique, 'Subj'].values[0]\n",
    "    data_con.loc[(data_con.Subj == subj)&(data_con.Chan == c), 'ChanC'] = int(c_unique)\n",
    "data_con['ChanC'] =data_con['ChanC'].astype('int') "
   ]
  },
  {
   "cell_type": "code",
   "execution_count": 43,
   "id": "4238923c",
   "metadata": {},
   "outputs": [
    {
     "name": "stdout",
     "output_type": "stream",
     "text": [
      "plotting colorbar\n",
      "plotting boxplot overview\n"
     ]
    },
    {
     "data": {
      "image/png": "[encoded data removed]",
      "text/plain": [
       "<Figure size 360x216 with 1 Axes>"
      ]
     },
     "metadata": {
      "needs_background": "light"
     },
     "output_type": "display_data"
    }
   ],
   "source": [
    "# calculate in - / out degree for each node\n",
    "nodes = []\n",
    "Dout = []\n",
    "Din = []\n",
    "for c_unique in np.unique(data_con['StimC']):\n",
    "    nodes.append(c_unique)\n",
    "    Dout.append(len(data_con[(data_con.StimC==c_unique)&(data_con.Sig>0)]))\n",
    "    Din.append(len(data_con[(data_con.ChanC==c_unique)&(data_con.Sig>0)]))\n",
    "    \n",
    "df = pd.DataFrame({\n",
    "        'ChanC': nodes,\n",
    "        'Dout': Dout,\n",
    "        'Din': Din\n",
    "    })\n",
    "df['DR'] = ((1 - df['Din'] / df['Dout'])).where(df['Din'] < df['Dout'], (-1*(1 - df['Dout'] / df['Din'])))#df['DR']= df['Dout']/df['Din']  \n",
    "plot_degree(df, con_type = 'all')"
   ]
  },
  {
   "cell_type": "code",
   "execution_count": null,
   "id": "15597aae",
   "metadata": {},
   "outputs": [],
   "source": [
    "con_P = con_P.groupby(['StimSR', 'ChanSR'], as_index = False)[['Sig', 'd']].mean()\n",
    "data_mean = data_mean.rename(columns={\"ChanSR\": \"ChanA\", \"StimSR\": \"StimA\"}, errors=\"raise\")\n",
    "# Create a single mapping for both \"StimR\" and \"ChanR\" columns\n",
    "mapping = {region: i for i, region in enumerate(pd.concat([data_mean['ChanA'], con_P['StimA']]).unique())}\n",
    "# Map the region labels to integers in new columns\n",
    "con_P['Stim'] = con_P['StimA'].map(mapping)\n",
    "con_P['Chan'] = con_P['ChanA'].map(mapping)"
   ]
  },
  {
   "cell_type": "markdown",
   "id": "1cffd2d3",
   "metadata": {},
   "source": [
    "## Connection Probability"
   ]
  },
  {
   "cell_type": "code",
   "execution_count": 44,
   "id": "550bfb09",
   "metadata": {},
   "outputs": [],
   "source": [
    "# Region\n",
    "con_P = data_con.copy()\n",
    "con_P.loc[con_P.Sig>0, 'Sig'] = 1\n",
    "con_P = con_P.groupby(['Subj', 'StimR', 'ChanR'], as_index = False)[['Sig', 'd']].mean()\n",
    "con_P = con_P.groupby(['StimR', 'ChanR'], as_index = False)[['Sig', 'd']].mean()\n",
    "# Create a single mapping for both \"StimR\" and \"ChanR\" columns\n",
    "mapping = {region: i for i, region in enumerate(pd.concat([con_P['StimR'], con_P['ChanR']]).unique())}\n",
    "mapping_A = {region: all_region.loc[all_region.Region == region, 'Subregion'].values[0] for i, region in enumerate(pd.concat([con_P['StimR'], con_P['ChanR']]).unique())}\n",
    "# Map the region labels to integers in new columns\n",
    "con_P['Stim'] = con_P['StimR'].map(mapping)\n",
    "con_P['Chan'] = con_P['ChanR'].map(mapping)\n",
    "\n",
    "con_P['StimA'] = con_P['StimR'].map(mapping_A)\n",
    "con_P['ChanA'] = con_P['ChanR'].map(mapping_A)"
   ]
  },
  {
   "cell_type": "code",
   "execution_count": 45,
   "id": "4b1d20a9",
   "metadata": {},
   "outputs": [
    {
     "data": {
      "text/plain": [
       "<Figure size 1440x1440 with 0 Axes>"
      ]
     },
     "metadata": {},
     "output_type": "display_data"
    }
   ],
   "source": [
    "df = con_P.copy()\n",
    "df.insert(0, 'Subj', 'EL010')\n",
    "df['show'] = np.ones((len(df,)))\n",
    "df['lw'] = df['Sig']\n",
    "df['show'] = np.ones((len(df,)))\n",
    "\n",
    "path_save ='X:\\\\4 e-Lab\\\\EvM\\\\Projects\\\\EL_experiment\\\\Analysis\\\\Patients\\\\Across\\\\BrainMapping\\\\General\\\\connection\\\\Connect_P_Region.svg'\n",
    "plotter = ConnectogramPlotter()\n",
    "os.chdir(path_connectogram)\n",
    "plotter.load_data(df, path_save)\n",
    "plotter.show_plot(' Connection Probability (Region)', 'area', 'r')\n",
    "plt.close()\n",
    "os.chdir(cwp)"
   ]
  },
  {
   "cell_type": "code",
   "execution_count": null,
   "id": "778faeaa",
   "metadata": {},
   "outputs": [],
   "source": [
    "# Subegion\n",
    "con_P = data_con.copy()\n",
    "con_P.loc[con_P.Sig>0, 'Sig'] = 1\n",
    "con_P = con_P.groupby(['Subj', 'StimSR', 'ChanSR'], as_index = False)[['Sig', 'd']].mean()\n",
    "con_P = con_P.groupby(['StimSR', 'ChanSR'], as_index = False)[['Sig', 'd']].mean()\n",
    "con_P = con_P.rename(columns={\"ChanSR\": \"ChanA\", \"StimSR\": \"StimA\"}, errors=\"raise\")\n",
    "# Create a single mapping for both \"StimR\" and \"ChanR\" columns\n",
    "mapping = {region: i for i, region in enumerate(pd.concat([con_P['ChanA'], con_P['StimA']]).unique())}\n",
    "# Map the region labels to integers in new columns\n",
    "con_P['Stim'] = con_P['StimA'].map(mapping)\n",
    "con_P['Chan'] = con_P['ChanA'].map(mapping)"
   ]
  },
  {
   "cell_type": "code",
   "execution_count": null,
   "id": "4e864e97",
   "metadata": {},
   "outputs": [],
   "source": [
    "df = con_P.copy()\n",
    "df.insert(0, 'Subj', 'EL010')\n",
    "df['show'] = np.ones((len(df,)))\n",
    "df['lw'] = df['Sig']\n",
    "df['show'] = np.ones((len(df,)))\n",
    "\n",
    "path_save ='X:\\\\4 e-Lab\\\\EvM\\\\Projects\\\\EL_experiment\\\\Analysis\\\\Patients\\\\Across\\\\BrainMapping\\\\General\\\\connection\\\\Connect_P_SubRegion.svg'\n",
    "plotter = ConnectogramPlotter()\n",
    "os.chdir(path_connectogram)\n",
    "plotter.load_data(df, path_save)\n",
    "plotter.show_plot(' Connection Probability (Subregion)', 'area', 'r')\n",
    "plt.close()\n",
    "os.chdir(cwp)"
   ]
  },
  {
   "cell_type": "code",
   "execution_count": null,
   "id": "69d3b48d",
   "metadata": {
    "scrolled": true
   },
   "outputs": [],
   "source": [
    "stop"
   ]
  },
  {
   "cell_type": "markdown",
   "id": "d7da63c9",
   "metadata": {},
   "source": [
    "# DI & Probability CCEP"
   ]
  },
  {
   "cell_type": "code",
   "execution_count": 59,
   "id": "807bbeb5",
   "metadata": {},
   "outputs": [
    {
     "data": {
      "image/png": "[encoded data removed]",
      "text/plain": [
       "<Figure size 576x432 with 2 Axes>"
      ]
     },
     "metadata": {
      "needs_background": "light"
     },
     "output_type": "display_data"
    }
   ],
   "source": [
    "df = data_con_clean[data_con_clean.Sig>0].reset_index(drop=True)\n",
    "# Create a figure with two y-axes\n",
    "fig, ax1 = plt.subplots(figsize=(8, 6))\n",
    "ax2 = ax1.twinx()\n",
    "c_P = color_elab[0]\n",
    "c_DI = color_elab[2]\n",
    "\n",
    "sns.violinplot(x='Group', y = 'Sig', data = df, hue=True,\n",
    "    hue_order=[True, False], split=True, ax=ax1, inner=\"quart\", palette=[c_P, 'white'], legend=False)\n",
    "sns.violinplot(x='Group', y = 'DI_abs', data = df, hue=True,\n",
    "    hue_order=[False, True], split=True, ax=ax2, inner=\"quart\", color=c_DI, legend=False)\n",
    "ax2.invert_yaxis()\n",
    "ax1.legend([])\n",
    "ax2.legend([])\n",
    "# Set y-axis labels and titles\n",
    "ax1.set_ylabel(\"Sig\", color=c_P)\n",
    "ax2.set_ylabel(\"DI\", color=c_DI)\n",
    "path_save ='X:\\\\4 e-Lab\\\\EvM\\\\Projects\\\\EL_experiment\\\\Analysis\\\\Patients\\\\Across\\\\BrainMapping\\\\General\\\\DI\\\\DI_P_violin.svg'\n",
    "plt.savefig(path_save)"
   ]
  },
  {
   "cell_type": "code",
   "execution_count": null,
   "id": "e22ea17c",
   "metadata": {},
   "outputs": [],
   "source": [
    "data_stats = data_con_clean[(data_con_clean.DI>=-1)&(data_con_clean.Sig>0)]\n",
    "formula = 'Sig ~ C(StimR) + C(ChanR) + d + delay'\n",
    "model = sm.OLS.from_formula(formula, data=data_stats, groups=data_stats['Subj']).fit()\n",
    "print(model.summary())"
   ]
  },
  {
   "cell_type": "code",
   "execution_count": null,
   "id": "288f8637",
   "metadata": {
    "scrolled": true
   },
   "outputs": [],
   "source": [
    "data_stats = data_con_clean[(data_con_clean.DI>=-1)]\n",
    "formula = 'DI ~ C(StimR) +d'\n",
    "model = sm.OLS.from_formula(formula, data=data_stats, groups=data_stats['Subj']).fit()\n",
    "print(model.summary())"
   ]
  },
  {
   "cell_type": "code",
   "execution_count": null,
   "id": "f0e63fe5",
   "metadata": {},
   "outputs": [],
   "source": [
    "data_stats = data_con_clean[(data_con_clean.Sig>0)]\n",
    "formula = 'DI_abs ~ C(StimR) +d +delay'\n",
    "model = sm.OLS.from_formula(formula, data=data_stats, groups=data_stats['Subj']).fit()\n",
    "print(model.summary())"
   ]
  },
  {
   "cell_type": "markdown",
   "id": "1c846100",
   "metadata": {},
   "source": [
    "## DI Brain-area"
   ]
  },
  {
   "cell_type": "code",
   "execution_count": 72,
   "id": "9151166e",
   "metadata": {},
   "outputs": [],
   "source": [
    "def plot_DI(df, con_type = 'all'):\n",
    "    import matplotlib as mpl\n",
    "    cmap = mpl.cm.seismic\n",
    "    for area in regions_all:\n",
    "        values_plot = df.loc[df.StimR == area, 'DI'].values\n",
    "        fig=plt.figure(figsize=(0.5,3))\n",
    "        plt.title('Dout / Din Ratio Across Nodes in '+area)\n",
    "        ax=fig.add_subplot(111)\n",
    "        ax.axis([0,1,-1,1])\n",
    "        norm = mpl.colors.Normalize(vmin=-1, vmax=1)\n",
    "        cb1 = mpl.colorbar.ColorbarBase(ax, cmap=cmap,\n",
    "                                        orientation='vertical',\n",
    "                                        ticks=[-1,0,1], norm=norm,\n",
    "                                        )\n",
    "        ax.axhline(np.percentile(values_plot, 25), color = 'k', ls = '--')\n",
    "        ax.axhline(np.percentile(values_plot, 75), color = 'k', ls = '--')\n",
    "        ax.axhline(np.nanmedian(values_plot), color = 'k', ls = '-')\n",
    "        ax.axhspan(np.percentile(values_plot, 25), np.percentile(values_plot, 75), facecolor='papayawhip', alpha = 0.5)\n",
    "        path_save ='X:\\\\4 e-Lab\\\\EvM\\\\Projects\\\\EL_experiment\\\\Analysis\\\\Patients\\\\Across\\\\BrainMapping\\\\General\\\\connection\\\\DI_bar_'+area+'.svg'\n",
    "        plt.savefig(path_save)\n",
    "        plt.close()\n",
    "        \n",
    "        fig = plt.figure(figsize=(5,3))\n",
    "        plt.title('Stim in '+area)\n",
    "        plt.subplots_adjust(bottom = 0.5, left= 0.2)\n",
    "        ax = sns.boxplot(x='ChanR', y = 'DI', data = df[df.StimR == area], order = regions_all, palette = region_col)\n",
    "        plt.setp(ax.get_xticklabels(), rotation=90)\n",
    "        path_save ='X:\\\\4 e-Lab\\\\EvM\\\\Projects\\\\EL_experiment\\\\Analysis\\\\Patients\\\\Across\\\\BrainMapping\\\\General\\\\connection\\\\DI_Box_'+area+'.svg'\n",
    "        plt.ylim([-1,1])\n",
    "        plt.xlabel('')\n",
    "        plt.savefig(path_save)\n",
    "        plt.close()\n",
    "    \n",
    "    print('plotting boxplot overview')\n",
    "    fig = plt.figure(figsize=(5,3))\n",
    "    plt.subplots_adjust(bottom = 0.5, left= 0.2)\n",
    "    ax = sns.violinplot(x='StimR', y = 'DI', data = df, order = regions_all, palette = region_col)\n",
    "    plt.setp(ax.get_xticklabels(), rotation=90)\n",
    "    path_save ='X:\\\\4 e-Lab\\\\EvM\\\\Projects\\\\EL_experiment\\\\Analysis\\\\Patients\\\\Across\\\\BrainMapping\\\\General\\\\connection\\\\DI_violin_all.svg'\n",
    "    plt.ylim([-1.5,1.5])\n",
    "    plt.yticks([-1,0,1])\n",
    "    plt.axhline(0, color='k', alpha = 0.7)\n",
    "    plt.title('Mean DI')\n",
    "    plt.xlabel('')\n",
    "    plt.savefig(path_save)\n",
    "    plt.show()"
   ]
  },
  {
   "cell_type": "code",
   "execution_count": 73,
   "id": "06e9a1ba",
   "metadata": {},
   "outputs": [
    {
     "name": "stdout",
     "output_type": "stream",
     "text": [
      "plotting boxplot overview\n"
     ]
    },
    {
     "data": {
      "image/png": "[encoded data removed]",
      "text/plain": [
       "<Figure size 360x216 with 1 Axes>"
      ]
     },
     "metadata": {
      "needs_background": "light"
     },
     "output_type": "display_data"
    }
   ],
   "source": [
    "data_plot = data_con_clean[np.isin(data_con_clean.StimR,regions_all)&(data_con_clean.d>20)].reset_index(drop=True)\n",
    "# data_plot = data_mean[np.isin(data_mean.StimR,regions_all)&(data_mean.d>20)].reset_index(drop=True)\n",
    "plot_DI(data_plot, con_type = 'all')"
   ]
  },
  {
   "cell_type": "markdown",
   "id": "756fe4b9",
   "metadata": {},
   "source": [
    "## DI Connectogram"
   ]
  },
  {
   "cell_type": "code",
   "execution_count": null,
   "id": "b70b447a",
   "metadata": {},
   "outputs": [],
   "source": [
    "#area = 'Insula'\n",
    "for subj in np.unique(data_mean.Subj):\n",
    "    data_plot_all = data_con_clean[(data_con_clean.Subj == subj)&(data_con_clean.Sig > 0)].reset_index(drop=True)\n",
    "    data_plot_all = data_plot_all.drop(columns = ['ChanA' , 'StimA'])\n",
    "    data_plot_all = data_plot_all.rename(columns={\"ChanSR\": \"ChanA\", \"StimSR\": \"StimA\"}, errors=\"raise\")\n",
    "    data_plot_all['show'] = np.ones((len(data_plot_all,)))\n",
    "    data_plot_all['lw'] = data_plot_all['Sig']\n",
    "    data_plot_all['show'] = np.zeros((len(data_plot_all,)))\n",
    "    data_plot_all.loc[np.isin(data_plot_all.Subj, subj), 'show'] =1\n",
    "    if np.sum(data_plot_all.show)>0:\n",
    "        path_save ='X:\\\\4 e-Lab\\\\EvM\\\\Projects\\\\EL_experiment\\\\Analysis\\\\Patients\\\\Across\\\\BrainMapping\\\\General\\\\connection\\\\All_'+subj+'.svg'\n",
    "        plotter = ConnectogramPlotter()\n",
    "        os.chdir(path_connectogram)\n",
    "        plotter.load_data(data_plot_all, path_save)\n",
    "        plotter.show_plot(subj +' -- All Connections', 'area')\n",
    "        plt.close()\n",
    "        os.chdir(cwp)"
   ]
  },
  {
   "cell_type": "code",
   "execution_count": null,
   "id": "22395084",
   "metadata": {},
   "outputs": [],
   "source": [
    "data_plot_all = data_mean[(data_mean.d > 20)].reset_index(drop=True)\n",
    "data_plot_all = data_plot_all.rename(columns={\"ChanSR\": \"ChanA\", \"StimSR\": \"StimA\"}, errors=\"raise\")\n",
    "data_plot_all['show'] = np.ones((len(data_plot_all,)))\n",
    "data_plot_all['lw'] = data_plot_all['DI']\n",
    "if len(data_plot_all)>0:\n",
    "    path_save ='X:\\\\4 e-Lab\\\\EvM\\\\Projects\\\\EL_experiment\\\\Analysis\\\\Patients\\\\Across\\\\BrainMapping\\\\General\\\\connection\\\\Mean_DI_unidirectional_all.svg'\n",
    "    plotter = ConnectogramPlotter()\n",
    "    os.chdir(path_connectogram)\n",
    "    plotter.load_data(data_plot_all, path_save)\n",
    "    plotter.show_plot('All -- Unidirectional Connections (B-R)', 'area')\n",
    "    plt.close()\n",
    "    os.chdir(cwp)"
   ]
  },
  {
   "cell_type": "code",
   "execution_count": null,
   "id": "80fa3234",
   "metadata": {},
   "outputs": [],
   "source": [
    "data_plot_all = data_mean[(data_mean.DI > 0.3)& (data_mean.d > 0.02)].reset_index(drop=True)\n",
    "data_plot_all = data_plot_all.rename(columns={\"ChanSR\": \"ChanA\", \"StimSR\": \"StimA\"}, errors=\"raise\")\n",
    "data_plot_all['show'] = np.ones((len(data_plot_all,)))\n",
    "data_plot_all['lw'] = data_plot_all['DI']\n",
    "if len(data_plot_all)>0:\n",
    "    path_save ='X:\\\\4 e-Lab\\\\EvM\\\\Projects\\\\EL_experiment\\\\Analysis\\\\Patients\\\\Across\\\\BrainMapping\\\\General\\\\connection\\\\Mean_DI_unidirectional_all.svg'\n",
    "    plotter = ConnectogramPlotter()\n",
    "    os.chdir(path_connectogram)\n",
    "    plotter.load_data(data_plot_all, path_save)\n",
    "    plotter.show_plot('All -- Unidirectional Connections (B-R)', 'area')\n",
    "    plt.close()\n",
    "    os.chdir(cwp)"
   ]
  },
  {
   "cell_type": "code",
   "execution_count": 75,
   "id": "a1e4b4cb",
   "metadata": {},
   "outputs": [],
   "source": [
    "data_plot_all = data_mean[(data_mean.DI >=0.2) & (data_mean.d > 20)].reset_index(drop=True)\n",
    "data_plot_all = data_plot_all.rename(columns={\"ChanSR\": \"ChanA\", \"StimSR\": \"StimA\"}, errors=\"raise\")\n",
    "data_plot_all['show'] = np.ones((len(data_plot_all,)))\n",
    "data_plot_all['lw'] = data_plot_all['Sig']"
   ]
  },
  {
   "cell_type": "code",
   "execution_count": 76,
   "id": "03095e18",
   "metadata": {},
   "outputs": [
    {
     "data": {
      "text/plain": [
       "<Figure size 1440x1440 with 0 Axes>"
      ]
     },
     "metadata": {},
     "output_type": "display_data"
    },
    {
     "data": {
      "text/plain": [
       "<Figure size 1440x1440 with 0 Axes>"
      ]
     },
     "metadata": {},
     "output_type": "display_data"
    },
    {
     "data": {
      "text/plain": [
       "<Figure size 1440x1440 with 0 Axes>"
      ]
     },
     "metadata": {},
     "output_type": "display_data"
    },
    {
     "data": {
      "text/plain": [
       "<Figure size 1440x1440 with 0 Axes>"
      ]
     },
     "metadata": {},
     "output_type": "display_data"
    },
    {
     "data": {
      "text/plain": [
       "<Figure size 1440x1440 with 0 Axes>"
      ]
     },
     "metadata": {},
     "output_type": "display_data"
    },
    {
     "data": {
      "text/plain": [
       "<Figure size 1440x1440 with 0 Axes>"
      ]
     },
     "metadata": {},
     "output_type": "display_data"
    },
    {
     "data": {
      "text/plain": [
       "<Figure size 1440x1440 with 0 Axes>"
      ]
     },
     "metadata": {},
     "output_type": "display_data"
    },
    {
     "data": {
      "text/plain": [
       "<Figure size 1440x1440 with 0 Axes>"
      ]
     },
     "metadata": {},
     "output_type": "display_data"
    },
    {
     "data": {
      "text/plain": [
       "<Figure size 1440x1440 with 0 Axes>"
      ]
     },
     "metadata": {},
     "output_type": "display_data"
    },
    {
     "data": {
      "text/plain": [
       "<Figure size 1440x1440 with 0 Axes>"
      ]
     },
     "metadata": {},
     "output_type": "display_data"
    },
    {
     "data": {
      "text/plain": [
       "<Figure size 1440x1440 with 0 Axes>"
      ]
     },
     "metadata": {},
     "output_type": "display_data"
    },
    {
     "data": {
      "text/plain": [
       "<Figure size 1440x1440 with 0 Axes>"
      ]
     },
     "metadata": {},
     "output_type": "display_data"
    },
    {
     "data": {
      "text/plain": [
       "<Figure size 1440x1440 with 0 Axes>"
      ]
     },
     "metadata": {},
     "output_type": "display_data"
    },
    {
     "data": {
      "text/plain": [
       "<Figure size 1440x1440 with 0 Axes>"
      ]
     },
     "metadata": {},
     "output_type": "display_data"
    },
    {
     "data": {
      "text/plain": [
       "<Figure size 1440x1440 with 0 Axes>"
      ]
     },
     "metadata": {},
     "output_type": "display_data"
    },
    {
     "data": {
      "text/plain": [
       "<Figure size 1440x1440 with 0 Axes>"
      ]
     },
     "metadata": {},
     "output_type": "display_data"
    },
    {
     "data": {
      "text/plain": [
       "<Figure size 1440x1440 with 0 Axes>"
      ]
     },
     "metadata": {},
     "output_type": "display_data"
    },
    {
     "data": {
      "text/plain": [
       "<Figure size 1440x1440 with 0 Axes>"
      ]
     },
     "metadata": {},
     "output_type": "display_data"
    },
    {
     "data": {
      "text/plain": [
       "<Figure size 1440x1440 with 0 Axes>"
      ]
     },
     "metadata": {},
     "output_type": "display_data"
    },
    {
     "data": {
      "text/plain": [
       "<Figure size 1440x1440 with 0 Axes>"
      ]
     },
     "metadata": {},
     "output_type": "display_data"
    }
   ],
   "source": [
    "for area in np.unique(data_mean.StimR):\n",
    "    for h in ['l', 'r']:\n",
    "        data_plot_all['show'] = np.zeros((len(data_plot_all,)))\n",
    "        if h == 'l':\n",
    "            data_plot_all.loc[(data_plot_all.delay<0.02)&((np.isin(data_plot_all.StimR, area))|(np.isin(data_plot_all.ChanR, area))), 'show'] =1\n",
    "            label = 'direct'\n",
    "        else:\n",
    "            data_plot_all.loc[(data_plot_all.delay>=0.02)&((np.isin(data_plot_all.StimR, area))|(np.isin(data_plot_all.ChanR, area))), 'show'] =1\n",
    "            label = 'indirect'\n",
    "        data_plot_all['sort'] = 0\n",
    "        data_plot_all.loc[(np.isin(data_plot_all.ChanR, area)), 'sort'] =1\n",
    "        data_plot_all = data_plot_all.sort_values(by=['sort']).reset_index(drop=True)\n",
    "        if np.sum(data_plot_all.show)>0:\n",
    "            path_save ='X:\\\\4 e-Lab\\\\EvM\\\\Projects\\\\EL_experiment\\\\Analysis\\\\Patients\\\\Across\\\\BrainMapping\\\\General\\\\connection\\\\Mean_DI_'+area+'_'+label+'.svg'\n",
    "            plotter = ConnectogramPlotter()\n",
    "            os.chdir(path_connectogram)\n",
    "            plotter.load_data(data_plot_all, path_save)\n",
    "            plotter.show_plot(area +' -- '+label+' Connections (B-R)', 'area')\n",
    "            plt.close()\n",
    "            os.chdir(cwp)"
   ]
  },
  {
   "cell_type": "code",
   "execution_count": 84,
   "id": "2af3cbc8",
   "metadata": {},
   "outputs": [
    {
     "data": {
      "text/plain": [
       "<Figure size 1440x1440 with 0 Axes>"
      ]
     },
     "metadata": {},
     "output_type": "display_data"
    }
   ],
   "source": [
    "subj = 'EL011'\n",
    "data_plot_all = data_con_clean[(data_con_clean.Subj == subj)&(data_con_clean.Sig > 0)].reset_index(drop=True)\n",
    "data_plot_all = data_plot_all.drop(columns = ['ChanA' , 'StimA'])\n",
    "data_plot_all = data_plot_all.rename(columns={\"ChanSR\": \"ChanA\", \"StimSR\": \"StimA\"}, errors=\"raise\")\n",
    "\n",
    "chans_selected = [6,9, 40,16,44, 65] \n",
    "data_plot_all = data_con_clean[(data_con_clean.Subj == subj)&(data_con_clean.Sig > 0)].reset_index(drop=True)\n",
    "data_plot_all = data_plot_all.drop(columns = ['ChanA' , 'StimA'])\n",
    "data_plot_all = data_plot_all.rename(columns={\"ChanSR\": \"ChanA\", \"StimSR\": \"StimA\"}, errors=\"raise\")\n",
    "data_plot_all['show'] = np.ones((len(data_plot_all,)))\n",
    "data_plot_all['lw'] = data_plot_all['Sig']\n",
    "data_plot_all['show'] = np.zeros((len(data_plot_all,)))\n",
    "data_plot_all.loc[(data_plot_all.Stim == 19)&np.isin(data_plot_all.Chan,chans_selected), 'show'] = 1\n",
    "\n",
    "path_save ='X:\\\\4 e-Lab\\\\EvM\\\\Projects\\\\EL_experiment\\\\Analysis\\\\Patients\\\\Across\\\\BrainMapping\\\\General\\\\connection\\\\selected_'+subj+'.svg'\n",
    "plotter = ConnectogramPlotter()\n",
    "os.chdir(path_connectogram)\n",
    "plotter.load_data(data_plot_all, path_save)\n",
    "plotter.show_plot(subj +' -- Connections', 'area')\n",
    "plt.close()\n",
    "os.chdir(cwp)"
   ]
  },
  {
   "cell_type": "code",
   "execution_count": 77,
   "id": "eb07ac31",
   "metadata": {
    "scrolled": false
   },
   "outputs": [
    {
     "data": {
      "text/plain": [
       "<Figure size 1440x1440 with 0 Axes>"
      ]
     },
     "metadata": {},
     "output_type": "display_data"
    },
    {
     "data": {
      "text/plain": [
       "<Figure size 1440x1440 with 0 Axes>"
      ]
     },
     "metadata": {},
     "output_type": "display_data"
    },
    {
     "data": {
      "text/plain": [
       "<Figure size 1440x1440 with 0 Axes>"
      ]
     },
     "metadata": {},
     "output_type": "display_data"
    },
    {
     "data": {
      "text/plain": [
       "<Figure size 1440x1440 with 0 Axes>"
      ]
     },
     "metadata": {},
     "output_type": "display_data"
    },
    {
     "ename": "KeyboardInterrupt",
     "evalue": "",
     "output_type": "error",
     "traceback": [
      "\u001b[1;31m---------------------------------------------------------------------------\u001b[0m",
      "\u001b[1;31mKeyboardInterrupt\u001b[0m                         Traceback (most recent call last)",
      "\u001b[1;32m<ipython-input-77-0d69b54cd288>\u001b[0m in \u001b[0;36m<module>\u001b[1;34m\u001b[0m\n\u001b[0;32m     13\u001b[0m         \u001b[0mos\u001b[0m\u001b[1;33m.\u001b[0m\u001b[0mchdir\u001b[0m\u001b[1;33m(\u001b[0m\u001b[0mpath_connectogram\u001b[0m\u001b[1;33m)\u001b[0m\u001b[1;33m\u001b[0m\u001b[1;33m\u001b[0m\u001b[0m\n\u001b[0;32m     14\u001b[0m         \u001b[0mplotter\u001b[0m\u001b[1;33m.\u001b[0m\u001b[0mload_data\u001b[0m\u001b[1;33m(\u001b[0m\u001b[0mdata_plot_all\u001b[0m\u001b[1;33m,\u001b[0m \u001b[0mpath_save\u001b[0m\u001b[1;33m)\u001b[0m\u001b[1;33m\u001b[0m\u001b[1;33m\u001b[0m\u001b[0m\n\u001b[1;32m---> 15\u001b[1;33m         \u001b[0mplotter\u001b[0m\u001b[1;33m.\u001b[0m\u001b[0mshow_plot\u001b[0m\u001b[1;33m(\u001b[0m\u001b[0msubj\u001b[0m \u001b[1;33m+\u001b[0m\u001b[1;34m' -- Unidirectional Connections'\u001b[0m\u001b[1;33m,\u001b[0m \u001b[1;34m'area'\u001b[0m\u001b[1;33m)\u001b[0m\u001b[1;33m\u001b[0m\u001b[1;33m\u001b[0m\u001b[0m\n\u001b[0m\u001b[0;32m     16\u001b[0m         \u001b[0mplt\u001b[0m\u001b[1;33m.\u001b[0m\u001b[0mclose\u001b[0m\u001b[1;33m(\u001b[0m\u001b[1;33m)\u001b[0m\u001b[1;33m\u001b[0m\u001b[1;33m\u001b[0m\u001b[0m\n\u001b[0;32m     17\u001b[0m         \u001b[0mos\u001b[0m\u001b[1;33m.\u001b[0m\u001b[0mchdir\u001b[0m\u001b[1;33m(\u001b[0m\u001b[0mcwp\u001b[0m\u001b[1;33m)\u001b[0m\u001b[1;33m\u001b[0m\u001b[1;33m\u001b[0m\u001b[0m\n",
      "\u001b[1;32mX:\\4 e-Lab\\e-Lab shared code\\Softwares\\Connectogram\\main_script.py\u001b[0m in \u001b[0;36mshow_plot\u001b[1;34m(self, title, color_style, h)\u001b[0m\n\u001b[0;32m     37\u001b[0m         \u001b[0mself\u001b[0m\u001b[1;33m.\u001b[0m\u001b[0mfigure\u001b[0m\u001b[1;33m.\u001b[0m\u001b[0mset_size_inches\u001b[0m\u001b[1;33m(\u001b[0m\u001b[1;36m10\u001b[0m\u001b[1;33m,\u001b[0m\u001b[1;36m12\u001b[0m\u001b[1;33m)\u001b[0m\u001b[1;33m\u001b[0m\u001b[1;33m\u001b[0m\u001b[0m\n\u001b[0;32m     38\u001b[0m         \u001b[0mself\u001b[0m\u001b[1;33m.\u001b[0m\u001b[0mfigure\u001b[0m\u001b[1;33m.\u001b[0m\u001b[0msuptitle\u001b[0m\u001b[1;33m(\u001b[0m\u001b[0mtitle\u001b[0m\u001b[1;33m)\u001b[0m\u001b[1;33m\u001b[0m\u001b[1;33m\u001b[0m\u001b[0m\n\u001b[1;32m---> 39\u001b[1;33m         \u001b[0mself\u001b[0m\u001b[1;33m.\u001b[0m\u001b[0mfigure\u001b[0m\u001b[1;33m.\u001b[0m\u001b[0msavefig\u001b[0m\u001b[1;33m(\u001b[0m\u001b[0mself\u001b[0m\u001b[1;33m.\u001b[0m\u001b[0msavepath\u001b[0m\u001b[1;33m,\u001b[0m \u001b[0mdpi\u001b[0m \u001b[1;33m=\u001b[0m \u001b[1;36m300\u001b[0m\u001b[1;33m)\u001b[0m\u001b[1;33m\u001b[0m\u001b[1;33m\u001b[0m\u001b[0m\n\u001b[0m\u001b[0;32m     40\u001b[0m \u001b[1;33m\u001b[0m\u001b[0m\n\u001b[0;32m     41\u001b[0m         \u001b[1;31m# Now show the plot\u001b[0m\u001b[1;33m\u001b[0m\u001b[1;33m\u001b[0m\u001b[1;33m\u001b[0m\u001b[0m\n",
      "\u001b[1;32m~\\AppData\\Roaming\\Python\\Python37\\site-packages\\matplotlib\\figure.py\u001b[0m in \u001b[0;36msavefig\u001b[1;34m(self, fname, transparent, **kwargs)\u001b[0m\n\u001b[0;32m   3056\u001b[0m                         ax.patch._cm_set(facecolor='none', edgecolor='none'))\n\u001b[0;32m   3057\u001b[0m \u001b[1;33m\u001b[0m\u001b[0m\n\u001b[1;32m-> 3058\u001b[1;33m             \u001b[0mself\u001b[0m\u001b[1;33m.\u001b[0m\u001b[0mcanvas\u001b[0m\u001b[1;33m.\u001b[0m\u001b[0mprint_figure\u001b[0m\u001b[1;33m(\u001b[0m\u001b[0mfname\u001b[0m\u001b[1;33m,\u001b[0m \u001b[1;33m**\u001b[0m\u001b[0mkwargs\u001b[0m\u001b[1;33m)\u001b[0m\u001b[1;33m\u001b[0m\u001b[1;33m\u001b[0m\u001b[0m\n\u001b[0m\u001b[0;32m   3059\u001b[0m \u001b[1;33m\u001b[0m\u001b[0m\n\u001b[0;32m   3060\u001b[0m     def ginput(self, n=1, timeout=30, show_clicks=True,\n",
      "\u001b[1;32m~\\AppData\\Roaming\\Python\\Python37\\site-packages\\matplotlib\\backend_bases.py\u001b[0m in \u001b[0;36mprint_figure\u001b[1;34m(self, filename, dpi, facecolor, edgecolor, orientation, format, bbox_inches, pad_inches, bbox_extra_artists, backend, **kwargs)\u001b[0m\n\u001b[0;32m   2323\u001b[0m                         \u001b[0morientation\u001b[0m\u001b[1;33m=\u001b[0m\u001b[0morientation\u001b[0m\u001b[1;33m,\u001b[0m\u001b[1;33m\u001b[0m\u001b[1;33m\u001b[0m\u001b[0m\n\u001b[0;32m   2324\u001b[0m                         \u001b[0mbbox_inches_restore\u001b[0m\u001b[1;33m=\u001b[0m\u001b[0m_bbox_inches_restore\u001b[0m\u001b[1;33m,\u001b[0m\u001b[1;33m\u001b[0m\u001b[1;33m\u001b[0m\u001b[0m\n\u001b[1;32m-> 2325\u001b[1;33m                         **kwargs)\n\u001b[0m\u001b[0;32m   2326\u001b[0m             \u001b[1;32mfinally\u001b[0m\u001b[1;33m:\u001b[0m\u001b[1;33m\u001b[0m\u001b[1;33m\u001b[0m\u001b[0m\n\u001b[0;32m   2327\u001b[0m                 \u001b[1;32mif\u001b[0m \u001b[0mbbox_inches\u001b[0m \u001b[1;32mand\u001b[0m \u001b[0mrestore_bbox\u001b[0m\u001b[1;33m:\u001b[0m\u001b[1;33m\u001b[0m\u001b[1;33m\u001b[0m\u001b[0m\n",
      "\u001b[1;32m~\\AppData\\Roaming\\Python\\Python37\\site-packages\\matplotlib\\backend_bases.py\u001b[0m in \u001b[0;36mwrapper\u001b[1;34m(*args, **kwargs)\u001b[0m\n\u001b[0;32m   1646\u001b[0m             \u001b[0mkwargs\u001b[0m\u001b[1;33m.\u001b[0m\u001b[0mpop\u001b[0m\u001b[1;33m(\u001b[0m\u001b[0marg\u001b[0m\u001b[1;33m)\u001b[0m\u001b[1;33m\u001b[0m\u001b[1;33m\u001b[0m\u001b[0m\n\u001b[0;32m   1647\u001b[0m \u001b[1;33m\u001b[0m\u001b[0m\n\u001b[1;32m-> 1648\u001b[1;33m         \u001b[1;32mreturn\u001b[0m \u001b[0mfunc\u001b[0m\u001b[1;33m(\u001b[0m\u001b[1;33m*\u001b[0m\u001b[0margs\u001b[0m\u001b[1;33m,\u001b[0m \u001b[1;33m**\u001b[0m\u001b[0mkwargs\u001b[0m\u001b[1;33m)\u001b[0m\u001b[1;33m\u001b[0m\u001b[1;33m\u001b[0m\u001b[0m\n\u001b[0m\u001b[0;32m   1649\u001b[0m \u001b[1;33m\u001b[0m\u001b[0m\n\u001b[0;32m   1650\u001b[0m     \u001b[1;32mreturn\u001b[0m \u001b[0mwrapper\u001b[0m\u001b[1;33m\u001b[0m\u001b[1;33m\u001b[0m\u001b[0m\n",
      "\u001b[1;32m~\\AppData\\Roaming\\Python\\Python37\\site-packages\\matplotlib\\_api\\deprecation.py\u001b[0m in \u001b[0;36mwrapper\u001b[1;34m(*inner_args, **inner_kwargs)\u001b[0m\n\u001b[0;32m    387\u001b[0m             \u001b[1;31m# Early return in the simple, non-deprecated case (much faster than\u001b[0m\u001b[1;33m\u001b[0m\u001b[1;33m\u001b[0m\u001b[1;33m\u001b[0m\u001b[0m\n\u001b[0;32m    388\u001b[0m             \u001b[1;31m# calling bind()).\u001b[0m\u001b[1;33m\u001b[0m\u001b[1;33m\u001b[0m\u001b[1;33m\u001b[0m\u001b[0m\n\u001b[1;32m--> 389\u001b[1;33m             \u001b[1;32mreturn\u001b[0m \u001b[0mfunc\u001b[0m\u001b[1;33m(\u001b[0m\u001b[1;33m*\u001b[0m\u001b[0minner_args\u001b[0m\u001b[1;33m,\u001b[0m \u001b[1;33m**\u001b[0m\u001b[0minner_kwargs\u001b[0m\u001b[1;33m)\u001b[0m\u001b[1;33m\u001b[0m\u001b[1;33m\u001b[0m\u001b[0m\n\u001b[0m\u001b[0;32m    390\u001b[0m         \u001b[0marguments\u001b[0m \u001b[1;33m=\u001b[0m \u001b[0msignature\u001b[0m\u001b[1;33m.\u001b[0m\u001b[0mbind\u001b[0m\u001b[1;33m(\u001b[0m\u001b[1;33m*\u001b[0m\u001b[0minner_args\u001b[0m\u001b[1;33m,\u001b[0m \u001b[1;33m**\u001b[0m\u001b[0minner_kwargs\u001b[0m\u001b[1;33m)\u001b[0m\u001b[1;33m.\u001b[0m\u001b[0marguments\u001b[0m\u001b[1;33m\u001b[0m\u001b[1;33m\u001b[0m\u001b[0m\n\u001b[0;32m    391\u001b[0m         \u001b[1;32mif\u001b[0m \u001b[0mis_varargs\u001b[0m \u001b[1;32mand\u001b[0m \u001b[0marguments\u001b[0m\u001b[1;33m.\u001b[0m\u001b[0mget\u001b[0m\u001b[1;33m(\u001b[0m\u001b[0mname\u001b[0m\u001b[1;33m)\u001b[0m\u001b[1;33m:\u001b[0m\u001b[1;33m\u001b[0m\u001b[1;33m\u001b[0m\u001b[0m\n",
      "\u001b[1;32m~\\AppData\\Roaming\\Python\\Python37\\site-packages\\matplotlib\\_api\\deprecation.py\u001b[0m in \u001b[0;36mwrapper\u001b[1;34m(*inner_args, **inner_kwargs)\u001b[0m\n\u001b[0;32m    413\u001b[0m                          \u001b[1;32melse\u001b[0m \u001b[0mdeprecation_addendum\u001b[0m\u001b[1;33m,\u001b[0m\u001b[1;33m\u001b[0m\u001b[1;33m\u001b[0m\u001b[0m\n\u001b[0;32m    414\u001b[0m                 **kwargs)\n\u001b[1;32m--> 415\u001b[1;33m         \u001b[1;32mreturn\u001b[0m \u001b[0mfunc\u001b[0m\u001b[1;33m(\u001b[0m\u001b[1;33m*\u001b[0m\u001b[0minner_args\u001b[0m\u001b[1;33m,\u001b[0m \u001b[1;33m**\u001b[0m\u001b[0minner_kwargs\u001b[0m\u001b[1;33m)\u001b[0m\u001b[1;33m\u001b[0m\u001b[1;33m\u001b[0m\u001b[0m\n\u001b[0m\u001b[0;32m    416\u001b[0m \u001b[1;33m\u001b[0m\u001b[0m\n\u001b[0;32m    417\u001b[0m     \u001b[0mDECORATORS\u001b[0m\u001b[1;33m[\u001b[0m\u001b[0mwrapper\u001b[0m\u001b[1;33m]\u001b[0m \u001b[1;33m=\u001b[0m \u001b[0mdecorator\u001b[0m\u001b[1;33m\u001b[0m\u001b[1;33m\u001b[0m\u001b[0m\n",
      "\u001b[1;32m~\\AppData\\Roaming\\Python\\Python37\\site-packages\\matplotlib\\backends\\backend_svg.py\u001b[0m in \u001b[0;36mprint_svg\u001b[1;34m(self, filename, dpi, bbox_inches_restore, metadata, *args)\u001b[0m\n\u001b[0;32m   1331\u001b[0m                 \u001b[0mRendererSVG\u001b[0m\u001b[1;33m(\u001b[0m\u001b[0mw\u001b[0m\u001b[1;33m,\u001b[0m \u001b[0mh\u001b[0m\u001b[1;33m,\u001b[0m \u001b[0mfh\u001b[0m\u001b[1;33m,\u001b[0m \u001b[0mimage_dpi\u001b[0m\u001b[1;33m=\u001b[0m\u001b[0mdpi\u001b[0m\u001b[1;33m,\u001b[0m \u001b[0mmetadata\u001b[0m\u001b[1;33m=\u001b[0m\u001b[0mmetadata\u001b[0m\u001b[1;33m)\u001b[0m\u001b[1;33m,\u001b[0m\u001b[1;33m\u001b[0m\u001b[1;33m\u001b[0m\u001b[0m\n\u001b[0;32m   1332\u001b[0m                 bbox_inches_restore=bbox_inches_restore)\n\u001b[1;32m-> 1333\u001b[1;33m             \u001b[0mself\u001b[0m\u001b[1;33m.\u001b[0m\u001b[0mfigure\u001b[0m\u001b[1;33m.\u001b[0m\u001b[0mdraw\u001b[0m\u001b[1;33m(\u001b[0m\u001b[0mrenderer\u001b[0m\u001b[1;33m)\u001b[0m\u001b[1;33m\u001b[0m\u001b[1;33m\u001b[0m\u001b[0m\n\u001b[0m\u001b[0;32m   1334\u001b[0m             \u001b[0mrenderer\u001b[0m\u001b[1;33m.\u001b[0m\u001b[0mfinalize\u001b[0m\u001b[1;33m(\u001b[0m\u001b[1;33m)\u001b[0m\u001b[1;33m\u001b[0m\u001b[1;33m\u001b[0m\u001b[0m\n\u001b[0;32m   1335\u001b[0m \u001b[1;33m\u001b[0m\u001b[0m\n",
      "\u001b[1;32m~\\AppData\\Roaming\\Python\\Python37\\site-packages\\matplotlib\\artist.py\u001b[0m in \u001b[0;36mdraw_wrapper\u001b[1;34m(artist, renderer, *args, **kwargs)\u001b[0m\n\u001b[0;32m     72\u001b[0m     \u001b[1;33m@\u001b[0m\u001b[0mwraps\u001b[0m\u001b[1;33m(\u001b[0m\u001b[0mdraw\u001b[0m\u001b[1;33m)\u001b[0m\u001b[1;33m\u001b[0m\u001b[1;33m\u001b[0m\u001b[0m\n\u001b[0;32m     73\u001b[0m     \u001b[1;32mdef\u001b[0m \u001b[0mdraw_wrapper\u001b[0m\u001b[1;33m(\u001b[0m\u001b[0martist\u001b[0m\u001b[1;33m,\u001b[0m \u001b[0mrenderer\u001b[0m\u001b[1;33m,\u001b[0m \u001b[1;33m*\u001b[0m\u001b[0margs\u001b[0m\u001b[1;33m,\u001b[0m \u001b[1;33m**\u001b[0m\u001b[0mkwargs\u001b[0m\u001b[1;33m)\u001b[0m\u001b[1;33m:\u001b[0m\u001b[1;33m\u001b[0m\u001b[1;33m\u001b[0m\u001b[0m\n\u001b[1;32m---> 74\u001b[1;33m         \u001b[0mresult\u001b[0m \u001b[1;33m=\u001b[0m \u001b[0mdraw\u001b[0m\u001b[1;33m(\u001b[0m\u001b[0martist\u001b[0m\u001b[1;33m,\u001b[0m \u001b[0mrenderer\u001b[0m\u001b[1;33m,\u001b[0m \u001b[1;33m*\u001b[0m\u001b[0margs\u001b[0m\u001b[1;33m,\u001b[0m \u001b[1;33m**\u001b[0m\u001b[0mkwargs\u001b[0m\u001b[1;33m)\u001b[0m\u001b[1;33m\u001b[0m\u001b[1;33m\u001b[0m\u001b[0m\n\u001b[0m\u001b[0;32m     75\u001b[0m         \u001b[1;32mif\u001b[0m \u001b[0mrenderer\u001b[0m\u001b[1;33m.\u001b[0m\u001b[0m_rasterizing\u001b[0m\u001b[1;33m:\u001b[0m\u001b[1;33m\u001b[0m\u001b[1;33m\u001b[0m\u001b[0m\n\u001b[0;32m     76\u001b[0m             \u001b[0mrenderer\u001b[0m\u001b[1;33m.\u001b[0m\u001b[0mstop_rasterizing\u001b[0m\u001b[1;33m(\u001b[0m\u001b[1;33m)\u001b[0m\u001b[1;33m\u001b[0m\u001b[1;33m\u001b[0m\u001b[0m\n",
      "\u001b[1;32m~\\AppData\\Roaming\\Python\\Python37\\site-packages\\matplotlib\\artist.py\u001b[0m in \u001b[0;36mdraw_wrapper\u001b[1;34m(artist, renderer)\u001b[0m\n\u001b[0;32m     49\u001b[0m                 \u001b[0mrenderer\u001b[0m\u001b[1;33m.\u001b[0m\u001b[0mstart_filter\u001b[0m\u001b[1;33m(\u001b[0m\u001b[1;33m)\u001b[0m\u001b[1;33m\u001b[0m\u001b[1;33m\u001b[0m\u001b[0m\n\u001b[0;32m     50\u001b[0m \u001b[1;33m\u001b[0m\u001b[0m\n\u001b[1;32m---> 51\u001b[1;33m             \u001b[1;32mreturn\u001b[0m \u001b[0mdraw\u001b[0m\u001b[1;33m(\u001b[0m\u001b[0martist\u001b[0m\u001b[1;33m,\u001b[0m \u001b[0mrenderer\u001b[0m\u001b[1;33m)\u001b[0m\u001b[1;33m\u001b[0m\u001b[1;33m\u001b[0m\u001b[0m\n\u001b[0m\u001b[0;32m     52\u001b[0m         \u001b[1;32mfinally\u001b[0m\u001b[1;33m:\u001b[0m\u001b[1;33m\u001b[0m\u001b[1;33m\u001b[0m\u001b[0m\n\u001b[0;32m     53\u001b[0m             \u001b[1;32mif\u001b[0m \u001b[0martist\u001b[0m\u001b[1;33m.\u001b[0m\u001b[0mget_agg_filter\u001b[0m\u001b[1;33m(\u001b[0m\u001b[1;33m)\u001b[0m \u001b[1;32mis\u001b[0m \u001b[1;32mnot\u001b[0m \u001b[1;32mNone\u001b[0m\u001b[1;33m:\u001b[0m\u001b[1;33m\u001b[0m\u001b[1;33m\u001b[0m\u001b[0m\n",
      "\u001b[1;32m~\\AppData\\Roaming\\Python\\Python37\\site-packages\\matplotlib\\figure.py\u001b[0m in \u001b[0;36mdraw\u001b[1;34m(self, renderer)\u001b[0m\n\u001b[0;32m   2844\u001b[0m             \u001b[0mself\u001b[0m\u001b[1;33m.\u001b[0m\u001b[0mpatch\u001b[0m\u001b[1;33m.\u001b[0m\u001b[0mdraw\u001b[0m\u001b[1;33m(\u001b[0m\u001b[0mrenderer\u001b[0m\u001b[1;33m)\u001b[0m\u001b[1;33m\u001b[0m\u001b[1;33m\u001b[0m\u001b[0m\n\u001b[0;32m   2845\u001b[0m             mimage._draw_list_compositing_images(\n\u001b[1;32m-> 2846\u001b[1;33m                 renderer, self, artists, self.suppressComposite)\n\u001b[0m\u001b[0;32m   2847\u001b[0m \u001b[1;33m\u001b[0m\u001b[0m\n\u001b[0;32m   2848\u001b[0m             \u001b[1;32mfor\u001b[0m \u001b[0msfig\u001b[0m \u001b[1;32min\u001b[0m \u001b[0mself\u001b[0m\u001b[1;33m.\u001b[0m\u001b[0msubfigs\u001b[0m\u001b[1;33m:\u001b[0m\u001b[1;33m\u001b[0m\u001b[1;33m\u001b[0m\u001b[0m\n",
      "\u001b[1;32m~\\AppData\\Roaming\\Python\\Python37\\site-packages\\matplotlib\\image.py\u001b[0m in \u001b[0;36m_draw_list_compositing_images\u001b[1;34m(renderer, parent, artists, suppress_composite)\u001b[0m\n\u001b[0;32m    130\u001b[0m     \u001b[1;32mif\u001b[0m \u001b[0mnot_composite\u001b[0m \u001b[1;32mor\u001b[0m \u001b[1;32mnot\u001b[0m \u001b[0mhas_images\u001b[0m\u001b[1;33m:\u001b[0m\u001b[1;33m\u001b[0m\u001b[1;33m\u001b[0m\u001b[0m\n\u001b[0;32m    131\u001b[0m         \u001b[1;32mfor\u001b[0m \u001b[0ma\u001b[0m \u001b[1;32min\u001b[0m \u001b[0martists\u001b[0m\u001b[1;33m:\u001b[0m\u001b[1;33m\u001b[0m\u001b[1;33m\u001b[0m\u001b[0m\n\u001b[1;32m--> 132\u001b[1;33m             \u001b[0ma\u001b[0m\u001b[1;33m.\u001b[0m\u001b[0mdraw\u001b[0m\u001b[1;33m(\u001b[0m\u001b[0mrenderer\u001b[0m\u001b[1;33m)\u001b[0m\u001b[1;33m\u001b[0m\u001b[1;33m\u001b[0m\u001b[0m\n\u001b[0m\u001b[0;32m    133\u001b[0m     \u001b[1;32melse\u001b[0m\u001b[1;33m:\u001b[0m\u001b[1;33m\u001b[0m\u001b[1;33m\u001b[0m\u001b[0m\n\u001b[0;32m    134\u001b[0m         \u001b[1;31m# Composite any adjacent images together\u001b[0m\u001b[1;33m\u001b[0m\u001b[1;33m\u001b[0m\u001b[1;33m\u001b[0m\u001b[0m\n",
      "\u001b[1;32m~\\AppData\\Roaming\\Python\\Python37\\site-packages\\matplotlib\\artist.py\u001b[0m in \u001b[0;36mdraw_wrapper\u001b[1;34m(artist, renderer)\u001b[0m\n\u001b[0;32m     49\u001b[0m                 \u001b[0mrenderer\u001b[0m\u001b[1;33m.\u001b[0m\u001b[0mstart_filter\u001b[0m\u001b[1;33m(\u001b[0m\u001b[1;33m)\u001b[0m\u001b[1;33m\u001b[0m\u001b[1;33m\u001b[0m\u001b[0m\n\u001b[0;32m     50\u001b[0m \u001b[1;33m\u001b[0m\u001b[0m\n\u001b[1;32m---> 51\u001b[1;33m             \u001b[1;32mreturn\u001b[0m \u001b[0mdraw\u001b[0m\u001b[1;33m(\u001b[0m\u001b[0martist\u001b[0m\u001b[1;33m,\u001b[0m \u001b[0mrenderer\u001b[0m\u001b[1;33m)\u001b[0m\u001b[1;33m\u001b[0m\u001b[1;33m\u001b[0m\u001b[0m\n\u001b[0m\u001b[0;32m     52\u001b[0m         \u001b[1;32mfinally\u001b[0m\u001b[1;33m:\u001b[0m\u001b[1;33m\u001b[0m\u001b[1;33m\u001b[0m\u001b[0m\n\u001b[0;32m     53\u001b[0m             \u001b[1;32mif\u001b[0m \u001b[0martist\u001b[0m\u001b[1;33m.\u001b[0m\u001b[0mget_agg_filter\u001b[0m\u001b[1;33m(\u001b[0m\u001b[1;33m)\u001b[0m \u001b[1;32mis\u001b[0m \u001b[1;32mnot\u001b[0m \u001b[1;32mNone\u001b[0m\u001b[1;33m:\u001b[0m\u001b[1;33m\u001b[0m\u001b[1;33m\u001b[0m\u001b[0m\n",
      "\u001b[1;32m~\\AppData\\Roaming\\Python\\Python37\\site-packages\\matplotlib\\axes\\_base.py\u001b[0m in \u001b[0;36mdraw\u001b[1;34m(self, renderer)\u001b[0m\n\u001b[0;32m   3090\u001b[0m \u001b[1;33m\u001b[0m\u001b[0m\n\u001b[0;32m   3091\u001b[0m         mimage._draw_list_compositing_images(\n\u001b[1;32m-> 3092\u001b[1;33m             renderer, self, artists, self.figure.suppressComposite)\n\u001b[0m\u001b[0;32m   3093\u001b[0m \u001b[1;33m\u001b[0m\u001b[0m\n\u001b[0;32m   3094\u001b[0m         \u001b[0mrenderer\u001b[0m\u001b[1;33m.\u001b[0m\u001b[0mclose_group\u001b[0m\u001b[1;33m(\u001b[0m\u001b[1;34m'axes'\u001b[0m\u001b[1;33m)\u001b[0m\u001b[1;33m\u001b[0m\u001b[1;33m\u001b[0m\u001b[0m\n",
      "\u001b[1;32m~\\AppData\\Roaming\\Python\\Python37\\site-packages\\matplotlib\\image.py\u001b[0m in \u001b[0;36m_draw_list_compositing_images\u001b[1;34m(renderer, parent, artists, suppress_composite)\u001b[0m\n\u001b[0;32m    130\u001b[0m     \u001b[1;32mif\u001b[0m \u001b[0mnot_composite\u001b[0m \u001b[1;32mor\u001b[0m \u001b[1;32mnot\u001b[0m \u001b[0mhas_images\u001b[0m\u001b[1;33m:\u001b[0m\u001b[1;33m\u001b[0m\u001b[1;33m\u001b[0m\u001b[0m\n\u001b[0;32m    131\u001b[0m         \u001b[1;32mfor\u001b[0m \u001b[0ma\u001b[0m \u001b[1;32min\u001b[0m \u001b[0martists\u001b[0m\u001b[1;33m:\u001b[0m\u001b[1;33m\u001b[0m\u001b[1;33m\u001b[0m\u001b[0m\n\u001b[1;32m--> 132\u001b[1;33m             \u001b[0ma\u001b[0m\u001b[1;33m.\u001b[0m\u001b[0mdraw\u001b[0m\u001b[1;33m(\u001b[0m\u001b[0mrenderer\u001b[0m\u001b[1;33m)\u001b[0m\u001b[1;33m\u001b[0m\u001b[1;33m\u001b[0m\u001b[0m\n\u001b[0m\u001b[0;32m    133\u001b[0m     \u001b[1;32melse\u001b[0m\u001b[1;33m:\u001b[0m\u001b[1;33m\u001b[0m\u001b[1;33m\u001b[0m\u001b[0m\n\u001b[0;32m    134\u001b[0m         \u001b[1;31m# Composite any adjacent images together\u001b[0m\u001b[1;33m\u001b[0m\u001b[1;33m\u001b[0m\u001b[1;33m\u001b[0m\u001b[0m\n",
      "\u001b[1;32m~\\AppData\\Roaming\\Python\\Python37\\site-packages\\matplotlib\\artist.py\u001b[0m in \u001b[0;36mdraw_wrapper\u001b[1;34m(artist, renderer)\u001b[0m\n\u001b[0;32m     49\u001b[0m                 \u001b[0mrenderer\u001b[0m\u001b[1;33m.\u001b[0m\u001b[0mstart_filter\u001b[0m\u001b[1;33m(\u001b[0m\u001b[1;33m)\u001b[0m\u001b[1;33m\u001b[0m\u001b[1;33m\u001b[0m\u001b[0m\n\u001b[0;32m     50\u001b[0m \u001b[1;33m\u001b[0m\u001b[0m\n\u001b[1;32m---> 51\u001b[1;33m             \u001b[1;32mreturn\u001b[0m \u001b[0mdraw\u001b[0m\u001b[1;33m(\u001b[0m\u001b[0martist\u001b[0m\u001b[1;33m,\u001b[0m \u001b[0mrenderer\u001b[0m\u001b[1;33m)\u001b[0m\u001b[1;33m\u001b[0m\u001b[1;33m\u001b[0m\u001b[0m\n\u001b[0m\u001b[0;32m     52\u001b[0m         \u001b[1;32mfinally\u001b[0m\u001b[1;33m:\u001b[0m\u001b[1;33m\u001b[0m\u001b[1;33m\u001b[0m\u001b[0m\n\u001b[0;32m     53\u001b[0m             \u001b[1;32mif\u001b[0m \u001b[0martist\u001b[0m\u001b[1;33m.\u001b[0m\u001b[0mget_agg_filter\u001b[0m\u001b[1;33m(\u001b[0m\u001b[1;33m)\u001b[0m \u001b[1;32mis\u001b[0m \u001b[1;32mnot\u001b[0m \u001b[1;32mNone\u001b[0m\u001b[1;33m:\u001b[0m\u001b[1;33m\u001b[0m\u001b[1;33m\u001b[0m\u001b[0m\n",
      "\u001b[1;32m~\\AppData\\Roaming\\Python\\Python37\\site-packages\\matplotlib\\lines.py\u001b[0m in \u001b[0;36mdraw\u001b[1;34m(self, renderer)\u001b[0m\n\u001b[0;32m    774\u001b[0m \u001b[1;33m\u001b[0m\u001b[0m\n\u001b[0;32m    775\u001b[0m                 \u001b[0mgc\u001b[0m\u001b[1;33m.\u001b[0m\u001b[0mset_dashes\u001b[0m\u001b[1;33m(\u001b[0m\u001b[0mself\u001b[0m\u001b[1;33m.\u001b[0m\u001b[0m_dashOffset\u001b[0m\u001b[1;33m,\u001b[0m \u001b[0mself\u001b[0m\u001b[1;33m.\u001b[0m\u001b[0m_dashSeq\u001b[0m\u001b[1;33m)\u001b[0m\u001b[1;33m\u001b[0m\u001b[1;33m\u001b[0m\u001b[0m\n\u001b[1;32m--> 776\u001b[1;33m                 \u001b[0mrenderer\u001b[0m\u001b[1;33m.\u001b[0m\u001b[0mdraw_path\u001b[0m\u001b[1;33m(\u001b[0m\u001b[0mgc\u001b[0m\u001b[1;33m,\u001b[0m \u001b[0mtpath\u001b[0m\u001b[1;33m,\u001b[0m \u001b[0maffine\u001b[0m\u001b[1;33m.\u001b[0m\u001b[0mfrozen\u001b[0m\u001b[1;33m(\u001b[0m\u001b[1;33m)\u001b[0m\u001b[1;33m)\u001b[0m\u001b[1;33m\u001b[0m\u001b[1;33m\u001b[0m\u001b[0m\n\u001b[0m\u001b[0;32m    777\u001b[0m                 \u001b[0mgc\u001b[0m\u001b[1;33m.\u001b[0m\u001b[0mrestore\u001b[0m\u001b[1;33m(\u001b[0m\u001b[1;33m)\u001b[0m\u001b[1;33m\u001b[0m\u001b[1;33m\u001b[0m\u001b[0m\n\u001b[0;32m    778\u001b[0m \u001b[1;33m\u001b[0m\u001b[0m\n",
      "\u001b[1;32m~\\AppData\\Roaming\\Python\\Python37\\site-packages\\matplotlib\\backends\\backend_svg.py\u001b[0m in \u001b[0;36mdraw_path\u001b[1;34m(self, gc, path, transform, rgbFace)\u001b[0m\n\u001b[0;32m    666\u001b[0m             \u001b[0mself\u001b[0m\u001b[1;33m.\u001b[0m\u001b[0mwriter\u001b[0m\u001b[1;33m.\u001b[0m\u001b[0mstart\u001b[0m\u001b[1;33m(\u001b[0m\u001b[1;34m'a'\u001b[0m\u001b[1;33m,\u001b[0m \u001b[1;33m{\u001b[0m\u001b[1;34m'xlink:href'\u001b[0m\u001b[1;33m:\u001b[0m \u001b[0mgc\u001b[0m\u001b[1;33m.\u001b[0m\u001b[0mget_url\u001b[0m\u001b[1;33m(\u001b[0m\u001b[1;33m)\u001b[0m\u001b[1;33m}\u001b[0m\u001b[1;33m)\u001b[0m\u001b[1;33m\u001b[0m\u001b[1;33m\u001b[0m\u001b[0m\n\u001b[0;32m    667\u001b[0m         self.writer.element('path', d=path_data, **self._get_clip_attrs(gc),\n\u001b[1;32m--> 668\u001b[1;33m                             style=self._get_style(gc, rgbFace))\n\u001b[0m\u001b[0;32m    669\u001b[0m         \u001b[1;32mif\u001b[0m \u001b[0mgc\u001b[0m\u001b[1;33m.\u001b[0m\u001b[0mget_url\u001b[0m\u001b[1;33m(\u001b[0m\u001b[1;33m)\u001b[0m \u001b[1;32mis\u001b[0m \u001b[1;32mnot\u001b[0m \u001b[1;32mNone\u001b[0m\u001b[1;33m:\u001b[0m\u001b[1;33m\u001b[0m\u001b[1;33m\u001b[0m\u001b[0m\n\u001b[0;32m    670\u001b[0m             \u001b[0mself\u001b[0m\u001b[1;33m.\u001b[0m\u001b[0mwriter\u001b[0m\u001b[1;33m.\u001b[0m\u001b[0mend\u001b[0m\u001b[1;33m(\u001b[0m\u001b[1;34m'a'\u001b[0m\u001b[1;33m)\u001b[0m\u001b[1;33m\u001b[0m\u001b[1;33m\u001b[0m\u001b[0m\n",
      "\u001b[1;32m~\\AppData\\Roaming\\Python\\Python37\\site-packages\\matplotlib\\backends\\backend_svg.py\u001b[0m in \u001b[0;36melement\u001b[1;34m(self, tag, text, attrib, **extra)\u001b[0m\n\u001b[0;32m    240\u001b[0m         \u001b[0momitted\u001b[0m\u001b[1;33m.\u001b[0m\u001b[1;33m\u001b[0m\u001b[1;33m\u001b[0m\u001b[0m\n\u001b[0;32m    241\u001b[0m         \"\"\"\n\u001b[1;32m--> 242\u001b[1;33m         \u001b[0mself\u001b[0m\u001b[1;33m.\u001b[0m\u001b[0mstart\u001b[0m\u001b[1;33m(\u001b[0m\u001b[0mtag\u001b[0m\u001b[1;33m,\u001b[0m \u001b[0mattrib\u001b[0m\u001b[1;33m,\u001b[0m \u001b[1;33m**\u001b[0m\u001b[0mextra\u001b[0m\u001b[1;33m)\u001b[0m\u001b[1;33m\u001b[0m\u001b[1;33m\u001b[0m\u001b[0m\n\u001b[0m\u001b[0;32m    243\u001b[0m         \u001b[1;32mif\u001b[0m \u001b[0mtext\u001b[0m\u001b[1;33m:\u001b[0m\u001b[1;33m\u001b[0m\u001b[1;33m\u001b[0m\u001b[0m\n\u001b[0;32m    244\u001b[0m             \u001b[0mself\u001b[0m\u001b[1;33m.\u001b[0m\u001b[0mdata\u001b[0m\u001b[1;33m(\u001b[0m\u001b[0mtext\u001b[0m\u001b[1;33m)\u001b[0m\u001b[1;33m\u001b[0m\u001b[1;33m\u001b[0m\u001b[0m\n",
      "\u001b[1;32m~\\AppData\\Roaming\\Python\\Python37\\site-packages\\matplotlib\\backends\\backend_svg.py\u001b[0m in \u001b[0;36mstart\u001b[1;34m(self, tag, attrib, **extra)\u001b[0m\n\u001b[0;32m    165\u001b[0m                 \u001b[0mk\u001b[0m \u001b[1;33m=\u001b[0m \u001b[0mescape_cdata\u001b[0m\u001b[1;33m(\u001b[0m\u001b[0mk\u001b[0m\u001b[1;33m)\u001b[0m\u001b[1;33m\u001b[0m\u001b[1;33m\u001b[0m\u001b[0m\n\u001b[0;32m    166\u001b[0m                 \u001b[0mv\u001b[0m \u001b[1;33m=\u001b[0m \u001b[0m_quote_escape_attrib\u001b[0m\u001b[1;33m(\u001b[0m\u001b[0mv\u001b[0m\u001b[1;33m)\u001b[0m\u001b[1;33m\u001b[0m\u001b[1;33m\u001b[0m\u001b[0m\n\u001b[1;32m--> 167\u001b[1;33m                 \u001b[0mself\u001b[0m\u001b[1;33m.\u001b[0m\u001b[0m__write\u001b[0m\u001b[1;33m(\u001b[0m\u001b[1;34m' %s=%s'\u001b[0m \u001b[1;33m%\u001b[0m \u001b[1;33m(\u001b[0m\u001b[0mk\u001b[0m\u001b[1;33m,\u001b[0m \u001b[0mv\u001b[0m\u001b[1;33m)\u001b[0m\u001b[1;33m)\u001b[0m\u001b[1;33m\u001b[0m\u001b[1;33m\u001b[0m\u001b[0m\n\u001b[0m\u001b[0;32m    168\u001b[0m         \u001b[0mself\u001b[0m\u001b[1;33m.\u001b[0m\u001b[0m__open\u001b[0m \u001b[1;33m=\u001b[0m \u001b[1;36m1\u001b[0m\u001b[1;33m\u001b[0m\u001b[1;33m\u001b[0m\u001b[0m\n\u001b[0;32m    169\u001b[0m         \u001b[1;32mreturn\u001b[0m \u001b[0mlen\u001b[0m\u001b[1;33m(\u001b[0m\u001b[0mself\u001b[0m\u001b[1;33m.\u001b[0m\u001b[0m__tags\u001b[0m\u001b[1;33m)\u001b[0m \u001b[1;33m-\u001b[0m \u001b[1;36m1\u001b[0m\u001b[1;33m\u001b[0m\u001b[1;33m\u001b[0m\u001b[0m\n",
      "\u001b[1;31mKeyboardInterrupt\u001b[0m: "
     ]
    },
    {
     "data": {
      "text/plain": [
       "<Figure size 1440x1440 with 0 Axes>"
      ]
     },
     "metadata": {},
     "output_type": "display_data"
    }
   ],
   "source": [
    "#area = 'Insula'\n",
    "for subj in np.unique(data_mean.Subj):\n",
    "    data_plot_all = data_con_clean[(data_con_clean.Subj == subj)&(data_con_clean.Sig > 0)].reset_index(drop=True)\n",
    "    data_plot_all = data_plot_all.drop(columns = ['ChanA' , 'StimA'])\n",
    "    data_plot_all = data_plot_all.rename(columns={\"ChanSR\": \"ChanA\", \"StimSR\": \"StimA\"}, errors=\"raise\")\n",
    "    data_plot_all['show'] = np.ones((len(data_plot_all,)))\n",
    "    data_plot_all['lw'] = data_plot_all['Sig']\n",
    "    data_plot_all['show'] = np.zeros((len(data_plot_all,)))\n",
    "    data_plot_all.loc[np.isin(data_plot_all.Subj, subj), 'show'] =1\n",
    "    if np.sum(data_plot_all.show)>0:\n",
    "        path_save ='X:\\\\4 e-Lab\\\\EvM\\\\Projects\\\\EL_experiment\\\\Analysis\\\\Patients\\\\Across\\\\BrainMapping\\\\General\\\\connection\\\\All_'+subj+'.svg'\n",
    "        plotter = ConnectogramPlotter()\n",
    "        os.chdir(path_connectogram)\n",
    "        plotter.load_data(data_plot_all, path_save)\n",
    "        plotter.show_plot(subj +' -- Unidirectional Connections', 'area')\n",
    "        plt.close()\n",
    "        os.chdir(cwp)"
   ]
  },
  {
   "cell_type": "code",
   "execution_count": null,
   "id": "20adcb9f",
   "metadata": {},
   "outputs": [],
   "source": [
    "#area = 'Insula'\n",
    "for subj in np.unique(data_mean.Subj):\n",
    "    data_plot_all['show'] = np.zeros((len(data_plot_all,)))\n",
    "    data_plot_all.loc[np.isin(data_plot_all.Subj, subj), 'show'] =1\n",
    "    if np.sum(data_plot_all.show)>0:\n",
    "        path_save ='X:\\\\4 e-Lab\\\\EvM\\\\Projects\\\\EL_experiment\\\\Analysis\\\\Patients\\\\Across\\\\BrainMapping\\\\General\\\\connection\\\\Mean_DI_unidirectional_'+subj+'.svg'\n",
    "        plotter = ConnectogramPlotter()\n",
    "        os.chdir(path_connectogram)\n",
    "        plotter.load_data(data_plot_all, path_save)\n",
    "        plotter.show_plot(subj +' -- Unidirectional Connections', 'area')\n",
    "        plt.close()\n",
    "        os.chdir(cwp)"
   ]
  },
  {
   "cell_type": "code",
   "execution_count": null,
   "id": "a17d0a0c",
   "metadata": {},
   "outputs": [],
   "source": [
    "for area in np.unique(data_mean.StimR):\n",
    "    data_plot_all['show'] = np.zeros((len(data_plot_all,)))\n",
    "    data_plot_all.loc[(np.isin(data_plot_all.StimR, area))|(np.isin(data_plot_all.ChanR, area)), 'show'] =1\n",
    "    data_plot_all['sort'] = 0\n",
    "    data_plot_all.loc[(np.isin(data_plot_all.ChanR, area)), 'sort'] =1\n",
    "    data_plot_all = data_plot_all.sort_values(by=['sort']).reset_index(drop=True)\n",
    "    if np.sum(data_plot_all.show)>0:\n",
    "        path_save ='X:\\\\4 e-Lab\\\\EvM\\\\Projects\\\\EL_experiment\\\\Analysis\\\\Patients\\\\Across\\\\BrainMapping\\\\General\\\\connection\\\\Mean_DI_unidirectional_'+area+'.svg'\n",
    "        plotter = ConnectogramPlotter()\n",
    "        os.chdir(path_connectogram)\n",
    "        plotter.load_data(data_plot_all, path_save)\n",
    "        plotter.show_plot(area +' -- Unidirectional Connections (B-R)', 'area')\n",
    "        plt.close()\n",
    "        os.chdir(cwp)"
   ]
  },
  {
   "cell_type": "code",
   "execution_count": null,
   "id": "e26c8ae4",
   "metadata": {},
   "outputs": [],
   "source": [
    "data_plot = data_plot_all[(data_plot_all.Subj == subj)&(data_plot_all.DI == 1)] #data_mean[(data_mean.Subj == subj)&(data_mean.DI >0.5)]\n",
    "    if len(data_plot)>0:\n",
    "        path_save ='X:\\\\4 e-Lab\\\\EvM\\\\Projects\\\\EL_experiment\\\\Analysis\\\\Patients\\\\Across\\\\BrainMapping\\\\General\\\\connection\\\\'+subj+'_DI_unidirectional.svg'\n",
    "        plotter = ConnectogramPlotter()\n",
    "        os.chdir(path_connectogram)\n",
    "        plotter.load_data(data_plot, path_save)\n",
    "        plotter.show_plot(subj+' -- Unidirectional Connections (B-R)', 'Area')\n",
    "        plt.close()\n",
    "        os.chdir(cwp)"
   ]
  },
  {
   "cell_type": "code",
   "execution_count": null,
   "id": "03862ef3",
   "metadata": {},
   "outputs": [],
   "source": [
    "## single conenctions that are uni-directional\n",
    "for subj in subjs:\n",
    "    data_plot = data_plot_all[(data_plot_all.Subj == subj)&(data_plot_all.DI == 1)] #data_mean[(data_mean.Subj == subj)&(data_mean.DI >0.5)]\n",
    "    if len(data_plot)>0:\n",
    "        path_save ='X:\\\\4 e-Lab\\\\EvM\\\\Projects\\\\EL_experiment\\\\Analysis\\\\Patients\\\\Across\\\\BrainMapping\\\\General\\\\connection\\\\'+subj+'_DI_unidirectional.svg'\n",
    "        plotter = ConnectogramPlotter()\n",
    "        os.chdir(path_connectogram)\n",
    "        plotter.load_data(data_plot, path_save)\n",
    "        plotter.show_plot(subj+' -- Unidirectional Connections (B-R)', 'Area')\n",
    "        plt.close()\n",
    "        os.chdir(cwp)"
   ]
  },
  {
   "cell_type": "markdown",
   "id": "31c033f4",
   "metadata": {},
   "source": [
    "#### Information Data"
   ]
  },
  {
   "cell_type": "code",
   "execution_count": null,
   "id": "409c6d78",
   "metadata": {
    "scrolled": true
   },
   "outputs": [],
   "source": [
    "subjs = [\"EL014\", \"EL015\", \"EL016\", \"EL017\", \"EL019\", \"EL020\", \"EL021\",\n",
    "         \"EL022\", \"EL024\", \"EL025\", \"EL026\", \"EL027\"]\n",
    "for subj in subjs:\n",
    "    path_patient_analysis = sub_path + '\\\\EvM\\Projects\\EL_experiment\\Analysis\\Patients\\\\' + subj\n",
    "    # load data\n",
    "    file_con = path_patient_analysis + '\\\\' + 'BrainMapping' + '\\\\' + 'CR' + '\\\\data\\\\summ_general.csv'\n",
    "    con_summary = pd.read_csv(file_con)\n",
    "    con_summary = con_summary.drop(columns='DI')\n",
    "    # Ensure that for every A->B, B->A also exists in the dataframe\n",
    "    df = con_summary.copy()\n",
    "    all_pairs = pd.concat([df[['Stim', 'Chan', 'Sig']],\n",
    "                           df.rename(columns={'Stim': 'Chan', 'Chan': 'Stim'})[['Chan', 'Stim', 'Sig']]]).reset_index(drop=True)\n",
    "\n",
    "    # Group by both nodes and calculate max and min Sig for each group, and get 'is_min' for each row in 'all_pairs'\n",
    "    grouped = all_pairs.groupby(['Stim', 'Chan'], as_index=False)['Sig'].agg(['max', 'min']).reset_index()\n",
    "    all_pairs = all_pairs.merge(grouped, on=['Stim', 'Chan'])\n",
    "    all_pairs['is_min'] = (all_pairs['Sig'] == all_pairs['min'])&(all_pairs['Sig'] != all_pairs['max'])\n",
    "\n",
    "    # Calculate the DI column values\n",
    "    # Calculate the DI column values\n",
    "    all_pairs['DI'] = np.where((all_pairs['min'] == 0) & (all_pairs['max'] == 0), np.nan,\n",
    "                               np.where(all_pairs['min'] == all_pairs['max'], 0,\n",
    "                                        (1 - all_pairs['min'] / all_pairs['max']) * all_pairs['is_min'].map(\n",
    "                                            {True: -1, False: 1})))\n",
    "    # Merge the DI and 'is_min' columns back to the original dataframe\n",
    "    con_summary = df.merge(all_pairs[['Stim', 'Chan', 'DI', 'Sig']],\n",
    "                           on=['Stim', 'Chan', 'Sig'],\n",
    "                           how='left')\n",
    "    con_summary.to_csv(file_con, header=True, index=False)\n",
    "    print(subj+' -- Done')"
   ]
  },
  {
   "cell_type": "code",
   "execution_count": null,
   "id": "877c748c",
   "metadata": {},
   "outputs": [],
   "source": [
    "m = 'DI'\n",
    "data_clean = data_DI.loc[(~np.isnan(data_DI.P_BA)) & (~np.isnan(data_DI.P_AB)) & (~np.isnan(data_DI[m]))]\n",
    "data_clean  = data_clean.reset_index(drop=True)"
   ]
  },
  {
   "cell_type": "code",
   "execution_count": null,
   "id": "14321acc",
   "metadata": {},
   "outputs": [],
   "source": [
    " color_d, color_dist, color_group, color_elab = ls.get_color("
   ]
  },
  {
   "cell_type": "code",
   "execution_count": null,
   "id": "fc5f04da",
   "metadata": {},
   "outputs": [],
   "source": [
    "sns.scatterplot(x='P_AB', y = 'P_BA', data = data_clean, hue = 'd', palette = ListedColormap(color_d))"
   ]
  },
  {
   "cell_type": "code",
   "execution_count": null,
   "id": "possible-advocate",
   "metadata": {
    "scrolled": true
   },
   "outputs": [],
   "source": [
    "data_con_sig = data_con[data_con.Sig>0]\n",
    "data_con_sig = data_con_sig.reset_index(drop=True)\n",
    "data_con_sig.groupby(['Dist'])['Sig'].count()"
   ]
  },
  {
   "cell_type": "code",
   "execution_count": null,
   "id": "9d70822b",
   "metadata": {},
   "outputs": [],
   "source": [
    "data_con_sig"
   ]
  },
  {
   "cell_type": "code",
   "execution_count": null,
   "id": "9b96161f",
   "metadata": {},
   "outputs": [],
   "source": [
    "xx = 'Dist'\n",
    "yy = 'Sig'\n",
    "ylabel = \"Probability\"\n",
    "if yy == 'DI':\n",
    "    ylabel = 'Directionality Index'\n",
    "data_plot = data_con_sig[data_con_sig.Sig>0]\n",
    "data_plot[yy] = abs(data_plot[yy])\n",
    "\n",
    "sns.set_style('white')\n",
    "palette = color_dist\n",
    "f, ax = plt.subplots(figsize=(15,10))\n",
    "ax = sns.violinplot(x=xx, y=yy, hue =xx, data=data_plot, dodge=False,\n",
    "                    palette=palette,\n",
    "                    scale=\"width\", inner=None, alpha=.2)\n",
    "xlim = ax.get_xlim()\n",
    "ylim = ax.get_ylim()\n",
    "for violin in ax.collections:\n",
    "    bbox = violin.get_paths()[0].get_extents()\n",
    "    x0, y0, width, height = bbox.bounds\n",
    "    violin.set_clip_path(plt.Rectangle((x0, y0), width / 2, height, transform=ax.transData))\n",
    "    violin.set_alpha(0.8)\n",
    "\n",
    "sns.boxplot(x=xx, y=yy, data=data_plot, saturation=1, showfliers=False,\n",
    "            width=0.3, boxprops={'zorder': 3, 'facecolor': 'none'}, ax=ax, linewidth = 3)\n",
    "old_len_collections = len(ax.collections)\n",
    "sns.stripplot(x=xx, y=yy, hue =xx, data=data_plot, palette=palette, dodge=False, ax=ax, alpha=0.1)\n",
    "for dots in ax.collections[old_len_collections:]:\n",
    "    dots.set_offsets(dots.get_offsets() + np.array([0.12, 0]))\n",
    "ax.set_xlim(xlim)\n",
    "ax.set_ylim(ylim)\n",
    "plt.xticks(fontsize=20)\n",
    "plt.yticks(fontsize=20)\n",
    "plt.ylabel(ylabel, fontsize=24)\n",
    "plt.xlabel(\"\", fontsize=24)\n",
    "# ax.legend_.remove()\n",
    "plt.show()"
   ]
  },
  {
   "cell_type": "markdown",
   "id": "f4506bc9",
   "metadata": {},
   "source": [
    "#### GET patient stim information"
   ]
  },
  {
   "cell_type": "code",
   "execution_count": null,
   "id": "107d92c5",
   "metadata": {},
   "outputs": [],
   "source": [
    "xx = 'Dist'\n",
    "yy = 'DI'\n",
    "ylabel = \"Probability\"\n",
    "if yy == 'DI':\n",
    "    ylabel = 'Directionality Index'\n",
    "data_plot = data_con_sig# [data_con_all.Sig>0]\n",
    "data_plot[yy] = abs(data_plot[yy])\n",
    "\n",
    "sns.set_style('white')\n",
    "palette = 'hot'\n",
    "f, ax = plt.subplots(figsize=(15,10))\n",
    "ax = sns.violinplot(x=xx, y=yy, hue =xx, data=data_plot, dodge=False,\n",
    "                    palette=palette,\n",
    "                    scale=\"width\", inner=None, alpha=.2)\n",
    "xlim = ax.get_xlim()\n",
    "ylim = ax.get_ylim()\n",
    "for violin in ax.collections:\n",
    "    bbox = violin.get_paths()[0].get_extents()\n",
    "    x0, y0, width, height = bbox.bounds\n",
    "    violin.set_clip_path(plt.Rectangle((x0, y0), width / 2, height, transform=ax.transData))\n",
    "    violin.set_alpha(0.8)\n",
    "\n",
    "sns.boxplot(x=xx, y=yy, data=data_plot, saturation=1, showfliers=False,\n",
    "            width=0.3, boxprops={'zorder': 3, 'facecolor': 'none'}, ax=ax, linewidth = 3)\n",
    "old_len_collections = len(ax.collections)\n",
    "sns.stripplot(x=xx, y=yy, hue =xx, data=data_plot, palette=palette, dodge=False, ax=ax, alpha=0.1)\n",
    "for dots in ax.collections[old_len_collections:]:\n",
    "    dots.set_offsets(dots.get_offsets() + np.array([0.12, 0]))\n",
    "ax.set_xlim(xlim)\n",
    "ax.set_ylim(ylim)\n",
    "plt.xticks(fontsize=20)\n",
    "plt.yticks(fontsize=20)\n",
    "plt.ylabel(ylabel, fontsize=24)\n",
    "plt.xlabel(\"\", fontsize=24)\n",
    "# ax.legend_.remove()\n",
    "plt.show()"
   ]
  },
  {
   "cell_type": "code",
   "execution_count": null,
   "id": "robust-columbus",
   "metadata": {},
   "outputs": [],
   "source": [
    "Fs             = 500\n",
    "dur            = np.zeros((1,2), dtype=np.int32)\n",
    "t0 = 1\n",
    "dur[0,0] =  -t0\n",
    "dur[0,1] =  3\n",
    "\n",
    "\n",
    "#dur[0,:]       = np.int32(np.sum(abs(dur)))\n",
    "x_ax           = np.arange(dur[0,0],dur[0,1],(1/Fs))\n",
    "color_elab      = np.zeros((4,3))\n",
    "color_elab[0,:] = np.array([31, 78, 121])/255\n",
    "color_elab[1,:] = np.array([189, 215, 28])/255\n",
    "color_elab[2,:] = np.array([0.256, 0.574, 0.431])\n",
    "color_elab[3,:] = np.array([1, 0.574, 0])"
   ]
  },
  {
   "cell_type": "markdown",
   "id": "infinite-nevada",
   "metadata": {},
   "source": [
    "labels_region[labels_region=='HIPP'] = 'Mesiotemporal'\n",
    "labels_region[labels_region=='HIPP '] = 'Mesiotemporal'\n",
    "labels_region[labels_region=='ENT'] = 'Basotemporal'"
   ]
  },
  {
   "cell_type": "markdown",
   "id": "surrounded-hands",
   "metadata": {},
   "source": [
    "## LL and Significant responses "
   ]
  },
  {
   "cell_type": "code",
   "execution_count": null,
   "id": "listed-disclosure",
   "metadata": {},
   "outputs": [],
   "source": [
    "subjs = ['EL003', 'EL004', 'EL005', 'EL008','EL009', 'EL010', 'EL011']\n",
    "# only Ph\n",
    "subjs = ['EL004', 'EL005', 'EL008', 'EL010', 'EL012']\n",
    "# only CR\n",
    "subjs = ['EL010', 'EL011', 'EL012', 'EL013', 'EL014', 'EL015', 'EL016', 'EL017', 'EL019', 'EL020', 'EL021']"
   ]
  },
  {
   "cell_type": "code",
   "execution_count": null,
   "id": "67d724d5",
   "metadata": {},
   "outputs": [],
   "source": [
    "subjs = ['EL010', 'EL011', 'EL012', 'EL013', 'EL014', 'EL015', 'EL016', 'EL017', 'EL019', 'EL020', 'EL021', 'EL022', 'EL024', 'EL025', 'EL026']"
   ]
  },
  {
   "cell_type": "code",
   "execution_count": null,
   "id": "manual-letter",
   "metadata": {},
   "outputs": [],
   "source": [
    "folder       = 'BrainMapping'\n",
    "cond_folder = 'CR'"
   ]
  },
  {
   "cell_type": "code",
   "execution_count": null,
   "id": "chemical-rally",
   "metadata": {},
   "outputs": [],
   "source": [
    "sub_path  ='X:\\\\4 e-Lab\\\\' # y:\\\\eLab"
   ]
  },
  {
   "cell_type": "markdown",
   "id": "warming-foster",
   "metadata": {},
   "source": [
    "### Connections AB"
   ]
  },
  {
   "cell_type": "code",
   "execution_count": null,
   "id": "d62d1002",
   "metadata": {},
   "outputs": [],
   "source": [
    "data_con"
   ]
  },
  {
   "cell_type": "code",
   "execution_count": null,
   "id": "advanced-aurora",
   "metadata": {},
   "outputs": [],
   "source": [
    "data_con_sig = data_con[~np.isnan(data_con.DI)]\n",
    "data_con_sig = data_con_sig.reset_index(drop=True)\n",
    "data_con_sig.groupby(['Dist'])['Sig'].count()"
   ]
  },
  {
   "cell_type": "code",
   "execution_count": null,
   "id": "552dc769",
   "metadata": {},
   "outputs": [],
   "source": [
    "m = 'DI'\n",
    "data_plot = data_DI.loc[(~np.isnan(data_DI.P_BA)) & (~np.isnan(data_DI.P_AB)) & (~np.isnan(data_DI[m]))]\n",
    "data_plot  = data_plot.reset_index(drop=True)"
   ]
  },
  {
   "cell_type": "code",
   "execution_count": null,
   "id": "flush-refund",
   "metadata": {},
   "outputs": [],
   "source": [
    "m = 'DI'\n",
    "data_plot = data_DI.loc[(~np.isnan(data_DI.P_BA)) & (~np.isnan(data_DI.P_AB)) & (~np.isnan(data_DI[m]))]\n",
    "data_plot  = data_plot.reset_index(drop=True)\n",
    "### DI by distance\n",
    "data_plot.insert(3, 'Dist', 'local (<15 mm)')\n",
    "data_plot = data_plot.reset_index(drop=True)\n",
    "data_plot.loc[data_plot.d > 15, 'Dist'] = 'short (<30mm)'\n",
    "data_plot.loc[data_plot.d > 30, 'Dist'] = 'long'\n",
    "data_con.insert(6, 'Group', 'indirect')\n",
    "data_con.loc[(data_con.d < 20) & (data_con.onset < 0.02), 'Group'] = 'local direct'\n",
    "data_con.loc[(data_con.d > 20) & (data_con.onset < 0.02), 'Group'] = 'long direct'"
   ]
  },
  {
   "cell_type": "code",
   "execution_count": null,
   "id": "354cbaea",
   "metadata": {},
   "outputs": [],
   "source": []
  },
  {
   "cell_type": "code",
   "execution_count": null,
   "id": "damaged-classic",
   "metadata": {
    "scrolled": false
   },
   "outputs": [],
   "source": [
    "grid = sns.JointGrid(x='P_AB', y='P_BA', data=data_plot,height=15, ratio=4)\n",
    "\n",
    "g = grid.plot_joint(sns.scatterplot, c=data_plot[c], s=50, data=data_plot, cmap=colormap_d)\n",
    "# plt.pcolor(np.linspace(0, 1, 101), np.linspace(0, 1, 101),abs(M), cmap='binary', vmin=0.1, vmax=0.8, alpha=1)\n",
    "g.ax_joint.set_xticks([0,0.5,1])\n",
    "g.ax_joint.set_xticklabels([0,50,100],fontsize=20)\n",
    "g.ax_joint.set_yticks([0,0.5,1])\n",
    "g.ax_joint.set_yticklabels([0,50,100],fontsize=20)\n",
    "g.ax_joint.set_ylabel('Probability BA [%]',fontsize=20)\n",
    "g.ax_joint.set_xlabel('Probability AB [%]',fontsize=20)\n",
    "\n",
    "sns.kdeplot(x='P_AB', data=data_plot[data_plot.P_BA==0], hue='Dist', hue_order=dist_labels, ax=g.ax_marg_x, legend=False, linewidth= 10, palette=color_dist)\n",
    "sns.kdeplot(x='P_BA', data=data_plot[data_plot.P_AB==0], hue='Dist', hue_order=dist_labels,ax=g.ax_marg_y,  vertical=True,legend=True, linewidth= 10, palette=color_dist)\n",
    "#plt.savefig(\n",
    "#        sub_path + 'EvM\\Projects\\EL_experiment\\Analysis\\Patients\\Across\\BrainMapping\\General\\DI\\P_scatter_'+c+'_kde.svg')\n",
    "\n",
    "plt.show()"
   ]
  },
  {
   "cell_type": "code",
   "execution_count": null,
   "id": "stainless-crawford",
   "metadata": {},
   "outputs": [],
   "source": [
    "c= 'd'\n",
    "if c =='d':\n",
    "    colormap_d = 'hot' #ListedColormap(color_d)\n",
    "else:\n",
    "    colormap_d = 'hot'\n",
    "# data_plot = data_DI.loc[(~np.isnan(data_DI.P_BA)) & (~np.isnan(data_DI.P_AB)) & (~np.isnan(data_DI[m]))]\n",
    "norm = plt.Normalize(data_plot[c].min(), 100)\n",
    "# sm = plt.cm.ScalarMappable(cmap=\"RdBu\", norm=norm)\n",
    "\n",
    "\n",
    "data_plot.loc[data_plot.P_AB == 0, 'P_AB'] = np.random.random(len(data_plot.loc[data_plot.P_AB == 0]))/20 - 0.05\n",
    "data_plot.loc[data_plot.P_BA == 0, 'P_BA'] = np.random.random(len(data_plot.loc[data_plot.P_BA == 0])) / 20 - 0.05\n",
    "\n",
    "\n",
    "fig = plt.figure(figsize=(14, 10))\n",
    "g = sns.scatterplot(x='P_AB', y='P_BA', c=data_plot[c], s=50, data=data_plot, cmap=colormap_d)\n",
    "\n",
    "scalarmappaple = cm.ScalarMappable(norm=norm, cmap=colormap_d)\n",
    "fig.colorbar(scalarmappaple)\n",
    "plt.title('Directionality Index (' + m + ')', fontsize=25)\n",
    "plt.xticks([0, 0.5, 1], ['0', '50', '100'], fontsize=20)\n",
    "plt.yticks([0, 0.5, 1], ['0', '50', '100'], fontsize=20)\n",
    "plt.xlabel('Probability AB [%]', fontsize=25)\n",
    "plt.ylabel('Probability BA [%]', fontsize=25)"
   ]
  },
  {
   "cell_type": "code",
   "execution_count": null,
   "id": "temporal-faith",
   "metadata": {},
   "outputs": [],
   "source": [
    "m ='DI'\n",
    "\n",
    "data_plot = data_con[(~np.isnan(data_con.P_BA))&(~np.isnan(data_con.P_AB))&(~np.isnan(data_con[m]))]\n",
    "grid = sns.JointGrid(x='P_AB', y='P_BA', data=data_plot,height=15, ratio=4)\n",
    "hue = 'Dist'\n",
    "\n",
    "g = grid.plot_joint(sns.scatterplot, c=data_plot[m], data=data_plot, cmap =colormap)\n",
    "\n",
    "g.fig.suptitle('Directionality Index ('+m+')', fontsize=25)\n",
    "g.ax_joint.set_xticks([0,0.5,1])\n",
    "g.ax_joint.set_xticklabels([0,50,100],fontsize=20)\n",
    "g.ax_joint.set_yticks([0,0.5,1])\n",
    "g.ax_joint.set_yticklabels([0,50,100],fontsize=20)\n",
    "g.ax_joint.set_ylabel('Probability BA [%]',fontsize=20)\n",
    "g.ax_joint.set_xlabel('Probability AB [%]',fontsize=20)\n",
    "\n",
    "scalarmappaple = cm.ScalarMappable(norm=norm, cmap=colormap)\n",
    "sns.kdeplot(data_plot.P_AB, data=data_plot, hue=hue, ax=g.ax_marg_x, legend=False, linewidth= 10)\n",
    "sns.kdeplot(data_plot.P_BA, data=data_plot, hue=hue, ax=g.ax_marg_y,  vertical=True,legend=True, linewidth= 10)\n",
    "#sns.kdeplot(tips.loc[tips['smoker']=='No', 'total_bill'], ax=g.ax_marg_x, legend=False)\n",
    "#sns.kdeplot(tips.loc[tips['smoker']=='Yes', 'tip'], ax=g.ax_marg_y, vertical=True, legend=False)\n",
    "#sns.kdeplot(tips.loc[tips['smoker']=='No', 'tip'], ax=g.ax_marg_y, vertical=True, legend=False)\n",
    "#plt.savefig(sub_path+'EvM\\Projects\\EL_experiment\\Analysis\\Patients\\Across\\BrainMapping\\General\\DI\\P_scatter_'+m+'_kde_Dist.svg')\n",
    "#plt.savefig(sub_path+'EvM\\Projects\\EL_experiment\\Analysis\\Patients\\Across\\BrainMapping\\General\\DI\\P_scatter_'+m+'_kde_Dist.jpg')\n",
    "   "
   ]
  },
  {
   "cell_type": "code",
   "execution_count": null,
   "id": "charged-navigator",
   "metadata": {},
   "outputs": [],
   "source": []
  },
  {
   "cell_type": "code",
   "execution_count": null,
   "id": "honest-turning",
   "metadata": {},
   "outputs": [],
   "source": [
    "x_order = ['local (<15 mm)', 'short (<30mm)', 'long']"
   ]
  },
  {
   "cell_type": "code",
   "execution_count": null,
   "id": "becoming-preservation",
   "metadata": {},
   "outputs": [],
   "source": [
    "data_DI = data_con.drop(columns=['Dist', 'A_Area', 'A_Region', 'B_Area', 'B_Region', 'DI_r', 'DI_d'])"
   ]
  },
  {
   "cell_type": "markdown",
   "id": "fleet-petite",
   "metadata": {},
   "source": [
    "## Create colorcode for euclidean distance"
   ]
  },
  {
   "cell_type": "code",
   "execution_count": null,
   "id": "opponent-rhythm",
   "metadata": {
    "scrolled": true
   },
   "outputs": [],
   "source": [
    "%matplotlibe inline"
   ]
  },
  {
   "cell_type": "code",
   "execution_count": null,
   "id": "traditional-accident",
   "metadata": {},
   "outputs": [],
   "source": [
    "hue_order = ['long', 'short (<30mm)', 'local (<15 mm)']"
   ]
  },
  {
   "cell_type": "code",
   "execution_count": null,
   "id": "concrete-cream",
   "metadata": {},
   "outputs": [],
   "source": [
    "A = np.arange(0,1.01,0.01)\n",
    "B = np.arange(0,1.01,0.01)\n",
    "M = np.zeros((101,101))\n",
    "for i in range(len(A)):\n",
    "    for j in range(len(A)):\n",
    "        M[i,j] = (B[j]-A[i])*(1-np.min([A[i],B[j]])/np.max([A[i],B[j]]))\n",
    "    "
   ]
  },
  {
   "cell_type": "code",
   "execution_count": null,
   "id": "mineral-station",
   "metadata": {},
   "outputs": [],
   "source": [
    "colormap ='seismic'\n",
    "norm = plt.Normalize(0, 1)"
   ]
  },
  {
   "cell_type": "code",
   "execution_count": null,
   "id": "strong-bones",
   "metadata": {},
   "outputs": [],
   "source": [
    "M[0:2,:] =1\n",
    "M[:,0:2] =-1\n"
   ]
  },
  {
   "cell_type": "code",
   "execution_count": null,
   "id": "biological-monaco",
   "metadata": {
    "scrolled": true
   },
   "outputs": [],
   "source": [
    "plt.figure(figsize=(20,20))\n",
    "plt.pcolor(abs(M), cmap='binary', vmin=0.1, vmax=0.8)\n",
    "plt.axis('off')\n",
    "plt.savefig(sub_path+'EvM\\Projects\\EL_experiment\\Analysis\\Patients\\Across\\BrainMapping\\General\\DI\\P_binary.jpg')\n",
    "\n",
    "plt.figure(figsize=(20,20))\n",
    "plt.pcolor(M, cmap='seismic')\n",
    "plt.axis('off')\n",
    "plt.savefig(sub_path+'EvM\\Projects\\EL_experiment\\Analysis\\Patients\\Across\\BrainMapping\\General\\DI\\P_seismic.jpg')\n",
    "\n"
   ]
  },
  {
   "cell_type": "code",
   "execution_count": null,
   "id": "needed-romania",
   "metadata": {},
   "outputs": [],
   "source": [
    "m ='DI'\n",
    "\n",
    "data_plot = data_con[(~np.isnan(data_con.P_BA))&(~np.isnan(data_con.P_AB))&(~np.isnan(data_con[m]))]\n",
    "grid = sns.JointGrid(x='P_AB', y='P_BA', data=data_plot,height=15, ratio=4)\n",
    "hue = 'Dist'\n",
    "\n",
    "g = grid.plot_joint(sns.scatterplot, c=data_plot[m], data=data_plot, cmap =colormap)\n",
    "\n",
    "g.fig.suptitle('Directionality Index ('+m+')', fontsize=25)\n",
    "g.ax_joint.set_xticks([0,0.5,1])\n",
    "g.ax_joint.set_xticklabels([0,50,100],fontsize=20)\n",
    "g.ax_joint.set_yticks([0,0.5,1])\n",
    "g.ax_joint.set_yticklabels([0,50,100],fontsize=20)\n",
    "g.ax_joint.set_ylabel('Probability BA [%]',fontsize=20)\n",
    "g.ax_joint.set_xlabel('Probability AB [%]',fontsize=20)\n",
    "\n",
    "scalarmappaple = cm.ScalarMappable(norm=norm, cmap=colormap)\n",
    "sns.kdeplot(data_plot.P_AB, data=data_plot, hue=hue, ax=g.ax_marg_x, legend=False, linewidth= 10)\n",
    "sns.kdeplot(data_plot.P_BA, data=data_plot, hue=hue, ax=g.ax_marg_y,  vertical=True,legend=True, linewidth= 10)\n",
    "#sns.kdeplot(tips.loc[tips['smoker']=='No', 'total_bill'], ax=g.ax_marg_x, legend=False)\n",
    "#sns.kdeplot(tips.loc[tips['smoker']=='Yes', 'tip'], ax=g.ax_marg_y, vertical=True, legend=False)\n",
    "#sns.kdeplot(tips.loc[tips['smoker']=='No', 'tip'], ax=g.ax_marg_y, vertical=True, legend=False)\n",
    "plt.savefig(sub_path+'EvM\\Projects\\EL_experiment\\Analysis\\Patients\\Across\\BrainMapping\\General\\DI\\P_scatter_'+m+'_kde_Dist.svg')\n",
    "plt.savefig(sub_path+'EvM\\Projects\\EL_experiment\\Analysis\\Patients\\Across\\BrainMapping\\General\\DI\\P_scatter_'+m+'_kde_Dist.jpg')\n",
    "    "
   ]
  },
  {
   "cell_type": "code",
   "execution_count": null,
   "id": "ahead-arthur",
   "metadata": {},
   "outputs": [],
   "source": [
    "m ='DI'\n",
    "for m in ['DI', 'DI_r', 'DI_d']:\n",
    "    fig = plt.figure(figsize=(14,10))\n",
    "    g = sns.scatterplot(x='P_AB', y='P_BA', c=data_con.loc[(~np.isnan(data_con.P_BA))&(~np.isnan(data_con.P_AB))&(~np.isnan(data_con[m])),m], data= data_plot, cmap =colormap)\n",
    "    \n",
    "    scalarmappaple = cm.ScalarMappable(norm=normalize, cmap=colormap)\n",
    "    fig.colorbar(scalarmappaple)\n",
    "    plt.title('Directionality Index ('+m+')', fontsize=25)\n",
    "    plt.xticks(fontsize=20)\n",
    "    plt.yticks(fontsize=20)\n",
    "    plt.xlabel('Probability AB', fontsize=25)\n",
    "    plt.ylabel('Probability BA', fontsize=25)\n",
    "\n",
    "    plt.savefig(sub_path+'EvM\\Projects\\EL_experiment\\Analysis\\Patients\\Across\\BrainMapping\\General\\DI\\P_scatter_'+m+'.svg')\n",
    "    plt.savefig(sub_path+'EvM\\Projects\\EL_experiment\\Analysis\\Patients\\Across\\BrainMapping\\General\\DI\\P_scatter_'+m+'.jpg')\n",
    "    plt.show()"
   ]
  },
  {
   "cell_type": "code",
   "execution_count": null,
   "id": "different-universal",
   "metadata": {
    "scrolled": true
   },
   "outputs": [],
   "source": [
    "xx = 'Dist'\n",
    "for yy in ['DI', 'DI_r', 'DI_d']:\n",
    "    x_order = ['local (<15 mm)', 'short (<30mm)', 'long']\n",
    "    df = data_con[(~np.isnan(data_con.P_BA))&(~np.isnan(data_con.P_AB))&(~np.isnan(data_con[yy]))]\n",
    "    #df = data_con[(data_con.Sig>0)]\n",
    "    df = df.reset_index(drop=True)\n",
    "    df[yy] = abs(df[yy])\n",
    "    plt.figure(figsize=(15,8))\n",
    "\n",
    "    ax = sns.violinplot(y=yy, x=xx, data=df, order= x_order )\n",
    "    medians = df.groupby([xx])[yy].median().values\n",
    "    nobs = df[xx].value_counts()\n",
    "    nobs = nobs[x_order].values\n",
    "    nobs = [str(x) for x in nobs.tolist()]\n",
    "    nobs = [\"n: \" + i for i in nobs] \n",
    "    pos = range(len(nobs))\n",
    "    for tick,label in zip(pos,ax.get_yticklabels()):\n",
    "        ax.text(tick-0.2,1.3,nobs[tick],color='black', verticalalignment = \"bottom\",fontsize=20)\n",
    "    plt.xticks(fontsize=20)\n",
    "    plt.yticks(fontsize=20)\n",
    "    plt.ylabel('DI',fontsize=25)\n",
    "    plt.xlabel('',fontsize=25)\n",
    "    ax.text(0, 1.5, 'Directionality Index Across all Conenctions ('+yy+')',fontsize=25)\n",
    "    sns.despine()\n",
    "    plt.savefig(sub_path+'EvM\\Projects\\EL_experiment\\Analysis\\Patients\\Across\\BrainMapping\\General\\DI\\Dist_'+yy+'.svg')"
   ]
  },
  {
   "cell_type": "markdown",
   "id": "jewish-uruguay",
   "metadata": {},
   "source": [
    "### Connections A-B, B-A seperate"
   ]
  },
  {
   "cell_type": "code",
   "execution_count": null,
   "id": "cf06b03b",
   "metadata": {},
   "outputs": [],
   "source": [
    "import re"
   ]
  },
  {
   "cell_type": "code",
   "execution_count": null,
   "id": "yellow-words",
   "metadata": {},
   "outputs": [],
   "source": [
    "subjs = ['EL010', 'EL011', 'EL012', 'EL013', 'EL014', 'EL015', 'EL016', 'EL017', 'EL019', 'EL020', 'EL021', 'EL022']"
   ]
  },
  {
   "cell_type": "code",
   "execution_count": null,
   "id": "481ef72c",
   "metadata": {},
   "outputs": [],
   "source": [
    "subjs"
   ]
  },
  {
   "cell_type": "code",
   "execution_count": null,
   "id": "subsequent-rocket",
   "metadata": {},
   "outputs": [],
   "source": [
    "data_con_file = sub_path+'EvM\\Projects\\EL_experiment\\Analysis\\Patients\\Across\\BrainMapping\\General\\data\\data_con.csv'\n",
    "if os.path.exists(data_con_file)*0:\n",
    "    data_con_all = pd.read_csv(data_con_file)\n",
    "else:\n",
    " \n",
    "    for i in range(len(subjs)):\n",
    "        print('loading -- '+subjs[i], end='\\r')\n",
    "        subj = subjs[i]\n",
    "        path_gen = os.path.join(sub_path+'Patients\\\\' + subj)\n",
    "        if not os.path.exists(path_gen):\n",
    "            path_gen = 'T:\\\\EL_experiment\\\\Patients\\\\' + subj\n",
    "        path_patient = path_gen + '\\Data\\EL_experiment'\n",
    "        path_infos = os.path.join(path_patient, 'infos')\n",
    "        if not os.path.exists(path_infos):\n",
    "            path_infos = path_gen + '\\\\infos'\n",
    "        path_patient_analysis = sub_path+'\\EvM\\Projects\\EL_experiment\\Analysis\\Patients\\\\' + subj\n",
    "        summary_gen_path = path_patient_analysis + '\\\\' +folder + '\\\\' + cond_folder + '\\\\data\\\\summ_general.csv'\n",
    "        data_A = pd.read_csv(summary_gen_path)\n",
    "\n",
    "        lbls = pd.read_excel(os.path.join(path_gen, 'Electrodes', subj + \"_labels.xlsx\"), header=0, sheet_name='BP')\n",
    "        labels_all      = lbls.label.values\n",
    "        labels_clinic   = lbls.Clinic.values\n",
    "        labels_region   = lbls.Region.values\n",
    "\n",
    "        bad_region = np.where((labels_region == 'WM') | (labels_region == 'OUT') | (labels_region == 'Putamen'))[0]\n",
    "\n",
    "        StimChanIx = np.unique(data_A.Stim)\n",
    "        bad_chans = pd.read_csv(path_patient_analysis + '/BrainMapping/data/badchan.csv')\n",
    "        bad_chans = np.unique(np.array(np.where(bad_chans.values[:, 1:] == 1))[0, :])\n",
    "        non_stim = np.arange(len(labels_all))\n",
    "        non_stim = np.delete(non_stim, StimChanIx.astype('int'), 0)\n",
    "        WM_chans = np.where(labels_region == 'WM')[0]\n",
    "        bad_all = np.unique(np.concatenate([WM_chans, bad_region, bad_chans, non_stim])).astype('int')\n",
    "\n",
    "\n",
    "\n",
    "        data_A = data_A[~np.isin(data_A.Chan,bad_all)&~np.isin(data_A.Stim,bad_all)]\n",
    "        data_A.reset_index(drop=True)\n",
    "        data_A.insert(0, 'Subj', subjs[i])\n",
    "        data_A.insert(1, 'StimA', '0')\n",
    "        data_A.insert(2, 'ChanA', '0')\n",
    "        data_A.insert(8, 'H', 0)\n",
    "        for c in np.unique(data_A[['Chan', 'Stim']]).astype('int'):\n",
    "            data_A.loc[data_A.Chan==c, 'ChanA'] = \" \".join(re.findall(\"[a-zA-Z_]+\", labels_all[c]))\n",
    "            data_A.loc[data_A.Stim==c, 'StimA'] = \" \".join(re.findall(\"[a-zA-Z_]+\", labels_all[c]))\n",
    "            chans = data_A.loc[data_A.Stim==c, 'Chan'].values.astype('int')\n",
    "            data_A.loc[data_A.Stim==c, 'H'] = np.array(lbls.Hemisphere[chans] != lbls.Hemisphere[c])*1\n",
    "            #data_A.loc[data_A.Chan==c, 'Chan'] = labels_all[c]\n",
    "            #data_A.loc[data_A.Stim==c, 'Stim'] = labels_all[c]\n",
    "        #data_A = data_A[~np.isnan(data_A.N1.values)]\n",
    "\n",
    "        #stims = data_A.loc[data_A.DI==1, 'Stim'].values\n",
    "        #chans = data_A.loc[data_A.DI==1, 'Chan'].values\n",
    "\n",
    "        #for sc, rc in zip(stims, chans):\n",
    "        #    data_A.loc[(data_A.Stim==rc)&(data_A.Chan==sc), 'DI'] = -1 \n",
    "\n",
    "        if i==0:\n",
    "            data_con_all    = data_A\n",
    "        else:\n",
    "            data_con_all = pd.concat([data_con_all, data_A])   \n",
    "            data_con_all = data_con_all.reset_index(drop=True)\n",
    "    # data_con_all.to_csv(data_con_file, header=True, index=False)"
   ]
  },
  {
   "cell_type": "code",
   "execution_count": null,
   "id": "d52229e5",
   "metadata": {},
   "outputs": [],
   "source": [
    "data_con_all"
   ]
  },
  {
   "cell_type": "code",
   "execution_count": null,
   "id": "orange-collaboration",
   "metadata": {},
   "outputs": [],
   "source": [
    "data_DI4.P_AB = data_DI4.P_A\n",
    "data_DI4.P_BA = data_DI4.P_B\n",
    "data_DI4 = data_DI4.drop(columns=['P_A', 'P_B'])"
   ]
  },
  {
   "cell_type": "code",
   "execution_count": null,
   "id": "above-feeling",
   "metadata": {},
   "outputs": [],
   "source": [
    "data_DI = data_DI.drop(columns=['onset_A', 'onset_B'])"
   ]
  },
  {
   "cell_type": "code",
   "execution_count": null,
   "id": "angry-dealer",
   "metadata": {},
   "outputs": [],
   "source": [
    "test = data_DI_com.loc[(data_DI_com.B==102)&(data_DI_com.A==97), ['d', 'DI']].values"
   ]
  },
  {
   "cell_type": "code",
   "execution_count": null,
   "id": "auburn-andrew",
   "metadata": {},
   "outputs": [],
   "source": [
    "data_DI4"
   ]
  },
  {
   "cell_type": "code",
   "execution_count": null,
   "id": "sitting-cambodia",
   "metadata": {},
   "outputs": [],
   "source": []
  },
  {
   "cell_type": "code",
   "execution_count": null,
   "id": "choice-accounting",
   "metadata": {},
   "outputs": [],
   "source": [
    "data_DI4"
   ]
  },
  {
   "cell_type": "code",
   "execution_count": null,
   "id": "pleasant-little",
   "metadata": {},
   "outputs": [],
   "source": [
    "data_DI_com.loc[(data_DI_com.B==102)&(data_DI_com.A==97)]"
   ]
  },
  {
   "cell_type": "code",
   "execution_count": null,
   "id": "center-liquid",
   "metadata": {
    "scrolled": true
   },
   "outputs": [],
   "source": [
    "data_DI4[data_DI4.A==97]"
   ]
  },
  {
   "cell_type": "code",
   "execution_count": null,
   "id": "structured-wales",
   "metadata": {},
   "outputs": [],
   "source": [
    "data_DI[data_DI.A==97]"
   ]
  },
  {
   "cell_type": "code",
   "execution_count": null,
   "id": "compressed-worker",
   "metadata": {},
   "outputs": [],
   "source": [
    "data_DI"
   ]
  },
  {
   "cell_type": "code",
   "execution_count": null,
   "id": "initial-pulse",
   "metadata": {},
   "outputs": [],
   "source": [
    "test[2,0] "
   ]
  },
  {
   "cell_type": "code",
   "execution_count": null,
   "id": "formed-armor",
   "metadata": {},
   "outputs": [],
   "source": [
    "data_DI4.d = np.round(data_DI4.d,2)"
   ]
  },
  {
   "cell_type": "code",
   "execution_count": null,
   "id": "patient-assist",
   "metadata": {},
   "outputs": [],
   "source": [
    "data_DI_com = data_DI.merge(data_DI4, on = ['Subj', 'A', 'B', 'd', 'DI'],how='outer')"
   ]
  },
  {
   "cell_type": "code",
   "execution_count": null,
   "id": "entire-poland",
   "metadata": {},
   "outputs": [],
   "source": [
    "pd.merge([data_DI, data_DI4])"
   ]
  },
  {
   "cell_type": "code",
   "execution_count": null,
   "id": "russian-picking",
   "metadata": {},
   "outputs": [],
   "source": [
    "data_DI[~np.isnan(data_DI.DI)]"
   ]
  },
  {
   "cell_type": "code",
   "execution_count": null,
   "id": "south-trash",
   "metadata": {},
   "outputs": [],
   "source": [
    "data_DI4 = data_DI2[~np.isnan(data_DI2.DI)]\n",
    "data_DI4 = data_DI4.reset_index(drop=True)"
   ]
  },
  {
   "cell_type": "code",
   "execution_count": null,
   "id": "swiss-sensitivity",
   "metadata": {},
   "outputs": [],
   "source": [
    "data_DI2[~np.isnan(data_DI2.DI)]"
   ]
  },
  {
   "cell_type": "code",
   "execution_count": null,
   "id": "talented-extraction",
   "metadata": {},
   "outputs": [],
   "source": [
    "data_DI"
   ]
  },
  {
   "cell_type": "code",
   "execution_count": null,
   "id": "chronic-house",
   "metadata": {},
   "outputs": [],
   "source": []
  },
  {
   "cell_type": "code",
   "execution_count": null,
   "id": "smart-hearing",
   "metadata": {},
   "outputs": [],
   "source": [
    "plt.scatter(data_DI.P_AB, data_DI.P_BA, alpha=0.8)\n",
    "plt.scatter(data_DI2.P_A, data_DI2.P_B, alpha=0.8)"
   ]
  },
  {
   "cell_type": "code",
   "execution_count": null,
   "id": "level-denmark",
   "metadata": {},
   "outputs": [],
   "source": [
    "sns.scatterplot(x='P_AB', y='P_BA', data=data_DI )\n",
    "\n",
    "sns.scatterplot(x='P_A', y='P_B', data=data_DI2, alpha )"
   ]
  },
  {
   "cell_type": "code",
   "execution_count": null,
   "id": "handed-wiring",
   "metadata": {},
   "outputs": [],
   "source": [
    "data_DI"
   ]
  },
  {
   "cell_type": "code",
   "execution_count": null,
   "id": "bibliographic-graphics",
   "metadata": {},
   "outputs": [],
   "source": [
    "data_con_Di = data_con_all[data_con_all.Sig>0]\n",
    "data_con_Di.drop(columns=['StimA', 'ChanA', 'Group', 'Dist'])\n",
    "data_con_Di = data_con_Di.reset_index(drop=True)"
   ]
  },
  {
   "cell_type": "code",
   "execution_count": null,
   "id": "little-invention",
   "metadata": {},
   "outputs": [],
   "source": [
    "data_DI"
   ]
  },
  {
   "cell_type": "code",
   "execution_count": null,
   "id": "fifty-twenty",
   "metadata": {},
   "outputs": [],
   "source": [
    "\n"
   ]
  },
  {
   "cell_type": "code",
   "execution_count": null,
   "id": "induced-subdivision",
   "metadata": {},
   "outputs": [],
   "source": [
    "subj = 'EL010'\n",
    "chans = np.unique(data_DI.loc[data_DI.Subj==subj, ['A']]).astype('int')\n",
    "for i in tqdm(range(len(chans))):\n",
    "    data_A = data_DI.loc[(data_DI.A==chans[i])&(data_DI.Subj==subj)]\n",
    "    data_A.reset_index(drop=True)\n",
    "    data_A."
   ]
  },
  {
   "cell_type": "code",
   "execution_count": null,
   "id": "mighty-eleven",
   "metadata": {},
   "outputs": [],
   "source": [
    "data_DI3"
   ]
  },
  {
   "cell_type": "code",
   "execution_count": null,
   "id": "combined-monaco",
   "metadata": {},
   "outputs": [],
   "source": [
    "data_DI3 = data_DI2[(data_DI2.d>20)&(~np.isnan(data_DI2.DI))]\n"
   ]
  },
  {
   "cell_type": "code",
   "execution_count": null,
   "id": "adopted-maryland",
   "metadata": {},
   "outputs": [],
   "source": [
    "import matplotlib.pyplot as plt\n",
    "from brokenaxes import brokenaxes\n",
    "import numpy as np\n",
    "\n",
    "fig = plt.figure(figsize=(5,2))\n",
    "bax = brokenaxes(xlims=((0, .1), (.4, .7)), ylims=((-1, .7), (.79, 1)), hspace=.05)\n",
    "x = np.linspace(0, 1, 100)\n",
    "bax.plot(x, np.sin(10 * x), label='sin')\n",
    "bax.plot(x, np.cos(10 * x), label='cos')\n",
    "bax.legend(loc=3)\n",
    "bax.set_xlabel('time')\n",
    "bax.set_ylabel('value')"
   ]
  },
  {
   "cell_type": "code",
   "execution_count": null,
   "id": "informational-female",
   "metadata": {},
   "outputs": [],
   "source": [
    "data_DI3 = data_DI2[(data_DI2.d>20)&(~np.isnan(data_DI2.DI))&(~np.isnan(data_DI2.onset_A))&(~np.isnan(data_DI2.onset_B))]\n",
    "data_DI3 = data_DI3.reset_index(drop=True)\n",
    "data_DI3.DI = abs(data_DI3.DI)\n",
    "data_DI3.insert(4, 'Cat', 'D-I')\n",
    "t = 0.03\n",
    "data_DI3.loc[(data_DI3.onset_B>t)&(data_DI3.onset_A>t), 'Cat'] ='I-I'\n",
    "data_DI3.loc[(data_DI3.onset_B<t)&(data_DI3.onset_A<t), 'Cat'] ='D-D'\n",
    "data_DI3.loc[(np.isnan(data_DI3.onset_A)), 'Cat'] ='U'\n",
    "data_DI3.loc[(np.isnan(data_DI3.onset_B)), 'Cat'] ='U'\n",
    "sns.catplot(x='Cat', y=abs(data_DI3.DI), data= data_DI3, kind ='violin')"
   ]
  },
  {
   "cell_type": "code",
   "execution_count": null,
   "id": "divided-tuesday",
   "metadata": {},
   "outputs": [],
   "source": [
    "xx = 'Cat'\n",
    "yy = 'DI'\n",
    "ylabel = \"Probability\"\n",
    "if yy == 'DI':\n",
    "    ylabel = 'Directionality Index'\n",
    "data_plot = data_DI3# [data_con_all.Sig>0]\n",
    "data_plot[yy] = abs(data_plot[yy])\n",
    "\n",
    "sns.set_style('white')\n",
    "palette = color_dist\n",
    "f, ax = plt.subplots(figsize=(15,10))\n",
    "ax = sns.violinplot(x=xx, y=yy, data=data_plot, dodge=False,\n",
    "                    palette=palette,\n",
    "                    scale=\"width\", inner=None, alpha=.2)\n",
    "xlim = ax.get_xlim()\n",
    "ylim = ax.get_ylim()\n",
    "for violin in ax.collections:\n",
    "    bbox = violin.get_paths()[0].get_extents()\n",
    "    x0, y0, width, height = bbox.bounds\n",
    "    violin.set_clip_path(plt.Rectangle((x0, y0), width / 2, height, transform=ax.transData))\n",
    "    violin.set_alpha(0.8)\n",
    "\n",
    "sns.boxplot(x=xx, y=yy, data=data_plot, saturation=1, showfliers=False,\n",
    "            width=0.3, boxprops={'zorder': 3, 'facecolor': 'none'}, ax=ax, linewidth = 3)\n",
    "old_len_collections = len(ax.collections)\n",
    "sns.stripplot(x=xx, y=yy, data=data_plot, palette=palette, dodge=False, ax=ax, alpha=0.1)\n",
    "for dots in ax.collections[old_len_collections:]:\n",
    "    dots.set_offsets(dots.get_offsets() + np.array([0.12, 0]))\n",
    "ax.set_xlim(xlim)\n",
    "ax.set_ylim(ylim)\n",
    "plt.xticks(fontsize=20)\n",
    "plt.yticks(fontsize=20)\n",
    "plt.ylabel(ylabel, fontsize=24)\n",
    "plt.xlabel(\"\", fontsize=24)\n",
    "# ax.legend_.remove()\n",
    "plt.show()"
   ]
  },
  {
   "cell_type": "code",
   "execution_count": null,
   "id": "progressive-invitation",
   "metadata": {},
   "outputs": [],
   "source": [
    "matplotlib.use(\"svg\")"
   ]
  },
  {
   "cell_type": "code",
   "execution_count": null,
   "id": "strong-power",
   "metadata": {},
   "outputs": [],
   "source": [
    "data_DI3 = data_DI2[(data_DI2.d>20)&(~np.isnan(data_DI2.DI))&(~np.isnan(data_DI2.onset_A))&(~np.isnan(data_DI2.onset_B))]\n",
    "\n",
    "xl = 0.03\n",
    "f, axs = plt.subplots(ncols=4, nrows=2, sharex=False, sharey=False,  gridspec_kw={'width_ratios': [1, 3, 0.2, 0.8],'height_ratios': [3, 1]}, figsize=(12,10))\n",
    "for ax in fig.get_axes():\n",
    "    ax.label_outer()\n",
    "\n",
    "for i in range(2):\n",
    "    for j in range(4):\n",
    "        axs[i,j].set_xlabel('')\n",
    "        axs[i,j].set_ylabel('')\n",
    "        axs[i,j].set_facecolor('xkcd:black')\n",
    "        axs[i,j].set_xticks([])\n",
    "        axs[i,j].set_yticks([])\n",
    "        \n",
    "ax = sns.scatterplot(x= data_DI3.onset_A, y= data_DI3.onset_B, c= data_DI3.DI.values, ax = axs[1,0], cmap = 'seismic')\n",
    "\n",
    "ax.set_xlim([-0.001, xl])\n",
    "ax.set_ylim([-0.001, xl])\n",
    "axs[1,0].set_yticks(np.arange(0,xl+0.001, 0.005))\n",
    "axs[1,0].set_xticks(np.arange(0, xl+0.001, 0.005))\n",
    "\n",
    "ax = sns.scatterplot(x= data_DI3.onset_A, y= data_DI3.onset_B, c= data_DI3.DI.values, ax = axs[1,1], cmap = 'seismic')\n",
    "\n",
    "ax.set_xlim([xl, 0.3])\n",
    "ax.set_ylim([-0.001, xl])\n",
    "axs[1,1].set_xticks(np.arange(0.05, 0.31, 0.05))\n",
    "axs[1,1].set_yticks([])\n",
    "\n",
    "ax = sns.scatterplot(x= data_DI3.onset_A, y= data_DI3.onset_B, c= data_DI3.DI.values, ax = axs[0,1], cmap = 'seismic')\n",
    "\n",
    "ax.set_xlim([xl, 0.3])\n",
    "ax.set_ylim([xl, 0.3])\n",
    "axs[0,1].set_yticks([])\n",
    "axs[0,1].set_xticks([])\n",
    "\n",
    "ax = sns.scatterplot(x= data_DI3.onset_A, y= data_DI3.onset_B, c= data_DI3.DI.values, ax = axs[0,0], cmap = 'seismic')\n",
    "\n",
    "ax.set_xlim([-0.001, xl])\n",
    "ax.set_ylim([xl, 0.3])\n",
    "axs[0,0].set_yticks(np.arange(0.05, 0.31, 0.05))\n",
    "\n",
    "\n",
    "data_DI3 = data_DI2[(data_DI2.d>20)&(data_DI2.DI==1)]\n",
    "data_DI3 = data_DI3.reset_index(drop=True)\n",
    "data_DI3.onset_B = 0.4 + np.random.random(len(data_DI3))/10\n",
    "\n",
    "\n",
    "ax = sns.scatterplot(x= data_DI3.onset_B, y= data_DI3.onset_A, c= data_DI3.DI.values, ax = axs[0,3], cmap = 'seismic')\n",
    "\n",
    "ax.set_xlim([0.39, 0.51])\n",
    "ax.set_ylim([xl, 0.3])\n",
    "axs[0,3].set_yticks([])\n",
    "axs[1,3].set_xticks([])\n",
    "\n",
    "\n",
    "ax = sns.scatterplot(x= data_DI3.onset_B, y= data_DI3.onset_A, c= data_DI3.DI.values, ax = axs[1,3], cmap = 'seismic')\n",
    "\n",
    "axs[1,3].set_xlim([0.39, 0.51])\n",
    "axs[1,3].set_ylim([xl, 0.3])\n",
    "axs[1,3].set_xlabel('Unidirectional')\n",
    "\n",
    "plt.subplots_adjust(wspace=0.0001, hspace=0.001)\n",
    "plt.savefig(sub_path+'EvM\\Projects\\EL_experiment\\Analysis\\Patients\\Across\\BrainMapping\\General\\DI\\Cat_onset.svg')\n",
    "plt.savefig(sub_path+'EvM\\Projects\\EL_experiment\\Analysis\\Patients\\Across\\BrainMapping\\General\\DI\\Cat_onset.jpg')\n",
    "\n",
    "#plt.tight_layout()"
   ]
  },
  {
   "cell_type": "code",
   "execution_count": null,
   "id": "valuable-comparative",
   "metadata": {},
   "outputs": [],
   "source": [
    "data_DI3 = data_DI2[(data_DI2.d>20)&(~np.isnan(data_DI2.DI))&(~np.isnan(data_DI2.onset_A))&(~np.isnan(data_DI2.onset_B))]\n",
    "\n",
    "sns.scatterplot(data_DI3.onset_A, data_DI3.onset_B, c= abs(data_DI3.DI.values))\n"
   ]
  },
  {
   "cell_type": "code",
   "execution_count": null,
   "id": "alien-insider",
   "metadata": {},
   "outputs": [],
   "source": [
    "data_con_all.insert(6, 'Group', 'indirect')\n",
    "data_con_all.loc[(data_con_all.d<20)&(data_con_all.onset<0.02), 'Group'] ='local direct'\n",
    "data_con_all.loc[(data_con_all.d>20)&(data_con_all.onset<0.02), 'Group'] ='long direct'"
   ]
  },
  {
   "cell_type": "markdown",
   "id": "confused-letter",
   "metadata": {},
   "source": [
    "## Plots"
   ]
  },
  {
   "cell_type": "code",
   "execution_count": null,
   "id": "exciting-graphics",
   "metadata": {},
   "outputs": [],
   "source": [
    "from mpl_toolkits.mplot3d import axes3d\n",
    "import matplotlib.pyplot as plt\n",
    "\n",
    "import ptitprince as pt"
   ]
  },
  {
   "cell_type": "code",
   "execution_count": null,
   "id": "respected-operation",
   "metadata": {},
   "outputs": [],
   "source": [
    "fig = plt.figure(figsize=(15,15))\n",
    "ax = fig.add_subplot(111, projection='3d')\n",
    "data_plot = data_con_all[data_con_all.Sig>0]\n",
    "X, Y, Z = data_plot.onset.values, data_plot.d.values, data_plot.Sig.values\n",
    "scatter_plot = ax.scatter(X, Y,np.array([Z]), c= Z , cmap='copper',alpha=0.5)\n",
    "plt.colorbar(scatter_plot)\n",
    "plt.xlabel('onset [s]', fontsize=20)\n",
    "plt.ylabel('distance [mm]', fontsize=20)\n",
    "plt.xticks(fontsize=15)\n",
    "plt.yticks(fontsize=15)\n",
    "plt.savefig(sub_path+'EvM\\Projects\\EL_experiment\\Analysis\\Patients\\Across\\BrainMapping\\General\\DI\\P_3d.svg')\n",
    "plt.savefig(sub_path+'EvM\\Projects\\EL_experiment\\Analysis\\Patients\\Across\\BrainMapping\\General\\DI\\P_3d.jpg')\n",
    "plt.show()"
   ]
  },
  {
   "cell_type": "code",
   "execution_count": null,
   "id": "lyric-queen",
   "metadata": {},
   "outputs": [],
   "source": [
    "## plt.figure(figsize=(20,15))\n",
    "sns.scatterplot(x='onset', y='Sig', hue='Dist', data=data_con_all[data_con_all.Sig>0],palette= color_dist)\n",
    "plt.xlim([-0.01,0.23])"
   ]
  },
  {
   "cell_type": "code",
   "execution_count": null,
   "id": "afraid-vintage",
   "metadata": {},
   "outputs": [],
   "source": [
    "plt.figure(figsize=(20,15))\n",
    "sns.scatterplot(x='onset', y='Sig', hue='d', data=data_con_all[data_con_all.Sig>0],palette= ListedColormap(viridis_new))\n",
    "plt.xlim([-0.01,0.23])"
   ]
  },
  {
   "cell_type": "code",
   "execution_count": null,
   "id": "ranking-begin",
   "metadata": {},
   "outputs": [],
   "source": [
    "f, ax = plt.subplots(figsize=(15,10))\n",
    "ax = pt.half_violinplot(x='Dist', y='t_onset', data=data_con_all[(data_con_all.Sig>0)], palette=color_dist, width=0.6)\n",
    "ax = sns.stripplot(x='Dist', y='t_onset', data=data_con_all[data_con_all.Sig>0], palette=color_dist, jitter=0.01, alpha=0.1)\n",
    "ax=sns.boxplot(x='Dist', y='t_onset', data=data_con_all[data_con_all.Sig>0], palette=color_dist, width = .15)"
   ]
  },
  {
   "cell_type": "code",
   "execution_count": null,
   "id": "amended-tradition",
   "metadata": {},
   "outputs": [],
   "source": [
    "f, ax = plt.subplots(figsize=(15,10))\n",
    "ax = pt.half_violinplot(x='Dist', y='t_onset', data=data_con_all[(data_con_all.Sig>0)], palette=color_dist, width=0.6)\n",
    "ax = sns.stripplot(x='Dist', y='t_onset', data=data_con_all[data_con_all.Sig>0], palette=color_dist, jitter=0.01, alpha=0.1)\n",
    "ax=sns.boxplot(x='Dist', y='t_onset', data=data_con_all[data_con_all.Sig>0], palette=color_dist, width = .15)"
   ]
  },
  {
   "cell_type": "code",
   "execution_count": null,
   "id": "mineral-national",
   "metadata": {},
   "outputs": [],
   "source": [
    "plt.figure(figsize=(20,15))\n",
    "sns.clust(x='Dist', y='t_onset', data=data_con_all[data_con_all.Sig>0], palette=color_dist)\n",
    "#plt.ylim([-0.01,0.23])"
   ]
  },
  {
   "cell_type": "code",
   "execution_count": null,
   "id": "exciting-sustainability",
   "metadata": {},
   "outputs": [],
   "source": [
    "plt.figure(figsize=(20,15))\n",
    "sns.scatterplot(x='d', y='t_onset', hue='Sig', data=data_con_all[data_con_all.Sig>0], palette='copper')\n",
    "plt.ylim([-0.01,0.23])"
   ]
  },
  {
   "cell_type": "code",
   "execution_count": null,
   "id": "apparent-divorce",
   "metadata": {},
   "outputs": [],
   "source": [
    "data_con_all"
   ]
  },
  {
   "cell_type": "code",
   "execution_count": null,
   "id": "simplified-sympathy",
   "metadata": {},
   "outputs": [],
   "source": [
    "data_con_all[(data_con_all.Sig>0)]"
   ]
  },
  {
   "cell_type": "code",
   "execution_count": null,
   "id": "unlikely-newark",
   "metadata": {},
   "outputs": [],
   "source": [
    "nobs = df[xx].value_counts()\n",
    "nobs = nobs[['local (<15 mm)', 'short (<30mm)', 'long']]"
   ]
  },
  {
   "cell_type": "code",
   "execution_count": null,
   "id": "virgin-pointer",
   "metadata": {},
   "outputs": [],
   "source": [
    "def percentile(n):\n",
    "    def percentile_(x):\n",
    "        return np.nanpercentile(x, n)\n",
    "    percentile_.__name__ = 'percentile_%s' % n\n",
    "    return percentile_"
   ]
  },
  {
   "cell_type": "code",
   "execution_count": null,
   "id": "charged-surname",
   "metadata": {},
   "outputs": [],
   "source": [
    "df"
   ]
  },
  {
   "cell_type": "code",
   "execution_count": null,
   "id": "marked-sucking",
   "metadata": {},
   "outputs": [],
   "source": [
    "df = data_con_all[(~np.isnan(data_con_all.Dir_index))]#df = data_con_all[(data_con_all.Sig>0)]\n",
    "df = df.reset_index(drop=True)\n",
    "df.Dir_index = abs(df.Dir_index)\n",
    "df.groupby([xx]bo[['Dir_index']].agg([percentile(25),percentile(50), percentile(75)])"
   ]
  },
  {
   "cell_type": "code",
   "execution_count": null,
   "id": "interior-parameter",
   "metadata": {},
   "outputs": [],
   "source": [
    "df.groupby([xx], as_index=False)[['Sig']].agg([percentile(25),percentile(50), percentile(75)])"
   ]
  },
  {
   "cell_type": "code",
   "execution_count": null,
   "id": "approved-intro",
   "metadata": {},
   "outputs": [],
   "source": [
    "scipy.stats.ranksums(df.loc[df.Dist==x_order[1],yy].values,df.loc[df.Dist==x_order[2],yy].values)"
   ]
  },
  {
   "cell_type": "code",
   "execution_count": null,
   "id": "broke-decrease",
   "metadata": {},
   "outputs": [],
   "source": [
    "xx = 'Dist'\n",
    "yy = 'Dir_index'\n",
    "x_order = ['local (<15 mm)', 'short (<30mm)', 'long']\n",
    "#df = data_con[(~np.isnan(data_con.Dir_index))]\n",
    "df = data_con_all[(data_con_all.Sig>0)]\n",
    "df = df.reset_index(drop=True)\n",
    "df.Dir_index = abs(df.Dir_index)\n",
    "plt.figure(figsize=(15,8))\n",
    "ax = sns.violinplot(y=yy, x=xx, data=df, order= x_order )\n",
    "medians = df.groupby([xx])[yy].median().values\n",
    "nobs = df[xx].value_counts()\n",
    "nobs = nobs[x_order].values\n",
    "nobs = [str(x) for x in nobs.tolist()]\n",
    "nobs = [\"n: \" + i for i in nobs] \n",
    "pos = range(len(nobs))\n",
    "for tick,label in zip(pos,ax.get_yticklabels()):\n",
    "    ax.text(tick-0.2,1.3,nobs[tick],color='black', verticalalignment = \"bottom\",fontsize=20)\n",
    "plt.xticks(fontsize=20)\n",
    "plt.yticks(fontsize=20)\n",
    "plt.ylabel('DI',fontsize=25)\n",
    "plt.xlabel('',fontsize=25)\n",
    "ax.text(0, 1.5, 'Probability Index Across all Conenctions',fontsize=25)\n",
    "sns.despine()\n",
    "#plt.savefig(sub_path+'EvM\\Projects\\EL_experiment\\Analysis\\Patients\\Across\\BrainMapping\\General\\DI\\Dist_Prob.svg')"
   ]
  },
  {
   "cell_type": "code",
   "execution_count": null,
   "id": "australian-adams",
   "metadata": {},
   "outputs": [],
   "source": [
    "scipy.stats.ranksums(df.loc[df.Dist==x_order[1],yy].values,df.loc[df.Dist==x_order[0],yy].values)"
   ]
  },
  {
   "cell_type": "code",
   "execution_count": null,
   "id": "beneficial-cutting",
   "metadata": {},
   "outputs": [],
   "source": [
    "xx = 'Dist'\n",
    "yy = 'Sig'\n",
    "x_order = ['local (<15 mm)', 'short (<30mm)', 'long']\n",
    "df = data_con_all[(data_con_all.Sig>0)]\n",
    "plt.figure(figsize=(15,8))\n",
    "ax = sns.violinplot(y=yy, x=xx, data=df, order= x_order )\n",
    "medians = df.groupby([xx])[yy].median().values\n",
    "nobs = df[xx].value_counts()\n",
    "nobs = nobs[x_order].values\n",
    "nobs = [str(x) for x in nobs.tolist()]\n",
    "nobs = [\"n: \" + i for i in nobs] \n",
    "pos = range(len(nobs))\n",
    "for tick,label in zip(pos,ax.get_yticklabels()):\n",
    "    ax.text(tick-0.2,1.3,nobs[tick],color='black', verticalalignment = \"bottom\",fontsize=20)\n",
    "plt.xticks(fontsize=20)\n",
    "plt.yticks(fontsize=20)\n",
    "plt.ylabel('Probability',fontsize=25)\n",
    "plt.xlabel('',fontsize=25)\n",
    "sns.despine()\n",
    "#plt.savefig(sub_path+'EvM\\Projects\\EL_experiment\\Analysis\\Patients\\Across\\BrainMapping\\General\\Prob_DI.svg')"
   ]
  },
  {
   "cell_type": "code",
   "execution_count": null,
   "id": "latin-syntax",
   "metadata": {},
   "outputs": [],
   "source": [
    "yy = 'Dist'\n",
    "xx = 'Sig'\n",
    "df = data_con[data_con.Sig>0]\n",
    "plt.figure(figsize=(15,8))\n",
    "ax = sns.boxplot(y=yy, x=xx, data=df, order= ['local (<15 mm)', 'short (<30mm)', 'long'])\n",
    "medians = df.groupby([yy])[xx].median().values\n",
    "nobs = df[yy].value_counts().values\n",
    "nobs = [str(x) for x in nobs.tolist()]\n",
    "nobs = [\"n: \" + i for i in nobs] \n",
    "pos = range(len(nobs))\n",
    "for tick,label in zip(pos,ax.get_yticklabels()):\n",
    "    ax.text(1.1,tick,nobs[tick],color='black', verticalalignment = \"bottom\",fontsize=20)\n",
    "plt.xticks(fontsize=20)\n",
    "plt.yticks(fontsize=20)\n",
    "plt.xlabel('Probability',fontsize=25)\n",
    "sns.despine()"
   ]
  },
  {
   "cell_type": "code",
   "execution_count": null,
   "id": "appropriate-arthur",
   "metadata": {},
   "outputs": [],
   "source": [
    "for i in range(len(subjs)):\n",
    "    print('loading -- '+subjs[i], end='\\r')\n",
    "    subj = subjs[i]\n",
    "    path_gen = os.path.join('y:\\\\eLab\\Patients\\\\' + subj)\n",
    "    if not os.path.exists(path_gen):\n",
    "        path_gen = 'T:\\\\EL_experiment\\\\Patients\\\\' + subj\n",
    "    path_patient = path_gen + '\\Data\\EL_experiment'\n",
    "    path_infos = os.path.join(path_patient, 'infos')\n",
    "    if not os.path.exists(path_infos):\n",
    "        path_infos = path_gen + '\\\\infos'\n",
    "    path_patient_analysis = 'y:\\eLab\\EvM\\Projects\\EL_experiment\\Analysis\\Patients\\\\' + subj\n",
    "    \n",
    "    file_bm_auc = path_patient_analysis + '\\\\BrainMapping\\\\' + cond_folder + '\\\\data\\\\BM_AUC_connection.csv'\n",
    "    data_A = pd.read_csv(file_bm_auc)\n",
    "    \n",
    "    lbls = pd.read_excel(os.path.join(path_infos, subj + \"_labels.xlsx\"), header=0, sheet_name='BP')\n",
    "    labels_all      = lbls.label.values\n",
    "    labels_clinic   = lbls.Clinic.values\n",
    "    labels_region   = lbls.Region.values\n",
    "    \n",
    "    bad_region = np.where((labels_region == 'WM') | (labels_region == 'OUT') | (labels_region == 'Putamen'))[0]\n",
    "    \n",
    "    StimChanIx = np.unique(data_A.Stim)\n",
    "    bad_chans = pd.read_csv(path_patient_analysis + '/BrainMapping/data/badchan.csv')\n",
    "    bad_chans = np.unique(np.array(np.where(bad_chans.values[:, 1:] == 1))[0, :])\n",
    "    non_stim = np.arange(len(labels_all))\n",
    "    non_stim = np.delete(non_stim, StimChanIx.astype('int'), 0)\n",
    "    WM_chans = np.where(labels_region == 'WM')[0]\n",
    "    bad_all = np.unique(np.concatenate([WM_chans, bad_region, bad_chans, non_stim])).astype('int')\n",
    "        \n",
    "    # data_A = data_A[~np.isin(data_A.Chan,bad_all)&~np.isin(data_A.Stim,bad_all)]\n",
    "    data_A.reset_index(drop=True)\n",
    "    data_A.insert(0, 'Subj', subjs[i])\n",
    "    data_A.insert(1, 'StimR', '0')\n",
    "    data_A.insert(2, 'ChanR', '0')\n",
    "    for c in np.unique(data_A[['Chan', 'Stim']]).astype('int'):\n",
    "        data_A.loc[data_A.Chan==c, 'ChanR'] = labels_region[c]\n",
    "        data_A.loc[data_A.Stim==c, 'StimR'] = labels_region[c]\n",
    "        #data_A.loc[data_A.Chan==c, 'Chan'] = labels_all[c]\n",
    "        #data_A.loc[data_A.Stim==c, 'Stim'] = labels_all[c]\n",
    "    #data_A = data_A[~np.isnan(data_A.N1.values)]\n",
    "    if i==0:\n",
    "        data_con    = data_A\n",
    "    else:\n",
    "        data_con = pd.concat([data_con, data_A])   \n",
    "        data_con = data_con.reset_index(drop=True)"
   ]
  },
  {
   "cell_type": "markdown",
   "id": "expensive-somalia",
   "metadata": {},
   "source": [
    "## Plots"
   ]
  },
  {
   "cell_type": "code",
   "execution_count": null,
   "id": "amber-wallace",
   "metadata": {},
   "outputs": [],
   "source": [
    "plt.figure(figsize=(20,10))\n",
    "data_plot = data_con[(data_con.Sig>0)]\n",
    "plt.scatter(data_plot.d, data_plot.AUC, label ='AUC', s= 100)\n",
    "plt.scatter(data_plot.d, data_plot.Sig, label ='Probability', s = 100)\n",
    "plt.legend(fontsize=20)\n",
    "plt.title('Across all patients (n=8, n_stim = 24)', fontsize=25)\n",
    "# sns.scatterplot(x='d', y='AUC',data=, s= 100 )\n",
    "# sns.scatterplot(x='d', y='Sig',data=data_AUC_Prob[(data_AUC_Prob.Stim==sc)&(data_AUC_Prob.SleepState=='Wake')&(data_AUC_Prob.Sig>0)], s= 100 )\n",
    "\n",
    "plt.ylabel('AUC', fontsize=20)\n",
    "plt.xlabel('distance [mm]', fontsize=20)\n",
    "plt.xticks([0, 50, 100], fontsize=20)\n",
    "plt.yticks([0, 0.5, 1], fontsize=20)"
   ]
  },
  {
   "cell_type": "code",
   "execution_count": null,
   "id": "judicial-certificate",
   "metadata": {},
   "outputs": [],
   "source": [
    "data_plot = data_con[(data_con.SleepState=='Wake')& (data_con.Sig>0)]\n",
    "plt.scatter(data_plot.d, data_plot.AUC/data_plot.Sig)\n",
    "\n",
    "data_plot = data_con[(data_con.SleepState=='NREM')& (data_con.Sig>0)]\n",
    "plt.scatter(data_plot.d, data_plot.AUC/data_plot.Sig)"
   ]
  },
  {
   "cell_type": "code",
   "execution_count": null,
   "id": "polished-sunrise",
   "metadata": {},
   "outputs": [],
   "source": [
    "data_plot = data_con[(data_con.Sig>0)]\n",
    "sns.catplot(x='Dist_Group', y='Sig', hue='SleepState', data=data_plot, kind='box')"
   ]
  },
  {
   "cell_type": "code",
   "execution_count": null,
   "id": "prescription-protein",
   "metadata": {},
   "outputs": [],
   "source": [
    "dat_plot = data_con[(data_con.Sig>0)]\n",
    "sns.lmplot(x=\"Sig\", y=\"AUC\", hue='SleepState', data=dat_plot)\n",
    "plt.ylim([0,1])\n",
    "plt.xlim([0,1])"
   ]
  },
  {
   "cell_type": "code",
   "execution_count": null,
   "id": "disciplinary-seven",
   "metadata": {},
   "outputs": [],
   "source": [
    "sns.scatterplot(x='d', y='AUC', data=data_con[(data_con.Sig>0)&(data_con.SleepState=='Wake')])\n",
    "sns.scatterplot(x='d', y='Sig', data=data_con[(data_con.Sig>0)&(data_con.SleepState=='Wake')])"
   ]
  },
  {
   "cell_type": "code",
   "execution_count": null,
   "id": "animated-dependence",
   "metadata": {},
   "outputs": [],
   "source": [
    "dist_groups = np.array([[0, 30], [30, 60], [60, 120]])\n",
    "dist_labels = ['local (<30 mm)', 'short (<60mm)', 'long']"
   ]
  },
  {
   "cell_type": "code",
   "execution_count": null,
   "id": "practical-footage",
   "metadata": {
    "scrolled": true
   },
   "outputs": [],
   "source": [
    "data_con"
   ]
  },
  {
   "cell_type": "code",
   "execution_count": null,
   "id": "filled-institute",
   "metadata": {},
   "outputs": [],
   "source": [
    "#data_con.insert(7, 'Dist_Group', 0)\n",
    "for i in range(len(dist_labels)):\n",
    "    data_con.loc[(data_con.d<dist_groups[i,1])&(data_con.d>=dist_groups[i,0]),'Dist_Group' ] = dist_labels[i]"
   ]
  },
  {
   "cell_type": "code",
   "execution_count": null,
   "id": "retired-champagne",
   "metadata": {},
   "outputs": [],
   "source": [
    "for i in range(len(subjs)):\n",
    "    print('loading -- '+subjs[i], end='\\r')\n",
    "    subj = subjs[i]\n",
    "    path_gen = os.path.join('y:\\\\eLab\\Patients\\\\' + subj)\n",
    "    if not os.path.exists(path_gen):\n",
    "        path_gen = 'T:\\\\EL_experiment\\\\Patients\\\\' + subj\n",
    "    path_patient = path_gen + '\\Data\\EL_experiment'\n",
    "    path_infos = os.path.join(path_patient, 'infos')\n",
    "    if not os.path.exists(path_infos):\n",
    "        path_infos = path_gen + '\\\\infos'\n",
    "    path_patient_analysis = 'y:\\eLab\\EvM\\Projects\\EL_experiment\\Analysis\\Patients\\\\' + subj\n",
    "    \n",
    "    file_bm_auc = path_patient_analysis + '\\\\BrainMapping\\\\' + cond_folder + '\\\\data\\\\BM_AUC_connection.csv'\n",
    "    data_A = pd.read_csv(file_bm_auc)\n",
    "    \n",
    "    lbls = pd.read_excel(os.path.join(path_infos, subj + \"_labels.xlsx\"), header=0, sheet_name='BP')\n",
    "    labels_all      = lbls.label.values\n",
    "    labels_clinic   = lbls.Clinic.values\n",
    "    labels_region   = lbls.Region.values\n",
    "    \n",
    "    bad_region = np.where((labels_region == 'WM') | (labels_region == 'OUT') | (labels_region == 'Putamen'))[0]\n",
    "    \n",
    "    StimChanIx = np.unique(data_A.Stim)\n",
    "    bad_chans = pd.read_csv(path_patient_analysis + '/BrainMapping/data/badchan.csv')\n",
    "    bad_chans = np.unique(np.array(np.where(bad_chans.values[:, 1:] == 1))[0, :])\n",
    "    non_stim = np.arange(len(labels_all))\n",
    "    non_stim = np.delete(non_stim, StimChanIx.astype('int'), 0)\n",
    "    WM_chans = np.where(labels_region == 'WM')[0]\n",
    "    bad_all = np.unique(np.concatenate([WM_chans, bad_region, bad_chans, non_stim])).astype('int')\n",
    "        \n",
    "    \n",
    "    \n",
    "    \n",
    "    # data_A = data_A[~np.isin(data_A.Chan,bad_all)&~np.isin(data_A.Stim,bad_all)]\n",
    "    data_A.reset_index(drop=True)\n",
    "    data_A.insert(0, 'Subj', subjs[i])\n",
    "    data_A.insert(1, 'StimR', '0')\n",
    "    data_A.insert(2, 'ChanR', '0')\n",
    "    for c in np.unique(data_A[['Chan', 'Stim']]).astype('int'):\n",
    "        data_A.loc[data_A.Chan==c, 'ChanR'] = labels_region[c]\n",
    "        data_A.loc[data_A.Stim==c, 'StimR'] = labels_region[c]\n",
    "        #data_A.loc[data_A.Chan==c, 'Chan'] = labels_all[c]\n",
    "        #data_A.loc[data_A.Stim==c, 'Stim'] = labels_all[c]\n",
    "    #data_A = data_A[~np.isnan(data_A.N1.values)]\n",
    "    if i==0:\n",
    "        data_con    = data_A\n",
    "    else:\n",
    "        data_con = pd.concat([data_con, data_A])   \n",
    "        data_con = data_con.reset_index(drop=True)"
   ]
  },
  {
   "cell_type": "code",
   "execution_count": null,
   "id": "wireless-garden",
   "metadata": {},
   "outputs": [],
   "source": [
    "i = 0\n",
    "print('loading -- '+subjs[i], end='\\r')\n",
    "subj = subjs[i]\n",
    "path_gen = os.path.join('y:\\\\eLab\\Patients\\\\' + subj)\n",
    "if not os.path.exists(path_gen):\n",
    "    path_gen = 'T:\\\\EL_experiment\\\\Patients\\\\' + subj\n",
    "path_patient = path_gen + '\\Data\\EL_experiment'\n",
    "path_infos = os.path.join(path_patient, 'infos')\n",
    "if not os.path.exists(path_infos):\n",
    "    path_infos = path_gen + '\\\\infos'\n",
    "lbls = pd.read_excel(os.path.join(path_infos, subj + \"_labels.xlsx\"), header=0, sheet_name='BP')\n",
    "\n",
    "\n",
    "path_patient_analysis = 'y:\\eLab\\EvM\\Projects\\EL_experiment\\Analysis\\Patients\\\\' + subj\n",
    "summary_gen_path = path_patient_analysis + '\\\\' +folder + '\\\\' + cond_folder + '\\\\data\\\\summary_general.csv'\n",
    "data_A = pd.read_csv(summary_gen_path)"
   ]
  },
  {
   "cell_type": "code",
   "execution_count": null,
   "id": "graduate-messenger",
   "metadata": {},
   "outputs": [],
   "source": [
    "bad_all"
   ]
  },
  {
   "cell_type": "code",
   "execution_count": null,
   "id": "alpine-crystal",
   "metadata": {
    "scrolled": true
   },
   "outputs": [],
   "source": []
  },
  {
   "cell_type": "code",
   "execution_count": null,
   "id": "familiar-fishing",
   "metadata": {},
   "outputs": [],
   "source": []
  },
  {
   "cell_type": "code",
   "execution_count": null,
   "id": "bridal-street",
   "metadata": {},
   "outputs": [],
   "source": [
    "len(subjs)"
   ]
  },
  {
   "cell_type": "code",
   "execution_count": null,
   "id": "excited-apache",
   "metadata": {},
   "outputs": [],
   "source": [
    "len(data_con[data_con.Sig>0])"
   ]
  },
  {
   "cell_type": "code",
   "execution_count": null,
   "id": "searching-anger",
   "metadata": {},
   "outputs": [],
   "source": [
    "plt.figure(figsize=(15,12))\n",
    "plt.title('All significant connections ( n = 7293)  across patients (n=8)', fontsize=25)\n",
    "sns.scatterplot(x='Sig', y= 'LL_sig', data=data_con[data_con.Sig>0]) # , hue='Dist'\n",
    "plt.ylabel('Mean LL of significant trials', fontsize=20)\n",
    "plt.xlabel('Probability', fontsize=20)\n",
    "plt.xticks(fontsize=15)\n",
    "plt.yticks(fontsize=15)\n",
    "plt.savefig('Y:\\eLab\\EvM\\Projects\\EL_experiment\\Analysis\\Patients\\Across\\BrainMapping\\General\\Prob_LL.svg')\n",
    "plt.show()"
   ]
  },
  {
   "cell_type": "code",
   "execution_count": null,
   "id": "matched-usage",
   "metadata": {},
   "outputs": [],
   "source": [
    "data_con"
   ]
  },
  {
   "cell_type": "code",
   "execution_count": null,
   "id": "northern-assurance",
   "metadata": {},
   "outputs": [],
   "source": [
    "node_grouping = 'region'\n",
    "node_order = 'area'\n",
    "\n",
    "nodes = [n for n, d in sorted(G.nodes(data=True),\n",
    "                        key=lambda x: (\n",
    "                            x[1][node_grouping],\n",
    "                            x[1][node_order],\n",
    "                        ),\n",
    "                    )\n",
    "                ]"
   ]
  },
  {
   "cell_type": "code",
   "execution_count": null,
   "id": "fifty-brass",
   "metadata": {},
   "outputs": [],
   "source": []
  },
  {
   "cell_type": "code",
   "execution_count": null,
   "id": "excellent-newspaper",
   "metadata": {},
   "outputs": [],
   "source": [
    "data_con_sig  = data_con.copy()\n",
    "#data_con_sig = data_con_sig[data_con_sig.Sig>0]\n",
    "#data_con_sig = data_con_sig[data_con_sig.Dir_index>=0]"
   ]
  },
  {
   "cell_type": "code",
   "execution_count": null,
   "id": "guided-jumping",
   "metadata": {},
   "outputs": [],
   "source": [
    "df = data_con_sig.groupby(['StimR', 'ChanR'], as_index=False)[['Dir_index']].mean()\n",
    "df['Dir_index'] = np.round(df['Dir_index'] ,2)\n",
    "df_p = df.pivot(\"StimR\", \"ChanR\", \"Dir_index\")"
   ]
  },
  {
   "cell_type": "code",
   "execution_count": null,
   "id": "parental-cincinnati",
   "metadata": {},
   "outputs": [],
   "source": [
    "df_p"
   ]
  },
  {
   "cell_type": "code",
   "execution_count": null,
   "id": "fiscal-lobby",
   "metadata": {},
   "outputs": [],
   "source": [
    "df_p.index = pd.CategoricalIndex(df_p.index, categories= regions_order)\n",
    "df_p.index = pd.CategoricalIndex(df_p.columns, categories= regions_order)\n",
    "df_p.sort_index(level=0, inplace=True)\n",
    "df_p.sort_index(level=1, inplace=True)"
   ]
  },
  {
   "cell_type": "code",
   "execution_count": null,
   "id": "suspended-toolbox",
   "metadata": {},
   "outputs": [],
   "source": [
    "fig, ax = plt.subplots(figsize=(12, 10))# mask\n",
    "fig.patch.set_facecolor('xkcd:black')\n",
    "g= sns.heatmap(df_p, annot=True, cmap='seismic', vmin = -1, vmax = 1)\n",
    "g.set_facecolor('xkcd:black')\n",
    "\n",
    "plt.ylabel('A', fontsize=20, color=\"white\")\n",
    "plt.xlabel('B', fontsize=20, color=\"white\")\n",
    "plt.yticks(fontsize=15, color=\"white\")\n",
    "plt.xticks(fontsize=15, color=\"white\")\n",
    "plt.show()"
   ]
  },
  {
   "cell_type": "code",
   "execution_count": null,
   "id": "proof-sodium",
   "metadata": {},
   "outputs": [],
   "source": [
    "df_A = data_con_sig.groupby(['StimA', 'ChanA'], as_index=False)[['Dir_index']].mean()\n",
    "df_A['Dir_index'] = np.round(df_A['Dir_index'] ,2)\n",
    "df_A = df_A.pivot(\"StimA\", \"ChanA\", \"Dir_index\")\n",
    "\n",
    "fig, ax = plt.subplots(figsize=(20, 18))# mask\n",
    "fig.patch.set_facecolor('xkcd:black')\n",
    "g= sns.heatmap(df_A, annot=True, cmap='seismic', vmin = -1, vmax = 1)\n",
    "g.set_facecolor('xkcd:black')\n",
    "\n",
    "plt.ylabel('A', fontsize=20, color=\"white\")\n",
    "plt.xlabel('B', fontsize=20, color=\"white\")\n",
    "plt.yticks(fontsize=15, color=\"white\")\n",
    "plt.xticks(fontsize=15, color=\"white\")\n",
    "plt.show()"
   ]
  },
  {
   "cell_type": "code",
   "execution_count": null,
   "id": "insured-intro",
   "metadata": {},
   "outputs": [],
   "source": [
    "\n",
    "\n",
    "fig, ax = plt.subplots(figsize=(20, 18))# mask\n",
    "fig.patch.set_facecolor('xkcd:white')\n",
    "g = sns.heatmap(df_A, annot=True, cmap='seismic', vmin = -1, vmax = 1)\n",
    "g.set_facecolor('xkcd:grey')\n",
    "plt.ylabel('A', fontsize=20)\n",
    "plt.xlabel('B', fontsize=20)\n"
   ]
  },
  {
   "cell_type": "code",
   "execution_count": null,
   "id": "excellent-empire",
   "metadata": {},
   "outputs": [],
   "source": [
    "df_2 = data_con.copy()\n",
    "df_2 = df_2[(~np.isnan(df_2.Dir_index))&(df_2.H==0)]\n",
    "for i in range(len(subjs)):\n",
    "    df_2.loc[(df_2.Subj == subjs[i]), 'Stim'] = df_2.loc[(df_2.Subj == subjs[i]), 'Stim']+i*200\n",
    "    df_2.loc[(df_2.Subj == subjs[i]), 'Chan'] = df_2.loc[(df_2.Subj == subjs[i]), 'Chan']+i*200"
   ]
  },
  {
   "cell_type": "code",
   "execution_count": null,
   "id": "emotional-stationery",
   "metadata": {},
   "outputs": [],
   "source": [
    "n = (np.max(df_2.Stim)+1).astype('int')\n",
    "M = np.zeros((n,n))-1\n",
    "M[:,:]  = np.nan\n",
    "for cc in np.unique(df_2['Stim']).astype('int'):\n",
    "    chans = df_2.loc[(df_2.Stim ==cc), 'Chan'].values.astype('int')\n",
    "    vals = df_2.loc[(df_2.Stim == cc), 'Dir_index'].values\n",
    "    M[cc,chans] = vals\n",
    "M2= M[~np.isnan(np.nanmean(M,0)),:]\n",
    "M2= M2[:,~np.isnan(np.nanmean(M2,0))]"
   ]
  },
  {
   "cell_type": "code",
   "execution_count": null,
   "id": "written-chess",
   "metadata": {},
   "outputs": [],
   "source": [
    "labels_regions =[]\n",
    "labels_areas =[]\n",
    "for cc in np.unique(df_2['Stim']).astype('int'):\n",
    "    labels_regions.append(df_2.loc[(df_2.Stim == cc), 'StimR'].values[0])\n",
    "    labels_areas.append(df_2.loc[(df_2.Stim == cc), 'StimA'].values[0])\n",
    "    # labels  = df_2.StimR.values\n",
    "labels_regions = np.array(labels_regions)\n",
    "labels_areas = np.array(labels_areas)"
   ]
  },
  {
   "cell_type": "code",
   "execution_count": null,
   "id": "neural-astronomy",
   "metadata": {},
   "outputs": [],
   "source": [
    "ind = np.argsort(labels_areas).astype('int')\n",
    "labels_sel = labels_regions[ind]\n",
    "areas_sel = labels_areas[ind]\n",
    "M_sort = M2[ind,:]\n",
    "M_sort = M_sort[:,ind]\n",
    "\n",
    "ind = np.argsort(labels_sel).astype('int')\n",
    "labels_sel = labels_sel[ind]\n",
    "areas_sel = areas_sel[ind]\n",
    "\n",
    "M_sort = M_sort[ind,:]\n",
    "M_sort = M_sort[:,ind]"
   ]
  },
  {
   "cell_type": "code",
   "execution_count": null,
   "id": "royal-offset",
   "metadata": {},
   "outputs": [],
   "source": [
    "M_sort.shape"
   ]
  },
  {
   "cell_type": "code",
   "execution_count": null,
   "id": "waiting-template",
   "metadata": {},
   "outputs": [],
   "source": [
    "import copy\n"
   ]
  },
  {
   "cell_type": "code",
   "execution_count": null,
   "id": "unlike-nashville",
   "metadata": {},
   "outputs": [],
   "source": [
    "regions = pd.read_excel(\"Y:\\eLab\\EvM\\Projects\\EL_experiment\\Analysis\\Patients\\Across\\elab_labels.xlsx\",\n",
    "                        sheet_name='regions',\n",
    "                        header=0)\n",
    "color_regions = regions.color.values\n",
    "regions_order = regions.label"
   ]
  },
  {
   "cell_type": "code",
   "execution_count": null,
   "id": "helpful-queensland",
   "metadata": {},
   "outputs": [],
   "source": [
    "# Load the brain networks example dataset\n",
    "df = sns.load_dataset(\"brain_networks\", header=[0, 1, 2], index_col=0)\n",
    "\n",
    "# Select a subset of the networks\n",
    "used_networks = [1, 5, 6, 7, 8, 12, 13, 17]\n",
    "used_columns = (df.columns.get_level_values(\"network\")\n",
    "                          .astype(int)\n",
    "                          .isin(used_networks))\n",
    "df = df.loc[:, used_columns]\n",
    "\n",
    "# Create a categorical palette to identify the networks\n",
    "network_pal = sns.husl_palette(8, s=.45)\n",
    "network_lut = dict(zip(map(str, used_networks), network_pal))\n",
    "\n",
    "# Convert the palette to vectors that will be drawn on the side of the matrix\n",
    "networks = df.columns.get_level_values(\"network\")\n",
    "network_colors = pd.Series(networks, index=df.columns).map(network_lut)\n",
    "\n",
    "# Draw the full plot\n",
    "g = sns.clustermap(df.corr(), center=0, cmap=\"vlag\",\n",
    "                   row_colors=network_colors, col_colors=network_colors,\n",
    "                   dendrogram_ratio=(.1, .2),\n",
    "                   cbar_pos=(.02, .32, .03, .2),\n",
    "                   linewidths=.75, figsize=(12, 13))\n",
    "\n",
    "g.ax_row_dendrogram.remove()"
   ]
  },
  {
   "cell_type": "code",
   "execution_count": null,
   "id": "executive-porcelain",
   "metadata": {},
   "outputs": [],
   "source": [
    "fig = plt.figure(figsize=(30,30))\n",
    "fig.patch.set_facecolor('xkcd:white')\n",
    "axmatrix = fig.add_axes([0.15, 0.15, 0.7, 0.7])\n",
    "cmap = copy.copy(plt.cm.get_cmap('seismic'))  # cmap = copy.copy(mpl.cm.get_cmap(cmap))\n",
    "# cmap.set_under('#2b2b2b')\n",
    "cmap.set_bad('black')\n",
    "\n",
    "im = axmatrix.matshow(M_sort, aspect='auto', origin='lower', cmap=cmap, vmin=-1, vmax=1)\n",
    "plt.xticks(np.arange(len(labels_regions)),areas_sel.tolist(), rotation=90)\n",
    "# plt.yticks(np.arange(len(labels_areas)),areas_sel.tolist())\n",
    "plt.yticks([])\n",
    "r_pre  = 'start'\n",
    "y_i = -100\n",
    "for i in range(len(labels_sel)):\n",
    "    r = labels_sel[i]\n",
    "    if r != r_pre:\n",
    "        if (i-y_i)<3:\n",
    "            y_i = i +10\n",
    "        else:\n",
    "            y_i = i\n",
    "        plt.text(-50, y_i+0.5, r, fontsize=15)\n",
    "\n",
    "    axmatrix.add_patch(Rectangle((i - 0.5, len(labels_sel) - 0.5), 1, 5, alpha=1,\n",
    "                                 facecolor=color_regions[np.where(regions == r)[0][0]]))\n",
    "    axmatrix.add_patch(\n",
    "        Rectangle((-5.5, i - 0.5), 5, 1, alpha=1,\n",
    "                  facecolor=color_regions[np.where(regions == r)[0][0]]))\n",
    "    r_pre = r\n",
    "axcolor = fig.add_axes([0.9, 0.15, 0.01, 0.7])  # x, y, x_len, y_len\n",
    "axmatrix.set_ylim(-0.5, len(M_sort)+5)\n",
    "axmatrix.set_xlim(-5.5, len(M_sort)+0.5)\n",
    "plt.colorbar(im, cax=axcolor)            \n",
    "plt.show()"
   ]
  },
  {
   "cell_type": "code",
   "execution_count": null,
   "id": "enhanced-salon",
   "metadata": {},
   "outputs": [],
   "source": [
    "fig = plt.figure(figsize=(50,50))\n",
    "fig.patch.set_facecolor('xkcd:white')\n",
    "axmatrix = fig.add_axes([0.15, 0.15, 0.7, 0.7])\n",
    "cmap = copy.copy(plt.cm.get_cmap('seismic'))  # cmap = copy.copy(mpl.cm.get_cmap(cmap))\n",
    "# cmap.set_under('#2b2b2b')\n",
    "cmap.set_bad('black')\n",
    "\n",
    "im = axmatrix.matshow(M2, aspect='auto', origin='lower', cmap=cmap, vmin=-1, vmax=1)\n",
    "plt.xticks(np.arange(len(labels_regions)),labels_regions.tolist(), rotation=90)\n",
    "plt.yticks(np.arange(len(labels_areas)),labels_areas.tolist())\n",
    "plt.show()"
   ]
  },
  {
   "cell_type": "code",
   "execution_count": null,
   "id": "greatest-invalid",
   "metadata": {},
   "outputs": [],
   "source": [
    "tot = len(data_con[data_con.Subj==subj])\n",
    "tot_sig = len(data_con[(data_con.Dir_B>0)& (data_con.Subj==subj)])"
   ]
  },
  {
   "cell_type": "code",
   "execution_count": null,
   "id": "further-intake",
   "metadata": {},
   "outputs": [],
   "source": [
    "\n",
    "data_con.loc[(data_con.Dist=='long')]"
   ]
  },
  {
   "cell_type": "code",
   "execution_count": null,
   "id": "seasonal-underground",
   "metadata": {},
   "outputs": [],
   "source": [
    "data_con[(data_con.Dist=='local (<15 mm)')&(data_con.Sig>0)]"
   ]
  },
  {
   "cell_type": "code",
   "execution_count": null,
   "id": "destroyed-fashion",
   "metadata": {},
   "outputs": [],
   "source": [
    "# data_con.insert(5, 'DI_b', 0)\n",
    "data_con.loc[data_con.Dir_index>0.5,'DI_b'] = 1\n",
    "data_con.loc[data_con.Dir_index<0.5,'DI_b'] = -1\n",
    "data_con.loc[data_con.Dir_index<0.5,'DI_b'] = 0\n",
    "data_con.loc[np.isnan(data_con.Dir_index),'DI_b'] = np.nan\n"
   ]
  },
  {
   "cell_type": "code",
   "execution_count": null,
   "id": "constitutional-desperate",
   "metadata": {},
   "outputs": [],
   "source": [
    "yy_order = ['local (<15 mm)', 'short (<30mm)', 'long']"
   ]
  },
  {
   "cell_type": "code",
   "execution_count": null,
   "id": "copyrighted-musician",
   "metadata": {},
   "outputs": [],
   "source": [
    "yy = 'Dist'\n",
    "xx = 'Sig'\n",
    "xl = 'Probability'\n",
    "df = data_con[data_con.Sig>0]# [~np.isnan(data_con.Dir_index)]\n",
    "plt.figure(figsize=(15,8))\n",
    "ax = sns.violinplot(y=yy, x=df[xx], hue='DI_b', data=df, order= yy_order, palette=\"Blues\")\n",
    "# medians = df.groupby([yy])[xx].median().values\n",
    "nobs =df[yy].value_counts()[yy_order].values\n",
    "nobs = [str(x) for x in nobs.tolist()]\n",
    "nobs = [\"n: \" + i for i in nobs] \n",
    "pos = range(len(nobs))\n",
    "for tick,label in zip(pos,ax.get_yticklabels()):\n",
    "    ax.text(1.5,tick,nobs[tick],color='black', verticalalignment = \"bottom\",fontsize=20)\n",
    "plt.xticks([0, 0.5,1],fontsize=20)\n",
    "plt.yticks(fontsize=20)\n",
    "plt.xlabel(xl,fontsize=25)\n",
    "plt.ylabel('',fontsize=1)\n",
    "sns.despine()\n",
    "# plt.savefig('Y:\\eLab\\EvM\\Projects\\EL_experiment\\Analysis\\Patients\\Across\\BrainMapping\\General\\Violin_'+yy+'_'+xx+'.svg')\n",
    "plt.show()"
   ]
  },
  {
   "cell_type": "code",
   "execution_count": null,
   "id": "unusual-figure",
   "metadata": {},
   "outputs": [],
   "source": [
    "yy = 't_onset'\n",
    "xx = 'Sig'\n",
    "df = data_con[(data_con.Sig>0)]\n",
    "plt.figure(figsize=(15,8))\n",
    "ax = sns.boxplot(y=yy, x=xx, data=df, hue ='Dir_B', order= ['immediately', 'delayed']) #, hue ='Dir_B'\n",
    "medians = df.groupby([yy])[xx].median().values\n",
    "nobs = df[yy].value_counts().values\n",
    "nobs = [str(x) for x in nobs.tolist()]\n",
    "nobs = [\"n: \" + i for i in nobs] \n",
    "pos = range(len(nobs))\n",
    "for tick,label in zip(pos,ax.get_yticklabels()):\n",
    "    ax.text(1.1,tick,nobs[tick],color='black', verticalalignment = \"bottom\",fontsize=20)\n",
    "plt.xticks(fontsize=20)\n",
    "plt.yticks(fontsize=20)\n",
    "plt.xlabel('Probability',fontsize=25)\n",
    "sns.despine()"
   ]
  },
  {
   "cell_type": "code",
   "execution_count": null,
   "id": "consistent-somerset",
   "metadata": {},
   "outputs": [],
   "source": [
    "yy = 'Dist'\n",
    "xx = 'Sig'\n",
    "df = data_con[data_con.d>=8]\n",
    "plt.figure(figsize=(15,8))\n",
    "ax = sns.boxplot(y=yy, x=xx, data=df, hue ='Dir_B', order= ['local (<15 mm)', 'short (<30mm)', 'long'])\n",
    "medians = df.groupby([yy])[xx].median().values\n",
    "nobs = df[yy].value_counts().values\n",
    "nobs = [str(x) for x in nobs.tolist()]\n",
    "nobs = [\"n: \" + i for i in nobs] \n",
    "pos = range(len(nobs))\n",
    "for tick,label in zip(pos,ax.get_yticklabels()):\n",
    "    ax.text(1.1,tick,nobs[tick],color='black', verticalalignment = \"bottom\",fontsize=20)\n",
    "plt.xticks(fontsize=20)\n",
    "plt.yticks(fontsize=20)\n",
    "plt.xlabel('Probability',fontsize=25)\n",
    "sns.despine()"
   ]
  },
  {
   "cell_type": "code",
   "execution_count": null,
   "id": "directed-february",
   "metadata": {},
   "outputs": [],
   "source": [
    "#data_con.insert(5,'t_onset', 'immediately')\n",
    "data_con.loc[(data_con.t_resp>0.025), 't_onset'] = 'delayed'"
   ]
  },
  {
   "cell_type": "code",
   "execution_count": null,
   "id": "encouraging-throat",
   "metadata": {},
   "outputs": [],
   "source": [
    "plt.figure(figsize=(15,8))\n",
    "plt.title('Probability',fontsize=25)\n",
    "plt.scatter(data_con.loc[(data_con.Dir_index >0.5)& (data_con.Sig >0),'d'],data_con.loc[(data_con.Dir_index >0.5)& (data_con.Sig >0),'t_resp'], color=[1,0,0], alpha = 1)\n",
    "plt.scatter(data_con.loc[(data_con.Dir_index <-0.5)& (data_con.Sig >0),'d'],data_con.loc[(data_con.Dir_index <-0.5)& (data_con.Sig >0),'t_resp'], color=[0,0,1], alpha = 1)\n",
    "plt.scatter(data_con.loc[((data_con.Dir_index >-0.5)& (data_con.Sig <0.5))& (data_con.Sig >0),'d'],data_con.loc[((data_con.Dir_index >-0.5)& (data_con.Sig <0.5))& (data_con.Sig >0),'t_resp'], color='grey', alpha=.3)\n",
    "\n",
    "# sns.scatterplot(x = 'd', y= 't_resp', hue = 'Dir_index',data = data_con[data_con.Sig >0], palette ='seismic')\n",
    "plt.xlabel('Response Onset [s]', fontsize=25)\n",
    "plt.xticks(fontsize=20)\n",
    "plt.yticks(fontsize=20)\n",
    "plt.xlabel('euclidean distance [mm]',fontsize=25)\n",
    "plt.ylim([0.,0.2])"
   ]
  },
  {
   "cell_type": "code",
   "execution_count": null,
   "id": "failing-bolivia",
   "metadata": {},
   "outputs": [],
   "source": [
    "plt.figure(figsize=(15,8))\n",
    "plt.title('Probability',fontsize=25)\n",
    "sns.scatterplot(x = 'd', y= 't_resp', hue = 'Sig',data = data_con[data_con.Sig>0])\n",
    "plt.xlabel('Response Onset [s]', fontsize=25)\n",
    "plt.xticks(fontsize=20)\n",
    "plt.yticks(fontsize=20)\n",
    "plt.xlabel('euclidean distance [mm]',fontsize=25)\n",
    "plt.ylim([0.,0.2])"
   ]
  },
  {
   "cell_type": "code",
   "execution_count": null,
   "id": "racial-guide",
   "metadata": {},
   "outputs": [],
   "source": [
    "plt.figure(figsize=(15,8))\n",
    "sns.scatterplot(x = 't_resp', y= 'Dir_index', data = data_con)\n",
    "plt.xlabel('Response Onset [s]', fontsize=25)\n",
    "plt.xticks(fontsize=20)\n",
    "plt.yticks(fontsize=20)\n",
    "plt.ylabel('DI',fontsize=25)\n",
    "plt.ylim([-0.01,1.1])"
   ]
  },
  {
   "cell_type": "code",
   "execution_count": null,
   "id": "spatial-contributor",
   "metadata": {},
   "outputs": [],
   "source": [
    "plt.figure(figsize=(15,8))\n",
    "sns.scatterplot(x = 't_resp', y= 'Sig', data = data_con[(data_con.Sig>0)& (data_con.d>=8)])\n",
    "plt.xlabel('Response Onset [s]', fontsize=25)\n",
    "plt.xticks(fontsize=20)\n",
    "plt.yticks(fontsize=20)\n",
    "plt.ylabel('Probability',fontsize=25)"
   ]
  },
  {
   "cell_type": "code",
   "execution_count": null,
   "id": "prerequisite-newark",
   "metadata": {},
   "outputs": [],
   "source": [
    "sns.scatterplot(x = 'd', y= 'Sig', data = data_con[data_con.d>=8])"
   ]
  },
  {
   "cell_type": "markdown",
   "id": "approximate-question",
   "metadata": {},
   "source": [
    "  axIO.set_title('IO curve',fontsize=18)\n",
    "    axIO.set_ylabel('LL uv/ms [250ms] normalized',fontsize=16)\n",
    "    axIO.set_xlabel('Intensity [mA]',fontsize=16)"
   ]
  },
  {
   "cell_type": "code",
   "execution_count": null,
   "id": "secure-overview",
   "metadata": {},
   "outputs": [],
   "source": [
    "#data_con.insert(7, 'Dist_Group', 0)\n",
    "for i in range(len(dist_labels)):\n",
    "    data_con.loc[(data_con.d<dist_groups[i,1])&(data_con.d>=dist_groups[i,0]),'Dist_Group' ] = dist_labels[i]"
   ]
  },
  {
   "cell_type": "markdown",
   "id": "capital-persian",
   "metadata": {},
   "source": [
    "## Asymmetry fro KS meeting"
   ]
  },
  {
   "cell_type": "code",
   "execution_count": null,
   "id": "starting-remainder",
   "metadata": {},
   "outputs": [],
   "source": [
    "file_con_trial        = path_patient + '/Analysis/' + folder + '/'+cond_folder+'/data/con_trial_'+cond_folder+'.csv'\n",
    "con_trial = pd.read_csv(file_con_trial)"
   ]
  },
  {
   "cell_type": "code",
   "execution_count": null,
   "id": "suspended-church",
   "metadata": {},
   "outputs": [],
   "source": [
    "folder = 'BrainMapping'\n",
    "cond_folder = 'Ph'"
   ]
  },
  {
   "cell_type": "code",
   "execution_count": null,
   "id": "coated-installation",
   "metadata": {},
   "outputs": [],
   "source": [
    "k = 1\n",
    "if platform.system()=='Windows':\n",
    "    path_patient = 'T:\\EL_experiment\\Patients\\\\'+subjs[k]\n",
    "else: #'Darwin' for MAC\n",
    "    path_patient    = '/Volumes/EvM_T7/PhD/EL_experiment/Patients/'+subjs[k]\n",
    "lbls            = pd.read_excel(path_patient + \"/infos/\" +subjs[k] + \"_labels.xlsx\", header=0, sheet_name='BP')\n",
    "labels_all      = lbls.label.values\n",
    "file_con_trial        = path_patient + '/Analysis/' + folder + '/'+cond_folder+'/data/con_trial_'+cond_folder+'.csv'"
   ]
  },
  {
   "cell_type": "code",
   "execution_count": null,
   "id": "cordless-principle",
   "metadata": {},
   "outputs": [],
   "source": [
    "con_trial = pd.read_csv(file_con_trial) "
   ]
  },
  {
   "cell_type": "code",
   "execution_count": null,
   "id": "varied-square",
   "metadata": {},
   "outputs": [],
   "source": [
    "dat_subj = con_trial[(con_trial.LL>0)&(con_trial.Condition==1)&(con_trial.Sig_block_surr>-1)]"
   ]
  },
  {
   "cell_type": "code",
   "execution_count": null,
   "id": "representative-invite",
   "metadata": {},
   "outputs": [],
   "source": [
    "dat_subj.LL_mean = dat_subj.LL_mean*dat_subj.Sig_block_surr\n",
    "dat_subj = dat_subj.groupby(['Stim', 'Chan'], as_index=False)['LL_mean'].agg(['count','mean']).reset_index()\n",
    "dat_subj = dat_subj[dat_subj['count']>1]"
   ]
  },
  {
   "cell_type": "code",
   "execution_count": null,
   "id": "horizontal-substitute",
   "metadata": {},
   "outputs": [],
   "source": [
    "for k in range(len(subjs)):\n",
    "    if platform.system()=='Windows':\n",
    "        path_patient = 'T:\\EL_experiment\\Patients\\\\'+subjs[k]\n",
    "    else: #'Darwin' for MAC\n",
    "        path_patient    = '/Volumes/EvM_T7/PhD/EL_experiment/Patients/'+subjs[k]\n",
    "    lbls            = pd.read_excel(path_patient + \"/infos/\" +subjs[k] + \"_labels.xlsx\", header=0, sheet_name='BP')\n",
    "    labels_all      = lbls.label.values\n",
    "    file_con_trial        = path_patient + '/Analysis/' + folder + '/'+cond_folder+'/data/con_trial_'+cond_folder+'.csv'\n",
    "    con_trial = pd.read_csv(file_con_trial) \n",
    "    dat_subj = con_trial[(con_trial.LL>0)&(con_trial.Condition==1)&(con_trial.Sig_block_surr>-1)]\n",
    "    dat_subj.LL_mean = dat_subj.LL_mean*dat_subj.Sig_block_surr\n",
    "    dat_subj = dat_subj.groupby(['Stim', 'Chan'], as_index=False)['LL_mean'].agg(['count','mean']).reset_index()\n",
    "    dat_subj = dat_subj[dat_subj['count']>2]\n",
    "\n",
    "    A  = np.zeros((1,7))\n",
    "    chans = np.unique([dat_subj.Stim, dat_subj.Chan]).astype('int')\n",
    "    for i in range(len(chans)):\n",
    "        for j in range(i+1, len(chans)):\n",
    "            if (len(dat_subj[(dat_subj.Chan==chans[i])&(dat_subj.Stim==chans[j])])>0)&len(dat_subj[(dat_subj.Chan==chans[j])&(dat_subj.Stim==chans[i])])>0:\n",
    "                LLA = dat_subj.loc[(dat_subj.Stim==chans[i])&(dat_subj.Chan==chans[j]), 'mean'].values[0]\n",
    "                LLB = dat_subj.loc[(dat_subj.Stim==chans[j])&(dat_subj.Chan==chans[i]), 'mean'].values[0]\n",
    "                d = con_trial.loc[(con_trial.Chan==chans[i])&(con_trial.Stim==chans[j]), 'd'].values[0]\n",
    "                aa = np.zeros((1,7))\n",
    "                r = np.min([LLA/LLB, LLB/LLA])\n",
    "                con = 0\n",
    "                if LLA>0:\n",
    "                    con = con +1\n",
    "                if LLB>0:\n",
    "                    con = con +1\n",
    "                aa[0,:] =[chans[i], chans[j], LLA, LLB,r,d, con]\n",
    "                A = np.concatenate([A,aa])\n",
    "    A = pd.DataFrame(A, columns=['A', 'B', 'LL_B', 'LL_A', 'Ratio', 'd', 'Conncetion'])\n",
    "    A.insert(0,'Subj', subjs[k])   \n",
    "    if k ==0:\n",
    "        pd_asym = A\n",
    "    else:\n",
    "        pd_asym = pd.concat([pd_asym,A])"
   ]
  },
  {
   "cell_type": "code",
   "execution_count": null,
   "id": "concrete-change",
   "metadata": {},
   "outputs": [],
   "source": [
    "pd_asym = pd_asym[pd_asym.d>0]"
   ]
  },
  {
   "cell_type": "code",
   "execution_count": null,
   "id": "rough-separation",
   "metadata": {},
   "outputs": [],
   "source": [
    "plt.figure(figsize=(10,8))\n",
    "sns.scatterplot(x= 'd', y='Ratio', sizes=200, hue='Subj',data= pd_asym[pd_asym.Conncetion>0])\n",
    "plt.savefig('T:\\EL_experiment\\Patients\\\\all\\\\Analysis\\BrainMapping\\\\Across_BM_Asymm.jpg')"
   ]
  },
  {
   "cell_type": "code",
   "execution_count": null,
   "id": "dress-bookmark",
   "metadata": {},
   "outputs": [],
   "source": [
    "for s in subjs:\n",
    "    print(s)\n",
    "    print(len(pd_asym[(pd_asym.Subj==s)&(pd_asym.Conncetion==0)]))\n",
    "    print(len(pd_asym[(pd_asym.Subj==s)&(pd_asym.Conncetion==1)]))\n",
    "    print(len(pd_asym[(pd_asym.Subj==s)&(pd_asym.Conncetion==2)]))\n",
    "    print(len(pd_asym[(pd_asym.Subj==s)]))"
   ]
  },
  {
   "cell_type": "markdown",
   "id": "occasional-privacy",
   "metadata": {},
   "source": [
    "## Asymmety"
   ]
  },
  {
   "cell_type": "code",
   "execution_count": null,
   "id": "ready-concern",
   "metadata": {},
   "outputs": [],
   "source": [
    "data_con"
   ]
  },
  {
   "cell_type": "code",
   "execution_count": null,
   "id": "overall-potter",
   "metadata": {},
   "outputs": [],
   "source": [
    "dat_subj = data_con[data_con.Subj =='EL003']"
   ]
  },
  {
   "cell_type": "code",
   "execution_count": null,
   "id": "taken-raise",
   "metadata": {},
   "outputs": [],
   "source": [
    "dat_subj.RespC"
   ]
  },
  {
   "cell_type": "code",
   "execution_count": null,
   "id": "behavioral-digest",
   "metadata": {},
   "outputs": [],
   "source": [
    "len(dat_subj[(dat_subj.Chan==chans[j])&(dat_subj.Stim==chans[i])])"
   ]
  },
  {
   "cell_type": "code",
   "execution_count": null,
   "id": "figured-stick",
   "metadata": {},
   "outputs": [],
   "source": [
    "dat_subj[(dat_subj.Chan==chans[0])&(dat_subj.Stim==chans[j])]"
   ]
  },
  {
   "cell_type": "code",
   "execution_count": null,
   "id": "noted-wheel",
   "metadata": {},
   "outputs": [],
   "source": [
    "for k in range(len(subjs)):\n",
    "    if platform.system()=='Windows':\n",
    "        path_patient = 'T:\\EL_experiment\\Patients\\\\'+subjs[k]\n",
    "    else: #'Darwin' for MAC\n",
    "        path_patient    = '/Volumes/EvM_T7/PhD/EL_experiment/Patients/'+subjs[k]\n",
    "    lbls            = pd.read_excel(path_patient + \"/infos/\" +subjs[k] + \"_labels.xlsx\", header=0, sheet_name='BP')\n",
    "    labels_all      = lbls.label.values\n",
    "\n",
    "    dat_subj = con_trial[(con_trial.LL>0)&(con_trial.Condition==1)&(con_trial.Sig_block_surr>-1)]\n",
    "    dat_subj.LL_mean = dat_subj.LL_mean*dat_subj.Sig_block_surr\n",
    "    dat_subj = dat_subj.groupby(['Stim', 'Chan'], as_index=False)['LL_mean'].agg(['count','mean']).reset_index()\n",
    "    dat_subj = dat_subj[dat_subj['count']==3]\n",
    "\n",
    "    A  = np.zeros((1,7))\n",
    "    chans = np.unique([dat_subj.Stim, dat_subj.Chan]).astype('int')\n",
    "    for i in range(len(chans)):\n",
    "        for j in range(i+1, len(chans)):\n",
    "            if (len(dat_subj[(dat_subj.Chan==chans[i])&(dat_subj.Stim==chans[j])])>0)&len(dat_subj[(dat_subj.Chan==chans[j])&(dat_subj.Stim==chans[i])])>0:\n",
    "                LLA = dat_subj.loc[(dat_subj.Stim==chans[i])&(dat_subj.Chan==chans[j]), 'mean'].values[0]\n",
    "                LLB = dat_subj.loc[(dat_subj.Stim==chans[j])&(dat_subj.Chan==chans[i]), 'mean'].values[0]\n",
    "                d = con_trial.loc[(con_trial.Chan==chans[i])&(con_trial.Stim==chans[j]), 'd'].values[0]\n",
    "                aa = np.zeros((1,7))\n",
    "                r = np.min([LLA/LLB, LLB/LLA])\n",
    "                con = 0\n",
    "                if LLA>0:\n",
    "                    con = con +1\n",
    "                if LLB>0:\n",
    "                    con = con +1\n",
    "                aa[0,:] =[chans[i], chans[j], LLA, LLB,r,d, con]\n",
    "                A = np.concatenate([A,aa])\n",
    "    A = pd.DataFrame(A, columns=['A', 'B', 'LL_B', 'LL_A', 'Ratio', 'd', 'Conncetion'])\n",
    "    A.insert(0,'Subj', subjs[k])   \n",
    "    if k ==0:\n",
    "        pd_asym = A\n",
    "    else:\n",
    "        pd_asym = pd.concat([pd_asym,A])"
   ]
  },
  {
   "cell_type": "code",
   "execution_count": null,
   "id": "moving-oxford",
   "metadata": {},
   "outputs": [],
   "source": [
    "for k in range(len(subjs)):\n",
    "    if platform.system()=='Windows':\n",
    "        path_patient = 'T:\\EL_experiment\\Patients\\\\'+subjs[k]\n",
    "    else: #'Darwin' for MAC\n",
    "        path_patient    = '/Volumes/EvM_T7/PhD/EL_experiment/Patients/'+subjs[k]\n",
    "    lbls            = pd.read_excel(path_patient + \"/infos/\" +subjs[k] + \"_labels.xlsx\", header=0, sheet_name='BP')\n",
    "    labels_all      = lbls.label.values\n",
    "    dat_subj = data_con[data_con.Subj==subjs[k]]\n",
    "    A  = np.zeros((1,6))\n",
    "    chans = np.unique([dat_subj.Stim, dat_subj.Chan]).astype('int')\n",
    "    for i in range(len(chans)):\n",
    "        for j in range(i+1, len(chans)):\n",
    "            if (len(dat_subj[(dat_subj.Chan==chans[i])&(dat_subj.Stim==chans[j])])>0)&len(dat_subj[(dat_subj.Chan==chans[j])&(dat_subj.Stim==chans[i])])>0:\n",
    "                resp1 = dat_subj.loc[(dat_subj.Chan==chans[j])&(dat_subj.Stim==chans[i]), 'LLpeak'].values[0]\n",
    "                resp2 = dat_subj.loc[(dat_subj.Chan==chans[i])&(dat_subj.Stim==chans[j]), 'LLpeak'].values[0]\n",
    "                d = dat_subj.loc[(dat_subj.Chan==chans[i])&(dat_subj.Stim==chans[j]), 'd'].values[0]\n",
    "                if (resp1>-1) & (resp2>-1):\n",
    "                    sig = dat_subj.loc[(dat_subj.Chan==chans[j])&(dat_subj.Stim==chans[i]), 'RespC'].values[0]\n",
    "                    resp1 = resp1*sig\n",
    "                    sig = dat_subj.loc[(dat_subj.Chan==chans[i])&(dat_subj.Stim==chans[j]), 'RespC'].values[0]\n",
    "                    resp2 = resp2*sig\n",
    "                    if ((resp1+resp2)>0):\n",
    "                        aa = np.zeros((1,6))\n",
    "                        aa[0,0:2] =[chans[i], chans[j]]\n",
    "                        r = np.min([resp1/resp2, resp2/resp1])\n",
    "                        aa[0,:] =[chans[i], chans[j], resp1, resp2,r,d]\n",
    "                        A = np.concatenate([A,aa])\n",
    "    A = pd.DataFrame(A, columns=['A', 'B', 'LL_B', 'LL_A', 'Ratio', 'd'])\n",
    "    A.insert(0,'Subj', subjs[k])    \n",
    "    if k ==0:\n",
    "        pd_asym = A\n",
    "    else:\n",
    "        pd_asym = pd.concat([pd_asym,A])"
   ]
  },
  {
   "cell_type": "code",
   "execution_count": null,
   "id": "domestic-spoke",
   "metadata": {},
   "outputs": [],
   "source": [
    "pd_asym"
   ]
  },
  {
   "cell_type": "code",
   "execution_count": null,
   "id": "furnished-estate",
   "metadata": {},
   "outputs": [],
   "source": [
    "len(pd_asym)"
   ]
  },
  {
   "cell_type": "code",
   "execution_count": null,
   "id": "convenient-wholesale",
   "metadata": {},
   "outputs": [],
   "source": [
    "len(pd_asym[(pd_asym.Ratio>0)&(pd_asym.Ratio<0.8)])/len(pd_asym[(pd_asym.Ratio>0)])"
   ]
  },
  {
   "cell_type": "code",
   "execution_count": null,
   "id": "corresponding-kelly",
   "metadata": {},
   "outputs": [],
   "source": [
    "(len(pd_asym[(pd_asym.Ratio>0)&(pd_asym.Ratio<0.8)])/len(pd_asym))"
   ]
  },
  {
   "cell_type": "code",
   "execution_count": null,
   "id": "restricted-bankruptcy",
   "metadata": {},
   "outputs": [],
   "source": [
    "len(pd_asym[pd_asym.Ratio>0])"
   ]
  },
  {
   "cell_type": "code",
   "execution_count": null,
   "id": "miniature-escape",
   "metadata": {},
   "outputs": [],
   "source": [
    "len(pd_asym[pd_asym.Ratio>0.8])"
   ]
  },
  {
   "cell_type": "code",
   "execution_count": null,
   "id": "spectacular-round",
   "metadata": {},
   "outputs": [],
   "source": [
    "pd_asym = pd_asym[pd_asym.d>8]"
   ]
  },
  {
   "cell_type": "code",
   "execution_count": null,
   "id": "numerous-visibility",
   "metadata": {},
   "outputs": [],
   "source": [
    "plt.figure(figsize=(20,15))\n",
    "sns.scatterplot(x='d', y='LLpeak', hue= 'Subj', data=data_con[(data_con.RespC==1)&(data_con.LLpeak>0.1)&(data_con.d>8)],alpha=0.2,  s=200)\n",
    "plt.xticks(fontsize=30)\n",
    "plt.yticks(fontsize=30)\n",
    "plt.ylabel('Response strength [\\u0394 \\u03BCV/ms]', fontsize=40)\n",
    "plt.xlabel('Connection Distance [mm]', fontsize=40)\n",
    "plt.legend(fontsize=35)\n",
    "#plt.xlim([9,120])\n",
    "plt.savefig('T:\\\\EL_experiment\\Patients\\\\all\\Analysis\\CCEP\\\\BM_dist.svg')\n",
    "plt.savefig('T:\\\\EL_experiment\\Patients\\\\all\\Analysis\\CCEP\\\\BM_dist.jpg')\n",
    "plt.show()"
   ]
  },
  {
   "cell_type": "code",
   "execution_count": null,
   "id": "aging-malawi",
   "metadata": {},
   "outputs": [],
   "source": [
    "plt.figure(figsize=(20,15))\n",
    "sns.scatterplot(x='d', y='Ratio', hue= 'Subj', data=pd_asym, s=200)\n",
    "plt.xticks(fontsize=30)\n",
    "plt.yticks(fontsize=30)\n",
    "plt.ylabel('Response Ratio [min]', fontsize=40)\n",
    "plt.xlabel('Connection Distance [mm]', fontsize=40)\n",
    "plt.legend(fontsize=35)\n",
    "#plt.xlim([9,120])\n",
    "plt.savefig('T:\\\\EL_experiment\\Patients\\\\all\\Analysis\\CCEP\\\\BM_ratio.svg')\n",
    "plt.savefig('T:\\\\EL_experiment\\Patients\\\\all\\Analysis\\CCEP\\\\BM_ratio.jpg')\n",
    "plt.show()"
   ]
  },
  {
   "cell_type": "markdown",
   "id": "fallen-cleaner",
   "metadata": {},
   "source": [
    "## P2P"
   ]
  },
  {
   "cell_type": "code",
   "execution_count": null,
   "id": "funny-continuity",
   "metadata": {},
   "outputs": [],
   "source": [
    "dat_plot   = data_con[(data_con.tN2N1>0.02)&(data_con.tN1>0.01)&(data_con.d>7)&(data_con.pN2<2000)&(data_con.pN1<3000)]\n",
    "dist_n = np.zeros((3,))\n",
    "for i in range(len(dist_n)):\n",
    "    dist_n[i] = len(dat_plot[dat_plot.Dist_Group==dist_labels[i]])\n",
    "fig = plt.figure(figsize=(10,10))\n",
    "gs         = fig.add_gridspec(2,1) #, width_ratios=[5,3]\n",
    "#plt.suptitle(subj)\n",
    "ax = fig.add_subplot(gs[0,0])\n",
    "plt.ylim([0,0.1])\n",
    "plt.title('P2P N1')\n",
    "sns.boxplot(x='Dist_Group', y= 'tN1', data = dat_plot)\n",
    "plt.ylabel('N1 delay [s] to stimulation ')\n",
    "plt.xlabel('')\n",
    "fig.add_subplot(gs[1,0])\n",
    "plt.title('P2P N2')\n",
    "plt.ylim([0,0.5])\n",
    "#sns.boxplot(x='dist_group', y= 't_N1', data = con_trial)\n",
    "sns.boxplot(x='Dist_Group', y= 'tN2N1', data = dat_plot)\n",
    "plt.ylabel('N2 delay [s] to N1 ')\n",
    "for i in range(len(dist_n)):\n",
    "    plt.text(i-0.1,0.4, 'n: '+str(int(dist_n[i])))\n",
    "plt.show()"
   ]
  },
  {
   "cell_type": "code",
   "execution_count": null,
   "id": "published-doubt",
   "metadata": {},
   "outputs": [],
   "source": [
    "stop"
   ]
  },
  {
   "cell_type": "code",
   "execution_count": null,
   "id": "piano-incident",
   "metadata": {},
   "outputs": [],
   "source": [
    "data_con = data_con.drop(data_con[data_con.ChanR=='WM'].index)"
   ]
  },
  {
   "cell_type": "code",
   "execution_count": null,
   "id": "loaded-approval",
   "metadata": {},
   "outputs": [],
   "source": [
    "data_con.insert(13, 'tN2N1', 0)"
   ]
  },
  {
   "cell_type": "code",
   "execution_count": null,
   "id": "restricted-nothing",
   "metadata": {},
   "outputs": [],
   "source": [
    "data_con.tN2N1 = (data_con.tN2-data_con.tN1)"
   ]
  },
  {
   "cell_type": "code",
   "execution_count": null,
   "id": "toxic-namibia",
   "metadata": {},
   "outputs": [],
   "source": [
    "dat_plot   = data_con[(data_con.tN2N1>0.02)&(data_con.tN1>0.01)&(data_con.d>7)&(data_con.pN2<2000)&(data_con.pN1<3000)]\n",
    "fig        = plt.figure(figsize=(10,10))\n",
    "gs         = fig.add_gridspec(2,1) #, width_ratios=[5,3]\n",
    "plt.suptitle('Across Patients, n: '+str(len(dat_plot)))\n",
    "ax = fig.add_subplot(gs[0,0])\n",
    "plt.title('P2P N1')\n",
    "sns.scatterplot(x='d', y= 'tN1', data = dat_plot, hue= 'Dist_Group', style='Subj')\n",
    "plt.ylabel('N1 delay [s] to stimulation ')\n",
    "plt.xlabel('distance [mm]')\n",
    "plt.ylim([0,0.1])\n",
    "#plt.xlim([0, 0.2])\n",
    "fig.add_subplot(gs[1,0], sharex=ax)\n",
    "plt.title('P2P N2')\n",
    "sns.scatterplot(x='d', y= 'tN2N1', data = dat_plot, hue= 'Dist_Group', style='Subj')\n",
    "plt.ylabel('N2 delay [s] to N1 ')\n",
    "plt.xlabel('distance [mm]')\n",
    "#plt.xlim([0,0.4])\n",
    "plt.legend([])\n",
    "\n",
    "plt.show()"
   ]
  },
  {
   "cell_type": "code",
   "execution_count": null,
   "id": "religious-lottery",
   "metadata": {
    "scrolled": false
   },
   "outputs": [],
   "source": [
    "dat_plot   = data_con[(data_con.tN2N1>0.02)&(data_con.tN1>0.01)&(data_con.d>7)&(data_con.pN2<2000)&(data_con.pN1<3000)]\n",
    "fig        = plt.figure(figsize=(10,10))\n",
    "gs         = fig.add_gridspec(2,1) #, width_ratios=[5,3]\n",
    "plt.suptitle('Across Patients, n: '+str(len(dat_plot)))\n",
    "ax = fig.add_subplot(gs[0,0])\n",
    "plt.title('P2P N1')\n",
    "sns.scatterplot(x='tN1', y= 'pN1', data = dat_plot, hue= 'Dist_Group', style='Subj')\n",
    "plt.xlabel('time [s] to stimulation')\n",
    "plt.ylabel('N1 [\\u0394 \\u03BCV ]')\n",
    "plt.xlim([0, 0.2])\n",
    "fig.add_subplot(gs[1,0], sharey=ax)\n",
    "plt.title('P2P N2')\n",
    "sns.scatterplot(x='tN2N1', y= 'pN2', data = dat_plot, hue= 'Dist_Group', style='Subj')\n",
    "plt.xlabel('time [s] to N1')\n",
    "plt.ylabel('N2 [\\u0394 \\u03BCV ]')\n",
    "plt.xlim([0,0.4])\n",
    "plt.legend([])\n",
    "\n",
    "plt.show()"
   ]
  },
  {
   "cell_type": "code",
   "execution_count": null,
   "id": "constitutional-being",
   "metadata": {
    "scrolled": true
   },
   "outputs": [],
   "source": [
    "fig = plt.figure(figsize=(10,10))\n",
    "gs         = fig.add_gridspec(2,1) #, width_ratios=[5,3]\n",
    "plt.suptitle('Across Patients')\n",
    "ax = fig.add_subplot(gs[0,0])\n",
    "plt.title('P2P N1')\n",
    "sns.scatterplot(x='tN1', y= 'pN1', data = dat_plot, hue= 'Dist_Group', style='Subj')\n",
    "plt.xlabel('')\n",
    "plt.xlim([0, 0.4])\n",
    "fig.add_subplot(gs[1,0], sharex=ax, sharey=ax)\n",
    "plt.title('P2P N2')\n",
    "sns.scatterplot(x='tN2', y= 'pN2', data = dat_plot, hue= 'Dist_Group', style='Subj')\n",
    "plt.xlabel('time [s]')\n",
    "\n",
    "plt.show()"
   ]
  },
  {
   "cell_type": "code",
   "execution_count": null,
   "id": "greek-arthur",
   "metadata": {},
   "outputs": [],
   "source": [
    "plt.figure(figsize=(15,8))\n",
    "b = sns.scatterplot(x=\"d\", y='LL', hue='sig_trial', data=data_con)\n",
    "plt.xlim([9.5,90])\n",
    "plt.xlabel('distance [mm]',fontsize=16)\n",
    "#plt.xlabel('N1 [\\u0394 \\u03BCV]')\n",
    "plt.ylabel('LL [\\u0394 \\u03BCV /ms]',fontsize=16) \n",
    "b.tick_params(labelsize=12)\n",
    "plt.show()"
   ]
  },
  {
   "cell_type": "code",
   "execution_count": null,
   "id": "continental-series",
   "metadata": {},
   "outputs": [],
   "source": [
    "data_con_s.insert(10, 'sN1/N2',0)\n",
    "data_con_s['sN1/N2']= data_con_s['sN1']/data_con_s['sN2']"
   ]
  },
  {
   "cell_type": "code",
   "execution_count": null,
   "id": "affecting-scope",
   "metadata": {},
   "outputs": [],
   "source": [
    "sns.catplot(x=\"Dist\", y='N1/N2', data=data_con_s, kind='box', hue='Condition',palette=[cond_colors[1],cond_colors[3]])\n",
    "plt.ylim([0,4])\n",
    "#plt.ylim([0,8])"
   ]
  },
  {
   "cell_type": "code",
   "execution_count": null,
   "id": "legendary-guyana",
   "metadata": {},
   "outputs": [],
   "source": [
    "plt.figure(figsize=(15,8))\n",
    "sns.scatterplot(x=\"d\", y='N1/N2', data=data_con_s, hue='Condition',palette=[cond_colors[1],cond_colors[3]])\n",
    "#'Condition',palette=[cond_colors[1],cond_colors[3]]\n",
    "\n",
    "plt.ylim([0,10])\n",
    "plt.xlim(7.7,120)\n",
    "plt.xlabel('distance [mm]')\n",
    "#plt.xlabel('N1 [\\u0394 \\u03BCV]')\n",
    "plt.ylabel('N1/N2') \n",
    "plt.show()"
   ]
  },
  {
   "cell_type": "code",
   "execution_count": null,
   "id": "toxic-segment",
   "metadata": {},
   "outputs": [],
   "source": [
    "plt.scatter(data_con_s.d,data_con_s.N1/data_con_s.N2)\n",
    "plt.ylim([0,15])\n",
    "plt.xlim(7.7,120)"
   ]
  },
  {
   "cell_type": "code",
   "execution_count": null,
   "id": "invisible-toilet",
   "metadata": {},
   "outputs": [],
   "source": [
    "data_plot = data_con[(data_con['LL']<18)&(data_con['pN1']>100)&(data_con['pN1']<3000)&(data_con['d']>6)]\n",
    "data_plot = data_plot.sort_values(by=['d'])"
   ]
  },
  {
   "cell_type": "code",
   "execution_count": null,
   "id": "wicked-toddler",
   "metadata": {},
   "outputs": [],
   "source": [
    "data_plot"
   ]
  },
  {
   "cell_type": "code",
   "execution_count": null,
   "id": "arctic-organ",
   "metadata": {},
   "outputs": [],
   "source": [
    "np.unique(data_plot.Dist_Group)"
   ]
  },
  {
   "cell_type": "code",
   "execution_count": null,
   "id": "durable-yield",
   "metadata": {},
   "outputs": [],
   "source": [
    "sns.lmplot(x=\"LL\", y=\"pN2\", data=data_d)"
   ]
  },
  {
   "cell_type": "code",
   "execution_count": null,
   "id": "rough-burst",
   "metadata": {},
   "outputs": [],
   "source": []
  },
  {
   "cell_type": "code",
   "execution_count": null,
   "id": "muslim-absorption",
   "metadata": {},
   "outputs": [],
   "source": [
    "np.unique(data_plot.Dist_Group)"
   ]
  },
  {
   "cell_type": "code",
   "execution_count": null,
   "id": "accessory-shell",
   "metadata": {},
   "outputs": [],
   "source": [
    "plt.figure(figsize=(15,8))\n",
    "for dd in np.unique(data_plot.Dist_Group):\n",
    "    data_d = data_plot[data_plot.Dist_Group==dd]\n",
    "    p = stats.pearsonr(data_d['pN1'], data_d['pN2'])\n",
    "    #sns.lmplot(x=\"LL\", y=l, data=data_d)\n",
    "    plt.scatter(data_d['pN1'], data_d['pN2'],label= dd+', R: '+str(np.round(p[0],2)), alpha=0.5)\n",
    "#sns.scatterplot(x=\"LL\", y=l, data=data_plot, hue='Dist_Group')\n",
    "#plt.xlim([9,90])\n",
    "plt.legend()\n",
    "#plt.xlabel('LL [\\u0394 \\u03BCV /ms]')\n",
    "#plt.xlabel('N1 [\\u0394 \\u03BCV]')\n",
    "plt.ylabel(l+' [\\u0394 \\u03BCV ]') \n",
    "plt.show()"
   ]
  },
  {
   "cell_type": "code",
   "execution_count": null,
   "id": "intense-yugoslavia",
   "metadata": {},
   "outputs": [],
   "source": [
    "data_plot = data_plot.sort_values(by=['d'])"
   ]
  },
  {
   "cell_type": "code",
   "execution_count": null,
   "id": "urban-trash",
   "metadata": {},
   "outputs": [],
   "source": [
    "np.unique(data_plot.Dist_Group)"
   ]
  },
  {
   "cell_type": "code",
   "execution_count": null,
   "id": "latin-pitch",
   "metadata": {},
   "outputs": [],
   "source": []
  },
  {
   "cell_type": "code",
   "execution_count": null,
   "id": "cognitive-tuition",
   "metadata": {},
   "outputs": [],
   "source": [
    "from sklearn.metrics import r2_score\n"
   ]
  },
  {
   "cell_type": "code",
   "execution_count": null,
   "id": "innocent-programming",
   "metadata": {},
   "outputs": [],
   "source": [
    "model = np.polyfit(x, y, 1)\n",
    "predict = np.poly1d(model)"
   ]
  },
  {
   "cell_type": "code",
   "execution_count": null,
   "id": "small-reminder",
   "metadata": {},
   "outputs": [],
   "source": [
    "x_lin_reg = range(0, 51)\n",
    "y_lin_reg = predict(x_lin_reg)\n",
    "plt.scatter(x, y)\n",
    "plt.plot(x_lin_reg, y_lin_reg, c = 'r')"
   ]
  },
  {
   "cell_type": "code",
   "execution_count": null,
   "id": "korean-thomson",
   "metadata": {},
   "outputs": [],
   "source": [
    "np.min(x)"
   ]
  },
  {
   "cell_type": "code",
   "execution_count": null,
   "id": "statewide-career",
   "metadata": {},
   "outputs": [],
   "source": [
    "dist_labels"
   ]
  },
  {
   "cell_type": "code",
   "execution_count": null,
   "id": "gentle-brief",
   "metadata": {},
   "outputs": [],
   "source": [
    "'\\u0394 \\u03BCV'"
   ]
  },
  {
   "cell_type": "code",
   "execution_count": null,
   "id": "young-shopper",
   "metadata": {},
   "outputs": [],
   "source": [
    "plt.figure(figsize=(10,8))\n",
    "for dd in dist_labels:\n",
    "    data_d = data_plot[(data_plot.Dist_Group==dd)]\n",
    "    x= data_d['tN1']\n",
    "    y= data_d['pN1']\n",
    "    model = np.polyfit(x, y, 1)\n",
    "    predict = np.poly1d(model)\n",
    "    #p = #stats.pearsonr(x, y)\n",
    "    r2  = r2_score(y, predict(x))\n",
    "    x_lin_reg = np.linspace(np.min(x), np.max(x))\n",
    "    y_lin_reg = predict(x_lin_reg)\n",
    "    plt.scatter(x, y,label= dd+', R2: '+str(np.round(r2,2)), alpha = 0.6)\n",
    "    plt.plot(x_lin_reg, y_lin_reg, linewidth = 7)\n",
    "    #plt.scatter(data_d['pN1'], data_d['pN2'],label= dd+', R2: '+str(np.round(r2,2)), alpha=0.5)\n",
    "#sns.scatterplot(x=\"LL\", y=l, data=data_plot, hue='Dist_Group')\n",
    "#plt.xlim([9,90])\n",
    "plt.legend()\n",
    "plt.xlabel('LL of 250ms [\\u0394 \\u03BCV /ms]')\n",
    "#plt.xlabel('N1 [\\u0394 \\u03BCV]')\n",
    "plt.ylabel('N1 [\\u0394 \\u03BCV ]') \n",
    "plt.show()"
   ]
  },
  {
   "cell_type": "code",
   "execution_count": null,
   "id": "finnish-sword",
   "metadata": {},
   "outputs": [],
   "source": [
    "plt.figure(figsize=(10,8))\n",
    "for dd in dist_labels:\n",
    "    data_d = data_plot[data_plot.Dist_Group==dd]\n",
    "    x= data_d['LL']\n",
    "    y= data_d['pN1']\n",
    "    model = np.polyfit(x, y, 1)\n",
    "    predict = np.poly1d(model)\n",
    "    #p = #stats.pearsonr(x, y)\n",
    "    r2  = r2_score(y, predict(x))\n",
    "    x_lin_reg = np.linspace(np.min(x), np.max(x))\n",
    "    y_lin_reg = predict(x_lin_reg)\n",
    "    plt.scatter(x, y,label= dd+', R2: '+str(np.round(r2,2)), alpha = 0.6)\n",
    "    plt.plot(x_lin_reg, y_lin_reg, linewidth = 7)\n",
    "    #plt.scatter(data_d['pN1'], data_d['pN2'],label= dd+', R2: '+str(np.round(r2,2)), alpha=0.5)\n",
    "#sns.scatterplot(x=\"LL\", y=l, data=data_plot, hue='Dist_Group')\n",
    "#plt.xlim([9,90])\n",
    "plt.legend()\n",
    "plt.xlabel('LL of 250ms [\\u0394 \\u03BCV /ms]')\n",
    "#plt.xlabel('N1 [\\u0394 \\u03BCV]')\n",
    "plt.ylabel('N1 [\\u0394 \\u03BCV ]') \n",
    "plt.show()"
   ]
  },
  {
   "cell_type": "code",
   "execution_count": null,
   "id": "stone-jefferson",
   "metadata": {},
   "outputs": [],
   "source": [
    "plt.figure(figsize=(10,8))\n",
    "plt.title('Across Patients')\n",
    "data_d = data_plot#[data_plot.Dist_Group==dd]\n",
    "x= data_d['d']\n",
    "y= data_d['pN1']\n",
    "model = np.polyfit(x, y, 1)\n",
    "predict = np.poly1d(model)\n",
    "#p = #stats.pearsonr(x, y)\n",
    "r2  = r2_score(y, predict(x))\n",
    "x_lin_reg = np.linspace(np.min(x), np.max(x))\n",
    "y_lin_reg = predict(x_lin_reg)\n",
    "plt.scatter(x, y,label= 'n: '+str(len(x)), alpha = 0.6)\n",
    "plt.plot(x_lin_reg, y_lin_reg, linewidth = 7)\n",
    "    #plt.scatter(data_d['pN1'], data_d['pN2'],label= dd+', R2: '+str(np.round(r2,2)), alpha=0.5)\n",
    "#sns.scatterplot(x=\"LL\", y=l, data=data_plot, hue='Dist_Group')\n",
    "#plt.xlim([9,90])\n",
    "plt.legend()\n",
    "plt.xlabel('LL of 250ms [\\u0394 \\u03BCV /ms]')\n",
    "#plt.xlabel('N1 [\\u0394 \\u03BCV]')\n",
    "plt.ylabel('N1 [\\u0394 \\u03BCV ]') \n",
    "plt.show()"
   ]
  },
  {
   "cell_type": "code",
   "execution_count": null,
   "id": "present-nickname",
   "metadata": {},
   "outputs": [],
   "source": [
    "plt.figure(figsize=(10,8))\n",
    "for dd in dist_labels:\n",
    "    data_d = data_plot[data_plot.Dist_Group==dd]\n",
    "    x= data_d['d']\n",
    "    y= data_d['pN1']\n",
    "    model = np.polyfit(x, y, 1)\n",
    "    predict = np.poly1d(model)\n",
    "    #p = #stats.pearsonr(x, y)\n",
    "    r2  = r2_score(y, predict(x))\n",
    "    x_lin_reg = np.linspace(np.min(x), np.max(x))\n",
    "    y_lin_reg = predict(x_lin_reg)\n",
    "    plt.scatter(x, y,label= dd+', R2: '+str(np.round(r2,2)), alpha = 0.6)\n",
    "    plt.plot(x_lin_reg, y_lin_reg, linewidth = 7)\n",
    "    #plt.scatter(data_d['pN1'], data_d['pN2'],label= dd+', R2: '+str(np.round(r2,2)), alpha=0.5)\n",
    "#sns.scatterplot(x=\"LL\", y=l, data=data_plot, hue='Dist_Group')\n",
    "#plt.xlim([9,90])\n",
    "plt.legend()\n",
    "plt.xlabel('LL of 250ms [\\u0394 \\u03BCV /ms]')\n",
    "#plt.xlabel('N1 [\\u0394 \\u03BCV]')\n",
    "plt.ylabel('N1 [\\u0394 \\u03BCV ]') \n",
    "plt.show()"
   ]
  },
  {
   "cell_type": "code",
   "execution_count": null,
   "id": "little-portsmouth",
   "metadata": {},
   "outputs": [],
   "source": [
    "model"
   ]
  },
  {
   "cell_type": "code",
   "execution_count": null,
   "id": "occupational-tiffany",
   "metadata": {},
   "outputs": [],
   "source": [
    "x_lin_reg"
   ]
  },
  {
   "cell_type": "code",
   "execution_count": null,
   "id": "appointed-naples",
   "metadata": {},
   "outputs": [],
   "source": [
    "data_plot = data_plot[data_plot.pN2>50]"
   ]
  },
  {
   "cell_type": "code",
   "execution_count": null,
   "id": "civilian-jonathan",
   "metadata": {},
   "outputs": [],
   "source": [
    "data_plot"
   ]
  },
  {
   "cell_type": "code",
   "execution_count": null,
   "id": "hollywood-snowboard",
   "metadata": {},
   "outputs": [],
   "source": [
    "xmax= 12\n",
    "plt.figure(figsize=(12,12))\n",
    "for dd in dist_labels:\n",
    "    data_d = data_plot[data_plot.Dist_Group==dd]\n",
    "    x= data_d['pN1']\n",
    "    y= data_d['pN2']\n",
    "    model = np.polyfit(x, y, 1)\n",
    "    \n",
    "    predict = np.poly1d(model)\n",
    "    #p = #stats.pearsonr(x, y)\n",
    "    r2  = r2_score(y, predict(x))\n",
    "    x_lin_reg = np.linspace(np.min(x), np.max(x))\n",
    "    y_lin_reg = predict(x_lin_reg)\n",
    "    plt.scatter(x, y,label= dd+', R2: '+str(np.round(r2,2)), alpha = 0.6)\n",
    "    plt.plot(x_lin_reg, y_lin_reg, linewidth = 7)\n",
    "    plt.text(1.01*np.max(x_lin_reg), 1.01*np.max(y_lin_reg), 'slope: '+str(round(model[0],1)), fontsize=15)\n",
    "    xmax = np.max([xmax, 1.3*np.max(x_lin_reg)])\n",
    "    #plt.scatter(data_d['pN1'], data_d['pN2'],label= dd+', R2: '+str(np.round(r2,2)), alpha=0.5)\n",
    "#sns.scatterplot(x=\"LL\", y=l, data=data_plot, hue='Dist_Group')\n",
    "#plt.xlim([9,90])\n",
    "plt.legend(loc='upper left', fontsize=12)\n",
    "plt.xlabel('LL of 250ms [\\u0394 \\u03BCV /ms]', fontsize=15)\n",
    "plt.xlabel('N1 [\\u0394 \\u03BCV]')\n",
    "plt.xlim([0,xmax])\n",
    "plt.ylabel('N2 [\\u0394 \\u03BCV ]', fontsize=15)\n",
    "plt.xticks(fontsize=12)\n",
    "plt.yticks(fontsize=12)\n",
    "plt.show()"
   ]
  },
  {
   "cell_type": "code",
   "execution_count": null,
   "id": "rotary-sterling",
   "metadata": {},
   "outputs": [],
   "source": [
    "for l in ['pN1', 'pN2']:\n",
    "    plt.figure(figsize=(15,8))\n",
    "    for dd in np.unique(data_plot.Dist_Group):\n",
    "        data_d = data_plot[data_plot.Dist_Group==dd]\n",
    "        p = stats.pearsonr(data_d.LL, data_d[l])\n",
    "        #sns.lmplot(x=\"LL\", y=l, data=data_d)\n",
    "        plt.scatter(data_d.LL, data_d[l],label= dd+', R: '+str(np.round(p[0],2)), alpha=0.5)\n",
    "    #sns.scatterplot(x=\"LL\", y=l, data=data_plot, hue='Dist_Group')\n",
    "    #plt.xlim([9,90])\n",
    "    plt.legend()\n",
    "    plt.xlabel('LL [\\u0394 \\u03BCV /ms]')\n",
    "    #plt.xlabel('N1 [\\u0394 \\u03BCV]')\n",
    "    plt.ylabel(l+' [\\u0394 \\u03BCV ]') \n",
    "    plt.show()"
   ]
  },
  {
   "cell_type": "code",
   "execution_count": null,
   "id": "extraordinary-antenna",
   "metadata": {},
   "outputs": [],
   "source": [
    "for l in ['N1', 'N2']:\n",
    "    plt.figure(figsize=(15,8))\n",
    "    sns.scatterplot(x=\"d\", y=l, data=data_con, hue='StimR')\n",
    "    plt.xlim([9,90])\n",
    "    plt.xlabel('distance [mm]')\n",
    "    #plt.xlabel('N1 [\\u0394 \\u03BCV]')\n",
    "    plt.ylabel(l+' [\\u0394 \\u03BCV ]') \n",
    "    plt.show()"
   ]
  },
  {
   "cell_type": "code",
   "execution_count": null,
   "id": "attended-assurance",
   "metadata": {},
   "outputs": [],
   "source": [
    "for l in ['sN1', 'sN2']:\n",
    "    plt.figure(figsize=(15,8))\n",
    "    sns.scatterplot(x=\"d\", y=l, data=data_con, hue='StimR')\n",
    "    plt.xlim([9,90])\n",
    "    plt.xlabel('distance [mm]')\n",
    "    #plt.xlabel('N1 [\\u0394 \\u03BCV]')\n",
    "    plt.ylabel(l+' [\\u0394 \\u03BCV /ms]') \n",
    "    plt.show()"
   ]
  },
  {
   "cell_type": "code",
   "execution_count": null,
   "id": "experienced-hobby",
   "metadata": {},
   "outputs": [],
   "source": [
    "\n"
   ]
  },
  {
   "cell_type": "code",
   "execution_count": null,
   "id": "educated-compound",
   "metadata": {},
   "outputs": [],
   "source": [
    "sns.lmplot(x=\"FlyAsh\", y=\"Strength\", hue=\"AirEntrain\", data=con)"
   ]
  },
  {
   "cell_type": "code",
   "execution_count": null,
   "id": "fabulous-mustang",
   "metadata": {},
   "outputs": [],
   "source": [
    "data_con.insert(0,'Dist', 'local (<15mm)')\n",
    "data_con.loc[data_con.d>15, 'Dist'] = 'short (<30mm)'\n",
    "data_con.loc[data_con.d>30, 'Dist'] = 'mid (<60mm)'\n",
    "data_con.loc[data_con.d>60, 'Dist'] = 'long'"
   ]
  },
  {
   "cell_type": "code",
   "execution_count": null,
   "id": "narrative-excellence",
   "metadata": {},
   "outputs": [],
   "source": [
    "data_con_s =  data_con.sort_values('d')"
   ]
  },
  {
   "cell_type": "code",
   "execution_count": null,
   "id": "bottom-suggestion",
   "metadata": {},
   "outputs": [],
   "source": [
    "sns.lmplot(x=\"N2\", y=\"sN2\", data=data_con_s, hue= 'Dist')\n",
    "#p = stats.pearsonr(data_con_p[\"LL\"], data_con_p[l])\n",
    "plt.xlabel('distance [mm]')\n",
    "#plt.text(2500, 0, 'Pearson: '+str(np.round(p[0],2)))\n",
    "plt.xlabel('N2 [\\u0394 \\u03BCV/ms]')\n",
    "#plt.xlabel('LL [\\u0394 \\u03BCV /ms]')\n",
    "plt.ylabel('N2 [\\u0394 \\u03BCV]') \n",
    "plt.show()"
   ]
  },
  {
   "cell_type": "code",
   "execution_count": null,
   "id": "different-divorce",
   "metadata": {},
   "outputs": [],
   "source": [
    "sns.lmplot(x=\"sN1\", y=\"sN2\", data=data_con_s, hue= 'Dist')\n",
    "#p = stats.pearsonr(data_con_p[\"LL\"], data_con_p[l])\n",
    "plt.xlabel('distance [mm]')\n",
    "#plt.text(2500, 0, 'Pearson: '+str(np.round(p[0],2)))\n",
    "plt.xlabel('N1 [\\u0394 \\u03BCV/ms]')\n",
    "#plt.xlabel('LL [\\u0394 \\u03BCV /ms]')\n",
    "plt.ylabel('N2 [\\u0394 \\u03BCV/ms]') \n",
    "plt.show()"
   ]
  },
  {
   "cell_type": "code",
   "execution_count": null,
   "id": "friendly-harmony",
   "metadata": {},
   "outputs": [],
   "source": [
    "sns.lmplot(x=\"N1\", y=\"N2\", data=data_con_s, hue= 'Dist')\n",
    "#p = stats.pearsonr(data_con_p[\"LL\"], data_con_p[l])\n",
    "plt.xlabel('distance [mm]')\n",
    "#plt.text(2500, 0, 'Pearson: '+str(np.round(p[0],2)))\n",
    "plt.xlabel('N1 [\\u0394 \\u03BCV ]')\n",
    "#plt.xlabel('LL [\\u0394 \\u03BCV /ms]')\n",
    "plt.ylabel('N2 [\\u0394 \\u03BCV]') \n",
    "plt.show()"
   ]
  },
  {
   "cell_type": "code",
   "execution_count": null,
   "id": "unavailable-vatican",
   "metadata": {},
   "outputs": [],
   "source": [
    "data_con.loc[data_con.StimR=='HIPP', 'StimR'] = 'Mesiotemporal'\n",
    "data_con.loc[data_con.StimR=='HIPP ', 'StimR'] = 'Mesiotemporal'\n",
    "data_con.loc[data_con.StimR=='ENT', 'StimR'] = 'Basotemporal'\n",
    "\n",
    "data_con.loc[data_con.ChanR=='HIPP' , 'RespR'] = 'Mesiotemporal'\n",
    "data_con.loc[data_con.ChanR=='HIPP ', 'RespR'] = 'Mesiotemporal'\n",
    "data_con.loc[data_con.ChanR=='ENT'  , 'RespR'] = 'Basotemporal'"
   ]
  },
  {
   "cell_type": "code",
   "execution_count": null,
   "id": "certified-flash",
   "metadata": {},
   "outputs": [],
   "source": [
    "data_con"
   ]
  },
  {
   "cell_type": "code",
   "execution_count": null,
   "id": "miniature-colon",
   "metadata": {},
   "outputs": [],
   "source": [
    "stop"
   ]
  },
  {
   "cell_type": "markdown",
   "id": "ethical-adolescent",
   "metadata": {},
   "source": [
    "## Connections by distance"
   ]
  },
  {
   "cell_type": "code",
   "execution_count": null,
   "id": "violent-reader",
   "metadata": {},
   "outputs": [],
   "source": []
  },
  {
   "cell_type": "code",
   "execution_count": null,
   "id": "differential-spyware",
   "metadata": {},
   "outputs": [],
   "source": [
    "data_A"
   ]
  },
  {
   "cell_type": "code",
   "execution_count": null,
   "id": "front-starter",
   "metadata": {},
   "outputs": [],
   "source": [
    "subj"
   ]
  },
  {
   "cell_type": "code",
   "execution_count": null,
   "id": "finnish-worker",
   "metadata": {},
   "outputs": [],
   "source": [
    "color_elab"
   ]
  },
  {
   "cell_type": "code",
   "execution_count": null,
   "id": "tough-flight",
   "metadata": {},
   "outputs": [],
   "source": [
    "plt.figure(figsize=(8,5))\n",
    "i=0\n",
    "for subj in subjs:\n",
    "\n",
    "    plot_Z_dist(data_A[(data_A.LL_BL<8)&(data_A.d>7.5)&(data_A.LL_BL>0)&(data_A.subj==subj)], color_elab[i])\n",
    "    # plt.savefig('T:\\EL_experiment\\Patients\\\\all/Analysis/BrainMapping/figures/CCEP_dist.svg')\n",
    "    # plt.savefig('T:\\EL_experiment\\Patients\\\\all/Analysis/BrainMapping/figures/CCEP_dist.jpg')\n",
    "    i=i+1\n",
    "plt.show()"
   ]
  },
  {
   "cell_type": "code",
   "execution_count": null,
   "id": "approved-wildlife",
   "metadata": {},
   "outputs": [],
   "source": [
    "plt.figure(figsize=(8,5))\n",
    "plot_Z_dist(data_A[(data_A.LL_BL<7)&(data_A.d>7.5)&(data_A.LL_BL>0)])\n",
    "# plt.savefig('T:\\EL_experiment\\Patients\\\\all/Analysis/BrainMapping/figures/CCEP_dist.svg')\n",
    "# plt.savefig('T:\\EL_experiment\\Patients\\\\all/Analysis/BrainMapping/figures/CCEP_dist.jpg')\n",
    "plt.show()"
   ]
  },
  {
   "cell_type": "code",
   "execution_count": null,
   "id": "excited-rapid",
   "metadata": {},
   "outputs": [],
   "source": [
    "def plot_Z_dist(data, c=[color_elab[0]] ):\n",
    "    plt.title('CCEP strength')\n",
    "    plt.xlabel('distance [mm]')\n",
    "    plt.ylabel('LL [uV/ms]')\n",
    "    #plt.scatter(data[data.Change==0].d, data[data.Change==0].LLz, c= [color_elab[0]], alpha=0.2,edgecolors=[0,0,0], label='BZD no change')\n",
    "    #plt.scatter(data[data.Change==1].d, data[data.Change==1].LLz, c= [color_elab[0]], alpha=0.7,edgecolors=[0,0,0], label='BZD Effect')\n",
    "    #plt.legend()\n",
    "    plt.scatter(data.d, data.LL_BL, c= c, alpha=0.7,edgecolors=[0,0,0])\n",
    "    plt.xlim(5,83)\n",
    "    plt.ylim(0,8)"
   ]
  },
  {
   "cell_type": "code",
   "execution_count": null,
   "id": "comprehensive-zambia",
   "metadata": {},
   "outputs": [],
   "source": [
    "from sklearn.metrics import plot_confusion_matrix"
   ]
  },
  {
   "cell_type": "code",
   "execution_count": null,
   "id": "suitable-military",
   "metadata": {},
   "outputs": [],
   "source": [
    "plt.figure(figsize=(8,5))\n",
    "plot_Z_dist(data_B[(data_B.LL_Ratio<0.8)], color_elab[0])\n",
    "plot_Z_dist(data_B[(data_B.LL_Ratio>=0.8)], color_elab[3])\n",
    "plt.legend(['Connection decreased', 'Connection unchanged'])\n",
    "plt.show()"
   ]
  },
  {
   "cell_type": "code",
   "execution_count": null,
   "id": "hundred-implementation",
   "metadata": {},
   "outputs": [],
   "source": [
    "data_A"
   ]
  },
  {
   "cell_type": "code",
   "execution_count": null,
   "id": "integral-disney",
   "metadata": {},
   "outputs": [],
   "source": [
    "data_B = data_A[(data_A.LL_BL<8)&(data_A.d>7)&(data_A.LL_BL>0)]\n",
    "stim_regions = np.unique([data_B.StimR,data_B.RespR])\n",
    "stim_regions_G = []\n",
    "for i in range(len(stim_regions)):\n",
    "    stim_regions_G.append(regions_G[regions==stim_regions[i]][0])\n",
    "M = np.zeros((len(stim_regions),len(stim_regions),3))\n",
    "for sc in range(len(stim_regions)):\n",
    "    for rc in range(len(stim_regions)):\n",
    "        T =  len(data_B[(data_B.RespR == stim_regions[rc])&(data_B.StimR == stim_regions[sc])])\n",
    "        if T>0:\n",
    "            C = len(data_B[(data_B.RespR == stim_regions[rc])&(data_B.StimR == stim_regions[sc])&(data_B.Cluster_BL==0)])\n",
    "            M[sc,rc,0] = C/T\n",
    "            M[sc,rc,1] = C\n",
    "            M[sc,rc,2] = T\n",
    "ix = np.argsort(stim_regions_G)\n",
    "M = M[:,ix]\n",
    "M = M[ix,:]\n",
    "\n",
    "fig, ax = plt.subplots(figsize=(15,15))\n",
    "im = ax.imshow(M[:,:,0], interpolation='nearest', cmap=cmap, vmax = 0.8)\n",
    "ax.figure.colorbar(im, ax=ax)\n",
    "\n",
    "plt.yticks(np.arange(M.shape[0]),stim_regions[ix])\n",
    "plt.xticks(np.arange(M.shape[1]),stim_regions[ix], rotation='45')\n",
    "plt.ylabel('Stimulation Area')\n",
    "plt.xlabel('Response Area')\n",
    "thresh = M[:,:,0].max() / 1.5\n",
    "for i, j in itertools.product(range(M.shape[0]), range(M.shape[1])):\n",
    "    plt.text(j, i, str(M[i, j,1])+'/'+str(M[i, j,2]),\n",
    "                 horizontalalignment=\"center\",\n",
    "                 color=\"white\" if M[i, j,0] > thresh else \"black\")"
   ]
  },
  {
   "cell_type": "code",
   "execution_count": null,
   "id": "entertaining-superintendent",
   "metadata": {},
   "outputs": [],
   "source": [
    "data_B = data_A[(data_A.LL_BL<8)&(data_A.d>7)&(data_A.LL_BL>0)]\n",
    "\n",
    "stim_regions = np.unique([data_B.StimR,data_B.RespR])\n",
    "stim_regions_G = []\n",
    "for i in range(len(stim_regions)):\n",
    "    stim_regions_G.append(regions_G[regions==stim_regions[i]][0])\n",
    "M = np.zeros((len(stim_regions),len(stim_regions),3))\n",
    "for sc in range(len(stim_regions)):\n",
    "    for rc in range(len(stim_regions)):\n",
    "        T =  len(data_B[(data_B.RespR == stim_regions[rc])&(data_B.StimR == stim_regions[sc])])\n",
    "        if T>0:\n",
    "            C = len(data_B[(data_B.RespR == stim_regions[rc])&(data_B.StimR == stim_regions[sc])&(data_B.LL_Ratio<0.8)])\n",
    "            M[sc,rc,0] = C/T\n",
    "            M[sc,rc,1] = C\n",
    "            M[sc,rc,2] = T\n",
    "ix = np.argsort(stim_regions_G)\n",
    "M = M[:,ix]\n",
    "M = M[ix,:]\n",
    "\n",
    "fig, ax = plt.subplots(figsize=(15,15))\n",
    "im = ax.imshow(M[:,:,0], interpolation='nearest', cmap=cmap, vmax = 0.8)\n",
    "ax.figure.colorbar(im, ax=ax)\n",
    "\n",
    "plt.yticks(np.arange(M.shape[0]),stim_regions[ix])\n",
    "plt.xticks(np.arange(M.shape[1]),stim_regions[ix], rotation='45')\n",
    "plt.ylabel('Stimulation Area')\n",
    "plt.xlabel('Response Area')\n",
    "thresh = M[:,:,0].max() / 1.5\n",
    "for i, j in itertools.product(range(M.shape[0]), range(M.shape[1])):\n",
    "    plt.text(j, i, str(M[i, j,1])+'/'+str(M[i, j,2]),\n",
    "                 horizontalalignment=\"center\",\n",
    "                 color=\"white\" if M[i, j,0] > thresh else \"black\")"
   ]
  },
  {
   "cell_type": "code",
   "execution_count": null,
   "id": "supreme-yukon",
   "metadata": {},
   "outputs": [],
   "source": [
    "stim_regions = np.unique([data_A.StimR,data_A.RespR])\n",
    "stim_regions_G = []\n",
    "for i in range(len(stim_regions)):\n",
    "    stim_regions_G.append(regions_G[regions==stim_regions[i]][0])\n",
    "M = np.zeros((len(stim_regions),len(stim_regions),3))\n",
    "for sc in range(len(stim_regions)):\n",
    "    for rc in range(len(stim_regions)):\n",
    "        T =  len(data_A[(data_A.RespR == stim_regions[rc])&(data_A.StimR == stim_regions[sc])])\n",
    "        if T>0:\n",
    "            C = len(data_A[(data_A.RespR == stim_regions[rc])&(data_A.StimR == stim_regions[sc])&(data_A.LL_BL > 0)])\n",
    "            M[sc,rc,0] = C/T\n",
    "            M[sc,rc,1] = C\n",
    "            M[sc,rc,2] = T\n",
    "ix = np.argsort(stim_regions_G)\n",
    "M = M[:,ix]\n",
    "M = M[ix,:]"
   ]
  },
  {
   "cell_type": "code",
   "execution_count": null,
   "id": "nasty-ireland",
   "metadata": {},
   "outputs": [],
   "source": [
    "import itertools\n",
    "cmap = plt.get_cmap('Blues')"
   ]
  },
  {
   "cell_type": "code",
   "execution_count": null,
   "id": "herbal-token",
   "metadata": {},
   "outputs": [],
   "source": [
    "fig, ax = plt.subplots(figsize=(15,15))\n",
    "im = ax.imshow(M[:,:,0], interpolation='nearest', cmap=cmap, vmax = 0.8)\n",
    "ax.figure.colorbar(im, ax=ax)\n",
    "\n",
    "plt.yticks(np.arange(M.shape[0]),stim_regions[ix])\n",
    "plt.xticks(np.arange(M.shape[1]),stim_regions[ix], rotation='45')\n",
    "plt.ylabel('Stimulation Area')\n",
    "plt.xlabel('Response Area')\n",
    "thresh = M[:,:,0].max() / 1.5\n",
    "for i, j in itertools.product(range(M.shape[0]), range(M.shape[1])):\n",
    "    plt.text(j, i, str(M[i, j,1])+'/'+str(M[i, j,2]),\n",
    "                 horizontalalignment=\"center\",\n",
    "                 color=\"white\" if M[i, j,0] > thresh else \"black\")"
   ]
  },
  {
   "cell_type": "code",
   "execution_count": null,
   "id": "religious-master",
   "metadata": {},
   "outputs": [],
   "source": [
    "sc = 0\n",
    "rc = 1\n"
   ]
  },
  {
   "cell_type": "code",
   "execution_count": null,
   "id": "pleased-farming",
   "metadata": {},
   "outputs": [],
   "source": [
    "data_A.loc[data_A['RespR']=='HIPP','RespR' ]     = 'Mesiotemporal'\n",
    "data_A.loc[data_A['StimR']=='HIPP','StimR' ]     = 'Mesiotemporal'\n",
    "data_A.loc[data_A['RespR']=='HIPP ','RespR' ]    = 'Mesiotemporal'\n",
    "data_A.loc[data_A['StimR']=='HIPP ','StimR' ]    = 'Mesiotemporal'\n",
    "data_A.loc[data_A['RespR']=='Temporal','RespR' ] = 'Basotemporal'\n",
    "data_A.loc[data_A['StimR']=='Temporal','StimR' ] = 'Basotemporal'\n",
    "\n"
   ]
  },
  {
   "cell_type": "code",
   "execution_count": null,
   "id": "proof-afghanistan",
   "metadata": {},
   "outputs": [],
   "source": [
    "sns.catplot(y=\"Resp Region\", x=\"Stim Region\",hue=\"Change\",data=data_all, kind=\"swarm\",height=4, aspect=4, s=2)"
   ]
  },
  {
   "cell_type": "code",
   "execution_count": null,
   "id": "macro-thumbnail",
   "metadata": {},
   "outputs": [],
   "source": [
    "plt.figure(figsize=(15,7))\n",
    "sns.catplot(y=\"d\", x=\"Stim Region\",hue=\"Resp Region\", col=\"Change\",data=data_all, kind=\"swarm\",height=5, aspect=3);\n",
    "plt.savefig(path_patient + '/Analysis/BrainMapping/LL/figures/BM_plot/BM_benzo_dist.svg')\n",
    "plt.show()"
   ]
  },
  {
   "cell_type": "code",
   "execution_count": null,
   "id": "weird-dating",
   "metadata": {
    "scrolled": true
   },
   "outputs": [],
   "source": [
    "sns.catplot(x=\"dist\", y=\"Stim Region\",hue=\"Resp Region\", data=data_all, kind='swarm',\n",
    "              height=6,  # make the plot 5 units high\n",
    "              aspect=1.5, legend_out=True)"
   ]
  },
  {
   "cell_type": "code",
   "execution_count": null,
   "id": "japanese-visiting",
   "metadata": {},
   "outputs": [],
   "source": [
    "list_BZD"
   ]
  },
  {
   "cell_type": "code",
   "execution_count": null,
   "id": "proved-orchestra",
   "metadata": {},
   "outputs": [],
   "source": [
    "c = 80\n",
    "s = 33\n",
    "list_BL    = lists[(lists.Chan==c)&(lists.Stim==s)&(lists.Condition==1)]\n",
    "list_BZD   = lists[(lists.Chan==c)&(lists.Stim==s)&(lists.Condition==3)]"
   ]
  },
  {
   "cell_type": "code",
   "execution_count": null,
   "id": "second-belly",
   "metadata": {},
   "outputs": [],
   "source": [
    "EEG_trial      = EEG_resp[c,list_BZD.Num.values.astype('int'),:]\n",
    "mx_BZD,_,_         = LL_mx(EEG_trial)"
   ]
  },
  {
   "cell_type": "code",
   "execution_count": null,
   "id": "supreme-championship",
   "metadata": {},
   "outputs": [],
   "source": [
    "EEG_trial      = EEG_resp[c,list_BL.Num.values.astype('int'),:]\n",
    "mx_BL,_,_         = LL_mx(EEG_trial)"
   ]
  },
  {
   "cell_type": "code",
   "execution_count": null,
   "id": "dedicated-rover",
   "metadata": {},
   "outputs": [],
   "source": [
    "mx_BL"
   ]
  },
  {
   "cell_type": "code",
   "execution_count": null,
   "id": "complex-process",
   "metadata": {},
   "outputs": [],
   "source": [
    "data_A.drop_duplicates()"
   ]
  },
  {
   "cell_type": "code",
   "execution_count": null,
   "id": "beginning-contribution",
   "metadata": {},
   "outputs": [],
   "source": [
    "data_A = data_A.drop_duplicates()"
   ]
  },
  {
   "cell_type": "code",
   "execution_count": null,
   "id": "informal-graduation",
   "metadata": {
    "scrolled": true
   },
   "outputs": [],
   "source": [
    "data_A.loc[(data_A.Stim==0)&(data_A.Chan==2)&(data_A.Subj==subj)].drop_duplicates()"
   ]
  },
  {
   "cell_type": "code",
   "execution_count": null,
   "id": "annoying-proxy",
   "metadata": {},
   "outputs": [],
   "source": [
    "np.mean(data_A.loc[((data_A.Stim==0)&(data_A.Chan==2)&(data_A.Subj==subj)),'LL_BZD'])"
   ]
  },
  {
   "cell_type": "code",
   "execution_count": null,
   "id": "second-burst",
   "metadata": {},
   "outputs": [],
   "source": [
    "cond_labels[1] = 'Control'"
   ]
  },
  {
   "cell_type": "code",
   "execution_count": null,
   "id": "appreciated-pregnancy",
   "metadata": {},
   "outputs": [],
   "source": [
    "def plot_conds(sc, rc, LL_CCEP, data_A, conds, EEG_resp):\n",
    "    LL_BZD = np.zeros((2,))\n",
    "    LL_BZD[1] = np.mean(data_A.loc[((data_A.Stim==sc)&(data_A.Chan==rc)&(data_A.Subj==subj)),'LL_BZD'])\n",
    "    LL_BZD[0]  = np.mean(data_A.loc[((data_A.Stim==sc)&(data_A.Chan==rc)&(data_A.Subj==subj)),'LL_BL'])\n",
    "    fig, axs   = plt.subplots(len(conds),1, figsize=(5,3*len(conds)+1), facecolor='w', edgecolor='k')\n",
    "    fig.subplots_adjust(hspace = .1, wspace=.1)\n",
    "    lists = LL_CCEP[(LL_CCEP['Chan']==rc)&(LL_CCEP['Stim']==sc)]\n",
    "    plt.suptitle(labels_region[sc]+'--'+labels_region[rc]+', Distance: '+str(np.round(lists.d.values[0],1))+'mm')\n",
    "    axs = axs.ravel()\n",
    "    for i in range(len(conds)):\n",
    "        lists = LL_CCEP[(LL_CCEP['Chan']==rc)&(LL_CCEP['Stim']==sc)&(LL_CCEP['Condition']==conds[i])]\n",
    "        lists = lists[~np.isnan(lists.zLL.values)]\n",
    "        stimNum_all                  = lists.Num.values.astype('int')\n",
    "        axs[i].set_title(cond_labels[np.where(cond_vals==conds[i])[0][0]]+', LL peak: '+str(np.round(LL_BZD[i],1))+'uV/ms')\n",
    "        axs[i].set_ylim(-400, 400)\n",
    "        axs[i].set_xlim(-0.25, 1)\n",
    "        axs[i].set_xticks([])\n",
    "        axs[i].set_yticks([-300,0,300])\n",
    "        axs[i].axvline(0, c=[0,0,0])\n",
    "        for j in range(len(stimNum_all)):\n",
    "            axs[i].plot(x_ax,ff.lp_filter(EEG_resp[rc,stimNum_all[j],:], 45, Fs), c=cond_colors[np.where(cond_vals==conds[i])[0][0]])\n",
    "        axs[i].plot(x_ax,ff.lp_filter(np.mean(EEG_resp[rc,stimNum_all,:],0), 45, Fs), c=[0,0,0], linewidth=3 )\n",
    "    \n",
    "    plt.xticks([-0.25, 0, 0.5,1])\n",
    "    plt.xlabel('time [s]')\n",
    "    #plt.tight_layout()"
   ]
  },
  {
   "cell_type": "code",
   "execution_count": null,
   "id": "removed-supply",
   "metadata": {},
   "outputs": [],
   "source": [
    "dat"
   ]
  },
  {
   "cell_type": "code",
   "execution_count": null,
   "id": "circular-thailand",
   "metadata": {},
   "outputs": [],
   "source": [
    "LL_CCEP[(LL_CCEP['Chan']==rc)&(LL_CCEP['Stim']==sc)]"
   ]
  },
  {
   "cell_type": "code",
   "execution_count": null,
   "id": "guilty-clinic",
   "metadata": {},
   "outputs": [],
   "source": []
  },
  {
   "cell_type": "code",
   "execution_count": null,
   "id": "legal-anime",
   "metadata": {},
   "outputs": [],
   "source": [
    "dat      = data_A[(data_A.Benzo==-1)&(data_A.Subj==subj)]\n",
    "k        = np.random.randint(0, len(dat))\n",
    "sc       = np.int64(dat.Stim.values[k])\n",
    "rc       = np.int64(dat.Chan.values[k])\n",
    "\n",
    "plot_conds(sc,rc, LL_CCEP, data_A,[1,3], EEG_resp)"
   ]
  },
  {
   "cell_type": "code",
   "execution_count": null,
   "id": "buried-paragraph",
   "metadata": {},
   "outputs": [],
   "source": [
    "\n",
    "plot_conds(sc,rc, LL_CCEP, data_A,[1,3], EEG_resp)\n",
    "plt.savefig('/Volumes/EvM_T7/PhD/EL_experiment/Patients/all/Analysis/BrainMapping/figures/'+subj+'-'+labels_all[sc]+'_'+labels_all[rc]+'.svg')"
   ]
  },
  {
   "cell_type": "code",
   "execution_count": null,
   "id": "dental-fraud",
   "metadata": {},
   "outputs": [],
   "source": [
    "plot_conds(s, c, LL_CCEP, [1,3], EEG_resp)"
   ]
  },
  {
   "cell_type": "code",
   "execution_count": null,
   "id": "excessive-tenant",
   "metadata": {},
   "outputs": [],
   "source": [
    "data_A"
   ]
  },
  {
   "cell_type": "code",
   "execution_count": null,
   "id": "surprised-investigator",
   "metadata": {
    "scrolled": true
   },
   "outputs": [],
   "source": [
    "data_A[(data_A.Benzo==-1)&(data_A.Subj==subj)]"
   ]
  },
  {
   "cell_type": "code",
   "execution_count": null,
   "id": "aggressive-barrier",
   "metadata": {},
   "outputs": [],
   "source": [
    "data_A.to_csv(path_patient + '/Analysis/BrainMapping/Ph/data/Benzo_decrease.csv', index=False,header=True)  # scat_plot = scat_plot.fillna(method='ffill')"
   ]
  },
  {
   "cell_type": "code",
   "execution_count": null,
   "id": "unnecessary-sessions",
   "metadata": {},
   "outputs": [],
   "source": [
    "sns.catplot(y=\"d\", x=\"Benzo\",hue=\"Benzo\",data=data_A, col = 'Resp Region', row = 'Stim Region', kind=\"swarm\",height=3, aspect=1.5);"
   ]
  },
  {
   "cell_type": "code",
   "execution_count": null,
   "id": "hearing-helmet",
   "metadata": {},
   "outputs": [],
   "source": [
    "plt.figure(figsize=(7,7))\n",
    "sns.catplot(y=\"d\", x=\"Benzo\",hue=\"Benzo\",data=data_A, col = 'Resp Region', row = 'Stim Region', kind=\"swarm\",height=3, aspect=1.5);\n",
    "plt.savefig('/Volumes/EvM_T7/PhD/EL_experiment/Patients/all/Analysis/BrainMapping/figures/Benzo_Area.svg')"
   ]
  },
  {
   "cell_type": "code",
   "execution_count": null,
   "id": "played-pantyhose",
   "metadata": {},
   "outputs": [],
   "source": [
    "t = 0.8\n",
    "data_A.loc[(data_A.LL_Ratio<t), 'Benzo'] = -1\n",
    "data_A.loc[(data_A.LL_Ratio>t-0.001), 'Benzo'] = 0"
   ]
  },
  {
   "cell_type": "code",
   "execution_count": null,
   "id": "removable-philippines",
   "metadata": {},
   "outputs": [],
   "source": [
    "data_A.to_csv('/Volumes/EvM_T7/PhD/EL_experiment/Patients/all/Analysis/BrainMapping/Benzo_decrease_all.csv', index=False,header=True)  # scat_plot = scat_plot.fillna(method='ffill')"
   ]
  },
  {
   "cell_type": "code",
   "execution_count": null,
   "id": "specified-dubai",
   "metadata": {},
   "outputs": [],
   "source": [
    "path    = '/Volumes/EvM_T7/PhD/EL_experiment/Patients/EL005'\n",
    "data_5 = pd.read_csv(path + '/Analysis/BrainMapping/Ph/data/Benzo_decrease.csv')\n",
    "path    = '/Volumes/EvM_T7/PhD/EL_experiment/Patients/EL008'\n",
    "data_8 = pd.read_csv(path + '/Analysis/BrainMapping/Ph/data/Benzo_decrease.csv')"
   ]
  },
  {
   "cell_type": "code",
   "execution_count": null,
   "id": "stunning-camera",
   "metadata": {},
   "outputs": [],
   "source": [
    "data_4"
   ]
  },
  {
   "cell_type": "code",
   "execution_count": null,
   "id": "helpful-prairie",
   "metadata": {},
   "outputs": [],
   "source": [
    "data_A"
   ]
  },
  {
   "cell_type": "code",
   "execution_count": null,
   "id": "material-sympathy",
   "metadata": {},
   "outputs": [],
   "source": [
    "data_A = pd.concat([data_4, data_5, data_8])"
   ]
  },
  {
   "cell_type": "code",
   "execution_count": null,
   "id": "political-holmes",
   "metadata": {},
   "outputs": [],
   "source": [
    "data_4 = data_A"
   ]
  },
  {
   "cell_type": "code",
   "execution_count": null,
   "id": "supported-mother",
   "metadata": {},
   "outputs": [],
   "source": [
    "labels_region"
   ]
  },
  {
   "cell_type": "code",
   "execution_count": null,
   "id": "ordered-olive",
   "metadata": {},
   "outputs": [],
   "source": [
    "lists"
   ]
  },
  {
   "cell_type": "code",
   "execution_count": null,
   "id": "cheap-chamber",
   "metadata": {},
   "outputs": [],
   "source": [
    "data_asym     = np.zeros((1,9))\n",
    "lists         = LL_CCEP[(LL_CCEP['RespC']==1)&(~np.isnan(LL_CCEP.LL.values))]\n",
    "for s in range(len(labels_all)):\n",
    "    for c in range(len(labels_all)):\n",
    "        list_BL    = lists[(lists.Chan==c)&(lists.Stim==s)&(lists.Condition==1)]\n",
    "        list_BZD   = lists[(lists.Chan==c)&(lists.Stim==s)&(lists.Condition==3)]\n",
    "        if (len(list_BL)>0)&(len(list_BZD)>0):\n",
    "            EEG_trial      = EEG_resp[c,list_BL.Num.values.astype('int'),:]\n",
    "            mx_BL,_,_         = LL_mx(EEG_trial)\n",
    "            EEG_trial      = EEG_resp[c,list_BZD.Num.values.astype('int'),:]\n",
    "            mx_BZD,_,_         = LL_mx(EEG_trial)\n",
    "            val         = np.zeros((1, 9))\n",
    "            val[0, 0]   = c                                         # response channel\n",
    "            val[0, 1]   = s                                         # response channel\n",
    "            val[0, 2]   = np.mean(list_BL.z) # LL zscore\n",
    "            val[0, 3]   = mx_BL # BL\n",
    "            val[0, 4]   = mx_BZD # BZD\n",
    "            val[0, 5]   = mx_BZD/mx_BL # Ratio\n",
    "            val[0, 6]   = np.mean(list_BZD.d) # distance\n",
    "            data_asym    = np.concatenate((data_asym, val), axis=0)\n",
    "data_asym = data_asym[1:-1, :] # remove first row (dummy row)\n",
    "data_A = pd.DataFrame(\n",
    "    {\"Chan\": data_asym[:, 0], \"Stim\": data_asym[:, 1],\"LLz\": data_asym[:, 2],\"LL_BL\": data_asym[:, 3],\"LL_BZD\": data_asym[:, 4],\"LL_Ratio\": data_asym[:, 5], \"d\": data_asym[:, 6]})\n",
    "\n",
    "for c in range(len(labels_all)):\n",
    "    data_A.loc[(data_A.Stim ==c), \"Stim Region\"]   = labels_region[c]\n",
    "    data_A.loc[(data_A.Chan ==c), \"Resp Region\"]   = labels_region[c]\n",
    "\n",
    "data_A.insert(0,'Subj',subj)\n",
    "data_A=data_A.drop(data_A[data_A['Stim Region']=='OUT'].index)\n",
    "data_A=data_A.drop(data_A[data_A['Resp Region']=='OUT'].index)\n",
    "data_A=data_A.drop(data_A[data_A['Stim Region']=='WM'].index)\n",
    "data_A=data_A.drop(data_A[data_A['Resp Region']=='WM'].index)\n",
    "data_A=data_A.drop(data_A[data_A['d']<7].index)\n",
    "data_A.loc[(data_A.d <10), \"dist\"] = 'short'\n",
    "data_A.loc[(data_A.d >=10)&(data_A.d <50), \"dist\"] = 'mid'\n",
    "data_A.loc[(data_A.d >=50)&(data_A.d <100), \"dist\"] = 'mid'\n",
    "data_A.loc[(data_A.d >100), \"dist\"] = 'verylong'\n",
    "data_A.insert(5,'Benzo',0)\n",
    "data_A.loc[(data_A.LL_Ratio<0.9), 'Benzo'] = -1\n",
    "data_A.to_csv(path_patient + '/Analysis/BrainMapping/Ph/data/Benzo_decrease.csv', index=False,header=True)  # scat_plot = scat_plot.fillna(method='ffill')"
   ]
  },
  {
   "cell_type": "code",
   "execution_count": null,
   "id": "strong-boring",
   "metadata": {},
   "outputs": [],
   "source": [
    "data_asym     = np.zeros((1,6))\n",
    "lists         = LL_CCEP[(LL_CCEP['RespC']==1)&(~np.isnan(LL_CCEP.LL.values))]\n",
    "for s in range(len(labels_all)):\n",
    "    for c in range(len(labels_all)):\n",
    "        list_1 = lists[(lists.Chan==c)&(lists.Stim==s)]\n",
    "        if len(list_1)>0:\n",
    "            val         = np.zeros((1, 6))\n",
    "            val[0, 0]   = c                                         # response channel\n",
    "            val[0, 1]   = s                                         # response channel\n",
    "            val[0, 2]   = np.mean(list_1.z) # LL zscore\n",
    "            val[0, 3]   = np.mean(list_1.Benzo)-1 #LL_CCEP.Benzo\n",
    "            val[0, 4]   = np.nanmean(list_1.d)\n",
    "            data_asym    = np.concatenate((data_asym, val), axis=0)\n",
    "data_asym = data_asym[1:-1, :] # remove first row (dummy row)\n",
    "data_A = pd.DataFrame(\n",
    "    {\"Chan\": data_asym[:, 0], \"Stim\": data_asym[:, 1],\"LLz\": data_asym[:, 2],\"Change\": data_asym[:, 3], \"d\": data_asym[:, 4]})\n",
    "\n",
    "for c in range(len(labels_all)):\n",
    "    #data_A.loc[(data_A.Chan ==c), \"Recs\"]   = labels_all[c]\n",
    "    data_A.loc[(data_A.Stim ==c), \"Stim Region\"]   = labels_region[c]\n",
    "    data_A.loc[(data_A.Chan ==c), \"Resp Region\"]   = labels_region[c]\n",
    "    #data_A.loc[(data_A.Stim ==c), \"Stims\"]  = labels_all[c]\n",
    "data_A.insert(0,'Subj',subj)\n",
    "data_A=data_A.drop(data_A[data_A['Stim Region']=='OUT'].index)\n",
    "data_A=data_A.drop(data_A[data_A['Resp Region']=='OUT'].index)\n",
    "data_A=data_A.drop(data_A[data_A['Stim Region']=='WM'].index)\n",
    "data_A=data_A.drop(data_A[data_A['Resp Region']=='WM'].index)\n",
    "data_A=data_A.drop(data_A[data_A['d']<7].index)\n",
    "data_A.loc[(data_A.d <10), \"dist\"] = 'short'\n",
    "data_A.loc[(data_A.d >=10)&(data_A.d <50), \"dist\"] = 'mid'\n",
    "data_A.loc[(data_A.d >=50)&(data_A.d <100), \"dist\"] = 'mid'\n",
    "data_A.loc[(data_A.d >100), \"dist\"] = 'verylong'"
   ]
  },
  {
   "cell_type": "code",
   "execution_count": null,
   "id": "architectural-elder",
   "metadata": {},
   "outputs": [],
   "source": [
    "data_A"
   ]
  },
  {
   "cell_type": "code",
   "execution_count": null,
   "id": "after-breathing",
   "metadata": {},
   "outputs": [],
   "source": [
    "data_all = data_A"
   ]
  },
  {
   "cell_type": "code",
   "execution_count": null,
   "id": "frozen-trinidad",
   "metadata": {},
   "outputs": [],
   "source": [
    "data_all"
   ]
  },
  {
   "cell_type": "code",
   "execution_count": null,
   "id": "standing-sunset",
   "metadata": {},
   "outputs": [],
   "source": [
    "data_all = pd.concat([data_all,data_A])"
   ]
  },
  {
   "cell_type": "code",
   "execution_count": null,
   "id": "constant-green",
   "metadata": {},
   "outputs": [],
   "source": [
    "#### Connections by distance\n",
    "data_asym     = np.zeros((1,6))\n",
    "lists         = LL_CCEP[(LL_CCEP['RespC']==1)&(~np.isnan(lists.LL.values))]\n",
    "for s in range(len(labels_all)):\n",
    "    for c in range(len(labels_all)):\n",
    "        list_1 = lists[(lists.Chan==c)&(lists.Stim==s)]\n",
    "        if len(list_1)>0:\n",
    "            val         = np.zeros((1, 6))\n",
    "            val[0, 0]   = c                                         # response channel\n",
    "            val[0, 1]   = s                                         # response channel\n",
    "            val[0, 2]   = np.mean(list_1.z) # LL zscore\n",
    "            val[0, 3]   = s # BZD\n",
    "            val[0, 4]   = np.nanmean(list_1.d)\n",
    "            data_asym    = np.concatenate((data_asym, val), axis=0)\n",
    "data_asym = data_asym[1:-1, :] # remove first row (dummy row)\n",
    "data_A = pd.DataFrame(\n",
    "    {\"Chan\": data_asym[:, 0], \"Stim\": data_asym[:, 1],\"LLz\": data_asym[:, 2], \"d\": data_asym[:, 4]})\n",
    "\n",
    "for c in range(len(labels_all)):\n",
    "    #data_A.loc[(data_A.Chan ==c), \"Recs\"]   = labels_all[c]\n",
    "    data_A.loc[(data_A.Stim ==c), \"Stim Region\"]   = labels_region[c]\n",
    "    data_A.loc[(data_A.Chan ==c), \"Resp Region\"]   = labels_region[c]\n",
    "    #data_A.loc[(data_A.Stim ==c), \"Stims\"]  = labels_all[c]\n",
    "data_A.insert(0,'Subj',subj)\n",
    "data_A=data_A.drop(data_A[data_A['Stim Region']=='OUT'].index)\n",
    "data_A=data_A.drop(data_A[data_A['Resp Region']=='OUT'].index)\n",
    "data_A=data_A.drop(data_A[data_A['Stim Region']=='WM'].index)\n",
    "data_A=data_A.drop(data_A[data_A['Resp Region']=='WM'].index)\n",
    "\n",
    "#fig, ax = plt.figure(figsize=(13,13))\n",
    "\n",
    "fig, ax     = plt.subplots(figsize=(15,12))\n",
    "plt.title(subj+' - Connections by distance and regions')\n",
    "k=0\n",
    "\n",
    "data_test = data_A[(data_A.d>7.5)] \n",
    "for i in range(len(labels_all)):\n",
    "    s = StimChanIx_sort[i]\n",
    "    ax.add_patch(Rectangle((6.5, i-0.5), 1, 1, color = color_regions[np.where(regions==labels_region[s])[0][0]]))\n",
    "    data_plot = data_test[data_test.Stim==s]\n",
    "    for j in range(len(data_plot)):\n",
    "        #plt.plot(data_plot.d.values[j], i,'o', markersize=10, c= color_regions[np.where(regions==data_plot['Resp Region'].values[j])[0][0]])\n",
    "        plt.scatter(data_plot.d.values[j], i, s=80, c=color_regions[np.where(regions==data_plot['Resp Region'].values[j])[0][0]], alpha=0.8, edgecolors=[0,0,0])\n",
    "    if any (region_border == i):\n",
    "        num= region_num[np.where(region_border==i)[0][0]]\n",
    "        t = plt.text(-x_lim/12, (i+num/2)-1, v[i], fontsize=15)\n",
    "        #t = plt.text(0.5, 0.5, 'text', transform=ax.transAxes, fontsize=30)\n",
    "        t.set_bbox(dict(facecolor=color_regions[np.where(regions==labels_region[s])[0][0]], alpha=0.5, edgecolor=color_regions[np.where(regions==labels_region[s])[0][0]]))\n",
    "\n",
    "\n",
    "plt.yticks(np.arange(len(labels_all)),labels_sort, fontsize=7)\n",
    "plt.xlim([6.5, x_lim])\n",
    "plt.ylim([-0.5, len(labels_all)-0.5])\n",
    "plt.xlabel('euclidean distance [mm]')\n",
    "filename    = path_patient + '/Analysis/BrainMapping/LL/figures/BM_plot/BM_distance.png'\n",
    "plt.savefig(filename)\n",
    "plt.show()"
   ]
  },
  {
   "cell_type": "code",
   "execution_count": null,
   "id": "later-annual",
   "metadata": {},
   "outputs": [],
   "source": [
    "#### Connections by distance\n",
    "x_lim = 35\n",
    "data_asym     = np.zeros((1,6))\n",
    "lists         = LL_CCEP[(LL_CCEP['RespC']==1)]\n",
    "lists         = lists[~np.isnan(lists.LL.values)]\n",
    "for s in range(len(labels_all)):\n",
    "    for c in range(len(labels_all)):\n",
    "        list_1 = lists[(lists.Chan==c)&(lists.Stim==s)]\n",
    "        if len(list_1)>0:\n",
    "            val         = np.zeros((1, 6))\n",
    "            val[0, 0]   = c                                         # response channel\n",
    "            val[0, 1]   = s                                         # response channel\n",
    "            val[0, 4]   = np.nanmean(list_1.d)\n",
    "            data_asym    = np.concatenate((data_asym, val), axis=0)\n",
    "data_asym = data_asym[1:-1, :] # remove first row (dummy row)\n",
    "data_A = pd.DataFrame(\n",
    "    {\"Chan\": data_asym[:, 0], \"Stim\": data_asym[:, 1], \"R\": data_asym[:, 2], \"Diff\": data_asym[:, 2], \"d\": data_asym[:, 4]})\n",
    "\n",
    "for c in range(len(labels_all)):\n",
    "    data_A.loc[(data_A.Chan ==c), \"Recs\"]   = labels_all[c]\n",
    "    data_A.loc[(data_A.Stim ==c), \"Stim Region\"]   = labels_region[c]\n",
    "    data_A.loc[(data_A.Chan ==c), \"Resp Region\"]   = labels_region[c]\n",
    "    data_A.loc[(data_A.Stim ==c), \"Stims\"]  = labels_all[c]\n",
    "data_A.insert(5,'Change',0)\n",
    "data_A=data_A.drop(data_A[data_A['Stim Region']=='OUT'].index)\n",
    "data_A=data_A.drop(data_A[data_A['Resp Region']=='OUT'].index)\n",
    "\n",
    "#fig, ax = plt.figure(figsize=(13,13))\n",
    "\n",
    "fig, ax     = plt.subplots(figsize=(15,12))\n",
    "plt.title(subj+' - Connections by distance and regions')\n",
    "k=0\n",
    "\n",
    "data_test = data_A[(data_A.d>7.5)] \n",
    "for i in range(len(labels_all)):\n",
    "    s = StimChanIx_sort[i]\n",
    "    ax.add_patch(Rectangle((6.5, i-0.5), 1, 1, color = color_regions[np.where(regions==labels_region[s])[0][0]]))\n",
    "    data_plot = data_test[data_test.Stim==s]\n",
    "    for j in range(len(data_plot)):\n",
    "        #plt.plot(data_plot.d.values[j], i,'o', markersize=10, c= color_regions[np.where(regions==data_plot['Resp Region'].values[j])[0][0]])\n",
    "        plt.scatter(data_plot.d.values[j], i, s=80, c=color_regions[np.where(regions==data_plot['Resp Region'].values[j])[0][0]], alpha=0.8, edgecolors=[0,0,0])\n",
    "    if any (region_border == i):\n",
    "        num= region_num[np.where(region_border==i)[0][0]]\n",
    "        t = plt.text(-x_lim/12, (i+num/2)-1, v[i], fontsize=15)\n",
    "        #t = plt.text(0.5, 0.5, 'text', transform=ax.transAxes, fontsize=30)\n",
    "        t.set_bbox(dict(facecolor=color_regions[np.where(regions==labels_region[s])[0][0]], alpha=0.5, edgecolor=color_regions[np.where(regions==labels_region[s])[0][0]]))\n",
    "\n",
    "\n",
    "plt.yticks(np.arange(len(labels_all)),labels_sort, fontsize=7)\n",
    "plt.xlim([6.5, x_lim])\n",
    "plt.ylim([-0.5, len(labels_all)-0.5])\n",
    "plt.xlabel('euclidean distance [mm]')\n",
    "filename    = path_patient + '/Analysis/BrainMapping/LL/figures/BM_plot/BM_distance.png'\n",
    "plt.savefig(filename)\n",
    "plt.show()"
   ]
  },
  {
   "cell_type": "code",
   "execution_count": null,
   "id": "excessive-thickness",
   "metadata": {
    "scrolled": true
   },
   "outputs": [],
   "source": [
    "r = 1 #&(LL_CCEP['LL'] <1)\n",
    "a = 1\n",
    "d = 10\n",
    "dat      = LL_CCEP[(~np.isnan(LL_CCEP['LL']))&(LL_CCEP['d'] >d)&(LL_CCEP['RespC'] ==1)]\n",
    "\n",
    "k        = np.random.randint(0, len(dat))\n",
    "stimNum  = np.int64(dat.Num.values[k])\n",
    "sc       = np.int64(dat.Stim.values[k])\n",
    "rc       = np.int64(dat.Chan.values[k])\n",
    "plot_trial(sc, rc, stimNum, LL_CCEP,EEG_resp)"
   ]
  },
  {
   "cell_type": "markdown",
   "id": "fleet-facing",
   "metadata": {},
   "source": [
    "w =0.1\n",
    "d = 10\n",
    "#r = 1\n",
    "#c = 1\n",
    "dat      = LL_CCEP[~(LL_CCEP['Chan'].isin(bad_chans))&(LL_CCEP['d'] >d)&(LL_CCEP['RespC']==1)]\n",
    "#\n",
    "k        = np.random.randint(0, len(dat))\n",
    "stimNum  = np.int64(dat.Num.values[k])\n",
    "sc = np.int64(dat.Stim.values[k])\n",
    "rc = np.int64(dat.Chan.values[k])\n",
    "#sc = 10\n",
    "#rc= 60\n",
    "j = 3\n",
    "win_t = 1 *w\n",
    "lists          = LL_CCEP[(LL_CCEP['Chan']==rc)&(LL_CCEP['Stim']==sc)]\n",
    "lists          = lists[~np.isnan(lists.zLL.values)]\n",
    "stimNum_all    = lists.Num.values.astype('int')\n",
    "n= 100\n",
    "if len(stimNum_all)>0:\n",
    "    list_BL        = LL_CCEP[(LL_CCEP['d']>20)&(LL_CCEP['Chan']==rc)&~(LL_CCEP['Stim']==sc)&~np.isnan(LL_CCEP.zLL.values)]\n",
    "    stimNum_BL     = list_BL.Num.values.astype('int')\n",
    "    resp_BL        = np.zeros((n, np.sum(abs(dur))*Fs))\n",
    "    for k in range(n):\n",
    "        resp_BL[k,:] = ff.lp_filter(np.nanmean(EEG_resp[rc,np.random.choice(stimNum_BL, len(stimNum_all)),:],0),45,Fs)\n",
    "    LL_BL     = LL_funcs.get_LL_all(np.expand_dims(resp_BL, axis=0), Fs, w, 1, 0)\n",
    "    LL_BL     = LL_BL[0]\n",
    "\n",
    "    resp       = ff.lp_filter(np.nanmean(EEG_resp[rc,stimNum_all,:],0),45,Fs)\n",
    "    LL_resp    = LL_funcs.get_LL_all(np.expand_dims(np.expand_dims(resp, axis=0),0), Fs, w, 1, 0)\n",
    "    LL_resp    = LL_resp[0,0]\n",
    "\n",
    "    LL_meregd  = np.concatenate([LL_BL, np.expand_dims(LL_resp,0)])\n",
    "    #thr        = np.percentile(LL_meregd[0:np.int64((1-w/2-0.05)*Fs)],99)\n",
    "    thr        = np.percentile(LL_BL[0:np.int64((2.5)*Fs)],99)\n",
    "    if  all(LL_resp[np.int64((1.01+w/2)*Fs):np.int64((1.01+win_t)*Fs)]>thr):\n",
    "        print('yes')\n",
    "\n",
    "                \n",
    "    #resp           = ff.lp_filter(np.nanmean(EEG_resp[rc,stimNum_all,:],0),10,Fs)\n",
    "    fig   = plt.figure(figsize=(10,10) )\n",
    "    plt.suptitle(labels_clinic[sc]+' -- '+labels_clinic[rc]+', Distance: '+str(np.round(lists.d.values[0],2))+'mm')\n",
    "    gs    = fig.add_gridspec(2,1)  # GridSpec(4,1, height_ratios=[1,2,1,2])\n",
    "    ax   = fig.add_subplot(gs[0,0])\n",
    "# \n",
    "    plt.xlim([-1, 1])\n",
    "    # \n",
    "    plt.axvspan(0.01, w, alpha=0.2, color=[1,0,0])\n",
    "    plt.axvspan(0.01+win_t-w/2,0.01+win_t+w/2, color=[1,0.5,0], alpha=0.1)\n",
    "    for k in range(len(stimNum_all)):\n",
    "         plt.plot(x_ax, ff.lp_filter(EEG_resp[rc,stimNum_all[k],:],45,Fs), c=color_elab[0], linewidth=1)\n",
    "    plt.plot(x_ax,resp, c=[0,0,0], linewidth=3, label='mean resp, n:'+str(len(stimNum_all)))\n",
    "    plt.title('Mean Responses + single trial')\n",
    "    # #plt.legend(bbox_to_anchor=(1.05,1), loc='upper left')\n",
    "    plt.ylim([-np.min([np.max([200,np.max(abs(resp))*2]),800]),np.min([np.max([200,np.max(abs(resp))*2]),800])])\n",
    "    # #plt.ylim([-100,100])\n",
    "    plt.ylabel('[uV]')\n",
    "    plt.axvline(0, c=[0,0,0])\n",
    "    ax   = fig.add_subplot(gs[1,0], sharex=ax)\n",
    "# \n",
    "    # \n",
    "    # LL_resp   = LL_funcs.get_LL_all(np.expand_dims(np.expand_dims(resp, axis=0),0), Fs, w, 1, 0)\n",
    "    # LL_resp   = LL_resp[0,0]\n",
    "    plt.axvline(0, c=[0,0,0])\n",
    "    for k in range(n):\n",
    "         plt.plot(x_ax, LL_BL[k], c=color_elab[2], linewidth=1)\n",
    "    plt.plot(x_ax,LL_resp, c=[0,0,0], linewidth=3)\n",
    "    #plt.plot(x_ax, scipy.stats.zscore(LL_resp)/10, linewidth=3 )\n",
    "    # #plt.plot(np.argmax(LL_resp[np.int64(Fs*(1.01+w/2)):np.int64(Fs*(1.01+1.5*w))])/Fs+0.01+w/2,np.max(LL_resp[np.int64(Fs*(1.01+w/2)):np.int64(Fs*(1.01+1.5*w))]), 'or')\n",
    "    plt.title('LL of Mean Responses (surrogates)')\n",
    "    # #LL_meregd = np.concatenate([LL_BL, np.expand_dims(LL_resp,0)])\n",
    "# \n",
    "    # \n",
    "    plt.ylim([0,np.max([2,np.max(LL_resp[np.int64(Fs*(0.5+w/2)):np.int64(Fs*(2.01+w/2))])*1.1])])\n",
    "    # #plt.ylim([0,1.5])\n",
    "    # plt.ylabel('0.25s LL [uV/ms]')\n",
    "# \n",
    "    # thr        = np.percentile(LL_resp[0:np.int64((1-w/2)*Fs)],99)\n",
    "    plt.axhline(thr, c=[1,0,0], label ='99th percentile')#0:np.int64((1-w/2)*Fs)\n",
    "    plt.axvline(0.01+w/2, c=[1,0,0], alpha=0.8)\n",
    "    plt.axvline(0.01+win_t, c=[1,0.5,0], alpha=0.8)\n",
    "    plt.ylabel('[uV/ms]')\n"
   ]
  },
  {
   "cell_type": "code",
   "execution_count": null,
   "id": "mediterranean-cooling",
   "metadata": {},
   "outputs": [],
   "source": [
    "stop"
   ]
  },
  {
   "cell_type": "markdown",
   "id": "further-annex",
   "metadata": {},
   "source": [
    "## check for benzo change"
   ]
  },
  {
   "cell_type": "code",
   "execution_count": null,
   "id": "polar-russell",
   "metadata": {},
   "outputs": [],
   "source": [
    "def get_mean_BL_B(sc, rc, LL_CCEP, conds=[1,3], w=0.25):\n",
    "    rc = np.int64(rc)\n",
    "    sc = np.int64(sc)\n",
    "    lists  = LL_CCEP[(LL_CCEP['Chan']==rc)&(LL_CCEP['Stim']==sc)]\n",
    "    lists  = lists[~np.isnan(lists.zLL.values)]\n",
    "    sig = 1\n",
    "    k         = 1\n",
    "    n         = 3\n",
    "    EEG = np.zeros((1,2000))\n",
    "    for i in range(len(conds)):\n",
    "        cs        = conds[i]\n",
    "        list_cond = lists[lists.Condition==cs]\n",
    "        stimNum                  = list_cond.Num.values.astype('int')\n",
    "        if len(stimNum)<n:\n",
    "            n = len(stimNum)\n",
    "        if cs==3:\n",
    "            k = -1\n",
    "        EEG = np.concatenate([EEG, k*EEG_resp[rc,stimNum[0:n],:]])\n",
    "    EEG = EEG[1:,:]\n",
    "    resp       = np.nanmean(EEG[:,:],0)\n",
    "    LL_resp    = LL_funcs.get_LL_all(np.expand_dims(np.expand_dims(resp, axis=0),0), Fs, w, 1, 0)\n",
    "    LL_resp    = LL_resp[0,0]\n",
    "    thr        = np.percentile(LL_resp[0:np.int64((1-w)*Fs)],99)\n",
    "    # if  all(LL_resp[np.int64((1.01+w/2)*Fs):np.int64((1.01+w)*Fs)]>thr):\n",
    "    #     sig = 2\n",
    "    if  np.max(LL_resp[np.int64((1.01+w/2)*Fs):np.int64((1.01+w)*Fs)])>thr:\n",
    "        sig = 2\n",
    "    return sig"
   ]
  },
  {
   "cell_type": "code",
   "execution_count": null,
   "id": "expressed-philosophy",
   "metadata": {},
   "outputs": [],
   "source": [
    "conds = [0,1,3]\n",
    "d = 10\n",
    "dat      = LL_CCEP[(LL_CCEP['Int']==3)&(LL_CCEP['Benzo']==2)&(~np.isnan(LL_CCEP['LL']))&(LL_CCEP['d'] >d)]\n",
    "\n",
    "k        = np.random.randint(0, len(dat))\n",
    "stimNum  = np.int64(dat.Num.values[k])\n",
    "sc       = np.int64(dat.Stim.values[k])\n",
    "rc       = np.int64(dat.Chan.values[k])\n",
    "plot_conds(sc, rc, LL_CCEP, conds, EEG_resp)"
   ]
  },
  {
   "cell_type": "code",
   "execution_count": null,
   "id": "laden-wireless",
   "metadata": {},
   "outputs": [],
   "source": [
    "def plot_sub(sc, rc, LL_CCEP):\n",
    "    lists  = LL_CCEP[(LL_CCEP['Chan']==rc)&(LL_CCEP['Stim']==sc)]\n",
    "    lists  = lists[~np.isnan(lists.zLL.values)]\n",
    "    w = 0.25\n",
    "    conds_sel = [1,3]\n",
    "    k         = 1\n",
    "    fig       = plt.figure(figsize=(10, (len(conds_sel))*3))\n",
    "    gs        = fig.add_gridspec(len(conds_sel),2, width_ratios=[1,2])  # GridSpec(4,1, height_ratios=[1,2,1,2])\n",
    "    plt.suptitle(labels_all[sc]+'-->'+labels_all[rc], y=1.01)\n",
    "    n = 3\n",
    "    EEG = np.zeros((1,2000))\n",
    "    cols = []\n",
    "    for i in range(len(conds_sel)):\n",
    "        ax         = fig.add_subplot(gs[i,0])\n",
    "        cs        = conds_sel[i]\n",
    "        list_cond = lists[lists.Condition==cs]\n",
    "        stimNum                  = list_cond.Num.values.astype('int')\n",
    "        plt.xlabel('')\n",
    "        if len(stimNum)<n:\n",
    "            n = len(stimNum)\n",
    "        if cs==3:\n",
    "            k = -1\n",
    "            plt.xlabel('time [s]')\n",
    "        for j in range(len(stimNum)):\n",
    "            plt.plot(x_ax,EEG_resp[rc,stimNum[j],:], c=cond_colors[np.where(cond_vals==conds_sel[i])[0][0]], linewidth=1)\n",
    "        plt.plot(x_ax,np.mean(EEG_resp[rc,stimNum,:],0), c=[0,0,0], linewidth=3)\n",
    "        #plt.plot(x_ax,ff.lp_filter(EEG_resp[rc,stimNum,:],45,Fs), c=color_elab[0], linewidth=2, label='trial')\n",
    "        plt.axvline(0, c=[0,0,0])\n",
    "\n",
    "        plt.xlim([-0.2,0.5])\n",
    "        plt.ylim([-400,400])\n",
    "        plt.title(cond_labels[np.where(cond_vals==conds_sel[i])[0][0]]+', mean LL: '+str(round(np.mean(list_cond.LL),2))+'uV/ms')\n",
    "        EEG = np.concatenate([EEG, k*EEG_resp[rc,stimNum[0:n],:]])\n",
    "    EEG = EEG[1:,:]\n",
    "\n",
    "    ax         = fig.add_subplot(gs[0,1])\n",
    "    for j in range(len(EEG)):\n",
    "        if j < len(EEG)/2:\n",
    "            col = cond_colors[1]\n",
    "        else:\n",
    "            col = cond_colors[3]\n",
    "        plt.plot(x_ax,EEG[j], c=col, linewidth=1)\n",
    "    plt.plot(x_ax,np.mean(EEG,0), c=[0,0,0], linewidth=3)    \n",
    "    plt.axvline(0, c=[0,0,0])\n",
    "    plt.xlim([-0.5,0.9])\n",
    "    plt.ylim([-150,150])\n",
    "    plt.title('(+)BL - (-)Benzo ')\n",
    "    ax         = fig.add_subplot(gs[1,1], sharex=ax)\n",
    "    plt.title('LL of mean +BL, -Benzo')\n",
    "    LL_resp    = LL_funcs.get_LL_all(np.expand_dims(np.expand_dims(np.mean(EEG,0), axis=0),0), Fs, w, 1, 0)\n",
    "    LL_resp    = LL_resp[0,0]\n",
    "    mx = np.max(LL_resp[np.int64((1.01+w/2)*Fs):np.int64((1.01+w)*Fs)])\n",
    "    loc = np.argmax(LL_resp[np.int64((1.01+w/2)*Fs):np.int64((1.01+w)*Fs)])\n",
    "    thr        = np.percentile(LL_resp[0:np.int64((0.9-w/2)*Fs)],99)\n",
    "    plt.plot(x_ax,LL_resp, c=[0,0,0], linewidth=3)\n",
    "    plt.plot(0.01+w/2+loc/Fs, mx, 'or')\n",
    "    plt.axvline(0, c=[0,0,0])\n",
    "    plt.axhline(thr, c=[1,0,0])\n",
    "    plt.text(-0.1,1.1*thr, '99th', c=[1,0,0] )\n",
    "    plt.ylim([0,np.max([0.5,1.1*mx, 1.5*thr])])\n",
    "    plt.xlabel('time [s]')\n",
    "    plt.ylabel('LL [uV/ms], w='+str(w)+'s')\n",
    "    plt.tight_layout()"
   ]
  },
  {
   "cell_type": "code",
   "execution_count": null,
   "id": "activated-bullet",
   "metadata": {},
   "outputs": [],
   "source": [
    "def plot_trial(sc, rc, stimNum, LL_CCEP,EEG_resp):\n",
    "    t_0 = 1\n",
    "    lists  = LL_CCEP[(LL_CCEP['Chan']==rc)&(LL_CCEP['Stim']==sc)]\n",
    "    lists  = lists[~np.isnan(lists.zLL.values)]\n",
    "\n",
    "    fig   = plt.figure(figsize=(12,7) )\n",
    "    #plt.title(labels_all[Stim_chs]+' -- '+labels_clinic[rc])\n",
    "    plt.title(labels_all[sc]+' -- '+labels_all[rc]+', Dist: '+str(np.round(lists.d.values[0]))+'mm')\n",
    "    plt.xlim([-0.6,1])\n",
    "    plt.ylim([-np.max([np.max(EEG_resp[rc,stimNum,:])*1.1,300]),np.max([np.max(EEG_resp[rc,stimNum,:])*1.1,300])])\n",
    "    plt.axvline(0, c=[0,0,0])\n",
    "    plt.xlabel('time [s]')\n",
    "    plt.text(-0.3, 200, 'rLL: '+str(np.round(dat.rLL.values[k],2)), c=[1-r,0,0])\n",
    "    plt.text(-0.3, 300, 'zLL: '+str(np.round(dat.zLL.values[k],2)), c=[0,0,0])\n",
    "    plt.text(-0.3, 100, 'LL: '+str(np.round(dat.LL.values[k],2)), c=[0,0,0])\n",
    "\n",
    "\n",
    "    #stim_spec                = stimlist[(stimlist.condition>0)&(stimlist.ChanP==ChanP)&(stimlist.IPI_ms ==0)&(stimlist.noise ==0)]#&(stimlist.noise ==0)\n",
    "    stimNum_all                  = lists.Num.values.astype('int')\n",
    "    plt.plot(x_ax,ff.lp_filter(np.mean(EEG_resp[rc,stimNum_all,:],0),45,Fs), c=[0,0,0], linewidth=1, label='mean, n='+str(len(stimNum_all)))\n",
    "    plt.plot(x_ax,ff.lp_filter(EEG_resp[rc,stimNum,:],45,Fs), c=color_elab[0], linewidth=2, label='trial')\n",
    "    #plt.axvspan(t_0+w_r-1, t_0-1+w_LL, alpha=0.3, color=color_elab[0])\n",
    "    #plt.axvspan(t_0+0.015-1, t_0+w_r-1, alpha=0.8, color=color_elab[1])\n",
    "    #plt.axvspan(t_0+0.015-1-0.2, t_0+w_r-1-0.2, alpha=0.8, color=color_elab[1])\n",
    "    plt.legend()\n",
    "    plt.show()"
   ]
  },
  {
   "cell_type": "code",
   "execution_count": null,
   "id": "yellow-tiffany",
   "metadata": {},
   "outputs": [],
   "source": [
    "data_asym     = np.zeros((1,6))\n",
    "lists         = LL_CCEP[(LL_CCEP['RespC']==1)]\n",
    "lists         = lists[~np.isnan(lists.LL.values)]\n",
    "stims         = np.unique(lists.Stim)\n",
    "for sc in stims:\n",
    "    resps = np.unique(lists.loc[(lists.Stim==sc), 'Chan'])\n",
    "    for rc in resps:\n",
    "        list_1 = lists[(lists.Chan==rc)&(lists.Stim==sc)]\n",
    "        val         = np.zeros((1, 6))\n",
    "        val[0, 0]   = rc                                         # response channel\n",
    "        val[0, 1]   = sc                                         # response channel\n",
    "        val[0, 2]   = np.mean(list_1.loc[list_1.Condition==1, 'LL'])/np.mean(list_1.loc[list_1.Condition==3, 'LL'])\n",
    "        val[0, 3]   = np.nanmean(list_1.Benzo)\n",
    "        val[0, 4]   = np.nanmean(list_1.d)\n",
    "        data_asym    = np.concatenate((data_asym, val), axis=0)\n",
    "data_asym = data_asym[1:-1, :] # remove first row (dummy row)\n",
    "data_A = pd.DataFrame(\n",
    "    {\"Chan\": data_asym[:, 0], \"Stim\": data_asym[:, 1], \"Benzo\": data_asym[:, 3], \"Ratio\": data_asym[:, 2], \"d\": data_asym[:, 4]})\n",
    "\n",
    "for c in range(len(labels_all)):\n",
    "    data_A.loc[(data_A.Chan ==c), \"Recs\"]   = labels_all[c]\n",
    "    data_A.loc[(data_A.Stim ==c), \"Stim Region\"]   = labels_region[c]\n",
    "    data_A.loc[(data_A.Chan ==c), \"Resp Region\"]   = labels_region[c]\n",
    "    data_A.loc[(data_A.Stim ==c), \"Stims\"]  = labels_all[c]\n",
    "data_A.insert(5,'Change',0)\n",
    "data_A.loc[(data_A.Benzo==2)&(data_A.Ratio<1), 'Change'] = 1 # BZD increases LL\n",
    "data_A.loc[(data_A.Benzo==2)&(data_A.Ratio>1), 'Change'] = -1 #BZD decreases LL\n",
    "\n",
    "data_A=data_A.drop(data_A[data_A['Stim Region']=='OUT'].index)\n",
    "data_A=data_A.drop(data_A[data_A['Resp Region']=='OUT'].index)\n",
    "\n"
   ]
  },
  {
   "cell_type": "code",
   "execution_count": null,
   "id": "palestinian-injection",
   "metadata": {},
   "outputs": [],
   "source": [
    "#fig, ax = plt.figure(figsize=(13,13))\n",
    "\n",
    "fig, ax     = plt.subplots(figsize=(15,12))\n",
    "plt.title(subj+' - Connections by distance and regions')\n",
    "k=0\n",
    "xlim = 35\n",
    "data_test = data_A[(data_A.Benzo==1)&(data_A.d>7.5)] ##all significant connections\n",
    "for i in range(len(labels_all)):\n",
    "    s = StimChanIx_sort[i]\n",
    "    ax.add_patch(Rectangle((6.5, i-0.5), 1, 1, color = color_regions[np.where(regions==labels_region[s])[0][0]]))\n",
    "    data_plot = data_test[data_test.Stim==s]\n",
    "    for j in range(len(data_plot)):\n",
    "        #plt.plot(data_plot.d.values[j], i,'o', markersize=10, c= color_regions[np.where(regions==data_plot['Resp Region'].values[j])[0][0]])\n",
    "        plt.scatter(data_plot.d.values[j], i, s=80, marker = '+',c=color_regions[np.where(regions==data_plot['Resp Region'].values[j])[0][0]], alpha=0.5, edgecolors=[0,0,0])\n",
    "\n",
    "\n",
    "        \n",
    "data_test = data_A[(data_A.Ratio<1)&(data_A.Benzo==2)&(data_A.d>7.5)] \n",
    "for i in range(len(labels_all)):\n",
    "    s = StimChanIx_sort[i]\n",
    "    ax.add_patch(Rectangle((6.5, i-0.5), 1, 1, color = color_regions[np.where(regions==labels_region[s])[0][0]]))\n",
    "    data_plot = data_test[data_test.Stim==s]\n",
    "    for j in range(len(data_plot)):\n",
    "        #plt.plot(data_plot.d.values[j], i,'o', markersize=10, c= color_regions[np.where(regions==data_plot['Resp Region'].values[j])[0][0]])\n",
    "        plt.scatter(data_plot.d.values[j], i, s=80, marker = 'o',c=color_regions[np.where(regions==data_plot['Resp Region'].values[j])[0][0]], alpha=0.8, edgecolors=[0,0,0])\n",
    "        \n",
    "data_test = data_A[(data_A.Ratio>1)&(data_A.Benzo==2)&(data_A.d>7.5)] \n",
    "for i in range(len(labels_all)):\n",
    "    s = StimChanIx_sort[i]\n",
    "    ax.add_patch(Rectangle((6.5, i-0.5), 1, 1, color = color_regions[np.where(regions==labels_region[s])[0][0]]))\n",
    "    data_plot = data_test[data_test.Stim==s]\n",
    "    for j in range(len(data_plot)):\n",
    "        #plt.plot(data_plot.d.values[j], i,'o', markersize=10, c= color_regions[np.where(regions==data_plot['Resp Region'].values[j])[0][0]])\n",
    "        scatter = plt.scatter(data_plot.d.values[j], i, s=80, marker = 'd',c=color_regions[np.where(regions==data_plot['Resp Region'].values[j])[0][0]], alpha=0.8, edgecolors=[0,0,0])\n",
    "    if any (region_border == i):\n",
    "        num= region_num[np.where(region_border==i)[0][0]]\n",
    "        t = plt.text(-xlim/10, (i+num/2)-1, v[i], fontsize=15)\n",
    "        #t = plt.text(0.5, 0.5, 'text', transform=ax.transAxes, fontsize=30)\n",
    "        t.set_bbox(dict(facecolor=color_regions[np.where(regions==labels_region[s])[0][0]], alpha=0.5, edgecolor=color_regions[np.where(regions==labels_region[s])[0][0]]))\n",
    "\n",
    "plt.plot(-100, -100, marker = '+',c=[0,0,0], label ='no effect')\n",
    "plt.plot(-100, -100, marker = 'o',c=[0,0,0], label ='increase')\n",
    "plt.plot(-100, -100, marker = 'd',c=[0,0,0], label ='decrease')\n",
    "plt.legend()\n",
    "plt.yticks(np.arange(len(labels_all)),labels_sort, fontsize=7)\n",
    "plt.xlim([6.5, xlim])\n",
    "plt.ylim([-0.5, len(labels_all)-0.5])\n",
    "plt.xlabel('euclidean distance [mm]')\n",
    "\n",
    "plt.show()"
   ]
  },
  {
   "cell_type": "markdown",
   "id": "resistant-bennett",
   "metadata": {},
   "source": [
    "## PCIst"
   ]
  },
  {
   "cell_type": "markdown",
   "id": "spanish-desert",
   "metadata": {},
   "source": [
    "https://github.com/renzocom/PCIst"
   ]
  },
  {
   "cell_type": "code",
   "execution_count": null,
   "id": "loaded-beads",
   "metadata": {},
   "outputs": [],
   "source": [
    "par      = {'baseline_window':(-0.5, -0.02), 'response_window':(0.02,0.5), 'k':1.2, 'min_snr':1.1, 'max_var':99, 'embed':False,'n_steps':5} #\n",
    "conds     = np.unique(LL_CCEP.Condition)\n",
    "M_PCI    = np.zeros((len(np.unique(LL_CCEP.Stim)), len(conds)))\n",
    "resp_all = np.zeros((len(np.unique(LL_CCEP.Stim)), len(labels_all),len(conds), 2000))\n",
    "for i in range(len(conds)):\n",
    "    cond = conds[i]\n",
    "    for j in range(len(np.unique(LL_CCEP.Stim))):\n",
    "        sc      = np.int64(np.sort(np.unique(LL_CCEP.Stim))[j])\n",
    "        \n",
    "        lists     = LL_CCEP[(LL_CCEP['Stim']==sc)&(LL_CCEP['Condition']==cond)]\n",
    "        if len(lists)>0:\n",
    "            list_nan  = lists[np.isnan(lists.LL.values)]\n",
    "            stimNum   = np.int64(np.unique(lists.Num))\n",
    "            resp      = ff.lp_filter(EEG_resp[:,stimNum,:],40,Fs)\n",
    "            # remove bad combinations\n",
    "            for k in range(len(list_nan)):\n",
    "                n = np.int64(list_nan.Num.values[k])\n",
    "                n = np.where(stimNum== n)[0][0]\n",
    "                resp[np.int64(list_nan.Chan.values[k]),n,:] = np.nan\n",
    "            if len(resp)>0:\n",
    "                mean_resp          = np.nanmean(resp, 1)\n",
    "                resp_all[j,:,i,:]  = mean_resp\n",
    "                if np.nanmean(abs(mean_resp))>0: \n",
    "                    PCIst              =  pci.calc_PCIst(np.nan_to_num(mean_resp), np.arange(-1,3, 1/Fs), **par)\n",
    "                    M_PCI[j,i]         = PCIst\n",
    "                else:# if all data are nan\n",
    "                    M_PCI[j,i]         = -1\n",
    "        else:\n",
    "                M_PCI[j,i]         = -1\n",
    "                resp_all[j,:,i,:]  = np.nan\n",
    "                \n",
    "labels_stims = labels_all[np.int64(np.sort(np.unique(LL_CCEP.Stim)))]"
   ]
  },
  {
   "cell_type": "code",
   "execution_count": null,
   "id": "needed-snowboard",
   "metadata": {},
   "outputs": [],
   "source": [
    "np.save(path_patient + '/Analysis/BrainMapping/PCI/PCI_h.npy', M_PCI)"
   ]
  },
  {
   "cell_type": "code",
   "execution_count": null,
   "id": "prerequisite-background",
   "metadata": {},
   "outputs": [],
   "source": [
    "try:\n",
    "    os.mkdir(path_patient + '/Analysis/BrainMapping/PCI/figures/')\n",
    "    os.mkdir( path_patient + '/Analysis/BrainMapping/PCI/')\n",
    "    \n",
    "except OSError:\n",
    "    print(\"test already exists\")\n",
    "filename     = path_patient + '/Analysis/BrainMapping/PCI/figures/PCI_hours.png'\n"
   ]
  },
  {
   "cell_type": "code",
   "execution_count": null,
   "id": "sitting-afghanistan",
   "metadata": {},
   "outputs": [],
   "source": [
    "cond_label = ['BM', 'BL', 'Benzo']"
   ]
  },
  {
   "cell_type": "code",
   "execution_count": null,
   "id": "cheap-novel",
   "metadata": {},
   "outputs": [],
   "source": [
    "LL_CCEP[(LL_CCEP.Chan==65)&(LL_CCEP.Stim==61)]"
   ]
  },
  {
   "cell_type": "code",
   "execution_count": null,
   "id": "played-deadline",
   "metadata": {},
   "outputs": [],
   "source": [
    "sc = 55\n",
    "fig, axs = plt.subplots(3,1, figsize=(8,8), facecolor='w', edgecolor='k')\n",
    "fig.subplots_adjust(hspace = .1, wspace=.1)\n",
    "plt.suptitle(labels_stims[sc])\n",
    "axs = axs.ravel()\n",
    "for i in range(3):\n",
    "    axs[i].set_title(cond_label[i]+', PCI: '+str(np.round(M_PCI[sc,i])))\n",
    "    axs[i].set_yticks([])\n",
    "    axs[i].set_xticks([])\n",
    "    axs[i].set_ylim(-700, 700)\n",
    "    axs[i].set_xlim(-0.5, 1)\n",
    "    axs[i].axvline(0, c=[0,0,0])\n",
    "    for c in range(len(labels_all)):\n",
    "        axs[i].plot(x_ax,resp_all[sc,c,i,:] )\n",
    "plt.xticks([-0.5, 0, 0.5])\n",
    "plt.xlabel('time [s]')\n",
    "plt.tight_layout()"
   ]
  },
  {
   "cell_type": "code",
   "execution_count": null,
   "id": "legislative-authentication",
   "metadata": {
    "scrolled": false
   },
   "outputs": [],
   "source": [
    "filename     = path_patient + '/Analysis/BrainMapping/PCI/figures/PCI_hours.png'\n",
    "\n",
    "# Plot distance matrix.\n",
    "#cmap     = ListedColormap(['r', 'k', 'w'])\n",
    "fig      = pylab.figure(figsize=(15,15))\n",
    "axmatrix = fig.add_axes([0.15,0.05,0.7,0.9])#fig.add_axes([0.4,0.1,0.6,0.6])\n",
    "\n",
    "im = axmatrix.matshow(M_PCI, aspect='auto', origin='lower',cmap='hot', vmin=np.percentile(M_PCI,10), vmax=np.percentile(M_PCI,95))\n",
    "\n",
    "plt.xticks(np.arange(3), cond_label);\n",
    "plt.xlabel('Condition')\n",
    "plt.yticks(range(len(StimChans)), labels_stims);\n",
    "#plt.axvline(15, c=[0,0,0], linewidth=35)\n",
    "# Plot colorbar.\n",
    "axcolor = fig.add_axes([0.9,0.05,0.01,0.9])\n",
    "pylab.colorbar(im, cax=axcolor)\n",
    "plt.savefig(filename)\n"
   ]
  },
  {
   "cell_type": "markdown",
   "id": "ideal-wright",
   "metadata": {},
   "source": [
    "## CCEP CR"
   ]
  },
  {
   "cell_type": "code",
   "execution_count": null,
   "id": "stretch-burns",
   "metadata": {},
   "outputs": [],
   "source": [
    "LL_CCEP = pd.read_csv(path_patient + '/Analysis/BrainMapping/LL/LL_CCEP_'+str(exp)+'_'+str(w)+'s.csv')"
   ]
  },
  {
   "cell_type": "code",
   "execution_count": null,
   "id": "bigger-beast",
   "metadata": {},
   "outputs": [],
   "source": [
    "hours    = np.unique(LL_CCEP.Hour)\n",
    "StimChanNums = np.sort(StimChanIx)\n",
    "M_hour   = np.zeros((len(labels_all), len(labels_all), 3))\n",
    "M_resp   = np.zeros((len(labels_all), len(labels_all)))\n",
    "\n",
    "for sc in range(len(StimChans)):\n",
    "    s  = StimChanNums[sc]\n",
    "    dat = LL_CCEP.loc[(LL_CCEP.Stim ==s)]\n",
    "    if len(dat)>0:\n",
    "        for c in range(len(labels_all)):\n",
    "            z_mean       = np.nanmean(dat.loc[(dat.Chan ==c), 'RespC'].values)\n",
    "            M_resp[s,c] = z_mean\n",
    "            if s == c:\n",
    "                M_resp[s,c] = -1\n",
    "            if z_mean ==1:\n",
    "                for hs in range(3):\n",
    "                    M_hour[s,c,hs] = np.nanmean(dat.loc[(dat.Condition ==conds[hs])&(dat.Chan ==c), 'LL'].values)\n",
    "            \n",
    "M_hour=np.nan_to_num(M_hour, -2)\n",
    "M_hour[:,bad_chans,:] = -2\n",
    "M_resp[:,bad_chans] = 0\n"
   ]
  },
  {
   "cell_type": "code",
   "execution_count": null,
   "id": "civic-stomach",
   "metadata": {},
   "outputs": [],
   "source": [
    "# Plot distance matrix.\n",
    "cmap     = ListedColormap(['r', 'k', 'w'])\n",
    "fig      = pylab.figure(figsize=(20,20))\n",
    "axmatrix = fig.add_axes([0.15,0.15,0.9,0.9])\n",
    "\n",
    "im = axmatrix.matshow(M_resp, aspect='auto', origin='lower',cmap= cmap)\n",
    "\n",
    "plt.xticks(range(len(labels_all)), labels_all, rotation=90);\n",
    "plt.yticks(range(len(labels_all)), labels_all);\n",
    "\n",
    "plt.show()"
   ]
  },
  {
   "cell_type": "code",
   "execution_count": null,
   "id": "accompanied-portrait",
   "metadata": {},
   "outputs": [],
   "source": [
    "##test single plot\n",
    "h        = 0\n",
    "fig      = pylab.figure(figsize=(20,20))\n",
    "axmatrix = fig.add_axes([0.1,0.1,0.9,0.9])\n",
    "\n",
    "im = axmatrix.matshow(M_hour[:,:,h], aspect='auto', origin='lower', cmap='hot', vmin=1, vmax=10)\n",
    "\n",
    "plt.xticks(range(len(labels_all)), labels_all, rotation=90)\n",
    "plt.yticks(range(len(labels_all)), labels_all)\n",
    "plt.xlabel(str(h)+':00', fontsize=16)\n",
    "plt.show()"
   ]
  },
  {
   "cell_type": "code",
   "execution_count": null,
   "id": "ranging-tuition",
   "metadata": {},
   "outputs": [],
   "source": [
    "plot_LL_dist(LL_CCEP, [1,3])"
   ]
  },
  {
   "cell_type": "code",
   "execution_count": null,
   "id": "unknown-workstation",
   "metadata": {},
   "outputs": [],
   "source": [
    "## GIF BM\n",
    "path_fig  = path_patient + '/Analysis/BrainMapping/LL/figures/BM_plot'\n",
    "n_frames   = len(conds)\n",
    "if not os.path.exists(path_fig):\n",
    "    os.makedirs(path_fig)\n",
    "    \n",
    "print('Creating charts\\n')\n",
    "filenames = []\n",
    "for i in np.arange(n_frames):\n",
    "    fig      = pylab.figure(figsize=(20,20))\n",
    "    axmatrix = fig.add_axes([0.1,0.1,0.8,0.8])\n",
    "\n",
    "    im = axmatrix.matshow(M_hour[:,:,i], aspect='auto', origin='lower', cmap='hot', vmin=0.5, vmax=10)\n",
    "\n",
    "    plt.xticks(range(len(labels_all)), labels_all, rotation=90)\n",
    "    plt.yticks(range(len(labels_all)), labels_all)\n",
    "    plt.xlabel(cond_label[i], fontsize=16)\n",
    "    # build file name and append to list of file names\n",
    "    filename = path_fig+'/frame_'+str(i)+'.png'\n",
    "    filenames.append(filename)\n",
    "\n",
    "    # save img\n",
    "    plt.savefig(filename)\n",
    "    plt.close()\n",
    "print('Charts saved\\n')\n",
    "# Build GIF\n",
    "print('Creating gif\\n')\n",
    "with imageio.get_writer(path_fig+'/scatter.gif', mode='I') as writer:\n",
    "    for filename in filenames:\n",
    "        image = imageio.imread(filename)\n",
    "        writer.append_data(image)\n",
    "print('Gif saved\\n')\n",
    "print('Removing Images\\n')\n",
    " # Remove files\n",
    "#for filename in set(filenames):\n",
    "#    os.remove(filename)\n",
    "print('DONE')"
   ]
  },
  {
   "cell_type": "markdown",
   "id": "aboriginal-brooklyn",
   "metadata": {},
   "source": [
    "## Asymmetry"
   ]
  },
  {
   "cell_type": "code",
   "execution_count": null,
   "id": "legislative-percentage",
   "metadata": {},
   "outputs": [],
   "source": [
    "stim_av = StimChanIx\n",
    "for i in range(len(bad_chans)):\n",
    "    stim_av = np.delete(stim_av, np.where(stim_av==bad_chans[i]))"
   ]
  },
  {
   "cell_type": "code",
   "execution_count": null,
   "id": "electronic-hawaii",
   "metadata": {},
   "outputs": [],
   "source": [
    "##all \n",
    "cond_vals   = np.arange(4)\n",
    "cond_labels = ['BM', 'BL', 'Fuma', 'Benzo']\n",
    "cond_colors = ['#494159','#594157', \"#F1BF98\",\"#8FB996\"]"
   ]
  },
  {
   "cell_type": "code",
   "execution_count": null,
   "id": "artistic-diploma",
   "metadata": {},
   "outputs": [],
   "source": [
    "LL_CCEP"
   ]
  },
  {
   "cell_type": "code",
   "execution_count": null,
   "id": "accepted-planning",
   "metadata": {},
   "outputs": [],
   "source": [
    "def plot_conds(sc, rc, LL_CCEP, conds, EEG_resp):\n",
    "    fig, axs   = plt.subplots(len(conds),1, figsize=(5,3*len(conds)+1), facecolor='w', edgecolor='k')\n",
    "    fig.subplots_adjust(hspace = .1, wspace=.1)\n",
    "    lists = LL_CCEP[(LL_CCEP['Chan']==rc)&(LL_CCEP['Stim']==sc)]\n",
    "    plt.suptitle(labels_all[sc]+'--'+labels_all[rc]+', Distance: '+str(np.round(lists.d.values[0],1))+'mm')\n",
    "    axs = axs.ravel()\n",
    "    for i in range(len(conds)):\n",
    "        lists = LL_CCEP[(LL_CCEP['Chan']==rc)&(LL_CCEP['Stim']==sc)&(LL_CCEP['Condition']==conds[i])]\n",
    "        lists = lists[~np.isnan(lists.zLL.values)]\n",
    "        stimNum_all                  = lists.Num.values.astype('int')\n",
    "        axs[i].set_title(cond_labels[np.where(cond_vals==conds[i])[0][0]]+', mean LL: '+str(np.round(np.mean(lists.LL.values),1))+'uV/ms')\n",
    "        axs[i].set_ylim(-400, 400)\n",
    "        axs[i].set_xlim(-0.25, 1)\n",
    "        axs[i].set_xticks([])\n",
    "        axs[i].set_yticks([-300,0,300])\n",
    "        axs[i].axvline(0, c=[0,0,0])\n",
    "        for j in range(len(stimNum_all)):\n",
    "            axs[i].plot(x_ax,ff.lp_filter(EEG_resp[rc,stimNum_all[j],:], 45, Fs), c=cond_colors[np.where(cond_vals==conds[i])[0][0]])\n",
    "        axs[i].plot(x_ax,ff.lp_filter(np.mean(EEG_resp[rc,stimNum_all,:],0), 45, Fs), c=[0,0,0], linewidth=3 )\n",
    "    \n",
    "    plt.xticks([-0.25, 0, 0.5,1])\n",
    "    plt.xlabel('time [s]')\n",
    "    #plt.tight_layout()\n",
    "    plt.show()"
   ]
  },
  {
   "cell_type": "code",
   "execution_count": null,
   "id": "legal-marble",
   "metadata": {},
   "outputs": [],
   "source": [
    "data_asym     = np.zeros((1,6))\n",
    "lists         = LL_CCEP[(LL_CCEP['RespC']==1)]\n",
    "lists         = lists[~np.isnan(lists.LL.values)]"
   ]
  },
  {
   "cell_type": "code",
   "execution_count": null,
   "id": "happy-compromise",
   "metadata": {},
   "outputs": [],
   "source": [
    "c1 = np.random.choice(stim_av)\n",
    "c2 = np.random.choice(stim_av)\n",
    "\n",
    "conds = [0]#[1,3]\n",
    "fig   = plt.figure(figsize=(12, len(conds)*6))\n",
    "gs    = fig.add_gridspec(len(conds),2)  # GridSpec(4,1, height_ratios=[1,2,1,2])\n",
    "plt.suptitle(labels_all[c1]+'<-->'+labels_all[c2]+', Dist: '+str(np.round(np.mean(lists.d),1))+'mm')\n",
    "\n",
    "for i in range(len(conds)):\n",
    "    ##plot 1\n",
    "    ax         = fig.add_subplot(gs[i,0])  \n",
    "    lists     = LL_CCEP[(LL_CCEP['Stim']==c1)&(LL_CCEP['Chan']==c2)&(LL_CCEP['Condition']==conds[i])]\n",
    "    lists     = lists[~np.isnan(lists.LL.values)]\n",
    "    stimNum   = np.int64(np.unique(lists.Num))\n",
    "    #color_time = np.zeros((len(stimNum),3))\n",
    "    #color_time[:,0] = np.linspace(0,1,len(stimNum))\n",
    "    plt.title('mean LL: '+str(np.round(np.mean(lists.LL),1))+' uV/ms')\n",
    "    for t in range(len(stimNum)):\n",
    "        plt.plot(x_ax,ff.lp_filter(EEG_resp[c2,stimNum[t],:], 30, Fs), c=cond_colors[np.where(cond_vals==conds[i])[0][0]], linewidth=2)\n",
    "    plt.plot(x_ax,np.mean(ff.lp_filter(EEG_resp[c2,stimNum,:], 30, Fs),0), c=[0,0,0], linewidth=3)\n",
    "    plt.xlim([-0.3,0.7])\n",
    "    #plt.ylim([-400,400])\n",
    "    plt.axvline(0, c=[0,0,0], linewidth=5)\n",
    "    plt.xlabel('time [s]')\n",
    "    plt.text(0.4, 600, 'n: '+str(len(stimNum)))\n",
    "    plt.ylim([-800,800])\n",
    "    plt.ylabel(cond_labels[np.where(cond_vals==conds[i])[0][0]])\n",
    "\n",
    "    ##plot 2\n",
    "    ax        = fig.add_subplot(gs[i,1], sharex = ax, sharey=ax)\n",
    "    lists     = LL_CCEP[(LL_CCEP['Stim']==c2)&(LL_CCEP['Chan']==c1)&(LL_CCEP['Condition']==conds[i])]\n",
    "    lists     = lists[~np.isnan(lists.LL.values)]\n",
    "    stimNum   = np.int64(np.unique(lists.Num))\n",
    "\n",
    "    #color_time = np.zeros((len(stimNum),3))\n",
    "    #color_time[:,0] = np.linspace(0,1,len(stimNum))\n",
    "    plt.title('mean LL: '+str(np.round(np.mean(lists.LL),1))+' uV/ms')\n",
    "    for t in range(len(stimNum)):\n",
    "        plt.plot(x_ax,ff.lp_filter(EEG_resp[c1,stimNum[t],:], 30, Fs), c=cond_colors[np.where(cond_vals==conds[i])[0][0]], linewidth=2)\n",
    "    plt.plot(x_ax,np.mean(ff.lp_filter(EEG_resp[c1,stimNum,:], 30, Fs),0), c=[0,0,0], linewidth=3)\n",
    "\n",
    "    plt.text(0.4, 600, 'n: '+str(len(stimNum)))\n",
    "    plt.axvline(0, c=[0,0,0], linewidth=5)\n",
    "    plt.xlabel('time [s]')\n",
    "\n",
    "plt.show()\n",
    "\n"
   ]
  },
  {
   "cell_type": "code",
   "execution_count": null,
   "id": "monthly-cleanup",
   "metadata": {},
   "outputs": [],
   "source": [
    "data_asym"
   ]
  },
  {
   "cell_type": "code",
   "execution_count": null,
   "id": "cross-adventure",
   "metadata": {},
   "outputs": [],
   "source": [
    "data_asym     = np.zeros((1,6))\n",
    "lists         = LL_CCEP[(LL_CCEP['RespC']==1)]\n",
    "lists         = lists[~np.isnan(lists.LL.values)]\n",
    "for s in range(len(labels_all)):\n",
    "    for c in range(len(labels_all)):\n",
    "        list_1 = lists[(lists.Stim==s)&(lists.Chan==c)]\n",
    "        list_2 = lists[(lists.Stim==c)&(lists.Chan==s)]\n",
    "        if len(list_1)>0 and len(list_2)>0:\n",
    "            val         = np.zeros((1, 6))\n",
    "            val[0, 0]   = c                                         # response channel\n",
    "            val[0, 1]   = s                                         # response channel\n",
    "            val[0, 2]   = np.nanmean(list_1.LL)/np.nanmean(list_2.LL)\n",
    "            val[0, 3]   = np.nanmean(list_1.d)\n",
    "            data_asym    = np.concatenate((data_asym, val), axis=0)\n",
    "data_asym = data_asym[1:-1, :] # remove first row (dummy row)\n",
    "data_asym = pd.DataFrame(\n",
    "    {\"Chan\": data_asym[:, 0], \"Stim\": data_asym[:, 1], \"R\": data_asym[:, 2], \"d\": data_asym[:, 3]})\n",
    "\n",
    "for c in range(len(labels_all)):\n",
    "    data_asym.loc[(data_asym.Chan ==c), \"Recs\"]   = labels_all[c]\n",
    "    data_asym.loc[(data_asym.Stim ==c), \"Region1\"]   = labels_region[c]\n",
    "    data_asym.loc[(data_asym.Chan ==c), \"Region2\"]   = labels_region[c]\n",
    "    data_asym.loc[(data_asym.Stim ==c), \"Stims\"]  = labels_all[c]"
   ]
  },
  {
   "cell_type": "code",
   "execution_count": null,
   "id": "acknowledged-quarter",
   "metadata": {},
   "outputs": [],
   "source": [
    "fig    = plt.figure(figsize=(12, 6))\n",
    "data_A2 = data_A#[(data_A.Region1!='WM')&(data_A.Region2!='WM')]\n",
    "#axs.scatter(data.Distance, data['LL norm'], 5, c=\"g\", alpha=1, label = 'LL')\n",
    "tissue = np.unique(data_A2.Region2)\n",
    "for i in range(len(tissue)):\n",
    "    data_A3 = data_A2[data_A2.Region2==tissue[i]]\n",
    "    plt.plot(data_A3.d, data_A3['R'], 'o', alpha=0.8, label=tissue[i])\n",
    "\n",
    "plt.xlabel('distance [mm]')\n",
    "plt.ylabel('LL ratio')\n",
    "plt.legend(title='Tissue2')\n",
    "#plt.axhline(1,c=[0,0,0])\n",
    "plt.ylim([1,5])\n"
   ]
  },
  {
   "cell_type": "code",
   "execution_count": null,
   "id": "controlled-spanking",
   "metadata": {},
   "outputs": [],
   "source": []
  },
  {
   "cell_type": "code",
   "execution_count": null,
   "id": "sticky-mitchell",
   "metadata": {},
   "outputs": [],
   "source": [
    "fig    = plt.figure(figsize=(12, 6))\n",
    "data_A2 = data_A#[(data_A.Region1!='WM')&(data_A.Region2!='WM')]\n",
    "#axs.scatter(data.Distance, data['LL norm'], 5, c=\"g\", alpha=1, label = 'LL')\n",
    "tissue = np.unique(data_A2.Region1)\n",
    "for i in range(len(tissue)):\n",
    "    data_A3 = data_A2[data_A2.Region1==tissue[i]]\n",
    "    plt.plot(data_A3.d, data_A3['R'], 'o', alpha=0.8, label=tissue[i])\n",
    "\n",
    "plt.xlabel('distance [mm]')\n",
    "plt.ylabel('LL ratio')\n",
    "plt.legend(title='Tissue1')\n",
    "#plt.axhline(1,c=[0,0,0])\n",
    "plt.ylim([1,5])\n"
   ]
  },
  {
   "cell_type": "code",
   "execution_count": null,
   "id": "animated-passion",
   "metadata": {},
   "outputs": [],
   "source": [
    "M_hourA        = np.zeros((len(labels_all), len(labels_all), len(conds_val)))-1\n",
    "# remove bad stims\n",
    "lists         = LL_CCEP[(LL_CCEP['RespC']==1)]\n",
    "lists         = lists[~np.isnan(lists.LL.values)]\n",
    "for h in range(len(conds_val)):\n",
    "    print(h)\n",
    "    for s in range(len(labels_all)):\n",
    "        for c in range(len(labels_all)):\n",
    "            list_1 = lists[(lists.Stim==s)&(lists.Chan==c)&(lists.Condition==conds_val[h])]\n",
    "            list_2 = lists[(lists.Stim==c)&(lists.Chan==s)&(lists.Condition==conds_val[h])]\n",
    "            if len(list_1)>0 and len(list_2)>0:\n",
    "                M_hourA[s,c,h] = np.nanmean(list_1.LL)/np.nanmean(list_2.LL)"
   ]
  },
  {
   "cell_type": "code",
   "execution_count": null,
   "id": "backed-clothing",
   "metadata": {},
   "outputs": [],
   "source": [
    "M_hourA[M_hourA==-1] =1"
   ]
  },
  {
   "cell_type": "code",
   "execution_count": null,
   "id": "bigger-paraguay",
   "metadata": {},
   "outputs": [],
   "source": [
    "## GIF BM\n",
    "path_fig  = path_patient + '/Analysis/BrainMapping/LL/figures/BM_plot'\n",
    "n_frames   = len(conds_val)\n",
    "if not os.path.exists(path_fig):\n",
    "    os.makedirs(path_fig)\n",
    "    \n",
    "print('Creating charts\\n')\n",
    "filenames = []\n",
    "for i in np.arange(n_frames):\n",
    "    fig      = pylab.figure(figsize=(20,20))\n",
    "    axmatrix = fig.add_axes([0.1,0.1,0.7,0.7])\n",
    "\n",
    "    im = axmatrix.matshow(M_hourA[:,:,i], aspect='auto', origin='lower', cmap='seismic', vmin=0, vmax=2)\n",
    "\n",
    "    plt.xticks(range(len(labels_all)), labels_all, rotation=90)\n",
    "    plt.yticks(range(len(labels_all)), labels_all)\n",
    "    plt.xlabel(conds_label[i], fontsize=16)\n",
    "    \n",
    "    # Plot colorbar.\n",
    "    axcolor = fig.add_axes([0.9,0.05,0.01,0.9])\n",
    "    pylab.colorbar(im, cax=axcolor)\n",
    "\n",
    "    # build file name and append to list of file names\n",
    "    filename = path_fig+'/frame_Ratio_'+str(i)+'.png'\n",
    "    filenames.append(filename)\n",
    "\n",
    "    # save img\n",
    "    plt.savefig(filename)\n",
    "    plt.close()\n",
    "print('Charts saved\\n')\n",
    "# Build GIF\n",
    "print('Creating gif\\n')\n",
    "with imageio.get_writer(path_fig+'/BM_asym.gif', mode='I') as writer:\n",
    "    for filename in filenames:\n",
    "        image = imageio.imread(filename)\n",
    "        writer.append_data(image)\n",
    "print('Gif saved\\n')\n",
    "print('Removing Images\\n')\n",
    " # Remove files\n",
    "#for filename in set(filenames):\n",
    "#    os.remove(filename)\n",
    "print('DONE')"
   ]
  },
  {
   "cell_type": "markdown",
   "id": "contained-trace",
   "metadata": {},
   "source": [
    "## NETWORK PLOTS"
   ]
  },
  {
   "cell_type": "code",
   "execution_count": null,
   "id": "fabulous-aircraft",
   "metadata": {},
   "outputs": [],
   "source": [
    "subj"
   ]
  },
  {
   "cell_type": "code",
   "execution_count": null,
   "id": "organizational-benchmark",
   "metadata": {},
   "outputs": [],
   "source": [
    "# libraries\n",
    "import pandas as pd\n",
    "import numpy as np\n",
    "import networkx as nx\n",
    "import matplotlib.pyplot as plt\n",
    "#import nxviz\n",
    "#from nxviz.plots import CircosPlot, MatrixPlot, ArcPlot"
   ]
  },
  {
   "cell_type": "code",
   "execution_count": null,
   "id": "popular-cheese",
   "metadata": {},
   "outputs": [],
   "source": [
    "def make_graph(nodes_df, edges_df):\n",
    "    g = nx.DiGraph()\n",
    "    for i,row in nodes.iterrows():\n",
    "\n",
    "        keys = row.index.tolist()\n",
    "\n",
    "        values = row.values\n",
    "\n",
    "        # The dict contains all attributes\n",
    "\n",
    "        g.add_node(row['ID'], **dict(zip(keys,values)))\n",
    "\n",
    "\n",
    "    for i,row in edges.iterrows():\n",
    "\n",
    "        keys = row.index.tolist()\n",
    "\n",
    "        values = row.values\n",
    "\n",
    "        g.add_edge(row['source'], row['target'],**dict(zip(keys,values)))\n",
    "\n",
    "    return g"
   ]
  },
  {
   "cell_type": "code",
   "execution_count": null,
   "id": "closed-simulation",
   "metadata": {},
   "outputs": [],
   "source": [
    "plt.figure(figsize=(15,15))\n",
    "pos = nx.circular_layout(g) #nx.spring_layout(G)\n",
    "nx.draw_networkx_nodes(g, pos, cmap=plt.get_cmap('jet'), \n",
    "                        node_size = 500)\n",
    "nx.draw_networkx_labels(g, pos)\n",
    "nx.draw_networkx_edges(g, pos,edge_color='r', arrows=True)\n",
    "\n",
    "plt.show()"
   ]
  },
  {
   "cell_type": "code",
   "execution_count": null,
   "id": "nasty-arbitration",
   "metadata": {},
   "outputs": [],
   "source": [
    "data_all"
   ]
  },
  {
   "cell_type": "code",
   "execution_count": null,
   "id": "divided-philosophy",
   "metadata": {},
   "outputs": [],
   "source": [
    "G       = nx.from_pandas_edgelist(data_all, \"Stim Region\", \"Resp Region\",[\"LLz\", \"d\"])\n",
    "edges   = nx.to_pandas_edgelist(G)\n",
    "nodes   = pd.DataFrame({'ID': labels_all, 'Region': labels_region, 'H': labels_L})\n",
    "nodes   = nodes.drop(nodes[nodes.Region=='WM'].index)"
   ]
  },
  {
   "cell_type": "code",
   "execution_count": null,
   "id": "young-miami",
   "metadata": {},
   "outputs": [],
   "source": [
    "data_test =  LL_CCEP[(LL_CCEP.RespC==1)&(LL_CCEP.d>50)]\n",
    "data_test = data_test.drop(columns=['RespC','rLL', 'zLL'])\n",
    "data_test.insert(0,'Recs', 0)\n",
    "data_test.insert(0,'Stims', 0)\n",
    "for c in range(len(labels_all)):\n",
    "    data_test.loc[(data_test.Stim ==c), \"Region\"] = labels_region[c]\n",
    "    data_test.loc[(data_test.Chan ==c), \"RegionC\"] = labels_region[c]\n",
    "    data_test.loc[(data_test.Chan ==c), \"Recs\"]   = labels_all[c]\n",
    "    data_test.loc[(data_test.Stim ==c), \"Stims\"]  = labels_all[c]\n",
    "data_test=data_test.drop(data_test[data_test.Region=='WM'].index)\n",
    "data_test=data_test.drop(data_test[data_test.RegionC=='WM'].index)\n",
    "data_test = data_test.drop(columns=['Region', 'RegionC'])\n",
    "G       = nx.from_pandas_edgelist(data_test, \"Stims\", \"Recs\",[\"LL\", \"d\"])\n",
    "edges   = nx.to_pandas_edgelist(G)\n",
    "nodes   = pd.DataFrame({'ID': labels_all, 'Region': labels_region, 'H': labels_L})\n",
    "nodes   = nodes.drop(nodes[nodes.Region=='WM'].index)\n",
    "\n",
    "G       = make_graph(nodes, edges)"
   ]
  },
  {
   "cell_type": "code",
   "execution_count": null,
   "id": "flying-arrow",
   "metadata": {},
   "outputs": [],
   "source": [
    "data_asym     = np.zeros((1,6))\n",
    "lists         = LL_CCEP[(LL_CCEP['RespC']==1)]\n",
    "lists         = lists[~np.isnan(lists.LL.values)]\n",
    "for s in range(len(labels_all)):\n",
    "    for c in range(len(labels_all)):\n",
    "        list_1 = lists[(lists.Chan==c)&(lists.Stim==s)&(lists.Condition==1)]\n",
    "        list_2 = lists[(lists.Chan==c)&(lists.Stim==s)&(lists.Condition==3)]\n",
    "        if len(list_1)>0 and len(list_2)>0:\n",
    "            val         = np.zeros((1, 6))\n",
    "            val[0, 0]   = c                                         # response channel\n",
    "            val[0, 1]   = s                                         # response channel\n",
    "            val[0, 2]   = np.nanmean(list_1.LL)/np.nanmean(list_2.LL)\n",
    "            val[0, 3]   = np.nanmean(list_1.LL)-np.nanmean(list_2.LL)\n",
    "            val[0, 4]   = np.nanmean(list_1.d)\n",
    "            data_asym    = np.concatenate((data_asym, val), axis=0)\n",
    "data_asym = data_asym[1:-1, :] # remove first row (dummy row)\n",
    "data_A = pd.DataFrame(\n",
    "    {\"Chan\": data_asym[:, 0], \"Stim\": data_asym[:, 1], \"R\": data_asym[:, 2], \"Diff\": data_asym[:, 2], \"d\": data_asym[:, 4]})\n",
    "\n",
    "for c in range(len(labels_all)):\n",
    "    data_A.loc[(data_A.Chan ==c), \"Recs\"]   = labels_all[c]\n",
    "    data_A.loc[(data_A.Stim ==c), \"Stim Region\"]   = labels_region[c]\n",
    "    data_A.loc[(data_A.Chan ==c), \"Resp Region\"]   = labels_region[c]\n",
    "    data_A.loc[(data_A.Stim ==c), \"Stims\"]  = labels_all[c]\n",
    "data_A.insert(5,'Change',0)\n",
    "data_A=data_A.drop(data_A[data_A['Stim Region']=='OUT'].index)\n",
    "data_A=data_A.drop(data_A[data_A['Resp Region']=='OUT'].index)"
   ]
  },
  {
   "cell_type": "code",
   "execution_count": null,
   "id": "activated-charleston",
   "metadata": {},
   "outputs": [],
   "source": [
    "thr = 1.2\n",
    "data_A.loc[(data_A.R>thr), 'Change']= -1\n",
    "data_A.loc[(data_A.R<=thr), 'Change']= 0\n",
    "data_A.loc[(data_A.R<1/thr), 'Change']= 1"
   ]
  },
  {
   "cell_type": "code",
   "execution_count": null,
   "id": "fiscal-apartment",
   "metadata": {},
   "outputs": [],
   "source": [
    "#fig, ax = plt.figure(figsize=(13,13))\n",
    "\n",
    "fig, ax     = plt.subplots(figsize=(15,12))\n",
    "plt.title(subj+' - Connection decrease by Benzo')\n",
    "k=0\n",
    "data_test = data_A[(data_A.Change>-1)&(data_A.d>7.5)]\n",
    "for i in range(len(labels_all)):\n",
    "    s = StimChanIx_sort[i]\n",
    "    data_plot = data_test[data_test.Stim==s]\n",
    "    for j in range(len(data_plot)):\n",
    "        #plt.plot(data_plot.d.values[j], i,'o', markersize=6, c= color_regions[np.where(regions==data_plot['Resp Region'].values[j])[0][0]], alpha=0.3)\n",
    "        plt.scatter(data_plot.d.values[j], i, s=70, c=color_regions[np.where(regions==data_plot['Resp Region'].values[j])[0][0]], alpha=0.5, edgecolors=[1,1,1])\n",
    "\n",
    "\n",
    "data_test = data_A[(data_A.Change==-1)&(data_A.d>7.5)]        \n",
    "for i in range(len(labels_all)):\n",
    "    s = StimChanIx_sort[i]\n",
    "    ax.add_patch(Rectangle((6.5, i-0.5), 1, 1, color = color_regions[np.where(regions==labels_region[s])[0][0]]))\n",
    "    data_plot = data_test[data_test.Stim==s]\n",
    "    for j in range(len(data_plot)):\n",
    "        #plt.plot(data_plot.d.values[j], i,'o', markersize=10, c= color_regions[np.where(regions==data_plot['Resp Region'].values[j])[0][0]])\n",
    "        plt.scatter(data_plot.d.values[j], i, s=80, c=color_regions[np.where(regions==data_plot['Resp Region'].values[j])[0][0]], alpha=0.8, edgecolors=[0,0,0])\n",
    "    if any (region_border == i):\n",
    "        num= region_num[np.where(region_border==i)[0][0]]\n",
    "        t = plt.text(-10, (i+num/2)-1, v[i], fontsize=15)\n",
    "        #t = plt.text(0.5, 0.5, 'text', transform=ax.transAxes, fontsize=30)\n",
    "        t.set_bbox(dict(facecolor=color_regions[np.where(regions==labels_region[s])[0][0]], alpha=0.5, edgecolor=color_regions[np.where(regions==labels_region[s])[0][0]]))\n",
    "\n",
    "\n",
    "plt.yticks(np.arange(len(labels_all)),labels_sort, fontsize=7)\n",
    "plt.xlim([6.5, 80])\n",
    "plt.ylim([-0.5, len(labels_all)-0.5])\n",
    "plt.xlabel('euclidean distance [mm]')\n",
    "plt.show()"
   ]
  },
  {
   "cell_type": "code",
   "execution_count": null,
   "id": "marked-think",
   "metadata": {},
   "outputs": [],
   "source": [
    "data_test"
   ]
  },
  {
   "cell_type": "code",
   "execution_count": null,
   "id": "cordless-poultry",
   "metadata": {},
   "outputs": [],
   "source": [
    "plot_conds(33,24, LL_CCEP, [1,3], EEG_resp)"
   ]
  },
  {
   "cell_type": "code",
   "execution_count": null,
   "id": "turkish-clearing",
   "metadata": {},
   "outputs": [],
   "source": [
    "data_test = data_A[(data_A.Change==-1)]\n",
    "\n",
    "#data_test=data_test.drop(data_test[data_test['Stim Region']=='WM'].index)\n",
    "#data_test=data_test.drop(data_test[data_test['Resp Region']=='WM'].index)\n",
    "data_test=data_test.drop(data_test[data_test['Stim Region']=='OUT'].index)\n",
    "data_test=data_test.drop(data_test[data_test['Resp Region']=='OUT'].index)\n",
    "## only inter-regions\n",
    "#data_test=data_test.drop(data_test[data_test.Region1==data_test.Region2].index)\n",
    "\n",
    "G       = nx.from_pandas_edgelist(data_test, \"Stims\", \"Recs\",[\"R\", \"d\"])\n",
    "edges = nx.to_pandas_edgelist(G)\n",
    "nodes  = pd.DataFrame({'ID': labels_all, 'Region': labels_region, 'H': labels_L})\n",
    "nodes = nodes.drop(nodes[nodes.Region=='OUT'].index)\n",
    "#nodes = nodes.drop(nodes[nodes.Region=='WM'].index)\n",
    "g = make_graph(nodes, edges)\n",
    "\n",
    "c = CircosPlot(g, node_color='Region', group_label_position=\"middle\", group_label_offset=12, node_grouping='Region', edge_width=(edges['R'] / edges['R'].quantile(0.8)).tolist(), node_labels=True, node_label_layout='rotation', figsize=(8,8))\n",
    "\n",
    "c.draw()\n",
    "filename    = path_patient + '/Analysis/BrainMapping/network/figures/Ph_red_conncetions.png'\n",
    "#plt.savefig(filename, bbox_inches='tight')\n",
    "plt.show()"
   ]
  },
  {
   "cell_type": "code",
   "execution_count": null,
   "id": "automotive-negative",
   "metadata": {},
   "outputs": [],
   "source": [
    "data_test"
   ]
  },
  {
   "cell_type": "code",
   "execution_count": null,
   "id": "yellow-planning",
   "metadata": {},
   "outputs": [],
   "source": [
    "data_test"
   ]
  },
  {
   "cell_type": "code",
   "execution_count": null,
   "id": "civil-negotiation",
   "metadata": {
    "scrolled": false
   },
   "outputs": [],
   "source": [
    "data_test = data_A[(data_A.Change==1)&(data_A.d>7.5)]\n",
    "k = np.random.choice(len(data_test), 1)[0]\n",
    "plot_conds(data_test.Stim.values.astype('int')[k],data_test.Chan.values.astype('int')[k], LL_CCEP, [1,3], EEG_resp)"
   ]
  },
  {
   "cell_type": "code",
   "execution_count": null,
   "id": "divided-fundamental",
   "metadata": {},
   "outputs": [],
   "source": [
    "sns.catplot(x=\"Stim Region\", y=\"Resp Region\",hue = 'Change',data=data_A[data_A.Change !=0], kind='swarm',\n",
    "              height=6,  # make the plot 5 units high\n",
    "              aspect=1.5, legend_out=True)\n",
    "plt.title(subj)\n",
    "filename    = path_patient + '/Analysis/BrainMapping/network/figures/Ph_effect_areas.png'\n",
    "plt.savefig(filename)"
   ]
  },
  {
   "cell_type": "markdown",
   "id": "delayed-utility",
   "metadata": {},
   "source": [
    "## LL on mean CCEP"
   ]
  },
  {
   "cell_type": "code",
   "execution_count": null,
   "id": "opposed-printer",
   "metadata": {},
   "outputs": [],
   "source": [
    "stimlist = stimlist.fillna(0)\n",
    "hours    = np.unique(stimlist.h)\n",
    "\n",
    "\n",
    "exp = 1\n",
    "## calcualte mean CCEp and then take LL \n",
    "data_CCEP = np.zeros((1,8))\n",
    "CCEP_mean = np.zeros((len(StimChans),len(labels_all),len(hours), 2000,2))\n",
    "#LL_CCEP   = np.zeros(((len(StimChans),len(labels_all),len(hours),2)))\n",
    "w = 0.25\n",
    "for h in range(len(hours)):\n",
    "    hs = hours[h]\n",
    "    print(hs)\n",
    "    for sc in range(len(StimChans)):\n",
    "        ChanP  = StimChanNums[sc]\n",
    "        s      = np.where(labels_all == StimChans[sc])[0][0]#i#np.int(StimChanNums[i]) \n",
    "        stim_spec                = stimlist[(stimlist.h ==hs)&(stimlist.ChanP ==ChanP)]#&(stimlist.noise ==0)\n",
    "        stimNum                  = stim_spec.StimNum.values#[:,0]\n",
    "        CCEP_mean[sc, :, h,:,0]  = np.nanmean(ff.lp_filter(EEG_resp[:,stimNum,:],45,Fs), axis=1)\n",
    "        CCEP_mean[sc, :, h,:,1]  = np.nanstd(ff.lp_filter(EEG_resp[:,stimNum,:],45,Fs), axis=1)\n",
    "        LL_all     = LL_funcs.get_LL_both(data=np.expand_dims(np.nanmean(ff.lp_filter(EEG_resp[:,stimNum,:],45,Fs), axis=1),1), Fs=Fs, IPI=np.array([0]), t_0=1, win=w)\n",
    "        \n",
    "        #LL_CCEP[sc, :, h, 0] = \n",
    "        \n",
    "        val         = np.zeros((LL_all.shape[0], 8))\n",
    "        val[:, 0]   = np.arange(LL_all.shape[0])                                         # response channel\n",
    "        val[:, 1]   = ChanP\n",
    "        val[:, 2]   = LL_all[:,0,1]\n",
    "        val[:, 3]   = LL_all[:,0,1]\n",
    "        val[:, 4]   = LL_all[:,0,1]\n",
    "        val[:, 5]   = np.sqrt(((coord_all[s,0]-coord_all[:,0])**2)+((coord_all[s,1]-coord_all[:,1])**2)+((coord_all[s,2]-coord_all[:,2])**2))\n",
    "        val[:, 6]   = hs\n",
    "        data_CCEP    = np.concatenate((data_CCEP, val), axis=0)\n",
    "\n",
    "data_CCEP = data_CCEP[1:-1, :] # remove first row (dummy row)\n",
    "\n",
    "\n",
    "LL_CCEP = pd.DataFrame(\n",
    "    {\"Chan\": data_CCEP[:, 0], \"Stim\": data_CCEP[:, 1], \"LL\": data_CCEP[:, 2],\"Distance\": data_CCEP[:, 5],\"LL norm\": data_CCEP[:, 4],\"Hour\": data_CCEP[:, 6]})\n",
    "LL_CCEP.insert(0, 'Dist_cat', 0)\n",
    "LL_CCEP.loc[(LL_CCEP.Distance < 15), 'Dist_cat'] = 1\n",
    "LL_CCEP.loc[(LL_CCEP.Distance > 15)&(LL_CCEP.Distance < 25), 'Dist_cat'] = 2\n",
    "LL_CCEP.loc[(LL_CCEP.Distance > 25)&(LL_CCEP.Distance < 40), 'Dist_cat'] = 3\n",
    "LL_CCEP.loc[(LL_CCEP.Distance > 40)&(LL_CCEP.Distance < 60), 'Dist_cat'] = 4\n",
    "LL_CCEP.loc[(LL_CCEP.Distance > 60), 'Dist_cat'] = 5\n",
    "LL_CCEP.to_csv(path_patient + '/Analysis/BrainMapping/LL/LL_CCEP_'+str(exp)+'_'+str(w)+'s.csv', index=False,\n",
    "              header=True)  # scat_plot = scat_plot.fillna(method='ffill')\n",
    "print('Data saved')"
   ]
  },
  {
   "cell_type": "code",
   "execution_count": null,
   "id": "polished-stretch",
   "metadata": {},
   "outputs": [],
   "source": []
  },
  {
   "cell_type": "code",
   "execution_count": null,
   "id": "cooked-kernel",
   "metadata": {},
   "outputs": [],
   "source": [
    "exp = 2\n",
    "## calcualte mean CCEp and then take LL \n",
    "data_CCEP = np.zeros((1,8))\n",
    "CCEP_mean = np.zeros((len(StimChans),len(labels_all),len(hours), 2000,2))\n",
    "#LL_CCEP   = np.zeros(((len(StimChans),len(labels_all),len(hours),2)))\n",
    "w = 0.25\n",
    "for h in range(len(hours)):\n",
    "    hs = hours[h]\n",
    "    print(hs)\n",
    "    for sc in range(len(StimChans)):\n",
    "        ChanP  = StimChanNums[sc]\n",
    "        s      = np.where(labels_all == StimChans[sc])[0][0]#i#np.int(StimChanNums[i]) \n",
    "        stim_spec                = stimlist[(stimlist.h ==hs)&(stimlist.ChanP ==ChanP)]#&(stimlist.noise ==0)\n",
    "        stimNum                  = stim_spec.StimNum.values#[:,0]\n",
    "        CCEP_mean[sc, :, h,:,0]  = np.nanmean(ff.lp_filter(EEG_resp[:,stimNum,:],45,Fs), axis=1)\n",
    "        CCEP_mean[sc, :, h,:,1]  = np.nanstd(ff.lp_filter(EEG_resp[:,stimNum,:],45,Fs), axis=1)\n",
    "        LL_all     = LL_funcs.get_LL_both(data=np.expand_dims(np.nanmean(ff.lp_filter(EEG_resp[:,stimNum,:],45,Fs), axis=1),1), Fs=Fs, IPI=np.array([0]), t_0=1, win=w)\n",
    "        \n",
    "        #LL_CCEP[sc, :, h, 0] = \n",
    "        \n",
    "        val         = np.zeros((LL_all.shape[0], 8))\n",
    "        val[:, 0]   = np.arange(LL_all.shape[0])                                         # response channel\n",
    "        val[:, 1]   = ChanP\n",
    "        val[:, 2]   = LL_all[:,0,1]\n",
    "        val[:, 3]   = LL_all[:,0,1]\n",
    "        val[:, 4]   = LL_all[:,0,1]\n",
    "        val[:, 5]   = np.sqrt(((coord_all[s,0]-coord_all[:,0])**2)+((coord_all[s,1]-coord_all[:,1])**2)+((coord_all[s,2]-coord_all[:,2])**2))\n",
    "        val[:, 6]   = hs\n",
    "        data_CCEP    = np.concatenate((data_CCEP, val), axis=0)\n",
    "\n",
    "data_CCEP = data_CCEP[1:-1, :] # remove first row (dummy row)\n",
    "\n",
    "\n",
    "LL_CCEP = pd.DataFrame(\n",
    "    {\"Chan\": data_CCEP[:, 0], \"Stim\": data_CCEP[:, 1], \"LL\": data_CCEP[:, 2],\"Distance\": data_CCEP[:, 5],\"LL norm\": data_CCEP[:, 4],\"Hour\": data_CCEP[:, 6]})\n",
    "LL_CCEP.insert(0, 'Dist_cat', 0)\n",
    "LL_CCEP.loc[(LL_CCEP.Distance < 15), 'Dist_cat'] = 1\n",
    "LL_CCEP.loc[(LL_CCEP.Distance > 15)&(LL_CCEP.Distance < 25), 'Dist_cat'] = 2\n",
    "LL_CCEP.loc[(LL_CCEP.Distance > 25)&(LL_CCEP.Distance < 40), 'Dist_cat'] = 3\n",
    "LL_CCEP.loc[(LL_CCEP.Distance > 40)&(LL_CCEP.Distance < 60), 'Dist_cat'] = 4\n",
    "LL_CCEP.loc[(LL_CCEP.Distance > 60), 'Dist_cat'] = 5\n",
    "LL_CCEP.to_csv(path_patient + '/Analysis/BrainMapping/LL/LL_CCEP_'+str(exp)+'_'+str(w)+'s.csv', index=False,\n",
    "              header=True)  # scat_plot = scat_plot.fillna(method='ffill')\n",
    "print('Data saved')"
   ]
  },
  {
   "cell_type": "markdown",
   "id": "ancient-heritage",
   "metadata": {},
   "source": [
    "adding Z- Score"
   ]
  },
  {
   "cell_type": "code",
   "execution_count": null,
   "id": "informed-gardening",
   "metadata": {},
   "outputs": [],
   "source": [
    "n_it = 200\n",
    "stim_spec                = stimlist[(stimlist.noise ==0)]\n",
    "stimNum                  = stim_spec.StimNum.values#[:,0]\n",
    "LL_BL = np.zeros((len(labels_all),n_it,2))\n",
    "LL_BL_z = np.zeros((len(labels_all),2))\n",
    "for i in range(n_it):\n",
    "    ix_choice = np.random.choice(len(stimNum), 3)\n",
    "    LL                    = LL_funcs.get_LL_both(data=np.expand_dims(np.nanmean(ff.lp_filter(EEG_resp[:,stimNum[ix_choice],:],45,Fs), axis=1),1), Fs=Fs, IPI=np.array([0]), t_0=0.5, win=w)\n",
    "    LL_BL[:,i,0] = LL[:,0,1] \n",
    "LL_BL_z[:,0] = np.nanmean(LL_BL[:,:,0],1)\n",
    "LL_BL_z[:,1] = np.nanstd(LL_BL[:,:,0],1)\n",
    "for c in range(len(labels_all)):\n",
    "    LL_BL[c,:,1] = (LL_BL[c,:,0] - LL_BL_z[c,0])/LL_BL_z[c,1]"
   ]
  },
  {
   "cell_type": "code",
   "execution_count": null,
   "id": "enhanced-huntington",
   "metadata": {},
   "outputs": [],
   "source": [
    "for rc in range(len(labels_all)):\n",
    "    LL_CCEP.loc[(LL_CCEP.Chan ==rc), 'LL norm'] = (LL_CCEP.loc[(LL_CCEP.Chan ==rc), 'LL']- LL_BL_z[rc,0])/LL_BL_z[rc,1]\n",
    "    \n",
    "LL_CCEP.loc[(LL_CCEP.Distance <7), 'LL'] = 0\n",
    "LL_CCEP.loc[(LL_CCEP.Distance <7), 'LL norm'] = 0\n",
    "LL_CCEP.loc[(LL_CCEP.Chan.isin(bad_chans)), 'LL'] = 0\n",
    "LL_CCEP.loc[(LL_CCEP.Chan.isin(bad_chans)), 'LL norm'] = 0"
   ]
  },
  {
   "cell_type": "code",
   "execution_count": null,
   "id": "little-supervisor",
   "metadata": {},
   "outputs": [],
   "source": [
    "\n",
    "ChanP = StimChanNums[sc]\n",
    "plt.figure(figsize=(10,6))\n",
    "n, bins, patches = plt.hist(LL_BL[0,:,0], 50, alpha=0.75)\n",
    "bincenters       = 0.5*(bins[1:]+bins[:-1])\n",
    "y                = norm.pdf(bincenters, np.mean(LL_BL[0,:,0]), np.std(LL_BL[0,:,0]))\n",
    "plt.plot(bincenters, y*30, 'r--', linewidth=1)\n",
    "n, bins, patches = plt.hist(LL_CCEP.loc[(LL_CCEP.Stim ==ChanP)&(LL_CCEP.Chan ==rc), 'LL'].values, alpha=0.75)\n",
    "plt.title('Stim: ' + StimChans[sc] + ', Resp: ' + labels_all[rc], fontsize=16)\n",
    "plt.xlabel('LL [uV/ms] of 250ms')"
   ]
  },
  {
   "cell_type": "code",
   "execution_count": null,
   "id": "dietary-eight",
   "metadata": {},
   "outputs": [],
   "source": [
    "plt.figure(figsize=(10,6))\n",
    "ChanP = StimChanNums[sc]\n",
    "n, bins, patches = plt.hist(LL_BL[0,:,1], 50, alpha=0.75)\n",
    "bincenters       = 0.5*(bins[1:]+bins[:-1])\n",
    "y                = norm.pdf(bincenters, np.mean(LL_BL[0,:,1]), np.std(LL_BL[0,:,1]))\n",
    "plt.plot(bincenters, y*30, 'r--', linewidth=1)\n",
    "n, bins, patches = plt.hist(LL_CCEP.loc[(LL_CCEP.Stim ==ChanP)&(LL_CCEP.Chan ==rc), 'LL norm'].values, alpha=0.75)\n",
    "plt.title('Stim: ' + StimChans[sc] + ', Resp: ' + labels_all[rc], fontsize=16)\n",
    "plt.xlabel('LL z-scored')"
   ]
  },
  {
   "cell_type": "code",
   "execution_count": null,
   "id": "marine-berry",
   "metadata": {},
   "outputs": [],
   "source": [
    "LL_CCEP"
   ]
  },
  {
   "cell_type": "code",
   "execution_count": null,
   "id": "conventional-zealand",
   "metadata": {},
   "outputs": [],
   "source": [
    "LL_CCEP[(LL_CCEP['Chan']==rc)&(LL_CCEP.Stim ==s)&(LL_CCEP.Hour ==hs)]"
   ]
  },
  {
   "cell_type": "code",
   "execution_count": null,
   "id": "gross-proposal",
   "metadata": {},
   "outputs": [],
   "source": [
    "rc = 8\n",
    "sc = 36\n",
    "\n",
    "ChanP = StimChanNums[sc]\n",
    "s      = np.where(labels_all == StimChans[sc])[0][0]#i#np.int(StimChanNums[i]) \n",
    "\n",
    "hours = np.unique(stimlist.h)\n",
    "hours = np.array([0,6,12,18])\n",
    "\n",
    "\n",
    "fig = plt.figure(figsize=(11, 8))\n",
    "gs  = fig.add_gridspec(2,2)  # GridSpec(4,1, height_ratios=[1,2,1,2])\n",
    "plt.suptitle('Stim: ' + StimChans[sc] + ', Resp: ' + labels_all[rc], fontsize=16)\n",
    "for i in range(len(hours)):\n",
    "    hs = hours[i]\n",
    "    stim_spec           = stimlist[(stimlist.ChanP ==ChanP)&(stimlist.h ==hs)]\n",
    "    stimNum                  = stim_spec.StimNum.values#[:,0]\n",
    "    CCEP_mean = np.nanmean(ff.lp_filter(EEG_resp[rc,stimNum,:],20,Fs), axis=0)\n",
    "    CCEP_std = np.nanstd(ff.lp_filter(EEG_resp[rc,stimNum,:],20,Fs), axis=0)\n",
    "    if i>1:\n",
    "        axs                 = fig.add_subplot(gs[1,i-2])\n",
    "    else:\n",
    "        axs                 = fig.add_subplot(gs[0,i])\n",
    "    \n",
    "    plt.plot(x_ax,CCEP_mean)\n",
    "    plt.fill_between(x_ax, CCEP_mean-CCEP_std, CCEP_mean+CCEP_std, alpha=0.1)\n",
    "    plt.ylabel('uV', fontsize=12)\n",
    "    plt.axvline(0, c=[1, 0, 0], linewidth=1.5)\n",
    "    plt.title(str(hs)+':00')\n",
    "    plt.xlim([-0.2,0.5])\n",
    "    plt.ylim([-800,400])\n",
    "    if np.max(CCEP_mean) >0:\n",
    "        plt.text(0.3, -300, 'LL: '+str(np.round(np.mean(LL_CCEP[(LL_CCEP['Chan']==rc)&(LL_CCEP.Stim ==s)&(LL_CCEP.Hour ==hs)]['LL'].values),2)))\n",
    "        #plt.text(0.3, -200, 'zLL: '+str(np.round(LL_CCEP[(LL_CCEP['Chan']==rc)&(LL_CCEP.Stim ==ChanP)&(LL_CCEP.Hour ==hs)]['LL norm'].values[0],2)))\n",
    "    #plt.ylim(limy)"
   ]
  },
  {
   "cell_type": "markdown",
   "id": "reserved-occurrence",
   "metadata": {},
   "source": [
    "make matrix with 0 and 1 if there is a response based on mean z-score across hours (>1.96)"
   ]
  },
  {
   "cell_type": "code",
   "execution_count": null,
   "id": "spiritual-singles",
   "metadata": {},
   "outputs": [],
   "source": [
    "bad_chans.shape"
   ]
  },
  {
   "cell_type": "code",
   "execution_count": null,
   "id": "brave-howard",
   "metadata": {},
   "outputs": [],
   "source": [
    "M_resp = np.zeros((len(StimChanNums), len(labels_all)))\n",
    "for sc in range(len(StimChans)):\n",
    "    ChanP  = StimChanNums[sc]\n",
    "    s = np.where(labels_all == StimChans[sc])[0][0]#i#np.int(StimChanNums[i]) \n",
    "    for rc in range(len(labels_all)):\n",
    "        z_mean = np.nanmedian(LL_CCEP.loc[(LL_CCEP.Stim ==ChanP)&(LL_CCEP.Chan ==rc), 'LL norm'].values)\n",
    "        if z_mean > 1.96:\n",
    "            M_resp[sc,rc] =1\n",
    "        if s == rc:\n",
    "            M_resp[sc,rc] =-1\n",
    "M_resp[:,bad_chans] = 0\n"
   ]
  },
  {
   "cell_type": "code",
   "execution_count": null,
   "id": "overall-touch",
   "metadata": {},
   "outputs": [],
   "source": [
    "# Plot distance matrix.\n",
    "cmap = ListedColormap(['r', 'k', 'w'])\n",
    "fig = pylab.figure(figsize=(25,15))\n",
    "axmatrix = fig.add_axes([0.4,0.1,0.6,0.6])\n",
    "\n",
    "im = axmatrix.matshow(M_resp,cmap=cmap, aspect='auto', origin='lower')\n",
    "\n",
    "plt.xticks(range(len(labels_all)), labels_all, rotation=90);\n",
    "plt.yticks(range(len(StimChanNums)), StimChans);\n",
    "plt.show()"
   ]
  },
  {
   "cell_type": "code",
   "execution_count": null,
   "id": "purple-fiction",
   "metadata": {},
   "outputs": [],
   "source": [
    "# check data where there is propagated response\n",
    "resp_ix = np.array(np.where(M_resp==1))\n",
    "\n",
    "n = 145\n",
    "sc = resp_ix[0,n]\n",
    "rc = resp_ix[1,n]\n",
    "\n",
    "ChanP = StimChanNums[sc]\n",
    "s      = np.where(labels_all == StimChans[sc])[0][0]#i#np.int(StimChanNums[i]) \n",
    "hours = np.unique(stimlist.h)\n",
    "hours = np.array([0,6,12,18])\n",
    "\n",
    "\n",
    "fig = plt.figure(figsize=(11, 8))\n",
    "gs  = fig.add_gridspec(2,2)  # GridSpec(4,1, height_ratios=[1,2,1,2])\n",
    "plt.suptitle('Stim: ' + StimChans[sc] + ', Resp: ' + labels_all[rc], fontsize=16)\n",
    "for i in range(len(hours)):\n",
    "    hs = hours[i]\n",
    "    stim_spec           = stimlist[(stimlist.ChanP ==ChanP)&(stimlist.h ==hs)]\n",
    "    stimNum                  = stim_spec.StimNum.values#[:,0]\n",
    "    CCEP_mean = np.nanmean(ff.lp_filter(EEG_resp[rc,stimNum,:],45,Fs), axis=0)\n",
    "    CCEP_std = np.nanstd(ff.lp_filter(EEG_resp[rc,stimNum,:],45,Fs), axis=0)\n",
    "    if i>1:\n",
    "        axs                 = fig.add_subplot(gs[1,i-2])\n",
    "    else:\n",
    "        axs                 = fig.add_subplot(gs[0,i])\n",
    "    if i == 0:\n",
    "        mx = np.min([np.max([np.max(abs(CCEP_mean))*1.5,300]),800])\n",
    "    plt.plot(x_ax,CCEP_mean)\n",
    "    plt.fill_between(x_ax, CCEP_mean-CCEP_std, CCEP_mean+CCEP_std, alpha=0.1)\n",
    "    plt.ylabel('uV', fontsize=12)\n",
    "    plt.axvline(0, c=[1, 0, 0], linewidth=1.5)\n",
    "    plt.title(str(hs)+':00')\n",
    "    plt.xlim([-0.2,0.5])\n",
    "    plt.ylim([-mx,mx])\n",
    "    if np.max(CCEP_mean) >0:\n",
    "        plt.text(0.3, -mx/2-100, 'LL: '+str(np.round(LL_CCEP[(LL_CCEP['Chan']==rc)&(LL_CCEP.Stim ==ChanP)&(LL_CCEP.Hour ==hs)]['LL'].values[0],2)))\n",
    "        plt.text(0.3, -mx/2, 'zLL: '+str(np.round(LL_CCEP[(LL_CCEP['Chan']==rc)&(LL_CCEP.Stim ==ChanP)&(LL_CCEP.Hour ==hs)]['LL norm'].values[0],2)))\n",
    "    #plt.ylim(limy)"
   ]
  },
  {
   "cell_type": "markdown",
   "id": "raised-homework",
   "metadata": {},
   "source": [
    "## CR effect on brain map"
   ]
  },
  {
   "cell_type": "code",
   "execution_count": null,
   "id": "romantic-microphone",
   "metadata": {},
   "outputs": [],
   "source": [
    "hours = np.unique(stimlist.h)"
   ]
  },
  {
   "cell_type": "code",
   "execution_count": null,
   "id": "planned-medium",
   "metadata": {},
   "outputs": [],
   "source": [
    "M_hour = np.zeros((len(StimChanNums), len(labels_all), len(hours)))\n",
    "for hs in range(len(hours)):\n",
    "    h = hours[hs]\n",
    "    for sc in range(len(StimChans)):\n",
    "        ChanP  = StimChanNums[sc]\n",
    "        s = np.where(labels_all == StimChans[sc])[0][0]#i#np.int(StimChanNums[i]) \n",
    "        if LL_CCEP.loc[(LL_CCEP.Hour ==h)&(LL_CCEP.Stim ==ChanP), 'LL norm'].values.shape[0]==110:\n",
    "            M_hour[sc,:,hs] = LL_CCEP.loc[(LL_CCEP.Hour ==h)&(LL_CCEP.Stim ==ChanP), 'LL norm'].values "
   ]
  },
  {
   "cell_type": "code",
   "execution_count": null,
   "id": "activated-luxury",
   "metadata": {},
   "outputs": [],
   "source": [
    "path_patient"
   ]
  },
  {
   "cell_type": "code",
   "execution_count": null,
   "id": "sticky-blogger",
   "metadata": {},
   "outputs": [],
   "source": [
    "for h in range(len(hours)):\n",
    "    fig = pylab.figure(figsize=(25,15))\n",
    "    axmatrix = fig.add_axes([0.4,0.1,0.6,0.6])\n",
    "\n",
    "    im = axmatrix.matshow(M_hour[:,:,h], aspect='auto', origin='lower', cmap='hot', vmin=1.96, vmax=10)\n",
    "\n",
    "    plt.xticks(range(len(labels_all)), labels_all, rotation=90)\n",
    "    plt.yticks(range(len(StimChanNums)), StimChans)\n",
    "    plt.xlabel(str(hours[h])+':00', fontsize=16)\n",
    "    plt.savefig(path_patient + '/Analysis/BrainMapping/LL/figures/BM_'+str(hours[h])+'.jpg')"
   ]
  },
  {
   "cell_type": "code",
   "execution_count": null,
   "id": "functional-proposition",
   "metadata": {},
   "outputs": [],
   "source": [
    "sc = 36\n",
    "rc = 8\n",
    "\n",
    "ChanP = StimChanNums[sc]\n",
    "s      = np.where(labels_all == StimChans[sc])[0][0]#i#np.int(StimChanNums[i]) \n",
    "hours = np.unique(stimlist.h)\n",
    "hours = np.array([0,6,12,18])\n",
    "\n",
    "\n",
    "fig = plt.figure(figsize=(11, 8))\n",
    "gs  = fig.add_gridspec(2,2)  # GridSpec(4,1, height_ratios=[1,2,1,2])\n",
    "plt.suptitle('Stim: ' + StimChans[sc] + ', Resp: ' + labels_all[rc], fontsize=16)\n",
    "for i in range(len(hours)):\n",
    "    hs = hours[i]\n",
    "    stim_spec           = stimlist[(stimlist.ChanP ==ChanP)&(stimlist.h ==hs)]\n",
    "    stimNum                  = stim_spec.StimNum.values#[:,0]\n",
    "    \n",
    "    stim_list_rec   = stimlist[(stimlist['StimNum'].isin((stimNum-1).clip(min=0)))]\n",
    "    ReChanP         = SM2IX(stim_list_rec.ChanP.values,StimChanNums,np.array(StimChanIx))\n",
    "    #ReChanN = SM2IX(stim_list_rec.ChanN.values,StimChanNums,np.array(StimChanIx))\n",
    "    stimNum         = stimNum[((ReChanP!=rc)&(ReChanP+1!=rc)&(ReChanP-1!=rc))|(stim_list_rec.ISI_s.values>4)]\n",
    "            \n",
    "            \n",
    "    CCEP_mean = np.nanmean(ff.lp_filter(EEG_resp[rc,stimNum,:],45,Fs), axis=0)\n",
    "    CCEP_std = np.nanstd(ff.lp_filter(EEG_resp[rc,stimNum,:],45,Fs), axis=0)\n",
    "    if i>1:\n",
    "        axs                 = fig.add_subplot(gs[1,i-2])\n",
    "    else:\n",
    "        axs                 = fig.add_subplot(gs[0,i])\n",
    "    if i == 0:\n",
    "        mx = np.min([np.max([np.max(abs(CCEP_mean))*1.5,300]),800])\n",
    "    plt.plot(x_ax,CCEP_mean)\n",
    "    plt.fill_between(x_ax, CCEP_mean-CCEP_std, CCEP_mean+CCEP_std, alpha=0.1)\n",
    "    plt.ylabel('uV', fontsize=12)\n",
    "    plt.axvline(0, c=[1, 0, 0], linewidth=1.5)\n",
    "    plt.title(str(hs)+':00')\n",
    "    plt.xlim([-0.2,0.5])\n",
    "    plt.ylim([-mx,mx])\n",
    "    if np.max(CCEP_mean) >0:\n",
    "        plt.text(0.3, -mx/2-100, 'LL: '+str(np.round(LL_CCEP[(LL_CCEP['Chan']==rc)&(LL_CCEP.Stim ==s)&(LL_CCEP.Hour ==hs)]['LL'].values[0],2)))\n",
    "        #plt.text(0.3, -mx/2, 'zLL: '+str(np.round(LL_CCEP[(LL_CCEP['Chan']==rc)&(LL_CCEP.Stim ==ChanP)&(LL_CCEP.Hour ==hs)]['LL norm'].values[0],2)))\n",
    "    #plt.ylim(limy)"
   ]
  },
  {
   "cell_type": "code",
   "execution_count": null,
   "id": "crucial-cooling",
   "metadata": {},
   "outputs": [],
   "source": [
    "chan_nums     = np.arange(len(labels_all))\n",
    "chan_nums_req = chan_nums[req]\n",
    "# plot ratio of LL of mean CCEP vs distance \n",
    "#data = LL_CCEP[~(LL_CCEP['Chan'].isin(bad_chans))&(LL_CCEP['Chan'].isin(chan_nums_req))&(LL_CCEP['Distance']>3.5)&(LL_CCEP['LL BL norm']>1.5)]\n",
    "data = LL_CCEP[(LL_CCEP['Chan']==rc)&(LL_CCEP.Stim ==ChanP)]\n",
    "fig    = plt.figure(figsize=(10, 8))\n",
    "\n",
    "sns.catplot(x=\"Hour\", y=\"LL\",data=data, kind=\"swarm\", ci=\"sd\",\n",
    "              height=6,  # make the plot 5 units high\n",
    "              aspect=1.5, legend_out=True)\n",
    "plt.xlabel('hour', fontsize=16)\n",
    "plt.ylabel('LL', fontsize=16)\n",
    "plt.tick_params(axis=\"both\", labelsize=8)\n",
    "#plt.ylim([0,5])\n",
    "#plt.axhline(1, c=[0,0,0])\n",
    "#plt.legend(bbox_to_anchor=(1.05, 1), loc=2, borderaxespad=0.)\n",
    "plt.suptitle('Stim: ' + StimChans[sc] + ', Resp: ' + labels_all[rc], fontsize=16)\n",
    "#plt.savefig(path_patient + '/Analysis/InputOutput/LL/figures/IO_Ph_'+StimChan+ '-'+str(labels_all[rc])+'.jpg')\n",
    "plt.show()"
   ]
  },
  {
   "cell_type": "markdown",
   "id": "central-friendly",
   "metadata": {},
   "source": [
    "## Plot functions"
   ]
  },
  {
   "cell_type": "code",
   "execution_count": null,
   "id": "identical-summary",
   "metadata": {},
   "outputs": [],
   "source": []
  },
  {
   "cell_type": "code",
   "execution_count": null,
   "id": "sexual-russian",
   "metadata": {},
   "outputs": [],
   "source": [
    "def plot_conds(sc, rc, LL_CCEP, conds, EEG_resp):\n",
    "    fig, axs   = plt.subplots(len(conds),1, figsize=(8,3*len(conds)+1), facecolor='w', edgecolor='k')\n",
    "    fig.subplots_adjust(hspace = .1, wspace=.1)\n",
    "    lists = LL_CCEP[(LL_CCEP['Chan']==rc)&(LL_CCEP['Stim']==sc)]\n",
    "    plt.suptitle(labels_all[sc]+'--'+labels_all[rc]+', Distance: '+str(np.round(lists.d.values[0],1))+'mm')\n",
    "    axs = axs.ravel()\n",
    "    for i in range(len(conds)):\n",
    "        lists = LL_CCEP[(LL_CCEP['Chan']==rc)&(LL_CCEP['Stim']==sc)&(LL_CCEP['Condition']==conds[i])]\n",
    "        lists = lists[~np.isnan(lists.zLL.values)]\n",
    "        stimNum_all                  = lists.Num.values.astype('int')\n",
    "        axs[i].set_title(cond_labels[np.where(cond_vals==conds[i])[0][0]]+', mean LL: '+str(np.round(np.mean(lists.LL.values),1))+'uV/ms')\n",
    "        axs[i].set_ylim(-400, 400)\n",
    "        axs[i].set_xlim(-0.5, 1)\n",
    "        axs[i].set_xticks([])\n",
    "        axs[i].set_yticks([-300,0,300])\n",
    "        axs[i].axvline(0, c=[0,0,0])\n",
    "        for j in range(len(stimNum_all)):\n",
    "            axs[i].plot(x_ax,ff.lp_filter(EEG_resp[rc,stimNum_all[j],:], 45, Fs), c=cond_colors[np.where(cond_vals==conds[i])[0][0]])\n",
    "        axs[i].plot(x_ax,ff.lp_filter(np.mean(EEG_resp[rc,stimNum_all,:],0), 45, Fs), c=[0,0,0], linewidth=3 )\n",
    "    \n",
    "    plt.xticks([-0.5, 0, 0.5,1])\n",
    "    plt.xlabel('time [s]')\n",
    "    #plt.tight_layout()\n",
    "    plt.show()"
   ]
  },
  {
   "cell_type": "code",
   "execution_count": null,
   "id": "dried-essence",
   "metadata": {},
   "outputs": [],
   "source": [
    "def plot_LL_dist(LL_CCEP, conds):\n",
    "    fig, axs   = plt.subplots(1,len(conds), figsize=(len(conds)*6+2,6), facecolor='w', edgecolor='k')\n",
    "    fig.subplots_adjust(hspace = .1, wspace=.2)\n",
    "    plt.suptitle(subj)\n",
    "    axs = axs.ravel()\n",
    "    for i in range(len(conds)):\n",
    "        data     = LL_CCEP[~(LL_CCEP['Chan'].isin(bad_chans))&(LL_CCEP.Condition ==conds[i])&(LL_CCEP.d >7.5)&(LL_CCEP['RespC'] ==1)]\n",
    "        data0    = LL_CCEP[~(LL_CCEP['Chan'].isin(bad_chans))&(LL_CCEP.Condition ==conds[i])&(LL_CCEP.d >7.5)&(LL_CCEP['RespC'] ==0)]\n",
    "        axs[i].set_title(cond_labels[np.where(cond_vals==conds[i])[0][0]])\n",
    "        axs[i].scatter(data0.d, data0['zLL'], s=50, facecolors='none', label = 'non-resp', edgecolors=cond_colors[np.where(cond_vals==conds[i])[0][0]], alpha = 0.1)\n",
    "        axs[i].scatter(data.d, data['zLL'], s=50, label = 'resp', facecolors=cond_colors[np.where(cond_vals==conds[i])[0][0]], edgecolors='k', alpha = 0.5)\n",
    "        axs[i].set_ylim([0,25])\n",
    "        axs[i].set_xlim([0,120])\n",
    "        axs[i].set_xlabel('distance [mm]')\n",
    "        axs[i].set_ylabel('Z-score LL')\n",
    "        axs[i].legend()\n",
    "        # grid\n",
    "        axs[i].set_axisbelow(True)\n",
    "        axs[i].yaxis.grid(color='gray', linestyle='dashed', alpha=0.7)\n",
    "        # remove spines\n",
    "        axs[i].spines['right'].set_visible(False)\n",
    "        axs[i].spines['top'].set_visible(False)\n",
    "        \n",
    "    filename    = path_patient + '/Analysis/BrainMapping/LL/figures/LL_dist/LL_dist_Ph.png'\n",
    "    plt.savefig(filename)"
   ]
  },
  {
   "cell_type": "code",
   "execution_count": null,
   "id": "loved-margin",
   "metadata": {},
   "outputs": [],
   "source": []
  },
  {
   "cell_type": "code",
   "execution_count": null,
   "id": "pediatric-deputy",
   "metadata": {},
   "outputs": [],
   "source": [
    "def plot_trial(sc, rc, stimNum, LL_CCEP,EEG_resp):\n",
    "    t_0 = 1\n",
    "    lists  = LL_CCEP[(LL_CCEP['Chan']==rc)&(LL_CCEP['Stim']==sc)]\n",
    "    lists  = lists[~np.isnan(lists.zLL.values)]\n",
    "\n",
    "    fig   = plt.figure(figsize=(12,7) )\n",
    "    #plt.title(labels_all[Stim_chs]+' -- '+labels_clinic[rc])\n",
    "    plt.title(labels_all[sc]+' -- '+labels_all[rc]+', Dist: '+str(np.round(lists.d.values[0]))+'mm')\n",
    "    plt.xlim([-0.6,1])\n",
    "    plt.ylim([-np.max([np.max(EEG_resp[rc,stimNum,:])*1.1,300]),np.max([np.max(EEG_resp[rc,stimNum,:])*1.1,300])])\n",
    "    plt.axvline(0, c=[0,0,0])\n",
    "    plt.xlabel('time [s]')\n",
    "    plt.text(-0.3, 200, 'rLL: '+str(np.round(dat.rLL.values[k],2)), c=[1-r,0,0])\n",
    "    plt.text(-0.3, 300, 'zLL: '+str(np.round(dat.zLL.values[k],2)), c=[0,0,0])\n",
    "    plt.text(-0.3, 100, 'LL: '+str(np.round(dat.LL.values[k],2)), c=[0,0,0])\n",
    "\n",
    "\n",
    "    #stim_spec                = stimlist[(stimlist.condition>0)&(stimlist.ChanP==ChanP)&(stimlist.IPI_ms ==0)&(stimlist.noise ==0)]#&(stimlist.noise ==0)\n",
    "    stimNum_all                  = lists.Num.values.astype('int')\n",
    "    plt.plot(x_ax,ff.lp_filter(np.mean(EEG_resp[rc,stimNum_all,:],0),45,Fs), c=[0,0,0], linewidth=1, label='mean, n='+str(len(stimNum_all)))\n",
    "    plt.plot(x_ax,ff.lp_filter(EEG_resp[rc,stimNum,:],45,Fs), c=color_elab[0], linewidth=2, label='trial')\n",
    "    #plt.axvspan(t_0+w_r-1, t_0-1+w_LL, alpha=0.3, color=color_elab[0])\n",
    "    #plt.axvspan(t_0+0.015-1, t_0+w_r-1, alpha=0.8, color=color_elab[1])\n",
    "    #plt.axvspan(t_0+0.015-1-0.2, t_0+w_r-1-0.2, alpha=0.8, color=color_elab[1])\n",
    "    plt.legend()\n",
    "    plt.show()"
   ]
  }
 ],
 "metadata": {
  "kernelspec": {
   "display_name": "PyCharm (Python_Analysis)",
   "language": "python",
   "name": "pycharm-303d2e35"
  },
  "language_info": {
   "codemirror_mode": {
    "name": "ipython",
    "version": 3
   },
   "file_extension": ".py",
   "mimetype": "text/x-python",
   "name": "python",
   "nbconvert_exporter": "python",
   "pygments_lexer": "ipython3",
   "version": "3.7.9"
  }
 },
 "nbformat": 4,
 "nbformat_minor": 5
}
