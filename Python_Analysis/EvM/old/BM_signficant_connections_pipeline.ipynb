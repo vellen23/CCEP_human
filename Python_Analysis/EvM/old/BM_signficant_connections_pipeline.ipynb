{
 "cells": [
  {
   "cell_type": "code",
   "execution_count": 2,
   "id": "induced-yemen",
   "metadata": {},
   "outputs": [],
   "source": [
    "import os\n",
    "import numpy as np\n",
    "import mne\n",
    "import imageio\n",
    "import h5py\n",
    "# import scipy.fftpack\n",
    "import matplotlib\n",
    "import pywt\n",
    "from matplotlib.ticker import ScalarFormatter\n",
    "import matplotlib.gridspec as gridspec\n",
    "import matplotlib.pyplot as plt\n",
    "# from scipy import signal\n",
    "from matplotlib.colors import ListedColormap\n",
    "import time\n",
    "import seaborn as sns\n",
    "# import scipy.io as sio\n",
    "# from scipy.integrate import simps\n",
    "import pandas as pd\n",
    "# from scipy import fft\n",
    "import matplotlib.mlab as mlab\n",
    "import sys\n",
    "\n",
    "sys.path.append('T:\\EL_experiment\\Codes\\CCEP_human\\Python_Analysis/py_functions')\n",
    "import analys_func\n",
    "from scipy.stats import norm\n",
    "import LL_funcs\n",
    "from scipy.stats import norm\n",
    "from tkinter import filedialog\n",
    "from tkinter import *\n",
    "import ntpath\n",
    "\n",
    "root = Tk()\n",
    "root.withdraw()\n",
    "import math\n",
    "import scipy\n",
    "from scipy import signal\n",
    "import pylab\n",
    "import scipy.cluster.hierarchy as sch\n",
    "from scipy.spatial.distance import squareform\n",
    "import platform\n",
    "from glob import glob\n",
    "from scipy.io import savemat\n",
    "import scipy.cluster.hierarchy as spc\n",
    "from scipy.spatial import distance\n",
    "import tqdm\n",
    "# sys.path.append('./PCI/')\n",
    "# sys.path.append('./PCI/PCIst')\n",
    "# import pci_st as pci\n",
    "import basic_func as bf\n",
    "from scipy.integrate import simps\n",
    "from numpy import trapz\n",
    "import IO_func as IOF\n",
    "import BM_func as BMf\n",
    "import tqdm\n",
    "from matplotlib.patches import Rectangle\n",
    "from pathlib import Path\n",
    "import LL_funcs as LLf\n",
    "import freq_funcs as ff\n",
    "#\n",
    "from scipy.signal import hilbert, butter, filtfilt\n",
    "from scipy.fftpack import fft,fftfreq,rfft,irfft,ifft\n",
    "import numpy as np\n",
    "import seaborn as sns\n",
    "import pandas as pd\n",
    "import scipy.stats as stats\n",
    "from tqdm.notebook import trange, tqdm\n",
    "import significance_funcs as sig_func\n",
    "\n",
    "dist_groups = np.array([[0, 30], [30, 60], [60, 120]])\n",
    "dist_labels = ['local (<30 mm)', 'short (<60mm)', 'long']\n",
    "Fs = 500\n",
    "dur = np.zeros((1, 2), dtype=np.int32)\n",
    "t0 = 1\n",
    "dur[0, 0] = -t0\n",
    "dur[0, 1] = 3\n",
    "\n",
    "folder = 'BrainMapping'\n",
    "# dur[0,:]       = np.int32(np.sum(abs(dur)))\n",
    "x_ax = np.arange(dur[0, 0], dur[0, 1], (1 / Fs))\n",
    "color_elab = np.zeros((3, 3))\n",
    "color_elab[0, :] = np.array([31, 78, 121]) / 255\n",
    "color_elab[1, :] = np.array([189, 215, 238]) / 255\n",
    "color_elab[2, :] = np.array([0.256, 0.574, 0.431])\n",
    "cwd = os.getcwd()"
   ]
  },
  {
   "cell_type": "code",
   "execution_count": 44,
   "id": "parliamentary-mouse",
   "metadata": {},
   "outputs": [],
   "source": [
    "######## General Infos\n",
    "\n",
    "path_patient_analysis = 'y:\\\\eLab\\EvM\\Projects\\EL_experiment\\Analysis\\Patients\\\\' + subj\n",
    "path_gen = os.path.join('y:\\\\eLab\\Patients\\\\' + subj)\n",
    "if not os.path.exists(path_gen):\n",
    "    path_gen = 'T:\\\\EL_experiment\\\\Patients\\\\' + subj\n",
    "path_patient = path_gen + '\\Data\\EL_experiment'  # os.path.dirname(os.path.dirname(cwd))+'/Patients/'+subj\n",
    "path_infos = os.path.join(path_patient, 'infos')\n",
    "if not os.path.exists(path_infos):\n",
    "    path_infos = path_gen + '\\\\infos'\n",
    "\n",
    "sep = ';'\n",
    "Fs = 500\n",
    "\n",
    "EEG_CR = np.load(path_patient_analysis + '\\\\' + folder + '\\\\' + cond_folder + '\\\\data\\\\EEG_'+cond_folder+'.npy')\n",
    "stimlist = pd.read_csv(path_patient_analysis + '\\\\' + folder + '\\\\' + cond_folder + '\\\\data\\\\stimlist_' + cond_folder + '.csv')\n",
    "\n",
    "#EEG_resp = np.load(path_patient_analysis + '\\\\' + folder + '/data/ALL_resps_'+files_list[i][-11:-4]+'.npy')\n",
    "lbls = pd.read_excel(os.path.join(path_infos, subj + \"_labels.xlsx\"), header=0, sheet_name='BP')\n",
    "labels_all, labels_region, labels_clinic, coord_all, StimChans, StimChanSM, StimChansC, StimChanIx, stimlist = bf.get_Stim_chans(\n",
    "    stimlist,\n",
    "    lbls)\n",
    "\n",
    "labels_h = lbls.Hemisphere + '_' + labels_all\n",
    "\n",
    "badchans = pd.read_csv(path_patient_analysis + '\\\\' + folder + '/data/badchan.csv')\n",
    "bad_chans = np.unique(np.array(np.where(badchans.values[:, 1] == 1))[0, :])\n",
    "\n",
    "bad_region = np.where((labels_region == 'WM') | (labels_region == 'OUT') | (labels_region == 'Putamen'))[0]\n",
    "\n",
    "badchans  = pd.read_csv(path_patient_analysis + '/BrainMapping/data/badchan.csv')\n",
    "bad_chans = np.unique(np.array(np.where(badchans.values[:,1:]==1))[0,:])\n",
    "\n",
    "bad_stims = np.where(labels_region=='OUT')[0]\n",
    "\n",
    "##all \n",
    "cond_vals   = np.arange(4)\n",
    "cond_labels = ['BM', 'BL', 'Fuma', 'BZD']\n",
    "cond_colors = ['#494159','#594157', \"#F1BF98\",\"#8FB996\"]"
   ]
  },
  {
   "cell_type": "code",
   "execution_count": 49,
   "id": "assigned-sight",
   "metadata": {},
   "outputs": [],
   "source": [
    "file_con = path_patient_analysis + '\\\\' + folder + '\\\\' + cond_folder + '\\\\data\\\\con_trial_all.csv'\n",
    "con_trial    = pd.read_csv(file_con)\n",
    "#M_N1peaks = np.load(file_MN1)"
   ]
  },
  {
   "cell_type": "markdown",
   "id": "controlled-logic",
   "metadata": {},
   "source": [
    "## Cluster trials into 2-3 groups"
   ]
  },
  {
   "cell_type": "code",
   "execution_count": 51,
   "id": "infectious-insight",
   "metadata": {},
   "outputs": [],
   "source": [
    "import Cluster_func as Cf"
   ]
  },
  {
   "cell_type": "code",
   "execution_count": 52,
   "id": "cooperative-feeling",
   "metadata": {},
   "outputs": [],
   "source": [
    "Fs_rs = 100\n",
    "num_rs = int(2000/Fs * Fs_rs)"
   ]
  },
  {
   "cell_type": "code",
   "execution_count": 14,
   "id": "alternative-tuesday",
   "metadata": {},
   "outputs": [],
   "source": [
    "def get_pearson2mean(x_gt, x_trials, tx=1, ty=1, win=0.1, Fs=500):\n",
    "    x0 = int(tx * Fs)\n",
    "    x1 = int(x0 + win * Fs)\n",
    "    y0 = int(ty * Fs)\n",
    "    y1 = int(y0 + win * Fs)\n",
    "    if len(x_trials.shape) == 1:\n",
    "        corr = np.corrcoef(x_gt[x0:x1], x_trials[y0:y1])[0, 1]\n",
    "    else:\n",
    "        corr = np.corrcoef(x_gt[x0:x1], x_trials[:, y0:y1])[0, 1:]\n",
    "\n",
    "    return corr"
   ]
  },
  {
   "cell_type": "code",
   "execution_count": 15,
   "id": "guided-finder",
   "metadata": {},
   "outputs": [],
   "source": [
    "def search_sequence_numpy(arr,seq):\n",
    "    \"\"\" Find sequence in an array using NumPy only.\n",
    "\n",
    "    Parameters\n",
    "    ----------\n",
    "    arr    : input 1D array\n",
    "    seq    : input 1D array\n",
    "\n",
    "    Output\n",
    "    ------\n",
    "    Output : 1D Array of indices in the input array that satisfy the\n",
    "    matching of input sequence in the input array.\n",
    "    In case of no match, an empty list is returned.\n",
    "    \"\"\"\n",
    "\n",
    "    # Store sizes of input array and sequence\n",
    "    Na, Nseq = arr.size, seq.size\n",
    "\n",
    "    # Range of sequence\n",
    "    r_seq = np.arange(Nseq)\n",
    "\n",
    "    # Create a 2D array of sliding indices across the entire length of input array.\n",
    "    # Match up with the input sequence & get the matching starting indices.\n",
    "    M = (arr[np.arange(Na-Nseq+1)[:,None] + r_seq] == seq).all(1)\n",
    "\n",
    "    # Get the range of those indices as final output\n",
    "    if M.any() >0:\n",
    "        return np.where(np.convolve(M,np.ones((Nseq),dtype=int))>0)[0]\n",
    "    else:\n",
    "        return []         # No match found"
   ]
  },
  {
   "cell_type": "code",
   "execution_count": 64,
   "id": "approximate-precipitation",
   "metadata": {},
   "outputs": [],
   "source": [
    "# 1. select channel\n",
    "sc = 1\n",
    "rc = 52\n",
    "dat = con_trial[(con_trial.Stim==sc)&(con_trial.Chan==rc)&(con_trial.Artefact==0)]\n"
   ]
  },
  {
   "cell_type": "code",
   "execution_count": 65,
   "id": "changed-vegetable",
   "metadata": {},
   "outputs": [
    {
     "data": {
      "text/plain": [
       "0"
      ]
     },
     "execution_count": 65,
     "metadata": {},
     "output_type": "execute_result"
    }
   ],
   "source": [
    "# 2. get start of response\n",
    "w=0.25\n",
    "t_0 = 1\n",
    "resp_all = bf.zscore_CCEP(ff.lp_filter(np.mean(EEG_CR[rc, dat.Num.values.astype('int'), :], 0), 45, Fs))\n",
    "LL_resp = LLf.get_LL_all(np.expand_dims(np.expand_dims(resp_all, 0), 0), Fs, w)\n",
    "LL_t = np.array(LL_resp[0, 0, :] > np.percentile(LL_resp[0, 0, 0:int((t_0-w/2)*Fs)], 99))*1\n",
    "t_resp_all = search_sequence_numpy(LL_t,np.ones((int(0.1*Fs),)))\n",
    "if len(t_resp_all) > 0:\n",
    "    t_resp = np.round(t_resp_all[0]/Fs-t_0+w/2,3)\n",
    "    if t_resp < 0.01:\n",
    "        t_resp = 0\n",
    "    if t_resp > 0.5:\n",
    "        t_resp = 0\n",
    "else:\n",
    "    t_resp = np.nan\n",
    "t_resp"
   ]
  },
  {
   "cell_type": "code",
   "execution_count": 66,
   "id": "proper-walker",
   "metadata": {},
   "outputs": [
    {
     "ename": "NameError",
     "evalue": "name 'sig' is not defined",
     "output_type": "error",
     "traceback": [
      "\u001b[1;31m---------------------------------------------------------------------------\u001b[0m",
      "\u001b[1;31mNameError\u001b[0m                                 Traceback (most recent call last)",
      "\u001b[1;32m<ipython-input-66-efec29676ab7>\u001b[0m in \u001b[0;36m<module>\u001b[1;34m\u001b[0m\n\u001b[0;32m      8\u001b[0m \u001b[0max\u001b[0m \u001b[1;33m=\u001b[0m \u001b[0mfig\u001b[0m\u001b[1;33m.\u001b[0m\u001b[0madd_subplot\u001b[0m\u001b[1;33m(\u001b[0m\u001b[0mgs\u001b[0m\u001b[1;33m[\u001b[0m\u001b[1;36m0\u001b[0m\u001b[1;33m,\u001b[0m\u001b[1;36m0\u001b[0m\u001b[1;33m]\u001b[0m\u001b[1;33m)\u001b[0m\u001b[1;33m\u001b[0m\u001b[1;33m\u001b[0m\u001b[0m\n\u001b[0;32m      9\u001b[0m \u001b[0mplt\u001b[0m\u001b[1;33m.\u001b[0m\u001b[0mtitle\u001b[0m\u001b[1;33m(\u001b[0m\u001b[1;34m'z-scored mean CCEP'\u001b[0m\u001b[1;33m)\u001b[0m\u001b[1;33m\u001b[0m\u001b[1;33m\u001b[0m\u001b[0m\n\u001b[1;32m---> 10\u001b[1;33m \u001b[0mplt\u001b[0m\u001b[1;33m.\u001b[0m\u001b[0mplot\u001b[0m\u001b[1;33m(\u001b[0m\u001b[0mx_ax\u001b[0m\u001b[1;33m,\u001b[0m \u001b[0mresp_all\u001b[0m\u001b[1;33m,\u001b[0m \u001b[0mcolor\u001b[0m\u001b[1;33m=\u001b[0m \u001b[1;33m[\u001b[0m\u001b[1;36m0\u001b[0m\u001b[1;33m,\u001b[0m\u001b[1;36m0\u001b[0m\u001b[1;33m,\u001b[0m\u001b[1;36m0\u001b[0m\u001b[1;33m]\u001b[0m\u001b[1;33m,\u001b[0m \u001b[0mlinewidth\u001b[0m\u001b[1;33m=\u001b[0m \u001b[1;36m5\u001b[0m\u001b[1;33m,\u001b[0m \u001b[0mlabel\u001b[0m\u001b[1;33m=\u001b[0m\u001b[1;34m'n: '\u001b[0m\u001b[1;33m+\u001b[0m\u001b[0mstr\u001b[0m\u001b[1;33m(\u001b[0m\u001b[0mnp\u001b[0m\u001b[1;33m.\u001b[0m\u001b[0msum\u001b[0m\u001b[1;33m(\u001b[0m\u001b[0msig\u001b[0m\u001b[1;33m==\u001b[0m\u001b[0mc\u001b[0m\u001b[1;33m)\u001b[0m\u001b[1;33m)\u001b[0m\u001b[1;33m)\u001b[0m\u001b[1;33m\u001b[0m\u001b[1;33m\u001b[0m\u001b[0m\n\u001b[0m\u001b[0;32m     11\u001b[0m \u001b[0mplt\u001b[0m\u001b[1;33m.\u001b[0m\u001b[0mxlim\u001b[0m\u001b[1;33m(\u001b[0m\u001b[1;33m[\u001b[0m\u001b[1;33m-\u001b[0m\u001b[1;36m0.5\u001b[0m\u001b[1;33m,\u001b[0m\u001b[1;36m1.5\u001b[0m\u001b[1;33m]\u001b[0m\u001b[1;33m)\u001b[0m\u001b[1;33m\u001b[0m\u001b[1;33m\u001b[0m\u001b[0m\n\u001b[0;32m     12\u001b[0m \u001b[0mplt\u001b[0m\u001b[1;33m.\u001b[0m\u001b[0mylabel\u001b[0m\u001b[1;33m(\u001b[0m\u001b[1;34m'[]'\u001b[0m\u001b[1;33m)\u001b[0m\u001b[1;33m\u001b[0m\u001b[1;33m\u001b[0m\u001b[0m\n",
      "\u001b[1;31mNameError\u001b[0m: name 'sig' is not defined"
     ]
    },
    {
     "data": {
      "image/png": "[encoded data removed]",
      "text/plain": [
       "<Figure size 720x720 with 1 Axes>"
      ]
     },
     "metadata": {},
     "output_type": "display_data"
    }
   ],
   "source": [
    "## figure\n",
    "fig = plt.figure(figsize=(10,10))\n",
    "fig.patch.set_facecolor('xkcd:white')\n",
    "d = np.round(distance.euclidean(coord_all[sc], coord_all[rc]),1)\n",
    "plt.suptitle(labels_h[sc]+ ' -- '+labels_h[rc]+', d='+str(d)+'mm', fontsize=30)\n",
    "gs       = fig.add_gridspec(2,1)  # GridSpec(4,1, height_ratios=[1,2,1,2])\n",
    "\n",
    "ax = fig.add_subplot(gs[0,0])\n",
    "plt.title('z-scored mean CCEP')\n",
    "plt.plot(x_ax, resp_all, color= [0,0,0], linewidth= 5, label='n: '+str(np.sum(sig==c)))\n",
    "plt.xlim([-0.5,1.5])\n",
    "plt.ylabel('[]')\n",
    "plt.axvline(t_resp, color=[1,0,0],label='start resp')\n",
    "plt.axvline(0, color=[0,0,0])\n",
    "\n",
    "ax = fig.add_subplot(gs[1,0])\n",
    "plt.title('LL w=250ms')\n",
    "plt.ylabel('[uV/ms]')\n",
    "plt.axvline(0, color=[0,0,0])\n",
    "plt.plot(x_ax, LL_resp[0,0,:], color= [0,0,0], linewidth= 5, label='n: '+str(np.sum(sig==c)))\n",
    "plt.axhline(np.percentile(LL_resp[0, 0, 0:int((t_0-w/2)*Fs)], 99), label='99th')\n",
    "plt.plot(t_resp_all[0]/Fs-t_0,  LL_resp[0,0,t_resp_all[0]], 'o', color=[1,0,0], markersize=10)\n",
    "plt.axvline(t_resp, color=[1,0,0],label='start resp')\n",
    "ax.annotate('', xy=(t_resp, LL_resp[0,0,t_resp_all[0]]), xytext=(t_resp_all[0]/Fs-t_0,LL_resp[0,0,t_resp_all[0]]),\n",
    "            arrowprops={'arrowstyle': '-|>', 'lw': 2, 'color': 'red'}, va='center')\n",
    "    #plt.fill_between(x_ax, mn-st, mn+st, alpha=0.2, color=color_elab[c*2])\n",
    "plt.legend()\n",
    "plt.xlabel('time [s]')\n",
    "plt.xlim([-0.5,1.5])\n"
   ]
  },
  {
   "cell_type": "code",
   "execution_count": 59,
   "id": "healthy-batch",
   "metadata": {},
   "outputs": [
    {
     "data": {
      "text/plain": [
       "<matplotlib.patches.Polygon at 0x1f9ef872088>"
      ]
     },
     "execution_count": 59,
     "metadata": {},
     "output_type": "execute_result"
    },
    {
     "data": {
      "image/png": "[encoded data removed]",
      "text/plain": [
       "<Figure size 720x432 with 1 Axes>"
      ]
     },
     "metadata": {
      "needs_background": "light"
     },
     "output_type": "display_data"
    }
   ],
   "source": [
    "w_cluster = 0.25\n",
    "plt.figure(figsize=(10,6))\n",
    "plt.title(subj+' -- '+labels_h[sc]+' - '+labels_h[rc])\n",
    "#all\n",
    "n_cluster = 2\n",
    "M_GT = np.zeros((n_cluster+1,2000))\n",
    "\n",
    "EEG_trial = ff.lp_filter(EEG_CR[rc, dat.Num.values.astype('int'),:],45,Fs)\n",
    "EEG_trial = signal.resample(EEG_trial, int(num_rs),axis = 1)\n",
    "EEG_trial = stats.zscore(EEG_trial, axis=1)\n",
    "cc, y, dist, dist_cc = Cf.dba_cluster(EEG_trial[:,int((t_0+t_resp)*Fs_rs):int((t_0+t_resp+w_cluster)*Fs_rs)],n_cluster)\n",
    "\n",
    "\n",
    "M_GT[0,:] =ff.lp_filter(np.nanmean(EEG_CR[rc, dat.Num.values.astype('int'),:],0),45,Fs)\n",
    "plt.plot(x_ax, M_GT[0,:], color = [0,0,0], label='all')\n",
    "\n",
    "for c in range(n_cluster):\n",
    "    M_GT[c+1,:] =ff.lp_filter(np.nanmean(EEG_CR[rc, dat.Num.values.astype('int')[y==c],:],0),45,Fs)\n",
    "    plt.plot(x_ax, ff.lp_filter(np.nanmean(EEG_CR[rc, dat.Num.values.astype('int')[y==c],:],0),45,Fs), label='GT'+str(c+1)+', n: '+str(sum(y==c)))\n",
    "\n",
    "plt.legend()\n",
    "plt.xlabel('time [s]')\n",
    "plt.axvline(0, color=[0,0,0])\n",
    "plt.axvspan(t_resp,t_resp+w_cluster, color=[0,0,0], alpha=0.1)"
   ]
  },
  {
   "cell_type": "code",
   "execution_count": 60,
   "id": "powerful-effect",
   "metadata": {},
   "outputs": [
    {
     "ename": "NameError",
     "evalue": "name 'LL' is not defined",
     "output_type": "error",
     "traceback": [
      "\u001b[1;31m---------------------------------------------------------------------------\u001b[0m",
      "\u001b[1;31mNameError\u001b[0m                                 Traceback (most recent call last)",
      "\u001b[1;32m<ipython-input-60-65bac6e117ab>\u001b[0m in \u001b[0;36m<module>\u001b[1;34m\u001b[0m\n\u001b[0;32m     10\u001b[0m     \u001b[0mpear2\u001b[0m \u001b[1;33m=\u001b[0m \u001b[0mget_pearson2mean\u001b[0m\u001b[1;33m(\u001b[0m\u001b[0mM_GT\u001b[0m\u001b[1;33m[\u001b[0m\u001b[1;36m2\u001b[0m\u001b[1;33m,\u001b[0m\u001b[1;33m:\u001b[0m\u001b[1;33m]\u001b[0m\u001b[1;33m,\u001b[0m \u001b[0mEEG_trials\u001b[0m\u001b[1;33m[\u001b[0m\u001b[1;36m0\u001b[0m\u001b[1;33m]\u001b[0m\u001b[1;33m,\u001b[0m \u001b[0mtx\u001b[0m\u001b[1;33m=\u001b[0m\u001b[0mt_0\u001b[0m\u001b[1;33m+\u001b[0m\u001b[0mt_resp\u001b[0m\u001b[1;33m,\u001b[0m \u001b[0mty\u001b[0m\u001b[1;33m=\u001b[0m\u001b[0mt_test\u001b[0m\u001b[1;33m,\u001b[0m \u001b[0mwin\u001b[0m\u001b[1;33m=\u001b[0m\u001b[0mw_cluster\u001b[0m\u001b[1;33m,\u001b[0m \u001b[0mFs\u001b[0m\u001b[1;33m=\u001b[0m\u001b[1;36m500\u001b[0m\u001b[1;33m)\u001b[0m  \u001b[1;31m# Pearson# Pearson\u001b[0m\u001b[1;33m\u001b[0m\u001b[1;33m\u001b[0m\u001b[0m\n\u001b[0;32m     11\u001b[0m     \u001b[1;31m#LL = LL_trials[0,:,int(t_test+w_cluster/2)*Fs]\u001b[0m\u001b[1;33m\u001b[0m\u001b[1;33m\u001b[0m\u001b[1;33m\u001b[0m\u001b[0m\n\u001b[1;32m---> 12\u001b[1;33m     \u001b[0mpear_surr\u001b[0m \u001b[1;33m=\u001b[0m \u001b[0mnp\u001b[0m\u001b[1;33m.\u001b[0m\u001b[0marctanh\u001b[0m\u001b[1;33m(\u001b[0m\u001b[0mnp\u001b[0m\u001b[1;33m.\u001b[0m\u001b[0mmax\u001b[0m\u001b[1;33m(\u001b[0m\u001b[1;33m[\u001b[0m\u001b[0mpear\u001b[0m\u001b[1;33m,\u001b[0m\u001b[0mpear2\u001b[0m\u001b[1;33m]\u001b[0m\u001b[1;33m,\u001b[0m\u001b[1;36m0\u001b[0m\u001b[1;33m)\u001b[0m\u001b[1;33m)\u001b[0m\u001b[1;33m*\u001b[0m\u001b[0mLL\u001b[0m\u001b[1;33m\u001b[0m\u001b[1;33m\u001b[0m\u001b[0m\n\u001b[0m\u001b[0;32m     13\u001b[0m     \u001b[1;31m# pear_surr = np.sign(np.max([pear,pear2],0))*abs(np.max([pear,pear2],0)**exp)*LL\u001b[0m\u001b[1;33m\u001b[0m\u001b[1;33m\u001b[0m\u001b[1;33m\u001b[0m\u001b[0m\n\u001b[0;32m     14\u001b[0m     \u001b[0mpear_surr_all\u001b[0m \u001b[1;33m=\u001b[0m \u001b[0mnp\u001b[0m\u001b[1;33m.\u001b[0m\u001b[0mconcatenate\u001b[0m\u001b[1;33m(\u001b[0m\u001b[1;33m[\u001b[0m\u001b[0mpear_surr_all\u001b[0m\u001b[1;33m,\u001b[0m\u001b[0mpear_surr\u001b[0m\u001b[1;33m]\u001b[0m\u001b[1;33m)\u001b[0m\u001b[1;33m\u001b[0m\u001b[1;33m\u001b[0m\u001b[0m\n",
      "\u001b[1;31mNameError\u001b[0m: name 'LL' is not defined"
     ]
    }
   ],
   "source": [
    "dat = con_trial[(con_trial.Stim==sc)&(con_trial.Chan==rc)&(con_trial.Artefact<1)]\n",
    "EEG_trials = ff.lp_filter(EEG_CR[[[rc]], dat.Num.values.astype('int'), :], 45, Fs)\n",
    "# LL_trials = LLf.get_LL_all(EEG_trials, Fs, w_cluster, 1, 0)\n",
    "# surr\n",
    "exp = 2\n",
    "pear_surr_all = []\n",
    "for t_test in [0, 0.2, 0.5, 1.5, 2.5]:\n",
    "\n",
    "    pear = get_pearson2mean(M_GT[1,:], EEG_trials[0], tx=t_0+t_resp, ty=t_test, win=w_cluster, Fs=500)  # Pearson# Pearson\n",
    "    pear2 = get_pearson2mean(M_GT[2,:], EEG_trials[0], tx=t_0+t_resp, ty=t_test, win=w_cluster, Fs=500)  # Pearson# Pearson\n",
    "    #LL = LL_trials[0,:,int(t_test+w_cluster/2)*Fs]\n",
    "    pear_surr = np.arctanh(np.max([pear,pear2],0))*LL\n",
    "    # pear_surr = np.sign(np.max([pear,pear2],0))*abs(np.max([pear,pear2],0)**exp)*LL\n",
    "    pear_surr_all = np.concatenate([pear_surr_all,pear_surr])\n",
    "\n",
    "\n",
    "# real\n",
    "t_test = t_0+t_resp\n",
    "pear = get_pearson2mean(M_GT[1,:], EEG_trials[0], tx=t_0+t_resp, ty=t_test, win=w_cluster, Fs=500)  # Pearson# Pearson\n",
    "pear2 = get_pearson2mean(M_GT[2,:], EEG_trials[0], tx=t_0+t_resp, ty=t_test, win=w_cluster, Fs=500)  # Pearson# Pearson\n",
    "#LL = LL_trials[0,:,int(t_test+w_cluster/2)*Fs]\n",
    "pear =np.arctanh(np.max([pear,pear2],0))*LL# np.sign(np.max([pear,pear2],0))*abs(np.max([pear,pear2],0)**exp)*LL\n",
    "\n",
    "sig = (pear>np.percentile(pear_surr_all,95))*1\n",
    "\n",
    "plt.hist(pear_surr_all, label='surr', alpha= 0.5)\n",
    "plt.axvline(np.percentile(pear_surr_all,95), color=[0,0,0], label = '95th')\n",
    "plt.hist(pear, label='trials', alpha= 0.8)\n",
    "plt.xlabel('arctanh(Pears) *LL')\n",
    "#plt.xlabel('Pears^'+str(exp)+' *LL')\n",
    "plt.legend()"
   ]
  },
  {
   "cell_type": "code",
   "execution_count": 61,
   "id": "collectible-sunday",
   "metadata": {},
   "outputs": [],
   "source": [
    "sig_label  =['Non-sig', 'Sig']"
   ]
  },
  {
   "cell_type": "code",
   "execution_count": 62,
   "id": "bright-dispute",
   "metadata": {},
   "outputs": [
    {
     "ename": "NameError",
     "evalue": "name 'sig' is not defined",
     "output_type": "error",
     "traceback": [
      "\u001b[1;31m---------------------------------------------------------------------------\u001b[0m",
      "\u001b[1;31mNameError\u001b[0m                                 Traceback (most recent call last)",
      "\u001b[1;32m<ipython-input-62-84ab18453602>\u001b[0m in \u001b[0;36m<module>\u001b[1;34m\u001b[0m\n\u001b[0;32m     11\u001b[0m     \u001b[1;32melse\u001b[0m\u001b[1;33m:\u001b[0m\u001b[1;33m\u001b[0m\u001b[1;33m\u001b[0m\u001b[0m\n\u001b[0;32m     12\u001b[0m         \u001b[0mfig\u001b[0m\u001b[1;33m.\u001b[0m\u001b[0madd_subplot\u001b[0m\u001b[1;33m(\u001b[0m\u001b[0mgs\u001b[0m\u001b[1;33m[\u001b[0m\u001b[1;36m0\u001b[0m\u001b[1;33m,\u001b[0m\u001b[0mc\u001b[0m\u001b[1;33m]\u001b[0m\u001b[1;33m,\u001b[0m \u001b[0msharey\u001b[0m\u001b[1;33m=\u001b[0m\u001b[0max\u001b[0m\u001b[1;33m)\u001b[0m\u001b[1;33m\u001b[0m\u001b[1;33m\u001b[0m\u001b[0m\n\u001b[1;32m---> 13\u001b[1;33m     \u001b[0mmn\u001b[0m \u001b[1;33m=\u001b[0m \u001b[0mff\u001b[0m\u001b[1;33m.\u001b[0m\u001b[0mlp_filter\u001b[0m\u001b[1;33m(\u001b[0m\u001b[0mnp\u001b[0m\u001b[1;33m.\u001b[0m\u001b[0mnanmean\u001b[0m\u001b[1;33m(\u001b[0m\u001b[0mEEG_CR\u001b[0m\u001b[1;33m[\u001b[0m\u001b[0mrc\u001b[0m\u001b[1;33m,\u001b[0m \u001b[0mdat\u001b[0m\u001b[1;33m.\u001b[0m\u001b[0mNum\u001b[0m\u001b[1;33m.\u001b[0m\u001b[0mvalues\u001b[0m\u001b[1;33m.\u001b[0m\u001b[0mastype\u001b[0m\u001b[1;33m(\u001b[0m\u001b[1;34m'int'\u001b[0m\u001b[1;33m)\u001b[0m\u001b[1;33m[\u001b[0m\u001b[0msig\u001b[0m\u001b[1;33m==\u001b[0m\u001b[0mc\u001b[0m\u001b[1;33m]\u001b[0m\u001b[1;33m,\u001b[0m\u001b[1;33m:\u001b[0m\u001b[1;33m]\u001b[0m\u001b[1;33m,\u001b[0m\u001b[1;36m0\u001b[0m\u001b[1;33m)\u001b[0m\u001b[1;33m,\u001b[0m\u001b[1;36m40\u001b[0m\u001b[1;33m,\u001b[0m\u001b[0mFs\u001b[0m\u001b[1;33m)\u001b[0m\u001b[1;33m\u001b[0m\u001b[1;33m\u001b[0m\u001b[0m\n\u001b[0m\u001b[0;32m     14\u001b[0m     \u001b[1;31m# st = np.std(EEG_CR[rc, dat.Num.values.astype('int')[sig==c],:],0)\u001b[0m\u001b[1;33m\u001b[0m\u001b[1;33m\u001b[0m\u001b[1;33m\u001b[0m\u001b[0m\n\u001b[0;32m     15\u001b[0m     \u001b[0mplt\u001b[0m\u001b[1;33m.\u001b[0m\u001b[0mtitle\u001b[0m\u001b[1;33m(\u001b[0m\u001b[0msig_label\u001b[0m\u001b[1;33m[\u001b[0m\u001b[0mc\u001b[0m\u001b[1;33m]\u001b[0m\u001b[1;33m)\u001b[0m\u001b[1;33m\u001b[0m\u001b[1;33m\u001b[0m\u001b[0m\n",
      "\u001b[1;31mNameError\u001b[0m: name 'sig' is not defined"
     ]
    },
    {
     "data": {
      "image/png": "[encoded data removed]",
      "text/plain": [
       "<Figure size 1440x720 with 1 Axes>"
      ]
     },
     "metadata": {},
     "output_type": "display_data"
    }
   ],
   "source": [
    "## figure\n",
    "fig = plt.figure(figsize=(20,10))\n",
    "fig.patch.set_facecolor('xkcd:white')\n",
    "d = np.round(distance.euclidean(coord_all[sc], coord_all[rc]),1)\n",
    "plt.suptitle(labels_h[sc]+ ' -- '+labels_h[rc]+', d='+str(d)+'mm', fontsize=30)\n",
    "gs       = fig.add_gridspec(1,2)  # GridSpec(4,1, height_ratios=[1,2,1,2])\n",
    "\n",
    "for c in range(2):\n",
    "    if c == 0:\n",
    "        ax = fig.add_subplot(gs[0,c])\n",
    "    else:\n",
    "        fig.add_subplot(gs[0,c], sharey=ax)\n",
    "    mn = ff.lp_filter(np.nanmean(EEG_CR[rc, dat.Num.values.astype('int')[sig==c],:],0),40,Fs)\n",
    "    # st = np.std(EEG_CR[rc, dat.Num.values.astype('int')[sig==c],:],0)\n",
    "    plt.title(sig_label[c])\n",
    "    for i in range(np.sum(sig==c)):\n",
    "        plt.plot(x_ax, ff.lp_filter(EEG_CR[rc, dat.Num.values.astype('int')[sig==c][i],:],40,Fs), color=color_elab[c*2], alpha=0.1)\n",
    "    plt.plot(x_ax, mn, color= [0,0,0], linewidth= 5, label='n: '+str(np.sum(sig==c)))\n",
    "    #plt.fill_between(x_ax, mn-st, mn+st, alpha=0.2, color=color_elab[c*2])\n",
    "    plt.xlabel('time [s]')\n",
    "    plt.xlim([-0.5,1.5])\n",
    "    plt.axvline(0, color=[0,0,0])\n",
    "    plt.ylim([-500,500])\n",
    "    plt.legend()"
   ]
  },
  {
   "cell_type": "code",
   "execution_count": 63,
   "id": "criminal-digit",
   "metadata": {},
   "outputs": [
    {
     "ename": "NameError",
     "evalue": "name 'sig' is not defined",
     "output_type": "error",
     "traceback": [
      "\u001b[1;31m---------------------------------------------------------------------------\u001b[0m",
      "\u001b[1;31mNameError\u001b[0m                                 Traceback (most recent call last)",
      "\u001b[1;32m<ipython-input-63-13ab443e1067>\u001b[0m in \u001b[0;36m<module>\u001b[1;34m\u001b[0m\n\u001b[0;32m      1\u001b[0m \u001b[0mplt\u001b[0m\u001b[1;33m.\u001b[0m\u001b[0mfigure\u001b[0m\u001b[1;33m(\u001b[0m\u001b[0mfigsize\u001b[0m\u001b[1;33m=\u001b[0m\u001b[1;33m(\u001b[0m\u001b[1;36m8\u001b[0m\u001b[1;33m,\u001b[0m\u001b[1;36m6\u001b[0m\u001b[1;33m)\u001b[0m\u001b[1;33m)\u001b[0m\u001b[1;33m\u001b[0m\u001b[1;33m\u001b[0m\u001b[0m\n\u001b[0;32m      2\u001b[0m \u001b[1;32mfor\u001b[0m \u001b[0mc\u001b[0m \u001b[1;32min\u001b[0m \u001b[0mrange\u001b[0m\u001b[1;33m(\u001b[0m\u001b[1;36m2\u001b[0m\u001b[1;33m)\u001b[0m\u001b[1;33m:\u001b[0m\u001b[1;33m\u001b[0m\u001b[1;33m\u001b[0m\u001b[0m\n\u001b[1;32m----> 3\u001b[1;33m     \u001b[0mmn\u001b[0m \u001b[1;33m=\u001b[0m \u001b[0mff\u001b[0m\u001b[1;33m.\u001b[0m\u001b[0mlp_filter\u001b[0m\u001b[1;33m(\u001b[0m\u001b[0mnp\u001b[0m\u001b[1;33m.\u001b[0m\u001b[0mnanmean\u001b[0m\u001b[1;33m(\u001b[0m\u001b[0mEEG_CR\u001b[0m\u001b[1;33m[\u001b[0m\u001b[0mrc\u001b[0m\u001b[1;33m,\u001b[0m \u001b[0mdat\u001b[0m\u001b[1;33m.\u001b[0m\u001b[0mNum\u001b[0m\u001b[1;33m.\u001b[0m\u001b[0mvalues\u001b[0m\u001b[1;33m.\u001b[0m\u001b[0mastype\u001b[0m\u001b[1;33m(\u001b[0m\u001b[1;34m'int'\u001b[0m\u001b[1;33m)\u001b[0m\u001b[1;33m[\u001b[0m\u001b[0msig\u001b[0m\u001b[1;33m==\u001b[0m\u001b[0mc\u001b[0m\u001b[1;33m]\u001b[0m\u001b[1;33m,\u001b[0m\u001b[1;33m:\u001b[0m\u001b[1;33m]\u001b[0m\u001b[1;33m,\u001b[0m\u001b[1;36m0\u001b[0m\u001b[1;33m)\u001b[0m\u001b[1;33m,\u001b[0m\u001b[1;36m40\u001b[0m\u001b[1;33m,\u001b[0m\u001b[0mFs\u001b[0m\u001b[1;33m)\u001b[0m\u001b[1;33m\u001b[0m\u001b[1;33m\u001b[0m\u001b[0m\n\u001b[0m\u001b[0;32m      4\u001b[0m     \u001b[0mst\u001b[0m \u001b[1;33m=\u001b[0m \u001b[0mnp\u001b[0m\u001b[1;33m.\u001b[0m\u001b[0mstd\u001b[0m\u001b[1;33m(\u001b[0m\u001b[0mEEG_CR\u001b[0m\u001b[1;33m[\u001b[0m\u001b[0mrc\u001b[0m\u001b[1;33m,\u001b[0m \u001b[0mdat\u001b[0m\u001b[1;33m.\u001b[0m\u001b[0mNum\u001b[0m\u001b[1;33m.\u001b[0m\u001b[0mvalues\u001b[0m\u001b[1;33m.\u001b[0m\u001b[0mastype\u001b[0m\u001b[1;33m(\u001b[0m\u001b[1;34m'int'\u001b[0m\u001b[1;33m)\u001b[0m\u001b[1;33m[\u001b[0m\u001b[0msig\u001b[0m\u001b[1;33m==\u001b[0m\u001b[0mc\u001b[0m\u001b[1;33m]\u001b[0m\u001b[1;33m,\u001b[0m\u001b[1;33m:\u001b[0m\u001b[1;33m]\u001b[0m\u001b[1;33m,\u001b[0m\u001b[1;36m0\u001b[0m\u001b[1;33m)\u001b[0m\u001b[1;33m\u001b[0m\u001b[1;33m\u001b[0m\u001b[0m\n\u001b[0;32m      5\u001b[0m     \u001b[0mplt\u001b[0m\u001b[1;33m.\u001b[0m\u001b[0mplot\u001b[0m\u001b[1;33m(\u001b[0m\u001b[0mx_ax\u001b[0m\u001b[1;33m,\u001b[0m \u001b[0mmn\u001b[0m\u001b[1;33m,\u001b[0m \u001b[0mcolor\u001b[0m\u001b[1;33m=\u001b[0m\u001b[0mcolor_elab\u001b[0m\u001b[1;33m[\u001b[0m\u001b[0mc\u001b[0m\u001b[1;33m*\u001b[0m\u001b[1;36m2\u001b[0m\u001b[1;33m]\u001b[0m\u001b[1;33m,\u001b[0m \u001b[0mlinewidth\u001b[0m\u001b[1;33m=\u001b[0m \u001b[1;36m5\u001b[0m\u001b[1;33m,\u001b[0m \u001b[0mlabel\u001b[0m\u001b[1;33m=\u001b[0m\u001b[1;34m'n: '\u001b[0m\u001b[1;33m+\u001b[0m\u001b[0mstr\u001b[0m\u001b[1;33m(\u001b[0m\u001b[0mnp\u001b[0m\u001b[1;33m.\u001b[0m\u001b[0msum\u001b[0m\u001b[1;33m(\u001b[0m\u001b[0msig\u001b[0m\u001b[1;33m==\u001b[0m\u001b[0mc\u001b[0m\u001b[1;33m)\u001b[0m\u001b[1;33m)\u001b[0m\u001b[1;33m)\u001b[0m\u001b[1;33m\u001b[0m\u001b[1;33m\u001b[0m\u001b[0m\n",
      "\u001b[1;31mNameError\u001b[0m: name 'sig' is not defined"
     ]
    },
    {
     "data": {
      "text/plain": [
       "<Figure size 576x432 with 0 Axes>"
      ]
     },
     "metadata": {},
     "output_type": "display_data"
    }
   ],
   "source": [
    "plt.figure(figsize=(8,6))\n",
    "for c in range(2):\n",
    "    mn = ff.lp_filter(np.nanmean(EEG_CR[rc, dat.Num.values.astype('int')[sig==c],:],0),40,Fs)\n",
    "    st = np.std(EEG_CR[rc, dat.Num.values.astype('int')[sig==c],:],0)\n",
    "    plt.plot(x_ax, mn, color=color_elab[c*2], linewidth= 5, label='n: '+str(np.sum(sig==c)))\n",
    "    plt.fill_between(x_ax, mn-st, mn+st, alpha=0.2, color=color_elab[c*2])\n",
    "plt.legend()\n",
    "plt.xlabel('time [s]')\n",
    "plt.xlim([-0.5,1.5])\n",
    "plt.axvline(0, color=[0,0,0])"
   ]
  },
  {
   "cell_type": "markdown",
   "id": "gentle-demand",
   "metadata": {},
   "source": [
    "## ALL RESPS"
   ]
  },
  {
   "cell_type": "markdown",
   "id": "greek-disclaimer",
   "metadata": {},
   "source": [
    "#### Plot mean across time"
   ]
  },
  {
   "cell_type": "markdown",
   "id": "ready-paradise",
   "metadata": {},
   "source": [
    "get hypongram data"
   ]
  },
  {
   "cell_type": "code",
   "execution_count": null,
   "id": "communist-trade",
   "metadata": {},
   "outputs": [],
   "source": [
    "day = np.unique(con_trial.Date)\n",
    "t0 = np.min(con_trial.loc[(con_trial.Date==day[0]), 'Hour']).astype('int')\n",
    "t1 = np.max(con_trial.loc[(con_trial.Date==day[-1]), 'Hour']).astype('int')\n",
    "total_hour = (len(day)-1)*24 -(t0-t1)+1"
   ]
  },
  {
   "cell_type": "code",
   "execution_count": null,
   "id": "laughing-pendant",
   "metadata": {},
   "outputs": [],
   "source": [
    "if os.path.isfile(path_patient_analysis+'/BrainMapping/CR/data/time_overview.csv'):\n",
    "    time_overview = pd.read_csv(path_patient_analysis+'/BrainMapping/CR/data/time_overview.csv')\n",
    "else:\n",
    "    time_overview = np.zeros((total_hour,5))\n",
    "    b0 = np.min(con_trial.Block)\n",
    "    time_overview[:,:]=np.nan\n",
    "    time_overview[:,0] = np.arange(total_hour)\n",
    "    i = 0\n",
    "    h0 =  np.bincount(con_trial.loc[con_trial.Block==b0, 'Hour']).argmax()\n",
    "    for b in np.unique(con_trial.Block):\n",
    "        date = np.bincount(con_trial.loc[con_trial.Block==b, 'Date']).argmax()\n",
    "        d = np.where(day==date)[0]\n",
    "        i = np.bincount(con_trial.loc[con_trial.Block==b, 'Hour']).argmax() +d*24-h0\n",
    "        time_overview[i,1] = d\n",
    "        time_overview[i,2] = np.bincount(con_trial.loc[con_trial.Block==b, 'Hour']).argmax()\n",
    "        time_overview[i,3] = b\n",
    "        time_overview[i,4] = b\n",
    "    time_overview = pd.DataFrame(time_overview[:,:4], columns=['ix', 'Day', 'Hour', 'Block'])   \n",
    "    time_overview.insert(3,'Hour_label', 0)\n",
    "    for b in np.unique(time_overview.Block):\n",
    "        if b>0:\n",
    "            time_overview.loc[time_overview.Block==b, 'Hour_label'] = str(int(time_overview.loc[time_overview.Block==b, 'Hour'])).zfill(2)+':00'\n",
    "\n",
    "    time_overview.to_csv(path_patient_analysis+'/BrainMapping/CR/data/time_overview.csv', index=False, header=True)"
   ]
  },
  {
   "cell_type": "code",
   "execution_count": null,
   "id": "loaded-method",
   "metadata": {},
   "outputs": [],
   "source": [
    "# load hypnogram\n",
    "file_hypno = path_patient_analysis+'/stimlist_hypnogram.csv'\n",
    "if os.path.isfile(file_hypno):\n",
    "    stimlist_hypno = pd.read_csv(file_hypno)\n",
    "#stimlist_hypno.loc[(stimlist_hypno.ix_chron>30)&(stimlist_hypno.ix_chron<45), 'sleep'] = 0\n",
    "for d in range(len(np.unique(stimlist_hypno.date))):\n",
    "    stimlist_hypno.loc[stimlist_hypno.date == np.unique(stimlist_hypno.date)[d],'ix_chron']= stimlist_hypno.loc[stimlist_hypno.date == np.unique(stimlist_hypno.date)[d],'ix_h']+d*24\n",
    "time_overview.insert(5, 'Hour_chron', time_overview.Hour+ time_overview.Day*24)  \n",
    "stimlist_hypno = stimlist_hypno[stimlist_hypno.stim_block>0]\n",
    "for p in np.unique(stimlist_hypno.Prot):\n",
    "    stimlist_hypno.loc[stimlist_hypno.Prot==p,'StimNum' ] = stimlist_hypno.loc[stimlist_hypno.Prot==p,'StimNum' ]-np.min(stimlist_hypno.loc[stimlist_hypno.Prot==p,'StimNum' ])"
   ]
  },
  {
   "cell_type": "code",
   "execution_count": null,
   "id": "arctic-baking",
   "metadata": {},
   "outputs": [],
   "source": [
    "non_stim = np.arange(len(labels_all))\n",
    "non_stim = np.delete(non_stim, StimChanIx, 0)\n",
    "WM_chans = np.where(labels_region=='WM')[0]\n",
    "bad_all  = np.unique(np.concatenate([WM_chans,bad_region, bad_chans, non_stim])).astype('int')\n",
    "stim_chans =  np.arange(len(labels_all))\n",
    "stim_chans = np.delete(stim_chans, bad_all, 0)"
   ]
  },
  {
   "cell_type": "code",
   "execution_count": null,
   "id": "verbal-sport",
   "metadata": {},
   "outputs": [],
   "source": [
    "method_labels = ['LL', 'Pearson', 'Compound (LL*Pearson)']\n",
    "t_surr =np.array([0.2, 0.4, 1.6, 2, 2.4])"
   ]
  },
  {
   "cell_type": "code",
   "execution_count": null,
   "id": "permanent-counter",
   "metadata": {},
   "outputs": [],
   "source": [
    "blocks  = np.unique(con_trial.Block)\n",
    "n_plots = np.ceil(np.sqrt(len(blocks))).astype('int')"
   ]
  },
  {
   "cell_type": "code",
   "execution_count": null,
   "id": "compliant-embassy",
   "metadata": {},
   "outputs": [],
   "source": [
    "stop"
   ]
  },
  {
   "cell_type": "markdown",
   "id": "medical-driving",
   "metadata": {},
   "source": [
    "## Plot sleep states"
   ]
  },
  {
   "cell_type": "code",
   "execution_count": null,
   "id": "special-territory",
   "metadata": {},
   "outputs": [],
   "source": [
    "labels_h = labels_L+'_'+labels_region"
   ]
  },
  {
   "cell_type": "code",
   "execution_count": null,
   "id": "latest-philip",
   "metadata": {},
   "outputs": [],
   "source": [
    "con_trial = con_trial.drop(columns=['t_N2','t_N1','sN2','sN1','N1','N2'])"
   ]
  },
  {
   "cell_type": "code",
   "execution_count": null,
   "id": "biblical-father",
   "metadata": {
    "scrolled": true
   },
   "outputs": [],
   "source": [
    "con_trial.insert(5, 'SleepState', 'Wake_M')\n",
    "con_trial.loc[(con_trial.Sleep>1)&(con_trial.Sleep<4), 'SleepState'] ='NREM'\n",
    "con_trial.loc[(con_trial.Sleep==4), 'SleepState'] ='REM'\n",
    "con_trial.loc[(con_trial.Sleep==0)&(con_trial.Hour>=9)&(con_trial.Hour<15), 'SleepState'] ='Wake_M'\n",
    "con_trial.loc[(con_trial.Sleep==0)&(con_trial.Hour>=15)&(con_trial.Hour<21), 'SleepState'] ='Wake_A'\n",
    "con_trial.loc[(con_trial.Sleep==0)&((con_trial.Hour<9)|(con_trial.Hour>=21)), 'SleepState'] ='Wake_N'\n",
    "sleepstate_labels = np.unique(con_trial['SleepState'])"
   ]
  },
  {
   "cell_type": "code",
   "execution_count": null,
   "id": "billion-nicholas",
   "metadata": {},
   "outputs": [],
   "source": [
    "def manhattan_distance(x, y):# same as HW1, base distance function for DTW\n",
    "    return float(np.sum(abs(x - y)))\n",
    "def manhattan_distance(x, y):# same as HW1, base distance function for DTW\n",
    "    return float(np.sum(abs(x - y)))\n",
    "\n",
    "def constrained_dtw(x, y, w):\n",
    "    # create DTW matrix filled with infinity, except for D[0,0]\n",
    "    D       = np.ones((len(x) + 1, len(y) + 1)) * np.inf\n",
    "    D[0, 0] = 0.0\n",
    "    for i in range(1, D.shape[0]):       # through each row\n",
    "        j_values = np.arange(np.max([1,i-w]),np.min([i+w+1,D.shape[1]])) # |i-j| < w +1\n",
    "        # for j in range(1, D.shape[1]): if there was no w-constrained warping\n",
    "        for j in j_values.astype('int'): # only columns that meet the requirements\n",
    "            dist    = scipy.spatial.distance.euclidean(x[i-1], y[j-1])# manhattan_distance(x[i-1], y[j-1]) # 0th element in time series is 1st element in DTW\n",
    "            D[i, j] = dist + np.min([[D[i - 1, j], D[i, j - 1], D[i - 1, j - 1]]])\n",
    "    return D[-1,-1].astype('float') # last element"
   ]
  },
  {
   "cell_type": "code",
   "execution_count": null,
   "id": "olympic-receiver",
   "metadata": {},
   "outputs": [],
   "source": [
    "d = constrained_dtw(trial[500:750], mean[500:750], int(0.05*Fs))"
   ]
  },
  {
   "cell_type": "code",
   "execution_count": null,
   "id": "diagnostic-apparatus",
   "metadata": {},
   "outputs": [],
   "source": [
    "corr = np.corrcoef(trial[500:750], mean[500:750])[0, 1]\n",
    "corr"
   ]
  },
  {
   "cell_type": "code",
   "execution_count": null,
   "id": "ecological-theorem",
   "metadata": {},
   "outputs": [],
   "source": [
    "d"
   ]
  },
  {
   "cell_type": "code",
   "execution_count": null,
   "id": "convertible-supplement",
   "metadata": {},
   "outputs": [],
   "source": [
    "subj"
   ]
  },
  {
   "cell_type": "code",
   "execution_count": null,
   "id": "framed-breach",
   "metadata": {},
   "outputs": [],
   "source": [
    "sc = 11\n",
    "rc = 13\n",
    "lists = con_trial[(con_trial['Chan'] == rc) & (con_trial['Stim'] == sc)]\n",
    "stimNum_all = lists.Num.values.astype('int')\n",
    "resps_trials = EEG_CR[rc, stimNum_all, :]\n",
    "i = 100\n",
    "trial = ff.lp_filter(resps_trials[i], 40, Fs)\n",
    "mean = ff.lp_filter(np.mean(resps_trials,0), 40, Fs)\n",
    "plt.plot(x_ax, trial, label ='trial')\n",
    "plt.plot(x_ax, mean, label='Mean')\n",
    "plt.xlim([-0.25, 1])\n",
    "plt.legend()"
   ]
  },
  {
   "cell_type": "code",
   "execution_count": null,
   "id": "extended-spare",
   "metadata": {},
   "outputs": [],
   "source": []
  },
  {
   "cell_type": "code",
   "execution_count": null,
   "id": "roman-serve",
   "metadata": {},
   "outputs": [],
   "source": []
  },
  {
   "cell_type": "code",
   "execution_count": null,
   "id": "systematic-chair",
   "metadata": {},
   "outputs": [],
   "source": [
    "sc= 18\n",
    "rc = 65\n",
    "#con_trial_all, t0 = get_trial_Pearson(sc, rc, con_trial, EEG_CR, w_p=0.1,w_LL=0.25, Fs=500)\n",
    "\n",
    "## figure\n",
    "fig = plt.figure(figsize=(20,10))\n",
    "fig.patch.set_facecolor('xkcd:white')\n",
    "k = 3\n",
    "d = np.round(distance.euclidean(coord_all[sc], coord_all[rc]),1)\n",
    "plt.suptitle(labels_h[sc]+ ' -- '+labels_h[rc]+', d='+str(d)+'mm', fontsize=30)\n",
    "gs       = fig.add_gridspec(2,4, width_ratios=[1,1,1,2])  # GridSpec(4,1, height_ratios=[1,2,1,2])\n",
    "k = 0\n",
    "for ss in np.sort(np.unique(con_trial.SleepState))[::-1]:\n",
    "    fig.add_subplot(gs[np.floor(k/3).astype('int'),np.mod(k,3)])\n",
    "    plt.title(ss, fontsize=15)\n",
    "    summ = con_trial[(con_trial.Artefact>-1)&(con_trial.Stim==sc)&(con_trial.Chan==rc)&(con_trial.SleepState==ss)] # (con_trial.Sleep==s)&\n",
    "    summ.loc[summ.Sig==1,'Sig'] = 1\n",
    "    summ.loc[summ.Sig==2,'Sig'] = 1\n",
    "    sig = np.mean(summ.loc[summ.Sig>-1,'Sig'])\n",
    "    plt.title(ss+', Prob: '+str(np.round(sig,2)), fontsize=15)\n",
    "    for sig in [0,1]:\n",
    "        StimNum = summ.loc[summ.Sig==sig,'Num'].values.astype('int')\n",
    "        for i in range(len(StimNum)):\n",
    "            plt.plot(x_ax, ff.lp_filter(EEG_resp[rc, StimNum[i]],45,Fs), color=color_elab[0], alpha= 0.5*sig+0.5)\n",
    "    StimNum = summ.loc[summ.Sig>-1,'Num'].values.astype('int')\n",
    "    \n",
    "    plt.plot(x_ax, ff.lp_filter(np.mean(EEG_resp[rc, StimNum,:],0),45,Fs), color=[0,0,0], linewidth=3, alpha=1)\n",
    "    plt.xlim([-0.2,0.5])\n",
    "    plt.ylim([-500,500])\n",
    "    plt.axvline(0,color=[0.8, 0.2, 0])\n",
    "    plt.axvline(t0-1,color=[0, 0, 0],alpha=0.2)\n",
    "    k = k+1\n",
    "ax_sns = fig.add_subplot(gs[:,3])\n",
    "summ = con_trial[(con_trial.Artefact>-1)&(con_trial.Stim==sc)&(con_trial.Chan==rc)] \n",
    "sns.swarmplot(x='SleepState', y= 'LL', data= summ, hue='Sig', ax=ax_sns, size=10)\n",
    "plt.ylim([2,8])\n",
    "plt.tight_layout()"
   ]
  },
  {
   "cell_type": "code",
   "execution_count": null,
   "id": "round-strand",
   "metadata": {},
   "outputs": [],
   "source": [
    "## Single connections\n",
    "# plot all sleep states and then LL values\n",
    "summ = con_trial[(con_trial.Artefact>-1)&(con_trial.Stim==sc)&(con_trial.Chan==rc)] \n",
    "sns.catplot(x='SleepState', y= 'LL', data= summ, hue='Sig', kind='swarm')\n"
   ]
  },
  {
   "cell_type": "markdown",
   "id": "optimum-romance",
   "metadata": {},
   "source": [
    "## GET LL and Pearson for all trials and calculate the surrogates"
   ]
  },
  {
   "cell_type": "markdown",
   "id": "invalid-wrapping",
   "metadata": {},
   "source": [
    "#####  1. Get LL, Pearson for all trials"
   ]
  },
  {
   "cell_type": "code",
   "execution_count": null,
   "id": "formed-clause",
   "metadata": {},
   "outputs": [],
   "source": [
    "import warnings\n",
    "# I expect to see RuntimeWarnings in this block\n",
    "warnings.simplefilter(\"ignore\", category=RuntimeWarning)\n",
    "pd.options.mode.chained_assignment = None  # default='warn'"
   ]
  },
  {
   "cell_type": "code",
   "execution_count": null,
   "id": "sufficient-delaware",
   "metadata": {
    "scrolled": true
   },
   "outputs": [],
   "source": [
    "# con_trial.insert(4,'LL0',0)\n",
    "# con_trial.insert(4,'PLL',0)"
   ]
  },
  {
   "cell_type": "code",
   "execution_count": null,
   "id": "applied-government",
   "metadata": {},
   "outputs": [],
   "source": [
    "EEG_CR.shape"
   ]
  },
  {
   "cell_type": "code",
   "execution_count": null,
   "id": "binding-configuration",
   "metadata": {},
   "outputs": [],
   "source": [
    "for sc in tqdm(stim_chans, desc='Stimulation Channel'):\n",
    "    for rc in tqdm(stim_chans, desc='Response Channel', leave=False):\n",
    "        req = (con_trial.Artefact<1)&(con_trial.Chan==rc)&(con_trial.Stim==sc)\n",
    "        dat = con_trial[req]\n",
    "        if len(dat)>0:\n",
    "            con_trial = sig_func.get_trial_Pearson(sc, rc, con_trial, EEG_CR, w_p=0.1,w_LL=0.25, Fs=500)"
   ]
  },
  {
   "cell_type": "code",
   "execution_count": null,
   "id": "excess-evening",
   "metadata": {},
   "outputs": [],
   "source": [
    "file_thr = path_patient + '/Analysis/' + folder + '/' + cond_folder + '/data/threshold_blocks.npy'\n",
    "blocks = np.unique(con_trial.Block)\n",
    "# repeat = 0\n",
    "if os.path.isfile(file_thr):\n",
    "    thr_blocks = np.load(file_thr)"
   ]
  },
  {
   "cell_type": "code",
   "execution_count": null,
   "id": "crude-neighborhood",
   "metadata": {},
   "outputs": [],
   "source": [
    "for sc in tqdm(stim_chans, desc='Stimulation Channel'):\n",
    "    for rc in tqdm(stim_chans, desc='Response Channel', leave=False):\n",
    "        thr_blocks, con_trial = sig_func.get_surr_connection(sc, rc, EEG_CR, thr_blocks, con_trial, w_LL=0.25, w_p=0.1,\n",
    "                        Fs=500)"
   ]
  },
  {
   "cell_type": "code",
   "execution_count": null,
   "id": "prostate-entry",
   "metadata": {},
   "outputs": [],
   "source": [
    "con_trial.PLL = con_trial.LL0*con_trial.Pearson"
   ]
  },
  {
   "cell_type": "code",
   "execution_count": null,
   "id": "useful-sunrise",
   "metadata": {},
   "outputs": [],
   "source": [
    "file_con = path_patient + '/Analysis/' + folder + '/' + cond_folder + '/data/con_trial.csv'\n",
    "con_trial.to_csv(file_con, index=False, header=True)"
   ]
  },
  {
   "cell_type": "markdown",
   "id": "exciting-massachusetts",
   "metadata": {},
   "source": [
    "##### 2. Get Surrogate thresholds for each block"
   ]
  },
  {
   "cell_type": "code",
   "execution_count": null,
   "id": "welsh-birmingham",
   "metadata": {
    "scrolled": true
   },
   "outputs": [],
   "source": [
    "file_thr = path_patient + '/Analysis/' + folder + '/' + cond_folder + '/data/threshold_blocks.npy'\n",
    "repeat = 0\n",
    "if os.path.isfile(file_thr):\n",
    "    thr_blocks = np.load(file_thr)\n",
    "#thr_blocks = np.zeros((len(blocks), len(labels_all), len(labels_all), 3)) "
   ]
  },
  {
   "cell_type": "code",
   "execution_count": null,
   "id": "closed-novelty",
   "metadata": {},
   "outputs": [],
   "source": [
    "thr_blocks = np.zeros((len(blocks), len(labels_all), len(labels_all), 3)) "
   ]
  },
  {
   "cell_type": "code",
   "execution_count": null,
   "id": "administrative-nursing",
   "metadata": {
    "scrolled": true
   },
   "outputs": [],
   "source": [
    "for sc in tqdm(stim_chans, desc='Stimulation Channel'):\n",
    "    for rc in tqdm(stim_chans, desc='Response Channel', leave=False):\n",
    "        con_trial2,p_val = get_surr_connection_update(sc, rc,EEG_CR,thr_blocks, con_trial2,p_val)"
   ]
  },
  {
   "cell_type": "code",
   "execution_count": null,
   "id": "permanent-surname",
   "metadata": {},
   "outputs": [],
   "source": [
    "np.save(path_patient + '/Analysis/' + folder + '/' + cond_folder + '/data/threshold_p.npy',p_val)"
   ]
  },
  {
   "cell_type": "code",
   "execution_count": null,
   "id": "adapted-retro",
   "metadata": {},
   "outputs": [],
   "source": [
    "for sc in tqdm(np.unique(con_trial2.loc[(con_trial2.Sig_pearson==-1),'Stim'] ).astype('int'), desc='Stimulation Channel'):\n",
    "    chans = np.unique(con_trial2.loc[(con_trial2.Stim==sc)&(con_trial2.Sig_pearson==-1),'Chan']).astype('int')\n",
    "    for rc in tqdm(chans, desc='Response Channel', leave=False):\n",
    "        #con_trial2 = get_trial_Pearson(sc,rc,con_trial2,  EEG_CR, t0=1)\n",
    "        con_trial2,p_val = get_surr_connection_update(sc, rc,EEG_CR,thr_blocks, con_trial2,p_val)"
   ]
  },
  {
   "cell_type": "code",
   "execution_count": null,
   "id": "resident-warrior",
   "metadata": {},
   "outputs": [],
   "source": [
    "def get_surr_connection_update(sc, rc,EEG_CR,thr_old,con_trial,p_val):#get_surr_connection(sc, rc,con_trial,EEG_CR,thr_blocks, m=2):\n",
    "    req_gt = (con_trial.Artefact==0)&(con_trial.Chan==rc)&(con_trial.Stim==sc)\n",
    "    req = (con_trial.Artefact<1)&(con_trial.Chan==rc)&(con_trial.Stim==sc)\n",
    "    dat = con_trial[req]\n",
    "    \n",
    "    if len(dat)>0:\n",
    "        # con_trial = get_trial_Pearson(sc,rc,con_trial,  EEG_CR, t0=1)\n",
    "        ##ground truth\n",
    "        StimNum = con_trial.loc[req_gt, 'Num'].values.astype('int')\n",
    "        mn_gt = np.nanmean(EEG_CR[rc, StimNum,:],0)\n",
    "        mn_gt = ff.lp_filter(mn_gt, 30, Fs)\n",
    "        # start of GT response\n",
    "        t0,p = get_gt_to(mn_gt)\n",
    "        t0 = t0-0.01*Fs\n",
    "        t0 = np.max([Fs, t0])\n",
    "        t0 = t0/Fs #in seconds\n",
    "        p_val[sc,rc]=p\n",
    "        b_in = 0\n",
    "        if p==1:\n",
    "            for b in blocks:\n",
    "                thr = thr_old[b_in, sc, rc, 0]\n",
    "                con_trial.loc[req&(con_trial.Block==b)&(con_trial.PLL>=thr), 'Sig_pearson'] = 1*p\n",
    "                con_trial.loc[req&(con_trial.Block==b)&(con_trial.PLL<thr), 'Sig_pearson'] = 0\n",
    "                b_in = b_in+1\n",
    "        else:\n",
    "            con_trial.loc[req, 'Sig_pearson'] = 0\n",
    "    return con_trial,p_val"
   ]
  },
  {
   "cell_type": "markdown",
   "id": "seeing-neighbor",
   "metadata": {},
   "source": [
    "##### 3. Update Sig test for each trial if not done yet (usually already during threshold calculations)"
   ]
  },
  {
   "cell_type": "code",
   "execution_count": null,
   "id": "dense-wiring",
   "metadata": {},
   "outputs": [],
   "source": [
    "labels_all"
   ]
  },
  {
   "cell_type": "code",
   "execution_count": null,
   "id": "controlling-induction",
   "metadata": {},
   "outputs": [],
   "source": [
    "dat = con_trial[(con_trial.Stim==sc)&(con_trial.Chan==rc)&(con_trial.Artefact<1)]\n",
    "mn = np.nanmean(EEG_CR[rc, dat.Num.values.astype('int'),:],0)\n",
    "st = np.nanstd(EEG_CR[rc, dat.Num.values.astype('int'),:],0)\n",
    "plt.plot(x_ax, mn, label='sig, n: '+str(len(dat)))\n",
    "plt.fill_between(x_ax, mn-st, mn+st, alpha = 0.2)"
   ]
  },
  {
   "cell_type": "code",
   "execution_count": null,
   "id": "abroad-bhutan",
   "metadata": {},
   "outputs": [],
   "source": [
    "sc = 2 \n",
    "rc = 56\n"
   ]
  },
  {
   "cell_type": "code",
   "execution_count": null,
   "id": "characteristic-rental",
   "metadata": {},
   "outputs": [],
   "source": [
    "con_trial = sig_func.get_trial_Pearson(sc, rc, con_trial, EEG_CR, w_p=0.1,w_LL=0.25, Fs=500, cond=cond_folder)\n"
   ]
  },
  {
   "cell_type": "code",
   "execution_count": null,
   "id": "ranging-summit",
   "metadata": {},
   "outputs": [],
   "source": [
    "con_trial[np.isnan(con_trial.Pearson)]"
   ]
  },
  {
   "cell_type": "markdown",
   "id": "nasty-terry",
   "metadata": {},
   "source": [
    "con_trial = sig_func.get_trial_Pearson(sc, rc, con_trial, EEG_CR, w_p=0.1,w_LL=0.25, Fs=500, cond=cond_folder)\n",
    "con_trial.PLL = con_trial.LL0*con_trial.Pearson\n",
    "thr_blocks, con_trial = sig_func.get_surr_connection(sc, rc, EEG_CR, thr_blocks, con_trial, w_LL=0.25, w_p=0.1,\n",
    "                        Fs=500)"
   ]
  },
  {
   "cell_type": "code",
   "execution_count": null,
   "id": "enabling-triangle",
   "metadata": {
    "scrolled": true
   },
   "outputs": [],
   "source": [
    "con_trial[(con_trial.Stim==sc)&(con_trial.Chan==rc)&(con_trial.Artefact>=-1)]"
   ]
  },
  {
   "cell_type": "code",
   "execution_count": null,
   "id": "second-architect",
   "metadata": {},
   "outputs": [],
   "source": [
    "sc = 11\n",
    "rc = 35\n",
    "fig = plt.figure(figsize=(10,8))\n",
    "fig.patch.set_facecolor('xkcd:white')\n",
    "plt.title(subj+' -- '+labels_h[sc]+' - '+labels_h[rc])\n",
    "#all\n",
    "dat = con_trial[(con_trial.Stim==sc)&(con_trial.Chan==rc)&(con_trial.Artefact<1)]\n",
    "mn_gt = ff.lp_filter(np.nanmean(EEG_CR[rc, dat.Num.values.astype('int'),:],0),40,Fs)\n",
    "t0,p = sig_func.get_gt_to(mn_gt)\n",
    "t0 = t0-0.02*Fs\n",
    "t0 = np.max([Fs, t0])\n",
    "t0 = t0/Fs #in seconds\n",
    "plt.plot(x_ax, mn_gt, label='all', color=[0,0,0])\n",
    "\n",
    "dat = con_trial[(con_trial.Stim==sc)&(con_trial.Chan==rc)&(con_trial.Sig>=1)&(con_trial.Artefact<1)]\n",
    "mn = ff.lp_filter(np.nanmean(EEG_CR[rc, dat.Num.values.astype('int'),:],0),40,Fs)\n",
    "st = np.nanstd(EEG_CR[rc, dat.Num.values.astype('int'),:],0)\n",
    "plt.plot(x_ax, mn, label='sig, n: '+str(len(dat)))\n",
    "plt.fill_between(x_ax, mn-st, mn+st, alpha = 0.2)\n",
    "dat = con_trial[(con_trial.Stim==sc)&(con_trial.Chan==rc)&(con_trial.Sig==0)&(con_trial.Artefact<1)]\n",
    "mn = np.nanmean(EEG_CR[rc, dat.Num.values.astype('int'),:],0)\n",
    "st = np.nanstd(EEG_CR[rc, dat.Num.values.astype('int'),:],0)\n",
    "plt.plot(x_ax, mn, label='non-sig, n: '+str(len(dat)))\n",
    "plt.fill_between(x_ax, mn-st, mn+st, alpha = 0.2)\n",
    "plt.legend()\n",
    "plt.xlim([-1,1])\n",
    "plt.axvline(0, color=[1,0,0])\n",
    "plt.axvline(t0-1, color=[0,0,0], alpha=0.1)\n",
    "plt.axvline(t0-1+0.08, color=[0,0,0], alpha=0.1)\n",
    "plt.ylim([-500,500])\n",
    "plt.show()"
   ]
  },
  {
   "cell_type": "markdown",
   "id": "molecular-explanation",
   "metadata": {},
   "source": [
    "##### 4. Test some single connections"
   ]
  },
  {
   "cell_type": "code",
   "execution_count": null,
   "id": "german-index",
   "metadata": {},
   "outputs": [],
   "source": [
    "def get_trial_Pearson(sc, rc, con_trial_all, EEG_CR, w_p=0.1,w_LL=0.25, Fs=500):\n",
    "    # for specific connection (stim sc, chan rc) get the pearson coefficients for all trials across blocks\n",
    "    req = (con_trial_all.Artefact < 1) & (con_trial_all.Chan == rc) & (con_trial_all.Stim == sc)\n",
    "    StimNum = con_trial_all.loc[req, 'Num'].values.astype('int')\n",
    "    StimNum_Gt = con_trial_all.loc[req & (con_trial_all.Artefact == 0), 'Num'].values.astype('int')\n",
    "    if len(StimNum_Gt) > 0:\n",
    "        mn = np.nanmean(EEG_CR[rc, StimNum_Gt, :], 0)\n",
    "        mn_filt = ff.lp_filter(mn, 30, Fs)\n",
    "        EEG_LL = ff.lp_filter(EEG_CR[[[rc]], StimNum, :], 45, Fs)\n",
    "        EEG_pearson = ff.lp_filter(EEG_CR[[[rc]], StimNum, :], 30, Fs)\n",
    "        # start of response\n",
    "        t0, p = sig_func.get_gt_to(mn_filt, Fs)\n",
    "        t0 = t0 - 0.02 * Fs\n",
    "        t0 = np.max([Fs, t0])\n",
    "        t0 = t0 / Fs\n",
    "\n",
    "        # post stim\n",
    "        pear1 = sig_func.get_pearson2mean(mn_filt, EEG_pearson[0], tx=t0, ty=t0, win=w_p, Fs=Fs)  # Pearson# Pearson\n",
    "        LL_trials = LLf.get_LL_all(EEG_LL[:, :, int(t0 * Fs):int((t0 + 0.3) * Fs)], Fs, w_LL, 0,\n",
    "                                   np.zeros((len(StimNum), 1)))\n",
    "        # todo: easy fix, find better way\n",
    "        if p:\n",
    "            for dt in [0.002, 0.004, 0.006, 0.008]:\n",
    "                pear2 = sig_func.get_pearson2mean(mn_filt, EEG_pearson[0], tx=t0, ty=t0 - 0.005 + dt, win=w_p,\n",
    "                                         Fs=500)  # Pearson# Pearson\n",
    "                pear1 = np.nanmax([pear1, pear2], 0)\n",
    "\n",
    "        # phase = get_phasesync2mean(ff.bp_filter(mn, 1, 20, Fs), ff.bp_filter(EEG_CR[rc, StimNum, :], 1, 20, Fs), tx=t0,\n",
    "        #                           ty=t0, win=0.05, Fs=500)  # Phase synchrony# Phase synchrony\n",
    "\n",
    "        # update contrial list\n",
    "        con_trial_all.loc[req, 'Pearson'] = pear1\n",
    "        con_trial_all.loc[req, 'LL0'] = np.max(LL_trials[0],1)\n",
    "    return con_trial_all,t0"
   ]
  },
  {
   "cell_type": "code",
   "execution_count": null,
   "id": "ranging-details",
   "metadata": {},
   "outputs": [],
   "source": [
    "con_trial= get_trial_Pearson(sc, rc, con_trial, EEG_CR, w_p=0.1,w_LL=0.25, Fs=500)"
   ]
  },
  {
   "cell_type": "code",
   "execution_count": null,
   "id": "universal-theory",
   "metadata": {},
   "outputs": [],
   "source": [
    "for sc in tqdm(stim_chans, desc='Stimulation Channel'):\n",
    "    for rc in tqdm(stim_chans, desc='Response Channel', leave=False):\n",
    "        thr_blocks, con_trial = sig_func.get_surr_connection(sc, rc, EEG_CR, thr_blocks, con_trial, w_LL=0.25, w_p=0.1,\n",
    "                        Fs=500)"
   ]
  },
  {
   "cell_type": "code",
   "execution_count": null,
   "id": "short-civilization",
   "metadata": {},
   "outputs": [],
   "source": [
    "file_thr = path_patient + '/Analysis/' + folder + '/' + cond_folder + '/data/threshold_blocks.npy'\n",
    "np.save(file_thr,thr_blocks)\n"
   ]
  },
  {
   "cell_type": "code",
   "execution_count": null,
   "id": "italic-battle",
   "metadata": {},
   "outputs": [],
   "source": [
    "file_con = path_patient + '/Analysis/' + folder + '/' + cond_folder + '/data/con_trial.csv'\n",
    "con_trial.to_csv(file_con, index=False, header=True)\n"
   ]
  },
  {
   "cell_type": "code",
   "execution_count": null,
   "id": "silent-longitude",
   "metadata": {},
   "outputs": [],
   "source": [
    "con_trial.PLL = con_trial.LL0*con_trial.Pearson\n",
    "thr_blocks, con_trial = sig_func.get_surr_connection(sc, rc, EEG_CR, thr_blocks, con_trial, w_LL=0.25, w_p=0.1,\n",
    "                        Fs=500)"
   ]
  },
  {
   "cell_type": "code",
   "execution_count": null,
   "id": "warming-mouth",
   "metadata": {},
   "outputs": [],
   "source": [
    "thr_blocks"
   ]
  },
  {
   "cell_type": "code",
   "execution_count": null,
   "id": "quiet-dominican",
   "metadata": {},
   "outputs": [],
   "source": [
    "\n",
    "fig = plt.figure(figsize=(10,8))\n",
    "fig.patch.set_facecolor('xkcd:white')\n",
    "plt.title(subj+' -- '+labels_all[sc]+' - '+labels_all[rc])\n",
    "#all\n",
    "dat = con_trial[(con_trial.Stim==sc)&(con_trial.Chan==rc)&(con_trial.Artefact==0)]\n",
    "mn_gt = ff.lp_filter(np.nanmean(EEG_CR[rc, dat.Num.values.astype('int'),:],0),40,Fs)\n",
    "t0,p = sig_func.get_gt_to(mn_gt)\n",
    "t0 = t0-0.02*Fs\n",
    "t0 = np.max([Fs, t0])\n",
    "t0 = t0/Fs #in seconds\n",
    "plt.plot(x_ax, mn_gt, label='all', color=[0,0,0])\n",
    "\n",
    "dat = con_trial[(con_trial.Stim==sc)&(con_trial.Chan==rc)&(con_trial.Sig==1)&(con_trial.Artefact<1)]\n",
    "mn = np.nanmean(EEG_CR[rc, dat.Num.values.astype('int'),:],0)\n",
    "st = np.nanstd(EEG_CR[rc, dat.Num.values.astype('int'),:],0)\n",
    "plt.plot(x_ax, mn, label='sig, n: '+str(len(dat)))\n",
    "plt.fill_between(x_ax, mn-st, mn+st, alpha = 0.2)\n",
    "dat = con_trial[(con_trial.Stim==sc)&(con_trial.Chan==rc)&(con_trial.Sig==0)&(con_trial.Artefact<1)]\n",
    "mn = np.nanmean(EEG_CR[rc, dat.Num.values.astype('int'),:],0)\n",
    "st = np.nanstd(EEG_CR[rc, dat.Num.values.astype('int'),:],0)\n",
    "plt.plot(x_ax, mn, label='non-sig, n: '+str(len(dat)))\n",
    "plt.fill_between(x_ax, mn-st, mn+st, alpha = 0.2)\n",
    "plt.legend()\n",
    "plt.xlim([-1,1])\n",
    "plt.axvline(0, color=[1,0,0])\n",
    "plt.axvline(t0-1, color=[0,0,0])\n",
    "plt.axvline(t0-1+0.08, color=[0,0,0])\n",
    "plt.show()"
   ]
  },
  {
   "cell_type": "code",
   "execution_count": null,
   "id": "empty-processing",
   "metadata": {
    "scrolled": true
   },
   "outputs": [],
   "source": [
    "i=i+1\n",
    "fig = plt.figure(figsize=(10,8))\n",
    "fig.patch.set_facecolor('xkcd:white')\n",
    "plt.plot(x_ax,ff.lp_filter(EEG_CR[rc, dat.Num.values.astype('int')[i],:],30,Fs), label='non sig trial' )\n",
    "plt.plot(x_ax, ff.lp_filter(mn_gt,30,Fs), label='mean all trials', color=[0,0,0], alpha=0.5)\n",
    "plt.xlim([-1,1])\n",
    "plt.axvline(0, color=[1,0,0])\n",
    "plt.axvline(t0-1, color=[0,0,0])\n",
    "plt.axvline(t0-1+0.06, color=[0,0,0])\n",
    "plt.legend()"
   ]
  },
  {
   "cell_type": "code",
   "execution_count": null,
   "id": "heard-delta",
   "metadata": {},
   "outputs": [],
   "source": [
    "fig = plt.figure(figsize=(10,8))\n",
    "fig.patch.set_facecolor('xkcd:white')\n",
    "plt.title(subj+' -- '+labels_all[sc]+' - '+labels_all[rc])\n",
    "#all\n",
    "dat = con_trial[(con_trial.Stim==sc)&(con_trial.Chan==rc)&(con_trial.Artefact==0)]\n",
    "mn_gt = ff.lp_filter(np.nanmean(EEG_CR[rc, dat.Num.values.astype('int'),:],0),40,Fs)\n",
    "t0,p = get_gt_to(mn_gt)\n",
    "t0 = t0-0.03*Fs\n",
    "t0 = np.max([Fs, t0])\n",
    "t0 = t0/Fs #in seconds\n",
    "plt.plot(x_ax, mn_gt, label='all', color=[0,0,0])\n",
    "\n",
    "dat = con_trial[(con_trial.Stim==sc)&(con_trial.Chan==rc)&(con_trial.Sig_pearson==1)&(con_trial.Artefact==0)]\n",
    "mn = np.nanmean(EEG_CR[rc, dat.Num.values.astype('int'),:],0)\n",
    "st = np.nanstd(EEG_CR[rc, dat.Num.values.astype('int'),:],0)\n",
    "plt.plot(x_ax, mn, label='sig, n: '+str(len(dat)))\n",
    "plt.fill_between(x_ax, mn-st, mn+st, alpha = 0.2)\n",
    "dat = con_trial[(con_trial.Stim==sc)&(con_trial.Chan==rc)&(con_trial.Sig_pearson==0)&(con_trial.Artefact==0)]\n",
    "mn = np.nanmean(EEG_CR[rc, dat.Num.values.astype('int'),:],0)\n",
    "st = np.nanstd(EEG_CR[rc, dat.Num.values.astype('int'),:],0)\n",
    "plt.plot(x_ax, mn, label='non-sig, n: '+str(len(dat)))\n",
    "plt.fill_between(x_ax, mn-st, mn+st, alpha = 0.2)\n",
    "plt.legend()\n",
    "plt.xlim([-1,1])\n",
    "plt.axvline(0, color=[1,0,0])\n",
    "plt.axvline(t0-1, color=[0,0,0])\n",
    "plt.axvline(t0-1+0.1, color=[0,0,0])"
   ]
  },
  {
   "cell_type": "code",
   "execution_count": null,
   "id": "organic-findings",
   "metadata": {},
   "outputs": [],
   "source": [
    "sc = 49\n",
    "rc = 18\n",
    "con_trial = get_trial_Pearson(sc,rc,con_trial,  EEG_CR, t0=1)\n",
    "get_surr_connection(sc, rc,EEG_CR)\n",
    "plt.figure(figsize=(10,8))\n",
    "plt.title(subj+' -- '+labels_all[sc]+' - '+labels_all[rc])\n",
    "#all\n",
    "dat = con_trial[(con_trial.Stim==sc)&(con_trial.Chan==rc)&(con_trial.Artefact==0)]\n",
    "mn_gt = ff.lp_filter(np.mean(EEG_CR[rc, dat.Num.values.astype('int'),:],0),45,Fs)\n",
    "t0 = get_gt_to(mn_gt)\n",
    "t0 = np.max([Fs, t0])\n",
    "t0 = t0/Fs #in seconds\n",
    "plt.plot(x_ax, mn_gt, label='all', color=[0,0,0])\n",
    "\n",
    "dat = con_trial[(con_trial.Stim==sc)&(con_trial.Chan==rc)&(con_trial.Sig==1)&(con_trial.Artefact==0)]\n",
    "mn = np.mean(EEG_CR[rc, dat.Num.values.astype('int'),:],0)\n",
    "st = np.std(EEG_CR[rc, dat.Num.values.astype('int'),:],0)\n",
    "plt.plot(x_ax, mn, label='sig, n: '+str(len(dat)))\n",
    "plt.fill_between(x_ax, mn-st, mn+st, alpha = 0.2)\n",
    "dat = con_trial[(con_trial.Stim==sc)&(con_trial.Chan==rc)&(con_trial.Sig==0)&(con_trial.Artefact==0)]\n",
    "mn = np.mean(EEG_CR[rc, dat.Num.values.astype('int'),:],0)\n",
    "st = np.std(EEG_CR[rc, dat.Num.values.astype('int'),:],0)\n",
    "plt.plot(x_ax, mn, label='non-sig, n: '+str(len(dat)))\n",
    "plt.fill_between(x_ax, mn-st, mn+st, alpha = 0.2)\n",
    "plt.legend()\n",
    "plt.xlim([-1,1])\n",
    "plt.axvline(0, color=[1,0,0])\n",
    "plt.axvline(t0-1-0.02, color=[0,0,0])\n",
    "plt.axvline(t0-1+0.03, color=[0,0,0])"
   ]
  },
  {
   "cell_type": "code",
   "execution_count": null,
   "id": "armed-commonwealth",
   "metadata": {},
   "outputs": [],
   "source": [
    "start blocks"
   ]
  },
  {
   "cell_type": "markdown",
   "id": "different-darwin",
   "metadata": {},
   "source": [
    "#### 4. Create BM for each block"
   ]
  },
  {
   "cell_type": "code",
   "execution_count": null,
   "id": "jewish-throat",
   "metadata": {},
   "outputs": [],
   "source": [
    "labels_region_L = lbls.Hemisphere.values+'_'+labels_region\n",
    "sleep_states = ['W', 'N1', 'N2', 'N3', 'REM']"
   ]
  },
  {
   "cell_type": "code",
   "execution_count": null,
   "id": "useful-bundle",
   "metadata": {},
   "outputs": [],
   "source": [
    "# BM plot\n",
    "labels_sel   = np.delete(labels_all, bad_all, 0)\n",
    "areas_sel    = np.delete(labels_region_L, bad_all, 0)\n",
    "# sort\n",
    "ind = np.argsort(areas_sel)\n",
    "areas_sel    = np.delete(labels_region, bad_all, 0)\n",
    "labels_sel = labels_sel[ind]\n",
    "areas_sel = areas_sel[ind]"
   ]
  },
  {
   "cell_type": "code",
   "execution_count": null,
   "id": "mathematical-feedback",
   "metadata": {},
   "outputs": [],
   "source": [
    "i = 10\n",
    "# for b in np.unique(con_trial.Block):\n",
    "b = np.unique(con_trial.Block)[i]\n"
   ]
  },
  {
   "cell_type": "code",
   "execution_count": null,
   "id": "knowing-attention",
   "metadata": {},
   "outputs": [],
   "source": [
    "non_sig = np.array(np.where(thr_blocks[0,:,:,2]==0))"
   ]
  },
  {
   "cell_type": "code",
   "execution_count": null,
   "id": "competitive-belle",
   "metadata": {},
   "outputs": [],
   "source": [
    "non_sig"
   ]
  },
  {
   "cell_type": "code",
   "execution_count": null,
   "id": "quarterly-reminder",
   "metadata": {},
   "outputs": [],
   "source": [
    "thr_blocks.shape"
   ]
  },
  {
   "cell_type": "code",
   "execution_count": null,
   "id": "selected-tulsa",
   "metadata": {},
   "outputs": [],
   "source": [
    "M[thr_blocks[0,:,:,2]==0]=0"
   ]
  },
  {
   "cell_type": "code",
   "execution_count": null,
   "id": "related-operations",
   "metadata": {},
   "outputs": [],
   "source": [
    "np.where(np.mean(thr_blocks[:,:,:,2],0)==0)"
   ]
  },
  {
   "cell_type": "code",
   "execution_count": null,
   "id": "australian-james",
   "metadata": {
    "scrolled": false
   },
   "outputs": [],
   "source": [
    "summ = con_trial[(con_trial.Block==b)] # (con_trial.Sleep==s)&\n",
    "#summ.insert(0, 'PLL', summ.LL*summ.Pearson)\n",
    "summ.PLL = summ.LL*summ.Pearson\n",
    "summ = summ.groupby(['Stim', 'Chan'], as_index=False)[['PLL', 'LL', 'Sig']].mean()\n",
    "# summ = summ[summ.Sig==1]\n",
    "t = np.bincount(con_trial.loc[con_trial.Block==b, 'Hour']).argmax()\n",
    "M = np.zeros((len(labels_all),len(labels_all)))\n",
    "M[:,:] = np.nan\n",
    "for sc in np.unique(summ.Stim).astype('int'):\n",
    "    chan = summ.loc[summ.Stim==sc, 'Chan'].values.astype('int')\n",
    "    chan_sg = chan[(thr_blocks[i,sc,chan,0] - summ.loc[summ.Stim==sc, 'PLL'].values)>0]\n",
    "    LL =summ.loc[summ.Stim==sc, 'LL'].values\n",
    "    M[sc,chan] = LL\n",
    "    M[sc,chan_sg] = 0\n",
    "M[np.where(np.mean(thr_blocks[:,:,:,2],0)==0)]=0\n",
    "M_resp       = np.delete(np.delete(M, bad_all, 0), bad_all, 1)\n",
    "M_resp = M_resp[ind,:]\n",
    "M_resp = M_resp[:,ind]\n",
    "ll = 'BM'+str(int(b)).zfill(2)#+', '+sleep_states[s]\n",
    "plot_BM_CR_trial_sig(M_resp, labels_sel,areas_sel, ll, t, 0)"
   ]
  },
  {
   "cell_type": "code",
   "execution_count": null,
   "id": "technological-trail",
   "metadata": {},
   "outputs": [],
   "source": [
    "sc = 47\n",
    "rc = 8\n",
    "fig = plt.figure(figsize=(10,8))\n",
    "fig.patch.set_facecolor('xkcd:white')\n",
    "plt.title(subj+' -- '+labels_all[sc]+' - '+labels_all[rc])\n",
    "#all\n",
    "dat = con_trial[(con_trial.Stim==sc)&(con_trial.Chan==rc)&(con_trial.Artefact==0)]\n",
    "mn_gt = ff.lp_filter(np.nanmean(EEG_CR[rc, dat.Num.values.astype('int'),:],0),40,Fs)\n",
    "t0,p = sig_func.get_gt_to(mn_gt)\n",
    "t0 = t0-0.02*Fs\n",
    "t0 = np.max([Fs, t0])\n",
    "t0 = t0/Fs #in seconds\n",
    "plt.plot(x_ax, mn_gt, label='all', color=[0,0,0])\n",
    "\n",
    "dat = con_trial[(con_trial.Stim==sc)&(con_trial.Chan==rc)&(con_trial.Sig==1)&(con_trial.Artefact<1)]\n",
    "mn = np.nanmean(EEG_CR[rc, dat.Num.values.astype('int'),:],0)\n",
    "st = np.nanstd(EEG_CR[rc, dat.Num.values.astype('int'),:],0)\n",
    "plt.plot(x_ax, mn, label='sig, n: '+str(len(dat)))\n",
    "plt.fill_between(x_ax, mn-st, mn+st, alpha = 0.2)\n",
    "dat = con_trial[(con_trial.Stim==sc)&(con_trial.Chan==rc)&(con_trial.Sig==0)&(con_trial.Artefact<1)]\n",
    "mn = np.nanmean(EEG_CR[rc, dat.Num.values.astype('int'),:],0)\n",
    "st = np.nanstd(EEG_CR[rc, dat.Num.values.astype('int'),:],0)\n",
    "plt.plot(x_ax, mn, label='non-sig, n: '+str(len(dat)))\n",
    "plt.fill_between(x_ax, mn-st, mn+st, alpha = 0.2)\n",
    "plt.legend()\n",
    "plt.xlim([-1,1])\n",
    "plt.axvline(0, color=[1,0,0])\n",
    "plt.axvline(t0-1, color=[0,0,0])\n",
    "plt.axvline(t0-1+0.08, color=[0,0,0])\n",
    "plt.show()"
   ]
  },
  {
   "cell_type": "code",
   "execution_count": null,
   "id": "minus-camera",
   "metadata": {},
   "outputs": [],
   "source": [
    "summ = con_trial[(con_trial.Block==b)] # (con_trial.Sleep==s)&\n",
    "summ.PLL = summ.LL*summ.Pearson# summ.insert(0, 'PLL', summ.LL*summ.Pearson)\n",
    "summ = summ.groupby(['Stim', 'Chan'], as_index=False)[['PLL', 'LL', 'Sig']].mean()"
   ]
  },
  {
   "cell_type": "code",
   "execution_count": null,
   "id": "attached-conference",
   "metadata": {},
   "outputs": [],
   "source": [
    "summ = summ[summ.Sig>-1]"
   ]
  },
  {
   "cell_type": "code",
   "execution_count": null,
   "id": "approximate-houston",
   "metadata": {},
   "outputs": [],
   "source": [
    "chan = summ.loc[summ.Stim==sc, 'Chan'].values.astype('int')"
   ]
  },
  {
   "cell_type": "code",
   "execution_count": null,
   "id": "accepted-croatia",
   "metadata": {},
   "outputs": [],
   "source": [
    "method = 'Sig'\n",
    "summ.loc[summ.Stim==sc, method].values"
   ]
  },
  {
   "cell_type": "code",
   "execution_count": null,
   "id": "flying-issue",
   "metadata": {},
   "outputs": [],
   "source": [
    "states_req = np.zeros((5,4))\n",
    "states_req[0,2:4] = [8,14]\n",
    "states_req[1,2:4] = [14,20]\n",
    "states_req[2,2:4] = [20,8]\n",
    "states_req[3,:] = [1,3,20,8]\n",
    "states_req[4,:] = [4,4,20,8]"
   ]
  },
  {
   "cell_type": "code",
   "execution_count": null,
   "id": "variable-secret",
   "metadata": {},
   "outputs": [],
   "source": [
    "states_labels= ['Morning', 'Afternoon', 'Night', 'NREM', 'REM']"
   ]
  },
  {
   "cell_type": "code",
   "execution_count": null,
   "id": "hearing-veteran",
   "metadata": {},
   "outputs": [],
   "source": [
    "## naiv block wise\n",
    "methods = ['LL','prob']\n",
    "i = 0\n",
    "for s in [2,3,4]:#np.unique(con_trial.Sleep).astype('int'):\n",
    "    # s = np.bincount(con_trial.loc[con_trial.Block==b, 'Sleep']).argmax()\n",
    "    summ = con_trial[(con_trial.Sleep>=states_req[s,0])&(con_trial.Sleep<=states_req[s,1])] # (con_trial.Sleep==s)&\n",
    "    summ.PLL = summ.LL*summ.Pearson# summ.insert(0, 'PLL', summ.LL*summ.Pearson)\n",
    "    summ = summ.groupby(['Stim', 'Chan'], as_index=False)[['PLL', 'LL', 'Sig']].mean()\n",
    "    summ = summ[summ.Sig>-1]\n",
    "    # summ = summ[summ.Sig==1]\n",
    "    t = np.bincount(con_trial.loc[con_trial.Block==b, 'Hour']).argmax()\n",
    "    M = np.zeros((len(labels_all),len(labels_all),2))\n",
    "    M[:,:] = np.nan\n",
    "    for sc in np.unique(summ.Stim).astype('int'):\n",
    "        chan = summ.loc[summ.Stim==sc, 'Chan'].values.astype('int')\n",
    "        LL = summ.loc[summ.Stim==sc, 'LL'].values\n",
    "        # M[sc,chan,0] = LL\n",
    "        # chan_sg = chan[(thr_blocks[i,sc,chan,0] - summ.loc[summ.Stim==sc, 'PLL'].values)>0]\n",
    "        # M[sc,chan_sg,0] = 0\n",
    "        M[sc,chan,1] = summ.loc[summ.Stim==sc, 'Sig'].values\n",
    "    for j in range(1,2):    \n",
    "        M_resp = M[:,:,j]  \n",
    "        M_resp[np.where(np.mean(thr_blocks[:,:,:,2],0)==0)]=0\n",
    "        M_resp       = np.delete(np.delete(M_resp, bad_all, 0), bad_all, 1)\n",
    "        M_resp = M_resp[ind,:]\n",
    "        M_resp = M_resp[:,ind]\n",
    "        ll = 'BM'+str(int(b)).zfill(2)+', '+states_labels[s]\n",
    "        #plot_BM_CR_trial_sig(M_resp[:,:,0], labels_sel,areas_sel, ll, t,'LL')\n",
    "        plot_BM_CR_trial_sig(M_resp, labels_sel,areas_sel, ll, t,methods[j])\n",
    "    if i==0:\n",
    "        M_all_s = M\n",
    "    elif i==1:\n",
    "        M_all_s = np.stack([M_all_s, M],0)\n",
    "    else:\n",
    "        M_all_s = np.concatenate([M_all_s,np.expand_dims(M,0)],0)\n",
    "    i =i+1\n",
    "np.save(path_patient + '/Analysis/' + folder + '/' + cond_folder +'/data/BM_sleep_states.npy', M_all)"
   ]
  },
  {
   "cell_type": "code",
   "execution_count": null,
   "id": "exempt-activation",
   "metadata": {},
   "outputs": [],
   "source": [
    "## naiv block wise\n",
    "methods = ['LL','prob']\n",
    "i = 0\n",
    "for b in np.unique(con_trial.Block):\n",
    "    # s = np.bincount(con_trial.loc[con_trial.Block==b, 'Sleep']).argmax()\n",
    "    summ = con_trial[(con_trial.Block==b)] # (con_trial.Sleep==s)&\n",
    "    summ.PLL = summ.LL*summ.Pearson# summ.insert(0, 'PLL', summ.LL*summ.Pearson)\n",
    "    summ = summ.groupby(['Stim', 'Chan'], as_index=False)[['PLL', 'LL', 'Sig']].mean()\n",
    "    summ = summ[summ.Sig>-1]\n",
    "    # summ = summ[summ.Sig==1]\n",
    "    t = np.bincount(con_trial.loc[con_trial.Block==b, 'Hour']).argmax()\n",
    "    M = np.zeros((len(labels_all),len(labels_all),2))\n",
    "    M[:,:] = np.nan\n",
    "    for sc in np.unique(summ.Stim).astype('int'):\n",
    "        chan = summ.loc[summ.Stim==sc, 'Chan'].values.astype('int')\n",
    "        LL = summ.loc[summ.Stim==sc, 'LL'].values\n",
    "        M[sc,chan,0] = LL\n",
    "        chan_sg = chan[(thr_blocks[i,sc,chan,0] - summ.loc[summ.Stim==sc, 'PLL'].values)>0]\n",
    "        M[sc,chan_sg,0] = 0\n",
    "        M[sc,chan,1] = summ.loc[summ.Stim==sc, 'Sig'].values\n",
    "    for j in range(len(methods)):    \n",
    "        M_resp = M[:,:,j]  \n",
    "        M_resp[np.where(np.mean(thr_blocks[:,:,:,2],0)==0)]=0\n",
    "        M_resp       = np.delete(np.delete(M_resp, bad_all, 0), bad_all, 1)\n",
    "        M_resp = M_resp[ind,:]\n",
    "        M_resp = M_resp[:,ind]\n",
    "        ll = 'BM'+str(int(b)).zfill(2)#+', '+sleep_states[s]\n",
    "        #plot_BM_CR_trial_sig(M_resp[:,:,0], labels_sel,areas_sel, ll, t,'LL')\n",
    "        plot_BM_CR_trial_sig(M_resp, labels_sel,areas_sel, ll, t,methods[j])\n",
    "    if i==0:\n",
    "        M_all = M\n",
    "    elif i==1:\n",
    "        M_all = np.stack([M_all, M],0)\n",
    "    else:\n",
    "        M_all = np.concatenate([M_all,np.expand_dims(M,0)],0)\n",
    "    i =i+1\n",
    "np.save(path_patient + '/Analysis/' + folder + '/' + cond_folder +'/data/BM_block_'+method+'.npy', M_all)"
   ]
  },
  {
   "cell_type": "code",
   "execution_count": null,
   "id": "contemporary-marking",
   "metadata": {},
   "outputs": [],
   "source": [
    "def plot_BM_CR_trial_sig(M, labels,areas, label, t, method,save= 1):\n",
    "    time        = str(t).zfill(2)+':00'\n",
    "    fig      = plt.figure(figsize=(15,15))\n",
    "    vmin = 0\n",
    "    vmax = 1\n",
    "    if method =='LL':\n",
    "        vmin = 1\n",
    "        vmax= np.min([15, np.percentile(M,95)])\n",
    "    axmatrix = fig.add_axes([0.15,0.15,0.7,0.7]) # x, y, (start posiion), lenx, leny\n",
    "    im       = axmatrix.matshow(M, aspect='auto', origin='lower',cmap='hot', vmin=vmin, vmax=vmax)\n",
    "    plt.suptitle(label+', '+time+ '-- '+method)\n",
    "    plt.xlim([-1.5, len(labels)-0.5])\n",
    "    plt.ylim([-0.5, len(labels)+0.5])\n",
    "    plt.xticks(range(len(labels)), labels, rotation=90);\n",
    "    plt.yticks(range(len(labels)), labels);\n",
    "    for i in range(len(labels)):\n",
    "        r         = areas[i]\n",
    "        axmatrix.add_patch(Rectangle((i-0.5,len(labels)-0.5), 1, 1, alpha=1, facecolor= color_regions[np.where(regions==r)[0][0]]))\n",
    "        axmatrix.add_patch(Rectangle((-1.5,i-0.5), 1, 1, alpha=1, facecolor= color_regions[np.where(regions==r)[0][0]]))\n",
    "    # Plot colorbar.\n",
    "    axcolor = fig.add_axes([0.04,0.85,0.08,0.08]) # x, y, x_len, y_len\n",
    "    circle1 = plt.Circle((0.5,0.5), 0.4, color = CR_color.c[t], alpha = CR_color.a[t])\n",
    "    plt.text(0.3,0.3, time)\n",
    "    plt.axis('off')\n",
    "    axcolor.add_patch(circle1)\n",
    "    axcolor = fig.add_axes([0.9,0.15,0.01,0.7]) # x, y, x_len, y_len\n",
    "    plt.colorbar(im, cax=axcolor)\n",
    "    \n",
    "    #plt.savefig(path_patient + '/Analysis/BrainMapping/CR/figures/BM_plot/BM_'+label+'.svg')\n",
    "    \n",
    "    if save:\n",
    "        plt.savefig(path_patient + '/Analysis/' + folder + '/' + cond_folder +'/figures/BM_'+method+'/BM_'+label+'.jpg')\n",
    "        plt.savefig(path_patient + '/Analysis/' + folder + '/' + cond_folder +'/figures/BM_'+method+'/GIF/BM_'+label+'.jpg')\n",
    "        plt.close(fig) #plt.show()#\n",
    "    else:\n",
    "        plt.show()"
   ]
  },
  {
   "cell_type": "code",
   "execution_count": null,
   "id": "common-contact",
   "metadata": {},
   "outputs": [],
   "source": [
    "## sleep states\n",
    "i = 0\n",
    "for s in np.unique(con_trial.Sleep).astype('int'):\n",
    "    # s = np.bincount(con_trial.loc[con_trial.Block==b, 'Sleep']).argmax()\n",
    "    summ = con_trial[(con_trial.Sleep==s)&(con_trial.Hour<9)] # (con_trial.Sleep==s)&\n",
    "    summ.PLL = summ.LL*summ.Pearson# summ.insert(0, 'PLL', summ.LL*summ.Pearson)\n",
    "    summ = summ.groupby(['Stim', 'Chan'], as_index=False)[['PLL', 'LL', 'Sig']].mean()\n",
    "    summ = summ[summ.Sig>0.5]\n",
    "    t = np.bincount(con_trial.loc[con_trial.Block==b, 'Hour']).argmax()\n",
    "    M = np.zeros((len(labels_all),len(labels_all)))\n",
    "    #M[:,:] = np.nan\n",
    "    for sc in np.unique(summ.Stim).astype('int'):\n",
    "        chan = summ.loc[summ.Stim==sc, 'Chan'].values.astype('int')\n",
    "        #chan_sg = chan[(thr_blocks[i,sc,chan,0] - summ.loc[summ.Stim==sc, 'PLL'].values)>0]\n",
    "        LL =summ.loc[summ.Stim==sc, 'LL'].values\n",
    "        M[sc,chan] = LL\n",
    "        #M[sc,chan_sg] = 0\n",
    "\n",
    "    M_resp       = np.delete(np.delete(M, bad_all, 0), bad_all, 1)\n",
    "    M_resp = M_resp[ind,:]\n",
    "    M_resp = M_resp[:,ind]\n",
    "    ll = 'BM_'+sleep_states[s]#+str(int(b)).zfill(2)#+', '+\n",
    "    b = s+24\n",
    "    t = 0\n",
    "    plot_BM_CR_trial_sig(M_resp, labels_sel,areas_sel, ll, t)\n",
    "    if i==0:\n",
    "        M_all = M_resp\n",
    "    elif i==1:\n",
    "        M_all = np.stack([M_all, M_resp],0)\n",
    "    else:\n",
    "        M_all = np.concatenate([M_all,np.expand_dims(M_resp,0)],0)\n",
    "    i =i+1\n",
    "np.save(path_patient + '/Analysis/' + folder + '/' + cond_folder +'/data/BM_all_sleep.npy', M_all)"
   ]
  },
  {
   "cell_type": "code",
   "execution_count": null,
   "id": "apparent-attention",
   "metadata": {},
   "outputs": [],
   "source": [
    "if platform.system() == 'Windows':\n",
    "    # sep = ','\n",
    "    path = 'T:\\EL_experiment\\Patients\\\\'  # + subj\n",
    "    CR_color = pd.read_excel(\"T:\\EL_experiment\\Patients\\\\\" + 'all' + \"\\Analysis\\BrainMapping\\CR_color.xlsx\",\n",
    "                             header=0)\n",
    "    regions = pd.read_excel(\"T:\\EL_experiment\\Patients\\\\\" + 'all' + \"\\elab_labels.xlsx\", sheet_name='regions',\n",
    "                            header=0)\n",
    "\n",
    "    # path_patient    = 'E:\\PhD\\EL_experiment\\Patients\\\\'+subj # os.path.dirname(os.path.dirname(cwd))+'/Patients/'+subj\n",
    "else:  # 'Darwin' for MAC\n",
    "    path = '/Volumes/EvM_T7/PhD/EL_experiment/Patients/'  # + subj\n",
    "    CR_color = pd.read_excel(\"/Volumes/EvM_T7/PhD/EL_experiment/Patients/all/Analysis/BrainMapping/CR_color.xlsx\",\n",
    "                             header=0)\n",
    "    regions = pd.read_excel(\"/Volumes/EvM_T7/PhD/EL_experiment/Patients/all/elab_labels.xlsx\", sheet_name='regions',\n",
    "                            header=0)\n",
    "\n",
    "sep = ';'\n",
    "color_regions = regions.color.values\n",
    "C = regions.label.values\n",
    "cond_folder = 'CR'"
   ]
  },
  {
   "cell_type": "code",
   "execution_count": null,
   "id": "dressed-picnic",
   "metadata": {},
   "outputs": [],
   "source": [
    "Path(path_patient + '/Analysis/' + folder + '/' + cond_folder +'/figures/BM_plot_trial_sig/GIF/').mkdir(parents=True, exist_ok=True)"
   ]
  },
  {
   "cell_type": "code",
   "execution_count": null,
   "id": "designed-diversity",
   "metadata": {},
   "outputs": [],
   "source": []
  },
  {
   "cell_type": "markdown",
   "id": "intellectual-object",
   "metadata": {},
   "source": [
    "##### remove stim channels as response channels"
   ]
  },
  {
   "cell_type": "code",
   "execution_count": null,
   "id": "adopted-bailey",
   "metadata": {},
   "outputs": [],
   "source": [
    "for rc in range(len(labels_all)):\n",
    "    dat = con_trial[(con_trial.Chan==rc)]\n",
    "    ChanP1 = dat.Stim.values.astype('int')\n",
    "    nums = dat.Num.values.astype('int')\n",
    "    nums_bad = nums[check_inStimChan(rc, ChanP1, labels_clinic) == 1]\n",
    "    con_trial.loc[np.isin(con_trial.Num,nums_bad)&(con_trial.Chan==rc), 'Artefact'] = 1\n"
   ]
  },
  {
   "cell_type": "code",
   "execution_count": null,
   "id": "threaded-front",
   "metadata": {},
   "outputs": [],
   "source": [
    "def check_inStimChan(c, sc_s, labels_all):\n",
    "    rr = np.zeros((len(sc_s),))\n",
    "    lb = labels_all[c]\n",
    "    # print(lb)\n",
    "    for i in range(len(sc_s)):\n",
    "        sc = np.int64(sc_s[i])\n",
    "        stim_lb = labels_all[sc]\n",
    "        t = '-'\n",
    "        ix = [pos for pos, char in enumerate(lb) if char == t]\n",
    "        if len(ix) > 3:\n",
    "            ix = np.int64(ix[2])\n",
    "        elif len(ix) > 1:\n",
    "            ix = np.int64(ix[1])\n",
    "        else:\n",
    "            ix = np.int64(ix[0])\n",
    "        chan1 = lb[:ix]\n",
    "        chan2 = lb[ix + 1:]\n",
    "        r = 0\n",
    "        if stim_lb.find(chan1) != -1:\n",
    "            rr[i] = 1\n",
    "        elif stim_lb.find(chan2) != -1:\n",
    "            rr[i] = 1\n",
    "\n",
    "        # print(stim_lb)\n",
    "    return rr"
   ]
  },
  {
   "cell_type": "markdown",
   "id": "individual-curtis",
   "metadata": {},
   "source": [
    "## Network Analysis"
   ]
  },
  {
   "cell_type": "code",
   "execution_count": null,
   "id": "conditional-heavy",
   "metadata": {},
   "outputs": [],
   "source": [
    "dat = con_trial[(con_trial.Stim==sc)&(con_trial.Chan==rc)]"
   ]
  },
  {
   "cell_type": "code",
   "execution_count": null,
   "id": "naked-ethnic",
   "metadata": {},
   "outputs": [],
   "source": [
    "ix_chron0 = int(np.floor(np.min(stimlist_hypno.ix_chron)))\n"
   ]
  },
  {
   "cell_type": "code",
   "execution_count": null,
   "id": "warming-demonstration",
   "metadata": {},
   "outputs": [],
   "source": [
    "dat = con_trial[(con_trial.Stim==sc)&(con_trial.Chan==rc)&(con_trial.Artefact<1)]\n",
    "dat = dat.drop(columns=['P2P', 'Num_block', 'Date', 'Artefact', 'd'])\n",
    "dat.insert(0, 'Hour_chron', dat.Block+ix_chron0)\n",
    "num = dat.Num.values\n",
    "for n in num:\n",
    "    dat.loc[dat.Num==n, 'Hour_chron'] =stimlist_hypno.loc[(stimlist_hypno.Prot=='BrainMapping')&(stimlist_hypno.StimNum==n),'ix_chron' ].values[0]"
   ]
  },
  {
   "cell_type": "code",
   "execution_count": null,
   "id": "ordered-chorus",
   "metadata": {},
   "outputs": [],
   "source": [
    "total_hour = int(np.max(stimlist_hypno.ix_chron)-np.min(stimlist_hypno.ix_chron))"
   ]
  },
  {
   "cell_type": "code",
   "execution_count": null,
   "id": "circular-grass",
   "metadata": {},
   "outputs": [],
   "source": [
    "# plot threshold across time\n",
    "sc = 18\n",
    "rc = 65\n",
    "# if np.mean(thr_blocks[:,sc,rc,1])==0:\n",
    "#     get_surr_connection(sc, rc,EEG_CR)\n",
    "dat = con_trial[(con_trial.Stim==sc)&(con_trial.Chan==rc)&(con_trial.Artefact<1)]\n",
    "dat = dat.drop(columns=['P2P', 'Num_block', 'Date', 'Artefact', 'd'])\n",
    "num = dat.Num.values.astype('int')\n",
    "dat.insert(0, 'Hour_chron', dat.Block+ix_chron0)\n",
    "for n in num:\n",
    "    dat.loc[dat.Num==n, 'Hour_chron'] =stimlist_hypno.loc[(stimlist_hypno.Prot=='BrainMapping')&(stimlist_hypno.StimNum==n),'ix_chron' ].values[0]\n",
    "\n",
    "\n",
    "###\n",
    "fig      =  plt.figure(figsize=(total_hour/2,8))\n",
    "fig.patch.set_facecolor('xkcd:white')\n",
    "d = np.round(distance.euclidean(coord_all[sc], coord_all[rc]),1)\n",
    "plt.suptitle(labels_h[sc]+ ' -- '+labels_h[rc]+', d='+str(d)+'mm', fontsize=30)\n",
    "d_x = int(total_hour/5)\n",
    "gs       = fig.add_gridspec(2,1, height_ratios=[1,2])  # GridSpec(4,1, height_ratios=[1,2,1,2])\n",
    "\n",
    "## hypnogram\n",
    "ax = fig.add_subplot(gs[0, 0])\n",
    "plt.plot(stimlist_hypno.ix_chron, stimlist_hypno.sleep, c=color_elab[0,:], linewidth=2)\n",
    "plt.axhspan(-1, 0.2, color=color_elab[0,:])\n",
    "plt.fill_between(stimlist_hypno.ix_chron,stimlist_hypno.sleep,np.zeros((len(stimlist_hypno.ix_chron),))-1, color=color_elab[0,:])\n",
    "#plt.ylabel('score', fontsize=25)\n",
    "plt.yticks([0,1,2,3,4], ['Wake','N1','N2','N3','REM'])\n",
    "plt.ylim([-1,5])\n",
    "plt.gca().invert_yaxis()\n",
    "#plt.xticks(x_tick1,x_ax_h )\n",
    "plt.xticks([])\n",
    "plt.tick_params(axis=\"y\", labelsize=18)\n",
    "\n",
    "ax = fig.add_subplot(gs[1, 0])\n",
    "plt.title(subj+' -- LL across time', fontsize=18)\n",
    "i = 1\n",
    "#sns.scatterplot(x='Hour_chron', y='PLL', hue='Sleep', data=dat, alpha=0.1+0.9*i,s = 100)\n",
    "sns.scatterplot(x='Hour_chron', y='LL', hue='Sleep', data=dat[dat.Sig_pearson==1], alpha=0.1+0.9*i,s = 100)\n",
    "plt.legend()\n",
    "plt.xticks(time_overview.Hour_chron[np.linspace(0,total_hour-1,d_x).astype('int')], time_overview.Hour_label[np.linspace(0,total_hour-1,d_x).astype('int')], rotation=45)\n",
    "#plt.ylim([0, 10])\n",
    "plt.xlabel('Time',  fontsize=15)\n",
    "#plt.ylabel('Density Value',  fontsize=15)\n",
    "plt.tick_params(axis=\"y\", labelsize=18)\n",
    "plt.tick_params(axis=\"x\", labelsize=18)\n",
    "plt.show()"
   ]
  },
  {
   "cell_type": "code",
   "execution_count": null,
   "id": "fitted-karen",
   "metadata": {},
   "outputs": [],
   "source": [
    "def get_surr_connection_update(sc, rc,EEG_CR,thr_old):#get_surr_connection(sc, rc,con_trial,EEG_CR,thr_blocks, m=2):\n",
    "    global con_trial\n",
    "    global p_val\n",
    "    req = (con_trial.Artefact<1)&(con_trial.Chan==rc)&(con_trial.Stim==sc)\n",
    "    dat = con_trial[req]\n",
    "    \n",
    "    if len(dat)>0:\n",
    "        # con_trial = get_trial_Pearson(sc,rc,con_trial,  EEG_CR, t0=1)\n",
    "        ##ground truth\n",
    "        block = con_trial.loc[req, 'Block'].values.astype('int')\n",
    "        StimNum = con_trial.loc[req, 'Num'].values.astype('int')\n",
    "        mn_gt = np.nanmean(EEG_CR[rc, StimNum,:],0)\n",
    "        mn_gt = ff.lp_filter(mn_gt, 30, Fs)\n",
    "        # start of GT response\n",
    "        t0,p = get_gt_to(mn_gt)\n",
    "        t0 = t0-0.01*Fs\n",
    "        t0 = np.max([Fs, t0])\n",
    "        t0 = t0/Fs #in seconds\n",
    "        p_val[sc,rc]=p\n",
    "        b_in = 0\n",
    "        if p==1:\n",
    "            for b in blocks:\n",
    "                thr = thr_old[b_in, sc, rc, 0]\n",
    "                con_trial.loc[req&(con_trial.Block==b)&(con_trial.PLL>=thr), 'Sig_pearson'] = 1*p\n",
    "                b_in = b_in+1\n",
    "        else:\n",
    "            con_trial.loc[req, 'Sig_pearson'] = 0"
   ]
  },
  {
   "cell_type": "code",
   "execution_count": null,
   "id": "demanding-adapter",
   "metadata": {},
   "outputs": [],
   "source": [
    "# plot threshold across time\n",
    "sc = 18\n",
    "rc = 65\n",
    "# if np.mean(thr_blocks[:,sc,rc,1])==0:\n",
    "#     get_surr_connection(sc, rc,EEG_CR)\n",
    "dat = con_trial[(con_trial.Stim==sc)&(con_trial.Chan==rc)&(con_trial.Artefact<1)]\n",
    "dat = dat.drop(columns=['P2P', 'Num_block', 'Date', 'Artefact', 'd'])\n",
    "num = dat.Num.values.astype('int')\n",
    "dat.insert(0, 'Hour_chron', dat.Block+ix_chron0)\n",
    "for n in num:\n",
    "    dat.loc[dat.Num==n, 'Hour_chron'] =stimlist_hypno.loc[(stimlist_hypno.Prot=='BrainMapping')&(stimlist_hypno.StimNum==n),'ix_chron' ].values[0]\n",
    "\n",
    "\n",
    "###\n",
    "fig      =  plt.figure(figsize=(total_hour/2,8))\n",
    "fig.patch.set_facecolor('xkcd:white')\n",
    "d = np.round(distance.euclidean(coord_all[sc], coord_all[rc]),1)\n",
    "plt.suptitle(labels_h[sc]+ ' -- '+labels_h[rc]+', d='+str(d)+'mm', fontsize=30)\n",
    "d_x = int(total_hour/5)\n",
    "gs       = fig.add_gridspec(2,1, height_ratios=[1,2])  # GridSpec(4,1, height_ratios=[1,2,1,2])\n",
    "\n",
    "## hypnogram\n",
    "ax = fig.add_subplot(gs[0, 0])\n",
    "plt.plot(stimlist_hypno.ix_chron, stimlist_hypno.sleep, c=color_elab[0,:], linewidth=2)\n",
    "plt.axhspan(-1, 0.2, color=color_elab[0,:])\n",
    "plt.fill_between(stimlist_hypno.ix_chron,stimlist_hypno.sleep,np.zeros((len(stimlist_hypno.ix_chron),))-1, color=color_elab[0,:])\n",
    "#plt.ylabel('score', fontsize=25)\n",
    "plt.yticks([0,1,2,3,4], ['Wake','N1','N2','N3','REM'])\n",
    "plt.ylim([-1,5])\n",
    "plt.gca().invert_yaxis()\n",
    "#plt.xticks(x_tick1,x_ax_h )\n",
    "plt.xticks([])\n",
    "plt.tick_params(axis=\"y\", labelsize=18)\n",
    "\n",
    "ax = fig.add_subplot(gs[1, 0])\n",
    "plt.title(subj+' -- LL across time', fontsize=18)\n",
    "i = 1\n",
    "sns.scatterplot(x='Hour_chron', y='PLL', hue='Sleep', data=dat, alpha=0.1+0.9*i,s = 100)\n",
    "#sns.scatterplot(x='Hour_chron', y='LL', hue='Sleep', data=dat, alpha=0.1+0.9*i,s = 100)\n",
    "plt.legend()\n",
    "plt.xticks(time_overview.Hour_chron[np.linspace(0,total_hour-1,d_x).astype('int')], time_overview.Hour_label[np.linspace(0,total_hour-1,d_x).astype('int')], rotation=45)\n",
    "#plt.ylim([0, 10])\n",
    "plt.xlabel('Time',  fontsize=15)\n",
    "#plt.ylabel('Density Value',  fontsize=15)\n",
    "plt.tick_params(axis=\"y\", labelsize=18)\n",
    "plt.tick_params(axis=\"x\", labelsize=18)\n",
    "plt.show()"
   ]
  },
  {
   "cell_type": "code",
   "execution_count": null,
   "id": "representative-alliance",
   "metadata": {},
   "outputs": [],
   "source": [
    "thr_blocks.shape"
   ]
  },
  {
   "cell_type": "code",
   "execution_count": null,
   "id": "parliamentary-adolescent",
   "metadata": {},
   "outputs": [],
   "source": [
    "get_surr_connection_update(sc, rc,EEG_CR,thr_blocks)"
   ]
  },
  {
   "cell_type": "code",
   "execution_count": null,
   "id": "wooden-millennium",
   "metadata": {},
   "outputs": [],
   "source": [
    " con_trial.loc[req&(con_trial.Block==b)&((con_trial.LL*con_trial.Pearson)>=thr), 'Sig_pearson'] = 1*p"
   ]
  },
  {
   "cell_type": "code",
   "execution_count": null,
   "id": "scenic-filling",
   "metadata": {},
   "outputs": [],
   "source": [
    "sc= 19\n",
    "rc = 65\n",
    "b_in = 0\n",
    "for b in np.unique(con_trial.Block):\n",
    "    thr = thr_blocks[b_in, sc, rc, 0]\n",
    "    con_trial.loc[(con_trial.Block==b)&(con_trial.Stim==sc)&(con_trial.Chan==rc)&(con_trial.PLL>=thr), 'Sig_pearson'] = 1\n",
    "    con_trial.loc[(con_trial.Block==b)&(con_trial.Stim==sc)&(con_trial.Chan==rc)&(con_trial.PLL<thr), 'Sig_pearson'] =0 \n",
    "    b_in = b_in+1"
   ]
  },
  {
   "cell_type": "code",
   "execution_count": null,
   "id": "decimal-football",
   "metadata": {},
   "outputs": [],
   "source": [
    "plt.plot(thr_blocks[:,sc,rc,0])"
   ]
  },
  {
   "cell_type": "code",
   "execution_count": null,
   "id": "regulation-nursery",
   "metadata": {},
   "outputs": [],
   "source": [
    "plt.figure(figsize=(20,8))\n",
    "sns.scatterplot(x='Block', y='LL', hue='Sleep',size='Sig', data= dat)"
   ]
  },
  {
   "cell_type": "code",
   "execution_count": null,
   "id": "magnetic-mortality",
   "metadata": {},
   "outputs": [],
   "source": [
    "# plot threshold across time\n",
    "sc = 18\n",
    "rc = 65\n",
    "if np.mean(thr_blocks[:,sc,rc,1])==0:\n",
    "    thr_blocks,con_trial = get_surr_connection(sc, rc,con_trial,EEG_CR,thr_blocks)\n",
    "arr = np.zeros((len(blocks),5))\n",
    "i_b = 0\n",
    "for b in blocks:\n",
    "    dat = con_trial[(con_trial.Block==b)&(con_trial.Stim==sc)&(con_trial.Chan==rc)]\n",
    "    arr[i_b, :] =[b, thr_blocks[i_b,sc,rc,0], thr_blocks[i_b,sc,rc,1], np.mean(dat.LL * dat.Pearson), np.mean(dat.LL)]\n",
    "    i_b = i_b+1\n",
    "arr_df = pd.DataFrame(arr, columns=['Block', '95', '50', 'Trial', 'LL'])\n",
    "arr_df.insert(0, 'Hour_chron', arr_df.Block+15)\n",
    "\n",
    "###\n",
    "fig      =  plt.figure(figsize=(total_hour/4,8))\n",
    "fig.patch.set_facecolor('xkcd:white')\n",
    "d = np.round(distance.euclidean(coord_all[sc], coord_all[rc]),1)\n",
    "plt.suptitle(labels_h[sc]+ ' -- '+labels_h[rc]+', d='+str(d)+'mm', fontsize=30)\n",
    "d_x = int(total_hour/5)\n",
    "gs       = fig.add_gridspec(2,1, height_ratios=[1,2])  # GridSpec(4,1, height_ratios=[1,2,1,2])\n",
    "\n",
    "## hypnogram\n",
    "ax = fig.add_subplot(gs[0, 0])\n",
    "plt.plot(stimlist_hypno.ix_chron, stimlist_hypno.sleep, c=color_elab[0,:], linewidth=2)\n",
    "plt.axhspan(-1, 0.2, color=color_elab[0,:])\n",
    "plt.fill_between(stimlist_hypno.ix_chron,stimlist_hypno.sleep,np.zeros((len(stimlist_hypno.ix_chron),))-1, color=color_elab[0,:])\n",
    "#plt.ylabel('score', fontsize=25)\n",
    "plt.yticks([0,1,2,3,4], ['Wake','N1','N2','N3','REM'])\n",
    "plt.ylim([-1,5])\n",
    "plt.gca().invert_yaxis()\n",
    "#plt.xticks(x_tick1,x_ax_h )\n",
    "plt.xticks([])\n",
    "plt.tick_params(axis=\"y\", labelsize=18)\n",
    "\n",
    "ax = fig.add_subplot(gs[1, 0])\n",
    "plt.title(subj+' -- Threshold across time', fontsize=18)\n",
    "plt.scatter(arr_df.Hour_chron+0.5, arr_df['95'],label='95th')\n",
    "plt.scatter(arr_df.Hour_chron+0.5, arr_df['50'],label='50th')\n",
    "plt.scatter(arr_df.Hour_chron+0.5, arr_df['Trial'],label='Trial')\n",
    "plt.scatter(arr_df.Hour_chron+0.5, arr_df['LL'],label='LL')\n",
    "plt.legend()\n",
    "plt.xticks(time_overview.Hour_chron[np.linspace(0,total_hour-1,d_x).astype('int')], time_overview.Hour_label[np.linspace(0,total_hour-1,d_x).astype('int')], rotation=45)\n",
    "#plt.ylim([0.05, 0.2])\n",
    "#plt.xlabel('Time',  fontsize=15)\n",
    "#plt.ylabel('Density Value',  fontsize=15)\n",
    "plt.tick_params(axis=\"y\", labelsize=18)\n",
    "plt.tick_params(axis=\"x\", labelsize=18)\n",
    "plt.show()"
   ]
  },
  {
   "cell_type": "markdown",
   "id": "dress-growing",
   "metadata": {},
   "source": [
    "### histogram across blocks"
   ]
  },
  {
   "cell_type": "code",
   "execution_count": null,
   "id": "italian-replication",
   "metadata": {},
   "outputs": [],
   "source": [
    "sc = 32\n",
    "rc = 30\n",
    "##ground truth\n",
    "req = (con_trial.Artefact<1)&(con_trial.Chan==rc)&(con_trial.Stim==sc)\n",
    "block = con_trial.loc[req, 'Block'].values.astype('int')\n",
    "StimNum = con_trial.loc[req, 'Num'].values.astype('int')\n",
    "mn_gt = np.mean(EEG_CR[rc, StimNum,:],0)\n",
    "mn_gt = ff.lp_filter(mn_gt, 45, Fs)\n",
    "\n",
    "fig = plt.figure(figsize=(40,40))\n",
    "fig.patch.set_facecolor('xkcd:white')\n",
    "d = np.round(distance.euclidean(coord_all[sc], coord_all[rc]),1)\n",
    "plt.suptitle(labels_h[sc]+ ' -- '+labels_h[rc]+', d='+str(d)+'mm', fontsize=30)\n",
    "gs       = fig.add_gridspec(n_plots,n_plots)  # GridSpec(4,1, height_ratios=[1,2,1,2])\n",
    "k = 0\n",
    "for b in blocks:\n",
    "    h = con_trial.loc[con_trial.Block==b, 'Hour'].values.astype('int')[0]\n",
    "    if k ==0:\n",
    "        ax = fig.add_subplot(gs[np.floor(k/n_plots).astype('int'),np.mod(k,n_plots)])\n",
    "    else:\n",
    "        fig.add_subplot(gs[np.floor(k/n_plots).astype('int'),np.mod(k,n_plots)], sharex= ax)\n",
    "    data_surr, data_trial = surr_blockwise(sc, rc, con_trial, mn_gt, b)\n",
    "    data_surr[data_surr[:,0]>15,:] = np.nan\n",
    "    if ~np.isnan(np.nanmean(data_trial)):\n",
    "        plt.hist(data_surr[:,m])\n",
    "        plt.title(str(int(b))+'. Block, '+f\"{h:02}\"+\":00\", fontsize=25)\n",
    "        for i in range(len(data_trial)):\n",
    "            plt.axvline(data_trial[i,m], color=[0,0,0])\n",
    "        plt.axvline(np.nanpercentile(data_surr[:,m], 95), color=[1,0,0])\n",
    "        plt.axvline(np.nanpercentile(data_surr[:,m], 50), color=[1,0,0])\n",
    "    \n",
    "    k = k+1\n",
    "plt.savefig(path_patient + '/Analysis/BrainMapping/'+cond_folder+'/figures/trials_sig_test/surr_hist_all_'+labels_all[sc]+'_'+labels_all[rc]+'.jpg')"
   ]
  },
  {
   "cell_type": "markdown",
   "id": "anticipated-there",
   "metadata": {},
   "source": [
    "#### Single connection example of showing methods"
   ]
  },
  {
   "cell_type": "code",
   "execution_count": null,
   "id": "handy-peace",
   "metadata": {},
   "outputs": [],
   "source": [
    "t0"
   ]
  },
  {
   "cell_type": "code",
   "execution_count": null,
   "id": "informative-piece",
   "metadata": {},
   "outputs": [],
   "source": [
    "sc = 0\n",
    "rc = 4\n",
    "##ground truth\n",
    "\n",
    "req = (con_trial.Artefact==0)&(con_trial.Chan==rc)&(con_trial.Stim==sc)\n",
    "block = con_trial.loc[req, 'Block'].values.astype('int')\n",
    "StimNum = con_trial.loc[req, 'Num'].values.astype('int')\n",
    "mn_gt = np.mean(EEG_CR[rc, StimNum,:],0)\n",
    "mn_gt = ff.lp_filter(mn_gt, 45, Fs)\n",
    "# start of GT response\n",
    "t0 = get_gt_to(mn_gt)\n",
    "t0 = np.max([Fs, t0])\n",
    "t0 = t0/Fs #in seconds\n",
    "b = 20\n",
    "plot_sig_test_block(sc, rc, con_trial, mn_gt, b, t0)"
   ]
  },
  {
   "cell_type": "code",
   "execution_count": null,
   "id": "productive-flexibility",
   "metadata": {},
   "outputs": [],
   "source": [
    "def plot_sig_test_block(sc, rc, con_trial, mn_gt, b,t0):\n",
    "    w_LL = 0.25\n",
    "    ylim = np.min([800,np.max([300,1.5*np.max(abs(mn_gt))])])\n",
    "    d = np.round(distance.euclidean(coord_all[sc], coord_all[rc]),1)\n",
    "    ##surrogates Trials\n",
    "    mn_trial = np.min(con_trial.loc[(con_trial.Block==b), 'Num'].values.astype('int'))\n",
    "    mx_trial = np.max(con_trial.loc[(con_trial.Block==b), 'Num'].values.astype('int'))\n",
    "    real_trials = np.unique(con_trial.loc[(con_trial.Stim==sc)&(con_trial.Block==b), 'Num'].values.astype('int'))\n",
    "    stim_trials = np.unique(con_trial.loc[(con_trial.Stim>=rc-1)&(con_trial.Stim<=rc+1)&(con_trial.Block==b), 'Num'].values.astype('int'))\n",
    "    StimNum = np.unique(np.linspace(real_trials-30, real_trials+30,61).flatten())\n",
    "    StimNum = [i for i in StimNum if i not in stim_trials]\n",
    "    StimNum = [i for i in StimNum if i not in stim_trials+1]\n",
    "    StimNum = [i for i in StimNum if i not in real_trials]\n",
    "    #StimNum = [i for i in StimNum if i not in real_trials+1]\n",
    "    StimNum = [i for i in StimNum if i < mx_trial]\n",
    "    StimNum = [i for i in StimNum if i >= mn_trial]\n",
    "    StimNum = np.unique(StimNum).astype('int')\n",
    "    EEG_surr = ff.lp_filter(EEG_CR[[[rc]], StimNum, :], 45, Fs)\n",
    "    bad_StimNum = np.where(np.max(abs(EEG_surr[0]),1)>1000)\n",
    "    if len(bad_StimNum)>0:\n",
    "        StimNum = np.delete(StimNum, bad_StimNum)\n",
    "        EEG_surr = ff.lp_filter(EEG_CR[[[rc]], StimNum, :], 45, Fs)\n",
    "        \n",
    "\n",
    "    # get surrgates data\n",
    "    data_surr = np.zeros((len(StimNum)*len(t_surr),3))\n",
    "    for i in range(len(t_surr)):\n",
    "        LL_surr = LLf.get_LL_all(EEG_surr[:,:, int(t_surr[i] * Fs):int((t_surr[i] + 0.5) * Fs)], Fs, w_LL, 0,np.zeros((len(StimNum), 1)))\n",
    "        LL_surr = np.max(LL_surr[0],1)\n",
    "        pearson = get_pearson2mean(mn_gt, EEG_surr[0], tx=t0, ty=t_surr[i], Fs=500) # Pearson\n",
    "        data_surr[i*len(StimNum):(i+1)*len(StimNum), 0] = LL_surr\n",
    "        data_surr[i*len(StimNum):(i+1)*len(StimNum), 1] = pearson\n",
    "    data_surr[:,2] = data_surr[:,1]*data_surr[:,0]\n",
    "    data_surr[data_surr[:,0]>15,:] = np.nan\n",
    "    # adding real trials\n",
    "    dat = con_trial.loc[(con_trial.Chan==rc)&(con_trial.Stim==sc)&(con_trial.Block==b)]\n",
    "    StimNum = dat.Num.values.astype('int')\n",
    "    data_trial = np.zeros((len(dat),3))\n",
    "    data_trial[:,0] = dat.LL.values\n",
    "    data_trial[:,1] = dat.Pearson.values\n",
    "    data_trial[:,2] = data_trial[:,1]*data_trial[:,0]\n",
    "    \n",
    "    # Figure\n",
    "    fig = plt.figure(figsize=(16,12))\n",
    "    fig.patch.set_facecolor('xkcd:white')\n",
    "    plt.suptitle(labels_all[sc]+ ' -- '+labels_all[rc]+', d='+str(d)+'mm, Block '+str(b), fontsize=20)\n",
    "    gs       = fig.add_gridspec(3,3, width_ratios=[1,2,2])  # GridSpec(4,1, height_ratios=[1,2,1,2])\n",
    "    for i in range(3):\n",
    "        # Histogram\n",
    "        fig.add_subplot(gs[i,0])\n",
    "        plt.hist(data_surr[:,i],color=[0,0,0],alpha=0.5, label='surrogates')\n",
    "        for t in range(len(data_trial)):\n",
    "            plt.axvline(data_trial[t,i], color=[0,0,0])\n",
    "        plt.axvline(np.nanpercentile(data_surr[:,i], 95), color=[1,0,0],label='95th')\n",
    "        plt.xticks(fontsize=15)\n",
    "        plt.yticks(fontsize=15)\n",
    "        if i==0: plt.legend(fontsize=15)\n",
    "        plt.ylabel(method_labels[i], fontsize=20)\n",
    "        # Trials\n",
    "        fig.add_subplot(gs[i,1])\n",
    "        \n",
    "        StimNum_sel = StimNum[np.where(data_trial[:,i]>=np.nanpercentile(data_surr[:,i], 95))]\n",
    "        for t in range(len(StimNum_sel)):\n",
    "            plt.plot(x_ax, ff.lp_filter(EEG_CR[rc, StimNum_sel[t],:], 45, Fs), color=color_elab[0])\n",
    "        plt.plot(x_ax, mn_gt, color=[0,0,0], label='Mean across all blocks')\n",
    "        plt.axvline(0, color= [1,0,0])\n",
    "        if i==0: plt.legend(fontsize=15), plt.title('sig trials', fontsize=20)\n",
    "        if i ==2: plt.xlabel('time [s]', fontsize=20), plt.xticks(fontsize=15)\n",
    "        else:  plt.xticks([])\n",
    "        plt.ylim([-ylim,ylim])\n",
    "        plt.xlim([-0.5,2])\n",
    "        #plt.legend(fonts plt.xticks(fontsize=15)ize=15)\n",
    "        plt.yticks(fontsize=15)\n",
    "        fig.add_subplot(gs[i,2])\n",
    "        StimNum_sel = StimNum[np.where(data_trial[:,i]<np.nanpercentile(data_surr[:,i], 95))]\n",
    "        for t in range(len(StimNum_sel)):\n",
    "            plt.plot(x_ax, ff.lp_filter(EEG_CR[rc, StimNum_sel[t],:], 45, Fs), color=color_elab[0])\n",
    "        plt.plot(x_ax, mn_gt, color=[0,0,0], label='Mean across all blocks')\n",
    "        plt.axvline(0, color= [1,0,0])\n",
    "        if i==0: plt.legend(fontsize=15), plt.title('non- sig trials', fontsize=20)\n",
    "        if i ==2: plt.xlabel('time [s]', fontsize=20), plt.xticks(fontsize=15)\n",
    "        else:  plt.xticks([])\n",
    "        plt.xlim([-1,2])\n",
    "        #plt.legend(fonts plt.xticks(fontsize=15)ize=15)\n",
    "        plt.yticks(fontsize=15)\n",
    "        plt.ylim([-ylim,ylim])\n",
    "       \n",
    "        "
   ]
  },
  {
   "cell_type": "code",
   "execution_count": null,
   "id": "communist-presentation",
   "metadata": {},
   "outputs": [],
   "source": []
  },
  {
   "cell_type": "markdown",
   "id": "outer-balloon",
   "metadata": {},
   "source": [
    "## OLD IDEAS"
   ]
  },
  {
   "cell_type": "code",
   "execution_count": null,
   "id": "junior-sculpture",
   "metadata": {},
   "outputs": [],
   "source": [
    "for b in blocks:\n",
    "    ##surrogates Trials\n",
    "    mn_trial = np.min(con_trial.loc[(con_trial.Block==b), 'Num'].values.astype('int'))\n",
    "    mx_trial = np.max(con_trial.loc[(con_trial.Block==b), 'Num'].values.astype('int'))\n",
    "    real_trials = np.unique(con_trial.loc[(con_trial.Stim==sc)&(con_trial.Block==b), 'Num'].values.astype('int'))\n",
    "    stim_trials = np.unique(con_trial.loc[(con_trial.Stim>=rc-1)&(con_trial.Stim<=rc+1)&(con_trial.Block==b), 'Num'].values.astype('int'))\n",
    "    StimNum = np.unique(np.linspace(real_trials-30, real_trials+30,61).flatten())\n",
    "    StimNum = [i for i in StimNum if i not in stim_trials]\n",
    "    StimNum = [i for i in StimNum if i not in stim_trials+1]\n",
    "    StimNum = [i for i in StimNum if i not in real_trials]\n",
    "    #StimNum = [i for i in StimNum if i not in real_trials+1]\n",
    "    StimNum = [i for i in StimNum if i < mx_trial]\n",
    "    StimNum = [i for i in StimNum if i >= mn_trial]\n",
    "    StimNum = np.unique(StimNum).astype('int')\n",
    "    EEG_surr = ff.lp_filter(EEG_CR[[[rc]], StimNum, :], 45, Fs)\n",
    "    \n",
    "    # get surrgates data\n",
    "    data_surr = np.zeros((len(StimNum)*len(t_surr),3))\n",
    "    for i in range(len(t_surr)):\n",
    "        LL_surr = LLf.get_LL_all(EEG_surr[:,:, int(t_surr[i] * Fs):int((t_surr[i] + 0.5) * Fs)], Fs, w_LL, 0,np.zeros((len(StimNum), 1)))\n",
    "        LL_surr = np.max(LL_surr[0],1)\n",
    "        pearson = get_pearson2mean(mn_gt, EEG_surr[0], tx=t0, ty=t_surr[i], Fs=500) # Pearson\n",
    "        data_surr[i*len(StimNum):(i+1)*len(StimNum), 0] = LL_surr\n",
    "        data_surr[i*len(StimNum):(i+1)*len(StimNum), 1] = pearson\n",
    "    data_surr[:,2] = data_surr[:,1]*data_surr[:,0]\n",
    "    # adding real trials\n",
    "    dat = con_trial.loc[(con_trial.Chan==rc)&(con_trial.Stim==sc)&(con_trial.Block==b)]\n",
    "    data_trial = np.zeros((len(dat),3))\n",
    "    data_trial[:,0:2 ] = [dat.LL.values,dat.Pearson.values]\n",
    "    data_trial[:,2] = data_trial[:,1]*data_trial[:,0]"
   ]
  },
  {
   "cell_type": "code",
   "execution_count": null,
   "id": "described-steam",
   "metadata": {},
   "outputs": [],
   "source": [
    "# old \n",
    "def get_trial_significance(sc,rc,con_trial_all,  EEG_CR, t0=1, figs=1):\n",
    "    req = (con_trial_all.Artefact==0)&(con_trial_all.Chan==rc)&(con_trial_all.Stim==sc)\n",
    "    block = con_trial_all.loc[req, 'Block'].values.astype('int')\n",
    "    StimNum = con_trial_all.loc[req, 'Num'].values.astype('int')\n",
    "    p_corr = np.zeros((1, 5))\n",
    "    p_corr      = pd.DataFrame(p_corr, columns=['pre_pearson', 'post_pearson','pre_phase', 'post_phase', 'Num'])\n",
    "    if len(StimNum)>0:\n",
    "        d = np.round(con_trial_all.loc[req, 'd'].values[0],1)\n",
    "        mn = np.mean(EEG_CR[rc, StimNum,:],0)\n",
    "        mn_filt = ff.lp_filter(mn, 45, Fs)\n",
    "        ylim = np.max([np.min([1000,2.2*np.max(abs(mn))]), 300])\n",
    "        p_corr = np.zeros((len(StimNum),8))\n",
    "        \n",
    "        EEG_LL = ff.lp_filter(EEG_CR[[[rc]], StimNum, :], 45, Fs)\n",
    "        \n",
    "        # prestim\n",
    "        LL_trials = LLf.get_LL_all(EEG_LL[:,:, int(0.2 * Fs):int((0.2 + 0.5) * Fs)], Fs, w_LL, 0,np.zeros((len(StimNum), 1)))\n",
    "        p_corr[:,0] = get_pearson2mean(mn_filt, EEG_LL[0], tx=t0, ty=0.2, Fs=500) # Pearson\n",
    "        p_corr[:,2] = get_phasesync2mean(ff.bp_filter(mn,1,20, Fs), ff.bp_filter(EEG_CR[rc, StimNum,:],1, 20, Fs), tx=t0, ty=0.2, Fs=500) # Phase synchrony\n",
    "        p_corr[:,4] = np.max(LL_trials[0],1) #LL max\n",
    "        \n",
    "        #post stim\n",
    "        p_corr[:,1] = get_pearson2mean(mn_filt, EEG_LL[0], tx=t0, ty=t0, Fs=500) # Pearson# Pearson\n",
    "        p_corr[:,3] = get_phasesync2mean(ff.bp_filter(mn,1,20, Fs), ff.bp_filter(EEG_CR[rc, StimNum,:],1, 20, Fs), tx=t0, ty=t0, Fs=500) # Phase synchrony# Phase synchrony\n",
    "        \n",
    "        LL_trials = LLf.get_LL_all(EEG_LL[:,:, int(t0 * Fs):int((t0 + 0.5) * Fs)], Fs, w_LL, 0,np.zeros((len(StimNum), 1)))\n",
    "        p_corr[:,5] = np.max(LL_trials[0],1)\n",
    "        # update contrial list\n",
    "        con_trial_all.loc[req, 'Pearson'] = p_corr[:,1]\n",
    "        con_trial_all.loc[req, 'Phase'] = p_corr[:,3]\n",
    " \n",
    "        p_corr[:,6] = StimNum\n",
    "        p_corr[:,7] = block\n",
    "        p_corr      = pd.DataFrame(p_corr, columns=['pre_pearson', 'post_pearson','pre_phase', 'post_phase','pre_LL', 'post_LL', 'Num', 'Block'])\n",
    "        thr_pearson = np.percentile(p_corr.pre_pearson, 90)\n",
    "        thr_phase   = np.percentile(p_corr.pre_phase, 90)\n",
    "        thr_LL      = np.percentile(p_corr.pre_LL, 80)\n",
    "        \n",
    "\n",
    "        ## plotting\n",
    "        if figs:\n",
    "            fig = plt.figure(figsize=(25,18))\n",
    "            plt.suptitle(labels_all[sc]+ ' -- '+labels_all[rc]+', d='+str(d)+'mm', fontsize=20)\n",
    "            gs       = fig.add_gridspec(3,3, width_ratios=[1,2,2])  # GridSpec(4,1, height_ratios=[1,2,1,2])\n",
    "            fig.add_subplot(gs[0,0])\n",
    "            plt.ylabel('Phase correlation [500ms]', fontsize=20)\n",
    "            plt.hist(p_corr.pre_phase,color=[0,0,0],alpha=0.5, label='pre-stim')\n",
    "            plt.hist(p_corr.post_phase,color=color_elab[0],alpha=0.8, label='post-stim')\n",
    "            plt.axvline(thr_phase, color=[1,0,0],label='90th')\n",
    "            plt.xticks(fontsize=15)\n",
    "            plt.yticks(fontsize=15)\n",
    "            plt.xlim([0,1])\n",
    "            plt.legend(fontsize=15)\n",
    "            fig.add_subplot(gs[0,1])\n",
    "            plt.title('sig trials', fontsize=20)\n",
    "            ix = p_corr[p_corr.post_phase>=thr_phase].index\n",
    "            for i in range(len(ix)):\n",
    "                plt.plot(x_ax, EEG_CR[rc, StimNum[ix[i]],:], color=color_elab[0])\n",
    "            plt.plot(x_ax, np.mean(EEG_CR[rc, StimNum[ix],:],0), label='mean sig trial, n: '+str(len(ix)))\n",
    "            plt.plot(x_ax, np.mean(EEG_CR[rc, StimNum,:],0), color=[0,0,0], label='mean all trial, n: '+str(len(StimNum)))\n",
    "\n",
    "            plt.ylim([-ylim, ylim])\n",
    "            plt.axvline(0, color= [1,0,0])\n",
    "            plt.xticks([])\n",
    "            plt.yticks(fontsize=15)\n",
    "            plt.legend(fontsize=15)\n",
    "\n",
    "            fig.add_subplot(gs[0,2])\n",
    "            plt.title('Non-sig trials', fontsize=20)\n",
    "            ix = p_corr[p_corr.post_phase<thr_phase].index\n",
    "            for i in range(len(ix)):\n",
    "                plt.plot(x_ax, EEG_CR[rc, StimNum[ix[i]],:], color=color_elab[0])\n",
    "            plt.plot(x_ax, np.mean(EEG_CR[rc, StimNum[ix],:],0), label='mean non-sig trial, n: '+str(len(ix)))\n",
    "            plt.plot(x_ax, np.mean(EEG_CR[rc, StimNum,:],0), color=[0,0,0], label='mean all trial, n: '+str(len(StimNum)))\n",
    "            plt.axvline(0, color= [1,0,0])\n",
    "            plt.ylim([-ylim, ylim])\n",
    "            plt.xticks([])\n",
    "            plt.yticks([])\n",
    "            plt.legend(fontsize=15)\n",
    "\n",
    "            # pearson\n",
    "            fig.add_subplot(gs[1,0])\n",
    "            plt.ylabel('Pearson correlation [500ms]', fontsize=20)\n",
    "            plt.hist(p_corr.pre_pearson,color=[0,0,0],alpha=0.5, label='pre-stim')\n",
    "            plt.hist(p_corr.post_pearson,color=color_elab[0],alpha=0.8, label='post-stim')\n",
    "            plt.axvline(thr_pearson, color=[1,0,0],label='90th')\n",
    "            plt.xticks([-1, 0, 1],fontsize=15)\n",
    "            plt.yticks(fontsize=15)\n",
    "            plt.xlim([-1,1])\n",
    "            plt.legend(fontsize=15)\n",
    "            fig.add_subplot(gs[1,1])\n",
    "            plt.title('sig trials', fontsize=20)\n",
    "            ix = p_corr[p_corr.post_pearson>=thr_pearson].index\n",
    "            for i in range(len(ix)):\n",
    "                plt.plot(x_ax, EEG_CR[rc, StimNum[ix[i]],:], color=color_elab[0])\n",
    "            plt.plot(x_ax, np.mean(EEG_CR[rc, StimNum[ix],:],0), label='mean sig trial, n: '+str(len(ix)))\n",
    "            plt.plot(x_ax, np.mean(EEG_CR[rc, StimNum,:],0), color=[0,0,0], label='mean all trial, n: '+str(len(StimNum)))\n",
    "\n",
    "            plt.ylim([-ylim, ylim])\n",
    "            plt.axvline(0, color= [1,0,0])\n",
    "            #plt.xlabel('time [s]', fontsize=20)\n",
    "            plt.yticks(fontsize=15)\n",
    "            plt.xticks([])\n",
    "            plt.legend(fontsize=15)\n",
    "\n",
    "            fig.add_subplot(gs[1,2])\n",
    "            plt.title('Non-sig trials', fontsize=20)\n",
    "            ix = p_corr[p_corr.post_pearson<thr_pearson].index\n",
    "            for i in range(len(ix)):\n",
    "                plt.plot(x_ax, EEG_CR[rc, StimNum[ix[i]],:], color=color_elab[0])\n",
    "            plt.plot(x_ax, np.mean(EEG_CR[rc, StimNum[ix],:],0), label='mean non-sig trial, n: '+str(len(ix)))\n",
    "            plt.plot(x_ax, np.mean(EEG_CR[rc, StimNum,:],0), color=[0,0,0], label='mean all trial, n: '+str(len(StimNum)))\n",
    "            plt.axvline(0, color= [1,0,0])\n",
    "            plt.ylim([-ylim, ylim])\n",
    "            plt.yticks([])\n",
    "            #plt.xlabel('time [s]', fontsize=20)\n",
    "            plt.legend(fontsize=15)\n",
    "            plt.xticks([])#plt.xticks(fontsize=15)\n",
    "            \n",
    "            ## LL \n",
    "            # pearson\n",
    "            fig.add_subplot(gs[2,0])\n",
    "            plt.ylabel('LL [250ms]', fontsize=20)\n",
    "            plt.hist(p_corr.pre_LL,color=[0,0,0],alpha=0.5, label='pre-stim')\n",
    "            plt.hist(p_corr.post_LL,color=color_elab[0],alpha=0.8, label='post-stim')\n",
    "            plt.axvline(thr_LL, color=[1,0,0],label='90th')\n",
    "            plt.xticks(fontsize=15)\n",
    "            plt.yticks(fontsize=15)\n",
    "            plt.legend(fontsize=15)\n",
    "            fig.add_subplot(gs[2,1])\n",
    "            plt.title('sig trials', fontsize=20)\n",
    "            ix = p_corr[p_corr.post_LL>=thr_LL].index\n",
    "            for i in range(len(ix)):\n",
    "                plt.plot(x_ax, EEG_CR[rc, StimNum[ix[i]],:], color=color_elab[0])\n",
    "            plt.plot(x_ax, np.mean(EEG_CR[rc, StimNum[ix],:],0), label='mean sig trial, n: '+str(len(ix)))\n",
    "            plt.plot(x_ax, np.mean(EEG_CR[rc, StimNum,:],0), color=[0,0,0], label='mean all trial, n: '+str(len(StimNum)))\n",
    "\n",
    "            plt.ylim([-ylim, ylim])\n",
    "            plt.axvline(0, color= [1,0,0])\n",
    "            plt.xlabel('time [s]', fontsize=20)\n",
    "            plt.yticks(fontsize=15)\n",
    "            plt.xticks(fontsize=15)\n",
    "            plt.legend(fontsize=15)\n",
    "\n",
    "            fig.add_subplot(gs[2,2])\n",
    "            plt.title('Non-sig trials', fontsize=20)\n",
    "            ix = p_corr[p_corr.post_LL<thr_LL].index\n",
    "            for i in range(len(ix)):\n",
    "                plt.plot(x_ax, EEG_CR[rc, StimNum[ix[i]],:], color=color_elab[0])\n",
    "            plt.plot(x_ax, np.mean(EEG_CR[rc, StimNum[ix],:],0), label='mean non-sig trial, n: '+str(len(ix)))\n",
    "            plt.plot(x_ax, np.mean(EEG_CR[rc, StimNum,:],0), color=[0,0,0], label='mean all trial, n: '+str(len(StimNum)))\n",
    "            plt.axvline(0, color= [1,0,0])\n",
    "            plt.ylim([-ylim, ylim])\n",
    "            plt.yticks([])\n",
    "            plt.xlabel('time [s]', fontsize=20)\n",
    "            plt.legend(fontsize=15)\n",
    "            plt.xticks(fontsize=15)\n",
    "            plt.savefig(path_patient + '/Analysis/BrainMapping/'+cond_folder+'/figures/trials_sig_test/'+labels_all[sc]+'_'+labels_all[rc]+'.jpg')\n",
    "            plt.show()\n",
    "            #plt.close()\n",
    "        \n",
    "    return p_corr, con_trial_all"
   ]
  },
  {
   "cell_type": "code",
   "execution_count": null,
   "id": "contained-textbook",
   "metadata": {},
   "outputs": [],
   "source": [
    "b = 1\n",
    "for sc in tqdm.tqdm(stim_chans):\n",
    "    for rc in stim_chans:\n",
    "        sig_con_single = np.zeros((1, 7))\n",
    "        sig_con_single[0,:] = np.nan\n",
    "        sig_con_single[0,0:2] = [sc, rc]\n",
    "        # significance for each method\n",
    "        dat = con_trial_all[(con_trial_all.Stim==sc)&(con_trial_all.Chan==rc)&(con_trial_all.Block==b)]\n",
    "        if len(dat)>0:\n",
    "            sig_con_single[0,2] = np.mean(dat.Sig_block_surr)\n",
    "            sig_con_single[0,3] = np.mean(dat.Sig_trial_LL)\n",
    "            sig_con_single[0,4] = np.mean(dat.Sig_trial_P2P)\n",
    "        \n",
    "        p_corr = cal_plot_trial_sig(sc,rc,con_trial_all,  EEG_CR, figs=0)\n",
    "        if np.mean(p_corr.values[0,:]) != -100:\n",
    "            sig_con_single[0,5]= np.mean(p_corr.loc[np.isin(p_corr.Num, dat.Num), 'post_phase']>np.percentile(p_corr.pre_phase, 90))\n",
    "            sig_con_single[0,6]= np.mean(p_corr.loc[np.isin(p_corr.Num, dat.Num), 'post_pearson']>np.percentile(p_corr.pre_pearson, 90))\n",
    "            # thr_pearson[sc, rc] = np.percentile(p_corr.pre_pearson, 90)\n",
    "            # thr_phase[sc, rc] = np.percentile(p_corr.pre_phase, 90)\n",
    "            con_trial_all.loc[(con_trial_all.LL>0)&(con_trial_all.Stim==sc)&(con_trial_all.Chan==rc), 'Sig_phase'] = np.array(p_corr.post_phase>np.percentile(p_corr.pre_phase, 90))*1\n",
    "            con_trial_all.loc[(con_trial_all.LL>0)&(con_trial_all.Stim==sc)&(con_trial_all.Chan==rc), 'Sig_pearson'] = np.array(p_corr.post_pearson>np.percentile(p_corr.pre_pearson, 90))*1\n",
    "        sig_cons = np.concatenate([sig_cons,sig_con_single ],0)"
   ]
  },
  {
   "cell_type": "markdown",
   "id": "tracked-dietary",
   "metadata": {},
   "source": [
    "## compare Significance methods"
   ]
  },
  {
   "cell_type": "code",
   "execution_count": null,
   "id": "meaning-beatles",
   "metadata": {},
   "outputs": [],
   "source": [
    "## Jaccard score\n",
    "import numpy as np\n",
    "from sklearn.metrics import jaccard_score"
   ]
  },
  {
   "cell_type": "code",
   "execution_count": null,
   "id": "coordinate-vitamin",
   "metadata": {},
   "outputs": [],
   "source": [
    "b = 1\n",
    "thr_perc = 2\n",
    "dat = con_trial[con_trial.Block==b]\n",
    "BM_all = np.zeros((len(labels_all), len(labels_all),3))\n",
    "BM_all[:,:,:] = np.nan\n",
    "for sc in tqdm.tqdm(stim_chans):\n",
    "    for rc in stim_chans:\n",
    "        dat = con_trial_all[(con_trial_all.Artefact==0)&(con_trial_all.Stim==sc)&(con_trial_all.Chan==rc)&(con_trial_all.Block==b)]\n",
    "        if len(dat)>0:\n",
    "            BM_all[sc,rc,0] = np.array(np.nanmean(dat.LL)>LL_thr[sc,rc,thr_perc])*1\n",
    "            BM_all[sc,rc,1] = np.array(np.nanmean(dat.Pearson)>pearson_thr[sc,rc,thr_perc])*1\n",
    "            BM_all[sc,rc,2] = np.array(np.nanmean(dat.Phase)>phase_thr[sc,rc,thr_perc])*1\n",
    "jac_tab = get_jaccard_methods(BM_all, methods_labels)"
   ]
  },
  {
   "cell_type": "code",
   "execution_count": null,
   "id": "incorporate-musical",
   "metadata": {},
   "outputs": [],
   "source": [
    "req = (BM_all[:,:,0]==1)&(BM_all[:,:,1]==1)&(BM_all[:,:,2]==1)\n",
    "k= -1"
   ]
  },
  {
   "cell_type": "code",
   "execution_count": null,
   "id": "distinct-klein",
   "metadata": {},
   "outputs": [],
   "source": [
    "ix = np.array(np.where(req))\n",
    "k = k+1\n",
    "sc = ix[0,k]\n",
    "rc = ix[1,k]\n",
    "b = 1\n",
    "plot_mean(sc, rc, con_trial[con_trial.Block==b],EEG_CR, labels_all)"
   ]
  },
  {
   "cell_type": "code",
   "execution_count": null,
   "id": "federal-batman",
   "metadata": {},
   "outputs": [],
   "source": [
    "def plot_mean(sc, rc, LL_CCEP,EEG_resp, labels ):\n",
    "    t_0    = 1\n",
    "    lists  = LL_CCEP[(LL_CCEP['Chan']==rc)&(LL_CCEP['Stim']==sc)] #\n",
    "    h = np.unique(lists.Hour)[0].astype('int')\n",
    "    b = np.unique(lists.Block)[0].astype('int')\n",
    "    fig   = plt.figure(figsize=(12,7) )\n",
    "    fig.patch.set_facecolor('xkcd:white')\n",
    "    #plt.title(labels_all[Stim_chs]+' -- '+labels_clinic[rc])\n",
    "    #plt.title(labels[sc]+' -- '+labels[rc])\n",
    "    plt.title(labels[sc]+' -- '+labels[rc]+', Dist: '+str(np.round(lists.d.values[0]))+'mm, '+f\"{h:02}\"+\":00, Block \"+str(b))\n",
    "    \n",
    "    plt.axvline(0, c=[0,0,0])\n",
    "    plt.xlabel('time [s]')\n",
    "    #plt.text(-0.37, 200, 'LL: '+str(np.round(np.mean(lists.LLpeak),2))+'uV/ms (of mean)', c=[0,0,0])\n",
    "    \n",
    "    ylim = 300\n",
    "\n",
    "    #stim_spec                = stimlist[(stimlist.condition>0)&(stimlist.ChanP==ChanP)&(stimlist.IPI_ms ==0)&(stimlist.noise ==0)]#&(stimlist.noise ==0)\n",
    "    stimNum_all                  = lists.Num.values.astype('int')\n",
    "    for i in range(len(stimNum_all)):\n",
    "        ylim =np.max([ylim, np.max(abs(ff.lp_filter(EEG_resp[rc,stimNum_all[i],Fs:int(1.5*Fs)],45,Fs)))])\n",
    "        plt.plot(x_ax,ff.lp_filter(EEG_resp[rc,stimNum_all[i],:],45,Fs), c=color_elab[0], linewidth=1)\n",
    "    mn = ff.lp_filter(np.mean(EEG_resp[rc,stimNum_all,:],0),45,Fs)\n",
    "    # st  = np.std(ff.lp_filter(EEG_resp[rc,stimNum_all,:],45,Fs),0)\n",
    "    plt.plot(x_ax,mn, c=[0,0,0], linewidth=3, label='mean, n='+str(len(stimNum_all)))\n",
    "    # plt.fill_between(x_ax, mn-st, mn+st, color=color_elab[0], alpha= 0.3)\n",
    "    # plt.xlim([-0.6,1])\n",
    "    plt.ylim([-np.min([ylim*1.071,800]),np.min([ylim*1.071,800])])\n",
    "    #plt.axvspan(t_0+w_r-1, t_0-1+w_LL, alpha=0.3, color=color_elab[0])\n",
    "    #plt.axvspan(t_0+0.015-1, t_0+w_r-1, alpha=0.8, color=color_elab[1])\n",
    "    #plt.axvspan(t_0+0.015-1-0.2, t_0+w_r-1-0.2, alpha=0.8, color=color_elab[1])\n",
    "    plt.ylabel('[\\u03BCV]', fontsize=18) #\\u0394 delta\n",
    "    plt.xlabel('time [s]', fontsize=18)\n",
    "    plt.legend()\n",
    "    plt.show()"
   ]
  },
  {
   "cell_type": "code",
   "execution_count": null,
   "id": "authentic-quebec",
   "metadata": {},
   "outputs": [],
   "source": [
    "# get Brainmap (binary) for each method\n",
    "for b in [1,10]:\n",
    "    for thr_perc in range(3):\n",
    "\n",
    "        dat = con_trial[con_trial.Block==b]\n",
    "        BM_all = np.zeros((len(labels_all), len(labels_all),3))\n",
    "        BM_all[:,:,:] = np.nan\n",
    "        for sc in tqdm.tqdm(stim_chans):\n",
    "            for rc in stim_chans:\n",
    "                dat = con_trial_all[(con_trial_all.Artefact==0)&(con_trial_all.Stim==sc)&(con_trial_all.Chan==rc)&(con_trial_all.Block==b)]\n",
    "                if len(dat)>0:\n",
    "                    BM_all[sc,rc,0] = np.array(np.nanmean(dat.LL)>LL_thr[sc,rc,thr_perc])*1\n",
    "                    BM_all[sc,rc,1] = np.array(np.nanmean(dat.Pearson)>pearson_thr[sc,rc,thr_perc])*1\n",
    "                    BM_all[sc,rc,2] = np.array(np.nanmean(dat.Phase)>phase_thr[sc,rc,thr_perc])*1\n",
    "        jac_tab = get_jaccard_methods(BM_all, methods_labels)\n",
    "        #BM_all_nan = np.copy(BM_all)\n",
    "        plot_BM_methods(BM_all, jac_tab)"
   ]
  },
  {
   "cell_type": "code",
   "execution_count": null,
   "id": "delayed-renewal",
   "metadata": {},
   "outputs": [],
   "source": [
    "BM_all.shape"
   ]
  },
  {
   "cell_type": "code",
   "execution_count": null,
   "id": "cosmetic-sympathy",
   "metadata": {},
   "outputs": [],
   "source": [
    "thr_perc = 1\n",
    "BM_all = np.zeros((len(labels_all), len(labels_all),len(np.unique(con_trial.Block))))\n",
    "BM_all[:,:,:] = np.nan\n",
    "i = 0\n",
    "for b in np.unique(con_trial.Block):\n",
    "    dat = con_trial[con_trial.Block==b]\n",
    "\n",
    "    for sc in tqdm.tqdm(stim_chans):\n",
    "        for rc in stim_chans:\n",
    "            dat = con_trial_all[(con_trial_all.Artefact<1)&(con_trial_all.Stim==sc)&(con_trial_all.Chan==rc)&(con_trial_all.Block==b)]\n",
    "            if len(dat)>0:\n",
    "                BM_all[sc,rc,i] = (np.array(np.nanmean(dat.LL)>LL_thr[sc,rc,thr_perc])*1)&np.array(np.nanmean(dat.Pearson)>pearson_thr[sc,rc,thr_perc])*1\n",
    "                # BM_all[sc,rc,1] = np.array(np.nanmean(dat.Pearson)>pearson_thr[sc,rc,thr_perc])*1\n",
    "                # BM_all[sc,rc,2] = np.array(np.nanmean(dat.Phase)>phase_thr[sc,rc,thr_perc])*1\n",
    "    i = i+1\n"
   ]
  },
  {
   "cell_type": "code",
   "execution_count": null,
   "id": "partial-technique",
   "metadata": {},
   "outputs": [],
   "source": [
    "i = 0\n",
    "BM_blocks = np.zeros((len(np.unique(con_trial.Block)),5))\n",
    "for b in np.unique(con_trial.Block).astype('int'):\n",
    "    den = np.sum(BM_all[:,:,i]==1)/(np.sum(BM_all[:,:,i]>-1))\n",
    "    hour = np.bincount(con_trial.loc[con_trial.Block==b,'Hour']).argmax()\n",
    "    sleep = np.bincount(con_trial.loc[con_trial.Block==b,'Sleep']).argmax()\n",
    "    if b >1:\n",
    "        jac = jaccard_score((BM_all[:,:,i])==1, (BM_all[:,:,i-1])==1, average=\"micro\")\n",
    "    else: \n",
    "        jac = 0\n",
    "    BM_blocks[i,:] = [b, den, jac, hour, sleep ]\n",
    "    i =i+1\n",
    "BM_blocks_df = pd.DataFrame(BM_blocks, columns=['Block', 'Density', 'Jaccard', 'Hour', 'Sleep'])"
   ]
  },
  {
   "cell_type": "code",
   "execution_count": null,
   "id": "incorporated-greek",
   "metadata": {},
   "outputs": [],
   "source": [
    "i = 5\n",
    "M = BM_all[:,:,i]\n",
    "M = np.delete(M,bad_all,0 )\n",
    "M = np.delete(M,bad_all,1 )\n",
    "plt.figure(figsize=(8,8))\n",
    "plt.title(subj +' -- BM, Block: '+str(np.unique(con_trial.Block)[i]))\n",
    "plt.pcolormesh(M, cmap=cmap)\n",
    "plt.yticks(np.arange(len(M)),np.delete(labels_all,bad_all ))\n",
    "plt.xticks(np.arange(len(M)),np.delete(labels_all,bad_all ), rotation=90)\n",
    "plt.show()   "
   ]
  },
  {
   "cell_type": "code",
   "execution_count": null,
   "id": "silver-anchor",
   "metadata": {},
   "outputs": [],
   "source": [
    "i = 6\n",
    "M = BM_all[:,:,i]\n",
    "M = np.delete(M,bad_all,0 )\n",
    "M = np.delete(M,bad_all,1 )\n",
    "plt.figure(figsize=(8,8))\n",
    "plt.title(subj +' -- BM, Block: '+str(np.unique(con_trial.Block)[i]))\n",
    "plt.pcolormesh(M, cmap=cmap)\n",
    "plt.yticks(np.arange(len(M)),np.delete(labels_all,bad_all ))\n",
    "plt.xticks(np.arange(len(M)),np.delete(labels_all,bad_all ), rotation=90)\n",
    "plt.show()       "
   ]
  },
  {
   "cell_type": "code",
   "execution_count": null,
   "id": "compliant-information",
   "metadata": {
    "scrolled": false
   },
   "outputs": [],
   "source": [
    "fig = plt.figure(figsize=(15,5))\n",
    "fig.patch.set_facecolor('xkcd:white')\n",
    "plt.title(subj+ ' -- Density and Jaccard across blocks (Pearson and LL 80th thr)', fontsize=20)\n",
    "plt.scatter(BM_blocks_df.Block, BM_blocks_df.Density, label='Density')\n",
    "plt.scatter(BM_blocks_df.Block, BM_blocks_df.Jaccard, label='Jaccard')\n",
    "plt.ylim([0,1])\n",
    "plt.xlabel('Block Number')\n",
    "plt.legend()"
   ]
  },
  {
   "cell_type": "code",
   "execution_count": null,
   "id": "hindu-picnic",
   "metadata": {},
   "outputs": [],
   "source": [
    "# BM_all[np.isnan(BM_all[:,:,0])|np.isnan(BM_all[:,:,1])|np.isnan(BM_all[:,:,2]),1] = 0\n",
    "# BM_all[np.isnan(BM_all[:,:,0])|np.isnan(BM_all[:,:,1])|np.isnan(BM_all[:,:,2]),2] = 0\n",
    "# BM_all[np.isnan(BM_all[:,:,0])|np.isnan(BM_all[:,:,1])|np.isnan(BM_all[:,:,2]),0] = 0"
   ]
  },
  {
   "cell_type": "code",
   "execution_count": null,
   "id": "vocal-statement",
   "metadata": {},
   "outputs": [],
   "source": [
    "def get_jaccard_methods(BM_all, methods_labels):\n",
    "    \n",
    "    ix = np.array(list(itertools.combinations(range(len(methods_labels)), 2)))\n",
    "    jac_tab = np.zeros((len(ix)*2,3))\n",
    "    for i in range(len(ix)):\n",
    "        jac_tab[i,0] = jaccard_score((BM_all[:,:,ix[i,0]])==1, (BM_all[:,:,ix[i,1]])==1, average=\"micro\")\n",
    "    for i in range(len(ix)):\n",
    "        jac_tab[i+3,1] = 1\n",
    "        jac_tab[i+3,0] = jaccard_score((BM_all[:,:,ix[i,0]])==0, (BM_all[:,:,ix[i,1]])==0, average=\"micro\")\n",
    "    jac_tab = pd.DataFrame(jac_tab, columns=['Jaccard', 'Sig', 'Methods'])\n",
    "    # jac_tab = pd.DataFrame(jac_tab, columns=['Sig', 'Non-sig', 'Methods'])\n",
    "    jac_tab.Methods = [methods_labels[ix[0,0]]+' -- '+methods_labels[ix[0,1]],methods_labels[ix[1,0]]+' -- '+methods_labels[ix[1,1]],methods_labels[ix[2,0]]+' -- '+methods_labels[ix[2,1]],methods_labels[ix[0,0]]+' -- '+methods_labels[ix[0,1]],methods_labels[ix[1,0]]+' -- '+methods_labels[ix[1,1]],methods_labels[ix[2,0]]+' -- '+methods_labels[ix[2,1]]]\n",
    "        #jac_tab[i,2] = methods_labels[ix[1,0]]+' -- '+methods_labels[ix[1,1]]\n",
    "    #jac_tab = pd.DataFrame(jac_tab, index = [methods_labels[ix[0,0]]+' -- '+methods_labels[ix[0,1]],methods_labels[ix[1,0]]+' -- '+methods_labels[ix[1,1]],methods_labels[ix[2,0]]+' -- '+methods_labels[ix[2,1]]], columns=['Sig','Non-sig'])\n",
    "    return jac_tab"
   ]
  },
  {
   "cell_type": "code",
   "execution_count": null,
   "id": "fitted-gross",
   "metadata": {},
   "outputs": [],
   "source": [
    "def plot_BM_methods(BM_all_nan, jac_tab):\n",
    "    fig, axs = plt.subplots(2, 2, figsize=(20,20))\n",
    "    plt.suptitle(subj+ ' -- BM, block: '+str(b)+', '+thr_lables[thr_perc]+' as surr-threshold', fontsize=30)\n",
    "    for i in range(3):\n",
    "        M = BM_all_nan[:,:,i]\n",
    "        M = np.delete(M,bad_all,0 )\n",
    "        M = np.delete(M,bad_all,1 )\n",
    "        if i <2:\n",
    "            axs[i,0].pcolorfast(M, cmap=cmap)\n",
    "            axs[i,0].set_title(methods_labels[i], fontsize=20)\n",
    "            axs[i,0].set_yticks(np.arange(len(M)))\n",
    "            axs[i,0].set_yticklabels(np.delete(labels_all,bad_all ))\n",
    "            if i == 1:\n",
    "                axs[i,0].set_xticks(np.arange(len(M)))\n",
    "                axs[i,0].set_xticklabels(np.delete(labels_all,bad_all ), rotation =90)\n",
    "            else:\n",
    "                axs[i,0].set_xticklabels([])\n",
    "        else:\n",
    "            axs[0,i-1].pcolorfast(M, cmap=cmap)\n",
    "            axs[0,i-1].set_title(methods_labels[i], fontsize=20)\n",
    "            axs[0,i-1].set_xticklabels([])\n",
    "            axs[0,i-1].set_yticklabels([])\n",
    "    sns.barplot(jac_tab.Methods, jac_tab.Jaccard, hue=jac_tab.Sig, alpha=0.9, ax = axs[1,1])\n",
    "    axs[1,1].set_title('Jaccard Index', fontsize=20)\n",
    "    axs[1,1].set_yticks(np.linspace(0,1,5))\n",
    "    #axs[1,1].set_xticklabels(fontsize=15, rotation =45)\n",
    "    plt.savefig(path_patient + '/Analysis/BrainMapping/'+cond_folder+'/figures/trials_sig_test/Jacc_block'+str(b)+'_thr'+thr_lables[thr_perc]+'.jpg')\n",
    "    plt.close()\n"
   ]
  },
  {
   "cell_type": "code",
   "execution_count": null,
   "id": "handy-overhead",
   "metadata": {},
   "outputs": [],
   "source": [
    "\n",
    "\n",
    "plt.figure(figsize=(10,8))\n",
    "st = np.nanstd(EEG_CR[rc, StimNum,:],0)\n",
    "mn = np.nanmean(EEG_CR[rc, StimNum,:],0)\n",
    "\n",
    "plt.plot(x_ax, np.mean(EEG_CR[rc, StimNum,:],0), label='n: '+str(len(StimNum)))\n",
    "plt.fill_between(x_ax, mn-st, mn+st, alpha=0.2)\n",
    "plt.legend()\n",
    "plt.title(labels_all[sc]+' -- '+labels_all[rc])\n",
    "plt.xlabel('time [s]', fontsize=20)"
   ]
  },
  {
   "cell_type": "code",
   "execution_count": null,
   "id": "three-argument",
   "metadata": {},
   "outputs": [],
   "source": [
    "stop"
   ]
  },
  {
   "cell_type": "markdown",
   "id": "agreed-twenty",
   "metadata": {},
   "source": [
    "## brain plots and correlation"
   ]
  },
  {
   "cell_type": "code",
   "execution_count": null,
   "id": "polar-thickness",
   "metadata": {},
   "outputs": [],
   "source": [
    "bad_chans = [56]"
   ]
  },
  {
   "cell_type": "code",
   "execution_count": null,
   "id": "naughty-beverage",
   "metadata": {},
   "outputs": [],
   "source": [
    "bad_all"
   ]
  },
  {
   "cell_type": "code",
   "execution_count": null,
   "id": "sound-spending",
   "metadata": {},
   "outputs": [],
   "source": [
    "non_stim = np.arange(len(labels_all))\n",
    "non_stim = np.delete(non_stim, StimChanIx, 0)\n",
    "bad_all = np.unique(np.concatenate([bad_region, bad_chans, non_stim])).astype('int')"
   ]
  },
  {
   "cell_type": "code",
   "execution_count": null,
   "id": "arctic-science",
   "metadata": {},
   "outputs": [],
   "source": [
    "labels_region_L = lbls.Hemisphere.values+'_'+labels_region"
   ]
  },
  {
   "cell_type": "code",
   "execution_count": null,
   "id": "critical-choice",
   "metadata": {},
   "outputs": [],
   "source": [
    "files_list = glob(path_patient + '/Analysis/' + folder + '/data/Stim_list_*CR*')"
   ]
  },
  {
   "cell_type": "code",
   "execution_count": null,
   "id": "subsequent-discretion",
   "metadata": {},
   "outputs": [],
   "source": [
    "l = 0\n",
    "print('loading ' + files_list[l][-11:-4], end='\\r')\n",
    "stimlist = pd.read_csv(files_list[l])\n",
    "if not ('noise' in stimlist.columns):\n",
    "    stimlist.insert(9, 'noise', 0)\n",
    "EEG_resp = np.load(\n",
    "    path_patient + '/Analysis/' + folder + '/data/ALL_resps_' + files_list[l][-11:-4] + '.npy')\n",
    "if EEG_resp.shape[1] != len(stimlist):\n",
    "    print('ERROR number of Stimulations is not correct')"
   ]
  },
  {
   "cell_type": "code",
   "execution_count": null,
   "id": "similar-creature",
   "metadata": {},
   "outputs": [],
   "source": [
    "sig_trial_all = 0"
   ]
  },
  {
   "cell_type": "code",
   "execution_count": null,
   "id": "designed-concrete",
   "metadata": {},
   "outputs": [],
   "source": [
    "if 'StimNum' in stimlist.columns:\n",
    "    stimlist = stimlist.drop('StimNum', axis=1)\n",
    "    stimlist = stimlist.reset_index(drop=True)\n",
    "stimlist.insert(5, 'StimNum', np.arange(len(stimlist)))\n",
    "stimlist.insert(5, 'Num_block', np.arange(len(stimlist)))\n",
    "\n",
    "t = stimlist.type.values[0]\n",
    "# con_trial_block = BMf.LL_BM_cond(EEG_resp, stimlist, 'h', bad_chans, coord_all, labels_clinic, StimChanSM, StimChanIx)\n",
    "block_l = files_list[l][-11:-4]\n",
    "file = path_patient + '/Analysis/BrainMapping/' + cond_folder + '/data/con_trial_' + block_l + '.csv'"
   ]
  },
  {
   "cell_type": "code",
   "execution_count": null,
   "id": "sized-strap",
   "metadata": {},
   "outputs": [],
   "source": [
    "con_trial_block, sig_trial  = BMf.LL_BM_connection(EEG_resp, stimlist, bad_chans, coord_all,\n",
    "                                                                          labels_clinic, StimChanSM, StimChanIx)\n",
    "\n",
    "#data_A, chan_thr, sig_mean = BMf.get_LL_thr(EEG_resp, con_trial_block, labels_all, path_patient)\n",
    "if l == 0:\n",
    "    sig_trial_all = sig_trial\n",
    "    sig_mean_all = sig_mean\n",
    "elif l ==1:\n",
    "    sig_trial_all = np.stack([sig_trial_all, sig_trial],0)\n",
    "    sig_mean_all = np.stack([sig_mean_all, sig_mean],0)\n",
    "else:\n",
    "    sig_trial_all = np.concatenate([sig_trial_all, np.expand_dims(sig_trial,0)],0)\n",
    "    sig_mean_all = np.concatenate([sig_mean_all, np.expand_dims(sig_mean,0)],0)\n"
   ]
  },
  {
   "cell_type": "code",
   "execution_count": null,
   "id": "solid-practitioner",
   "metadata": {},
   "outputs": [],
   "source": [
    "subj"
   ]
  },
  {
   "cell_type": "code",
   "execution_count": null,
   "id": "decimal-czech",
   "metadata": {},
   "outputs": [],
   "source": [
    "# save histogram trial-wise\n",
    "for i in range(len(sig_trial_label)):\n",
    "    for c in range(len(labels_all)):\n",
    "        plt.figure(figsize=(10,8))\n",
    "        plt.title(labels_all[c]+': '+ sig_trial_label[i]+' --- '+block_l[-4:])\n",
    "        plt.hist(sig_trial[c,:,i])\n",
    "        plt.axvline(np.nanpercentile(sig_trial[c,:,i], 99), color=[1,0,0])\n",
    "        plt.axvline(np.nanpercentile(sig_trial[c,:,i], 90), color=[1,0,0])\n",
    "        plt.xlabel(sig_trial_label[i])\n",
    "        plt.savefig(path_patient + '/Analysis/BrainMapping/' + cond_folder + '/surrogate/trial/'+labels_all[c]+'_'+ sig_trial_label[i]+'_'+block_l[-4:]+'.jpg')\n",
    "        plt.close()"
   ]
  },
  {
   "cell_type": "markdown",
   "id": "minimal-chosen",
   "metadata": {},
   "source": [
    "## plot functions"
   ]
  },
  {
   "cell_type": "code",
   "execution_count": null,
   "id": "contained-throw",
   "metadata": {},
   "outputs": [],
   "source": [
    "def plot_pearson(sc, rc, LL_CCEP,EEG_resp, labels ):\n",
    "    "
   ]
  },
  {
   "cell_type": "code",
   "execution_count": null,
   "id": "encouraging-ebony",
   "metadata": {},
   "outputs": [],
   "source": [
    "\n",
    "def butter_bandpass(lowcut, highcut, fs, order=5):\n",
    "    nyq = 0.5 * fs\n",
    "    low = lowcut / nyq\n",
    "    high = highcut / nyq\n",
    "    b, a = butter(order, [low, high], btype='band')\n",
    "    return b, a\n",
    "\n",
    "\n",
    "def butter_bandpass_filter(data, lowcut, highcut, fs, order=5):\n",
    "    b, a = butter_bandpass(lowcut, highcut, fs, order=order)\n",
    "    y = filtfilt(b, a, data)\n",
    "    return y\n"
   ]
  },
  {
   "cell_type": "code",
   "execution_count": null,
   "id": "hearing-transmission",
   "metadata": {},
   "outputs": [],
   "source": [
    "def get_phase_sync_resp(x, y, Fs=500, win=0.25):\n",
    "    s0 = 0\n",
    "    s1 = int(s0+win*Fs)\n",
    "    corr = np.zeros_like(x)\n",
    "    i = int(win/2*Fs)\n",
    "    while s1<x.shape[-1]:\n",
    "        al1 = np.angle(hilbert(x[s0:s1]),deg=False)\n",
    "        al2 = np.angle(hilbert(y[s0:s1]),deg=False)\n",
    "        corr[i] = np.mean(1-np.sin(np.abs(al1-al2)/2))\n",
    "        s0 = s0+1\n",
    "        s1 = s1+1\n",
    "        i = i+1\n",
    "    return corr\n",
    "def get_pearson_resp(x, y, Fs, win= 0.25):\n",
    "    \n",
    "    s0 = 0\n",
    "    s1 = int(s0+win*Fs)\n",
    "    corr = np.zeros_like(x)\n",
    "    i = int(win/2*Fs)\n",
    "    while s1<x.shape[-1]:\n",
    "        corr[i] = np.corrcoef(x[s0:s1], y[s0:s1])[0,1]\n",
    "        s0 = s0+1\n",
    "        s1 = s1+1\n",
    "        i = i+1\n",
    "    return corr"
   ]
  },
  {
   "cell_type": "code",
   "execution_count": null,
   "id": "differential-material",
   "metadata": {},
   "outputs": [],
   "source": [
    "\n",
    "lowcut  = .01\n",
    "highcut = .5\n",
    "fs = 30.\n",
    "order = 1\n",
    "d1 = df['S1_Joy'].interpolate().values\n",
    "d2 = df['S2_Joy'].interpolate().values\n",
    "y1 = butter_bandpass_filter(d1,lowcut=lowcut,highcut=highcut,fs=fs,order=order)\n",
    "y2 = butter_bandpass_filter(d2,lowcut=lowcut,highcut=highcut,fs=fs,order=order)\n",
    "\n",
    "al1 = np.angle(hilbert(y1),deg=False)\n",
    "al2 = np.angle(hilbert(y2),deg=False)\n",
    "phase_synchrony = 1-np.sin(np.abs(al1-al2)/2)"
   ]
  },
  {
   "cell_type": "code",
   "execution_count": null,
   "id": "terminal-audit",
   "metadata": {},
   "outputs": [],
   "source": [
    "def crosscorr(datax, datay, lag=0, wrap=False):\n",
    "    \"\"\" Lag-N cross correlation. \n",
    "    Shifted data filled with NaNs \n",
    "    \n",
    "    Parameters\n",
    "    ----------\n",
    "    lag : int, default 0\n",
    "    datax, datay : pandas.Series objects of equal length\n",
    "    Returns\n",
    "    ----------\n",
    "    crosscorr : float\n",
    "    \"\"\"\n",
    "    if wrap:\n",
    "        shiftedy = datay.shift(lag)\n",
    "        shiftedy.iloc[:lag] = datay.iloc[-lag:].values\n",
    "        return datax.corr(shiftedy)\n",
    "    else: \n",
    "        return datax.corr(datay.shift(lag))"
   ]
  },
  {
   "cell_type": "code",
   "execution_count": null,
   "id": "boolean-november",
   "metadata": {},
   "outputs": [],
   "source": [
    "crosscorr(x[s0:s1], y[s0:s1])"
   ]
  },
  {
   "cell_type": "code",
   "execution_count": null,
   "id": "tribal-assistant",
   "metadata": {},
   "outputs": [],
   "source": [
    "def get_cross_corr(x, y, Fs=500, win=0.25):\n",
    "    s0 = 0\n",
    "    s1 = int(s0+win*Fs)\n",
    "    corr = np.zeros_like(x)\n",
    "    i = int(win/2*Fs)\n",
    "    while s1<x.shape[-1]:\n",
    "        al1 = np.angle(hilbert(x[s0:s1]),deg=False)\n",
    "        al2 = np.angle(hilbert(y[s0:s1]),deg=False)\n",
    "        corr[i] = crosscorr(x[s0:s1], y[s0:s1])# np.mean(1-np.sin(np.abs(al1-al2)/2))\n",
    "        s0 = s0+1\n",
    "        s1 = s1+1\n",
    "        i = i+1\n",
    "    return corr"
   ]
  },
  {
   "cell_type": "code",
   "execution_count": null,
   "id": "blind-publication",
   "metadata": {},
   "outputs": [],
   "source": [
    "def get_phase_sync_ts(x, y, Fs=500, win=0.25):\n",
    "    s0 = 0\n",
    "    s1 = int(s0+win*Fs)\n",
    "    corr = np.zeros_like(x)\n",
    "    i = int(win/2*Fs)\n",
    "    while s1<x.shape[-1]:\n",
    "        al1 = np.angle(hilbert(x[s0:s1]),deg=False)\n",
    "        al2 = np.angle(hilbert(y[s0:s1]),deg=False)\n",
    "        corr[i] = np.mean(1-np.sin(np.abs(al1-al2)/2))\n",
    "        s0 = s0+1\n",
    "        s1 = s1+1\n",
    "        i = i+1\n",
    "    return corr"
   ]
  },
  {
   "cell_type": "code",
   "execution_count": null,
   "id": "personal-michigan",
   "metadata": {},
   "outputs": [],
   "source": []
  },
  {
   "cell_type": "code",
   "execution_count": null,
   "id": "typical-jewelry",
   "metadata": {},
   "outputs": [],
   "source": [
    "def get_pearson_ts(x, y, Fs, win= 0.25):\n",
    "    \n",
    "    s0 = 0\n",
    "    s1 = int(s0+win*Fs)\n",
    "    corr = np.zeros_like(x)\n",
    "    i = int(win/2*Fs)\n",
    "    while s1<x.shape[-1]:\n",
    "        corr[i] = np.corrcoef(x[s0:s1], y[s0:s1])[0,1]\n",
    "        s0 = s0+1\n",
    "        s1 = s1+1\n",
    "        i = i+1\n",
    "    return corr"
   ]
  },
  {
   "cell_type": "code",
   "execution_count": null,
   "id": "instant-preview",
   "metadata": {},
   "outputs": [],
   "source": [
    "from fastdtw import fastdtw\n",
    "from scipy.spatial.distance import euclidean"
   ]
  },
  {
   "cell_type": "code",
   "execution_count": null,
   "id": "happy-detroit",
   "metadata": {},
   "outputs": [],
   "source": [
    "color_elab      = np.zeros((3,3))\n",
    "color_elab[0,:] = np.array([31, 78, 121])/255\n",
    "color_elab[1,:] = np.array([189, 215, 238])/255\n",
    "color_elab[2,:] = np.array([0.256, 0.574, 0.431])"
   ]
  },
  {
   "cell_type": "code",
   "execution_count": null,
   "id": "comparable-there",
   "metadata": {},
   "outputs": [],
   "source": []
  },
  {
   "cell_type": "code",
   "execution_count": null,
   "id": "guilty-finger",
   "metadata": {},
   "outputs": [],
   "source": [
    "win = 0.25*Fs\n",
    "ov = 0.5\n",
    "len(x)/(win/ov)"
   ]
  },
  {
   "cell_type": "code",
   "execution_count": null,
   "id": "olympic-consciousness",
   "metadata": {},
   "outputs": [],
   "source": [
    "win = 0.5"
   ]
  },
  {
   "cell_type": "code",
   "execution_count": null,
   "id": "antique-anime",
   "metadata": {},
   "outputs": [],
   "source": [
    "np.pad(x, (int(0.5*win*Fs), int(0.5*win*Fs)), 'constant', constant_values=(0,0)).shape"
   ]
  },
  {
   "cell_type": "code",
   "execution_count": null,
   "id": "guided-sampling",
   "metadata": {},
   "outputs": [],
   "source": [
    "def get_dtw_ts(x, y, Fs, ov=0.1, win= 0.25):\n",
    "    corr = np.zeros((int(len(x)/(win*Fs*ov)),))\n",
    "    i = 0#int(win/2*Fs)\n",
    "    x = np.pad(x, (int(0.5*win*Fs), int(0.5*win*Fs)), 'constant', constant_values=(0,0))\n",
    "    y = np.pad(y, (int(0.5*win*Fs), int(0.5*win*Fs)), 'constant', constant_values=(0,0))\n",
    "    s0 = 0\n",
    "    s1 = int(s0+win*Fs)\n",
    "    \n",
    "    while (i<len(corr))&(s1<x.shape[-1]):\n",
    "        corr[i], _ = fastdtw(x[s0:s1],y[s0:s1], dist=euclidean)\n",
    "        s0 = s0+int(ov*win*Fs)\n",
    "        s1 = s1+int(ov*win*Fs)\n",
    "        i = i+1\n",
    "    return corr"
   ]
  },
  {
   "cell_type": "code",
   "execution_count": null,
   "id": "center-lying",
   "metadata": {},
   "outputs": [],
   "source": [
    "sc = 40\n",
    "rc = 43\n",
    "lists  = con_trial_block[(con_trial_block['Chan']==rc)&(con_trial_block['Stim']==sc)&(~np.isnan(con_trial_block.LL.values))] #\n",
    "EEG_trial  = EEG_resp[rc,lists.Num_block.values.astype('int'),: ]"
   ]
  },
  {
   "cell_type": "code",
   "execution_count": null,
   "id": "conservative-playlist",
   "metadata": {},
   "outputs": [],
   "source": [
    "for l in range(0, len(files_list)): # for each file\n",
    "    print('loading ' + files_list[l][-11:-4], end='\\r')\n",
    "    stimlist = pd.read_csv(files_list[l])\n",
    "    if not ('noise' in stimlist.columns):\n",
    "        stimlist.insert(9, 'noise', 0)\n",
    "    EEG_resp = np.load(\n",
    "        path_patient + '/Analysis/' + folder + '/data/ALL_resps_' + files_list[l][-11:-4] + '.npy')\n",
    "    if EEG_resp.shape[1] != len(stimlist):\n",
    "        print('ERROR number of Stimulations is not correct')\n",
    "        break\n",
    "    else:\n",
    "        if 'StimNum' in stimlist.columns:\n",
    "            stimlist = stimlist.drop('StimNum', axis=1)\n",
    "            stimlist = stimlist.reset_index(drop=True)\n",
    "        stimlist.insert(5, 'StimNum', np.arange(len(stimlist)))\n",
    "        stimlist.insert(5, 'Num_block', np.arange(len(stimlist)))\n",
    "\n",
    "        t = stimlist.type.values[0]\n",
    "        # con_trial_block = BMf.LL_BM_cond(EEG_resp, stimlist, 'h', bad_chans, coord_all, labels_clinic, StimChanSM, StimChanIx)\n",
    "        block_l = files_list[l][-11:-4]\n",
    "        file = path_patient + '/Analysis/BrainMapping/' + cond_folder + '/data/con_trial_' + block_l + '.csv'\n",
    "        con_trial_block = pd.read_csv(file)\n",
    "        ts_surr = get_ts_surr(EEG_resp, con_trial_block, labels_all, path_patient)\n",
    "        if l == 0:\n",
    "            ts_surr_all = ts_surr\n",
    "        elif l ==1:\n",
    "            ts_surr_all = np.stack([ts_surr_all, ts_surr], 0)\n",
    "        else:\n",
    "            ts_surr_all = np.concatenate([ts_surr_all, np.expand_dims(ts_surr, 0)], 0)"
   ]
  },
  {
   "cell_type": "code",
   "execution_count": null,
   "id": "selected-population",
   "metadata": {},
   "outputs": [],
   "source": [
    "np.save(path_patient + '/Analysis/BrainMapping/' + cond_folder + '/surrogate/sig_ts_mean.npy',\n",
    "                    ts_surr_all)"
   ]
  },
  {
   "cell_type": "code",
   "execution_count": null,
   "id": "other-pearl",
   "metadata": {},
   "outputs": [],
   "source": [
    "def get_ts_surr_val(rc, LL_CCEP, EEG_resp, Fs=500, fig_path='no'):\n",
    "    # t_num = number of trials included for mean calculation, IO =3\n",
    "    BL_times = np.concatenate([np.arange(0, 0.40, 0.01), np.arange(1.6, 2, 0.01)])  # times wihtout stimulation, 0-0.5s, 1.6 - 2.5\n",
    "    n = 200  # number of surrogates\n",
    "    LL_surr = np.zeros((n, 2))\n",
    "    list_surr = LL_CCEP[(LL_CCEP['d'] > 8) & (LL_CCEP['Chan'] == rc) & ~(LL_CCEP['Stim'] == rc) & ~np.isnan(LL_CCEP.LL.values)]  # take BL when rc is not stimulating and not during noise\n",
    "    # list_surr = list_surr[~np.isnan(list_surr.LL.values)]\n",
    "    stimNum = list_surr.Num.values.astype('int')\n",
    "    thr = np.zeros(4, )\n",
    "    if len(stimNum) > 0:\n",
    "        for k in range(n):\n",
    "            t0 = np.random.choice(np.round(BL_times, 2))\n",
    "            stimNum_choice = np.random.choice(stimNum, 2)\n",
    "            x = ff.bp_filter(EEG_resp[rc, stimNum_choice[0],:],1,20,Fs)\n",
    "            y = ff.bp_filter(EEG_resp[rc, stimNum_choice[1],:],1,20,Fs)\n",
    "            p_corr = np.corrcoef(x[np.int64((t0) * Fs):np.int64((t0 + 0.5) * Fs)], y[np.int64((t0) * Fs):np.int64((t0 + 0.5) * Fs)])[0,1]\n",
    "            \n",
    "            al1 = np.angle(hilbert(x[np.int64((t0) * Fs):np.int64((t0 + 0.5) * Fs)]),deg=False)\n",
    "            al2 = np.angle(hilbert(y[np.int64((t0) * Fs):np.int64((t0 + 0.5) * Fs)]),deg=False)\n",
    "            ps = np.mean(1-np.sin(np.abs(al1-al2)/2))\n",
    "\n",
    "            LL_surr[k, 0] = p_corr\n",
    "            LL_surr[k, 1] = ps\n",
    "    return LL_surr"
   ]
  },
  {
   "cell_type": "code",
   "execution_count": null,
   "id": "filled-indianapolis",
   "metadata": {},
   "outputs": [],
   "source": [
    "plt.hist(ts_surr[0,:,1])"
   ]
  },
  {
   "cell_type": "code",
   "execution_count": null,
   "id": "pregnant-bahrain",
   "metadata": {},
   "outputs": [],
   "source": [
    "ts_surr = get_ts_surr(EEG_resp, con_trial[con_trial.Block==1], labels_all, path_patient)"
   ]
  },
  {
   "cell_type": "code",
   "execution_count": null,
   "id": "romantic-transcript",
   "metadata": {},
   "outputs": [],
   "source": [
    "def get_ts_surr(EEG_resp, LL_all, labels_all, path_patient):\n",
    "\n",
    "    ts_surr = np.zeros((len(labels_all), 200, 2))\n",
    "    print('Calculating surrogates on mean for each channel')\n",
    "    for rc in tqdm.tqdm(range(len(labels_all))):\n",
    "        ts_surr[rc,:,:] = get_ts_surr_val(rc, LL_all, EEG_resp, Fs=500, fig_path='no')\n",
    "   \n",
    "    return ts_surr"
   ]
  },
  {
   "cell_type": "code",
   "execution_count": null,
   "id": "obvious-circle",
   "metadata": {
    "scrolled": false
   },
   "outputs": [],
   "source": [
    "w = 0.5\n",
    "x = EEG_trial[0]\n",
    "y = EEG_trial[1]\n",
    "corr_xy = get_pearson_ts(x,y, Fs, win= w)\n",
    "ps_xy = get_phase_sync(ff.bp_filter(EEG_plot[0],1,20,Fs),ff.bp_filter(EEG_plot[1],2,20,Fs), Fs, win= w)\n",
    "dtw_xy = get_dtw_ts(x,y, Fs, ov=0.25, win= w)\n",
    "x_ax_dtw = np.linspace(x_ax[0], x_ax[-1], num = len(dtw_xy), endpoint=True)\n",
    "EEG_plot = np.stack([x,y],0)\n",
    "fig = plt.figure(figsize=(10,20))\n",
    "plt.suptitle(labels_all[sc]+ ' -- '+labels_all[rc], fontsize=35)\n",
    "gs       = fig.add_gridspec(5, 1)  # GridSpec(4,1, height_ratios=[1,2,1,2])\n",
    "for i in range(2):\n",
    "    fig.add_subplot(gs[i,0])\n",
    "    plt.plot(x_ax, EEG_plot[i], color=[0,0,0],label='Raw')\n",
    "    plt.plot(x_ax, ff.bp_filter(EEG_plot[i],1,20,Fs), color=color_elab[0], label='BP filter 1-20Hz')\n",
    "    plt.axvline(0, color = [0,0,0])\n",
    "    plt.ylim([-600,1000])\n",
    "    plt.legend()\n",
    "fig.add_subplot(gs[2,0])\n",
    "plt.title('Pearson Correlation, win = '+str(w)+'s')\n",
    "plt.plot(x_ax, corr_xy, color=[0,0,0])\n",
    "plt.ylim([-1,1])\n",
    "\n",
    "fig.add_subplot(gs[3,0])\n",
    "# plt.title('DTW, win = '+str(w)+'s')\n",
    "plt.title('Phase Synch, win = '+str(w)+'s')\n",
    "plt.plot(x_ax, ps_xy, color=color_elab[0])\n",
    "plt.ylim([0,1])\n",
    "fig.add_subplot(gs[4,0])\n",
    "plt.title('DTW, win = '+str(w)+'s')\n",
    "plt.plot(x_ax_dtw, dtw_xy, color=[0,0,0])\n",
    "#plt.ylim([-1,1])\n",
    "\n",
    "plt.xlabel('time [s]', fontsize=20)\n",
    "plt.tight_layout()\n"
   ]
  },
  {
   "cell_type": "code",
   "execution_count": null,
   "id": "sunrise-forth",
   "metadata": {},
   "outputs": [],
   "source": [
    "for i in range(2):\n",
    "    plt.plot(x_ax, EEG_trial[i])\n",
    "\n",
    "plt.plot(x_ax, corr_xy*300)\n",
    "\n",
    "plt.axvline(0, color = [0,0,0])"
   ]
  },
  {
   "cell_type": "code",
   "execution_count": null,
   "id": "operating-preparation",
   "metadata": {},
   "outputs": [],
   "source": [
    "def plot_mean(sc, rc, LL_CCEP,EEG_resp, labels ):\n",
    "    t_0    = 1\n",
    "    lists  = LL_CCEP[(LL_CCEP['Chan']==rc)&(LL_CCEP['Stim']==sc)&(~np.isnan(LL_CCEP.LL.values))] #\n",
    "    h = np.unique(lists.Hour)[0].astype('int')\n",
    "    b = np.unique(lists.Block)[0].astype('int')\n",
    "    fig   = plt.figure(figsize=(12,7) )\n",
    "    #plt.title(labels_all[Stim_chs]+' -- '+labels_clinic[rc])\n",
    "    #plt.title(labels[sc]+' -- '+labels[rc])\n",
    "    plt.title(labels[sc]+' -- '+labels[rc]+', Dist: '+str(np.round(lists.d.values[0]))+'mm, '+f\"{h:02}\"+\":00\")\n",
    "    \n",
    "    plt.axvline(0, c=[0,0,0])\n",
    "    plt.xlabel('time [s]')\n",
    "    #plt.text(-0.37, 200, 'LL: '+str(np.round(np.mean(lists.LLpeak),2))+'uV/ms (of mean)', c=[0,0,0])\n",
    "    \n",
    "    ylim = 1000\n",
    "\n",
    "    #stim_spec                = stimlist[(stimlist.condition>0)&(stimlist.ChanP==ChanP)&(stimlist.IPI_ms ==0)&(stimlist.noise ==0)]#&(stimlist.noise ==0)\n",
    "    stimNum_all                  = lists.Num_block.values.astype('int')\n",
    "    for i in range(len(stimNum_all)):\n",
    "        ylim =np.max([ylim, np.max(abs(ff.lp_filter(EEG_resp[rc,stimNum_all[i],Fs:int(1.5*Fs)],45,Fs)))])\n",
    "        plt.plot(x_ax,ff.lp_filter(EEG_resp[rc,stimNum_all[i],:],45,Fs), c=color_elab[0], linewidth=1)\n",
    "    mn = ff.lp_filter(np.mean(EEG_resp[rc,stimNum_all,:],0),45,Fs)\n",
    "    st  = np.std(ff.lp_filter(EEG_resp[rc,stimNum_all,:],45,Fs),0)\n",
    "    plt.plot(x_ax,mn, c=[0,0,0], linewidth=3, label='mean, n='+str(len(stimNum_all)))\n",
    "    plt.fill_between(x_ax, mn-st, mn+st, color=color_elab[0], alpha= 0.3)\n",
    "    plt.xlim([-0.6,1])\n",
    "    plt.ylim([-np.max([ylim*1.071,300]),np.max([ylim*1.071,300])])\n",
    "    #plt.axvspan(t_0+w_r-1, t_0-1+w_LL, alpha=0.3, color=color_elab[0])\n",
    "    #plt.axvspan(t_0+0.015-1, t_0+w_r-1, alpha=0.8, color=color_elab[1])\n",
    "    #plt.axvspan(t_0+0.015-1-0.2, t_0+w_r-1-0.2, alpha=0.8, color=color_elab[1])\n",
    "    plt.ylabel('[\\u03BCV]', fontsize=18) #\\u0394 delta\n",
    "    plt.xlabel('time [s]', fontsize=18)\n",
    "    plt.legend()\n",
    "    plt.savefig(path_patient + '/Analysis/BrainMapping/'+cond_folder+'/figures/single_con/BM_'+str(b)+'_'+labels_all[sc]+'_'+labels_all[rc]+'.svg')\n",
    "    plt.savefig(path_patient + '/Analysis/BrainMapping/'+cond_folder+'/figures/single_con/BM_'+str(b)+'_'+labels_all[sc]+'_'+labels_all[rc]+'.jpg')\n",
    "    plt.show()"
   ]
  },
  {
   "cell_type": "code",
   "execution_count": null,
   "id": "sustained-nomination",
   "metadata": {},
   "outputs": [],
   "source": [
    "def plot_mean_zscore(sc, rc, LL_CCEP,EEG_resp, labels ):\n",
    "    t_0    = 1\n",
    "    lists  = LL_CCEP[(LL_CCEP['Chan']==rc)&(LL_CCEP['Stim']==sc)&(~np.isnan(LL_CCEP.LL.values))] #&(~np.isnan(LL_CCEP.LL.values))\n",
    "    h = np.unique(lists.Hour)[0].astype('int')\n",
    "    b = np.unique(lists.Block)[0].astype('int')\n",
    "    fig   = plt.figure(figsize=(12,7) )\n",
    "    #plt.title(labels_all[Stim_chs]+' -- '+labels_clinic[rc])\n",
    "    #plt.title(labels[sc]+' -- '+labels[rc])\n",
    "    plt.title(labels[sc]+' -- '+labels[rc]+', Dist: '+str(np.round(lists.d.values[0]))+'mm, '+f\"{h:02}\"+\":00\")\n",
    "    \n",
    "    plt.axvline(0, c=[0,0,0])\n",
    "    plt.xlabel('time [s]')\n",
    "    #plt.text(-0.37, 200, 'LL: '+str(np.round(np.mean(lists.LLpeak),2))+'uV/ms (of mean)', c=[0,0,0])\n",
    "    \n",
    "    ylim = 1000\n",
    "\n",
    "    #stim_spec                = stimlist[(stimlist.condition>0)&(stimlist.ChanP==ChanP)&(stimlist.IPI_ms ==0)&(stimlist.noise ==0)]#&(stimlist.noise ==0)\n",
    "    stimNum_all                  = lists.Num_block.values.astype('int')\n",
    "    for i in range(len(stimNum_all)):\n",
    "        ylim =np.max([ylim, np.max(abs(ff.lp_filter(EEG_resp[rc,stimNum_all[i],Fs:int(1.5*Fs)],45,Fs)))])\n",
    "        resp = ff.lp_filter(bf.zscore_CCEP(EEG_resp[rc,stimNum_all[i],:]),45,Fs)\n",
    "        plt.plot(x_ax,resp, c=color_elab[0], linewidth=1, label='trial'+str(i+1))\n",
    "    plt.plot(x_ax,ff.lp_filter(np.mean(bf.zscore_CCEP(EEG_resp[rc,stimNum_all,:]),0),45,Fs), c=[0,0,0], linewidth=2, label='mean, n='+str(len(stimNum_all)))\n",
    "    plt.plot(x_ax,bf.zscore_CCEP(ff.lp_filter(np.mean(EEG_resp[rc,stimNum_all,:],0),45,Fs)), c=[1,0,0], linewidth=2, label='mean, n='+str(len(stimNum_all)))\n",
    "\n",
    "    plt.xlim([-0.5,1])\n",
    "    plt.ylim([-6,6])\n",
    "    #plt.axvspan(t_0+w_r-1, t_0-1+w_LL, alpha=0.3, color=color_elab[0])\n",
    "    #plt.axvspan(t_0+0.015-1, t_0+w_r-1, alpha=0.8, color=color_elab[1])\n",
    "    #plt.axvspan(t_0+0.015-1-0.2, t_0+w_r-1-0.2, alpha=0.8, color=color_elab[1])\n",
    "    plt.legend()\n",
    "    #plt.savefig()\n",
    "    plt.show()"
   ]
  }
 ],
 "metadata": {
  "kernelspec": {
   "display_name": "Python 3",
   "language": "python",
   "name": "python3"
  },
  "language_info": {
   "codemirror_mode": {
    "name": "ipython",
    "version": 3
   },
   "file_extension": ".py",
   "mimetype": "text/x-python",
   "name": "python",
   "nbconvert_exporter": "python",
   "pygments_lexer": "ipython3",
   "version": "3.7.9"
  }
 },
 "nbformat": 4,
 "nbformat_minor": 5
}
