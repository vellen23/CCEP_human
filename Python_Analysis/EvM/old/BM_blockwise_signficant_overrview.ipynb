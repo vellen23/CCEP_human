{
 "cells": [
  {
   "cell_type": "code",
   "execution_count": null,
   "id": "latest-height",
   "metadata": {},
   "outputs": [],
   "source": [
    "import os\n",
    "import numpy as np\n",
    "import mne\n",
    "import imageio\n",
    "import h5py\n",
    "# import scipy.fftpack\n",
    "import matplotlib\n",
    "import pywt\n",
    "from matplotlib.ticker import ScalarFormatter\n",
    "import matplotlib.gridspec as gridspec\n",
    "import matplotlib.pyplot as plt\n",
    "# from scipy import signal\n",
    "from matplotlib.colors import ListedColormap\n",
    "import time\n",
    "import seaborn as sns\n",
    "# import scipy.io as sio\n",
    "# from scipy.integrate import simps\n",
    "import pandas as pd\n",
    "# from scipy import fft\n",
    "import matplotlib.mlab as mlab\n",
    "import sys\n",
    "\n",
    "sys.path.append('T:\\EL_experiment\\Codes\\CCEP_human\\Python_Analysis/py_functions')\n",
    "import analys_func\n",
    "from scipy.stats import norm\n",
    "import LL_funcs\n",
    "from scipy.stats import norm\n",
    "from tkinter import filedialog\n",
    "from tkinter import *\n",
    "import ntpath\n",
    "\n",
    "root = Tk()\n",
    "root.withdraw()\n",
    "import math\n",
    "import scipy\n",
    "from scipy import signal\n",
    "import pylab\n",
    "import scipy.cluster.hierarchy as sch\n",
    "from scipy.spatial.distance import squareform\n",
    "import platform\n",
    "from glob import glob\n",
    "from scipy.io import savemat\n",
    "import scipy.cluster.hierarchy as spc\n",
    "from scipy.spatial import distance\n",
    "\n",
    "import basic_func as bf\n",
    "from scipy.integrate import simps\n",
    "from numpy import trapz\n",
    "import IO_func as IOF\n",
    "import BM_func as BMf\n",
    "import tqdm\n",
    "from matplotlib.patches import Rectangle\n",
    "from pathlib import Path\n",
    "\n",
    "import freq_funcs as ff\n",
    "\n",
    "regions = pd.read_excel(\"T:\\EL_experiment\\Patients\\\\\" + 'all' + \"\\elab_labels.xlsx\", sheet_name='regions', header=0)\n",
    "color_regions = regions.color.values\n",
    "regions = regions.label.values\n",
    "\n",
    "CR_color = pd.read_excel(\"T:\\EL_experiment\\Patients\\\\\" + 'all' + \"\\Analysis\\BrainMapping\\CR_color.xlsx\", header=0)\n",
    "CR_color_a = CR_color.a.values\n",
    "CR_color = CR_color.c.values\n",
    "CR_color = np.zeros((24, 3))\n",
    "CR_color[6:18, :] = np.array([253, 184, 19]) / 255\n",
    "\n",
    "dist_groups = np.array([[0, 30], [30, 60], [60, 120]])\n",
    "dist_labels = ['local (<30 mm)', 'short (<60mm)', 'long']\n",
    "Fs = 500\n",
    "dur = np.zeros((1, 2), dtype=np.int32)\n",
    "t0 = 1\n",
    "dur[0, 0] = -t0\n",
    "dur[0, 1] = 3\n",
    "\n",
    "folder = 'BrainMapping'\n",
    "# dur[0,:]       = np.int32(np.sum(abs(dur)))\n",
    "x_ax = np.arange(dur[0, 0], dur[0, 1], (1 / Fs))\n",
    "color_elab = np.zeros((3, 3))\n",
    "color_elab[0, :] = np.array([31, 78, 121]) / 255\n",
    "color_elab[1, :] = np.array([189, 215, 238]) / 255\n",
    "color_elab[2, :] = np.array([0.256, 0.574, 0.431])\n",
    "cwd = os.getcwd()"
   ]
  },
  {
   "cell_type": "code",
   "execution_count": null,
   "id": "consolidated-vulnerability",
   "metadata": {},
   "outputs": [],
   "source": [
    "subj = 'EL011'\n",
    "cond_folder = 'CR'  # Condition = 'Hour', 'Condition', 'Ph'\n",
    "\n",
    "if cond_folder == 'Ph':\n",
    "    cond_vals = np.arange(4)\n",
    "    cond_labels = ['BM', 'BL', 'Fuma', 'BZD']\n",
    "    cond_colors = ['#494159', '#594157', \"#F1BF98\", \"#8FB996\"]\n",
    "    cond1 = 'Condition'  # 'condition', 'h'\n",
    "    cond_folder = 'Ph'  # 'Ph', 'Sleep', 'CR'\n",
    "    Condition = 'Condition'\n",
    "if cond_folder == 'CR':\n",
    "    Condition = 'Hour'  # Condition = 'Hour'\n",
    "    cond1 = 'h'  # h (as stored in stimlist)\n",
    "\n",
    "######## General Infos\n",
    "\n",
    "path_patient_analysis = 'y:\\\\eLab\\EvM\\Projects\\EL_experiment\\Analysis\\Patients\\\\' + subj\n",
    "path_gen = os.path.join('y:\\\\eLab\\Patients\\\\' + subj)\n",
    "if not os.path.exists(path_gen):\n",
    "    path_gen = 'T:\\\\EL_experiment\\\\Patients\\\\' + subj\n",
    "path_patient = path_gen + '\\Data\\EL_experiment'  # os.path.dirname(os.path.dirname(cwd))+'/Patients/'+subj\n",
    "path_infos = os.path.join(path_patient, 'infos')\n",
    "if not os.path.exists(path_infos):\n",
    "    path_infos = path_gen + '\\\\infos'\n",
    "    \n",
    "sep = ';'\n",
    "Fs = 500\n",
    "Path(path_patient_analysis + '\\\\' + folder + '/' + cond_folder + '/data').mkdir(parents=True, exist_ok=True)\n",
    "Path(path_patient_analysis + '\\\\' + folder + '/' + cond_folder + '/BM_plot_trial').mkdir(parents=True, exist_ok=True)\n",
    "Path(path_patient_analysis + '\\\\' + folder + '/' + cond_folder + '/figures/single_con').mkdir(parents=True, exist_ok=True)\n",
    "\n",
    "\n",
    "# get labels\n",
    "if cond_folder == 'Ph':\n",
    "    files_list = glob(path_patient_analysis + '\\\\' + folder + '/data/Stim_list_*Ph*')\n",
    "else:\n",
    "    files_list = glob(path_patient_analysis + '\\\\' + folder + '/data/Stim_list_*')\n",
    "i = 0\n",
    "stimlist = pd.read_csv(files_list[i])\n",
    "# EEG_resp = np.load(path_patient + '/Analysis/' + folder + '/data/ALL_resps_'+files_list[i][-11:-4]+'.npy')\n",
    "lbls = pd.read_excel(os.path.join(path_infos, subj + \"_labels.xlsx\"), header=0, sheet_name='BP')\n",
    "labels_all, labels_region, labels_clinic, coord_all, StimChans, StimChanSM, StimChansC, StimChanIx, stimlist = bf.get_Stim_chans(\n",
    "    stimlist,\n",
    "    lbls)\n",
    "badchans = pd.read_csv(path_patient_analysis + '\\\\' + folder + '/data/badchan.csv')\n",
    "bad_chans = np.unique(np.array(np.where(badchans.values[:, 1] == 1))[0, :])\n",
    "\n",
    "bad_region = np.where((labels_region == 'WM') | (labels_region == 'OUT') | (labels_region == 'Putamen'))[0]\n",
    "\n",
    "file_con = path_patient_analysis + '\\\\' + folder + '/' + cond_folder + '/data/con_trial_all.csv'\n",
    "######### Load data\n",
    "rerun = 0\n",
    "if os.path.isfile(file_con):\n",
    "    # con_trial\n",
    "    con_trial = pd.read_csv(file_con)"
   ]
  },
  {
   "cell_type": "markdown",
   "id": "tamil-nirvana",
   "metadata": {},
   "source": [
    "## Loading Data"
   ]
  },
  {
   "cell_type": "code",
   "execution_count": null,
   "id": "frequent-shape",
   "metadata": {},
   "outputs": [],
   "source": [
    "sig_trial_all = np.load(path_patient + '/Analysis/BrainMapping/' + cond_folder + '/surrogate/sig_trial_all.npy')"
   ]
  },
  {
   "cell_type": "code",
   "execution_count": null,
   "id": "adjusted-equality",
   "metadata": {},
   "outputs": [],
   "source": [
    "sig_mean_all = np.load(path_patient + '/Analysis/BrainMapping/' + cond_folder + '/surrogate/sig_trial_mean.npy')"
   ]
  },
  {
   "cell_type": "code",
   "execution_count": null,
   "id": "sacred-budget",
   "metadata": {},
   "outputs": [],
   "source": [
    "ts_surr_all = np.load(path_patient + '/Analysis/BrainMapping/' + cond_folder + '/surrogate/sig_ts_mean.npy')"
   ]
  },
  {
   "cell_type": "code",
   "execution_count": null,
   "id": "hungarian-channel",
   "metadata": {},
   "outputs": [],
   "source": [
    "arr = np.zeros((1,8))\n",
    "for b in range(len(sig_mean_all)):\n",
    "    arr_new = np.zeros((len(labels_all),8))\n",
    "    arr_new[:,5] = np.arange(len(labels_all))\n",
    "    arr_new[:,0] = b\n",
    "    # trial\n",
    "    LL = np.nanpercentile(sig_trial_all[b,:,:,0],90, axis=1)\n",
    "    P2P = np.nanpercentile(sig_trial_all[b,:,:,1],90, axis=1)\n",
    "    arr_new[:,1] = LL\n",
    "    arr_new[:,2] = P2P\n",
    "    # mean \n",
    "    LL = np.nanpercentile(sig_mean_all[b,:,:,0],99, axis=1)\n",
    "    P2P = np.nanpercentile(sig_mean_all[b,:,:,1],99, axis=1)\n",
    "    arr_new[:,3] = LL\n",
    "    arr_new[:,4] = P2P\n",
    "    # # ts_surr_all\n",
    "    arr_new[:,6] = np.nanpercentile(ts_surr_all[b,:,:,0],90, axis=1)\n",
    "    arr_new[:,7] = np.nanpercentile(ts_surr_all[b,:,:,1],90, axis=1)\n",
    "    arr = np.concatenate([arr,arr_new],0)"
   ]
  },
  {
   "cell_type": "code",
   "execution_count": null,
   "id": "steady-circular",
   "metadata": {},
   "outputs": [],
   "source": [
    "surr_data = pd.DataFrame(arr, columns=['Block', 'LL_trial', 'P2P_trial', 'LL_mean', 'P2P_mean', 'Chan', 'Pearson', 'Phase'])"
   ]
  },
  {
   "cell_type": "code",
   "execution_count": null,
   "id": "confident-trade",
   "metadata": {},
   "outputs": [],
   "source": [
    "sns.catplot(x='Block', y='P2P_trial', data =surr_data, aspect= 3)"
   ]
  },
  {
   "cell_type": "code",
   "execution_count": null,
   "id": "adopted-arkansas",
   "metadata": {},
   "outputs": [],
   "source": [
    "sns.catplot(x='Block', y='Phase', data =surr_data, aspect= 3)"
   ]
  },
  {
   "cell_type": "markdown",
   "id": "frozen-relationship",
   "metadata": {},
   "source": [
    "## brain plots and correlation"
   ]
  },
  {
   "cell_type": "code",
   "execution_count": null,
   "id": "framed-trust",
   "metadata": {},
   "outputs": [],
   "source": [
    "non_stim = np.arange(len(labels_all))\n",
    "non_stim = np.delete(non_stim, StimChanIx, 0)\n",
    "bad_all = np.unique(np.concatenate([bad_region, bad_chans, non_stim])).astype('int')"
   ]
  },
  {
   "cell_type": "code",
   "execution_count": null,
   "id": "adjustable-parliament",
   "metadata": {},
   "outputs": [],
   "source": [
    "labels_region_L = lbls.Hemisphere.values+'_'+labels_region"
   ]
  },
  {
   "cell_type": "code",
   "execution_count": null,
   "id": "external-bankruptcy",
   "metadata": {},
   "outputs": [],
   "source": [
    "files_list = glob(path_patient + '/Analysis/' + folder + '/data/Stim_list_*CR*')"
   ]
  },
  {
   "cell_type": "code",
   "execution_count": null,
   "id": "strong-backing",
   "metadata": {},
   "outputs": [],
   "source": [
    "sig_trial_label = ['LL', 'P2P']"
   ]
  },
  {
   "cell_type": "code",
   "execution_count": null,
   "id": "fatal-tender",
   "metadata": {},
   "outputs": [],
   "source": [
    "l = 0\n",
    "print('loading ' + files_list[l][-11:-4], end='\\r')\n",
    "stimlist0 = pd.read_csv(files_list[l])\n",
    "EEG_resp0 = np.load(\n",
    "    path_patient + '/Analysis/' + folder + '/data/ALL_resps_' + files_list[l][-11:-4] + '.npy')\n",
    "block_l = files_list[l][-11:-4]\n",
    "file = path_patient + '/Analysis/BrainMapping/' + cond_folder + '/data/con_trial_' + block_l + '.csv'\n",
    "con_trial_block0 = pd.read_csv(file)"
   ]
  },
  {
   "cell_type": "code",
   "execution_count": null,
   "id": "resistant-instrument",
   "metadata": {},
   "outputs": [],
   "source": [
    "l = 8\n",
    "print('loading ' + files_list[l][-11:-4], end='\\r')\n",
    "stimlist8 = pd.read_csv(files_list[l])\n",
    "EEG_resp8 = np.load(\n",
    "    path_patient + '/Analysis/' + folder + '/data/ALL_resps_' + files_list[l][-11:-4] + '.npy')\n",
    "block_l = files_list[l][-11:-4]\n",
    "file = path_patient + '/Analysis/BrainMapping/' + cond_folder + '/data/con_trial_' + block_l + '.csv'\n",
    "con_trial_block8 = pd.read_csv(file)"
   ]
  },
  {
   "cell_type": "markdown",
   "id": "tamil-outdoors",
   "metadata": {},
   "source": [
    "## plot functions"
   ]
  },
  {
   "cell_type": "code",
   "execution_count": null,
   "id": "periodic-heavy",
   "metadata": {},
   "outputs": [],
   "source": [
    "from scipy.signal import hilbert, butter, filtfilt\n",
    "from scipy.fftpack import fft,fftfreq,rfft,irfft,ifft\n",
    "import numpy as np\n",
    "import seaborn as sns\n",
    "import pandas as pd\n",
    "import scipy.stats as stats\n",
    "def butter_bandpass(lowcut, highcut, fs, order=5):\n",
    "    nyq = 0.5 * fs\n",
    "    low = lowcut / nyq\n",
    "    high = highcut / nyq\n",
    "    b, a = butter(order, [low, high], btype='band')\n",
    "    return b, a\n",
    "\n",
    "\n",
    "def butter_bandpass_filter(data, lowcut, highcut, fs, order=5):\n",
    "    b, a = butter_bandpass(lowcut, highcut, fs, order=order)\n",
    "    y = filtfilt(b, a, data)\n",
    "    return y\n"
   ]
  },
  {
   "cell_type": "code",
   "execution_count": null,
   "id": "remarkable-macintosh",
   "metadata": {},
   "outputs": [],
   "source": [
    "def crosscorr(datax, datay, lag=0, wrap=False):\n",
    "    \"\"\" Lag-N cross correlation. \n",
    "    Shifted data filled with NaNs \n",
    "    \n",
    "    Parameters\n",
    "    ----------\n",
    "    lag : int, default 0\n",
    "    datax, datay : pandas.Series objects of equal length\n",
    "    Returns\n",
    "    ----------\n",
    "    crosscorr : float\n",
    "    \"\"\"\n",
    "    if wrap:\n",
    "        shiftedy = datay.shift(lag)\n",
    "        shiftedy.iloc[:lag] = datay.iloc[-lag:].values\n",
    "        return datax.corr(shiftedy)\n",
    "    else: \n",
    "        return datax.corr(datay.shift(lag))"
   ]
  },
  {
   "cell_type": "code",
   "execution_count": null,
   "id": "failing-hands",
   "metadata": {},
   "outputs": [],
   "source": [
    "def get_cross_corr(x, y, Fs=500, win=0.25):\n",
    "    s0 = 0\n",
    "    s1 = int(s0+win*Fs)\n",
    "    corr = np.zeros_like(x)\n",
    "    i = int(win/2*Fs)\n",
    "    while s1<x.shape[-1]:\n",
    "        al1 = np.angle(hilbert(x[s0:s1]),deg=False)\n",
    "        al2 = np.angle(hilbert(y[s0:s1]),deg=False)\n",
    "        corr[i] = crosscorr(x[s0:s1], y[s0:s1])# np.mean(1-np.sin(np.abs(al1-al2)/2))\n",
    "        s0 = s0+1\n",
    "        s1 = s1+1\n",
    "        i = i+1\n",
    "    return corr"
   ]
  },
  {
   "cell_type": "code",
   "execution_count": null,
   "id": "banner-glasgow",
   "metadata": {},
   "outputs": [],
   "source": [
    "def get_phase_sync(x, y, Fs=500, win=0.25):\n",
    "    s0 = 0\n",
    "    s1 = int(s0+win*Fs)\n",
    "    corr = np.zeros_like(x)\n",
    "    i = int(win/2*Fs)\n",
    "    while s1<x.shape[-1]:\n",
    "        al1 = np.angle(hilbert(x[s0:s1]),deg=False)\n",
    "        al2 = np.angle(hilbert(y[s0:s1]),deg=False)\n",
    "        corr[i] = np.mean(1-np.sin(np.abs(al1-al2)/2))\n",
    "        s0 = s0+1\n",
    "        s1 = s1+1\n",
    "        i = i+1\n",
    "    return corr\n",
    "def get_pearson_ts(x, y, Fs, win= 0.25):\n",
    "    \n",
    "    s0 = 0\n",
    "    s1 = int(s0+win*Fs)\n",
    "    corr = np.zeros_like(x)\n",
    "    i = int(win/2*Fs)\n",
    "    while s1<x.shape[-1]:\n",
    "        corr[i] = np.corrcoef(x[s0:s1], y[s0:s1])[0,1]\n",
    "        s0 = s0+1\n",
    "        s1 = s1+1\n",
    "        i = i+1\n",
    "    return corr"
   ]
  },
  {
   "cell_type": "code",
   "execution_count": null,
   "id": "joint-ethnic",
   "metadata": {},
   "outputs": [],
   "source": [
    "from fastdtw import fastdtw\n",
    "from scipy.spatial.distance import euclidean"
   ]
  },
  {
   "cell_type": "code",
   "execution_count": null,
   "id": "formed-jenny",
   "metadata": {},
   "outputs": [],
   "source": [
    "color_elab      = np.zeros((3,3))\n",
    "color_elab[0,:] = np.array([31, 78, 121])/255\n",
    "color_elab[1,:] = np.array([189, 215, 238])/255\n",
    "color_elab[2,:] = np.array([0.256, 0.574, 0.431])"
   ]
  },
  {
   "cell_type": "code",
   "execution_count": null,
   "id": "interested-pantyhose",
   "metadata": {},
   "outputs": [],
   "source": [
    "def get_dtw_ts(x, y, Fs, ov=0.1, win= 0.25):\n",
    "    corr = np.zeros((int(len(x)/(win*Fs*ov)),))\n",
    "    i = 0#int(win/2*Fs)\n",
    "    x = np.pad(x, (int(0.5*win*Fs), int(0.5*win*Fs)), 'constant', constant_values=(0,0))\n",
    "    y = np.pad(y, (int(0.5*win*Fs), int(0.5*win*Fs)), 'constant', constant_values=(0,0))\n",
    "    s0 = 0\n",
    "    s1 = int(s0+win*Fs)\n",
    "    \n",
    "    while (i<len(corr))&(s1<x.shape[-1]):\n",
    "        corr[i], _ = fastdtw(x[s0:s1],y[s0:s1], dist=euclidean)\n",
    "        s0 = s0+int(ov*win*Fs)\n",
    "        s1 = s1+int(ov*win*Fs)\n",
    "        i = i+1\n",
    "    return corr"
   ]
  },
  {
   "cell_type": "code",
   "execution_count": null,
   "id": "polar-batman",
   "metadata": {},
   "outputs": [],
   "source": [
    "sc = 40\n",
    "rc = 43\n",
    "lists  = con_trial_block[(con_trial_block['Chan']==rc)&(con_trial_block['Stim']==sc)&(~np.isnan(con_trial_block.LL.values))] #\n",
    "EEG_trial  = EEG_resp[rc,lists.Num_block.values.astype('int'),: ]"
   ]
  },
  {
   "cell_type": "code",
   "execution_count": null,
   "id": "dried-portable",
   "metadata": {},
   "outputs": [],
   "source": [
    "con_trial_block0.LL.values"
   ]
  },
  {
   "cell_type": "code",
   "execution_count": null,
   "id": "challenging-oxide",
   "metadata": {},
   "outputs": [],
   "source": [
    "ts_surr_all.shape"
   ]
  },
  {
   "cell_type": "code",
   "execution_count": null,
   "id": "unlike-meeting",
   "metadata": {},
   "outputs": [],
   "source": [
    "np.nanpercentile(ts_surr_all[8,rc,:,0],90)"
   ]
  },
  {
   "cell_type": "code",
   "execution_count": null,
   "id": "natural-separate",
   "metadata": {},
   "outputs": [],
   "source": [
    "con_trial_block8"
   ]
  },
  {
   "cell_type": "code",
   "execution_count": null,
   "id": "demonstrated-christianity",
   "metadata": {},
   "outputs": [],
   "source": [
    "con_trial_block8[(con_trial_block8.Stim==sc)&(con_trial_block8.Chan==rc)]"
   ]
  },
  {
   "cell_type": "code",
   "execution_count": null,
   "id": "addressed-bouquet",
   "metadata": {},
   "outputs": [],
   "source": [
    "sc = 4\n",
    "rc = 42\n",
    "\n",
    "plot_surr(sc,rc, EEG_resp8, con_trial_block8,sig_trial_all[8],sig_mean_all[8], ts_surr_all[8],w=0.5)"
   ]
  },
  {
   "cell_type": "code",
   "execution_count": null,
   "id": "nasty-reggae",
   "metadata": {},
   "outputs": [],
   "source": [
    "import itertools"
   ]
  },
  {
   "cell_type": "code",
   "execution_count": null,
   "id": "indie-disability",
   "metadata": {},
   "outputs": [],
   "source": [
    "sig_trial_all"
   ]
  },
  {
   "cell_type": "code",
   "execution_count": null,
   "id": "interior-softball",
   "metadata": {},
   "outputs": [],
   "source": [
    "sig_mean_all"
   ]
  },
  {
   "cell_type": "code",
   "execution_count": null,
   "id": "agreed-shirt",
   "metadata": {},
   "outputs": [],
   "source": [
    "comb"
   ]
  },
  {
   "cell_type": "code",
   "execution_count": null,
   "id": "cloudy-underwear",
   "metadata": {},
   "outputs": [],
   "source": [
    "comb = np.array(list(itertools.combinations(range(3), 2)))"
   ]
  },
  {
   "cell_type": "code",
   "execution_count": null,
   "id": "criminal-number",
   "metadata": {},
   "outputs": [],
   "source": [
    "def plot_surr(sc,rc, EEG_resp, con_trial_block,sig_trial, sig_mean, ts_surr, w=0.5):\n",
    "    lists  = con_trial_block[(con_trial_block['Chan']==rc)&(con_trial_block['Stim']==sc)] #\n",
    "    #&(~np.isnan(con_trial_block.LL.values))\n",
    "    EEG_trial  = EEG_resp[rc,lists.Num_block.values.astype('int'),: ]\n",
    "    \n",
    "    LL_trial = np.round(np.nanpercentile(sig_trial[rc,:,0],90),2)\n",
    "    LL_mean = np.round(np.nanpercentile(sig_mean[rc,:,0],99),2)\n",
    "    fig = plt.figure(figsize=(8,15))\n",
    "    plt.suptitle(labels_all[sc]+ ' -- '+labels_all[rc], fontsize=35)\n",
    "    gs       = fig.add_gridspec(3, 1)  # GridSpec(4,1, height_ratios=[1,2,1,2])\n",
    "    fig.add_subplot(gs[0,0])\n",
    "    for i in range(len(lists)):\n",
    "        plt.plot(x_ax, ff.lp_filter(EEG_trial[i], 45, Fs), color=color_elab[0],label=str(i+1)+'. LL '+str(np.round(lists.LL_peak.values[i],2))+'/'+str(LL_trial))\n",
    "    plt.plot(x_ax, ff.lp_filter(np.mean(EEG_trial,0), 45, Fs), color=[0,0,0], linewidth=3,label='LL '+str(np.round(lists.LL_mean.values[0],2))+'/'+str(LL_mean)) \n",
    "    plt.axvline(0, color = [0,0,0])\n",
    "    #plt.ylim([-600,1000])\n",
    "    plt.legend()\n",
    "    # pearson\n",
    "    \n",
    "    fig.add_subplot(gs[1,0])\n",
    "    plt.title('Pearson Correlation, win = '+str(w)+'s')\n",
    "    comb = np.array(list(itertools.combinations(range(len(EEG_trial)), 2)))\n",
    "    for i in range(len(comb)):\n",
    "        corr_xy = get_pearson_ts(EEG_trial[comb[i,0]],EEG_trial[comb[i,1]], Fs, win= w)\n",
    "        plt.plot(x_ax, corr_xy, color=[0,0,0], label=str(comb[i,0]+1)+'-'+str(comb[i,1]+1)+'. max: '+str(np.round(np.max(corr_xy[500:750]),2)))\n",
    "    plt.ylim([-1.05,1.05])\n",
    "    plt.axhline(np.nanpercentile(ts_surr[rc,:,0],90), color= [1,0,0])\n",
    "    plt.axvline(0, color = [0,0,0])\n",
    "    plt.legend()\n",
    "    \n",
    "    # Phase ynchronization\n",
    "    fig.add_subplot(gs[2,0])\n",
    "    plt.title('Pearson Correlation, win = '+str(w)+'s')\n",
    "    comb = np.array(list(itertools.combinations(range(len(EEG_trial)), 2)))\n",
    "    for i in range(len(comb)):\n",
    "        #corr_xy = get_pearson_ts(EEG_trial[comb[i,0]],EEG_trial[comb[i,1]], Fs, win= w)\n",
    "        corr_xy = get_phase_sync(ff.bp_filter(EEG_trial[comb[i,0]],1,20,Fs),ff.bp_filter(EEG_trial[comb[i,1]],1,20,Fs), Fs, win= w)\n",
    "        plt.plot(x_ax, corr_xy, color=[0,0,0], label=str(comb[i,0]+1)+'-'+str(comb[i,1]+1)+'. max: '+str(np.round(np.max(corr_xy[625:750]),2)))\n",
    "    plt.ylim([0,1.1])\n",
    "    plt.axhline(np.nanpercentile(ts_surr[rc,:,1],90), color= [1,0,0])\n",
    "    plt.axvline(0, color = [0,0,0])\n",
    "    plt.legend()\n",
    "    plt.xlabel('Time [s]', fontsize=25)\n",
    "    \n",
    "# fig.add_subplot(gs[3,0])\n",
    "# # plt.title('DTW, win = '+str(w)+'s')\n",
    "# plt.title('Phase Synch, win = '+str(w)+'s')\n",
    "# plt.plot(x_ax, ps_xy, color=color_elab[0])\n",
    "# plt.ylim([0,1])\n"
   ]
  },
  {
   "cell_type": "code",
   "execution_count": null,
   "id": "clinical-entrepreneur",
   "metadata": {
    "scrolled": false
   },
   "outputs": [],
   "source": [
    "w = 0.5\n",
    "x = EEG_trial[0]\n",
    "y = EEG_trial[1]\n",
    "corr_xy = get_pearson_ts(x,y, Fs, win= w)\n",
    "ps_xy = get_phase_sync(ff.bp_filter(EEG_plot[0],1,20,Fs),ff.bp_filter(EEG_plot[1],2,20,Fs), Fs, win= w)\n",
    "dtw_xy = get_dtw_ts(x,y, Fs, ov=0.25, win= w)\n",
    "x_ax_dtw = np.linspace(x_ax[0], x_ax[-1], num = len(dtw_xy), endpoint=True)\n",
    "EEG_plot = np.stack([x,y],0)\n",
    "fig = plt.figure(figsize=(10,20))\n",
    "plt.suptitle(labels_all[sc]+ ' -- '+labels_all[rc], fontsize=35)\n",
    "gs       = fig.add_gridspec(5, 1)  # GridSpec(4,1, height_ratios=[1,2,1,2])\n",
    "for i in range(2):\n",
    "    fig.add_subplot(gs[i,0])\n",
    "    plt.plot(x_ax, EEG_plot[i], color=[0,0,0],label='Raw')\n",
    "    plt.plot(x_ax, ff.bp_filter(EEG_plot[i],1,20,Fs), color=color_elab[0], label='BP filter 1-20Hz')\n",
    "    plt.axvline(0, color = [0,0,0])\n",
    "    plt.ylim([-600,1000])\n",
    "    plt.legend()\n",
    "fig.add_subplot(gs[2,0])\n",
    "plt.title('Pearson Correlation, win = '+str(w)+'s')\n",
    "plt.plot(x_ax, corr_xy, color=[0,0,0])\n",
    "plt.ylim([-1,1])\n",
    "\n",
    "fig.add_subplot(gs[3,0])\n",
    "# plt.title('DTW, win = '+str(w)+'s')\n",
    "plt.title('Phase Synch, win = '+str(w)+'s')\n",
    "plt.plot(x_ax, ps_xy, color=color_elab[0])\n",
    "plt.ylim([0,1])\n",
    "fig.add_subplot(gs[4,0])\n",
    "plt.title('DTW, win = '+str(w)+'s')\n",
    "plt.plot(x_ax_dtw, dtw_xy, color=[0,0,0])\n",
    "#plt.ylim([-1,1])\n",
    "\n",
    "plt.xlabel('time [s]', fontsize=20)\n",
    "plt.tight_layout()\n"
   ]
  },
  {
   "cell_type": "code",
   "execution_count": null,
   "id": "suspended-potential",
   "metadata": {},
   "outputs": [],
   "source": [
    "for i in range(2):\n",
    "    plt.plot(x_ax, EEG_trial[i])\n",
    "\n",
    "plt.plot(x_ax, corr_xy*300)\n",
    "\n",
    "plt.axvline(0, color = [0,0,0])"
   ]
  },
  {
   "cell_type": "code",
   "execution_count": null,
   "id": "functioning-romance",
   "metadata": {},
   "outputs": [],
   "source": [
    "def plot_mean(sc, rc, LL_CCEP,EEG_resp, labels ):\n",
    "    t_0    = 1\n",
    "    lists  = LL_CCEP[(LL_CCEP['Chan']==rc)&(LL_CCEP['Stim']==sc)&(~np.isnan(LL_CCEP.LL.values))] #\n",
    "    h = np.unique(lists.Hour)[0].astype('int')\n",
    "    b = np.unique(lists.Block)[0].astype('int')\n",
    "    fig   = plt.figure(figsize=(12,7) )\n",
    "    #plt.title(labels_all[Stim_chs]+' -- '+labels_clinic[rc])\n",
    "    #plt.title(labels[sc]+' -- '+labels[rc])\n",
    "    plt.title(labels[sc]+' -- '+labels[rc]+', Dist: '+str(np.round(lists.d.values[0]))+'mm, '+f\"{h:02}\"+\":00\")\n",
    "    \n",
    "    plt.axvline(0, c=[0,0,0])\n",
    "    plt.xlabel('time [s]')\n",
    "    #plt.text(-0.37, 200, 'LL: '+str(np.round(np.mean(lists.LLpeak),2))+'uV/ms (of mean)', c=[0,0,0])\n",
    "    \n",
    "    ylim = 1000\n",
    "\n",
    "    #stim_spec                = stimlist[(stimlist.condition>0)&(stimlist.ChanP==ChanP)&(stimlist.IPI_ms ==0)&(stimlist.noise ==0)]#&(stimlist.noise ==0)\n",
    "    stimNum_all                  = lists.Num_block.values.astype('int')\n",
    "    for i in range(len(stimNum_all)):\n",
    "        ylim =np.max([ylim, np.max(abs(ff.lp_filter(EEG_resp[rc,stimNum_all[i],Fs:int(1.5*Fs)],45,Fs)))])\n",
    "        plt.plot(x_ax,ff.lp_filter(EEG_resp[rc,stimNum_all[i],:],45,Fs), c=color_elab[0], linewidth=1)\n",
    "    mn = ff.lp_filter(np.mean(EEG_resp[rc,stimNum_all,:],0),45,Fs)\n",
    "    st  = np.std(ff.lp_filter(EEG_resp[rc,stimNum_all,:],45,Fs),0)\n",
    "    plt.plot(x_ax,mn, c=[0,0,0], linewidth=3, label='mean, n='+str(len(stimNum_all)))\n",
    "    plt.fill_between(x_ax, mn-st, mn+st, color=color_elab[0], alpha= 0.3)\n",
    "    plt.xlim([-0.6,1])\n",
    "    plt.ylim([-np.max([ylim*1.071,300]),np.max([ylim*1.071,300])])\n",
    "    #plt.axvspan(t_0+w_r-1, t_0-1+w_LL, alpha=0.3, color=color_elab[0])\n",
    "    #plt.axvspan(t_0+0.015-1, t_0+w_r-1, alpha=0.8, color=color_elab[1])\n",
    "    #plt.axvspan(t_0+0.015-1-0.2, t_0+w_r-1-0.2, alpha=0.8, color=color_elab[1])\n",
    "    plt.ylabel('[\\u03BCV]', fontsize=18) #\\u0394 delta\n",
    "    plt.xlabel('time [s]', fontsize=18)\n",
    "    plt.legend()\n",
    "    plt.savefig(path_patient + '/Analysis/BrainMapping/'+cond_folder+'/figures/single_con/BM_'+str(b)+'_'+labels_all[sc]+'_'+labels_all[rc]+'.svg')\n",
    "    plt.savefig(path_patient + '/Analysis/BrainMapping/'+cond_folder+'/figures/single_con/BM_'+str(b)+'_'+labels_all[sc]+'_'+labels_all[rc]+'.jpg')\n",
    "    plt.show()"
   ]
  },
  {
   "cell_type": "code",
   "execution_count": null,
   "id": "second-butler",
   "metadata": {},
   "outputs": [],
   "source": []
  },
  {
   "cell_type": "code",
   "execution_count": null,
   "id": "recreational-criterion",
   "metadata": {},
   "outputs": [],
   "source": [
    "def plot_mean_zscore(sc, rc, LL_CCEP,EEG_resp, labels ):\n",
    "    t_0    = 1\n",
    "    lists  = LL_CCEP[(LL_CCEP['Chan']==rc)&(LL_CCEP['Stim']==sc)&(~np.isnan(LL_CCEP.LL.values))] #&(~np.isnan(LL_CCEP.LL.values))\n",
    "    h = np.unique(lists.Hour)[0].astype('int')\n",
    "    b = np.unique(lists.Block)[0].astype('int')\n",
    "    fig   = plt.figure(figsize=(12,7) )\n",
    "    #plt.title(labels_all[Stim_chs]+' -- '+labels_clinic[rc])\n",
    "    #plt.title(labels[sc]+' -- '+labels[rc])\n",
    "    plt.title(labels[sc]+' -- '+labels[rc]+', Dist: '+str(np.round(lists.d.values[0]))+'mm, '+f\"{h:02}\"+\":00\")\n",
    "    \n",
    "    plt.axvline(0, c=[0,0,0])\n",
    "    plt.xlabel('time [s]')\n",
    "    #plt.text(-0.37, 200, 'LL: '+str(np.round(np.mean(lists.LLpeak),2))+'uV/ms (of mean)', c=[0,0,0])\n",
    "    \n",
    "    ylim = 1000\n",
    "\n",
    "    #stim_spec                = stimlist[(stimlist.condition>0)&(stimlist.ChanP==ChanP)&(stimlist.IPI_ms ==0)&(stimlist.noise ==0)]#&(stimlist.noise ==0)\n",
    "    stimNum_all                  = lists.Num_block.values.astype('int')\n",
    "    for i in range(len(stimNum_all)):\n",
    "        ylim =np.max([ylim, np.max(abs(ff.lp_filter(EEG_resp[rc,stimNum_all[i],Fs:int(1.5*Fs)],45,Fs)))])\n",
    "        resp = ff.lp_filter(bf.zscore_CCEP(EEG_resp[rc,stimNum_all[i],:]),45,Fs)\n",
    "        plt.plot(x_ax,resp, c=color_elab[0], linewidth=1, label='trial'+str(i+1))\n",
    "    plt.plot(x_ax,ff.lp_filter(np.mean(bf.zscore_CCEP(EEG_resp[rc,stimNum_all,:]),0),45,Fs), c=[0,0,0], linewidth=2, label='mean, n='+str(len(stimNum_all)))\n",
    "    plt.plot(x_ax,bf.zscore_CCEP(ff.lp_filter(np.mean(EEG_resp[rc,stimNum_all,:],0),45,Fs)), c=[1,0,0], linewidth=2, label='mean, n='+str(len(stimNum_all)))\n",
    "\n",
    "    plt.xlim([-0.5,1])\n",
    "    plt.ylim([-6,6])\n",
    "    #plt.axvspan(t_0+w_r-1, t_0-1+w_LL, alpha=0.3, color=color_elab[0])\n",
    "    #plt.axvspan(t_0+0.015-1, t_0+w_r-1, alpha=0.8, color=color_elab[1])\n",
    "    #plt.axvspan(t_0+0.015-1-0.2, t_0+w_r-1-0.2, alpha=0.8, color=color_elab[1])\n",
    "    plt.legend()\n",
    "    #plt.savefig()\n",
    "    plt.show()"
   ]
  }
 ],
 "metadata": {
  "kernelspec": {
   "display_name": "Python 3",
   "language": "python",
   "name": "python3"
  },
  "language_info": {
   "codemirror_mode": {
    "name": "ipython",
    "version": 3
   },
   "file_extension": ".py",
   "mimetype": "text/x-python",
   "name": "python",
   "nbconvert_exporter": "python",
   "pygments_lexer": "ipython3",
   "version": "3.7.9"
  }
 },
 "nbformat": 4,
 "nbformat_minor": 5
}
