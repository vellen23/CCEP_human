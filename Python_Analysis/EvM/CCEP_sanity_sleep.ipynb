{
 "cells": [
  {
   "cell_type": "markdown",
   "id": "sunrise-description",
   "metadata": {},
   "source": [
    "significant trials, significant GT \\n\n",
    "plot trials based on significance or sleep state"
   ]
  },
  {
   "cell_type": "code",
   "execution_count": 1,
   "id": "induced-yemen",
   "metadata": {},
   "outputs": [],
   "source": [
    "import os\n",
    "import numpy as np\n",
    "import mne\n",
    "import imageio\n",
    "import h5py\n",
    "# import scipy.fftpack\n",
    "import matplotlib\n",
    "import pywt\n",
    "from matplotlib.ticker import ScalarFormatter\n",
    "import matplotlib.gridspec as gridspec\n",
    "import matplotlib.pyplot as plt\n",
    "# from scipy import signal\n",
    "from matplotlib.colors import ListedColormap\n",
    "import time\n",
    "import seaborn as sns\n",
    "\n",
    "# import scipy.io as sio\n",
    "# from scipy.integrate import simps\n",
    "import pandas as pd\n",
    "# from scipy import fft\n",
    "import matplotlib.mlab as mlab\n",
    "import sys\n",
    "import matplotlib as mpl\n",
    "sys.path.append('T:\\EL_experiment\\Codes\\CCEP_human\\Python_Analysis\\py_functions')\n",
    "import NMF_funcs as NMFf\n",
    "import significant_connections as SCF\n",
    "from scipy.stats import norm\n",
    "import LL_funcs\n",
    "from scipy.stats import norm\n",
    "from tkinter import filedialog\n",
    "from tkinter import *\n",
    "import ntpath\n",
    "import supp_sleep_CCEP_figures as fig_sleep\n",
    "root = Tk()\n",
    "root.withdraw()\n",
    "import math\n",
    "import scipy\n",
    "from scipy import signal\n",
    "import pylab\n",
    "import scipy.cluster.hierarchy as sch\n",
    "from scipy.spatial.distance import squareform\n",
    "import platform\n",
    "from glob import glob\n",
    "from scipy.io import savemat\n",
    "import scipy.cluster.hierarchy as spc\n",
    "from scipy.spatial import distance\n",
    "from sklearn.cluster import KMeans\n",
    "import h5py\n",
    "import basic_func as bf\n",
    "from scipy.integrate import simps\n",
    "from numpy import trapz\n",
    "#import IO_func as IOF\n",
    "#import BM_func as BMf\n",
    "import tqdm\n",
    "from matplotlib.patches import Rectangle\n",
    "from pathlib import Path\n",
    "sub_path  ='X:\\\\4 e-Lab\\\\' # y:\\\\eLab\n",
    "import BM_plots as BMp\n",
    "import freq_funcs as ff\n",
    "import CCEP_plot\n",
    "import supp_CCEP_figures as CCEP_supp\n",
    "import random\n",
    "import math\n",
    "from sklearn.metrics import cohen_kappa_score, jaccard_score, accuracy_score\n",
    "dist_groups = np.array([[0, 30], [30, 60], [60, 120]])\n",
    "dist_labels = ['local (<30 mm)', 'short (<60mm)', 'long']\n",
    "Fs = 500\n",
    "dur = np.zeros((1, 2), dtype=np.int32)\n",
    "t0 = 1\n",
    "dur[0, 0] = -t0\n",
    "dur[0, 1] = 3\n",
    "\n",
    "folder = 'BrainMapping'\n",
    "# dur[0,:]       = np.int32(np.sum(abs(dur)))\n",
    "x_ax = np.arange(dur[0, 0], dur[0, 1], (1 / Fs))\n",
    "color_elab = np.zeros((3, 3))\n",
    "color_elab[0, :] = np.array([31, 78, 121]) / 255\n",
    "color_elab[1, :] = np.array([189, 215, 238]) / 255\n",
    "color_elab[2, :] = np.array([0.256, 0.574, 0.431])\n",
    "cwd = os.getcwd()\n",
    "color_sleep = ['#808080', '#145da0', '#ff1919']\n",
    "label_sleep = ['Wake', 'NREM', 'REM']\n",
    "color_dist = ['0000FF','#0076C4','#00DD91']\n",
    "import CCEP_func"
   ]
  },
  {
   "cell_type": "code",
   "execution_count": 2,
   "id": "local-thought",
   "metadata": {},
   "outputs": [],
   "source": [
    "cond_folder = 'CR'\n",
    "path_gen_base = sub_path + '\\Patients'"
   ]
  },
  {
   "cell_type": "code",
   "execution_count": 3,
   "id": "0eab169b",
   "metadata": {},
   "outputs": [],
   "source": [
    "plt.rcParams.update({\n",
    "            'font.family': 'arial',\n",
    "            'font.size': 12,\n",
    "            'xtick.labelsize': 8,\n",
    "            'ytick.labelsize': 8,\n",
    "            'legend.fontsize': 9,\n",
    "            'svg.fonttype': 'none',\n",
    "            'font.size': 10,\n",
    "            'axes.titlesize': 10,\n",
    "            'axes.labelsize': 8,\n",
    "            'xtick.labelsize': 8,\n",
    "            'ytick.labelsize': 8,\n",
    "            'legend.fontsize': 9,\n",
    "            'figure.titlesize': 10\n",
    "        })"
   ]
  },
  {
   "cell_type": "markdown",
   "id": "67449510",
   "metadata": {},
   "source": [
    "## Sig. Con. Example single patient"
   ]
  },
  {
   "cell_type": "code",
   "execution_count": 4,
   "id": "uniform-zambia",
   "metadata": {},
   "outputs": [],
   "source": [
    "subj = \"EL011\"\n",
    "path_patient_analysis = os.path.join(sub_path, 'EvM', 'Projects', 'EL_experiment', 'Analysis', 'Patients', subj)\n",
    "\n",
    "path_gen = os.path.join(sub_path+'\\Patients\\\\' + subj)\n",
    "if not os.path.exists(path_gen):\n",
    "    path_gen = 'T:\\\\EL_experiment\\\\Patients\\\\' + subj\n",
    "path_patient = path_gen + '\\Data\\EL_experiment'  # os.path.dirname(os.path.dirname(cwd))+'/Patients/'+subj\n",
    "path_infos = os.path.join(path_gen, 'Electrodes')\n",
    "# labels\n",
    "files_list = glob(path_patient_analysis + '\\\\' + folder + '/data/Stim_list_*')\n",
    "i = 0\n",
    "stimlist_file = path_patient_analysis + '\\\\' + folder + '\\\\' + cond_folder + '\\\\data\\\\stimlist_' + cond_folder + '.csv'\n",
    "stimlist = pd.read_csv(stimlist_file)\n",
    "lbls = pd.read_excel(os.path.join(path_infos, subj + \"_labels.xlsx\"), header=0, sheet_name='BP')\n",
    "if \"type\" in lbls.columns:\n",
    "    lbls = lbls[lbls.type=='SEEG']\n",
    "    lbls = lbls.reset_index(drop=True)\n",
    "labels_all, labels_region, labels_clinic, coord_all, StimChans, StimChanSM, StimChansC, StimChanIx, stimlist = bf.get_Stim_chans(\n",
    "    stimlist,\n",
    "    lbls)\n",
    "stimlist_sleep = pd.read_csv(os.path.join(path_patient_analysis, 'stimlist_hypnogram.csv'))\n",
    "file_con = path_patient_analysis + '\\\\' + folder + '/' + cond_folder + '/data/con_trial_all.csv'\n",
    "con_trial = pd.read_csv(file_con)\n",
    "badchans = pd.read_csv(path_patient_analysis + '/BrainMapping/data/badchan.csv')\n",
    "bad_chans = np.unique(np.array(np.where(badchans.values[:, 1:] == 1))[0, :])"
   ]
  },
  {
   "cell_type": "code",
   "execution_count": 5,
   "id": "enormous-principal",
   "metadata": {},
   "outputs": [
    {
     "name": "stdout",
     "output_type": "stream",
     "text": [
      "loading h5\n"
     ]
    }
   ],
   "source": [
    "h5_file = path_patient_analysis + '\\\\' + folder + '\\\\' + cond_folder + '\\\\data\\\\EEG_' + cond_folder + '.h5'\n",
    "if os.path.isfile(h5_file):\n",
    "    print('loading h5')\n",
    "    EEG_resp = h5py.File(h5_file)\n",
    "    EEG_resp = EEG_resp['EEG_resp']"
   ]
  },
  {
   "cell_type": "code",
   "execution_count": 6,
   "id": "c508c874",
   "metadata": {},
   "outputs": [
    {
     "name": "stdout",
     "output_type": "stream",
     "text": [
      "loading h5\n"
     ]
    }
   ],
   "source": [
    "h5_file = path_patient_analysis + '\\\\' + folder + '\\\\data\\\\M_CC_similarity.h5'\n",
    "if os.path.isfile(h5_file):\n",
    "    print('loading h5')\n",
    "    CC = h5py.File(h5_file)\n",
    "    CC = CC['M_GT_all']"
   ]
  },
  {
   "cell_type": "code",
   "execution_count": 7,
   "id": "31b772c3",
   "metadata": {},
   "outputs": [
    {
     "name": "stdout",
     "output_type": "stream",
     "text": [
      "loading h5\n",
      "loading h5\n"
     ]
    }
   ],
   "source": [
    "h5_file = path_patient_analysis + '\\\\' + folder + '\\\\data\\\\LL_CC_surr_similarity.h5'\n",
    "if os.path.isfile(h5_file):\n",
    "    print('loading h5')\n",
    "    CC_surr = h5py.File(h5_file)\n",
    "    CC_WOI = CC_surr['CC_WOI']\n",
    "    CC_surr = CC_surr['CC_LL_surr']\n",
    "    \n",
    "h5_file = path_patient_analysis + '\\\\' + folder + '\\\\data\\\\M_CC_similarity.h5'\n",
    "if os.path.isfile(h5_file):\n",
    "    print('loading h5')\n",
    "    CC = h5py.File(h5_file)\n",
    "    CC = CC['M_GT_all']"
   ]
  },
  {
   "cell_type": "code",
   "execution_count": 8,
   "id": "264f662e",
   "metadata": {},
   "outputs": [],
   "source": [
    "file_CC_summ = path_patient_analysis + '\\\\' + folder + '\\\\' + cond_folder + '\\\\data\\\\summ_general.csv'  # summary_genera\n",
    "con_summary_all = pd.read_csv(file_CC_summ)\n",
    "con_summary_all = con_summary_all.drop_duplicates()"
   ]
  },
  {
   "cell_type": "code",
   "execution_count": 9,
   "id": "fd58d6c8",
   "metadata": {},
   "outputs": [],
   "source": [
    "con_trial = bf.add_sleepstate(con_trial)"
   ]
  },
  {
   "cell_type": "code",
   "execution_count": 10,
   "id": "4e7788a5",
   "metadata": {},
   "outputs": [],
   "source": [
    "con_trial = con_trial[(con_trial.Sig>-1)&(con_trial.Artefact<1)].reset_index(drop=True)"
   ]
  },
  {
   "cell_type": "code",
   "execution_count": 11,
   "id": "012492f2",
   "metadata": {},
   "outputs": [],
   "source": [
    "con_trial['LL_sig'] = con_trial['LL']* con_trial['Sig']\n",
    "con_trial['LL_w'] = con_trial['LL']* con_trial['rho']**2*np.sign( con_trial['rho'])"
   ]
  },
  {
   "cell_type": "code",
   "execution_count": 12,
   "id": "dc34c529",
   "metadata": {},
   "outputs": [],
   "source": [
    "metrics = ['LL', 'LL_sig', 'LL_w']"
   ]
  },
  {
   "cell_type": "code",
   "execution_count": 29,
   "id": "f3b7c910",
   "metadata": {},
   "outputs": [
    {
     "data": {
      "image/png": "[encoded data removed]",
      "text/plain": [
       "<Figure size 648x216 with 6 Axes>"
      ]
     },
     "metadata": {},
     "output_type": "display_data"
    }
   ],
   "source": [
    "sc = 14\n",
    "rc = 1\n",
    "ax = fig_sleep.plot_SleepState(sc, rc, EEG_resp, con_trial, labels_all, metrics= metrics)\n",
    "plt.suptitle(subj + ': '+labels_all[sc]+' --'+labels_all[rc])\n",
    "for i in range(3):\n",
    "    ax[i].set_ylim([-600,600])\n",
    "for i, m in enumerate(metrics):\n",
    "    ax[i+3].set_xticklabels([])\n",
    "    ax[i+3].set_xlabel(m)\n",
    "    ax[i+3].set_ylabel('')\n",
    "\n",
    "ax[0].set_yticks([-300,300])\n",
    "plt.tight_layout()\n",
    "path_save ='X:\\\\4 e-Lab\\\\EvM\\\\Projects\\\\EL_experiment\\\\Analysis\\\\Patients\\\\Across\\\\BrainMapping\\\\Sleep\\\\connection\\\\Example_'+subj+'_'+labels_all[sc]+'_'+labels_all[rc]+'.svg'\n",
    "\n",
    "plt.savefig(path_save)\n",
    "plt.show()"
   ]
  }
 ],
 "metadata": {
  "kernelspec": {
   "display_name": "PyCharm (Python_Analysis)",
   "language": "python",
   "name": "pycharm-303d2e35"
  },
  "language_info": {
   "codemirror_mode": {
    "name": "ipython",
    "version": 3
   },
   "file_extension": ".py",
   "mimetype": "text/x-python",
   "name": "python",
   "nbconvert_exporter": "python",
   "pygments_lexer": "ipython3",
   "version": "3.7.9"
  }
 },
 "nbformat": 4,
 "nbformat_minor": 5
}
