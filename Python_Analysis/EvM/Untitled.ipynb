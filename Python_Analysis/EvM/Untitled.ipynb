{
 "cells": [
  {
   "cell_type": "code",
   "execution_count": 1,
   "metadata": {},
   "outputs": [],
   "source": [
    "import sys\n",
    "from threading import *\n",
    "import wx\n",
    "import sys\n",
    "\n",
    "sys.path.append('T:\\EL_experiment\\Codes\\Connectogram')\n",
    "\n",
    "import os\n",
    "import pandas as pd\n",
    "import tkinter as tk\n",
    "from tkinter import filedialog\n",
    "\n",
    "import math\n",
    "import matplotlib.patches as patches\n",
    "import matplotlib.pyplot as plt\n",
    "import numpy as np\n",
    "from matplotlib.cm import get_cmap\n",
    "from matplotlib.lines import Line2D\n",
    "from matplotlib.path import Path\n",
    "from more_itertools import unique_everseen\n",
    "from matplotlib.colors import to_hex\n",
    "import matplotlib.patches as mpatches\n",
    "from matplotlib.collections import PatchCollection\n",
    "import itertools\n",
    "import seaborn as sns\n",
    "\n",
    "import read_data as rd\n",
    "import plot_funcs as pf\n",
    "\n",
    "\n",
    "import numpy as np\n",
    "import pandas as pd\n",
    "import read_data as rd\n",
    "\n",
    "from os import path\n",
    "import matplotlib.pyplot as plt\n",
    "\n",
    "from globals import DATA_CON_FILEPATH\n",
    "from ui_connectogram import Ui_MainWindow as mainWindow\n",
    "from connectogram import Connectrogram"
   ]
  },
  {
   "cell_type": "code",
   "execution_count": 2,
   "metadata": {},
   "outputs": [],
   "source": [
    "# init vars\n",
    "data_con = None\n",
    "data_nodes = None\n",
    "data_edges = None\n",
    "plot_main = None\n",
    "ax_con = None\n",
    "\n",
    "\n",
    "figure = Connectrogram()\n"
   ]
  },
  {
   "cell_type": "code",
   "execution_count": 3,
   "metadata": {},
   "outputs": [
    {
     "ename": "FileNotFoundError",
     "evalue": "[Errno 2] No such file or directory: 'circ_areas.xlsx'",
     "output_type": "error",
     "traceback": [
      "\u001b[1;31m---------------------------------------------------------------------------\u001b[0m",
      "\u001b[1;31mFileNotFoundError\u001b[0m                         Traceback (most recent call last)",
      "\u001b[1;32m<ipython-input-3-323bcfa24b24>\u001b[0m in \u001b[0;36m<module>\u001b[1;34m\u001b[0m\n\u001b[0;32m      3\u001b[0m \u001b[0mdata_con\u001b[0m \u001b[1;33m=\u001b[0m \u001b[0mdata_con_all\u001b[0m\u001b[1;33m[\u001b[0m\u001b[1;33m~\u001b[0m\u001b[0mnp\u001b[0m\u001b[1;33m.\u001b[0m\u001b[0misnan\u001b[0m\u001b[1;33m(\u001b[0m\u001b[0mdata_con_all\u001b[0m\u001b[1;33m.\u001b[0m\u001b[0mDI\u001b[0m\u001b[1;33m)\u001b[0m\u001b[1;33m]\u001b[0m\u001b[1;33m\u001b[0m\u001b[1;33m\u001b[0m\u001b[0m\n\u001b[0;32m      4\u001b[0m \u001b[0mdata_con\u001b[0m \u001b[1;33m=\u001b[0m \u001b[0mdata_con\u001b[0m\u001b[1;33m.\u001b[0m\u001b[0mreset_index\u001b[0m\u001b[1;33m(\u001b[0m\u001b[0mdrop\u001b[0m\u001b[1;33m=\u001b[0m\u001b[1;32mTrue\u001b[0m\u001b[1;33m)\u001b[0m\u001b[1;33m\u001b[0m\u001b[1;33m\u001b[0m\u001b[0m\n\u001b[1;32m----> 5\u001b[1;33m \u001b[0mdata_con\u001b[0m \u001b[1;33m=\u001b[0m \u001b[0mrd\u001b[0m\u001b[1;33m.\u001b[0m\u001b[0mget_Region_data_con\u001b[0m\u001b[1;33m(\u001b[0m\u001b[0mdata_con\u001b[0m\u001b[1;33m)\u001b[0m\u001b[1;33m\u001b[0m\u001b[1;33m\u001b[0m\u001b[0m\n\u001b[0m\u001b[0;32m      6\u001b[0m \u001b[1;32mfor\u001b[0m \u001b[0msubj\u001b[0m \u001b[1;32min\u001b[0m \u001b[0mnp\u001b[0m\u001b[1;33m.\u001b[0m\u001b[0munique\u001b[0m\u001b[1;33m(\u001b[0m\u001b[0mdata_con\u001b[0m\u001b[1;33m.\u001b[0m\u001b[0mSubj\u001b[0m\u001b[1;33m)\u001b[0m\u001b[1;33m:\u001b[0m\u001b[1;33m\u001b[0m\u001b[1;33m\u001b[0m\u001b[0m\n\u001b[0;32m      7\u001b[0m     \u001b[0mdata_con\u001b[0m\u001b[1;33m.\u001b[0m\u001b[0mloc\u001b[0m\u001b[1;33m[\u001b[0m\u001b[0mdata_con\u001b[0m\u001b[1;33m.\u001b[0m\u001b[0mSubj\u001b[0m \u001b[1;33m==\u001b[0m \u001b[0msubj\u001b[0m\u001b[1;33m,\u001b[0m \u001b[1;34m'Stim'\u001b[0m\u001b[1;33m]\u001b[0m \u001b[1;33m=\u001b[0m \u001b[0mdata_con\u001b[0m\u001b[1;33m.\u001b[0m\u001b[0mloc\u001b[0m\u001b[1;33m[\u001b[0m\u001b[0mdata_con\u001b[0m\u001b[1;33m.\u001b[0m\u001b[0mSubj\u001b[0m \u001b[1;33m==\u001b[0m \u001b[0msubj\u001b[0m\u001b[1;33m,\u001b[0m \u001b[1;34m'Stim'\u001b[0m\u001b[1;33m]\u001b[0m \u001b[1;33m+\u001b[0m \u001b[0mchan0\u001b[0m\u001b[1;33m\u001b[0m\u001b[1;33m\u001b[0m\u001b[0m\n",
      "\u001b[1;32mT:\\EL_experiment\\Codes\\Connectogram\\read_data.py\u001b[0m in \u001b[0;36mget_Region_data_con\u001b[1;34m(data_con)\u001b[0m\n\u001b[0;32m     33\u001b[0m \u001b[1;33m\u001b[0m\u001b[0m\n\u001b[0;32m     34\u001b[0m \u001b[1;32mdef\u001b[0m \u001b[0mget_Region_data_con\u001b[0m\u001b[1;33m(\u001b[0m\u001b[0mdata_con\u001b[0m\u001b[1;33m)\u001b[0m\u001b[1;33m:\u001b[0m\u001b[1;33m\u001b[0m\u001b[1;33m\u001b[0m\u001b[0m\n\u001b[1;32m---> 35\u001b[1;33m     \u001b[0matlas\u001b[0m \u001b[1;33m=\u001b[0m \u001b[0mpd\u001b[0m\u001b[1;33m.\u001b[0m\u001b[0mread_excel\u001b[0m\u001b[1;33m(\u001b[0m\u001b[0mCIRC_AREAS_FILEPATH\u001b[0m\u001b[1;33m,\u001b[0m \u001b[0msheet_name\u001b[0m\u001b[1;33m=\u001b[0m\u001b[1;34m'atlas'\u001b[0m\u001b[1;33m)\u001b[0m\u001b[1;33m\u001b[0m\u001b[1;33m\u001b[0m\u001b[0m\n\u001b[0m\u001b[0;32m     36\u001b[0m     \u001b[0mdata_con\u001b[0m\u001b[1;33m.\u001b[0m\u001b[0minsert\u001b[0m\u001b[1;33m(\u001b[0m\u001b[1;36m4\u001b[0m\u001b[1;33m,\u001b[0m\u001b[1;34m'ChanR'\u001b[0m\u001b[1;33m,\u001b[0m \u001b[1;34m'U'\u001b[0m\u001b[1;33m)\u001b[0m\u001b[1;33m\u001b[0m\u001b[1;33m\u001b[0m\u001b[0m\n\u001b[0;32m     37\u001b[0m     \u001b[0mdata_con\u001b[0m\u001b[1;33m.\u001b[0m\u001b[0minsert\u001b[0m\u001b[1;33m(\u001b[0m\u001b[1;36m4\u001b[0m\u001b[1;33m,\u001b[0m\u001b[1;34m'StimR'\u001b[0m\u001b[1;33m,\u001b[0m \u001b[1;34m'U'\u001b[0m\u001b[1;33m)\u001b[0m\u001b[1;33m\u001b[0m\u001b[1;33m\u001b[0m\u001b[0m\n",
      "\u001b[1;32mc:\\users\\i0328442\\appdata\\local\\programs\\python\\python37\\lib\\site-packages\\pandas\\util\\_decorators.py\u001b[0m in \u001b[0;36mwrapper\u001b[1;34m(*args, **kwargs)\u001b[0m\n\u001b[0;32m    297\u001b[0m                 )\n\u001b[0;32m    298\u001b[0m                 \u001b[0mwarnings\u001b[0m\u001b[1;33m.\u001b[0m\u001b[0mwarn\u001b[0m\u001b[1;33m(\u001b[0m\u001b[0mmsg\u001b[0m\u001b[1;33m,\u001b[0m \u001b[0mFutureWarning\u001b[0m\u001b[1;33m,\u001b[0m \u001b[0mstacklevel\u001b[0m\u001b[1;33m=\u001b[0m\u001b[0mstacklevel\u001b[0m\u001b[1;33m)\u001b[0m\u001b[1;33m\u001b[0m\u001b[1;33m\u001b[0m\u001b[0m\n\u001b[1;32m--> 299\u001b[1;33m             \u001b[1;32mreturn\u001b[0m \u001b[0mfunc\u001b[0m\u001b[1;33m(\u001b[0m\u001b[1;33m*\u001b[0m\u001b[0margs\u001b[0m\u001b[1;33m,\u001b[0m \u001b[1;33m**\u001b[0m\u001b[0mkwargs\u001b[0m\u001b[1;33m)\u001b[0m\u001b[1;33m\u001b[0m\u001b[1;33m\u001b[0m\u001b[0m\n\u001b[0m\u001b[0;32m    300\u001b[0m \u001b[1;33m\u001b[0m\u001b[0m\n\u001b[0;32m    301\u001b[0m         \u001b[1;32mreturn\u001b[0m \u001b[0mwrapper\u001b[0m\u001b[1;33m\u001b[0m\u001b[1;33m\u001b[0m\u001b[0m\n",
      "\u001b[1;32mc:\\users\\i0328442\\appdata\\local\\programs\\python\\python37\\lib\\site-packages\\pandas\\io\\excel\\_base.py\u001b[0m in \u001b[0;36mread_excel\u001b[1;34m(io, sheet_name, header, names, index_col, usecols, squeeze, dtype, engine, converters, true_values, false_values, skiprows, nrows, na_values, keep_default_na, na_filter, verbose, parse_dates, date_parser, thousands, comment, skipfooter, convert_float, mangle_dupe_cols, storage_options)\u001b[0m\n\u001b[0;32m    334\u001b[0m     \u001b[1;32mif\u001b[0m \u001b[1;32mnot\u001b[0m \u001b[0misinstance\u001b[0m\u001b[1;33m(\u001b[0m\u001b[0mio\u001b[0m\u001b[1;33m,\u001b[0m \u001b[0mExcelFile\u001b[0m\u001b[1;33m)\u001b[0m\u001b[1;33m:\u001b[0m\u001b[1;33m\u001b[0m\u001b[1;33m\u001b[0m\u001b[0m\n\u001b[0;32m    335\u001b[0m         \u001b[0mshould_close\u001b[0m \u001b[1;33m=\u001b[0m \u001b[1;32mTrue\u001b[0m\u001b[1;33m\u001b[0m\u001b[1;33m\u001b[0m\u001b[0m\n\u001b[1;32m--> 336\u001b[1;33m         \u001b[0mio\u001b[0m \u001b[1;33m=\u001b[0m \u001b[0mExcelFile\u001b[0m\u001b[1;33m(\u001b[0m\u001b[0mio\u001b[0m\u001b[1;33m,\u001b[0m \u001b[0mstorage_options\u001b[0m\u001b[1;33m=\u001b[0m\u001b[0mstorage_options\u001b[0m\u001b[1;33m,\u001b[0m \u001b[0mengine\u001b[0m\u001b[1;33m=\u001b[0m\u001b[0mengine\u001b[0m\u001b[1;33m)\u001b[0m\u001b[1;33m\u001b[0m\u001b[1;33m\u001b[0m\u001b[0m\n\u001b[0m\u001b[0;32m    337\u001b[0m     \u001b[1;32melif\u001b[0m \u001b[0mengine\u001b[0m \u001b[1;32mand\u001b[0m \u001b[0mengine\u001b[0m \u001b[1;33m!=\u001b[0m \u001b[0mio\u001b[0m\u001b[1;33m.\u001b[0m\u001b[0mengine\u001b[0m\u001b[1;33m:\u001b[0m\u001b[1;33m\u001b[0m\u001b[1;33m\u001b[0m\u001b[0m\n\u001b[0;32m    338\u001b[0m         raise ValueError(\n",
      "\u001b[1;32mc:\\users\\i0328442\\appdata\\local\\programs\\python\\python37\\lib\\site-packages\\pandas\\io\\excel\\_base.py\u001b[0m in \u001b[0;36m__init__\u001b[1;34m(self, path_or_buffer, engine, storage_options)\u001b[0m\n\u001b[0;32m   1070\u001b[0m             \u001b[1;32melse\u001b[0m\u001b[1;33m:\u001b[0m\u001b[1;33m\u001b[0m\u001b[1;33m\u001b[0m\u001b[0m\n\u001b[0;32m   1071\u001b[0m                 ext = inspect_excel_format(\n\u001b[1;32m-> 1072\u001b[1;33m                     \u001b[0mcontent\u001b[0m\u001b[1;33m=\u001b[0m\u001b[0mpath_or_buffer\u001b[0m\u001b[1;33m,\u001b[0m \u001b[0mstorage_options\u001b[0m\u001b[1;33m=\u001b[0m\u001b[0mstorage_options\u001b[0m\u001b[1;33m\u001b[0m\u001b[1;33m\u001b[0m\u001b[0m\n\u001b[0m\u001b[0;32m   1073\u001b[0m                 )\n\u001b[0;32m   1074\u001b[0m \u001b[1;33m\u001b[0m\u001b[0m\n",
      "\u001b[1;32mc:\\users\\i0328442\\appdata\\local\\programs\\python\\python37\\lib\\site-packages\\pandas\\io\\excel\\_base.py\u001b[0m in \u001b[0;36minspect_excel_format\u001b[1;34m(path, content, storage_options)\u001b[0m\n\u001b[0;32m    948\u001b[0m \u001b[1;33m\u001b[0m\u001b[0m\n\u001b[0;32m    949\u001b[0m     with get_handle(\n\u001b[1;32m--> 950\u001b[1;33m         \u001b[0mcontent_or_path\u001b[0m\u001b[1;33m,\u001b[0m \u001b[1;34m\"rb\"\u001b[0m\u001b[1;33m,\u001b[0m \u001b[0mstorage_options\u001b[0m\u001b[1;33m=\u001b[0m\u001b[0mstorage_options\u001b[0m\u001b[1;33m,\u001b[0m \u001b[0mis_text\u001b[0m\u001b[1;33m=\u001b[0m\u001b[1;32mFalse\u001b[0m\u001b[1;33m\u001b[0m\u001b[1;33m\u001b[0m\u001b[0m\n\u001b[0m\u001b[0;32m    951\u001b[0m     ) as handle:\n\u001b[0;32m    952\u001b[0m         \u001b[0mstream\u001b[0m \u001b[1;33m=\u001b[0m \u001b[0mhandle\u001b[0m\u001b[1;33m.\u001b[0m\u001b[0mhandle\u001b[0m\u001b[1;33m\u001b[0m\u001b[1;33m\u001b[0m\u001b[0m\n",
      "\u001b[1;32mc:\\users\\i0328442\\appdata\\local\\programs\\python\\python37\\lib\\site-packages\\pandas\\io\\common.py\u001b[0m in \u001b[0;36mget_handle\u001b[1;34m(path_or_buf, mode, encoding, compression, memory_map, is_text, errors, storage_options)\u001b[0m\n\u001b[0;32m    649\u001b[0m         \u001b[1;32melse\u001b[0m\u001b[1;33m:\u001b[0m\u001b[1;33m\u001b[0m\u001b[1;33m\u001b[0m\u001b[0m\n\u001b[0;32m    650\u001b[0m             \u001b[1;31m# Binary mode\u001b[0m\u001b[1;33m\u001b[0m\u001b[1;33m\u001b[0m\u001b[1;33m\u001b[0m\u001b[0m\n\u001b[1;32m--> 651\u001b[1;33m             \u001b[0mhandle\u001b[0m \u001b[1;33m=\u001b[0m \u001b[0mopen\u001b[0m\u001b[1;33m(\u001b[0m\u001b[0mhandle\u001b[0m\u001b[1;33m,\u001b[0m \u001b[0mioargs\u001b[0m\u001b[1;33m.\u001b[0m\u001b[0mmode\u001b[0m\u001b[1;33m)\u001b[0m\u001b[1;33m\u001b[0m\u001b[1;33m\u001b[0m\u001b[0m\n\u001b[0m\u001b[0;32m    652\u001b[0m         \u001b[0mhandles\u001b[0m\u001b[1;33m.\u001b[0m\u001b[0mappend\u001b[0m\u001b[1;33m(\u001b[0m\u001b[0mhandle\u001b[0m\u001b[1;33m)\u001b[0m\u001b[1;33m\u001b[0m\u001b[1;33m\u001b[0m\u001b[0m\n\u001b[0;32m    653\u001b[0m \u001b[1;33m\u001b[0m\u001b[0m\n",
      "\u001b[1;31mFileNotFoundError\u001b[0m: [Errno 2] No such file or directory: 'circ_areas.xlsx'"
     ]
    }
   ],
   "source": [
    "#### Load data\n",
    "data_con_all = pd.read_csv('T:\\EL_experiment\\Codes\\Connectogram\\data_con_sleep.csv')\n",
    "data_con = data_con_all[~np.isnan(data_con_all.DI)]\n",
    "data_con = data_con.reset_index(drop=True)\n",
    "data_con = rd.get_Region_data_con(data_con)\n",
    "for subj in np.unique(data_con.Subj):\n",
    "    data_con.loc[data_con.Subj == subj, 'Stim'] = data_con.loc[data_con.Subj == subj, 'Stim'] + chan0\n",
    "    data_con.loc[data_con.Subj == subj, 'Chan'] = data_con.loc[data_con.Subj == subj, 'Chan'] + chan0\n",
    "    chan0 = np.max(data_con.loc[data_con.Subj == subj, ['Stim', 'Chan']].values) + 1\n",
    "\n",
    "chan_ID = np.unique(np.concatenate([data_con.Stim, data_con.Chan])).astype('int')\n",
    "        \n",
    "data_nodes = rd.get_nodes(chan_ID, data_con)\n",
    "\n",
    "data_edges = data_con[(data_con.d > 20) (data_con.NREM_LL == 1)]\n",
    "data_edges = data_edges.reset_index(drop=True)"
   ]
  },
  {
   "cell_type": "markdown",
   "metadata": {},
   "source": [
    "data_nodes.groupby(['Label','Region'])['ID'].count()"
   ]
  },
  {
   "cell_type": "code",
   "execution_count": null,
   "metadata": {},
   "outputs": [],
   "source": [
    "data_edges = data_con[(data_con.d > 80) & (data_con.d < 100) & (data_con.Dir_index == 1)]\n",
    "data_edges = data_edges.reset_index(drop=True)"
   ]
  },
  {
   "cell_type": "code",
   "execution_count": null,
   "metadata": {},
   "outputs": [],
   "source": [
    "figure.setData(data_con, data_nodes)\n",
    "figure.clear()"
   ]
  },
  {
   "cell_type": "code",
   "execution_count": null,
   "metadata": {},
   "outputs": [],
   "source": [
    "data_edges"
   ]
  },
  {
   "cell_type": "code",
   "execution_count": null,
   "metadata": {},
   "outputs": [],
   "source": [
    "figsize = (40, 40)\n",
    "fig = plt.figure(figsize=figsize)\n",
    "ax = fig.add_subplot(1, 1, 1)\n",
    "figure.plot_nodes_jpt(ax)"
   ]
  },
  {
   "cell_type": "code",
   "execution_count": null,
   "metadata": {},
   "outputs": [],
   "source": [
    "plot_hem = \"r\"\n",
    "r_nodes = 18"
   ]
  },
  {
   "cell_type": "code",
   "execution_count": null,
   "metadata": {},
   "outputs": [],
   "source": [
    "import read_data as rd\n",
    "import plot_funcs as pf"
   ]
  },
  {
   "cell_type": "code",
   "execution_count": null,
   "metadata": {},
   "outputs": [],
   "source": [
    "data_edges"
   ]
  },
  {
   "cell_type": "code",
   "execution_count": null,
   "metadata": {},
   "outputs": [],
   "source": [
    "xy0 = [5, 2]\n",
    "xy1 = [-5,2]\n",
    "verts = [xy0,[0,0],xy1]"
   ]
  },
  {
   "cell_type": "code",
   "execution_count": null,
   "metadata": {},
   "outputs": [],
   "source": [
    "def to_cartesian(r, theta, theta_units=\"radians\"):\n",
    "    \"\"\"\n",
    "    Converts polar r, theta to cartesian x, y.\n",
    "    \"\"\"\n",
    "    assert theta_units in [\n",
    "        \"radians\",\n",
    "        \"degrees\",\n",
    "    ], \"kwarg theta_units must specified in radians or degrees\"\n",
    "\n",
    "    if theta > np.pi or theta < -np.pi:\n",
    "        theta = theta % np.pi\n",
    "    x = r * np.cos(theta)\n",
    "    y = r * np.sin(theta)\n",
    "\n",
    "    return x, y"
   ]
  },
  {
   "cell_type": "code",
   "execution_count": null,
   "metadata": {},
   "outputs": [],
   "source": [
    "import matplotlib.patches as mpatches"
   ]
  },
  {
   "cell_type": "code",
   "execution_count": null,
   "metadata": {},
   "outputs": [],
   "source": [
    "t"
   ]
  },
  {
   "cell_type": "code",
   "execution_count": null,
   "metadata": {},
   "outputs": [],
   "source": [
    "verts"
   ]
  },
  {
   "cell_type": "code",
   "execution_count": null,
   "metadata": {},
   "outputs": [],
   "source": [
    "plt.plot(xy0, 'ro')"
   ]
  },
  {
   "cell_type": "code",
   "execution_count": null,
   "metadata": {},
   "outputs": [],
   "source": [
    "xy0"
   ]
  },
  {
   "cell_type": "code",
   "execution_count": null,
   "metadata": {},
   "outputs": [],
   "source": [
    "import time"
   ]
  },
  {
   "cell_type": "code",
   "execution_count": null,
   "metadata": {},
   "outputs": [],
   "source": [
    "time.time()"
   ]
  },
  {
   "cell_type": "code",
   "execution_count": null,
   "metadata": {},
   "outputs": [],
   "source": [
    "4.886698961257935"
   ]
  },
  {
   "cell_type": "code",
   "execution_count": null,
   "metadata": {},
   "outputs": [],
   "source": [
    "t0 = time.time()\n",
    "for i in range(1000):\n",
    "    t = np.random.random()*2*np.pi\n",
    "    xy0 = to_cartesian(10, t)\n",
    "    # plt.plot(xy0[0],xy0[1], 'ro')\n",
    "\n",
    "    t = np.random.random()*2*np.pi\n",
    "    xy1 = to_cartesian(10, t)\n",
    "    # plt.plot(xy1[0],xy1[1], 'ro')\n",
    "\n",
    "    verts = [xy0,[0,0],xy1]\n",
    "    X = np.array(verts)\n",
    "    xx = pf.P(tt, X)\n",
    "t1 = time.time()\n",
    "print(t1-t0)"
   ]
  },
  {
   "cell_type": "code",
   "execution_count": null,
   "metadata": {},
   "outputs": [],
   "source": [
    "import collections\n",
    "MyTuple=collections.namedtuple(\"MyTuple\", \"mynumber, mystring\")\n",
    "m = MyTuple(3, \"hello\")\n",
    "m[0]"
   ]
  },
  {
   "cell_type": "code",
   "execution_count": null,
   "metadata": {},
   "outputs": [],
   "source": [
    "TuplePath"
   ]
  },
  {
   "cell_type": "code",
   "execution_count": null,
   "metadata": {},
   "outputs": [],
   "source": [
    "TuplePath()"
   ]
  },
  {
   "cell_type": "code",
   "execution_count": null,
   "metadata": {},
   "outputs": [],
   "source": [
    "T = TuplePath1 + TuplePath2\n",
    "#0: 1, xx, c, 3: 2, xx, c"
   ]
  },
  {
   "cell_type": "code",
   "execution_count": null,
   "metadata": {},
   "outputs": [],
   "source": [
    "T.ID"
   ]
  },
  {
   "cell_type": "code",
   "execution_count": null,
   "metadata": {},
   "outputs": [],
   "source": [
    "TuplePath =collections.namedtuple(\"TuplePath\", ['ID', 'Path', 'Color'])\n",
    "c = [0,0,0]\n",
    "TuplePath1  = TuplePath(1, xx, c)\n",
    "TuplePath2 = TuplePath(2, xx, c)"
   ]
  },
  {
   "cell_type": "code",
   "execution_count": null,
   "metadata": {},
   "outputs": [],
   "source": [
    "Book = namedtuple('Book', ['id', 'title', 'authors'])\n",
    "Book.__doc__ += ': Hardcover book in active collection'\n",
    "Book.id.__doc__ = '13-digit ISBN'\n",
    "Book.title.__doc__ = 'Title of first printing'\n",
    "Book.authors.__doc__ = 'List of authors sorted by last name'"
   ]
  },
  {
   "cell_type": "code",
   "execution_count": null,
   "metadata": {},
   "outputs": [],
   "source": [
    "figsize = (10,10)\n",
    "fig = plt.figure(figsize=figsize)\n",
    "ax = fig.add_subplot(1, 1, 1)\n",
    "lines = []\n",
    "for i in range(10):\n",
    "    t = np.random.random()*2*np.pi\n",
    "    xy0 = to_cartesian(10, t)\n",
    "    t = np.random.random()*2*np.pi\n",
    "    xy1 = to_cartesian(10, t)\n",
    "\n",
    "    verts = [xy0,[0,0],xy1]\n",
    "    X = np.array(verts)\n",
    "    xx = pf.P(tt, X)\n",
    "    line1 = ax.plot(xx[:, 0], xx[:, 1], color=[0, 0, 0], alpha=0.8)\n",
    "    lines.append(line1[0])"
   ]
  },
  {
   "cell_type": "code",
   "execution_count": null,
   "metadata": {},
   "outputs": [],
   "source": []
  },
  {
   "cell_type": "code",
   "execution_count": null,
   "metadata": {},
   "outputs": [],
   "source": [
    "def setVisibility(lines, visibility: bool):\n",
    "    for lines in lines:\n",
    "        lines.set_visible(visibility)"
   ]
  },
  {
   "cell_type": "code",
   "execution_count": null,
   "metadata": {},
   "outputs": [],
   "source": []
  },
  {
   "cell_type": "code",
   "execution_count": null,
   "metadata": {
    "scrolled": true
   },
   "outputs": [],
   "source": [
    "figsize = (10,10)\n",
    "fig = plt.figure(figsize=figsize)\n",
    "ax = fig.add_subplot(1, 1, 1)\n",
    "ring = mpatches.Wedge((0, 0), 10, 0, 180,width=1)\n",
    "ax.add_patch(ring)\n",
    "for i in range(10):\n",
    "    t = np.random.random()*2*np.pi\n",
    "    xy0 = to_cartesian(10, t)\n",
    "    plt.plot(xy0[0],xy0[1], 'ro')\n",
    "\n",
    "    t = np.random.random()*2*np.pi\n",
    "    xy1 = to_cartesian(10, t)\n",
    "    plt.plot(xy1[0],xy1[1], 'ro')\n",
    "\n",
    "    verts = [xy0,[0,0],xy1]\n",
    "    X = np.array(verts)\n",
    "    xx = pf.P(tt, X)\n",
    "    # plt.plot(xx[:, 0], xx[:, 1], color=[0, 0, 0], alpha=0.8)\n",
    "    line1 = ax.plot(xx[:, 0], xx[:, 1], color=[0, 0, 0], alpha=0.8)\n",
    "    lines.append(line1[0])\n",
    "plt.xlim([-12,12])\n",
    "plt.ylim([0,12])"
   ]
  },
  {
   "cell_type": "code",
   "execution_count": null,
   "metadata": {},
   "outputs": [],
   "source": [
    "setVisibility(lines, 0)\n",
    "plt.show()"
   ]
  },
  {
   "cell_type": "code",
   "execution_count": null,
   "metadata": {},
   "outputs": [],
   "source": [
    "def plot_con(data_edges, ax):\n",
    "    ####Edges\n",
    "    for i in range(len(self.data_edges)):  # range(len(data_edges))\n",
    "        # i = np.random.randint(len(data_edges))\n",
    "        c0 = self.data_edges.Stim.values[i]\n",
    "        c1 = self.data_edges.Chan.values[i]\n",
    "        if (len(self.data_nodes[self.data_nodes.ID == c1]) > 0) & (\n",
    "                len(self.data_nodes[self.data_nodes.ID == c0]) > 0):\n",
    "            r1 = self.data_nodes.loc[self.data_nodes.ID == c0, 'Region'].values[0]\n",
    "            xy0 = self.data_nodes.loc[self.data_nodes.ID == c0, ['x', 'y']].values[0]\n",
    "            xy1 = self.data_nodes.loc[self.data_nodes.ID == c1, ['x', 'y']].values[0]\n",
    "            verts = [xy0,\n",
    "                     ((-1) ** (np.array(self.plot_hem == 'l') * 1) * self.r_nodes / 3, 0),\n",
    "                     xy1,\n",
    "                     ]\n",
    "\n",
    "            X = np.array(verts)\n",
    "            n = 100\n",
    "            tt = np.linspace(0, 1, n)\n",
    "            xx = pf.P(tt, X)\n",
    "\n",
    "            ax.plot(xx[:int(n / 2), 0], xx[:int(n / 2), 1], color=[0, 0, 0], alpha=0.3)\n",
    "            if len(self.circ_areas.loc[self.circ_areas.Area == r1, 'color'].values) > 0:\n",
    "                col = self.circ_areas.loc[self.circ_areas.Area == r1, 'color'].values[0]\n",
    "            else:\n",
    "                col = 'k'\n",
    "            ax.plot(xx[int(n / 2) - 1:, 0], xx[int(n / 2) - 1:, 1], color=col, alpha=0.3)\n",
    "    if self.plot_hem == 'l':\n",
    "        ax.set_xlim([-30, 10])\n",
    "    else:\n",
    "        ax.set_xlim([-10, 30])\n",
    "    ax.set_ylim([-30, 30])\n",
    "    despine(ax)\n",
    "\n",
    "    return ax"
   ]
  }
 ],
 "metadata": {
  "kernelspec": {
   "display_name": "Python 3",
   "language": "python",
   "name": "python3"
  },
  "language_info": {
   "codemirror_mode": {
    "name": "ipython",
    "version": 3
   },
   "file_extension": ".py",
   "mimetype": "text/x-python",
   "name": "python",
   "nbconvert_exporter": "python",
   "pygments_lexer": "ipython3",
   "version": "3.7.9"
  }
 },
 "nbformat": 4,
 "nbformat_minor": 2
}
